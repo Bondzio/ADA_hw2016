{
 "cells": [
  {
   "cell_type": "markdown",
   "metadata": {},
   "source": [
    "# Question 1: Supervised learning - Random Forest\n",
    "\n",
    "In this file we will try to learn a classifier to infer the skin colors of the player, utilizing the *CrowdstormingDataJuly1st.csv* dataset. We will:\n",
    "\n",
    "- Preprocess the dataset so that the attributes are the one we need in the way we want. We will remove some features and we will add some others to obtain better predictions.\n",
    "- We will train the Random Forest classifier with different parameter sets and we will see the results obtained to study the overfitting issue.\n",
    "- We will present the results obtained with cross-validation.\n",
    "- Analysis of the features\\_importantances\\_ parameter\n",
    "- Study if the results change removing some features.\n",
    "\n",
    "BONUS TASK:\n",
    "\n",
    "- Learning curves with different sets of parameters in the cross-validation case.\n",
    "\n",
    "\n",
    "    "
   ]
  },
  {
   "cell_type": "markdown",
   "metadata": {},
   "source": [
    "# BONUS implementation - IMPORTANT\n",
    "The learning curves are implemented in the *training parameters* section. We inserted the bonus tasks in this part to maintain the cronological order of the operations that we did. We found less clear to use a separate section for the Bonus part."
   ]
  },
  {
   "cell_type": "markdown",
   "metadata": {},
   "source": [
    "# Dataset importation\n",
    "At first, we import the dataset in csv format."
   ]
  },
  {
   "cell_type": "code",
   "execution_count": 1,
   "metadata": {
    "collapsed": true
   },
   "outputs": [],
   "source": [
    "import pandas as pd\n",
    "import seaborn as sns\n",
    "import matplotlib.pyplot as plt\n",
    "import numpy as np\n",
    "%matplotlib inline"
   ]
  },
  {
   "cell_type": "code",
   "execution_count": 2,
   "metadata": {
    "collapsed": true
   },
   "outputs": [],
   "source": [
    "from sklearn.ensemble import RandomForestClassifier\n",
    "from sklearn import preprocessing\n",
    "from sklearn.preprocessing import OneHotEncoder\n",
    "from sklearn import metrics\n",
    "from sklearn.cross_validation import train_test_split\n",
    "from sklearn.cross_validation import KFold\n",
    "import time"
   ]
  },
  {
   "cell_type": "code",
   "execution_count": 3,
   "metadata": {
    "collapsed": false
   },
   "outputs": [
    {
     "data": {
      "text/html": [
       "<div>\n",
       "<table border=\"1\" class=\"dataframe\">\n",
       "  <thead>\n",
       "    <tr style=\"text-align: right;\">\n",
       "      <th></th>\n",
       "      <th>playerShort</th>\n",
       "      <th>player</th>\n",
       "      <th>club</th>\n",
       "      <th>leagueCountry</th>\n",
       "      <th>birthday</th>\n",
       "      <th>height</th>\n",
       "      <th>weight</th>\n",
       "      <th>position</th>\n",
       "      <th>games</th>\n",
       "      <th>victories</th>\n",
       "      <th>...</th>\n",
       "      <th>rater2</th>\n",
       "      <th>refNum</th>\n",
       "      <th>refCountry</th>\n",
       "      <th>Alpha_3</th>\n",
       "      <th>meanIAT</th>\n",
       "      <th>nIAT</th>\n",
       "      <th>seIAT</th>\n",
       "      <th>meanExp</th>\n",
       "      <th>nExp</th>\n",
       "      <th>seExp</th>\n",
       "    </tr>\n",
       "  </thead>\n",
       "  <tbody>\n",
       "    <tr>\n",
       "      <th>0</th>\n",
       "      <td>lucas-wilchez</td>\n",
       "      <td>Lucas Wilchez</td>\n",
       "      <td>Real Zaragoza</td>\n",
       "      <td>Spain</td>\n",
       "      <td>31.08.1983</td>\n",
       "      <td>177.0</td>\n",
       "      <td>72.0</td>\n",
       "      <td>Attacking Midfielder</td>\n",
       "      <td>1</td>\n",
       "      <td>0</td>\n",
       "      <td>...</td>\n",
       "      <td>0.50</td>\n",
       "      <td>1</td>\n",
       "      <td>1</td>\n",
       "      <td>GRC</td>\n",
       "      <td>0.326391</td>\n",
       "      <td>712.0</td>\n",
       "      <td>0.000564</td>\n",
       "      <td>0.396000</td>\n",
       "      <td>750.0</td>\n",
       "      <td>0.002696</td>\n",
       "    </tr>\n",
       "    <tr>\n",
       "      <th>1</th>\n",
       "      <td>john-utaka</td>\n",
       "      <td>John Utaka</td>\n",
       "      <td>Montpellier HSC</td>\n",
       "      <td>France</td>\n",
       "      <td>08.01.1982</td>\n",
       "      <td>179.0</td>\n",
       "      <td>82.0</td>\n",
       "      <td>Right Winger</td>\n",
       "      <td>1</td>\n",
       "      <td>0</td>\n",
       "      <td>...</td>\n",
       "      <td>0.75</td>\n",
       "      <td>2</td>\n",
       "      <td>2</td>\n",
       "      <td>ZMB</td>\n",
       "      <td>0.203375</td>\n",
       "      <td>40.0</td>\n",
       "      <td>0.010875</td>\n",
       "      <td>-0.204082</td>\n",
       "      <td>49.0</td>\n",
       "      <td>0.061504</td>\n",
       "    </tr>\n",
       "    <tr>\n",
       "      <th>2</th>\n",
       "      <td>abdon-prats</td>\n",
       "      <td>Abdón Prats</td>\n",
       "      <td>RCD Mallorca</td>\n",
       "      <td>Spain</td>\n",
       "      <td>17.12.1992</td>\n",
       "      <td>181.0</td>\n",
       "      <td>79.0</td>\n",
       "      <td>NaN</td>\n",
       "      <td>1</td>\n",
       "      <td>0</td>\n",
       "      <td>...</td>\n",
       "      <td>NaN</td>\n",
       "      <td>3</td>\n",
       "      <td>3</td>\n",
       "      <td>ESP</td>\n",
       "      <td>0.369894</td>\n",
       "      <td>1785.0</td>\n",
       "      <td>0.000229</td>\n",
       "      <td>0.588297</td>\n",
       "      <td>1897.0</td>\n",
       "      <td>0.001002</td>\n",
       "    </tr>\n",
       "    <tr>\n",
       "      <th>3</th>\n",
       "      <td>pablo-mari</td>\n",
       "      <td>Pablo Marí</td>\n",
       "      <td>RCD Mallorca</td>\n",
       "      <td>Spain</td>\n",
       "      <td>31.08.1993</td>\n",
       "      <td>191.0</td>\n",
       "      <td>87.0</td>\n",
       "      <td>Center Back</td>\n",
       "      <td>1</td>\n",
       "      <td>1</td>\n",
       "      <td>...</td>\n",
       "      <td>NaN</td>\n",
       "      <td>3</td>\n",
       "      <td>3</td>\n",
       "      <td>ESP</td>\n",
       "      <td>0.369894</td>\n",
       "      <td>1785.0</td>\n",
       "      <td>0.000229</td>\n",
       "      <td>0.588297</td>\n",
       "      <td>1897.0</td>\n",
       "      <td>0.001002</td>\n",
       "    </tr>\n",
       "    <tr>\n",
       "      <th>4</th>\n",
       "      <td>ruben-pena</td>\n",
       "      <td>Rubén Peña</td>\n",
       "      <td>Real Valladolid</td>\n",
       "      <td>Spain</td>\n",
       "      <td>18.07.1991</td>\n",
       "      <td>172.0</td>\n",
       "      <td>70.0</td>\n",
       "      <td>Right Midfielder</td>\n",
       "      <td>1</td>\n",
       "      <td>1</td>\n",
       "      <td>...</td>\n",
       "      <td>NaN</td>\n",
       "      <td>3</td>\n",
       "      <td>3</td>\n",
       "      <td>ESP</td>\n",
       "      <td>0.369894</td>\n",
       "      <td>1785.0</td>\n",
       "      <td>0.000229</td>\n",
       "      <td>0.588297</td>\n",
       "      <td>1897.0</td>\n",
       "      <td>0.001002</td>\n",
       "    </tr>\n",
       "  </tbody>\n",
       "</table>\n",
       "<p>5 rows × 28 columns</p>\n",
       "</div>"
      ],
      "text/plain": [
       "     playerShort         player             club leagueCountry    birthday  \\\n",
       "0  lucas-wilchez  Lucas Wilchez    Real Zaragoza         Spain  31.08.1983   \n",
       "1     john-utaka     John Utaka  Montpellier HSC        France  08.01.1982   \n",
       "2    abdon-prats    Abdón Prats     RCD Mallorca         Spain  17.12.1992   \n",
       "3     pablo-mari     Pablo Marí     RCD Mallorca         Spain  31.08.1993   \n",
       "4     ruben-pena     Rubén Peña  Real Valladolid         Spain  18.07.1991   \n",
       "\n",
       "   height  weight              position  games  victories    ...     rater2  \\\n",
       "0   177.0    72.0  Attacking Midfielder      1          0    ...       0.50   \n",
       "1   179.0    82.0          Right Winger      1          0    ...       0.75   \n",
       "2   181.0    79.0                   NaN      1          0    ...        NaN   \n",
       "3   191.0    87.0           Center Back      1          1    ...        NaN   \n",
       "4   172.0    70.0      Right Midfielder      1          1    ...        NaN   \n",
       "\n",
       "   refNum  refCountry  Alpha_3   meanIAT    nIAT     seIAT   meanExp    nExp  \\\n",
       "0       1           1      GRC  0.326391   712.0  0.000564  0.396000   750.0   \n",
       "1       2           2      ZMB  0.203375    40.0  0.010875 -0.204082    49.0   \n",
       "2       3           3      ESP  0.369894  1785.0  0.000229  0.588297  1897.0   \n",
       "3       3           3      ESP  0.369894  1785.0  0.000229  0.588297  1897.0   \n",
       "4       3           3      ESP  0.369894  1785.0  0.000229  0.588297  1897.0   \n",
       "\n",
       "      seExp  \n",
       "0  0.002696  \n",
       "1  0.061504  \n",
       "2  0.001002  \n",
       "3  0.001002  \n",
       "4  0.001002  \n",
       "\n",
       "[5 rows x 28 columns]"
      ]
     },
     "execution_count": 3,
     "metadata": {},
     "output_type": "execute_result"
    }
   ],
   "source": [
    "data = pd.read_csv('CrowdstormingDataJuly1st.csv')\n",
    "data.head()"
   ]
  },
  {
   "cell_type": "markdown",
   "metadata": {},
   "source": [
    "## Eliminating missing data"
   ]
  },
  {
   "cell_type": "markdown",
   "metadata": {},
   "source": [
    "Since some labels are missing, we will only consider the players with both ratings, for the training dataset. We will also see that there are no players with a single rating missing."
   ]
  },
  {
   "cell_type": "code",
   "execution_count": 12,
   "metadata": {
    "collapsed": false
   },
   "outputs": [
    {
     "name": "stdout",
     "output_type": "stream",
     "text": [
      "There are 0 player(s) with a single rating missing.\n",
      "Out of 146028 data entries, we will only consider 124621 of them, i.e. 85.34048264716355% of the entries, because of 21407 entries for which the skin color has not been rated.\n"
     ]
    }
   ],
   "source": [
    "data_one_rater2 = data[data.rater2.isnull() & ~data.rater1.isnull()]\n",
    "data_one_rater1 = data[data.rater1.isnull() & ~data.rater2.isnull()]\n",
    "print('There are '+str(len(data_one_rater2)+len(data_one_rater1))+\n",
    "      ' player(s) with a single rating missing.')\n",
    "print('Out of '+str(data.shape[0])+' data entries, we will only consider '+\n",
    "      str(rater_data.shape[0])+' of them, i.e. '+str(rater_data.shape[0]*\n",
    "                                                        100/data.shape[0])\n",
    "      +'% of the entries, because of '+str(missing_rater_data.shape[0])+\n",
    "      ' entries for which the skin color has not been rated.')"
   ]
  },
  {
   "cell_type": "markdown",
   "metadata": {},
   "source": [
    "# Preprocessing"
   ]
  },
  {
   "cell_type": "markdown",
   "metadata": {},
   "source": [
    "For convenience we splitted the preprocessing part in 2 functions.\n",
    "We will:\n",
    " - Delete the columns photoID, victories, ties, defeats, Alpha_3, club, goals. We suppose that these variables are not correlated with the skin color of the player.\n",
    " - Delete all the rows corresponding to a referee with less than 22 entry (impossible - problem in the dataset)\n",
    " - Remove less significant referee entry (with nIAT and nExp too low). This is done in preprocess_2"
   ]
  },
  {
   "cell_type": "code",
   "execution_count": 54,
   "metadata": {
    "collapsed": false
   },
   "outputs": [],
   "source": [
    "def preprocess_1(database,remove_bad_referee=True,nIAT_threshold=50,nExp_threshold=50):\n",
    "    train=database.copy()\n",
    "    \n",
    "    # Delete unused features\n",
    "    del train['photoID']\n",
    "    del train['victories']\n",
    "    del train['ties']\n",
    "    del train['defeats']\n",
    "    del train['Alpha_3']\n",
    "    del train['club']\n",
    "    del train['goals']\n",
    "\n",
    "    # Remove diads with a referee with less than 22 entries\n",
    "    train_group=train.groupby(train.refNum)\n",
    "    if remove_bad_referee:\n",
    "        for i,group in train_group:\n",
    "            if group.shape[0]<22:\n",
    "                train=train.drop(train_group.get_group(i).index)\n",
    "            if i%500==0:\n",
    "                print(i)\n",
    "    \n",
    "   \n",
    "    return train"
   ]
  },
  {
   "cell_type": "code",
   "execution_count": 55,
   "metadata": {
    "collapsed": false,
    "scrolled": false
   },
   "outputs": [
    {
     "name": "stdout",
     "output_type": "stream",
     "text": [
      "500\n",
      "1000\n",
      "1500\n",
      "2000\n",
      "2500\n",
      "3000\n"
     ]
    }
   ],
   "source": [
    "train_after_prep_1=preprocess_1(rater_data,remove_bad_referee=True)"
   ]
  },
  {
   "cell_type": "code",
   "execution_count": 56,
   "metadata": {
    "collapsed": false
   },
   "outputs": [],
   "source": [
    "def preprocess_2(database,nIAT_threshold=50,nExp_threshold=50):\n",
    "    train=database.copy()\n",
    "    train_group=database.groupby(train.refNum)\n",
    "\n",
    "    for i,group in train_group:\n",
    "        if group.nIAT.iloc[0]<nIAT_threshold or group.nExp.iloc[0]<nExp_threshold:\n",
    "            train=train.drop(train_group.get_group(i).index)\n",
    "        if i%200==0:\n",
    "            print(i)\n",
    "    return train"
   ]
  },
  {
   "cell_type": "code",
   "execution_count": 57,
   "metadata": {
    "collapsed": false,
    "scrolled": true
   },
   "outputs": [
    {
     "name": "stdout",
     "output_type": "stream",
     "text": [
      "1600\n",
      "2400\n",
      "3000\n"
     ]
    }
   ],
   "source": [
    "train_after_prep_2=preprocess_2(train_after_prep_1)"
   ]
  },
  {
   "cell_type": "code",
   "execution_count": 58,
   "metadata": {
    "collapsed": false
   },
   "outputs": [
    {
     "data": {
      "text/plain": [
       "(111533, 21)"
      ]
     },
     "execution_count": 58,
     "metadata": {},
     "output_type": "execute_result"
    }
   ],
   "source": [
    "train_after_prep_2.shape"
   ]
  },
  {
   "cell_type": "code",
   "execution_count": 59,
   "metadata": {
    "collapsed": false,
    "scrolled": true
   },
   "outputs": [
    {
     "data": {
      "text/html": [
       "<div>\n",
       "<table border=\"1\" class=\"dataframe\">\n",
       "  <thead>\n",
       "    <tr style=\"text-align: right;\">\n",
       "      <th></th>\n",
       "      <th>playerShort</th>\n",
       "      <th>player</th>\n",
       "      <th>leagueCountry</th>\n",
       "      <th>birthday</th>\n",
       "      <th>height</th>\n",
       "      <th>weight</th>\n",
       "      <th>position</th>\n",
       "      <th>games</th>\n",
       "      <th>yellowCards</th>\n",
       "      <th>yellowReds</th>\n",
       "      <th>redCards</th>\n",
       "    </tr>\n",
       "  </thead>\n",
       "  <tbody>\n",
       "    <tr>\n",
       "      <th>5</th>\n",
       "      <td>aaron-hughes</td>\n",
       "      <td>Aaron Hughes</td>\n",
       "      <td>England</td>\n",
       "      <td>08.11.1979</td>\n",
       "      <td>182.0</td>\n",
       "      <td>71.0</td>\n",
       "      <td>Center Back</td>\n",
       "      <td>1</td>\n",
       "      <td>0</td>\n",
       "      <td>0</td>\n",
       "      <td>0</td>\n",
       "    </tr>\n",
       "    <tr>\n",
       "      <th>6</th>\n",
       "      <td>aleksandar-kolarov</td>\n",
       "      <td>Aleksandar Kolarov</td>\n",
       "      <td>England</td>\n",
       "      <td>10.11.1985</td>\n",
       "      <td>187.0</td>\n",
       "      <td>80.0</td>\n",
       "      <td>Left Fullback</td>\n",
       "      <td>1</td>\n",
       "      <td>0</td>\n",
       "      <td>0</td>\n",
       "      <td>0</td>\n",
       "    </tr>\n",
       "    <tr>\n",
       "      <th>7</th>\n",
       "      <td>alexander-tettey</td>\n",
       "      <td>Alexander Tettey</td>\n",
       "      <td>England</td>\n",
       "      <td>04.04.1986</td>\n",
       "      <td>180.0</td>\n",
       "      <td>68.0</td>\n",
       "      <td>Defensive Midfielder</td>\n",
       "      <td>1</td>\n",
       "      <td>0</td>\n",
       "      <td>0</td>\n",
       "      <td>0</td>\n",
       "    </tr>\n",
       "  </tbody>\n",
       "</table>\n",
       "</div>"
      ],
      "text/plain": [
       "          playerShort              player leagueCountry    birthday  height  \\\n",
       "5        aaron-hughes        Aaron Hughes       England  08.11.1979   182.0   \n",
       "6  aleksandar-kolarov  Aleksandar Kolarov       England  10.11.1985   187.0   \n",
       "7    alexander-tettey    Alexander Tettey       England  04.04.1986   180.0   \n",
       "\n",
       "   weight              position  games  yellowCards  yellowReds  redCards  \n",
       "5    71.0           Center Back      1            0           0         0  \n",
       "6    80.0         Left Fullback      1            0           0         0  \n",
       "7    68.0  Defensive Midfielder      1            0           0         0  "
      ]
     },
     "execution_count": 59,
     "metadata": {},
     "output_type": "execute_result"
    }
   ],
   "source": [
    "train_after_prep_2.ix[:,:11].head(3)"
   ]
  },
  {
   "cell_type": "code",
   "execution_count": 60,
   "metadata": {
    "collapsed": false
   },
   "outputs": [
    {
     "data": {
      "text/html": [
       "<div>\n",
       "<table border=\"1\" class=\"dataframe\">\n",
       "  <thead>\n",
       "    <tr style=\"text-align: right;\">\n",
       "      <th></th>\n",
       "      <th>rater1</th>\n",
       "      <th>rater2</th>\n",
       "      <th>refNum</th>\n",
       "      <th>refCountry</th>\n",
       "      <th>meanIAT</th>\n",
       "      <th>nIAT</th>\n",
       "      <th>seIAT</th>\n",
       "      <th>meanExp</th>\n",
       "      <th>nExp</th>\n",
       "      <th>seExp</th>\n",
       "    </tr>\n",
       "  </thead>\n",
       "  <tbody>\n",
       "    <tr>\n",
       "      <th>5</th>\n",
       "      <td>0.25</td>\n",
       "      <td>0.00</td>\n",
       "      <td>4</td>\n",
       "      <td>4</td>\n",
       "      <td>0.325185</td>\n",
       "      <td>127.0</td>\n",
       "      <td>0.003297</td>\n",
       "      <td>0.538462</td>\n",
       "      <td>130.0</td>\n",
       "      <td>0.013752</td>\n",
       "    </tr>\n",
       "    <tr>\n",
       "      <th>6</th>\n",
       "      <td>0.00</td>\n",
       "      <td>0.25</td>\n",
       "      <td>4</td>\n",
       "      <td>4</td>\n",
       "      <td>0.325185</td>\n",
       "      <td>127.0</td>\n",
       "      <td>0.003297</td>\n",
       "      <td>0.538462</td>\n",
       "      <td>130.0</td>\n",
       "      <td>0.013752</td>\n",
       "    </tr>\n",
       "    <tr>\n",
       "      <th>7</th>\n",
       "      <td>1.00</td>\n",
       "      <td>1.00</td>\n",
       "      <td>4</td>\n",
       "      <td>4</td>\n",
       "      <td>0.325185</td>\n",
       "      <td>127.0</td>\n",
       "      <td>0.003297</td>\n",
       "      <td>0.538462</td>\n",
       "      <td>130.0</td>\n",
       "      <td>0.013752</td>\n",
       "    </tr>\n",
       "  </tbody>\n",
       "</table>\n",
       "</div>"
      ],
      "text/plain": [
       "   rater1  rater2  refNum  refCountry   meanIAT   nIAT     seIAT   meanExp  \\\n",
       "5    0.25    0.00       4           4  0.325185  127.0  0.003297  0.538462   \n",
       "6    0.00    0.25       4           4  0.325185  127.0  0.003297  0.538462   \n",
       "7    1.00    1.00       4           4  0.325185  127.0  0.003297  0.538462   \n",
       "\n",
       "    nExp     seExp  \n",
       "5  130.0  0.013752  \n",
       "6  130.0  0.013752  \n",
       "7  130.0  0.013752  "
      ]
     },
     "execution_count": 60,
     "metadata": {},
     "output_type": "execute_result"
    }
   ],
   "source": [
    "train_after_prep_2.ix[:,11:].head(3)"
   ]
  },
  {
   "cell_type": "markdown",
   "metadata": {},
   "source": [
    "# Random forest with referee information"
   ]
  },
  {
   "cell_type": "markdown",
   "metadata": {},
   "source": [
    "We trained a Random Forest classifier to predict the player skin color.\n",
    "\n",
    "\n",
    "Operations done:\n",
    " - Keep only the wanted features: ['playerShort','leagueCountry','birthday','height','weight','position','games','club','yellowCards','redCards','yellowReds','meanIAT','meanExp','rater1','rater2']\n",
    " - Fill NaN with median of the columns\n",
    " - Keep only the year of birth (not the date)\n",
    " - Add dummy variables for the categorical variables\n",
    " - Keep one entry for player\n",
    " - Extract y as mean of the rater1 and rater2\n",
    " - y as binary variable -> threshold at 0.3"
   ]
  },
  {
   "cell_type": "markdown",
   "metadata": {},
   "source": [
    "## Train and test split - adding features"
   ]
  },
  {
   "cell_type": "markdown",
   "metadata": {},
   "source": [
    "Features added:\n",
    " - *meanYellowPlayer*: the mean of the yellow cards obtained by each player\n",
    " - *meanYellowPlayerIAT*: the mean of the yellow cards obtained by each player weighted with the IAT statistics of the referee\n",
    " - *meanYellowPlayerExp*: the mean of the yellow cards obtained by each player weighted with the Exp statistics of the referee\n",
    " - *meanYellowRole*: the mean of yellow cards obtained by the player in a particular role\n",
    " - *meanYellowRoleIAT*: the mean of yellow cards obtained by the player in a particular role weighted with the IAT statistics of the referee\n",
    " - *meanYellowRoleExp*: the mean of yellow cards obtained by the player in a particular role weighted with the Exp statistics of the referee\n",
    " - *yellowDifference*: difference between meanYellowPlayer and meanYellowRole\n",
    " - *yellowDifferenceIAT*: difference between meanYellowPlayerIAT and meanYellowRoleIAT\n",
    " - *yellowDifferenceExp*: difference between meanYellowPlayerExp and meanYellowRoleExp\n",
    " \n",
    "I added the same features for red and yellowRed cards \n"
   ]
  },
  {
   "cell_type": "markdown",
   "metadata": {},
   "source": [
    "Dummy features:\n",
    "- leagueCountry\n",
    "- position"
   ]
  },
  {
   "cell_type": "markdown",
   "metadata": {},
   "source": [
    "Binary y:\n",
    "- it makes easier to check for errors.\n",
    "- threshold set at 0.3 to balance better the classes."
   ]
  },
  {
   "cell_type": "markdown",
   "metadata": {},
   "source": [
    "The function _add\\_mean\\_player()_ adds the mean of the player features.\n",
    "The function _add\\_mean\\_player()_ adds the mean of yellow/red/yellowReds cards for each role."
   ]
  },
  {
   "cell_type": "code",
   "execution_count": 29,
   "metadata": {
    "collapsed": true
   },
   "outputs": [],
   "source": [
    "def add_mean_player(x):\n",
    "    x_games=sum(x.games)\n",
    "    x['meanYellowPlayer']=sum(x.yellowCards)/x_games\n",
    "    x['meanRedPlayer']=sum(x.redCards)/x_games\n",
    "    x['meanYellowRedPlayer']=sum(x.yellowReds)/x_games\n",
    "    \n",
    "    x['meanYellowPlayerIAT']=sum(x.yellowCards*x.meanIAT)/x_games\n",
    "    x['meanRedPlayerIAT']=sum(x.redCards*x.meanIAT)/x_games\n",
    "    x['meanYellowRedPlayerIAT']=sum(x.yellowReds*x.meanIAT)/x_games\n",
    "    \n",
    "    x['meanYellowPlayerExp']=sum(x.yellowCards*x.meanExp)/x_games\n",
    "    x['meanRedPlayerExp']=sum(x.redCards*x.meanExp)/x_games\n",
    "    x['meanYellowRedPlayerExp']=sum(x.yellowReds*x.meanExp)/x_games\n",
    "    \n",
    "    return x"
   ]
  },
  {
   "cell_type": "code",
   "execution_count": 30,
   "metadata": {
    "collapsed": false
   },
   "outputs": [],
   "source": [
    "def add_mean_role(x,train_database_grouped=False,is_train=True):\n",
    "    if is_train:\n",
    "        \n",
    "        x['meanYellowRole']=sum(x.yellowCards)/sum(x.games)\n",
    "        x['meanRedRole']=sum(x.redCards)/sum(x.games)\n",
    "        x['meanYellowRedRole']=sum(x.yellowReds)/sum(x.games)\n",
    "\n",
    "        x['meanYellowRoleIAT']=sum(x.yellowCards*x.meanIAT)/sum(x.games)\n",
    "        x['meanRedRoleIAT']=sum(x.redCards*x.meanIAT)/sum(x.games)\n",
    "        x['meanYellowRedRoleIAT']=sum(x.yellowReds*x.meanIAT)/sum(x.games)\n",
    "\n",
    "        x['meanYellowRoleExp']=sum(x.yellowCards*x.meanExp)/sum(x.games)\n",
    "        x['meanRedRoleExp']=sum(x.redCards*x.meanExp)/sum(x.games)\n",
    "        x['meanYellowRedRoleExp']=sum(x.yellowReds*x.meanExp)/sum(x.games)\n",
    "    else:\n",
    "        position=x.position.iloc[0]\n",
    "        leagueCountry=x.leagueCountry.iloc[0]\n",
    "        group=train_database_grouped.loc[position]\n",
    "        x['meanYellowRole']=group.loc['meanYellowRole']\n",
    "        x['meanRedRole']=group.loc['meanRedRole']\n",
    "        x['meanYellowRedRole']=group.loc['meanYellowRedRole']\n",
    "\n",
    "        x['meanYellowRoleIAT']=group.loc['meanYellowRoleIAT']\n",
    "        x['meanRedRoleIAT']=group.loc['meanRedRoleIAT']\n",
    "        x['meanYellowRedRoleIAT']=group.loc['meanYellowRedRoleIAT']\n",
    "\n",
    "        x['meanYellowRoleExp']=group.loc['meanYellowRoleExp']\n",
    "        x['meanRedRoleExp']=group.loc['meanRedRoleExp']\n",
    "        x['meanYellowRedRoleExp']=group.loc['meanYellowRedRoleExp']\n",
    "    return x"
   ]
  },
  {
   "cell_type": "markdown",
   "metadata": {},
   "source": [
    "The following features are eliminated since there should be no correlation with the player skin color"
   ]
  },
  {
   "cell_type": "code",
   "execution_count": 62,
   "metadata": {
    "collapsed": true
   },
   "outputs": [],
   "source": [
    "features_to_eliminate=['games', 'yellowCards', 'redCards',\n",
    "       'yellowReds', 'meanIAT', 'meanExp', 'meanYellowRole',\n",
    "       'meanRedRole', 'meanYellowRedRole', 'meanYellowRoleIAT',\n",
    "       'meanRedRoleIAT', 'meanYellowRedRoleIAT', 'meanYellowRoleExp',\n",
    "       'meanRedRoleExp', 'meanYellowRedRoleExp']"
   ]
  },
  {
   "cell_type": "markdown",
   "metadata": {},
   "source": [
    "The _process\\_database()_ function, given the starting database, returns the split in train and test and adds the previously described features.\n",
    "\n",
    "This function *has to be called* at each evaluation: some added features are database dependents (like the mean of the role ones)."
   ]
  },
  {
   "cell_type": "code",
   "execution_count": 66,
   "metadata": {
    "collapsed": false
   },
   "outputs": [],
   "source": [
    "def process_database(starting_database,train_indexes=True,test=False,binary_y=False):\n",
    "    ''' Function that takes the preprocessed database and outputs train, test and y\n",
    "        @ params:\n",
    "            starting_database - the preprocessed database\n",
    "            train_indexes - the indexes of the player to be inserted in the training \n",
    "                            (the PLAYER INDEXES, not the indexes of the full database)\n",
    "            test - if considering also a test matrix\n",
    "            binary_y - if considering a binary (0-1) y\n",
    "                            \n",
    "        @ returns:\n",
    "            train\n",
    "            test\n",
    "            y\n",
    "    '''\n",
    "    \n",
    "    \n",
    "    number_of_players=len(starting_database.playerShort.value_counts())\n",
    "    if test==False:\n",
    "        train_indexes=np.range(starting_database.shape[0])\n",
    "        test_indexes=[]\n",
    "    else:\n",
    "        small_database=starting_database.groupby('playerShort').mean()\n",
    "        small_database=small_database.iloc[train_indexes]\n",
    "        train_indexes=np.array(starting_database[starting_database.playerShort.isin(small_database.index)].index)\n",
    "        test_indexes=np.array(starting_database.index)\n",
    "        test_indexes=np.setdiff1d(test_indexes,train_indexes)\n",
    "    t1=time.time()\n",
    "    \n",
    "    # Keep only wanted features - remove nan\n",
    "    database=starting_database[['playerShort','leagueCountry','birthday','height','weight','position','games','yellowCards','redCards','yellowReds','meanIAT','meanExp','rater1','rater2']]\n",
    "    database.is_copy=False\n",
    "    database.position.fillna('nan',inplace=True)\n",
    "    database.leagueCountry.fillna('nan',inplace=True)\n",
    "    \n",
    "    database=database.fillna(database.loc[train_indexes].median())\n",
    "\n",
    "    # Process birthday to keep only the year\n",
    "    database.birthday=database.birthday.apply(lambda x: int(x.split('.')[2]))\n",
    "    \n",
    "    # Add features - mean yellow cards per match of each player and the same quantity weighted with IAT and Exp\n",
    "    database=database.groupby('playerShort').apply(add_mean_player)\n",
    "\n",
    "    # Add features - mean yellow cards per role (also the weighted quantity)\n",
    "    train_grouped=database.loc[train_indexes].groupby(['position']).apply(add_mean_role)\n",
    "    train_grouped=train_grouped.groupby(['position']).first()\n",
    "    database=database.groupby(['position']).apply(lambda x: add_mean_role(x,train_grouped,False))\n",
    "\n",
    "    # Difference of added features \n",
    "    database['yellowDifference']=database.meanYellowPlayer-database.meanYellowRole\n",
    "    database['redDifference']=database.meanRedPlayer-database.meanRedRole\n",
    "    database['yellowRedDifference']=database.meanYellowRedPlayer-database.meanYellowRedRole\n",
    "    \n",
    "    database['yellowDifferenceIAT']=database.meanYellowPlayerIAT-database.meanYellowRoleIAT\n",
    "    database['redDifferenceIAT']=database.meanRedPlayerIAT-database.meanRedRoleIAT\n",
    "    database['yellowRedDifferenceIAT']=database.meanYellowRedPlayerIAT-database.meanYellowRedRoleIAT\n",
    "    \n",
    "    database['yellowDifferenceExp']=database.meanYellowPlayerExp-database.meanYellowRoleExp\n",
    "    database['redDifferenceExp']=database.meanRedPlayerExp-database.meanRedRoleExp\n",
    "    database['yellowRedDifferenceExp']=database.meanYellowRedPlayerExp-database.meanYellowRedRoleExp\n",
    "    \n",
    "    # Dummy variables\n",
    "    dummy_variables=pd.get_dummies(database[['position','leagueCountry']])\n",
    "    database=pd.concat([database,dummy_variables],axis=1)\n",
    "    del database['leagueCountry']\n",
    "    del database['position']\n",
    "    \n",
    "    # Split train e test\n",
    "    train=database.loc[train_indexes]\n",
    "    test=database.loc[test_indexes]\n",
    "    \n",
    "    # Extract one row per player\n",
    "    train=train.groupby('playerShort').mean()\n",
    "    test=test.groupby('playerShort').mean()\n",
    "    \n",
    "    # Get y and delete the columns in the train\n",
    "    y_train=(train['rater1']+train['rater2'])/2\n",
    "    y_test=(test['rater1']+test['rater2'])/2\n",
    "    del train['rater1']\n",
    "    del train['rater2']\n",
    "    del test['rater1']\n",
    "    del test['rater2']\n",
    "    train=train.drop(features_to_eliminate,axis=1)\n",
    "    test=test.drop(features_to_eliminate,axis=1)\n",
    "\n",
    "    \n",
    "    # y assumes only 0-1 values\n",
    "    if binary_y:\n",
    "        y_train=1*(y_train>0.3)\n",
    "        y_test=1*(y_test>0.3)\n",
    "    return train,test,y_train,y_test"
   ]
  },
  {
   "cell_type": "markdown",
   "metadata": {},
   "source": [
    "### Splitting in training and test database"
   ]
  },
  {
   "cell_type": "markdown",
   "metadata": {},
   "source": [
    "We define the training and test database for the following analysis"
   ]
  },
  {
   "cell_type": "code",
   "execution_count": 67,
   "metadata": {
    "collapsed": true
   },
   "outputs": [],
   "source": [
    "number_of_players=len(train_after_prep_2.playerShort.value_counts())"
   ]
  },
  {
   "cell_type": "code",
   "execution_count": 68,
   "metadata": {
    "collapsed": false
   },
   "outputs": [],
   "source": [
    "X_train, X_test, y_train, y_test = process_database(train_after_prep_2,train_indexes=np.random.randint(number_of_players,size=1000),test=True,binary_y=True)"
   ]
  },
  {
   "cell_type": "code",
   "execution_count": 73,
   "metadata": {
    "collapsed": false
   },
   "outputs": [
    {
     "data": {
      "text/html": [
       "<div>\n",
       "<table border=\"1\" class=\"dataframe\">\n",
       "  <thead>\n",
       "    <tr style=\"text-align: right;\">\n",
       "      <th></th>\n",
       "      <th>birthday</th>\n",
       "      <th>height</th>\n",
       "      <th>weight</th>\n",
       "      <th>meanYellowPlayer</th>\n",
       "      <th>meanRedPlayer</th>\n",
       "      <th>meanYellowRedPlayer</th>\n",
       "      <th>meanYellowPlayerIAT</th>\n",
       "      <th>meanRedPlayerIAT</th>\n",
       "      <th>meanYellowRedPlayerIAT</th>\n",
       "      <th>meanYellowPlayerExp</th>\n",
       "      <th>meanRedPlayerExp</th>\n",
       "      <th>meanYellowRedPlayerExp</th>\n",
       "      <th>yellowDifference</th>\n",
       "      <th>redDifference</th>\n",
       "      <th>yellowRedDifference</th>\n",
       "      <th>yellowDifferenceIAT</th>\n",
       "      <th>redDifferenceIAT</th>\n",
       "      <th>yellowRedDifferenceIAT</th>\n",
       "      <th>yellowDifferenceExp</th>\n",
       "    </tr>\n",
       "    <tr>\n",
       "      <th>playerShort</th>\n",
       "      <th></th>\n",
       "      <th></th>\n",
       "      <th></th>\n",
       "      <th></th>\n",
       "      <th></th>\n",
       "      <th></th>\n",
       "      <th></th>\n",
       "      <th></th>\n",
       "      <th></th>\n",
       "      <th></th>\n",
       "      <th></th>\n",
       "      <th></th>\n",
       "      <th></th>\n",
       "      <th></th>\n",
       "      <th></th>\n",
       "      <th></th>\n",
       "      <th></th>\n",
       "      <th></th>\n",
       "      <th></th>\n",
       "    </tr>\n",
       "  </thead>\n",
       "  <tbody>\n",
       "    <tr>\n",
       "      <th>aaron-hughes</th>\n",
       "      <td>1979.0</td>\n",
       "      <td>182.0</td>\n",
       "      <td>71.0</td>\n",
       "      <td>0.029921</td>\n",
       "      <td>0.000000</td>\n",
       "      <td>0.0</td>\n",
       "      <td>0.010111</td>\n",
       "      <td>0.000000</td>\n",
       "      <td>0.0</td>\n",
       "      <td>0.012962</td>\n",
       "      <td>0.000000</td>\n",
       "      <td>0.0</td>\n",
       "      <td>-0.130849</td>\n",
       "      <td>-0.006618</td>\n",
       "      <td>-0.005597</td>\n",
       "      <td>-0.045585</td>\n",
       "      <td>-0.002284</td>\n",
       "      <td>-0.001955</td>\n",
       "      <td>-0.058213</td>\n",
       "    </tr>\n",
       "    <tr>\n",
       "      <th>aaron-hunt</th>\n",
       "      <td>1986.0</td>\n",
       "      <td>183.0</td>\n",
       "      <td>73.0</td>\n",
       "      <td>0.118902</td>\n",
       "      <td>0.003049</td>\n",
       "      <td>0.0</td>\n",
       "      <td>0.040745</td>\n",
       "      <td>0.001026</td>\n",
       "      <td>0.0</td>\n",
       "      <td>0.046527</td>\n",
       "      <td>0.001024</td>\n",
       "      <td>0.0</td>\n",
       "      <td>-0.001654</td>\n",
       "      <td>0.000872</td>\n",
       "      <td>-0.002506</td>\n",
       "      <td>-0.001086</td>\n",
       "      <td>0.000269</td>\n",
       "      <td>-0.000861</td>\n",
       "      <td>-0.006225</td>\n",
       "    </tr>\n",
       "    <tr>\n",
       "      <th>aaron-ramsey</th>\n",
       "      <td>1990.0</td>\n",
       "      <td>178.0</td>\n",
       "      <td>76.0</td>\n",
       "      <td>0.123016</td>\n",
       "      <td>0.003968</td>\n",
       "      <td>0.0</td>\n",
       "      <td>0.041517</td>\n",
       "      <td>0.001328</td>\n",
       "      <td>0.0</td>\n",
       "      <td>0.052823</td>\n",
       "      <td>0.001334</td>\n",
       "      <td>0.0</td>\n",
       "      <td>-0.035500</td>\n",
       "      <td>-0.000171</td>\n",
       "      <td>-0.004293</td>\n",
       "      <td>-0.012967</td>\n",
       "      <td>-0.000091</td>\n",
       "      <td>-0.001513</td>\n",
       "      <td>-0.015476</td>\n",
       "    </tr>\n",
       "  </tbody>\n",
       "</table>\n",
       "</div>"
      ],
      "text/plain": [
       "              birthday  height  weight  meanYellowPlayer  meanRedPlayer  \\\n",
       "playerShort                                                               \n",
       "aaron-hughes    1979.0   182.0    71.0          0.029921       0.000000   \n",
       "aaron-hunt      1986.0   183.0    73.0          0.118902       0.003049   \n",
       "aaron-ramsey    1990.0   178.0    76.0          0.123016       0.003968   \n",
       "\n",
       "              meanYellowRedPlayer  meanYellowPlayerIAT  meanRedPlayerIAT  \\\n",
       "playerShort                                                                \n",
       "aaron-hughes                  0.0             0.010111          0.000000   \n",
       "aaron-hunt                    0.0             0.040745          0.001026   \n",
       "aaron-ramsey                  0.0             0.041517          0.001328   \n",
       "\n",
       "              meanYellowRedPlayerIAT  meanYellowPlayerExp  meanRedPlayerExp  \\\n",
       "playerShort                                                                   \n",
       "aaron-hughes                     0.0             0.012962          0.000000   \n",
       "aaron-hunt                       0.0             0.046527          0.001024   \n",
       "aaron-ramsey                     0.0             0.052823          0.001334   \n",
       "\n",
       "              meanYellowRedPlayerExp  yellowDifference  redDifference  \\\n",
       "playerShort                                                             \n",
       "aaron-hughes                     0.0         -0.130849      -0.006618   \n",
       "aaron-hunt                       0.0         -0.001654       0.000872   \n",
       "aaron-ramsey                     0.0         -0.035500      -0.000171   \n",
       "\n",
       "              yellowRedDifference  yellowDifferenceIAT  redDifferenceIAT  \\\n",
       "playerShort                                                                \n",
       "aaron-hughes            -0.005597            -0.045585         -0.002284   \n",
       "aaron-hunt              -0.002506            -0.001086          0.000269   \n",
       "aaron-ramsey            -0.004293            -0.012967         -0.000091   \n",
       "\n",
       "              yellowRedDifferenceIAT  yellowDifferenceExp  \n",
       "playerShort                                                \n",
       "aaron-hughes               -0.001955            -0.058213  \n",
       "aaron-hunt                 -0.000861            -0.006225  \n",
       "aaron-ramsey               -0.001513            -0.015476  "
      ]
     },
     "execution_count": 73,
     "metadata": {},
     "output_type": "execute_result"
    }
   ],
   "source": [
    "X_train.ix[:,:19].head(3)"
   ]
  },
  {
   "cell_type": "code",
   "execution_count": 74,
   "metadata": {
    "collapsed": false
   },
   "outputs": [
    {
     "data": {
      "text/html": [
       "<div>\n",
       "<table border=\"1\" class=\"dataframe\">\n",
       "  <thead>\n",
       "    <tr style=\"text-align: right;\">\n",
       "      <th></th>\n",
       "      <th>redDifferenceExp</th>\n",
       "      <th>yellowRedDifferenceExp</th>\n",
       "      <th>position_Attacking Midfielder</th>\n",
       "      <th>position_Center Back</th>\n",
       "      <th>position_Center Forward</th>\n",
       "      <th>position_Center Midfielder</th>\n",
       "      <th>position_Defensive Midfielder</th>\n",
       "      <th>position_Goalkeeper</th>\n",
       "      <th>position_Left Fullback</th>\n",
       "      <th>position_Left Midfielder</th>\n",
       "      <th>position_Left Winger</th>\n",
       "      <th>position_Right Fullback</th>\n",
       "      <th>position_Right Midfielder</th>\n",
       "      <th>position_Right Winger</th>\n",
       "      <th>position_nan</th>\n",
       "      <th>leagueCountry_England</th>\n",
       "      <th>leagueCountry_France</th>\n",
       "      <th>leagueCountry_Germany</th>\n",
       "      <th>leagueCountry_Spain</th>\n",
       "    </tr>\n",
       "    <tr>\n",
       "      <th>playerShort</th>\n",
       "      <th></th>\n",
       "      <th></th>\n",
       "      <th></th>\n",
       "      <th></th>\n",
       "      <th></th>\n",
       "      <th></th>\n",
       "      <th></th>\n",
       "      <th></th>\n",
       "      <th></th>\n",
       "      <th></th>\n",
       "      <th></th>\n",
       "      <th></th>\n",
       "      <th></th>\n",
       "      <th></th>\n",
       "      <th></th>\n",
       "      <th></th>\n",
       "      <th></th>\n",
       "      <th></th>\n",
       "      <th></th>\n",
       "    </tr>\n",
       "  </thead>\n",
       "  <tbody>\n",
       "    <tr>\n",
       "      <th>aaron-hughes</th>\n",
       "      <td>-0.002876</td>\n",
       "      <td>-0.002547</td>\n",
       "      <td>0.0</td>\n",
       "      <td>1.0</td>\n",
       "      <td>0.0</td>\n",
       "      <td>0.0</td>\n",
       "      <td>0.0</td>\n",
       "      <td>0.0</td>\n",
       "      <td>0.0</td>\n",
       "      <td>0.0</td>\n",
       "      <td>0.0</td>\n",
       "      <td>0.0</td>\n",
       "      <td>0.0</td>\n",
       "      <td>0.0</td>\n",
       "      <td>0.0</td>\n",
       "      <td>1.0</td>\n",
       "      <td>0.0</td>\n",
       "      <td>0.0</td>\n",
       "      <td>0.0</td>\n",
       "    </tr>\n",
       "    <tr>\n",
       "      <th>aaron-hunt</th>\n",
       "      <td>0.000078</td>\n",
       "      <td>-0.001088</td>\n",
       "      <td>1.0</td>\n",
       "      <td>0.0</td>\n",
       "      <td>0.0</td>\n",
       "      <td>0.0</td>\n",
       "      <td>0.0</td>\n",
       "      <td>0.0</td>\n",
       "      <td>0.0</td>\n",
       "      <td>0.0</td>\n",
       "      <td>0.0</td>\n",
       "      <td>0.0</td>\n",
       "      <td>0.0</td>\n",
       "      <td>0.0</td>\n",
       "      <td>0.0</td>\n",
       "      <td>0.0</td>\n",
       "      <td>0.0</td>\n",
       "      <td>1.0</td>\n",
       "      <td>0.0</td>\n",
       "    </tr>\n",
       "    <tr>\n",
       "      <th>aaron-ramsey</th>\n",
       "      <td>-0.000384</td>\n",
       "      <td>-0.002018</td>\n",
       "      <td>0.0</td>\n",
       "      <td>0.0</td>\n",
       "      <td>0.0</td>\n",
       "      <td>1.0</td>\n",
       "      <td>0.0</td>\n",
       "      <td>0.0</td>\n",
       "      <td>0.0</td>\n",
       "      <td>0.0</td>\n",
       "      <td>0.0</td>\n",
       "      <td>0.0</td>\n",
       "      <td>0.0</td>\n",
       "      <td>0.0</td>\n",
       "      <td>0.0</td>\n",
       "      <td>1.0</td>\n",
       "      <td>0.0</td>\n",
       "      <td>0.0</td>\n",
       "      <td>0.0</td>\n",
       "    </tr>\n",
       "  </tbody>\n",
       "</table>\n",
       "</div>"
      ],
      "text/plain": [
       "              redDifferenceExp  yellowRedDifferenceExp  \\\n",
       "playerShort                                              \n",
       "aaron-hughes         -0.002876               -0.002547   \n",
       "aaron-hunt            0.000078               -0.001088   \n",
       "aaron-ramsey         -0.000384               -0.002018   \n",
       "\n",
       "              position_Attacking Midfielder  position_Center Back  \\\n",
       "playerShort                                                         \n",
       "aaron-hughes                            0.0                   1.0   \n",
       "aaron-hunt                              1.0                   0.0   \n",
       "aaron-ramsey                            0.0                   0.0   \n",
       "\n",
       "              position_Center Forward  position_Center Midfielder  \\\n",
       "playerShort                                                         \n",
       "aaron-hughes                      0.0                         0.0   \n",
       "aaron-hunt                        0.0                         0.0   \n",
       "aaron-ramsey                      0.0                         1.0   \n",
       "\n",
       "              position_Defensive Midfielder  position_Goalkeeper  \\\n",
       "playerShort                                                        \n",
       "aaron-hughes                            0.0                  0.0   \n",
       "aaron-hunt                              0.0                  0.0   \n",
       "aaron-ramsey                            0.0                  0.0   \n",
       "\n",
       "              position_Left Fullback  position_Left Midfielder  \\\n",
       "playerShort                                                      \n",
       "aaron-hughes                     0.0                       0.0   \n",
       "aaron-hunt                       0.0                       0.0   \n",
       "aaron-ramsey                     0.0                       0.0   \n",
       "\n",
       "              position_Left Winger  position_Right Fullback  \\\n",
       "playerShort                                                   \n",
       "aaron-hughes                   0.0                      0.0   \n",
       "aaron-hunt                     0.0                      0.0   \n",
       "aaron-ramsey                   0.0                      0.0   \n",
       "\n",
       "              position_Right Midfielder  position_Right Winger  position_nan  \\\n",
       "playerShort                                                                    \n",
       "aaron-hughes                        0.0                    0.0           0.0   \n",
       "aaron-hunt                          0.0                    0.0           0.0   \n",
       "aaron-ramsey                        0.0                    0.0           0.0   \n",
       "\n",
       "              leagueCountry_England  leagueCountry_France  \\\n",
       "playerShort                                                 \n",
       "aaron-hughes                    1.0                   0.0   \n",
       "aaron-hunt                      0.0                   0.0   \n",
       "aaron-ramsey                    1.0                   0.0   \n",
       "\n",
       "              leagueCountry_Germany  leagueCountry_Spain  \n",
       "playerShort                                               \n",
       "aaron-hughes                    0.0                  0.0  \n",
       "aaron-hunt                      1.0                  0.0  \n",
       "aaron-ramsey                    0.0                  0.0  "
      ]
     },
     "execution_count": 74,
     "metadata": {},
     "output_type": "execute_result"
    }
   ],
   "source": [
    "X_train.ix[:,19:].head(3)"
   ]
  },
  {
   "cell_type": "markdown",
   "metadata": {},
   "source": [
    "## Classification function"
   ]
  },
  {
   "cell_type": "markdown",
   "metadata": {},
   "source": [
    "Given the train and test database, this function train a Random Forest classifier on the training set and evaluates it on the testing set.\n",
    "It returns the zero one loss of the classifier evaluated on the testing database"
   ]
  },
  {
   "cell_type": "code",
   "execution_count": 101,
   "metadata": {
    "collapsed": false
   },
   "outputs": [],
   "source": [
    "def evaluate_random_forest_model(X_train,X_test,y_train,y_test,n_estimators=10,criterion='gini',\n",
    "                                max_depth=None,min_samples_split=2, min_samples_leaf=1, \n",
    "              min_weight_fraction_leaf=0.0, max_features='auto', max_leaf_nodes=None, \n",
    "              bootstrap=True, oob_score=False, n_jobs=1, random_state=None, \n",
    "              verbose=0, warm_start=False, class_weight=None):\n",
    "    ''' \n",
    "        @ params:\n",
    "            - X_train, training database\n",
    "            - X_test, testing database\n",
    "            - y_train, y_test, the output for the training and test database\n",
    "            - the others, the parameters for the Random Forest classifier.\n",
    "        @ returns:\n",
    "            - the zero one loss of the classifier evaluated on the testing database\n",
    "    '''\n",
    "    \n",
    "    rfc = RandomForestClassifier(n_estimators=n_estimators,criterion=criterion,\n",
    "                                max_depth=max_depth,min_samples_split=min_samples_split, \n",
    "                                                       min_samples_leaf=min_samples_leaf, \n",
    "                                                       min_weight_fraction_leaf=min_weight_fraction_leaf, \n",
    "                                                       max_features=max_features, max_leaf_nodes=max_leaf_nodes, \n",
    "                                                       bootstrap=bootstrap, \n",
    "                                                       oob_score=oob_score, n_jobs=n_jobs, random_state=random_state, \n",
    "                                                       verbose=verbose, warm_start=warm_start, \n",
    "                                                       class_weight=class_weight)\n",
    "    sample_weight=np.array([2.1 if i == 0 else 1 for i in y_train])\n",
    "    rfc.fit(X_train,np.asarray(y_train, dtype=\"|S6\"),sample_weight=sample_weight)\n",
    "    y_out=rfc.predict(X_test)\n",
    "    y_out=np.asarray(y_out,float)\n",
    "#     print(metrics.confusion_matrix(y_out,y_test))\n",
    "    return metrics.zero_one_loss(y_out,y_test)"
   ]
  },
  {
   "cell_type": "markdown",
   "metadata": {},
   "source": [
    "## Overfitting\n",
    "We present the overfitting issue with the default parameter of the Random Forest classifier."
   ]
  },
  {
   "cell_type": "code",
   "execution_count": 102,
   "metadata": {
    "collapsed": false
   },
   "outputs": [
    {
     "data": {
      "text/plain": [
       "0.28150765606595995"
      ]
     },
     "execution_count": 102,
     "metadata": {},
     "output_type": "execute_result"
    }
   ],
   "source": [
    "sum(y_test==1)/len(y_test)"
   ]
  },
  {
   "cell_type": "code",
   "execution_count": 110,
   "metadata": {
    "collapsed": false,
    "scrolled": true
   },
   "outputs": [
    {
     "name": "stdout",
     "output_type": "stream",
     "text": [
      "The percentage of errors in the test dataset with the model trained in the train dataset is: 0.299175500589\n",
      "The percentage of errors in the train dataset with the model trained in the train dataset is: 0.0285714285714\n"
     ]
    }
   ],
   "source": [
    "error_test=evaluate_random_forest_model(X_train,X_test,y_train,y_test)\n",
    "error_train=evaluate_random_forest_model(X_train,X_train,y_train,y_train)\n",
    "print('The percentage of errors in the test dataset with the model trained in the train dataset is:',error_test)\n",
    "print('The percentage of errors in the train dataset with the model trained in the train dataset is:',error_train)"
   ]
  },
  {
   "cell_type": "markdown",
   "metadata": {
    "collapsed": false,
    "scrolled": true
   },
   "source": [
    "As you can see the difference is very high: with the default parameters the model strongly overfit in the training dataset."
   ]
  },
  {
   "cell_type": "markdown",
   "metadata": {},
   "source": [
    "## Parameter variation to estimate overfitting"
   ]
  },
  {
   "cell_type": "markdown",
   "metadata": {},
   "source": [
    "In this section we will plot learning curves to show how the overfitting issue varies with different parameters.\n",
    "We study 2 parameters:\n",
    "- max\\_depth\n",
    "- n\\_estimators\n",
    "\n",
    "As you can see, with a lower max_depth than the default the overfitting is less pronounced (it actually becomes 0 with very low values).\n",
    "\n",
    "For the n_estimators parameter, instead, it does not vary significantly."
   ]
  },
  {
   "cell_type": "code",
   "execution_count": 105,
   "metadata": {
    "collapsed": false
   },
   "outputs": [],
   "source": [
    "plt.rcParams['figure.figsize'] = (10.0, 8.0)\n"
   ]
  },
  {
   "cell_type": "markdown",
   "metadata": {},
   "source": [
    "### max_depth analysis"
   ]
  },
  {
   "cell_type": "code",
   "execution_count": 108,
   "metadata": {
    "collapsed": false,
    "scrolled": true
   },
   "outputs": [],
   "source": [
    "error_train=[]\n",
    "error_test=[]\n",
    "for i in range(1,20):\n",
    "    error_test.append(evaluate_random_forest_model(X_train,X_test,y_train,y_test,max_depth=i))\n",
    "    error_train.append(evaluate_random_forest_model(X_train,X_train,y_train,y_train,max_depth=i))\n"
   ]
  },
  {
   "cell_type": "code",
   "execution_count": 109,
   "metadata": {
    "collapsed": false,
    "scrolled": false
   },
   "outputs": [
    {
     "data": {
      "text/plain": [
       "<matplotlib.text.Text at 0x7fdf617792b0>"
      ]
     },
     "execution_count": 109,
     "metadata": {},
     "output_type": "execute_result"
    },
    {
     "data": {
      "image/png": "[encoded data removed]",
      "text/plain": [
       "<matplotlib.figure.Figure at 0x7fdf62dbe3c8>"
      ]
     },
     "metadata": {},
     "output_type": "display_data"
    }
   ],
   "source": [
    "plt.plot(range(1,20),error_test)\n",
    "plt.plot(range(1,20),error_train)\n",
    "plt.legend(['test_error','train_error'])\n",
    "plt.title('Error with different max_depth')\n",
    "plt.xlabel('max_depth')\n",
    "plt.ylabel('mean square error')"
   ]
  },
  {
   "cell_type": "markdown",
   "metadata": {},
   "source": [
    "### n_estimators analysis"
   ]
  },
  {
   "cell_type": "code",
   "execution_count": 111,
   "metadata": {
    "collapsed": false
   },
   "outputs": [],
   "source": [
    "error_train=[]\n",
    "error_test=[]\n",
    "for i in range(1,40):\n",
    "    error_test.append(evaluate_random_forest_model(X_train,X_test,y_train,y_test,n_estimators=i))\n",
    "    error_train.append(evaluate_random_forest_model(X_train,X_train,y_train,y_train,n_estimators=i))\n"
   ]
  },
  {
   "cell_type": "code",
   "execution_count": 112,
   "metadata": {
    "collapsed": false
   },
   "outputs": [
    {
     "data": {
      "text/plain": [
       "<matplotlib.text.Text at 0x7fdf617f7710>"
      ]
     },
     "execution_count": 112,
     "metadata": {},
     "output_type": "execute_result"
    },
    {
     "data": {
      "image/png": "[encoded data removed]",
      "text/plain": [
       "<matplotlib.figure.Figure at 0x7fdf617770f0>"
      ]
     },
     "metadata": {},
     "output_type": "display_data"
    }
   ],
   "source": [
    "plt.plot(range(1,40),error_test)\n",
    "plt.plot(range(1,40),error_train)\n",
    "plt.legend(['test_error','train_error'])\n",
    "plt.title('Error with different n_estimators')\n",
    "plt.xlabel('n_estimators')\n",
    "plt.ylabel('mean square error')"
   ]
  },
  {
   "cell_type": "markdown",
   "metadata": {},
   "source": [
    "## Cross validation"
   ]
  },
  {
   "cell_type": "markdown",
   "metadata": {},
   "source": [
    "We introduced cross validation to get more precise results.\n",
    "We chosed n_folds=20.\n",
    "\n",
    "We used cross validation mainly to get a more accurate model. In particular "
   ]
  },
  {
   "cell_type": "code",
   "execution_count": 127,
   "metadata": {
    "collapsed": false
   },
   "outputs": [],
   "source": [
    "kf = KFold(X_train.shape[0]+X_test.shape[0], n_folds=20, shuffle=True)"
   ]
  },
  {
   "cell_type": "code",
   "execution_count": 134,
   "metadata": {
    "collapsed": false
   },
   "outputs": [],
   "source": [
    "def cross_val(database,n_estimators=10,criterion='gini',\n",
    "                                max_depth=None,min_samples_split=2, min_samples_leaf=1, \n",
    "              min_weight_fraction_leaf=0.0, max_features='auto', max_leaf_nodes=None, \n",
    "              bootstrap=True, oob_score=False, n_jobs=1, random_state=None, \n",
    "              verbose=0, warm_start=False, class_weight=None):\n",
    "    \n",
    "    error_train=[]\n",
    "    error_test=[]\n",
    "    for iteration, data in enumerate(kf, start=1):\n",
    "#         print('Evaluating fold number:',iteration)\n",
    "\n",
    "        X_train,X_test,y_train,y_test=process_database(database,train_indexes=data[0],test=True,binary_y=True)\n",
    "#         X_train=X_train[features_to_keep]\n",
    "#         X_test=X_test[features_to_keep]\n",
    "        error_test.append(evaluate_random_forest_model(X_train,X_test,y_train,y_test,\n",
    "                                                       n_estimators=n_estimators,criterion=criterion,\n",
    "                                                       max_depth=max_depth,min_samples_split=min_samples_split, \n",
    "                                                       min_samples_leaf=min_samples_leaf, \n",
    "                                                       min_weight_fraction_leaf=min_weight_fraction_leaf, \n",
    "                                                       max_features=max_features, max_leaf_nodes=max_leaf_nodes, \n",
    "                                                       bootstrap=bootstrap, \n",
    "                                                       oob_score=oob_score, n_jobs=n_jobs, random_state=random_state, \n",
    "                                                       verbose=verbose, warm_start=warm_start, \n",
    "                                                       class_weight=class_weight))\n",
    "        error_train.append(evaluate_random_forest_model(X_train,X_train,y_train,y_train,\n",
    "                                                        n_estimators=n_estimators,criterion=criterion,\n",
    "                                                       max_depth=max_depth,min_samples_split=min_samples_split, \n",
    "                                                       min_samples_leaf=min_samples_leaf, \n",
    "                                                       min_weight_fraction_leaf=min_weight_fraction_leaf, \n",
    "                                                       max_features=max_features, max_leaf_nodes=max_leaf_nodes, \n",
    "                                                       bootstrap=bootstrap, \n",
    "                                                       oob_score=oob_score, n_jobs=n_jobs, random_state=random_state, \n",
    "                                                       verbose=verbose, warm_start=warm_start, \n",
    "                                                       class_weight=class_weight))\n",
    "    return np.mean(error_train),np.mean(error_test)\n"
   ]
  },
  {
   "cell_type": "markdown",
   "metadata": {},
   "source": [
    "### Best parameters so far"
   ]
  },
  {
   "cell_type": "code",
   "execution_count": 132,
   "metadata": {
    "collapsed": false
   },
   "outputs": [
    {
     "data": {
      "text/plain": [
       "0.28150765606595995"
      ]
     },
     "execution_count": 132,
     "metadata": {},
     "output_type": "execute_result"
    }
   ],
   "source": [
    "sum(y_test==1)/len(y_test)"
   ]
  },
  {
   "cell_type": "code",
   "execution_count": 133,
   "metadata": {
    "collapsed": false,
    "scrolled": true
   },
   "outputs": [
    {
     "name": "stdout",
     "output_type": "stream",
     "text": [
      "Iteration: 1\n",
      "Iteration: 2\n",
      "Iteration: 3\n",
      "Iteration: 4\n",
      "Iteration: 5\n",
      "Iteration: 6\n",
      "Iteration: 7\n",
      "Iteration: 8\n",
      "Iteration: 9\n",
      "Iteration: 10\n",
      "Iteration: 11\n",
      "Iteration: 12\n",
      "Iteration: 13\n",
      "Iteration: 14\n",
      "Iteration: 15\n",
      "Iteration: 16\n",
      "Iteration: 17\n",
      "Iteration: 18\n",
      "Iteration: 19\n",
      "Iteration: 20\n"
     ]
    },
    {
     "data": {
      "text/plain": [
       "(0.080209828055418098, 0.30375000000000002)"
      ]
     },
     "execution_count": 133,
     "metadata": {},
     "output_type": "execute_result"
    }
   ],
   "source": [
    "cross_val(train_after_prep_2,min_samples_leaf=2)"
   ]
  },
  {
   "cell_type": "markdown",
   "metadata": {},
   "source": [
    "## Training parameters"
   ]
  },
  {
   "cell_type": "markdown",
   "metadata": {},
   "source": [
    "In this section we train the Random Forest classifier with different parameters in order to find the best ones.\n",
    "We did not remove any feature for this part."
   ]
  },
  {
   "cell_type": "markdown",
   "metadata": {},
   "source": [
    "### max_depth"
   ]
  },
  {
   "cell_type": "code",
   "execution_count": null,
   "metadata": {
    "collapsed": false,
    "scrolled": true
   },
   "outputs": [
    {
     "name": "stdout",
     "output_type": "stream",
     "text": [
      "2\n",
      "3\n",
      "4\n",
      "5\n"
     ]
    }
   ],
   "source": [
    "error_train=[]\n",
    "error_test=[]\n",
    "# for i in np.linspace(0,0.5,40):\n",
    "for i in range(2,20):\n",
    "    error_train_,error_test_=cross_val(train_after_prep_2,max_depth=i)\n",
    "    error_train.append(error_train_)\n",
    "    error_test.append(error_test_)\n",
    "    if i%1==0:\n",
    "        print(i)\n"
   ]
  },
  {
   "cell_type": "code",
   "execution_count": 115,
   "metadata": {
    "collapsed": false
   },
   "outputs": [
    {
     "ename": "ValueError",
     "evalue": "x and y must have same first dimension",
     "output_type": "error",
     "traceback": [
      "\u001b[1;31m---------------------------------------------------------------------------\u001b[0m",
      "\u001b[1;31mValueError\u001b[0m                                Traceback (most recent call last)",
      "\u001b[1;32m<ipython-input-115-dd02bac72fcb>\u001b[0m in \u001b[0;36m<module>\u001b[1;34m()\u001b[0m\n\u001b[1;32m----> 1\u001b[1;33m \u001b[0mplt\u001b[0m\u001b[1;33m.\u001b[0m\u001b[0mplot\u001b[0m\u001b[1;33m(\u001b[0m\u001b[0mrange\u001b[0m\u001b[1;33m(\u001b[0m\u001b[1;36m1\u001b[0m\u001b[1;33m,\u001b[0m\u001b[1;36m40\u001b[0m\u001b[1;33m)\u001b[0m\u001b[1;33m,\u001b[0m\u001b[0merror_test\u001b[0m\u001b[1;33m)\u001b[0m\u001b[1;33m\u001b[0m\u001b[0m\n\u001b[0m\u001b[0;32m      2\u001b[0m \u001b[0mplt\u001b[0m\u001b[1;33m.\u001b[0m\u001b[0mplot\u001b[0m\u001b[1;33m(\u001b[0m\u001b[0mrange\u001b[0m\u001b[1;33m(\u001b[0m\u001b[1;36m1\u001b[0m\u001b[1;33m,\u001b[0m\u001b[1;36m40\u001b[0m\u001b[1;33m)\u001b[0m\u001b[1;33m,\u001b[0m\u001b[0merror_train\u001b[0m\u001b[1;33m)\u001b[0m\u001b[1;33m\u001b[0m\u001b[0m\n\u001b[0;32m      3\u001b[0m \u001b[0mplt\u001b[0m\u001b[1;33m.\u001b[0m\u001b[0mlegend\u001b[0m\u001b[1;33m(\u001b[0m\u001b[1;33m[\u001b[0m\u001b[1;34m'test_error'\u001b[0m\u001b[1;33m,\u001b[0m\u001b[1;34m'train_error'\u001b[0m\u001b[1;33m]\u001b[0m\u001b[1;33m)\u001b[0m\u001b[1;33m\u001b[0m\u001b[0m\n\u001b[0;32m      4\u001b[0m \u001b[0mplt\u001b[0m\u001b[1;33m.\u001b[0m\u001b[0mtitle\u001b[0m\u001b[1;33m(\u001b[0m\u001b[1;34m'Error with different max_depth'\u001b[0m\u001b[1;33m)\u001b[0m\u001b[1;33m\u001b[0m\u001b[0m\n\u001b[0;32m      5\u001b[0m \u001b[0mplt\u001b[0m\u001b[1;33m.\u001b[0m\u001b[0mxlabel\u001b[0m\u001b[1;33m(\u001b[0m\u001b[1;34m'max_depth'\u001b[0m\u001b[1;33m)\u001b[0m\u001b[1;33m\u001b[0m\u001b[0m\n",
      "\u001b[1;32m/home/stefano/anaconda3/lib/python3.5/site-packages/matplotlib/pyplot.py\u001b[0m in \u001b[0;36mplot\u001b[1;34m(*args, **kwargs)\u001b[0m\n\u001b[0;32m   3152\u001b[0m         \u001b[0max\u001b[0m\u001b[1;33m.\u001b[0m\u001b[0mhold\u001b[0m\u001b[1;33m(\u001b[0m\u001b[0mhold\u001b[0m\u001b[1;33m)\u001b[0m\u001b[1;33m\u001b[0m\u001b[0m\n\u001b[0;32m   3153\u001b[0m     \u001b[1;32mtry\u001b[0m\u001b[1;33m:\u001b[0m\u001b[1;33m\u001b[0m\u001b[0m\n\u001b[1;32m-> 3154\u001b[1;33m         \u001b[0mret\u001b[0m \u001b[1;33m=\u001b[0m \u001b[0max\u001b[0m\u001b[1;33m.\u001b[0m\u001b[0mplot\u001b[0m\u001b[1;33m(\u001b[0m\u001b[1;33m*\u001b[0m\u001b[0margs\u001b[0m\u001b[1;33m,\u001b[0m \u001b[1;33m**\u001b[0m\u001b[0mkwargs\u001b[0m\u001b[1;33m)\u001b[0m\u001b[1;33m\u001b[0m\u001b[0m\n\u001b[0m\u001b[0;32m   3155\u001b[0m     \u001b[1;32mfinally\u001b[0m\u001b[1;33m:\u001b[0m\u001b[1;33m\u001b[0m\u001b[0m\n\u001b[0;32m   3156\u001b[0m         \u001b[0max\u001b[0m\u001b[1;33m.\u001b[0m\u001b[0mhold\u001b[0m\u001b[1;33m(\u001b[0m\u001b[0mwashold\u001b[0m\u001b[1;33m)\u001b[0m\u001b[1;33m\u001b[0m\u001b[0m\n",
      "\u001b[1;32m/home/stefano/anaconda3/lib/python3.5/site-packages/matplotlib/__init__.py\u001b[0m in \u001b[0;36minner\u001b[1;34m(ax, *args, **kwargs)\u001b[0m\n\u001b[0;32m   1810\u001b[0m                     warnings.warn(msg % (label_namer, func.__name__),\n\u001b[0;32m   1811\u001b[0m                                   RuntimeWarning, stacklevel=2)\n\u001b[1;32m-> 1812\u001b[1;33m             \u001b[1;32mreturn\u001b[0m \u001b[0mfunc\u001b[0m\u001b[1;33m(\u001b[0m\u001b[0max\u001b[0m\u001b[1;33m,\u001b[0m \u001b[1;33m*\u001b[0m\u001b[0margs\u001b[0m\u001b[1;33m,\u001b[0m \u001b[1;33m**\u001b[0m\u001b[0mkwargs\u001b[0m\u001b[1;33m)\u001b[0m\u001b[1;33m\u001b[0m\u001b[0m\n\u001b[0m\u001b[0;32m   1813\u001b[0m         \u001b[0mpre_doc\u001b[0m \u001b[1;33m=\u001b[0m \u001b[0minner\u001b[0m\u001b[1;33m.\u001b[0m\u001b[0m__doc__\u001b[0m\u001b[1;33m\u001b[0m\u001b[0m\n\u001b[0;32m   1814\u001b[0m         \u001b[1;32mif\u001b[0m \u001b[0mpre_doc\u001b[0m \u001b[1;32mis\u001b[0m \u001b[1;32mNone\u001b[0m\u001b[1;33m:\u001b[0m\u001b[1;33m\u001b[0m\u001b[0m\n",
      "\u001b[1;32m/home/stefano/anaconda3/lib/python3.5/site-packages/matplotlib/axes/_axes.py\u001b[0m in \u001b[0;36mplot\u001b[1;34m(self, *args, **kwargs)\u001b[0m\n\u001b[0;32m   1422\u001b[0m             \u001b[0mkwargs\u001b[0m\u001b[1;33m[\u001b[0m\u001b[1;34m'color'\u001b[0m\u001b[1;33m]\u001b[0m \u001b[1;33m=\u001b[0m \u001b[0mc\u001b[0m\u001b[1;33m\u001b[0m\u001b[0m\n\u001b[0;32m   1423\u001b[0m \u001b[1;33m\u001b[0m\u001b[0m\n\u001b[1;32m-> 1424\u001b[1;33m         \u001b[1;32mfor\u001b[0m \u001b[0mline\u001b[0m \u001b[1;32min\u001b[0m \u001b[0mself\u001b[0m\u001b[1;33m.\u001b[0m\u001b[0m_get_lines\u001b[0m\u001b[1;33m(\u001b[0m\u001b[1;33m*\u001b[0m\u001b[0margs\u001b[0m\u001b[1;33m,\u001b[0m \u001b[1;33m**\u001b[0m\u001b[0mkwargs\u001b[0m\u001b[1;33m)\u001b[0m\u001b[1;33m:\u001b[0m\u001b[1;33m\u001b[0m\u001b[0m\n\u001b[0m\u001b[0;32m   1425\u001b[0m             \u001b[0mself\u001b[0m\u001b[1;33m.\u001b[0m\u001b[0madd_line\u001b[0m\u001b[1;33m(\u001b[0m\u001b[0mline\u001b[0m\u001b[1;33m)\u001b[0m\u001b[1;33m\u001b[0m\u001b[0m\n\u001b[0;32m   1426\u001b[0m             \u001b[0mlines\u001b[0m\u001b[1;33m.\u001b[0m\u001b[0mappend\u001b[0m\u001b[1;33m(\u001b[0m\u001b[0mline\u001b[0m\u001b[1;33m)\u001b[0m\u001b[1;33m\u001b[0m\u001b[0m\n",
      "\u001b[1;32m/home/stefano/anaconda3/lib/python3.5/site-packages/matplotlib/axes/_base.py\u001b[0m in \u001b[0;36m_grab_next_args\u001b[1;34m(self, *args, **kwargs)\u001b[0m\n\u001b[0;32m    384\u001b[0m                 \u001b[1;32mreturn\u001b[0m\u001b[1;33m\u001b[0m\u001b[0m\n\u001b[0;32m    385\u001b[0m             \u001b[1;32mif\u001b[0m \u001b[0mlen\u001b[0m\u001b[1;33m(\u001b[0m\u001b[0mremaining\u001b[0m\u001b[1;33m)\u001b[0m \u001b[1;33m<=\u001b[0m \u001b[1;36m3\u001b[0m\u001b[1;33m:\u001b[0m\u001b[1;33m\u001b[0m\u001b[0m\n\u001b[1;32m--> 386\u001b[1;33m                 \u001b[1;32mfor\u001b[0m \u001b[0mseg\u001b[0m \u001b[1;32min\u001b[0m \u001b[0mself\u001b[0m\u001b[1;33m.\u001b[0m\u001b[0m_plot_args\u001b[0m\u001b[1;33m(\u001b[0m\u001b[0mremaining\u001b[0m\u001b[1;33m,\u001b[0m \u001b[0mkwargs\u001b[0m\u001b[1;33m)\u001b[0m\u001b[1;33m:\u001b[0m\u001b[1;33m\u001b[0m\u001b[0m\n\u001b[0m\u001b[0;32m    387\u001b[0m                     \u001b[1;32myield\u001b[0m \u001b[0mseg\u001b[0m\u001b[1;33m\u001b[0m\u001b[0m\n\u001b[0;32m    388\u001b[0m                 \u001b[1;32mreturn\u001b[0m\u001b[1;33m\u001b[0m\u001b[0m\n",
      "\u001b[1;32m/home/stefano/anaconda3/lib/python3.5/site-packages/matplotlib/axes/_base.py\u001b[0m in \u001b[0;36m_plot_args\u001b[1;34m(self, tup, kwargs)\u001b[0m\n\u001b[0;32m    362\u001b[0m             \u001b[0mx\u001b[0m\u001b[1;33m,\u001b[0m \u001b[0my\u001b[0m \u001b[1;33m=\u001b[0m \u001b[0mindex_of\u001b[0m\u001b[1;33m(\u001b[0m\u001b[0mtup\u001b[0m\u001b[1;33m[\u001b[0m\u001b[1;33m-\u001b[0m\u001b[1;36m1\u001b[0m\u001b[1;33m]\u001b[0m\u001b[1;33m)\u001b[0m\u001b[1;33m\u001b[0m\u001b[0m\n\u001b[0;32m    363\u001b[0m \u001b[1;33m\u001b[0m\u001b[0m\n\u001b[1;32m--> 364\u001b[1;33m         \u001b[0mx\u001b[0m\u001b[1;33m,\u001b[0m \u001b[0my\u001b[0m \u001b[1;33m=\u001b[0m \u001b[0mself\u001b[0m\u001b[1;33m.\u001b[0m\u001b[0m_xy_from_xy\u001b[0m\u001b[1;33m(\u001b[0m\u001b[0mx\u001b[0m\u001b[1;33m,\u001b[0m \u001b[0my\u001b[0m\u001b[1;33m)\u001b[0m\u001b[1;33m\u001b[0m\u001b[0m\n\u001b[0m\u001b[0;32m    365\u001b[0m \u001b[1;33m\u001b[0m\u001b[0m\n\u001b[0;32m    366\u001b[0m         \u001b[1;32mif\u001b[0m \u001b[0mself\u001b[0m\u001b[1;33m.\u001b[0m\u001b[0mcommand\u001b[0m \u001b[1;33m==\u001b[0m \u001b[1;34m'plot'\u001b[0m\u001b[1;33m:\u001b[0m\u001b[1;33m\u001b[0m\u001b[0m\n",
      "\u001b[1;32m/home/stefano/anaconda3/lib/python3.5/site-packages/matplotlib/axes/_base.py\u001b[0m in \u001b[0;36m_xy_from_xy\u001b[1;34m(self, x, y)\u001b[0m\n\u001b[0;32m    221\u001b[0m         \u001b[0my\u001b[0m \u001b[1;33m=\u001b[0m \u001b[0m_check_1d\u001b[0m\u001b[1;33m(\u001b[0m\u001b[0my\u001b[0m\u001b[1;33m)\u001b[0m\u001b[1;33m\u001b[0m\u001b[0m\n\u001b[0;32m    222\u001b[0m         \u001b[1;32mif\u001b[0m \u001b[0mx\u001b[0m\u001b[1;33m.\u001b[0m\u001b[0mshape\u001b[0m\u001b[1;33m[\u001b[0m\u001b[1;36m0\u001b[0m\u001b[1;33m]\u001b[0m \u001b[1;33m!=\u001b[0m \u001b[0my\u001b[0m\u001b[1;33m.\u001b[0m\u001b[0mshape\u001b[0m\u001b[1;33m[\u001b[0m\u001b[1;36m0\u001b[0m\u001b[1;33m]\u001b[0m\u001b[1;33m:\u001b[0m\u001b[1;33m\u001b[0m\u001b[0m\n\u001b[1;32m--> 223\u001b[1;33m             \u001b[1;32mraise\u001b[0m \u001b[0mValueError\u001b[0m\u001b[1;33m(\u001b[0m\u001b[1;34m\"x and y must have same first dimension\"\u001b[0m\u001b[1;33m)\u001b[0m\u001b[1;33m\u001b[0m\u001b[0m\n\u001b[0m\u001b[0;32m    224\u001b[0m         \u001b[1;32mif\u001b[0m \u001b[0mx\u001b[0m\u001b[1;33m.\u001b[0m\u001b[0mndim\u001b[0m \u001b[1;33m>\u001b[0m \u001b[1;36m2\u001b[0m \u001b[1;32mor\u001b[0m \u001b[0my\u001b[0m\u001b[1;33m.\u001b[0m\u001b[0mndim\u001b[0m \u001b[1;33m>\u001b[0m \u001b[1;36m2\u001b[0m\u001b[1;33m:\u001b[0m\u001b[1;33m\u001b[0m\u001b[0m\n\u001b[0;32m    225\u001b[0m             \u001b[1;32mraise\u001b[0m \u001b[0mValueError\u001b[0m\u001b[1;33m(\u001b[0m\u001b[1;34m\"x and y can be no greater than 2-D\"\u001b[0m\u001b[1;33m)\u001b[0m\u001b[1;33m\u001b[0m\u001b[0m\n",
      "\u001b[1;31mValueError\u001b[0m: x and y must have same first dimension"
     ]
    },
    {
     "data": {
      "image/png": "[encoded data removed]",
      "text/plain": [
       "<matplotlib.figure.Figure at 0x7fdf61682898>"
      ]
     },
     "metadata": {},
     "output_type": "display_data"
    }
   ],
   "source": [
    "plt.plot(range(2,20),error_test)\n",
    "plt.plot(range(2,20),error_train)\n",
    "plt.legend(['test_error','train_error'])\n",
    "plt.title('Error with different max_depth')\n",
    "plt.xlabel('max_depth')\n",
    "plt.ylabel('mean square error')"
   ]
  },
  {
   "cell_type": "markdown",
   "metadata": {},
   "source": [
    "n_estimators"
   ]
  },
  {
   "cell_type": "code",
   "execution_count": null,
   "metadata": {
    "collapsed": false,
    "scrolled": false
   },
   "outputs": [],
   "source": [
    "error_train=[]\n",
    "error_test=[]\n",
    "for i in range(1,40):\n",
    "    error_train_,error_test_=cross_val(train,y_ref,n_estimators=i)\n",
    "    error_train.append(error_train_)\n",
    "    error_test.append(error_test_)\n",
    "    if i%10==0:\n",
    "        print(i)\n"
   ]
  },
  {
   "cell_type": "code",
   "execution_count": null,
   "metadata": {
    "collapsed": false
   },
   "outputs": [],
   "source": [
    "plt.plot(range(1,40),error_test)\n",
    "plt.plot(range(1,40),error_train)\n",
    "plt.legend(['test_error','train_error'])\n",
    "plt.title('Error with different n_estimators')\n",
    "plt.xlabel('n_estimators')\n",
    "plt.ylabel('mean square error')"
   ]
  },
  {
   "cell_type": "markdown",
   "metadata": {},
   "source": [
    "criterion"
   ]
  },
  {
   "cell_type": "code",
   "execution_count": null,
   "metadata": {
    "collapsed": false
   },
   "outputs": [],
   "source": [
    "error_train=[]\n",
    "error_test=[]\n",
    "\n",
    "error_train_,error_test_=cross_val(train_trivial,y_trivial,criterion='gini')\n",
    "\n",
    "error_train.append(error_train_)\n",
    "error_test.append(error_test_)\n",
    "\n",
    "error_train_,error_test_=cross_val(train_trivial,y_trivial,criterion='entropy')\n",
    "\n",
    "error_train.append(error_train_)\n",
    "error_test.append(error_test_)"
   ]
  },
  {
   "cell_type": "code",
   "execution_count": null,
   "metadata": {
    "collapsed": false
   },
   "outputs": [],
   "source": [
    "error_train"
   ]
  },
  {
   "cell_type": "code",
   "execution_count": null,
   "metadata": {
    "collapsed": false
   },
   "outputs": [],
   "source": [
    "error_test"
   ]
  },
  {
   "cell_type": "code",
   "execution_count": null,
   "metadata": {
    "collapsed": true
   },
   "outputs": [],
   "source": [
    "## Features importances and "
   ]
  }
 ],
 "metadata": {
  "anaconda-cloud": {},
  "kernelspec": {
   "display_name": "Python [Root]",
   "language": "python",
   "name": "Python [Root]"
  },
  "language_info": {
   "codemirror_mode": {
    "name": "ipython",
    "version": 3
   },
   "file_extension": ".py",
   "mimetype": "text/x-python",
   "name": "python",
   "nbconvert_exporter": "python",
   "pygments_lexer": "ipython3",
   "version": "3.5.2"
  }
 },
 "nbformat": 4,
 "nbformat_minor": 0
}
