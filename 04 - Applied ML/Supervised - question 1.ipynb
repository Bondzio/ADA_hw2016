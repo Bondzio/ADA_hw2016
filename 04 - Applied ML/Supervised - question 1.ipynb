{
 "cells": [
  {
   "cell_type": "markdown",
   "metadata": {},
   "source": [
    "# Question 1: Supervised learning - Random Forest\n",
    "\n",
    "In this file we will try to learn a classifier to infer the skin colors of the player, utilizing the *CrowdstormingDataJuly1st.csv* dataset. We will:\n",
    "\n",
    "- Preprocess the dataset so that the attributes are the one we need in the way we want. We will remove some features and we will add some others to obtain better predictions.\n",
    "- We will train the Random Forest classifier with different parameter sets and we will see the results obtained to study the overfitting issue.\n",
    "- We will present the results obtained with cross-validation.\n",
    "- Analysis of the features\\_importantances\\_ parameter\n",
    "- Study if the results change removing some features.\n",
    "\n",
    "BONUS TASK:\n",
    "\n",
    "- Learning curves with different sets of parameters in the cross-validation case.\n",
    "\n",
    "\n",
    "    "
   ]
  },
  {
   "cell_type": "markdown",
   "metadata": {},
   "source": [
    "# BONUS implementation - IMPORTANT\n",
    "The learning curves are implemented in the *training parameters* section. We inserted the bonus tasks in this part to maintain the cronological order of the operations that we did. We found less clear to use a separate section for the Bonus part."
   ]
  },
  {
   "cell_type": "markdown",
   "metadata": {},
   "source": [
    "# Dataset importation\n",
    "At first, we import the dataset in csv format."
   ]
  },
  {
   "cell_type": "code",
   "execution_count": 1,
   "metadata": {
    "collapsed": true
   },
   "outputs": [],
   "source": [
    "import pandas as pd\n",
    "import seaborn as sns\n",
    "import matplotlib.pyplot as plt\n",
    "import numpy as np\n",
    "%matplotlib inline"
   ]
  },
  {
   "cell_type": "code",
   "execution_count": 2,
   "metadata": {
    "collapsed": true
   },
   "outputs": [],
   "source": [
    "from sklearn.ensemble import RandomForestClassifier\n",
    "from sklearn import preprocessing\n",
    "from sklearn.preprocessing import OneHotEncoder\n",
    "from sklearn import metrics\n",
    "from sklearn.cross_validation import train_test_split\n",
    "from sklearn.cross_validation import KFold\n",
    "import time"
   ]
  },
  {
   "cell_type": "code",
   "execution_count": 3,
   "metadata": {
    "collapsed": false
   },
   "outputs": [
    {
     "data": {
      "text/html": [
       "<div>\n",
       "<table border=\"1\" class=\"dataframe\">\n",
       "  <thead>\n",
       "    <tr style=\"text-align: right;\">\n",
       "      <th></th>\n",
       "      <th>playerShort</th>\n",
       "      <th>player</th>\n",
       "      <th>club</th>\n",
       "      <th>leagueCountry</th>\n",
       "      <th>birthday</th>\n",
       "      <th>height</th>\n",
       "      <th>weight</th>\n",
       "      <th>position</th>\n",
       "      <th>games</th>\n",
       "      <th>victories</th>\n",
       "      <th>...</th>\n",
       "      <th>rater2</th>\n",
       "      <th>refNum</th>\n",
       "      <th>refCountry</th>\n",
       "      <th>Alpha_3</th>\n",
       "      <th>meanIAT</th>\n",
       "      <th>nIAT</th>\n",
       "      <th>seIAT</th>\n",
       "      <th>meanExp</th>\n",
       "      <th>nExp</th>\n",
       "      <th>seExp</th>\n",
       "    </tr>\n",
       "  </thead>\n",
       "  <tbody>\n",
       "    <tr>\n",
       "      <th>0</th>\n",
       "      <td>lucas-wilchez</td>\n",
       "      <td>Lucas Wilchez</td>\n",
       "      <td>Real Zaragoza</td>\n",
       "      <td>Spain</td>\n",
       "      <td>31.08.1983</td>\n",
       "      <td>177.0</td>\n",
       "      <td>72.0</td>\n",
       "      <td>Attacking Midfielder</td>\n",
       "      <td>1</td>\n",
       "      <td>0</td>\n",
       "      <td>...</td>\n",
       "      <td>0.50</td>\n",
       "      <td>1</td>\n",
       "      <td>1</td>\n",
       "      <td>GRC</td>\n",
       "      <td>0.326391</td>\n",
       "      <td>712.0</td>\n",
       "      <td>0.000564</td>\n",
       "      <td>0.396000</td>\n",
       "      <td>750.0</td>\n",
       "      <td>0.002696</td>\n",
       "    </tr>\n",
       "    <tr>\n",
       "      <th>1</th>\n",
       "      <td>john-utaka</td>\n",
       "      <td>John Utaka</td>\n",
       "      <td>Montpellier HSC</td>\n",
       "      <td>France</td>\n",
       "      <td>08.01.1982</td>\n",
       "      <td>179.0</td>\n",
       "      <td>82.0</td>\n",
       "      <td>Right Winger</td>\n",
       "      <td>1</td>\n",
       "      <td>0</td>\n",
       "      <td>...</td>\n",
       "      <td>0.75</td>\n",
       "      <td>2</td>\n",
       "      <td>2</td>\n",
       "      <td>ZMB</td>\n",
       "      <td>0.203375</td>\n",
       "      <td>40.0</td>\n",
       "      <td>0.010875</td>\n",
       "      <td>-0.204082</td>\n",
       "      <td>49.0</td>\n",
       "      <td>0.061504</td>\n",
       "    </tr>\n",
       "    <tr>\n",
       "      <th>2</th>\n",
       "      <td>abdon-prats</td>\n",
       "      <td>Abdón Prats</td>\n",
       "      <td>RCD Mallorca</td>\n",
       "      <td>Spain</td>\n",
       "      <td>17.12.1992</td>\n",
       "      <td>181.0</td>\n",
       "      <td>79.0</td>\n",
       "      <td>NaN</td>\n",
       "      <td>1</td>\n",
       "      <td>0</td>\n",
       "      <td>...</td>\n",
       "      <td>NaN</td>\n",
       "      <td>3</td>\n",
       "      <td>3</td>\n",
       "      <td>ESP</td>\n",
       "      <td>0.369894</td>\n",
       "      <td>1785.0</td>\n",
       "      <td>0.000229</td>\n",
       "      <td>0.588297</td>\n",
       "      <td>1897.0</td>\n",
       "      <td>0.001002</td>\n",
       "    </tr>\n",
       "    <tr>\n",
       "      <th>3</th>\n",
       "      <td>pablo-mari</td>\n",
       "      <td>Pablo Marí</td>\n",
       "      <td>RCD Mallorca</td>\n",
       "      <td>Spain</td>\n",
       "      <td>31.08.1993</td>\n",
       "      <td>191.0</td>\n",
       "      <td>87.0</td>\n",
       "      <td>Center Back</td>\n",
       "      <td>1</td>\n",
       "      <td>1</td>\n",
       "      <td>...</td>\n",
       "      <td>NaN</td>\n",
       "      <td>3</td>\n",
       "      <td>3</td>\n",
       "      <td>ESP</td>\n",
       "      <td>0.369894</td>\n",
       "      <td>1785.0</td>\n",
       "      <td>0.000229</td>\n",
       "      <td>0.588297</td>\n",
       "      <td>1897.0</td>\n",
       "      <td>0.001002</td>\n",
       "    </tr>\n",
       "    <tr>\n",
       "      <th>4</th>\n",
       "      <td>ruben-pena</td>\n",
       "      <td>Rubén Peña</td>\n",
       "      <td>Real Valladolid</td>\n",
       "      <td>Spain</td>\n",
       "      <td>18.07.1991</td>\n",
       "      <td>172.0</td>\n",
       "      <td>70.0</td>\n",
       "      <td>Right Midfielder</td>\n",
       "      <td>1</td>\n",
       "      <td>1</td>\n",
       "      <td>...</td>\n",
       "      <td>NaN</td>\n",
       "      <td>3</td>\n",
       "      <td>3</td>\n",
       "      <td>ESP</td>\n",
       "      <td>0.369894</td>\n",
       "      <td>1785.0</td>\n",
       "      <td>0.000229</td>\n",
       "      <td>0.588297</td>\n",
       "      <td>1897.0</td>\n",
       "      <td>0.001002</td>\n",
       "    </tr>\n",
       "  </tbody>\n",
       "</table>\n",
       "<p>5 rows × 28 columns</p>\n",
       "</div>"
      ],
      "text/plain": [
       "     playerShort         player             club leagueCountry    birthday  \\\n",
       "0  lucas-wilchez  Lucas Wilchez    Real Zaragoza         Spain  31.08.1983   \n",
       "1     john-utaka     John Utaka  Montpellier HSC        France  08.01.1982   \n",
       "2    abdon-prats    Abdón Prats     RCD Mallorca         Spain  17.12.1992   \n",
       "3     pablo-mari     Pablo Marí     RCD Mallorca         Spain  31.08.1993   \n",
       "4     ruben-pena     Rubén Peña  Real Valladolid         Spain  18.07.1991   \n",
       "\n",
       "   height  weight              position  games  victories    ...     rater2  \\\n",
       "0   177.0    72.0  Attacking Midfielder      1          0    ...       0.50   \n",
       "1   179.0    82.0          Right Winger      1          0    ...       0.75   \n",
       "2   181.0    79.0                   NaN      1          0    ...        NaN   \n",
       "3   191.0    87.0           Center Back      1          1    ...        NaN   \n",
       "4   172.0    70.0      Right Midfielder      1          1    ...        NaN   \n",
       "\n",
       "   refNum  refCountry  Alpha_3   meanIAT    nIAT     seIAT   meanExp    nExp  \\\n",
       "0       1           1      GRC  0.326391   712.0  0.000564  0.396000   750.0   \n",
       "1       2           2      ZMB  0.203375    40.0  0.010875 -0.204082    49.0   \n",
       "2       3           3      ESP  0.369894  1785.0  0.000229  0.588297  1897.0   \n",
       "3       3           3      ESP  0.369894  1785.0  0.000229  0.588297  1897.0   \n",
       "4       3           3      ESP  0.369894  1785.0  0.000229  0.588297  1897.0   \n",
       "\n",
       "      seExp  \n",
       "0  0.002696  \n",
       "1  0.061504  \n",
       "2  0.001002  \n",
       "3  0.001002  \n",
       "4  0.001002  \n",
       "\n",
       "[5 rows x 28 columns]"
      ]
     },
     "execution_count": 3,
     "metadata": {},
     "output_type": "execute_result"
    }
   ],
   "source": [
    "data = pd.read_csv('CrowdstormingDataJuly1st.csv')\n",
    "data.head()"
   ]
  },
  {
   "cell_type": "markdown",
   "metadata": {},
   "source": [
    "## Eliminating missing data"
   ]
  },
  {
   "cell_type": "markdown",
   "metadata": {},
   "source": [
    "Since some labels are missing, we will only consider the players with both ratings, for the training dataset. In the follwing we will verify that each player has got either both ratings or none of them (that is, the invalid entries affect both *rater1* and *rater2*):"
   ]
  },
  {
   "cell_type": "code",
   "execution_count": 12,
   "metadata": {
    "collapsed": false
   },
   "outputs": [
    {
     "name": "stdout",
     "output_type": "stream",
     "text": [
      "There are 0 player(s) with a single rating missing.\n",
      "Out of 146028 data entries, we will only consider 124621 of them, i.e. 85.34048264716355% of the entries, because of 21407 entries for which the skin color has not been rated.\n"
     ]
    }
   ],
   "source": [
    "data_one_rater2 = data[data.rater2.isnull() & ~data.rater1.isnull()]\n",
    "data_one_rater1 = data[data.rater1.isnull() & ~data.rater2.isnull()]\n",
    "print('There are '+str(len(data_one_rater2)+len(data_one_rater1))+\n",
    "      ' player(s) with a single rating missing.')\n",
    "print('Out of '+str(data.shape[0])+' data entries, we will only consider '+\n",
    "      str(rater_data.shape[0])+' of them, i.e. '+str(rater_data.shape[0]*\n",
    "                                                        100/data.shape[0])\n",
    "      +'% of the entries, because of '+str(missing_rater_data.shape[0])+\n",
    "      ' entries for which the skin color has not been rated.')"
   ]
  },
  {
   "cell_type": "markdown",
   "metadata": {},
   "source": [
    "# Preprocessing"
   ]
  },
  {
   "cell_type": "markdown",
   "metadata": {},
   "source": [
    "For convenience we splitted the preprocessing part in 2 functions.\n",
    "We will:\n",
    " - Delete the columns photoID, victories, ties, defeats, Alpha_3, club, goals. We suppose that these variables are not correlated with the *skin color* of the player.\n",
    " - Delete all the rows corresponding to a referee with less than 22 entry (all premier League players are included, so each referee must have met all 22 players of both teams during a match);\n",
    " - Remove less significant referee entry (with nIAT and nExp too low: qualitative threshold to filter not converged mean parameters). This is done in preprocess_2"
   ]
  },
  {
   "cell_type": "code",
   "execution_count": 54,
   "metadata": {
    "collapsed": false
   },
   "outputs": [],
   "source": [
    "def preprocess_1(database,remove_bad_referee=True,nIAT_threshold=50,nExp_threshold=50):\n",
    "    train=database.copy()\n",
    "    \n",
    "    # Delete unused features\n",
    "    del train['photoID']\n",
    "    del train['victories']\n",
    "    del train['ties']\n",
    "    del train['defeats']\n",
    "    del train['Alpha_3']\n",
    "    del train['club']\n",
    "    del train['goals']\n",
    "\n",
    "    # Remove diads with a referee with less than 22 entries\n",
    "    train_group=train.groupby(train.refNum)\n",
    "    if remove_bad_referee:\n",
    "        for i,group in train_group:\n",
    "            if group.shape[0]<22:\n",
    "                train=train.drop(train_group.get_group(i).index)\n",
    "            if i%500==0:\n",
    "                print(i)\n",
    "    \n",
    "   \n",
    "    return train"
   ]
  },
  {
   "cell_type": "code",
   "execution_count": 55,
   "metadata": {
    "collapsed": false,
    "scrolled": false
   },
   "outputs": [
    {
     "name": "stdout",
     "output_type": "stream",
     "text": [
      "500\n",
      "1000\n",
      "1500\n",
      "2000\n",
      "2500\n",
      "3000\n"
     ]
    }
   ],
   "source": [
    "train_after_prep_1=preprocess_1(rater_data,remove_bad_referee=True)"
   ]
  },
  {
   "cell_type": "code",
   "execution_count": 56,
   "metadata": {
    "collapsed": false
   },
   "outputs": [],
   "source": [
    "def preprocess_2(database,nIAT_threshold=50,nExp_threshold=50):\n",
    "    train=database.copy()\n",
    "    train_group=database.groupby(train.refNum)\n",
    "\n",
    "    for i,group in train_group:\n",
    "        if group.nIAT.iloc[0]<nIAT_threshold or group.nExp.iloc[0]<nExp_threshold:\n",
    "            train=train.drop(train_group.get_group(i).index)\n",
    "        if i%200==0:\n",
    "            print(i)\n",
    "    return train"
   ]
  },
  {
   "cell_type": "code",
   "execution_count": 57,
   "metadata": {
    "collapsed": false,
    "scrolled": true
   },
   "outputs": [
    {
     "name": "stdout",
     "output_type": "stream",
     "text": [
      "1600\n",
      "2400\n",
      "3000\n"
     ]
    }
   ],
   "source": [
    "train_after_prep_2=preprocess_2(train_after_prep_1)"
   ]
  },
  {
   "cell_type": "code",
   "execution_count": 58,
   "metadata": {
    "collapsed": false
   },
   "outputs": [
    {
     "data": {
      "text/plain": [
       "(111533, 21)"
      ]
     },
     "execution_count": 58,
     "metadata": {},
     "output_type": "execute_result"
    }
   ],
   "source": [
    "train_after_prep_2.shape"
   ]
  },
  {
   "cell_type": "code",
   "execution_count": 59,
   "metadata": {
    "collapsed": false,
    "scrolled": true
   },
   "outputs": [
    {
     "data": {
      "text/html": [
       "<div>\n",
       "<table border=\"1\" class=\"dataframe\">\n",
       "  <thead>\n",
       "    <tr style=\"text-align: right;\">\n",
       "      <th></th>\n",
       "      <th>playerShort</th>\n",
       "      <th>player</th>\n",
       "      <th>leagueCountry</th>\n",
       "      <th>birthday</th>\n",
       "      <th>height</th>\n",
       "      <th>weight</th>\n",
       "      <th>position</th>\n",
       "      <th>games</th>\n",
       "      <th>yellowCards</th>\n",
       "      <th>yellowReds</th>\n",
       "      <th>redCards</th>\n",
       "    </tr>\n",
       "  </thead>\n",
       "  <tbody>\n",
       "    <tr>\n",
       "      <th>5</th>\n",
       "      <td>aaron-hughes</td>\n",
       "      <td>Aaron Hughes</td>\n",
       "      <td>England</td>\n",
       "      <td>08.11.1979</td>\n",
       "      <td>182.0</td>\n",
       "      <td>71.0</td>\n",
       "      <td>Center Back</td>\n",
       "      <td>1</td>\n",
       "      <td>0</td>\n",
       "      <td>0</td>\n",
       "      <td>0</td>\n",
       "    </tr>\n",
       "    <tr>\n",
       "      <th>6</th>\n",
       "      <td>aleksandar-kolarov</td>\n",
       "      <td>Aleksandar Kolarov</td>\n",
       "      <td>England</td>\n",
       "      <td>10.11.1985</td>\n",
       "      <td>187.0</td>\n",
       "      <td>80.0</td>\n",
       "      <td>Left Fullback</td>\n",
       "      <td>1</td>\n",
       "      <td>0</td>\n",
       "      <td>0</td>\n",
       "      <td>0</td>\n",
       "    </tr>\n",
       "    <tr>\n",
       "      <th>7</th>\n",
       "      <td>alexander-tettey</td>\n",
       "      <td>Alexander Tettey</td>\n",
       "      <td>England</td>\n",
       "      <td>04.04.1986</td>\n",
       "      <td>180.0</td>\n",
       "      <td>68.0</td>\n",
       "      <td>Defensive Midfielder</td>\n",
       "      <td>1</td>\n",
       "      <td>0</td>\n",
       "      <td>0</td>\n",
       "      <td>0</td>\n",
       "    </tr>\n",
       "  </tbody>\n",
       "</table>\n",
       "</div>"
      ],
      "text/plain": [
       "          playerShort              player leagueCountry    birthday  height  \\\n",
       "5        aaron-hughes        Aaron Hughes       England  08.11.1979   182.0   \n",
       "6  aleksandar-kolarov  Aleksandar Kolarov       England  10.11.1985   187.0   \n",
       "7    alexander-tettey    Alexander Tettey       England  04.04.1986   180.0   \n",
       "\n",
       "   weight              position  games  yellowCards  yellowReds  redCards  \n",
       "5    71.0           Center Back      1            0           0         0  \n",
       "6    80.0         Left Fullback      1            0           0         0  \n",
       "7    68.0  Defensive Midfielder      1            0           0         0  "
      ]
     },
     "execution_count": 59,
     "metadata": {},
     "output_type": "execute_result"
    }
   ],
   "source": [
    "train_after_prep_2.ix[:,:11].head(3)"
   ]
  },
  {
   "cell_type": "code",
   "execution_count": 60,
   "metadata": {
    "collapsed": false
   },
   "outputs": [
    {
     "data": {
      "text/html": [
       "<div>\n",
       "<table border=\"1\" class=\"dataframe\">\n",
       "  <thead>\n",
       "    <tr style=\"text-align: right;\">\n",
       "      <th></th>\n",
       "      <th>rater1</th>\n",
       "      <th>rater2</th>\n",
       "      <th>refNum</th>\n",
       "      <th>refCountry</th>\n",
       "      <th>meanIAT</th>\n",
       "      <th>nIAT</th>\n",
       "      <th>seIAT</th>\n",
       "      <th>meanExp</th>\n",
       "      <th>nExp</th>\n",
       "      <th>seExp</th>\n",
       "    </tr>\n",
       "  </thead>\n",
       "  <tbody>\n",
       "    <tr>\n",
       "      <th>5</th>\n",
       "      <td>0.25</td>\n",
       "      <td>0.00</td>\n",
       "      <td>4</td>\n",
       "      <td>4</td>\n",
       "      <td>0.325185</td>\n",
       "      <td>127.0</td>\n",
       "      <td>0.003297</td>\n",
       "      <td>0.538462</td>\n",
       "      <td>130.0</td>\n",
       "      <td>0.013752</td>\n",
       "    </tr>\n",
       "    <tr>\n",
       "      <th>6</th>\n",
       "      <td>0.00</td>\n",
       "      <td>0.25</td>\n",
       "      <td>4</td>\n",
       "      <td>4</td>\n",
       "      <td>0.325185</td>\n",
       "      <td>127.0</td>\n",
       "      <td>0.003297</td>\n",
       "      <td>0.538462</td>\n",
       "      <td>130.0</td>\n",
       "      <td>0.013752</td>\n",
       "    </tr>\n",
       "    <tr>\n",
       "      <th>7</th>\n",
       "      <td>1.00</td>\n",
       "      <td>1.00</td>\n",
       "      <td>4</td>\n",
       "      <td>4</td>\n",
       "      <td>0.325185</td>\n",
       "      <td>127.0</td>\n",
       "      <td>0.003297</td>\n",
       "      <td>0.538462</td>\n",
       "      <td>130.0</td>\n",
       "      <td>0.013752</td>\n",
       "    </tr>\n",
       "  </tbody>\n",
       "</table>\n",
       "</div>"
      ],
      "text/plain": [
       "   rater1  rater2  refNum  refCountry   meanIAT   nIAT     seIAT   meanExp  \\\n",
       "5    0.25    0.00       4           4  0.325185  127.0  0.003297  0.538462   \n",
       "6    0.00    0.25       4           4  0.325185  127.0  0.003297  0.538462   \n",
       "7    1.00    1.00       4           4  0.325185  127.0  0.003297  0.538462   \n",
       "\n",
       "    nExp     seExp  \n",
       "5  130.0  0.013752  \n",
       "6  130.0  0.013752  \n",
       "7  130.0  0.013752  "
      ]
     },
     "execution_count": 60,
     "metadata": {},
     "output_type": "execute_result"
    }
   ],
   "source": [
    "train_after_prep_2.ix[:,11:].head(3)"
   ]
  },
  {
   "cell_type": "markdown",
   "metadata": {},
   "source": [
    "# Random forest with referee information"
   ]
  },
  {
   "cell_type": "markdown",
   "metadata": {},
   "source": [
    "We trained a Random Forest classifier to predict the player skin color.\n",
    "\n",
    "\n",
    "Operations done:\n",
    " - Keep only the wanted features: ['playerShort','leagueCountry','birthday','height','weight','position','games','club','yellowCards','redCards','yellowReds','meanIAT','meanExp','rater1','rater2']\n",
    " - Fill NaN with **median** of the columns\n",
    " - Keep only the year of birth (not the date)\n",
    " - Add dummy variables for the categorical variables\n",
    " - Keep one entry for player\n",
    " - Extract y as **mean of the rater1 and rater2**\n",
    " - y as binary variable -> threshold at **0.3**"
   ]
  },
  {
   "cell_type": "markdown",
   "metadata": {},
   "source": [
    "### Binary y\n",
    "As said, we chosed to use a binary y. We chosed as threshold 0.3.\n",
    "\n",
    "The main reason under this choice is that the performances of the classifier are not very high even with a binary y. Introducing more classes would not deliver better predictions."
   ]
  },
  {
   "cell_type": "markdown",
   "metadata": {},
   "source": [
    "## Train and test split - adding features"
   ]
  },
  {
   "cell_type": "markdown",
   "metadata": {},
   "source": [
    "We add some transformed features starting from the available ones, trying to define eventually more significant parameters:\n",
    " - *meanYellowPlayer*: the mean of the yellow cards obtained by each player\n",
    " - *meanYellowPlayerIAT*: the mean of the yellow cards obtained by each player weighted with the IAT statistics of the referee\n",
    " - *meanYellowPlayerExp*: the mean of the yellow cards obtained by each player weighted with the Exp statistics of the referee\n",
    " - *meanYellowRole*: the mean of yellow cards obtained by the player in a particular role\n",
    " - *meanYellowRoleIAT*: the mean of yellow cards obtained by the player in a particular role weighted with the IAT statistics of the referee\n",
    " - *meanYellowRoleExp*: the mean of yellow cards obtained by the player in a particular role weighted with the Exp statistics of the referee\n",
    " - *yellowDifference*: difference between meanYellowPlayer and meanYellowRole\n",
    " - *yellowDifferenceIAT*: difference between meanYellowPlayerIAT and meanYellowRoleIAT\n",
    " - *yellowDifferenceExp*: difference between meanYellowPlayerExp and meanYellowRoleExp\n",
    " \n",
    "The same features have been added for red and yellowRed cards."
   ]
  },
  {
   "cell_type": "markdown",
   "metadata": {},
   "source": [
    "Dummy features:\n",
    "- leagueCountry\n",
    "- position"
   ]
  },
  {
   "cell_type": "markdown",
   "metadata": {},
   "source": [
    "The function *add\\_mean\\_player()* adds the mean of the player features.\n",
    "The function *add\\_mean\\_player()* adds the mean of yellow/red/yellowReds cards for each role."
   ]
  },
  {
   "cell_type": "code",
   "execution_count": 29,
   "metadata": {
    "collapsed": true
   },
   "outputs": [],
   "source": [
    "def add_mean_player(x):\n",
    "    x_games=sum(x.games)\n",
    "    x['meanYellowPlayer']=sum(x.yellowCards)/x_games\n",
    "    x['meanRedPlayer']=sum(x.redCards)/x_games\n",
    "    x['meanYellowRedPlayer']=sum(x.yellowReds)/x_games\n",
    "    \n",
    "    x['meanYellowPlayerIAT']=sum(x.yellowCards*x.meanIAT)/x_games\n",
    "    x['meanRedPlayerIAT']=sum(x.redCards*x.meanIAT)/x_games\n",
    "    x['meanYellowRedPlayerIAT']=sum(x.yellowReds*x.meanIAT)/x_games\n",
    "    \n",
    "    x['meanYellowPlayerExp']=sum(x.yellowCards*x.meanExp)/x_games\n",
    "    x['meanRedPlayerExp']=sum(x.redCards*x.meanExp)/x_games\n",
    "    x['meanYellowRedPlayerExp']=sum(x.yellowReds*x.meanExp)/x_games\n",
    "    \n",
    "    return x"
   ]
  },
  {
   "cell_type": "code",
   "execution_count": 30,
   "metadata": {
    "collapsed": false
   },
   "outputs": [],
   "source": [
    "def add_mean_role(x,train_database_grouped=False,is_train=True):\n",
    "    if is_train:\n",
    "        \n",
    "        x['meanYellowRole']=sum(x.yellowCards)/sum(x.games)\n",
    "        x['meanRedRole']=sum(x.redCards)/sum(x.games)\n",
    "        x['meanYellowRedRole']=sum(x.yellowReds)/sum(x.games)\n",
    "\n",
    "        x['meanYellowRoleIAT']=sum(x.yellowCards*x.meanIAT)/sum(x.games)\n",
    "        x['meanRedRoleIAT']=sum(x.redCards*x.meanIAT)/sum(x.games)\n",
    "        x['meanYellowRedRoleIAT']=sum(x.yellowReds*x.meanIAT)/sum(x.games)\n",
    "\n",
    "        x['meanYellowRoleExp']=sum(x.yellowCards*x.meanExp)/sum(x.games)\n",
    "        x['meanRedRoleExp']=sum(x.redCards*x.meanExp)/sum(x.games)\n",
    "        x['meanYellowRedRoleExp']=sum(x.yellowReds*x.meanExp)/sum(x.games)\n",
    "    else:\n",
    "        position=x.position.iloc[0]\n",
    "        leagueCountry=x.leagueCountry.iloc[0]\n",
    "        group=train_database_grouped.loc[position]\n",
    "        x['meanYellowRole']=group.loc['meanYellowRole']\n",
    "        x['meanRedRole']=group.loc['meanRedRole']\n",
    "        x['meanYellowRedRole']=group.loc['meanYellowRedRole']\n",
    "\n",
    "        x['meanYellowRoleIAT']=group.loc['meanYellowRoleIAT']\n",
    "        x['meanRedRoleIAT']=group.loc['meanRedRoleIAT']\n",
    "        x['meanYellowRedRoleIAT']=group.loc['meanYellowRedRoleIAT']\n",
    "\n",
    "        x['meanYellowRoleExp']=group.loc['meanYellowRoleExp']\n",
    "        x['meanRedRoleExp']=group.loc['meanRedRoleExp']\n",
    "        x['meanYellowRedRoleExp']=group.loc['meanYellowRedRoleExp']\n",
    "    return x"
   ]
  },
  {
   "cell_type": "markdown",
   "metadata": {},
   "source": [
    "The following features are eliminated since there should be no correlation with the player skin color"
   ]
  },
  {
   "cell_type": "code",
   "execution_count": 62,
   "metadata": {
    "collapsed": true
   },
   "outputs": [],
   "source": [
    "features_to_eliminate=['games', 'yellowCards', 'redCards',\n",
    "       'yellowReds', 'meanIAT', 'meanExp', 'meanYellowRole',\n",
    "       'meanRedRole', 'meanYellowRedRole', 'meanYellowRoleIAT',\n",
    "       'meanRedRoleIAT', 'meanYellowRedRoleIAT', 'meanYellowRoleExp',\n",
    "       'meanRedRoleExp', 'meanYellowRedRoleExp']"
   ]
  },
  {
   "cell_type": "markdown",
   "metadata": {},
   "source": [
    "The *process\\_database()* function, given the starting database, returns the split in train and test and adds the previously described features.\n",
    "\n",
    "This function *has to be called* at each evaluation: some added features are database dependents (like the mean of the role ones)."
   ]
  },
  {
   "cell_type": "code",
   "execution_count": 66,
   "metadata": {
    "collapsed": false
   },
   "outputs": [],
   "source": [
    "def process_database(starting_database,train_indexes=True,test=False,binary_y=False):\n",
    "    ''' Function that takes the preprocessed database and outputs train, test and y\n",
    "        @ params:\n",
    "            starting_database - the preprocessed database\n",
    "            train_indexes - the indexes of the player to be inserted in the training \n",
    "                            (the PLAYER INDEXES, not the indexes of the full database)\n",
    "            test - if considering also a test matrix\n",
    "            binary_y - if considering a binary (0-1) y\n",
    "                            \n",
    "        @ returns:\n",
    "            train\n",
    "            test\n",
    "            y\n",
    "    '''\n",
    "    \n",
    "    \n",
    "    number_of_players=len(starting_database.playerShort.value_counts())\n",
    "    if test==False:\n",
    "        train_indexes=np.range(starting_database.shape[0])\n",
    "        test_indexes=[]\n",
    "    else:\n",
    "        small_database=starting_database.groupby('playerShort').mean()\n",
    "        small_database=small_database.iloc[train_indexes]\n",
    "        train_indexes=np.array(starting_database[starting_database.playerShort.isin(small_database.index)].index)\n",
    "        test_indexes=np.array(starting_database.index)\n",
    "        test_indexes=np.setdiff1d(test_indexes,train_indexes)\n",
    "    t1=time.time()\n",
    "    \n",
    "    # Keep only wanted features - remove nan\n",
    "    database=starting_database[['playerShort','leagueCountry','birthday','height','weight','position','games','yellowCards','redCards','yellowReds','meanIAT','meanExp','rater1','rater2']]\n",
    "    database.is_copy=False\n",
    "    database.position.fillna('nan',inplace=True)\n",
    "    database.leagueCountry.fillna('nan',inplace=True)\n",
    "    \n",
    "    database=database.fillna(database.loc[train_indexes].median())\n",
    "\n",
    "    # Process birthday to keep only the year\n",
    "    database.birthday=database.birthday.apply(lambda x: int(x.split('.')[2]))\n",
    "    \n",
    "    # Add features - mean yellow cards per match of each player and the same quantity weighted with IAT and Exp\n",
    "    database=database.groupby('playerShort').apply(add_mean_player)\n",
    "\n",
    "    # Add features - mean yellow cards per role (also the weighted quantity)\n",
    "    train_grouped=database.loc[train_indexes].groupby(['position']).apply(add_mean_role)\n",
    "    train_grouped=train_grouped.groupby(['position']).first()\n",
    "    database=database.groupby(['position']).apply(lambda x: add_mean_role(x,train_grouped,False))\n",
    "\n",
    "    # Difference of added features \n",
    "    database['yellowDifference']=database.meanYellowPlayer-database.meanYellowRole\n",
    "    database['redDifference']=database.meanRedPlayer-database.meanRedRole\n",
    "    database['yellowRedDifference']=database.meanYellowRedPlayer-database.meanYellowRedRole\n",
    "    \n",
    "    database['yellowDifferenceIAT']=database.meanYellowPlayerIAT-database.meanYellowRoleIAT\n",
    "    database['redDifferenceIAT']=database.meanRedPlayerIAT-database.meanRedRoleIAT\n",
    "    database['yellowRedDifferenceIAT']=database.meanYellowRedPlayerIAT-database.meanYellowRedRoleIAT\n",
    "    \n",
    "    database['yellowDifferenceExp']=database.meanYellowPlayerExp-database.meanYellowRoleExp\n",
    "    database['redDifferenceExp']=database.meanRedPlayerExp-database.meanRedRoleExp\n",
    "    database['yellowRedDifferenceExp']=database.meanYellowRedPlayerExp-database.meanYellowRedRoleExp\n",
    "    \n",
    "    # Dummy variables\n",
    "    dummy_variables=pd.get_dummies(database[['position','leagueCountry']])\n",
    "    database=pd.concat([database,dummy_variables],axis=1)\n",
    "    del database['leagueCountry']\n",
    "    del database['position']\n",
    "    \n",
    "    # Split train e test\n",
    "    train=database.loc[train_indexes]\n",
    "    test=database.loc[test_indexes]\n",
    "    \n",
    "    # Extract one row per player\n",
    "    train=train.groupby('playerShort').mean()\n",
    "    test=test.groupby('playerShort').mean()\n",
    "    \n",
    "    # Get y and delete the columns in the train\n",
    "    y_train=(train['rater1']+train['rater2'])/2\n",
    "    y_test=(test['rater1']+test['rater2'])/2\n",
    "    del train['rater1']\n",
    "    del train['rater2']\n",
    "    del test['rater1']\n",
    "    del test['rater2']\n",
    "    train=train.drop(features_to_eliminate,axis=1)\n",
    "    test=test.drop(features_to_eliminate,axis=1)\n",
    "\n",
    "    \n",
    "    # y assumes only 0-1 values\n",
    "    if binary_y:\n",
    "        y_train=1*(y_train>0.3)\n",
    "        y_test=1*(y_test>0.3)\n",
    "    return train,test,y_train,y_test"
   ]
  },
  {
   "cell_type": "markdown",
   "metadata": {},
   "source": [
    "### Splitting in training and test database"
   ]
  },
  {
   "cell_type": "markdown",
   "metadata": {},
   "source": [
    "We define the training and test database for the following analysis"
   ]
  },
  {
   "cell_type": "code",
   "execution_count": 67,
   "metadata": {
    "collapsed": true
   },
   "outputs": [],
   "source": [
    "number_of_players=len(train_after_prep_2.playerShort.value_counts())"
   ]
  },
  {
   "cell_type": "code",
   "execution_count": 207,
   "metadata": {
    "collapsed": false
   },
   "outputs": [],
   "source": [
    "X_train, X_test, y_train, y_test = process_database(train_after_prep_2,train_indexes=np.random.randint(number_of_players,size=1000),test=True,binary_y=True)"
   ]
  },
  {
   "cell_type": "code",
   "execution_count": 73,
   "metadata": {
    "collapsed": false
   },
   "outputs": [
    {
     "data": {
      "text/html": [
       "<div>\n",
       "<table border=\"1\" class=\"dataframe\">\n",
       "  <thead>\n",
       "    <tr style=\"text-align: right;\">\n",
       "      <th></th>\n",
       "      <th>birthday</th>\n",
       "      <th>height</th>\n",
       "      <th>weight</th>\n",
       "      <th>meanYellowPlayer</th>\n",
       "      <th>meanRedPlayer</th>\n",
       "      <th>meanYellowRedPlayer</th>\n",
       "      <th>meanYellowPlayerIAT</th>\n",
       "      <th>meanRedPlayerIAT</th>\n",
       "      <th>meanYellowRedPlayerIAT</th>\n",
       "      <th>meanYellowPlayerExp</th>\n",
       "      <th>meanRedPlayerExp</th>\n",
       "      <th>meanYellowRedPlayerExp</th>\n",
       "      <th>yellowDifference</th>\n",
       "      <th>redDifference</th>\n",
       "      <th>yellowRedDifference</th>\n",
       "      <th>yellowDifferenceIAT</th>\n",
       "      <th>redDifferenceIAT</th>\n",
       "      <th>yellowRedDifferenceIAT</th>\n",
       "      <th>yellowDifferenceExp</th>\n",
       "    </tr>\n",
       "    <tr>\n",
       "      <th>playerShort</th>\n",
       "      <th></th>\n",
       "      <th></th>\n",
       "      <th></th>\n",
       "      <th></th>\n",
       "      <th></th>\n",
       "      <th></th>\n",
       "      <th></th>\n",
       "      <th></th>\n",
       "      <th></th>\n",
       "      <th></th>\n",
       "      <th></th>\n",
       "      <th></th>\n",
       "      <th></th>\n",
       "      <th></th>\n",
       "      <th></th>\n",
       "      <th></th>\n",
       "      <th></th>\n",
       "      <th></th>\n",
       "      <th></th>\n",
       "    </tr>\n",
       "  </thead>\n",
       "  <tbody>\n",
       "    <tr>\n",
       "      <th>aaron-hughes</th>\n",
       "      <td>1979.0</td>\n",
       "      <td>182.0</td>\n",
       "      <td>71.0</td>\n",
       "      <td>0.029921</td>\n",
       "      <td>0.000000</td>\n",
       "      <td>0.0</td>\n",
       "      <td>0.010111</td>\n",
       "      <td>0.000000</td>\n",
       "      <td>0.0</td>\n",
       "      <td>0.012962</td>\n",
       "      <td>0.000000</td>\n",
       "      <td>0.0</td>\n",
       "      <td>-0.130849</td>\n",
       "      <td>-0.006618</td>\n",
       "      <td>-0.005597</td>\n",
       "      <td>-0.045585</td>\n",
       "      <td>-0.002284</td>\n",
       "      <td>-0.001955</td>\n",
       "      <td>-0.058213</td>\n",
       "    </tr>\n",
       "    <tr>\n",
       "      <th>aaron-hunt</th>\n",
       "      <td>1986.0</td>\n",
       "      <td>183.0</td>\n",
       "      <td>73.0</td>\n",
       "      <td>0.118902</td>\n",
       "      <td>0.003049</td>\n",
       "      <td>0.0</td>\n",
       "      <td>0.040745</td>\n",
       "      <td>0.001026</td>\n",
       "      <td>0.0</td>\n",
       "      <td>0.046527</td>\n",
       "      <td>0.001024</td>\n",
       "      <td>0.0</td>\n",
       "      <td>-0.001654</td>\n",
       "      <td>0.000872</td>\n",
       "      <td>-0.002506</td>\n",
       "      <td>-0.001086</td>\n",
       "      <td>0.000269</td>\n",
       "      <td>-0.000861</td>\n",
       "      <td>-0.006225</td>\n",
       "    </tr>\n",
       "    <tr>\n",
       "      <th>aaron-ramsey</th>\n",
       "      <td>1990.0</td>\n",
       "      <td>178.0</td>\n",
       "      <td>76.0</td>\n",
       "      <td>0.123016</td>\n",
       "      <td>0.003968</td>\n",
       "      <td>0.0</td>\n",
       "      <td>0.041517</td>\n",
       "      <td>0.001328</td>\n",
       "      <td>0.0</td>\n",
       "      <td>0.052823</td>\n",
       "      <td>0.001334</td>\n",
       "      <td>0.0</td>\n",
       "      <td>-0.035500</td>\n",
       "      <td>-0.000171</td>\n",
       "      <td>-0.004293</td>\n",
       "      <td>-0.012967</td>\n",
       "      <td>-0.000091</td>\n",
       "      <td>-0.001513</td>\n",
       "      <td>-0.015476</td>\n",
       "    </tr>\n",
       "  </tbody>\n",
       "</table>\n",
       "</div>"
      ],
      "text/plain": [
       "              birthday  height  weight  meanYellowPlayer  meanRedPlayer  \\\n",
       "playerShort                                                               \n",
       "aaron-hughes    1979.0   182.0    71.0          0.029921       0.000000   \n",
       "aaron-hunt      1986.0   183.0    73.0          0.118902       0.003049   \n",
       "aaron-ramsey    1990.0   178.0    76.0          0.123016       0.003968   \n",
       "\n",
       "              meanYellowRedPlayer  meanYellowPlayerIAT  meanRedPlayerIAT  \\\n",
       "playerShort                                                                \n",
       "aaron-hughes                  0.0             0.010111          0.000000   \n",
       "aaron-hunt                    0.0             0.040745          0.001026   \n",
       "aaron-ramsey                  0.0             0.041517          0.001328   \n",
       "\n",
       "              meanYellowRedPlayerIAT  meanYellowPlayerExp  meanRedPlayerExp  \\\n",
       "playerShort                                                                   \n",
       "aaron-hughes                     0.0             0.012962          0.000000   \n",
       "aaron-hunt                       0.0             0.046527          0.001024   \n",
       "aaron-ramsey                     0.0             0.052823          0.001334   \n",
       "\n",
       "              meanYellowRedPlayerExp  yellowDifference  redDifference  \\\n",
       "playerShort                                                             \n",
       "aaron-hughes                     0.0         -0.130849      -0.006618   \n",
       "aaron-hunt                       0.0         -0.001654       0.000872   \n",
       "aaron-ramsey                     0.0         -0.035500      -0.000171   \n",
       "\n",
       "              yellowRedDifference  yellowDifferenceIAT  redDifferenceIAT  \\\n",
       "playerShort                                                                \n",
       "aaron-hughes            -0.005597            -0.045585         -0.002284   \n",
       "aaron-hunt              -0.002506            -0.001086          0.000269   \n",
       "aaron-ramsey            -0.004293            -0.012967         -0.000091   \n",
       "\n",
       "              yellowRedDifferenceIAT  yellowDifferenceExp  \n",
       "playerShort                                                \n",
       "aaron-hughes               -0.001955            -0.058213  \n",
       "aaron-hunt                 -0.000861            -0.006225  \n",
       "aaron-ramsey               -0.001513            -0.015476  "
      ]
     },
     "execution_count": 73,
     "metadata": {},
     "output_type": "execute_result"
    }
   ],
   "source": [
    "X_train.ix[:,:19].head(3)"
   ]
  },
  {
   "cell_type": "code",
   "execution_count": 74,
   "metadata": {
    "collapsed": false
   },
   "outputs": [
    {
     "data": {
      "text/html": [
       "<div>\n",
       "<table border=\"1\" class=\"dataframe\">\n",
       "  <thead>\n",
       "    <tr style=\"text-align: right;\">\n",
       "      <th></th>\n",
       "      <th>redDifferenceExp</th>\n",
       "      <th>yellowRedDifferenceExp</th>\n",
       "      <th>position_Attacking Midfielder</th>\n",
       "      <th>position_Center Back</th>\n",
       "      <th>position_Center Forward</th>\n",
       "      <th>position_Center Midfielder</th>\n",
       "      <th>position_Defensive Midfielder</th>\n",
       "      <th>position_Goalkeeper</th>\n",
       "      <th>position_Left Fullback</th>\n",
       "      <th>position_Left Midfielder</th>\n",
       "      <th>position_Left Winger</th>\n",
       "      <th>position_Right Fullback</th>\n",
       "      <th>position_Right Midfielder</th>\n",
       "      <th>position_Right Winger</th>\n",
       "      <th>position_nan</th>\n",
       "      <th>leagueCountry_England</th>\n",
       "      <th>leagueCountry_France</th>\n",
       "      <th>leagueCountry_Germany</th>\n",
       "      <th>leagueCountry_Spain</th>\n",
       "    </tr>\n",
       "    <tr>\n",
       "      <th>playerShort</th>\n",
       "      <th></th>\n",
       "      <th></th>\n",
       "      <th></th>\n",
       "      <th></th>\n",
       "      <th></th>\n",
       "      <th></th>\n",
       "      <th></th>\n",
       "      <th></th>\n",
       "      <th></th>\n",
       "      <th></th>\n",
       "      <th></th>\n",
       "      <th></th>\n",
       "      <th></th>\n",
       "      <th></th>\n",
       "      <th></th>\n",
       "      <th></th>\n",
       "      <th></th>\n",
       "      <th></th>\n",
       "      <th></th>\n",
       "    </tr>\n",
       "  </thead>\n",
       "  <tbody>\n",
       "    <tr>\n",
       "      <th>aaron-hughes</th>\n",
       "      <td>-0.002876</td>\n",
       "      <td>-0.002547</td>\n",
       "      <td>0.0</td>\n",
       "      <td>1.0</td>\n",
       "      <td>0.0</td>\n",
       "      <td>0.0</td>\n",
       "      <td>0.0</td>\n",
       "      <td>0.0</td>\n",
       "      <td>0.0</td>\n",
       "      <td>0.0</td>\n",
       "      <td>0.0</td>\n",
       "      <td>0.0</td>\n",
       "      <td>0.0</td>\n",
       "      <td>0.0</td>\n",
       "      <td>0.0</td>\n",
       "      <td>1.0</td>\n",
       "      <td>0.0</td>\n",
       "      <td>0.0</td>\n",
       "      <td>0.0</td>\n",
       "    </tr>\n",
       "    <tr>\n",
       "      <th>aaron-hunt</th>\n",
       "      <td>0.000078</td>\n",
       "      <td>-0.001088</td>\n",
       "      <td>1.0</td>\n",
       "      <td>0.0</td>\n",
       "      <td>0.0</td>\n",
       "      <td>0.0</td>\n",
       "      <td>0.0</td>\n",
       "      <td>0.0</td>\n",
       "      <td>0.0</td>\n",
       "      <td>0.0</td>\n",
       "      <td>0.0</td>\n",
       "      <td>0.0</td>\n",
       "      <td>0.0</td>\n",
       "      <td>0.0</td>\n",
       "      <td>0.0</td>\n",
       "      <td>0.0</td>\n",
       "      <td>0.0</td>\n",
       "      <td>1.0</td>\n",
       "      <td>0.0</td>\n",
       "    </tr>\n",
       "    <tr>\n",
       "      <th>aaron-ramsey</th>\n",
       "      <td>-0.000384</td>\n",
       "      <td>-0.002018</td>\n",
       "      <td>0.0</td>\n",
       "      <td>0.0</td>\n",
       "      <td>0.0</td>\n",
       "      <td>1.0</td>\n",
       "      <td>0.0</td>\n",
       "      <td>0.0</td>\n",
       "      <td>0.0</td>\n",
       "      <td>0.0</td>\n",
       "      <td>0.0</td>\n",
       "      <td>0.0</td>\n",
       "      <td>0.0</td>\n",
       "      <td>0.0</td>\n",
       "      <td>0.0</td>\n",
       "      <td>1.0</td>\n",
       "      <td>0.0</td>\n",
       "      <td>0.0</td>\n",
       "      <td>0.0</td>\n",
       "    </tr>\n",
       "  </tbody>\n",
       "</table>\n",
       "</div>"
      ],
      "text/plain": [
       "              redDifferenceExp  yellowRedDifferenceExp  \\\n",
       "playerShort                                              \n",
       "aaron-hughes         -0.002876               -0.002547   \n",
       "aaron-hunt            0.000078               -0.001088   \n",
       "aaron-ramsey         -0.000384               -0.002018   \n",
       "\n",
       "              position_Attacking Midfielder  position_Center Back  \\\n",
       "playerShort                                                         \n",
       "aaron-hughes                            0.0                   1.0   \n",
       "aaron-hunt                              1.0                   0.0   \n",
       "aaron-ramsey                            0.0                   0.0   \n",
       "\n",
       "              position_Center Forward  position_Center Midfielder  \\\n",
       "playerShort                                                         \n",
       "aaron-hughes                      0.0                         0.0   \n",
       "aaron-hunt                        0.0                         0.0   \n",
       "aaron-ramsey                      0.0                         1.0   \n",
       "\n",
       "              position_Defensive Midfielder  position_Goalkeeper  \\\n",
       "playerShort                                                        \n",
       "aaron-hughes                            0.0                  0.0   \n",
       "aaron-hunt                              0.0                  0.0   \n",
       "aaron-ramsey                            0.0                  0.0   \n",
       "\n",
       "              position_Left Fullback  position_Left Midfielder  \\\n",
       "playerShort                                                      \n",
       "aaron-hughes                     0.0                       0.0   \n",
       "aaron-hunt                       0.0                       0.0   \n",
       "aaron-ramsey                     0.0                       0.0   \n",
       "\n",
       "              position_Left Winger  position_Right Fullback  \\\n",
       "playerShort                                                   \n",
       "aaron-hughes                   0.0                      0.0   \n",
       "aaron-hunt                     0.0                      0.0   \n",
       "aaron-ramsey                   0.0                      0.0   \n",
       "\n",
       "              position_Right Midfielder  position_Right Winger  position_nan  \\\n",
       "playerShort                                                                    \n",
       "aaron-hughes                        0.0                    0.0           0.0   \n",
       "aaron-hunt                          0.0                    0.0           0.0   \n",
       "aaron-ramsey                        0.0                    0.0           0.0   \n",
       "\n",
       "              leagueCountry_England  leagueCountry_France  \\\n",
       "playerShort                                                 \n",
       "aaron-hughes                    1.0                   0.0   \n",
       "aaron-hunt                      0.0                   0.0   \n",
       "aaron-ramsey                    1.0                   0.0   \n",
       "\n",
       "              leagueCountry_Germany  leagueCountry_Spain  \n",
       "playerShort                                               \n",
       "aaron-hughes                    0.0                  0.0  \n",
       "aaron-hunt                      1.0                  0.0  \n",
       "aaron-ramsey                    0.0                  0.0  "
      ]
     },
     "execution_count": 74,
     "metadata": {},
     "output_type": "execute_result"
    }
   ],
   "source": [
    "X_train.ix[:,19:].head(3)"
   ]
  },
  {
   "cell_type": "markdown",
   "metadata": {},
   "source": [
    "## Classification function"
   ]
  },
  {
   "cell_type": "markdown",
   "metadata": {},
   "source": [
    "Given the train and test database, this function trains a Random Forest classifier on the training set and evaluates it on the testing set. It returns the zero one loss (see [here](https://en.wikipedia.org/wiki/Loss_function#0-1_loss_function)) of the classifier evaluated on the testing database:"
   ]
  },
  {
   "cell_type": "code",
   "execution_count": 185,
   "metadata": {
    "collapsed": false
   },
   "outputs": [],
   "source": [
    "def evaluate_random_forest_model(X_train,X_test,y_train,y_test,return_feature_importances=False,n_estimators=10,criterion='gini',\n",
    "                                max_depth=None,min_samples_split=2, min_samples_leaf=1, \n",
    "              min_weight_fraction_leaf=0.0, max_features='auto', max_leaf_nodes=None, \n",
    "              bootstrap=True, oob_score=False, n_jobs=1, random_state=None, \n",
    "              verbose=0, warm_start=False, class_weight=None):\n",
    "    ''' \n",
    "        @ params:\n",
    "            - X_train, training database\n",
    "            - X_test, testing database\n",
    "            - y_train, y_test, the output for the training and test database\n",
    "            - the others, the parameters for the Random Forest classifier.\n",
    "        @ returns:\n",
    "            - the zero one loss of the classifier evaluated on the testing database\n",
    "    '''\n",
    "    \n",
    "    rfc = RandomForestClassifier(n_estimators=n_estimators,criterion=criterion,\n",
    "                                max_depth=max_depth,min_samples_split=min_samples_split, \n",
    "                                                       min_samples_leaf=min_samples_leaf, \n",
    "                                                       min_weight_fraction_leaf=min_weight_fraction_leaf, \n",
    "                                                       max_features=max_features, max_leaf_nodes=max_leaf_nodes, \n",
    "                                                       bootstrap=bootstrap, \n",
    "                                                       oob_score=oob_score, n_jobs=n_jobs, random_state=random_state, \n",
    "                                                       verbose=verbose, warm_start=warm_start, \n",
    "                                                       class_weight=class_weight)\n",
    "    sample_weight=np.array([2.1 if i == 0 else 1 for i in y_train])\n",
    "    rfc.fit(X_train,np.asarray(y_train, dtype=\"|S6\"),sample_weight=sample_weight)\n",
    "    y_out=rfc.predict(X_test)\n",
    "    y_out=np.asarray(y_out,float)\n",
    "#     print(metrics.confusion_matrix(y_out,y_test))\n",
    "    if return_feature_importances:\n",
    "        return metrics.zero_one_loss(y_out,y_test),rfc.feature_importances_\n",
    "    else:\n",
    "        return metrics.zero_one_loss(y_out,y_test)"
   ]
  },
  {
   "cell_type": "markdown",
   "metadata": {},
   "source": [
    "## Overfitting - feature importances\n",
    "We compute the overfitting rate obtained with the default parameter of the Random Forest classifier:"
   ]
  },
  {
   "cell_type": "code",
   "execution_count": 167,
   "metadata": {
    "collapsed": false,
    "scrolled": true
   },
   "outputs": [
    {
     "name": "stdout",
     "output_type": "stream",
     "text": [
      "The percentage of errors in the test dataset with the model trained in the train dataset is: 0.306242638398\n",
      "The percentage of errors in the train dataset with the model trained in the train dataset is: 0.0421768707483\n",
      "\n",
      "\n",
      "\n",
      "Column 0:\t birthday\n",
      "Column 1:\t height\n",
      "Column 2:\t weight\n",
      "Column 3:\t meanYellowPlayer\n",
      "Column 4:\t meanRedPlayer\n",
      "Column 5:\t meanYellowRedPlayer\n",
      "Column 6:\t meanYellowPlayerIAT\n",
      "Column 7:\t meanRedPlayerIAT\n",
      "Column 8:\t meanYellowRedPlayerIAT\n",
      "Column 9:\t meanYellowPlayerExp\n",
      "Column 10:\t meanRedPlayerExp\n",
      "Column 11:\t meanYellowRedPlayerExp\n",
      "Column 12:\t yellowDifference\n",
      "Column 13:\t redDifference\n",
      "Column 14:\t yellowRedDifference\n",
      "Column 15:\t yellowDifferenceIAT\n",
      "Column 16:\t redDifferenceIAT\n",
      "Column 17:\t yellowRedDifferenceIAT\n",
      "Column 18:\t yellowDifferenceExp\n",
      "Column 19:\t redDifferenceExp\n",
      "Column 20:\t yellowRedDifferenceExp\n",
      "Column 21:\t position_Attacking Midfielder\n",
      "Column 22:\t position_Center Back\n",
      "Column 23:\t position_Center Forward\n",
      "Column 24:\t position_Center Midfielder\n",
      "Column 25:\t position_Defensive Midfielder\n",
      "Column 26:\t position_Goalkeeper\n",
      "Column 27:\t position_Left Fullback\n",
      "Column 28:\t position_Left Midfielder\n",
      "Column 29:\t position_Left Winger\n",
      "Column 30:\t position_Right Fullback\n",
      "Column 31:\t position_Right Midfielder\n",
      "Column 32:\t position_Right Winger\n",
      "Column 33:\t position_nan\n",
      "Column 34:\t leagueCountry_England\n",
      "Column 35:\t leagueCountry_France\n",
      "Column 36:\t leagueCountry_Germany\n",
      "Column 37:\t leagueCountry_Spain\n"
     ]
    },
    {
     "data": {
      "image/png": "[encoded data removed]",
      "text/plain": [
       "<matplotlib.figure.Figure at 0x7fdf6316fcc0>"
      ]
     },
     "metadata": {},
     "output_type": "display_data"
    },
    {
     "data": {
      "image/png": "[encoded data removed]",
      "text/plain": [
       "<matplotlib.figure.Figure at 0x7fdf62a2fb70>"
      ]
     },
     "metadata": {},
     "output_type": "display_data"
    }
   ],
   "source": [
    "error_test,features_importances_test=evaluate_random_forest_model(X_train,X_test,y_train,y_test,return_feature_importances=True)\n",
    "error_train,features_importances_train=evaluate_random_forest_model(X_train,X_train,y_train,y_train,return_feature_importances=True)\n",
    "print('The percentage of errors in the test dataset with the model trained in the train dataset is:',error_test)\n",
    "print('The percentage of errors in the train dataset with the model trained in the train dataset is:',error_train)\n",
    "print('\\n\\n')\n",
    "for i,feature in enumerate(X_train.columns.values):\n",
    "    print('Column '+str(i)+':\\t',feature)\n",
    "\n",
    "indices = np.argsort(features_importances_test)[::-1]\n",
    "plt.figure()\n",
    "plt.title(\"Feature importances test\")\n",
    "plt.bar(range(X_train.shape[1]), features_importances_test[indices],\n",
    "       color=\"r\", align=\"center\")\n",
    "plt.xticks(range(X_train.shape[1]), indices)\n",
    "plt.xlim([-1, X_train.shape[1]])\n",
    "plt.show()\n",
    "\n",
    "indices = np.argsort(features_importances_train)[::-1]\n",
    "plt.figure()\n",
    "plt.title(\"Feature importances test\")\n",
    "plt.bar(range(X_train.shape[1]), features_importances_train[indices],\n",
    "       color=\"r\", align=\"center\")\n",
    "plt.xticks(range(X_train.shape[1]), indices)\n",
    "plt.xlim([-1, X_train.shape[1]])\n",
    "plt.show()"
   ]
  },
  {
   "cell_type": "markdown",
   "metadata": {
    "collapsed": false,
    "scrolled": true
   },
   "source": [
    "As you can see the difference in overfitting is very high: with the default parameters the model strongly overfit in the training dataset.\n",
    "\n",
    "About the feature\\_importances\\_ property, from the shown plot, it seems that the dummy variables are the less important. However there is not a group of features clearly more important than the others. More analysis will be done using the cross validation"
   ]
  },
  {
   "cell_type": "markdown",
   "metadata": {},
   "source": [
    "## Parameter variation to estimate overfitting"
   ]
  },
  {
   "cell_type": "markdown",
   "metadata": {},
   "source": [
    "In this section we will plot learning curves to show how the overfitting issue varies with different parameters.\n",
    "We study 2 parameters:\n",
    "- max\\_depth\n",
    "- n\\_estimators\n",
    "\n",
    "As you can see, with a lower max_depth than the default the overfitting is less pronounced (it actually becomes 0 with very low values).\n",
    "\n",
    "For the n_estimators parameter, instead, it does not vary significantly."
   ]
  },
  {
   "cell_type": "code",
   "execution_count": 105,
   "metadata": {
    "collapsed": false
   },
   "outputs": [],
   "source": [
    "plt.rcParams['figure.figsize'] = (10.0, 8.0)\n"
   ]
  },
  {
   "cell_type": "markdown",
   "metadata": {},
   "source": [
    "### max_depth analysis"
   ]
  },
  {
   "cell_type": "code",
   "execution_count": 108,
   "metadata": {
    "collapsed": false,
    "scrolled": true
   },
   "outputs": [],
   "source": [
    "error_train=[]\n",
    "error_test=[]\n",
    "for i in range(1,20):\n",
    "    error_test.append(evaluate_random_forest_model(X_train,X_test,y_train,y_test,max_depth=i))\n",
    "    error_train.append(evaluate_random_forest_model(X_train,X_train,y_train,y_train,max_depth=i))\n"
   ]
  },
  {
   "cell_type": "code",
   "execution_count": 109,
   "metadata": {
    "collapsed": false,
    "scrolled": false
   },
   "outputs": [
    {
     "data": {
      "text/plain": [
       "<matplotlib.text.Text at 0x7fdf617792b0>"
      ]
     },
     "execution_count": 109,
     "metadata": {},
     "output_type": "execute_result"
    },
    {
     "data": {
      "image/png": "[encoded data removed]",
      "text/plain": [
       "<matplotlib.figure.Figure at 0x7fdf62dbe3c8>"
      ]
     },
     "metadata": {},
     "output_type": "display_data"
    }
   ],
   "source": [
    "plt.plot(range(1,20),error_test)\n",
    "plt.plot(range(1,20),error_train)\n",
    "plt.legend(['test_error','train_error'])\n",
    "plt.title('Error with different max_depth')\n",
    "plt.xlabel('max_depth')\n",
    "plt.ylabel('mean square error')"
   ]
  },
  {
   "cell_type": "markdown",
   "metadata": {},
   "source": [
    "### n_estimators analysis"
   ]
  },
  {
   "cell_type": "code",
   "execution_count": 111,
   "metadata": {
    "collapsed": false
   },
   "outputs": [],
   "source": [
    "error_train=[]\n",
    "error_test=[]\n",
    "for i in range(1,40):\n",
    "    error_test.append(evaluate_random_forest_model(X_train,X_test,y_train,y_test,n_estimators=i))\n",
    "    error_train.append(evaluate_random_forest_model(X_train,X_train,y_train,y_train,n_estimators=i))\n"
   ]
  },
  {
   "cell_type": "code",
   "execution_count": 112,
   "metadata": {
    "collapsed": false
   },
   "outputs": [
    {
     "data": {
      "text/plain": [
       "<matplotlib.text.Text at 0x7fdf617f7710>"
      ]
     },
     "execution_count": 112,
     "metadata": {},
     "output_type": "execute_result"
    },
    {
     "data": {
      "image/png": "[encoded data removed]",
      "text/plain": [
       "<matplotlib.figure.Figure at 0x7fdf617770f0>"
      ]
     },
     "metadata": {},
     "output_type": "display_data"
    }
   ],
   "source": [
    "plt.plot(range(1,40),error_test)\n",
    "plt.plot(range(1,40),error_train)\n",
    "plt.legend(['test_error','train_error'])\n",
    "plt.title('Error with different n_estimators')\n",
    "plt.xlabel('n_estimators')\n",
    "plt.ylabel('mean square error')"
   ]
  },
  {
   "cell_type": "markdown",
   "metadata": {},
   "source": [
    "## Cross validation"
   ]
  },
  {
   "cell_type": "markdown",
   "metadata": {},
   "source": [
    "We introduced cross validation to get more precise results.\n",
    "We chosed **n_folds=20**."
   ]
  },
  {
   "cell_type": "code",
   "execution_count": 127,
   "metadata": {
    "collapsed": false
   },
   "outputs": [],
   "source": [
    "kf = KFold(X_train.shape[0]+X_test.shape[0], n_folds=20, shuffle=True)"
   ]
  },
  {
   "cell_type": "code",
   "execution_count": 229,
   "metadata": {
    "collapsed": false
   },
   "outputs": [],
   "source": [
    "def cross_val(database,features_to_remove=[],feature_importances=False,n_estimators=10,criterion='gini',\n",
    "                                max_depth=None,min_samples_split=2, min_samples_leaf=1, \n",
    "              min_weight_fraction_leaf=0.0, max_features='auto', max_leaf_nodes=None, \n",
    "              bootstrap=True, oob_score=False, n_jobs=1, random_state=1, \n",
    "              verbose=0, warm_start=False, class_weight=None):\n",
    "    \n",
    "    error_train=[]\n",
    "    error_test=[]\n",
    "    feature_importances_train=[]\n",
    "    feature_importances_test=[]\n",
    "    for iteration, data in enumerate(kf, start=1):\n",
    "\n",
    "        X_train,X_test,y_train,y_test=process_database(database,train_indexes=data[0],test=True,binary_y=True)\n",
    "        X_train=X_train.drop(features_to_remove,axis=1)\n",
    "        X_test=X_test.drop(features_to_remove,axis=1)\n",
    "        error_test_=evaluate_random_forest_model(X_train,X_test,y_train,y_test,\n",
    "                                                        return_feature_importances=feature_importances,\n",
    "                                                       n_estimators=n_estimators,criterion=criterion,\n",
    "                                                       max_depth=max_depth,min_samples_split=min_samples_split, \n",
    "                                                       min_samples_leaf=min_samples_leaf, \n",
    "                                                       min_weight_fraction_leaf=min_weight_fraction_leaf, \n",
    "                                                       max_features=max_features, max_leaf_nodes=max_leaf_nodes, \n",
    "                                                       bootstrap=bootstrap, \n",
    "                                                       oob_score=oob_score, n_jobs=n_jobs, random_state=random_state, \n",
    "                                                       verbose=verbose, warm_start=warm_start, \n",
    "                                                       class_weight=class_weight)\n",
    "        if feature_importances:\n",
    "            error_test_,feat_imp_test_=error_test_\n",
    "        error_train_=evaluate_random_forest_model(X_train,X_train,y_train,y_train,\n",
    "                                                        return_feature_importances=feature_importances,\n",
    "                                                        n_estimators=n_estimators,criterion=criterion,\n",
    "                                                       max_depth=max_depth,min_samples_split=min_samples_split, \n",
    "                                                       min_samples_leaf=min_samples_leaf, \n",
    "                                                       min_weight_fraction_leaf=min_weight_fraction_leaf, \n",
    "                                                       max_features=max_features, max_leaf_nodes=max_leaf_nodes, \n",
    "                                                       bootstrap=bootstrap, \n",
    "                                                       oob_score=oob_score, n_jobs=n_jobs, random_state=random_state, \n",
    "                                                       verbose=verbose, warm_start=warm_start, \n",
    "                                                       class_weight=class_weight)\n",
    "        if feature_importances:\n",
    "            error_train_,feat_imp_train_=error_train_\n",
    "        \n",
    "            feature_importances_train.append(feat_imp_train_)\n",
    "            feature_importances_test.append(feat_imp_test_)\n",
    "        error_test.append(error_test_)\n",
    "        error_train.append(error_train_)\n",
    "        \n",
    "    if feature_importances:\n",
    "        return np.mean(error_train),np.mean(error_test),np.mean(feature_importances_train,axis=0),np.mean(feature_importances_test,axis=0)\n",
    "    else:\n",
    "        return np.mean(error_train),np.mean(error_test)\n"
   ]
  },
  {
   "cell_type": "markdown",
   "metadata": {},
   "source": [
    "## Training parameters"
   ]
  },
  {
   "cell_type": "markdown",
   "metadata": {},
   "source": [
    "In this section we train the Random Forest classifier with different parameters in order to find the best ones.\n",
    "We did not remove any feature for this part."
   ]
  },
  {
   "cell_type": "markdown",
   "metadata": {},
   "source": [
    "### max_depth"
   ]
  },
  {
   "cell_type": "code",
   "execution_count": 232,
   "metadata": {
    "collapsed": false,
    "scrolled": true
   },
   "outputs": [
    {
     "name": "stdout",
     "output_type": "stream",
     "text": [
      "2\n",
      "3\n",
      "4\n",
      "5\n",
      "6\n",
      "7\n",
      "8\n",
      "9\n",
      "10\n",
      "11\n",
      "12\n",
      "13\n",
      "14\n",
      "15\n",
      "16\n",
      "17\n",
      "18\n",
      "19\n"
     ]
    }
   ],
   "source": [
    "error_train=[]\n",
    "error_test=[]\n",
    "# for i in np.linspace(0,0.5,40):\n",
    "for i in range(2,20):\n",
    "    error_train_,error_test_=cross_val(train_after_prep_2,max_depth=i)\n",
    "    error_train.append(error_train_)\n",
    "    error_test.append(error_test_)\n",
    "    if i%1==0:\n",
    "        print(i)\n"
   ]
  },
  {
   "cell_type": "code",
   "execution_count": 233,
   "metadata": {
    "collapsed": false
   },
   "outputs": [
    {
     "data": {
      "text/plain": [
       "<matplotlib.text.Text at 0x7fdf600714e0>"
      ]
     },
     "execution_count": 233,
     "metadata": {},
     "output_type": "execute_result"
    },
    {
     "data": {
      "image/png": "[encoded data removed]",
      "text/plain": [
       "<matplotlib.figure.Figure at 0x7fdf60a8c668>"
      ]
     },
     "metadata": {},
     "output_type": "display_data"
    }
   ],
   "source": [
    "plt.plot(range(2,20),error_test)\n",
    "plt.plot(range(2,20),error_train)\n",
    "plt.legend(['test_error','train_error'])\n",
    "plt.title('Error with different max_depth')\n",
    "plt.xlabel('max_depth')\n",
    "plt.ylabel('mean square error')"
   ]
  },
  {
   "cell_type": "code",
   "execution_count": 234,
   "metadata": {
    "collapsed": false
   },
   "outputs": [
    {
     "name": "stdout",
     "output_type": "stream",
     "text": [
      "The best parameter found is max_depth = 8\n"
     ]
    }
   ],
   "source": [
    "argmin=np.argmin(error_test)\n",
    "best_par=range(2,20)[argmin]\n",
    "print('The best parameter found is max_depth =',best_par)"
   ]
  },
  {
   "cell_type": "markdown",
   "metadata": {},
   "source": [
    "### n_estimators"
   ]
  },
  {
   "cell_type": "code",
   "execution_count": 235,
   "metadata": {
    "collapsed": false,
    "scrolled": true
   },
   "outputs": [
    {
     "name": "stdout",
     "output_type": "stream",
     "text": [
      "5\n",
      "10\n",
      "15\n"
     ]
    }
   ],
   "source": [
    "error_train=[]\n",
    "error_test=[]\n",
    "for i in range(1,20):\n",
    "    error_train_,error_test_=cross_val(train_after_prep_2,n_estimators=i)\n",
    "    error_train.append(error_train_)\n",
    "    error_test.append(error_test_)\n",
    "    if i%5==0:\n",
    "        print(i)\n"
   ]
  },
  {
   "cell_type": "code",
   "execution_count": 236,
   "metadata": {
    "collapsed": false
   },
   "outputs": [
    {
     "data": {
      "text/plain": [
       "<matplotlib.text.Text at 0x7fdf6100fcc0>"
      ]
     },
     "execution_count": 236,
     "metadata": {},
     "output_type": "execute_result"
    },
    {
     "data": {
      "image/png": "[encoded data removed]",
      "text/plain": [
       "<matplotlib.figure.Figure at 0x7fdf6074dbe0>"
      ]
     },
     "metadata": {},
     "output_type": "display_data"
    }
   ],
   "source": [
    "plt.plot(range(1,20),error_test)\n",
    "plt.plot(range(1,20),error_train)\n",
    "plt.legend(['test_error','train_error'])\n",
    "plt.title('Error with different n_estimators')\n",
    "plt.xlabel('n_estimators')\n",
    "plt.ylabel('mean square error')"
   ]
  },
  {
   "cell_type": "code",
   "execution_count": 237,
   "metadata": {
    "collapsed": false
   },
   "outputs": [
    {
     "name": "stdout",
     "output_type": "stream",
     "text": [
      "The best parameter found is n_estimators = 15\n"
     ]
    }
   ],
   "source": [
    "argmin=np.argmin(error_test)\n",
    "best_par=range(1,20)[argmin]\n",
    "print('The best parameter found is n_estimators =',best_par)"
   ]
  },
  {
   "cell_type": "markdown",
   "metadata": {},
   "source": [
    "### criterion"
   ]
  },
  {
   "cell_type": "code",
   "execution_count": 238,
   "metadata": {
    "collapsed": false
   },
   "outputs": [],
   "source": [
    "error_train=[]\n",
    "error_test=[]\n",
    "\n",
    "error_train_,error_test_=cross_val(train_after_prep_2,criterion='gini')\n",
    "\n",
    "error_train.append(error_train_)\n",
    "error_test.append(error_test_)\n",
    "\n",
    "error_train_,error_test_=cross_val(train_after_prep_2,criterion='entropy')\n",
    "\n",
    "error_train.append(error_train_)\n",
    "error_test.append(error_test_)"
   ]
  },
  {
   "cell_type": "code",
   "execution_count": 239,
   "metadata": {
    "collapsed": false
   },
   "outputs": [
    {
     "name": "stdout",
     "output_type": "stream",
     "text": [
      "The error for the gini criterion is: 0.307507911392\n",
      "The error for the entropy criterion is: 0.310664556962\n",
      "The best criterion found is  gini\n"
     ]
    }
   ],
   "source": [
    "argmin=np.argmin(error_test)\n",
    "print('The error for the gini criterion is:',error_test[0])\n",
    "print('The error for the entropy criterion is:',error_test[1])\n",
    "print('The best criterion found is ',list(['gini','entropy'])[argmin])"
   ]
  },
  {
   "cell_type": "markdown",
   "metadata": {},
   "source": [
    "## Best parameters so far"
   ]
  },
  {
   "cell_type": "code",
   "execution_count": 212,
   "metadata": {
    "collapsed": false,
    "scrolled": true
   },
   "outputs": [
    {
     "data": {
      "text/plain": [
       "0.29166666666666669"
      ]
     },
     "execution_count": 212,
     "metadata": {},
     "output_type": "execute_result"
    }
   ],
   "source": [
    "(sum(y_test==1)+sum(y_train==1))/(len(y_test)+len(y_train))"
   ]
  },
  {
   "cell_type": "code",
   "execution_count": 231,
   "metadata": {
    "collapsed": false,
    "scrolled": true
   },
   "outputs": [
    {
     "data": {
      "text/plain": [
       "(0.27824297996041569, 0.28731803797468353)"
      ]
     },
     "execution_count": 231,
     "metadata": {},
     "output_type": "execute_result"
    }
   ],
   "source": [
    "cross_val(train_after_prep_2,max_depth=4,n_estimators=15,criterion='gini')"
   ]
  },
  {
   "cell_type": "markdown",
   "metadata": {},
   "source": [
    "## Removing less important features\n",
    "In order to remove the less important features we proceeded in this way:\n",
    "- We evaluate a particular configuration through a cross validation process;\n",
    "- We observe the relative features_importances_ parameter;\n",
    "- We remove the less important feature (lowest importance score);\n",
    "- We iterate until we have removed 15 out of 38 features."
   ]
  },
  {
   "cell_type": "code",
   "execution_count": 240,
   "metadata": {
    "collapsed": false,
    "scrolled": false
   },
   "outputs": [
    {
     "name": "stdout",
     "output_type": "stream",
     "text": [
      "Error: 0.287935126582\n",
      "Removed feature from the next iteration: position_Center Midfielder\n"
     ]
    },
    {
     "data": {
      "image/png": "[encoded data removed]",
      "text/plain": [
       "<matplotlib.figure.Figure at 0x7fdf630603c8>"
      ]
     },
     "metadata": {},
     "output_type": "display_data"
    },
    {
     "name": "stdout",
     "output_type": "stream",
     "text": [
      "------------------------------------------------------------------\n",
      "Error: 0.287935126582\n",
      "Removed feature from the next iteration: position_Right Midfielder\n"
     ]
    },
    {
     "data": {
      "image/png": "[encoded data removed]",
      "text/plain": [
       "<matplotlib.figure.Figure at 0x7fdf61b15908>"
      ]
     },
     "metadata": {},
     "output_type": "display_data"
    },
    {
     "name": "stdout",
     "output_type": "stream",
     "text": [
      "------------------------------------------------------------------\n",
      "Error: 0.289208860759\n",
      "Removed feature from the next iteration: position_Left Midfielder\n"
     ]
    },
    {
     "data": {
      "image/png": "[encoded data removed]",
      "text/plain": [
       "<matplotlib.figure.Figure at 0x7fdf60835d30>"
      ]
     },
     "metadata": {},
     "output_type": "display_data"
    },
    {
     "name": "stdout",
     "output_type": "stream",
     "text": [
      "------------------------------------------------------------------\n",
      "Error: 0.288575949367\n",
      "Removed feature from the next iteration: position_Defensive Midfielder\n"
     ]
    },
    {
     "data": {
      "image/png": "[encoded data removed]",
      "text/plain": [
       "<matplotlib.figure.Figure at 0x7fdf614033c8>"
      ]
     },
     "metadata": {},
     "output_type": "display_data"
    },
    {
     "name": "stdout",
     "output_type": "stream",
     "text": [
      "------------------------------------------------------------------\n",
      "Error: 0.288575949367\n",
      "Removed feature from the next iteration: position_Center Back\n"
     ]
    },
    {
     "data": {
      "image/png": "[encoded data removed]",
      "text/plain": [
       "<matplotlib.figure.Figure at 0x7fdf6085aa20>"
      ]
     },
     "metadata": {},
     "output_type": "display_data"
    },
    {
     "name": "stdout",
     "output_type": "stream",
     "text": [
      "------------------------------------------------------------------\n",
      "Error: 0.287958860759\n",
      "Removed feature from the next iteration: position_Attacking Midfielder\n"
     ]
    },
    {
     "data": {
      "image/png": "[encoded data removed]",
      "text/plain": [
       "<matplotlib.figure.Figure at 0x7fdf60332630>"
      ]
     },
     "metadata": {},
     "output_type": "display_data"
    },
    {
     "name": "stdout",
     "output_type": "stream",
     "text": [
      "------------------------------------------------------------------\n",
      "Error: 0.290474683544\n",
      "Removed feature from the next iteration: position_Left Fullback\n"
     ]
    },
    {
     "data": {
      "image/png": "[encoded data removed]",
      "text/plain": [
       "<matplotlib.figure.Figure at 0x7fdf608ff780>"
      ]
     },
     "metadata": {},
     "output_type": "display_data"
    },
    {
     "name": "stdout",
     "output_type": "stream",
     "text": [
      "------------------------------------------------------------------\n",
      "Error: 0.288575949367\n",
      "Removed feature from the next iteration: position_Right Fullback\n"
     ]
    },
    {
     "data": {
      "image/png": "[encoded data removed]",
      "text/plain": [
       "<matplotlib.figure.Figure at 0x7fdf60902978>"
      ]
     },
     "metadata": {},
     "output_type": "display_data"
    },
    {
     "name": "stdout",
     "output_type": "stream",
     "text": [
      "------------------------------------------------------------------\n",
      "Error: 0.289200949367\n",
      "Removed feature from the next iteration: position_Left Winger\n"
     ]
    },
    {
     "data": {
      "image/png": "[encoded data removed]",
      "text/plain": [
       "<matplotlib.figure.Figure at 0x7fdf60312400>"
      ]
     },
     "metadata": {},
     "output_type": "display_data"
    },
    {
     "name": "stdout",
     "output_type": "stream",
     "text": [
      "------------------------------------------------------------------\n",
      "Error: 0.28667721519\n",
      "Removed feature from the next iteration: position_nan\n"
     ]
    },
    {
     "data": {
      "image/png": "[encoded data removed]",
      "text/plain": [
       "<matplotlib.figure.Figure at 0x7fdf6077af28>"
      ]
     },
     "metadata": {},
     "output_type": "display_data"
    },
    {
     "name": "stdout",
     "output_type": "stream",
     "text": [
      "------------------------------------------------------------------\n",
      "Error: 0.288568037975\n",
      "Removed feature from the next iteration: leagueCountry_Spain\n"
     ]
    },
    {
     "data": {
      "image/png": "[encoded data removed]",
      "text/plain": [
       "<matplotlib.figure.Figure at 0x7fdf608eed30>"
      ]
     },
     "metadata": {},
     "output_type": "display_data"
    },
    {
     "name": "stdout",
     "output_type": "stream",
     "text": [
      "------------------------------------------------------------------\n",
      "Error: 0.287943037975\n",
      "Removed feature from the next iteration: meanYellowRedPlayerIAT\n"
     ]
    },
    {
     "data": {
      "image/png": "[encoded data removed]",
      "text/plain": [
       "<matplotlib.figure.Figure at 0x7fdf60771390>"
      ]
     },
     "metadata": {},
     "output_type": "display_data"
    },
    {
     "name": "stdout",
     "output_type": "stream",
     "text": [
      "------------------------------------------------------------------\n",
      "Error: 0.28730221519\n",
      "Removed feature from the next iteration: leagueCountry_England\n"
     ]
    },
    {
     "data": {
      "image/png": "[encoded data removed]",
      "text/plain": [
       "<matplotlib.figure.Figure at 0x7fdf60759080>"
      ]
     },
     "metadata": {},
     "output_type": "display_data"
    },
    {
     "name": "stdout",
     "output_type": "stream",
     "text": [
      "------------------------------------------------------------------\n",
      "Error: 0.287310126582\n",
      "Removed feature from the next iteration: position_Right Winger\n"
     ]
    },
    {
     "data": {
      "image/png": "[encoded data removed]",
      "text/plain": [
       "<matplotlib.figure.Figure at 0x7fdf62c71dd8>"
      ]
     },
     "metadata": {},
     "output_type": "display_data"
    },
    {
     "name": "stdout",
     "output_type": "stream",
     "text": [
      "------------------------------------------------------------------\n",
      "Error: 0.288575949367\n",
      "Removed feature from the next iteration: meanYellowRedPlayer\n"
     ]
    },
    {
     "data": {
      "image/png": "[encoded data removed]",
      "text/plain": [
       "<matplotlib.figure.Figure at 0x7fdf60c52dd8>"
      ]
     },
     "metadata": {},
     "output_type": "display_data"
    },
    {
     "name": "stdout",
     "output_type": "stream",
     "text": [
      "------------------------------------------------------------------\n"
     ]
    }
   ],
   "source": [
    "error_test=[]\n",
    "error_train=[]\n",
    "\n",
    "features_to_remove=[]\n",
    "features_names=list(X_train.columns.values)\n",
    "\n",
    "while len(features_to_remove)<15:\n",
    "    error_train_,error_test_,features_importances_train,features_importances_test=cross_val(train_after_prep_2,\n",
    "                                                             features_to_remove=features_to_remove,\n",
    "                                                            max_depth=4,n_estimators=15,criterion='gini',\n",
    "                                                            feature_importances=True)\n",
    "    worst_feature_index=np.argmin(features_importances_test)\n",
    "    worst_feature=features_names[worst_feature_index]\n",
    "    features_to_remove.append(worst_feature)\n",
    "    del features_names[worst_feature_index]\n",
    "    error_test.append(error_test_)\n",
    "    error_train.append(error_train_)\n",
    "    \n",
    "    print('Error:',error_test_)\n",
    "    print('Removed feature from the next iteration:',worst_feature)\n",
    "    \n",
    "    indices = np.argsort(features_importances_test)[::-1]\n",
    "    plt.figure()\n",
    "    plt.title(\"Feature importances test\")\n",
    "    plt.bar(range(X_train.shape[1]-len(features_to_remove)+1), features_importances_test[indices],\n",
    "           color=\"r\", align=\"center\")\n",
    "    plt.xticks(range(X_train.shape[1]-len(features_to_remove)+1), indices)\n",
    "    plt.xlim([-1, X_train.shape[1]])\n",
    "    plt.show()\n",
    "\n",
    "    print('------------------------------------------------------------------')\n",
    "    "
   ]
  },
  {
   "cell_type": "code",
   "execution_count": 193,
   "metadata": {
    "collapsed": false
   },
   "outputs": [
    {
     "data": {
      "text/plain": [
       "array([ 0.05007491,  0.05263981,  0.05598345,  0.05784194,  0.02682006,\n",
       "        0.02325486,  0.06095947,  0.02581197,  0.02295367,  0.06358599,\n",
       "        0.02623102,  0.02564054,  0.06206755,  0.03536011,  0.03677456,\n",
       "        0.05658535,  0.03709364,  0.03296495,  0.06387962,  0.03790143,\n",
       "        0.03737112,  0.00378496,  0.00452004,  0.0098114 ,  0.00215812,\n",
       "        0.00342649,  0.00341595,  0.00613049,  0.00269129,  0.00484017,\n",
       "        0.00427438,  0.00262158,  0.00725712,  0.00337547,  0.00884644,\n",
       "        0.0201809 ,  0.01445284,  0.00641633])"
      ]
     },
     "execution_count": 193,
     "metadata": {},
     "output_type": "execute_result"
    }
   ],
   "source": [
    "features_importances_train"
   ]
  },
  {
   "cell_type": "code",
   "execution_count": null,
   "metadata": {
    "collapsed": true
   },
   "outputs": [],
   "source": []
  }
 ],
 "metadata": {
  "anaconda-cloud": {},
  "kernelspec": {
   "display_name": "Python [Root]",
   "language": "python",
   "name": "Python [Root]"
  },
  "language_info": {
   "codemirror_mode": {
    "name": "ipython",
    "version": 3
   },
   "file_extension": ".py",
   "mimetype": "text/x-python",
   "name": "python",
   "nbconvert_exporter": "python",
   "pygments_lexer": "ipython3",
   "version": "3.5.2"
  }
 },
 "nbformat": 4,
 "nbformat_minor": 0
}
