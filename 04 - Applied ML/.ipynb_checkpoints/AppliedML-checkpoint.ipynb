{
 "cells": [
  {
   "cell_type": "markdown",
   "metadata": {},
   "source": [
    "# Dataset importation\n",
    "At first, we import the dataset in csv format."
   ]
  },
  {
   "cell_type": "code",
   "execution_count": 553,
   "metadata": {
    "collapsed": true
   },
   "outputs": [],
   "source": [
    "import pandas as pd\n",
    "import seaborn as sns\n",
    "import matplotlib.pyplot as plt\n",
    "import numpy as np\n",
    "%matplotlib inline"
   ]
  },
  {
   "cell_type": "code",
   "execution_count": 554,
   "metadata": {
    "collapsed": true
   },
   "outputs": [],
   "source": [
    "from sklearn.ensemble import RandomForestClassifier\n",
    "from sklearn import preprocessing\n",
    "from sklearn.preprocessing import OneHotEncoder\n",
    "from sklearn import metrics\n",
    "from sklearn.cross_validation import train_test_split\n",
    "from sklearn.cross_validation import KFold"
   ]
  },
  {
   "cell_type": "code",
   "execution_count": 555,
   "metadata": {
    "collapsed": false
   },
   "outputs": [
    {
     "data": {
      "text/html": [
       "<div>\n",
       "<table border=\"1\" class=\"dataframe\">\n",
       "  <thead>\n",
       "    <tr style=\"text-align: right;\">\n",
       "      <th></th>\n",
       "      <th>playerShort</th>\n",
       "      <th>player</th>\n",
       "      <th>club</th>\n",
       "      <th>leagueCountry</th>\n",
       "      <th>birthday</th>\n",
       "      <th>height</th>\n",
       "      <th>weight</th>\n",
       "      <th>position</th>\n",
       "      <th>games</th>\n",
       "      <th>victories</th>\n",
       "      <th>...</th>\n",
       "      <th>rater2</th>\n",
       "      <th>refNum</th>\n",
       "      <th>refCountry</th>\n",
       "      <th>Alpha_3</th>\n",
       "      <th>meanIAT</th>\n",
       "      <th>nIAT</th>\n",
       "      <th>seIAT</th>\n",
       "      <th>meanExp</th>\n",
       "      <th>nExp</th>\n",
       "      <th>seExp</th>\n",
       "    </tr>\n",
       "  </thead>\n",
       "  <tbody>\n",
       "    <tr>\n",
       "      <th>0</th>\n",
       "      <td>lucas-wilchez</td>\n",
       "      <td>Lucas Wilchez</td>\n",
       "      <td>Real Zaragoza</td>\n",
       "      <td>Spain</td>\n",
       "      <td>31.08.1983</td>\n",
       "      <td>177.0</td>\n",
       "      <td>72.0</td>\n",
       "      <td>Attacking Midfielder</td>\n",
       "      <td>1</td>\n",
       "      <td>0</td>\n",
       "      <td>...</td>\n",
       "      <td>0.50</td>\n",
       "      <td>1</td>\n",
       "      <td>1</td>\n",
       "      <td>GRC</td>\n",
       "      <td>0.326391</td>\n",
       "      <td>712.0</td>\n",
       "      <td>0.000564</td>\n",
       "      <td>0.396000</td>\n",
       "      <td>750.0</td>\n",
       "      <td>0.002696</td>\n",
       "    </tr>\n",
       "    <tr>\n",
       "      <th>1</th>\n",
       "      <td>john-utaka</td>\n",
       "      <td>John Utaka</td>\n",
       "      <td>Montpellier HSC</td>\n",
       "      <td>France</td>\n",
       "      <td>08.01.1982</td>\n",
       "      <td>179.0</td>\n",
       "      <td>82.0</td>\n",
       "      <td>Right Winger</td>\n",
       "      <td>1</td>\n",
       "      <td>0</td>\n",
       "      <td>...</td>\n",
       "      <td>0.75</td>\n",
       "      <td>2</td>\n",
       "      <td>2</td>\n",
       "      <td>ZMB</td>\n",
       "      <td>0.203375</td>\n",
       "      <td>40.0</td>\n",
       "      <td>0.010875</td>\n",
       "      <td>-0.204082</td>\n",
       "      <td>49.0</td>\n",
       "      <td>0.061504</td>\n",
       "    </tr>\n",
       "    <tr>\n",
       "      <th>2</th>\n",
       "      <td>abdon-prats</td>\n",
       "      <td>Abdón Prats</td>\n",
       "      <td>RCD Mallorca</td>\n",
       "      <td>Spain</td>\n",
       "      <td>17.12.1992</td>\n",
       "      <td>181.0</td>\n",
       "      <td>79.0</td>\n",
       "      <td>NaN</td>\n",
       "      <td>1</td>\n",
       "      <td>0</td>\n",
       "      <td>...</td>\n",
       "      <td>NaN</td>\n",
       "      <td>3</td>\n",
       "      <td>3</td>\n",
       "      <td>ESP</td>\n",
       "      <td>0.369894</td>\n",
       "      <td>1785.0</td>\n",
       "      <td>0.000229</td>\n",
       "      <td>0.588297</td>\n",
       "      <td>1897.0</td>\n",
       "      <td>0.001002</td>\n",
       "    </tr>\n",
       "    <tr>\n",
       "      <th>3</th>\n",
       "      <td>pablo-mari</td>\n",
       "      <td>Pablo Marí</td>\n",
       "      <td>RCD Mallorca</td>\n",
       "      <td>Spain</td>\n",
       "      <td>31.08.1993</td>\n",
       "      <td>191.0</td>\n",
       "      <td>87.0</td>\n",
       "      <td>Center Back</td>\n",
       "      <td>1</td>\n",
       "      <td>1</td>\n",
       "      <td>...</td>\n",
       "      <td>NaN</td>\n",
       "      <td>3</td>\n",
       "      <td>3</td>\n",
       "      <td>ESP</td>\n",
       "      <td>0.369894</td>\n",
       "      <td>1785.0</td>\n",
       "      <td>0.000229</td>\n",
       "      <td>0.588297</td>\n",
       "      <td>1897.0</td>\n",
       "      <td>0.001002</td>\n",
       "    </tr>\n",
       "    <tr>\n",
       "      <th>4</th>\n",
       "      <td>ruben-pena</td>\n",
       "      <td>Rubén Peña</td>\n",
       "      <td>Real Valladolid</td>\n",
       "      <td>Spain</td>\n",
       "      <td>18.07.1991</td>\n",
       "      <td>172.0</td>\n",
       "      <td>70.0</td>\n",
       "      <td>Right Midfielder</td>\n",
       "      <td>1</td>\n",
       "      <td>1</td>\n",
       "      <td>...</td>\n",
       "      <td>NaN</td>\n",
       "      <td>3</td>\n",
       "      <td>3</td>\n",
       "      <td>ESP</td>\n",
       "      <td>0.369894</td>\n",
       "      <td>1785.0</td>\n",
       "      <td>0.000229</td>\n",
       "      <td>0.588297</td>\n",
       "      <td>1897.0</td>\n",
       "      <td>0.001002</td>\n",
       "    </tr>\n",
       "  </tbody>\n",
       "</table>\n",
       "<p>5 rows × 28 columns</p>\n",
       "</div>"
      ],
      "text/plain": [
       "     playerShort         player             club leagueCountry    birthday  \\\n",
       "0  lucas-wilchez  Lucas Wilchez    Real Zaragoza         Spain  31.08.1983   \n",
       "1     john-utaka     John Utaka  Montpellier HSC        France  08.01.1982   \n",
       "2    abdon-prats    Abdón Prats     RCD Mallorca         Spain  17.12.1992   \n",
       "3     pablo-mari     Pablo Marí     RCD Mallorca         Spain  31.08.1993   \n",
       "4     ruben-pena     Rubén Peña  Real Valladolid         Spain  18.07.1991   \n",
       "\n",
       "   height  weight              position  games  victories    ...     rater2  \\\n",
       "0   177.0    72.0  Attacking Midfielder      1          0    ...       0.50   \n",
       "1   179.0    82.0          Right Winger      1          0    ...       0.75   \n",
       "2   181.0    79.0                   NaN      1          0    ...        NaN   \n",
       "3   191.0    87.0           Center Back      1          1    ...        NaN   \n",
       "4   172.0    70.0      Right Midfielder      1          1    ...        NaN   \n",
       "\n",
       "   refNum  refCountry  Alpha_3   meanIAT    nIAT     seIAT   meanExp    nExp  \\\n",
       "0       1           1      GRC  0.326391   712.0  0.000564  0.396000   750.0   \n",
       "1       2           2      ZMB  0.203375    40.0  0.010875 -0.204082    49.0   \n",
       "2       3           3      ESP  0.369894  1785.0  0.000229  0.588297  1897.0   \n",
       "3       3           3      ESP  0.369894  1785.0  0.000229  0.588297  1897.0   \n",
       "4       3           3      ESP  0.369894  1785.0  0.000229  0.588297  1897.0   \n",
       "\n",
       "      seExp  \n",
       "0  0.002696  \n",
       "1  0.061504  \n",
       "2  0.001002  \n",
       "3  0.001002  \n",
       "4  0.001002  \n",
       "\n",
       "[5 rows x 28 columns]"
      ]
     },
     "execution_count": 555,
     "metadata": {},
     "output_type": "execute_result"
    }
   ],
   "source": [
    "data = pd.read_csv('CrowdstormingDataJuly1st.csv')\n",
    "data.head()"
   ]
  },
  {
   "cell_type": "markdown",
   "metadata": {},
   "source": [
    "## Eliminating missing data"
   ]
  },
  {
   "cell_type": "markdown",
   "metadata": {},
   "source": [
    "Since some rating labels are missing we consider for the training dataset the players with both ratings.\n",
    "Note that there are no players with a single rating missing."
   ]
  },
  {
   "cell_type": "code",
   "execution_count": 556,
   "metadata": {
    "collapsed": false
   },
   "outputs": [],
   "source": [
    "missing_rater_data=data[data.rater2.isnull() & data.rater1.isnull()]\n",
    "rater_data=data[data.rater2.notnull() & data.rater1.notnull()]"
   ]
  },
  {
   "cell_type": "code",
   "execution_count": 557,
   "metadata": {
    "collapsed": false
   },
   "outputs": [
    {
     "data": {
      "text/plain": [
       "(124621, 28)"
      ]
     },
     "execution_count": 557,
     "metadata": {},
     "output_type": "execute_result"
    }
   ],
   "source": [
    "rater_data.shape"
   ]
  },
  {
   "cell_type": "code",
   "execution_count": 558,
   "metadata": {
    "collapsed": false
   },
   "outputs": [
    {
     "data": {
      "text/plain": [
       "(21407, 28)"
      ]
     },
     "execution_count": 558,
     "metadata": {},
     "output_type": "execute_result"
    }
   ],
   "source": [
    "missing_rater_data.shape"
   ]
  },
  {
   "cell_type": "code",
   "execution_count": 559,
   "metadata": {
    "collapsed": false
   },
   "outputs": [
    {
     "data": {
      "text/plain": [
       "(146028, 28)"
      ]
     },
     "execution_count": 559,
     "metadata": {},
     "output_type": "execute_result"
    }
   ],
   "source": [
    "data.shape"
   ]
  },
  {
   "cell_type": "markdown",
   "metadata": {},
   "source": [
    "# Data analysis"
   ]
  },
  {
   "cell_type": "markdown",
   "metadata": {},
   "source": [
    "### Preprocessing\n",
    " - Delete the column photoID\n",
    " - Delete all the rows corresponding to a referee with less than 22 entry (impossible - problem in the dataset)\n",
    " - Remove less significant referee entry (with nIAT and nExp too low) [preprocess_2]"
   ]
  },
  {
   "cell_type": "code",
   "execution_count": 8,
   "metadata": {
    "collapsed": false
   },
   "outputs": [],
   "source": [
    "def preprocess_1(database,remove_bad_referee=True,nIAT_threshold=50,nExp_threshold=50):\n",
    "    train=database.copy()\n",
    "    del train['photoID']\n",
    "    del train['victories']\n",
    "    del train['ties']\n",
    "    del train['defeats']\n",
    "    train['meanYellow']=train.yellowCards/train.games\n",
    "    train['meanReds']=train.redCards/train.games\n",
    "    train['meanYellowReds']=train.yellowReds/train.games\n",
    "\n",
    "    train_group=train.groupby(train.refNum)\n",
    "    \n",
    "    if remove_bad_referee:\n",
    "        for i,group in train_group:\n",
    "            if group.shape[0]<22:\n",
    "                train=train.drop(train_group.get_group(i).index)\n",
    "            if i%500==0:\n",
    "                print(i)\n",
    "    \n",
    "   \n",
    "    return train"
   ]
  },
  {
   "cell_type": "code",
   "execution_count": 9,
   "metadata": {
    "collapsed": false,
    "scrolled": true
   },
   "outputs": [
    {
     "name": "stdout",
     "output_type": "stream",
     "text": [
      "500\n",
      "1000\n",
      "1500\n",
      "2000\n",
      "2500\n",
      "3000\n"
     ]
    }
   ],
   "source": [
    "train_after_prep_1=preprocess_1(rater_data,remove_bad_referee=True)"
   ]
  },
  {
   "cell_type": "code",
   "execution_count": 12,
   "metadata": {
    "collapsed": false
   },
   "outputs": [],
   "source": [
    "def preprocess_2(database,nIAT_threshold=50,nExp_threshold=50):\n",
    "    train=database.copy()\n",
    "    train_group=database.groupby(train.refNum)\n",
    "\n",
    "    for i,group in train_group:\n",
    "        if group.nIAT.iloc[0]<nIAT_threshold or group.nExp.iloc[0]<nExp_threshold:\n",
    "            train=train.drop(train_group.get_group(i).index)\n",
    "        if i%200==0:\n",
    "            print(i)\n",
    "    return train"
   ]
  },
  {
   "cell_type": "code",
   "execution_count": 13,
   "metadata": {
    "collapsed": false,
    "scrolled": true
   },
   "outputs": [
    {
     "name": "stdout",
     "output_type": "stream",
     "text": [
      "1600\n",
      "2400\n",
      "3000\n"
     ]
    }
   ],
   "source": [
    "train_after_prep_2=preprocess_2(train_after_prep_1)"
   ]
  },
  {
   "cell_type": "code",
   "execution_count": 14,
   "metadata": {
    "collapsed": true
   },
   "outputs": [],
   "source": [
    "train_after_prep_2['IAT_yellow']=train_after_prep_2.meanYellow*train_after_prep_2.meanIAT\n",
    "train_after_prep_2['IAT_yellowred']=train_after_prep_2.meanYellowReds*train_after_prep_2.meanIAT\n",
    "train_after_prep_2['IAT_red']=train_after_prep_2.meanReds*train_after_prep_2.meanIAT\n",
    "train_after_prep_2['Exp_yellow']=train_after_prep_2.meanYellow*train_after_prep_2.meanExp\n",
    "train_after_prep_2['Exp_yellowred']=train_after_prep_2.meanYellowReds*train_after_prep_2.meanExp\n",
    "train_after_prep_2['Exp_red']=train_after_prep_2.meanReds*train_after_prep_2.meanExp"
   ]
  },
  {
   "cell_type": "code",
   "execution_count": 15,
   "metadata": {
    "collapsed": false,
    "scrolled": true
   },
   "outputs": [
    {
     "data": {
      "text/html": [
       "<div>\n",
       "<table border=\"1\" class=\"dataframe\">\n",
       "  <thead>\n",
       "    <tr style=\"text-align: right;\">\n",
       "      <th></th>\n",
       "      <th>playerShort</th>\n",
       "      <th>player</th>\n",
       "      <th>club</th>\n",
       "      <th>leagueCountry</th>\n",
       "      <th>birthday</th>\n",
       "      <th>height</th>\n",
       "      <th>weight</th>\n",
       "      <th>position</th>\n",
       "      <th>games</th>\n",
       "      <th>goals</th>\n",
       "      <th>yellowCards</th>\n",
       "      <th>yellowReds</th>\n",
       "      <th>redCards</th>\n",
       "      <th>rater1</th>\n",
       "      <th>rater2</th>\n",
       "      <th>refNum</th>\n",
       "      <th>refCountry</th>\n",
       "      <th>Alpha_3</th>\n",
       "      <th>meanIAT</th>\n",
       "      <th>nIAT</th>\n",
       "    </tr>\n",
       "  </thead>\n",
       "  <tbody>\n",
       "    <tr>\n",
       "      <th>5</th>\n",
       "      <td>aaron-hughes</td>\n",
       "      <td>Aaron Hughes</td>\n",
       "      <td>Fulham FC</td>\n",
       "      <td>England</td>\n",
       "      <td>08.11.1979</td>\n",
       "      <td>182.0</td>\n",
       "      <td>71.0</td>\n",
       "      <td>Center Back</td>\n",
       "      <td>1</td>\n",
       "      <td>0</td>\n",
       "      <td>0</td>\n",
       "      <td>0</td>\n",
       "      <td>0</td>\n",
       "      <td>0.25</td>\n",
       "      <td>0.00</td>\n",
       "      <td>4</td>\n",
       "      <td>4</td>\n",
       "      <td>LUX</td>\n",
       "      <td>0.325185</td>\n",
       "      <td>127.0</td>\n",
       "    </tr>\n",
       "    <tr>\n",
       "      <th>6</th>\n",
       "      <td>aleksandar-kolarov</td>\n",
       "      <td>Aleksandar Kolarov</td>\n",
       "      <td>Manchester City</td>\n",
       "      <td>England</td>\n",
       "      <td>10.11.1985</td>\n",
       "      <td>187.0</td>\n",
       "      <td>80.0</td>\n",
       "      <td>Left Fullback</td>\n",
       "      <td>1</td>\n",
       "      <td>0</td>\n",
       "      <td>0</td>\n",
       "      <td>0</td>\n",
       "      <td>0</td>\n",
       "      <td>0.00</td>\n",
       "      <td>0.25</td>\n",
       "      <td>4</td>\n",
       "      <td>4</td>\n",
       "      <td>LUX</td>\n",
       "      <td>0.325185</td>\n",
       "      <td>127.0</td>\n",
       "    </tr>\n",
       "    <tr>\n",
       "      <th>7</th>\n",
       "      <td>alexander-tettey</td>\n",
       "      <td>Alexander Tettey</td>\n",
       "      <td>Norwich City</td>\n",
       "      <td>England</td>\n",
       "      <td>04.04.1986</td>\n",
       "      <td>180.0</td>\n",
       "      <td>68.0</td>\n",
       "      <td>Defensive Midfielder</td>\n",
       "      <td>1</td>\n",
       "      <td>0</td>\n",
       "      <td>0</td>\n",
       "      <td>0</td>\n",
       "      <td>0</td>\n",
       "      <td>1.00</td>\n",
       "      <td>1.00</td>\n",
       "      <td>4</td>\n",
       "      <td>4</td>\n",
       "      <td>LUX</td>\n",
       "      <td>0.325185</td>\n",
       "      <td>127.0</td>\n",
       "    </tr>\n",
       "  </tbody>\n",
       "</table>\n",
       "</div>"
      ],
      "text/plain": [
       "          playerShort              player             club leagueCountry  \\\n",
       "5        aaron-hughes        Aaron Hughes        Fulham FC       England   \n",
       "6  aleksandar-kolarov  Aleksandar Kolarov  Manchester City       England   \n",
       "7    alexander-tettey    Alexander Tettey     Norwich City       England   \n",
       "\n",
       "     birthday  height  weight              position  games  goals  \\\n",
       "5  08.11.1979   182.0    71.0           Center Back      1      0   \n",
       "6  10.11.1985   187.0    80.0         Left Fullback      1      0   \n",
       "7  04.04.1986   180.0    68.0  Defensive Midfielder      1      0   \n",
       "\n",
       "   yellowCards  yellowReds  redCards  rater1  rater2  refNum  refCountry  \\\n",
       "5            0           0         0    0.25    0.00       4           4   \n",
       "6            0           0         0    0.00    0.25       4           4   \n",
       "7            0           0         0    1.00    1.00       4           4   \n",
       "\n",
       "  Alpha_3   meanIAT   nIAT  \n",
       "5     LUX  0.325185  127.0  \n",
       "6     LUX  0.325185  127.0  \n",
       "7     LUX  0.325185  127.0  "
      ]
     },
     "execution_count": 15,
     "metadata": {},
     "output_type": "execute_result"
    }
   ],
   "source": [
    "train_after_prep_2.ix[:,:20].head(3)"
   ]
  },
  {
   "cell_type": "code",
   "execution_count": 16,
   "metadata": {
    "collapsed": false
   },
   "outputs": [
    {
     "data": {
      "text/html": [
       "<div>\n",
       "<table border=\"1\" class=\"dataframe\">\n",
       "  <thead>\n",
       "    <tr style=\"text-align: right;\">\n",
       "      <th></th>\n",
       "      <th>seIAT</th>\n",
       "      <th>meanExp</th>\n",
       "      <th>nExp</th>\n",
       "      <th>seExp</th>\n",
       "      <th>meanYellow</th>\n",
       "      <th>meanReds</th>\n",
       "      <th>meanYellowReds</th>\n",
       "      <th>IAT_yellow</th>\n",
       "      <th>IAT_yellowred</th>\n",
       "      <th>IAT_red</th>\n",
       "      <th>Exp_yellow</th>\n",
       "      <th>Exp_yellowred</th>\n",
       "      <th>Exp_red</th>\n",
       "    </tr>\n",
       "  </thead>\n",
       "  <tbody>\n",
       "    <tr>\n",
       "      <th>5</th>\n",
       "      <td>0.003297</td>\n",
       "      <td>0.538462</td>\n",
       "      <td>130.0</td>\n",
       "      <td>0.013752</td>\n",
       "      <td>0.0</td>\n",
       "      <td>0.0</td>\n",
       "      <td>0.0</td>\n",
       "      <td>0.0</td>\n",
       "      <td>0.0</td>\n",
       "      <td>0.0</td>\n",
       "      <td>0.0</td>\n",
       "      <td>0.0</td>\n",
       "      <td>0.0</td>\n",
       "    </tr>\n",
       "    <tr>\n",
       "      <th>6</th>\n",
       "      <td>0.003297</td>\n",
       "      <td>0.538462</td>\n",
       "      <td>130.0</td>\n",
       "      <td>0.013752</td>\n",
       "      <td>0.0</td>\n",
       "      <td>0.0</td>\n",
       "      <td>0.0</td>\n",
       "      <td>0.0</td>\n",
       "      <td>0.0</td>\n",
       "      <td>0.0</td>\n",
       "      <td>0.0</td>\n",
       "      <td>0.0</td>\n",
       "      <td>0.0</td>\n",
       "    </tr>\n",
       "    <tr>\n",
       "      <th>7</th>\n",
       "      <td>0.003297</td>\n",
       "      <td>0.538462</td>\n",
       "      <td>130.0</td>\n",
       "      <td>0.013752</td>\n",
       "      <td>0.0</td>\n",
       "      <td>0.0</td>\n",
       "      <td>0.0</td>\n",
       "      <td>0.0</td>\n",
       "      <td>0.0</td>\n",
       "      <td>0.0</td>\n",
       "      <td>0.0</td>\n",
       "      <td>0.0</td>\n",
       "      <td>0.0</td>\n",
       "    </tr>\n",
       "  </tbody>\n",
       "</table>\n",
       "</div>"
      ],
      "text/plain": [
       "      seIAT   meanExp   nExp     seExp  meanYellow  meanReds  meanYellowReds  \\\n",
       "5  0.003297  0.538462  130.0  0.013752         0.0       0.0             0.0   \n",
       "6  0.003297  0.538462  130.0  0.013752         0.0       0.0             0.0   \n",
       "7  0.003297  0.538462  130.0  0.013752         0.0       0.0             0.0   \n",
       "\n",
       "   IAT_yellow  IAT_yellowred  IAT_red  Exp_yellow  Exp_yellowred  Exp_red  \n",
       "5         0.0            0.0      0.0         0.0            0.0      0.0  \n",
       "6         0.0            0.0      0.0         0.0            0.0      0.0  \n",
       "7         0.0            0.0      0.0         0.0            0.0      0.0  "
      ]
     },
     "execution_count": 16,
     "metadata": {},
     "output_type": "execute_result"
    }
   ],
   "source": [
    "train_after_prep_2.ix[:,20:].head(3)"
   ]
  },
  {
   "cell_type": "code",
   "execution_count": 17,
   "metadata": {
    "collapsed": false
   },
   "outputs": [
    {
     "data": {
      "text/plain": [
       "95.0    77\n",
       "69.0    37\n",
       "76.0    28\n",
       "Name: nExp, dtype: int64"
      ]
     },
     "execution_count": 17,
     "metadata": {},
     "output_type": "execute_result"
    }
   ],
   "source": [
    "(train_after_prep_2.nExp[train_after_prep_2.nExp<100]).value_counts()"
   ]
  },
  {
   "cell_type": "code",
   "execution_count": 18,
   "metadata": {
    "collapsed": false,
    "scrolled": true
   },
   "outputs": [
    {
     "data": {
      "text/plain": [
       "69.0"
      ]
     },
     "execution_count": 18,
     "metadata": {},
     "output_type": "execute_result"
    }
   ],
   "source": [
    "min(train_after_prep_2.nExp)"
   ]
  },
  {
   "cell_type": "code",
   "execution_count": 224,
   "metadata": {
    "collapsed": true
   },
   "outputs": [],
   "source": [
    "def add_mean_role_team(x):\n",
    "    x['meanYellowRoleTeam']=sum(x.yellowCards)/sum(x.games)\n",
    "    x['meanRedRoleTeam']=sum(x.redCards)/sum(x.games)\n",
    "    x['meanYellowRedRoleTeam']=sum(x.yellowReds)/sum(x.games)\n",
    "    \n",
    "    x['meanYellowRoleTeamIAT']=sum(x.yellowCards*x.meanIAT)/sum(x.games)\n",
    "    x['meanRedRoleTeamIAT']=sum(x.redCards*x.meanIAT)/sum(x.games)\n",
    "    x['meanYellowRedRoleTeamIAT']=sum(x.yellowReds*x.meanIAT)/sum(x.games)\n",
    "    return x"
   ]
  },
  {
   "cell_type": "markdown",
   "metadata": {},
   "source": [
    "# Random forest with referee information"
   ]
  },
  {
   "cell_type": "markdown",
   "metadata": {},
   "source": [
    "Operations done:\n",
    " - Keep only the wanted features\n",
    " - Fill NaN with median of the columns or with 'nan' if categorical variable\n",
    " - Keep only the year of birth (not the date)\n",
    " - Add dummy variables for the categorical variables\n",
    " - Keep one entry for player\n",
    " - Extract y as mean of the rater1 and rater2"
   ]
  },
  {
   "cell_type": "code",
   "execution_count": 380,
   "metadata": {
    "collapsed": true
   },
   "outputs": [],
   "source": [
    "def add_mean_player(x):\n",
    "    x_games=sum(x.games)\n",
    "    x['meanYellowPlayer']=sum(x.yellowCards)/x_games\n",
    "    x['meanRedPlayer']=sum(x.redCards)/x_games\n",
    "    x['meanYellowRedPlayer']=sum(x.yellowReds)/x_games\n",
    "    \n",
    "    x['meanYellowPlayerIAT']=sum(x.yellowCards*x.meanIAT)/x_games\n",
    "    x['meanRedPlayerIAT']=sum(x.redCards*x.meanIAT)/x_games\n",
    "    x['meanYellowRedPlayerIAT']=sum(x.yellowReds*x.meanIAT)/x_games\n",
    "    \n",
    "    x['meanYellowPlayerExp']=sum(x.yellowCards*x.meanExp)/x_games\n",
    "    x['meanRedPlayerExp']=sum(x.redCards*x.meanExp)/x_games\n",
    "    x['meanYellowRedPlayerExp']=sum(x.yellowReds*x.meanExp)/x_games\n",
    "    \n",
    "    return x"
   ]
  },
  {
   "cell_type": "code",
   "execution_count": 381,
   "metadata": {
    "collapsed": false
   },
   "outputs": [],
   "source": [
    "def add_mean_role(x,train_database_grouped=False,is_train=True):\n",
    "    if is_train:\n",
    "        \n",
    "        x['meanYellowRole']=sum(x.yellowCards)/sum(x.games)\n",
    "        x['meanRedRole']=sum(x.redCards)/sum(x.games)\n",
    "        x['meanYellowRedRole']=sum(x.yellowReds)/sum(x.games)\n",
    "\n",
    "        x['meanYellowRoleIAT']=sum(x.yellowCards*x.meanIAT)/sum(x.games)\n",
    "        x['meanRedRoleIAT']=sum(x.redCards*x.meanIAT)/sum(x.games)\n",
    "        x['meanYellowRedRoleIAT']=sum(x.yellowReds*x.meanIAT)/sum(x.games)\n",
    "\n",
    "        x['meanYellowRoleExp']=sum(x.yellowCards*x.meanExp)/sum(x.games)\n",
    "        x['meanRedRoleExp']=sum(x.redCards*x.meanExp)/sum(x.games)\n",
    "        x['meanYellowRedRoleExp']=sum(x.yellowReds*x.meanExp)/sum(x.games)\n",
    "    else:\n",
    "        position=x.position.iloc[0]\n",
    "        leagueCountry=x.leagueCountry.iloc[0]\n",
    "        group=train_database_grouped.loc[position]\n",
    "        x['meanYellowRole']=group.loc['meanYellowRole']\n",
    "        x['meanRedRole']=group.loc['meanRedRole']\n",
    "        x['meanYellowRedRole']=group.loc['meanYellowRedRole']\n",
    "\n",
    "        x['meanYellowRoleIAT']=group.loc['meanYellowRoleIAT']\n",
    "        x['meanRedRoleIAT']=group.loc['meanRedRoleIAT']\n",
    "        x['meanYellowRedRoleIAT']=group.loc['meanYellowRedRoleIAT']\n",
    "\n",
    "        x['meanYellowRoleExp']=group.loc['meanYellowRoleExp']\n",
    "        x['meanRedRoleExp']=group.loc['meanRedRoleExp']\n",
    "        x['meanYellowRedRoleExp']=group.loc['meanYellowRedRoleExp']\n",
    "    return x"
   ]
  },
  {
   "cell_type": "code",
   "execution_count": 470,
   "metadata": {
    "collapsed": false
   },
   "outputs": [],
   "source": [
    "def process_database(starting_database,train_indexes=True,test=False,binary_y=False):\n",
    "    ''' Function that takes the preprocessed database and outputs train, test and y\n",
    "        @ params:\n",
    "            starting_database - the preprocessed database\n",
    "            train_indexes - the indexes of the player to be inserted in the training \n",
    "                            (the PLAYER INDEXES, not the indexes of the full database)\n",
    "                            \n",
    "        @ returns:\n",
    "            train\n",
    "            test\n",
    "            y\n",
    "    '''\n",
    "    \n",
    "    \n",
    "    number_of_players=len(starting_database.playerShort.value_counts())\n",
    "    if test==False:\n",
    "        train_indexes=np.range(starting_database.shape[0])\n",
    "        test_indexes=[]\n",
    "    else:\n",
    "        small_database=starting_database.groupby('playerShort').mean()\n",
    "        small_database=small_database.iloc[train_indexes]\n",
    "        train_indexes=np.array(starting_database[starting_database.playerShort.isin(small_database.index)].index)\n",
    "        test_indexes=np.array(starting_database.index)\n",
    "        test_indexes=np.setdiff1d(test_indexes,train_indexes)\n",
    "    t1=time.time()\n",
    "    \n",
    "    # Keep only wanted features - remove nan\n",
    "    database=starting_database[['playerShort','leagueCountry','birthday','height','weight','position','games','club','IAT_yellow','IAT_yellowred','IAT_red','Exp_yellow','Exp_yellowred','Exp_red','yellowCards','redCards','yellowReds','meanIAT','meanExp','rater1','rater2']]\n",
    "    database.is_copy=False\n",
    "    database.position.fillna('nan',inplace=True)\n",
    "    database.leagueCountry.fillna('nan',inplace=True)\n",
    "    \n",
    "#     print(time.time()-t1)\n",
    "    database=database.fillna(database.loc[train_indexes].median())\n",
    "#     print(\"filled nan\",time.time()-t1)\n",
    "\n",
    "    # Process birthday to keep only the year\n",
    "    database.birthday=database.birthday.apply(lambda x: int(x.split('.')[2]))\n",
    "#     print(\"birthday\",time.time()-t1)\n",
    "    database=database.groupby('playerShort').apply(add_mean_player)\n",
    "#     print(\"add mean player\",time.time()-t1)\n",
    "\n",
    "    train_grouped=database.loc[train_indexes].groupby(['position']).apply(add_mean_role)\n",
    "    train_grouped=train_grouped.groupby(['position']).first()\n",
    "    database=database.groupby(['position']).apply(lambda x: add_mean_role(x,train_grouped,False))\n",
    "#     print(time.time()-t1)\n",
    "\n",
    "    # Difference of added features\n",
    "    database['yellowDifference']=database.meanYellowPlayer-database.meanYellowRole\n",
    "    database['redDifference']=database.meanRedPlayer-database.meanRedRole\n",
    "    database['yellowRedDifference']=database.meanYellowRedPlayer-database.meanYellowRedRole\n",
    "    \n",
    "    database['yellowDifferenceIAT']=database.meanYellowPlayerIAT-database.meanYellowRoleIAT\n",
    "    database['redDifferenceIAT']=database.meanRedPlayerIAT-database.meanRedRoleIAT\n",
    "    database['yellowRedDifferenceIAT']=database.meanYellowRedPlayerIAT-database.meanYellowRedRoleIAT\n",
    "    \n",
    "    database['yellowDifferenceExp']=database.meanYellowPlayerExp-database.meanYellowRoleExp\n",
    "    database['redDifferenceExp']=database.meanRedPlayerExp-database.meanRedRoleExp\n",
    "    database['yellowRedDifferenceExp']=database.meanYellowRedPlayerExp-database.meanYellowRedRoleExp\n",
    "    \n",
    "    # Dummy variables\n",
    "    dummy_variables=pd.get_dummies(database[['position','leagueCountry']])\n",
    "    database=pd.concat([database,dummy_variables],axis=1)\n",
    "    del database['leagueCountry']\n",
    "    del database['position']\n",
    "    \n",
    "    # Split train e test\n",
    "    train=database.loc[train_indexes]\n",
    "    test=database.loc[test_indexes]\n",
    "    \n",
    "    # Extract one row per player\n",
    "    train=train.groupby('playerShort').mean()\n",
    "    test=test.groupby('playerShort').mean()\n",
    "    \n",
    "    # Get y and delete the columns in the train\n",
    "    y_train=(train['rater1']+train['rater2'])/2\n",
    "    y_test=(test['rater1']+test['rater2'])/2\n",
    "    del train['rater1']\n",
    "    del train['rater2']\n",
    "    del test['rater1']\n",
    "    del test['rater2']\n",
    "\n",
    "    \n",
    "    # y assumes only 0-1 values\n",
    "    if binary_y:\n",
    "        y_train=1*(y_train>0.3)\n",
    "        y_test=1*(y_test>0.3)\n",
    "#     print(time.time()-t1)\n",
    "    return train,test,y_train,y_test"
   ]
  },
  {
   "cell_type": "code",
   "execution_count": 471,
   "metadata": {
    "collapsed": false,
    "scrolled": false
   },
   "outputs": [],
   "source": [
    "train,test,y_train,y_test=process_database(train_after_prep_2,train_indexes=np.array(range(1000)),test=True,binary_y=True)"
   ]
  },
  {
   "cell_type": "code",
   "execution_count": 472,
   "metadata": {
    "collapsed": false
   },
   "outputs": [
    {
     "data": {
      "text/plain": [
       "-0.057007874229580105"
      ]
     },
     "execution_count": 472,
     "metadata": {},
     "output_type": "execute_result"
    }
   ],
   "source": [
    "np.corrcoef(train.meanYellowPlayer-train.meanYellowRole,y_train)[0,1]"
   ]
  },
  {
   "cell_type": "code",
   "execution_count": 473,
   "metadata": {
    "collapsed": false
   },
   "outputs": [
    {
     "data": {
      "text/html": [
       "<div>\n",
       "<table border=\"1\" class=\"dataframe\">\n",
       "  <thead>\n",
       "    <tr style=\"text-align: right;\">\n",
       "      <th></th>\n",
       "      <th>meanYellowRedPlayer</th>\n",
       "      <th>meanYellowPlayerIAT</th>\n",
       "      <th>meanRedPlayerIAT</th>\n",
       "      <th>meanYellowRedPlayerIAT</th>\n",
       "      <th>meanYellowPlayerExp</th>\n",
       "      <th>meanRedPlayerExp</th>\n",
       "      <th>meanYellowRedPlayerExp</th>\n",
       "      <th>meanYellowRole</th>\n",
       "      <th>meanRedRole</th>\n",
       "      <th>meanYellowRedRole</th>\n",
       "      <th>...</th>\n",
       "      <th>position_Left Midfielder</th>\n",
       "      <th>position_Left Winger</th>\n",
       "      <th>position_Right Fullback</th>\n",
       "      <th>position_Right Midfielder</th>\n",
       "      <th>position_Right Winger</th>\n",
       "      <th>position_nan</th>\n",
       "      <th>leagueCountry_England</th>\n",
       "      <th>leagueCountry_France</th>\n",
       "      <th>leagueCountry_Germany</th>\n",
       "      <th>leagueCountry_Spain</th>\n",
       "    </tr>\n",
       "    <tr>\n",
       "      <th>playerShort</th>\n",
       "      <th></th>\n",
       "      <th></th>\n",
       "      <th></th>\n",
       "      <th></th>\n",
       "      <th></th>\n",
       "      <th></th>\n",
       "      <th></th>\n",
       "      <th></th>\n",
       "      <th></th>\n",
       "      <th></th>\n",
       "      <th></th>\n",
       "      <th></th>\n",
       "      <th></th>\n",
       "      <th></th>\n",
       "      <th></th>\n",
       "      <th></th>\n",
       "      <th></th>\n",
       "      <th></th>\n",
       "      <th></th>\n",
       "      <th></th>\n",
       "      <th></th>\n",
       "    </tr>\n",
       "  </thead>\n",
       "  <tbody>\n",
       "    <tr>\n",
       "      <th>aaron-hughes</th>\n",
       "      <td>0.000000</td>\n",
       "      <td>0.010111</td>\n",
       "      <td>0.000000</td>\n",
       "      <td>0.000000</td>\n",
       "      <td>0.012962</td>\n",
       "      <td>0.000000</td>\n",
       "      <td>0.000000</td>\n",
       "      <td>0.164835</td>\n",
       "      <td>0.007087</td>\n",
       "      <td>0.006140</td>\n",
       "      <td>...</td>\n",
       "      <td>0.0</td>\n",
       "      <td>0.0</td>\n",
       "      <td>0.0</td>\n",
       "      <td>0.0</td>\n",
       "      <td>0.0</td>\n",
       "      <td>0.0</td>\n",
       "      <td>1.0</td>\n",
       "      <td>0.0</td>\n",
       "      <td>0.0</td>\n",
       "      <td>0.0</td>\n",
       "    </tr>\n",
       "    <tr>\n",
       "      <th>aaron-hunt</th>\n",
       "      <td>0.000000</td>\n",
       "      <td>0.040745</td>\n",
       "      <td>0.001026</td>\n",
       "      <td>0.000000</td>\n",
       "      <td>0.046527</td>\n",
       "      <td>0.001024</td>\n",
       "      <td>0.000000</td>\n",
       "      <td>0.124457</td>\n",
       "      <td>0.002270</td>\n",
       "      <td>0.002724</td>\n",
       "      <td>...</td>\n",
       "      <td>0.0</td>\n",
       "      <td>0.0</td>\n",
       "      <td>0.0</td>\n",
       "      <td>0.0</td>\n",
       "      <td>0.0</td>\n",
       "      <td>0.0</td>\n",
       "      <td>0.0</td>\n",
       "      <td>0.0</td>\n",
       "      <td>1.0</td>\n",
       "      <td>0.0</td>\n",
       "    </tr>\n",
       "    <tr>\n",
       "      <th>aaron-lennon</th>\n",
       "      <td>0.000000</td>\n",
       "      <td>0.008907</td>\n",
       "      <td>0.000000</td>\n",
       "      <td>0.000000</td>\n",
       "      <td>0.010790</td>\n",
       "      <td>0.000000</td>\n",
       "      <td>0.000000</td>\n",
       "      <td>0.121804</td>\n",
       "      <td>0.002208</td>\n",
       "      <td>0.003254</td>\n",
       "      <td>...</td>\n",
       "      <td>0.0</td>\n",
       "      <td>0.0</td>\n",
       "      <td>0.0</td>\n",
       "      <td>1.0</td>\n",
       "      <td>0.0</td>\n",
       "      <td>0.0</td>\n",
       "      <td>1.0</td>\n",
       "      <td>0.0</td>\n",
       "      <td>0.0</td>\n",
       "      <td>0.0</td>\n",
       "    </tr>\n",
       "    <tr>\n",
       "      <th>aaron-ramsey</th>\n",
       "      <td>0.000000</td>\n",
       "      <td>0.041517</td>\n",
       "      <td>0.001328</td>\n",
       "      <td>0.000000</td>\n",
       "      <td>0.052823</td>\n",
       "      <td>0.001334</td>\n",
       "      <td>0.000000</td>\n",
       "      <td>0.154201</td>\n",
       "      <td>0.003122</td>\n",
       "      <td>0.003665</td>\n",
       "      <td>...</td>\n",
       "      <td>0.0</td>\n",
       "      <td>0.0</td>\n",
       "      <td>0.0</td>\n",
       "      <td>0.0</td>\n",
       "      <td>0.0</td>\n",
       "      <td>0.0</td>\n",
       "      <td>1.0</td>\n",
       "      <td>0.0</td>\n",
       "      <td>0.0</td>\n",
       "      <td>0.0</td>\n",
       "    </tr>\n",
       "    <tr>\n",
       "      <th>abdelhamid-el-kaoutari</th>\n",
       "      <td>0.033058</td>\n",
       "      <td>0.022128</td>\n",
       "      <td>0.005532</td>\n",
       "      <td>0.011215</td>\n",
       "      <td>0.022222</td>\n",
       "      <td>0.005555</td>\n",
       "      <td>0.012016</td>\n",
       "      <td>0.164835</td>\n",
       "      <td>0.007087</td>\n",
       "      <td>0.006140</td>\n",
       "      <td>...</td>\n",
       "      <td>0.0</td>\n",
       "      <td>0.0</td>\n",
       "      <td>0.0</td>\n",
       "      <td>0.0</td>\n",
       "      <td>0.0</td>\n",
       "      <td>0.0</td>\n",
       "      <td>0.0</td>\n",
       "      <td>1.0</td>\n",
       "      <td>0.0</td>\n",
       "      <td>0.0</td>\n",
       "    </tr>\n",
       "    <tr>\n",
       "      <th>abdou-traore_2</th>\n",
       "      <td>0.010638</td>\n",
       "      <td>0.039455</td>\n",
       "      <td>0.000000</td>\n",
       "      <td>0.003560</td>\n",
       "      <td>0.042230</td>\n",
       "      <td>0.000000</td>\n",
       "      <td>0.003576</td>\n",
       "      <td>0.121804</td>\n",
       "      <td>0.002208</td>\n",
       "      <td>0.003254</td>\n",
       "      <td>...</td>\n",
       "      <td>0.0</td>\n",
       "      <td>0.0</td>\n",
       "      <td>0.0</td>\n",
       "      <td>1.0</td>\n",
       "      <td>0.0</td>\n",
       "      <td>0.0</td>\n",
       "      <td>0.0</td>\n",
       "      <td>1.0</td>\n",
       "      <td>0.0</td>\n",
       "      <td>0.0</td>\n",
       "    </tr>\n",
       "    <tr>\n",
       "      <th>abdoulaye-diallo_2</th>\n",
       "      <td>0.000000</td>\n",
       "      <td>0.000000</td>\n",
       "      <td>0.000000</td>\n",
       "      <td>0.000000</td>\n",
       "      <td>0.000000</td>\n",
       "      <td>0.000000</td>\n",
       "      <td>0.000000</td>\n",
       "      <td>0.047173</td>\n",
       "      <td>0.004627</td>\n",
       "      <td>0.000300</td>\n",
       "      <td>...</td>\n",
       "      <td>0.0</td>\n",
       "      <td>0.0</td>\n",
       "      <td>0.0</td>\n",
       "      <td>0.0</td>\n",
       "      <td>0.0</td>\n",
       "      <td>0.0</td>\n",
       "      <td>0.0</td>\n",
       "      <td>1.0</td>\n",
       "      <td>0.0</td>\n",
       "      <td>0.0</td>\n",
       "    </tr>\n",
       "    <tr>\n",
       "      <th>abdoulaye-keita_2</th>\n",
       "      <td>0.000000</td>\n",
       "      <td>0.000000</td>\n",
       "      <td>0.000000</td>\n",
       "      <td>0.000000</td>\n",
       "      <td>0.000000</td>\n",
       "      <td>0.000000</td>\n",
       "      <td>0.000000</td>\n",
       "      <td>0.047173</td>\n",
       "      <td>0.004627</td>\n",
       "      <td>0.000300</td>\n",
       "      <td>...</td>\n",
       "      <td>0.0</td>\n",
       "      <td>0.0</td>\n",
       "      <td>0.0</td>\n",
       "      <td>0.0</td>\n",
       "      <td>0.0</td>\n",
       "      <td>0.0</td>\n",
       "      <td>0.0</td>\n",
       "      <td>1.0</td>\n",
       "      <td>0.0</td>\n",
       "      <td>0.0</td>\n",
       "    </tr>\n",
       "    <tr>\n",
       "      <th>abdoulwhaid-sissoko</th>\n",
       "      <td>0.000000</td>\n",
       "      <td>0.060123</td>\n",
       "      <td>0.005532</td>\n",
       "      <td>0.000000</td>\n",
       "      <td>0.072921</td>\n",
       "      <td>0.005555</td>\n",
       "      <td>0.000000</td>\n",
       "      <td>0.194103</td>\n",
       "      <td>0.004180</td>\n",
       "      <td>0.006718</td>\n",
       "      <td>...</td>\n",
       "      <td>0.0</td>\n",
       "      <td>0.0</td>\n",
       "      <td>0.0</td>\n",
       "      <td>0.0</td>\n",
       "      <td>0.0</td>\n",
       "      <td>0.0</td>\n",
       "      <td>0.0</td>\n",
       "      <td>1.0</td>\n",
       "      <td>0.0</td>\n",
       "      <td>0.0</td>\n",
       "    </tr>\n",
       "    <tr>\n",
       "      <th>abdul-rahman-baba</th>\n",
       "      <td>0.000000</td>\n",
       "      <td>0.020198</td>\n",
       "      <td>0.006733</td>\n",
       "      <td>0.000000</td>\n",
       "      <td>0.020158</td>\n",
       "      <td>0.006719</td>\n",
       "      <td>0.000000</td>\n",
       "      <td>0.149851</td>\n",
       "      <td>0.004333</td>\n",
       "      <td>0.004657</td>\n",
       "      <td>...</td>\n",
       "      <td>0.0</td>\n",
       "      <td>0.0</td>\n",
       "      <td>0.0</td>\n",
       "      <td>0.0</td>\n",
       "      <td>0.0</td>\n",
       "      <td>0.0</td>\n",
       "      <td>0.0</td>\n",
       "      <td>0.0</td>\n",
       "      <td>1.0</td>\n",
       "      <td>0.0</td>\n",
       "    </tr>\n",
       "  </tbody>\n",
       "</table>\n",
       "<p>10 rows × 42 columns</p>\n",
       "</div>"
      ],
      "text/plain": [
       "                        meanYellowRedPlayer  meanYellowPlayerIAT  \\\n",
       "playerShort                                                        \n",
       "aaron-hughes                       0.000000             0.010111   \n",
       "aaron-hunt                         0.000000             0.040745   \n",
       "aaron-lennon                       0.000000             0.008907   \n",
       "aaron-ramsey                       0.000000             0.041517   \n",
       "abdelhamid-el-kaoutari             0.033058             0.022128   \n",
       "abdou-traore_2                     0.010638             0.039455   \n",
       "abdoulaye-diallo_2                 0.000000             0.000000   \n",
       "abdoulaye-keita_2                  0.000000             0.000000   \n",
       "abdoulwhaid-sissoko                0.000000             0.060123   \n",
       "abdul-rahman-baba                  0.000000             0.020198   \n",
       "\n",
       "                        meanRedPlayerIAT  meanYellowRedPlayerIAT  \\\n",
       "playerShort                                                        \n",
       "aaron-hughes                    0.000000                0.000000   \n",
       "aaron-hunt                      0.001026                0.000000   \n",
       "aaron-lennon                    0.000000                0.000000   \n",
       "aaron-ramsey                    0.001328                0.000000   \n",
       "abdelhamid-el-kaoutari          0.005532                0.011215   \n",
       "abdou-traore_2                  0.000000                0.003560   \n",
       "abdoulaye-diallo_2              0.000000                0.000000   \n",
       "abdoulaye-keita_2               0.000000                0.000000   \n",
       "abdoulwhaid-sissoko             0.005532                0.000000   \n",
       "abdul-rahman-baba               0.006733                0.000000   \n",
       "\n",
       "                        meanYellowPlayerExp  meanRedPlayerExp  \\\n",
       "playerShort                                                     \n",
       "aaron-hughes                       0.012962          0.000000   \n",
       "aaron-hunt                         0.046527          0.001024   \n",
       "aaron-lennon                       0.010790          0.000000   \n",
       "aaron-ramsey                       0.052823          0.001334   \n",
       "abdelhamid-el-kaoutari             0.022222          0.005555   \n",
       "abdou-traore_2                     0.042230          0.000000   \n",
       "abdoulaye-diallo_2                 0.000000          0.000000   \n",
       "abdoulaye-keita_2                  0.000000          0.000000   \n",
       "abdoulwhaid-sissoko                0.072921          0.005555   \n",
       "abdul-rahman-baba                  0.020158          0.006719   \n",
       "\n",
       "                        meanYellowRedPlayerExp  meanYellowRole  meanRedRole  \\\n",
       "playerShort                                                                   \n",
       "aaron-hughes                          0.000000        0.164835     0.007087   \n",
       "aaron-hunt                            0.000000        0.124457     0.002270   \n",
       "aaron-lennon                          0.000000        0.121804     0.002208   \n",
       "aaron-ramsey                          0.000000        0.154201     0.003122   \n",
       "abdelhamid-el-kaoutari                0.012016        0.164835     0.007087   \n",
       "abdou-traore_2                        0.003576        0.121804     0.002208   \n",
       "abdoulaye-diallo_2                    0.000000        0.047173     0.004627   \n",
       "abdoulaye-keita_2                     0.000000        0.047173     0.004627   \n",
       "abdoulwhaid-sissoko                   0.000000        0.194103     0.004180   \n",
       "abdul-rahman-baba                     0.000000        0.149851     0.004333   \n",
       "\n",
       "                        meanYellowRedRole         ...           \\\n",
       "playerShort                                       ...            \n",
       "aaron-hughes                     0.006140         ...            \n",
       "aaron-hunt                       0.002724         ...            \n",
       "aaron-lennon                     0.003254         ...            \n",
       "aaron-ramsey                     0.003665         ...            \n",
       "abdelhamid-el-kaoutari           0.006140         ...            \n",
       "abdou-traore_2                   0.003254         ...            \n",
       "abdoulaye-diallo_2               0.000300         ...            \n",
       "abdoulaye-keita_2                0.000300         ...            \n",
       "abdoulwhaid-sissoko              0.006718         ...            \n",
       "abdul-rahman-baba                0.004657         ...            \n",
       "\n",
       "                        position_Left Midfielder  position_Left Winger  \\\n",
       "playerShort                                                              \n",
       "aaron-hughes                                 0.0                   0.0   \n",
       "aaron-hunt                                   0.0                   0.0   \n",
       "aaron-lennon                                 0.0                   0.0   \n",
       "aaron-ramsey                                 0.0                   0.0   \n",
       "abdelhamid-el-kaoutari                       0.0                   0.0   \n",
       "abdou-traore_2                               0.0                   0.0   \n",
       "abdoulaye-diallo_2                           0.0                   0.0   \n",
       "abdoulaye-keita_2                            0.0                   0.0   \n",
       "abdoulwhaid-sissoko                          0.0                   0.0   \n",
       "abdul-rahman-baba                            0.0                   0.0   \n",
       "\n",
       "                        position_Right Fullback  position_Right Midfielder  \\\n",
       "playerShort                                                                  \n",
       "aaron-hughes                                0.0                        0.0   \n",
       "aaron-hunt                                  0.0                        0.0   \n",
       "aaron-lennon                                0.0                        1.0   \n",
       "aaron-ramsey                                0.0                        0.0   \n",
       "abdelhamid-el-kaoutari                      0.0                        0.0   \n",
       "abdou-traore_2                              0.0                        1.0   \n",
       "abdoulaye-diallo_2                          0.0                        0.0   \n",
       "abdoulaye-keita_2                           0.0                        0.0   \n",
       "abdoulwhaid-sissoko                         0.0                        0.0   \n",
       "abdul-rahman-baba                           0.0                        0.0   \n",
       "\n",
       "                        position_Right Winger  position_nan  \\\n",
       "playerShort                                                   \n",
       "aaron-hughes                              0.0           0.0   \n",
       "aaron-hunt                                0.0           0.0   \n",
       "aaron-lennon                              0.0           0.0   \n",
       "aaron-ramsey                              0.0           0.0   \n",
       "abdelhamid-el-kaoutari                    0.0           0.0   \n",
       "abdou-traore_2                            0.0           0.0   \n",
       "abdoulaye-diallo_2                        0.0           0.0   \n",
       "abdoulaye-keita_2                         0.0           0.0   \n",
       "abdoulwhaid-sissoko                       0.0           0.0   \n",
       "abdul-rahman-baba                         0.0           0.0   \n",
       "\n",
       "                        leagueCountry_England  leagueCountry_France  \\\n",
       "playerShort                                                           \n",
       "aaron-hughes                              1.0                   0.0   \n",
       "aaron-hunt                                0.0                   0.0   \n",
       "aaron-lennon                              1.0                   0.0   \n",
       "aaron-ramsey                              1.0                   0.0   \n",
       "abdelhamid-el-kaoutari                    0.0                   1.0   \n",
       "abdou-traore_2                            0.0                   1.0   \n",
       "abdoulaye-diallo_2                        0.0                   1.0   \n",
       "abdoulaye-keita_2                         0.0                   1.0   \n",
       "abdoulwhaid-sissoko                       0.0                   1.0   \n",
       "abdul-rahman-baba                         0.0                   0.0   \n",
       "\n",
       "                        leagueCountry_Germany  leagueCountry_Spain  \n",
       "playerShort                                                         \n",
       "aaron-hughes                              0.0                  0.0  \n",
       "aaron-hunt                                1.0                  0.0  \n",
       "aaron-lennon                              0.0                  0.0  \n",
       "aaron-ramsey                              0.0                  0.0  \n",
       "abdelhamid-el-kaoutari                    0.0                  0.0  \n",
       "abdou-traore_2                            0.0                  0.0  \n",
       "abdoulaye-diallo_2                        0.0                  0.0  \n",
       "abdoulaye-keita_2                         0.0                  0.0  \n",
       "abdoulwhaid-sissoko                       0.0                  0.0  \n",
       "abdul-rahman-baba                         1.0                  0.0  \n",
       "\n",
       "[10 rows x 42 columns]"
      ]
     },
     "execution_count": 473,
     "metadata": {},
     "output_type": "execute_result"
    }
   ],
   "source": [
    "train.ix[:10,17:]"
   ]
  },
  {
   "cell_type": "code",
   "execution_count": 27,
   "metadata": {
    "collapsed": false,
    "scrolled": true
   },
   "outputs": [
    {
     "data": {
      "text/plain": [
       "<matplotlib.axes._subplots.AxesSubplot at 0x7f518d941e48>"
      ]
     },
     "execution_count": 27,
     "metadata": {},
     "output_type": "execute_result"
    },
    {
     "data": {
      "image/png": "[encoded data removed]",
      "text/plain": [
       "<matplotlib.figure.Figure at 0x7f519378ff98>"
      ]
     },
     "metadata": {},
     "output_type": "display_data"
    }
   ],
   "source": [
    "train.meanExp.hist()"
   ]
  },
  {
   "cell_type": "code",
   "execution_count": 88,
   "metadata": {
    "collapsed": true
   },
   "outputs": [],
   "source": [
    "train_short=train[['IAT_yellow','IAT_yellowred','IAT_red','Exp_yellow','Exp_yellowred','IAT_red']]"
   ]
  },
  {
   "cell_type": "markdown",
   "metadata": {},
   "source": [
    "### Splitting in training and test database"
   ]
  },
  {
   "cell_type": "code",
   "execution_count": 474,
   "metadata": {
    "collapsed": true
   },
   "outputs": [],
   "source": [
    "number_of_players=len(train_after_prep_2.playerShort.value_counts())"
   ]
  },
  {
   "cell_type": "code",
   "execution_count": 476,
   "metadata": {
    "collapsed": false
   },
   "outputs": [
    {
     "data": {
      "text/plain": [
       "array(['birthday', 'height', 'weight', 'games', 'IAT_yellow',\n",
       "       'IAT_yellowred', 'IAT_red', 'Exp_yellow', 'Exp_yellowred',\n",
       "       'Exp_red', 'yellowCards', 'redCards', 'yellowReds', 'meanIAT',\n",
       "       'meanExp', 'meanYellowPlayer', 'meanRedPlayer',\n",
       "       'meanYellowRedPlayer', 'meanYellowPlayerIAT', 'meanRedPlayerIAT',\n",
       "       'meanYellowRedPlayerIAT', 'meanYellowPlayerExp', 'meanRedPlayerExp',\n",
       "       'meanYellowRedPlayerExp', 'meanYellowRole', 'meanRedRole',\n",
       "       'meanYellowRedRole', 'meanYellowRoleIAT', 'meanRedRoleIAT',\n",
       "       'meanYellowRedRoleIAT', 'meanYellowRoleExp', 'meanRedRoleExp',\n",
       "       'meanYellowRedRoleExp', 'yellowDifference', 'redDifference',\n",
       "       'yellowRedDifference', 'yellowDifferenceIAT', 'redDifferenceIAT',\n",
       "       'yellowRedDifferenceIAT', 'yellowDifferenceExp', 'redDifferenceExp',\n",
       "       'yellowRedDifferenceExp', 'position_Attacking Midfielder',\n",
       "       'position_Center Back', 'position_Center Forward',\n",
       "       'position_Center Midfielder', 'position_Defensive Midfielder',\n",
       "       'position_Goalkeeper', 'position_Left Fullback',\n",
       "       'position_Left Midfielder', 'position_Left Winger',\n",
       "       'position_Right Fullback', 'position_Right Midfielder',\n",
       "       'position_Right Winger', 'position_nan', 'leagueCountry_England',\n",
       "       'leagueCountry_France', 'leagueCountry_Germany',\n",
       "       'leagueCountry_Spain'], dtype=object)"
      ]
     },
     "execution_count": 476,
     "metadata": {},
     "output_type": "execute_result"
    }
   ],
   "source": [
    "X_train.columns.values"
   ]
  },
  {
   "cell_type": "code",
   "execution_count": 475,
   "metadata": {
    "collapsed": false
   },
   "outputs": [],
   "source": [
    "X_train, X_test, y_train, y_test = process_database(train_after_prep_2,train_indexes=np.random.randint(number_of_players,size=1000),test=True,binary_y=True)"
   ]
  },
  {
   "cell_type": "code",
   "execution_count": 529,
   "metadata": {
    "collapsed": true
   },
   "outputs": [],
   "source": [
    "features_to_keep=['birthday', 'height', 'weight', \n",
    "                  'meanYellowPlayer', 'meanRedPlayer',\n",
    "       'meanYellowRedPlayer', 'meanYellowPlayerIAT', 'meanRedPlayerIAT',\n",
    "       'meanYellowRedPlayerIAT', 'meanYellowPlayerExp', 'meanRedPlayerExp',\n",
    "       'meanYellowRedPlayerExp', 'yellowDifference', 'redDifference',\n",
    "       'yellowRedDifference', 'yellowDifferenceIAT', 'redDifferenceIAT',\n",
    "       'yellowRedDifferenceIAT', 'yellowDifferenceExp', 'redDifferenceExp',\n",
    "       'yellowRedDifferenceExp',]"
   ]
  },
  {
   "cell_type": "code",
   "execution_count": 530,
   "metadata": {
    "collapsed": true
   },
   "outputs": [],
   "source": [
    "X_train=X_train[features_to_keep]\n",
    "X_test=X_test[features_to_keep]"
   ]
  },
  {
   "cell_type": "markdown",
   "metadata": {},
   "source": [
    "### Classification"
   ]
  },
  {
   "cell_type": "code",
   "execution_count": 531,
   "metadata": {
    "collapsed": true
   },
   "outputs": [],
   "source": [
    "def evaluate_random_forest_model(X_train,X_test,y_train,y_test,n_estimators=10,criterion='gini',\n",
    "                                max_depth=None,min_samples_split=2, min_samples_leaf=1, \n",
    "              min_weight_fraction_leaf=0.0, max_features='auto', max_leaf_nodes=None, \n",
    "              bootstrap=True, oob_score=False, n_jobs=1, random_state=None, \n",
    "              verbose=0, warm_start=False, class_weight=None):\n",
    "    \n",
    "    rfc = RandomForestClassifier(n_estimators=n_estimators,criterion=criterion,\n",
    "                                max_depth=max_depth,min_samples_split=min_samples_split, \n",
    "                                                       min_samples_leaf=min_samples_leaf, \n",
    "                                                       min_weight_fraction_leaf=min_weight_fraction_leaf, \n",
    "                                                       max_features=max_features, max_leaf_nodes=max_leaf_nodes, \n",
    "                                                       bootstrap=bootstrap, \n",
    "                                                       oob_score=oob_score, n_jobs=n_jobs, random_state=random_state, \n",
    "                                                       verbose=verbose, warm_start=warm_start, \n",
    "                                                       class_weight=class_weight)\n",
    "    rfc.fit(X_train,np.asarray(y_train, dtype=\"|S6\"))\n",
    "    y_out=rfc.predict(X_test)\n",
    "    y_out=np.asarray(y_out,float)\n",
    "    y_out=np.asarray(8*y_out,int)\n",
    "    y_test=np.asarray(8*y_test,int)\n",
    "    y_out_binary=1*(y_out>0.3)\n",
    "    y_test_binary=1*(y_test>0.3)\n",
    "#     print((y_out-y_test)[:100])\n",
    "    print(rfc.feature_importances_)\n",
    "    return metrics.zero_one_loss(y_out_binary,y_test_binary)\n",
    "    return metrics.mean_squared_error(y_out,y_test.values)"
   ]
  },
  {
   "cell_type": "markdown",
   "metadata": {},
   "source": [
    "### Overfitting\n",
    "The first is the error with train and test split\n",
    "\n",
    "The second is the error evaluated in the train database"
   ]
  },
  {
   "cell_type": "code",
   "execution_count": 532,
   "metadata": {
    "collapsed": false
   },
   "outputs": [
    {
     "data": {
      "text/html": [
       "<div>\n",
       "<table border=\"1\" class=\"dataframe\">\n",
       "  <thead>\n",
       "    <tr style=\"text-align: right;\">\n",
       "      <th></th>\n",
       "      <th>birthday</th>\n",
       "      <th>height</th>\n",
       "      <th>weight</th>\n",
       "      <th>meanYellowPlayer</th>\n",
       "      <th>meanRedPlayer</th>\n",
       "      <th>meanYellowRedPlayer</th>\n",
       "      <th>meanYellowPlayerIAT</th>\n",
       "      <th>meanRedPlayerIAT</th>\n",
       "      <th>meanYellowRedPlayerIAT</th>\n",
       "      <th>meanYellowPlayerExp</th>\n",
       "      <th>...</th>\n",
       "      <th>meanYellowRedPlayerExp</th>\n",
       "      <th>yellowDifference</th>\n",
       "      <th>redDifference</th>\n",
       "      <th>yellowRedDifference</th>\n",
       "      <th>yellowDifferenceIAT</th>\n",
       "      <th>redDifferenceIAT</th>\n",
       "      <th>yellowRedDifferenceIAT</th>\n",
       "      <th>yellowDifferenceExp</th>\n",
       "      <th>redDifferenceExp</th>\n",
       "      <th>yellowRedDifferenceExp</th>\n",
       "    </tr>\n",
       "    <tr>\n",
       "      <th>playerShort</th>\n",
       "      <th></th>\n",
       "      <th></th>\n",
       "      <th></th>\n",
       "      <th></th>\n",
       "      <th></th>\n",
       "      <th></th>\n",
       "      <th></th>\n",
       "      <th></th>\n",
       "      <th></th>\n",
       "      <th></th>\n",
       "      <th></th>\n",
       "      <th></th>\n",
       "      <th></th>\n",
       "      <th></th>\n",
       "      <th></th>\n",
       "      <th></th>\n",
       "      <th></th>\n",
       "      <th></th>\n",
       "      <th></th>\n",
       "      <th></th>\n",
       "      <th></th>\n",
       "    </tr>\n",
       "  </thead>\n",
       "  <tbody>\n",
       "    <tr>\n",
       "      <th>aaron-lennon</th>\n",
       "      <td>1987.0</td>\n",
       "      <td>165.0</td>\n",
       "      <td>63.0</td>\n",
       "      <td>0.026829</td>\n",
       "      <td>0.000000</td>\n",
       "      <td>0.000000</td>\n",
       "      <td>0.008907</td>\n",
       "      <td>0.000000</td>\n",
       "      <td>0.000000</td>\n",
       "      <td>0.010790</td>\n",
       "      <td>...</td>\n",
       "      <td>0.000000</td>\n",
       "      <td>-0.108742</td>\n",
       "      <td>-0.002692</td>\n",
       "      <td>-0.004593</td>\n",
       "      <td>-0.037993</td>\n",
       "      <td>-0.000923</td>\n",
       "      <td>-0.001614</td>\n",
       "      <td>-0.047265</td>\n",
       "      <td>-0.001079</td>\n",
       "      <td>-0.002114</td>\n",
       "    </tr>\n",
       "    <tr>\n",
       "      <th>abdelhamid-el-kaoutari</th>\n",
       "      <td>1990.0</td>\n",
       "      <td>180.0</td>\n",
       "      <td>73.0</td>\n",
       "      <td>0.066116</td>\n",
       "      <td>0.016529</td>\n",
       "      <td>0.033058</td>\n",
       "      <td>0.022128</td>\n",
       "      <td>0.005532</td>\n",
       "      <td>0.011215</td>\n",
       "      <td>0.022222</td>\n",
       "      <td>...</td>\n",
       "      <td>0.012016</td>\n",
       "      <td>-0.087574</td>\n",
       "      <td>0.010077</td>\n",
       "      <td>0.027385</td>\n",
       "      <td>-0.031018</td>\n",
       "      <td>0.003299</td>\n",
       "      <td>0.009230</td>\n",
       "      <td>-0.045602</td>\n",
       "      <td>0.002770</td>\n",
       "      <td>0.009436</td>\n",
       "    </tr>\n",
       "    <tr>\n",
       "      <th>abdul-razak</th>\n",
       "      <td>1992.0</td>\n",
       "      <td>180.0</td>\n",
       "      <td>78.0</td>\n",
       "      <td>0.034483</td>\n",
       "      <td>0.000000</td>\n",
       "      <td>0.000000</td>\n",
       "      <td>0.011265</td>\n",
       "      <td>0.000000</td>\n",
       "      <td>0.000000</td>\n",
       "      <td>0.012291</td>\n",
       "      <td>...</td>\n",
       "      <td>0.000000</td>\n",
       "      <td>-0.124332</td>\n",
       "      <td>-0.004231</td>\n",
       "      <td>-0.004937</td>\n",
       "      <td>-0.043599</td>\n",
       "      <td>-0.001441</td>\n",
       "      <td>-0.001760</td>\n",
       "      <td>-0.058598</td>\n",
       "      <td>-0.001737</td>\n",
       "      <td>-0.002643</td>\n",
       "    </tr>\n",
       "    <tr>\n",
       "      <th>abelaziz-barrada</th>\n",
       "      <td>1989.0</td>\n",
       "      <td>185.0</td>\n",
       "      <td>78.0</td>\n",
       "      <td>0.116883</td>\n",
       "      <td>0.012987</td>\n",
       "      <td>0.012987</td>\n",
       "      <td>0.041490</td>\n",
       "      <td>0.004804</td>\n",
       "      <td>0.004804</td>\n",
       "      <td>0.064447</td>\n",
       "      <td>...</td>\n",
       "      <td>0.007640</td>\n",
       "      <td>-0.020802</td>\n",
       "      <td>0.007863</td>\n",
       "      <td>0.008977</td>\n",
       "      <td>-0.005772</td>\n",
       "      <td>0.003070</td>\n",
       "      <td>0.003424</td>\n",
       "      <td>0.005796</td>\n",
       "      <td>0.005656</td>\n",
       "      <td>0.006005</td>\n",
       "    </tr>\n",
       "    <tr>\n",
       "      <th>abou-diaby</th>\n",
       "      <td>1986.0</td>\n",
       "      <td>188.0</td>\n",
       "      <td>75.0</td>\n",
       "      <td>0.115942</td>\n",
       "      <td>0.009662</td>\n",
       "      <td>0.000000</td>\n",
       "      <td>0.038825</td>\n",
       "      <td>0.003156</td>\n",
       "      <td>0.000000</td>\n",
       "      <td>0.048699</td>\n",
       "      <td>...</td>\n",
       "      <td>0.000000</td>\n",
       "      <td>-0.042873</td>\n",
       "      <td>0.005431</td>\n",
       "      <td>-0.004937</td>\n",
       "      <td>-0.016039</td>\n",
       "      <td>0.001716</td>\n",
       "      <td>-0.001760</td>\n",
       "      <td>-0.022191</td>\n",
       "      <td>0.001707</td>\n",
       "      <td>-0.002643</td>\n",
       "    </tr>\n",
       "  </tbody>\n",
       "</table>\n",
       "<p>5 rows × 21 columns</p>\n",
       "</div>"
      ],
      "text/plain": [
       "                        birthday  height  weight  meanYellowPlayer  \\\n",
       "playerShort                                                          \n",
       "aaron-lennon              1987.0   165.0    63.0          0.026829   \n",
       "abdelhamid-el-kaoutari    1990.0   180.0    73.0          0.066116   \n",
       "abdul-razak               1992.0   180.0    78.0          0.034483   \n",
       "abelaziz-barrada          1989.0   185.0    78.0          0.116883   \n",
       "abou-diaby                1986.0   188.0    75.0          0.115942   \n",
       "\n",
       "                        meanRedPlayer  meanYellowRedPlayer  \\\n",
       "playerShort                                                  \n",
       "aaron-lennon                 0.000000             0.000000   \n",
       "abdelhamid-el-kaoutari       0.016529             0.033058   \n",
       "abdul-razak                  0.000000             0.000000   \n",
       "abelaziz-barrada             0.012987             0.012987   \n",
       "abou-diaby                   0.009662             0.000000   \n",
       "\n",
       "                        meanYellowPlayerIAT  meanRedPlayerIAT  \\\n",
       "playerShort                                                     \n",
       "aaron-lennon                       0.008907          0.000000   \n",
       "abdelhamid-el-kaoutari             0.022128          0.005532   \n",
       "abdul-razak                        0.011265          0.000000   \n",
       "abelaziz-barrada                   0.041490          0.004804   \n",
       "abou-diaby                         0.038825          0.003156   \n",
       "\n",
       "                        meanYellowRedPlayerIAT  meanYellowPlayerExp  \\\n",
       "playerShort                                                           \n",
       "aaron-lennon                          0.000000             0.010790   \n",
       "abdelhamid-el-kaoutari                0.011215             0.022222   \n",
       "abdul-razak                           0.000000             0.012291   \n",
       "abelaziz-barrada                      0.004804             0.064447   \n",
       "abou-diaby                            0.000000             0.048699   \n",
       "\n",
       "                                 ...            meanYellowRedPlayerExp  \\\n",
       "playerShort                      ...                                     \n",
       "aaron-lennon                     ...                          0.000000   \n",
       "abdelhamid-el-kaoutari           ...                          0.012016   \n",
       "abdul-razak                      ...                          0.000000   \n",
       "abelaziz-barrada                 ...                          0.007640   \n",
       "abou-diaby                       ...                          0.000000   \n",
       "\n",
       "                        yellowDifference  redDifference  yellowRedDifference  \\\n",
       "playerShort                                                                    \n",
       "aaron-lennon                   -0.108742      -0.002692            -0.004593   \n",
       "abdelhamid-el-kaoutari         -0.087574       0.010077             0.027385   \n",
       "abdul-razak                    -0.124332      -0.004231            -0.004937   \n",
       "abelaziz-barrada               -0.020802       0.007863             0.008977   \n",
       "abou-diaby                     -0.042873       0.005431            -0.004937   \n",
       "\n",
       "                        yellowDifferenceIAT  redDifferenceIAT  \\\n",
       "playerShort                                                     \n",
       "aaron-lennon                      -0.037993         -0.000923   \n",
       "abdelhamid-el-kaoutari            -0.031018          0.003299   \n",
       "abdul-razak                       -0.043599         -0.001441   \n",
       "abelaziz-barrada                  -0.005772          0.003070   \n",
       "abou-diaby                        -0.016039          0.001716   \n",
       "\n",
       "                        yellowRedDifferenceIAT  yellowDifferenceExp  \\\n",
       "playerShort                                                           \n",
       "aaron-lennon                         -0.001614            -0.047265   \n",
       "abdelhamid-el-kaoutari                0.009230            -0.045602   \n",
       "abdul-razak                          -0.001760            -0.058598   \n",
       "abelaziz-barrada                      0.003424             0.005796   \n",
       "abou-diaby                           -0.001760            -0.022191   \n",
       "\n",
       "                        redDifferenceExp  yellowRedDifferenceExp  \n",
       "playerShort                                                       \n",
       "aaron-lennon                   -0.001079               -0.002114  \n",
       "abdelhamid-el-kaoutari          0.002770                0.009436  \n",
       "abdul-razak                    -0.001737               -0.002643  \n",
       "abelaziz-barrada                0.005656                0.006005  \n",
       "abou-diaby                      0.001707               -0.002643  \n",
       "\n",
       "[5 rows x 21 columns]"
      ]
     },
     "execution_count": 532,
     "metadata": {},
     "output_type": "execute_result"
    }
   ],
   "source": [
    "X_train.head()"
   ]
  },
  {
   "cell_type": "code",
   "execution_count": 533,
   "metadata": {
    "collapsed": false
   },
   "outputs": [
    {
     "data": {
      "text/plain": [
       "0.29020979020979021"
      ]
     },
     "execution_count": 533,
     "metadata": {},
     "output_type": "execute_result"
    }
   ],
   "source": [
    "sum(y_test>0.3)/y_test.shape[0]"
   ]
  },
  {
   "cell_type": "code",
   "execution_count": 541,
   "metadata": {
    "collapsed": false,
    "scrolled": true
   },
   "outputs": [
    {
     "name": "stdout",
     "output_type": "stream",
     "text": [
      "[ 0.04929005  0.07126588  0.08324483  0.06491032  0.0206055   0.02464241\n",
      "  0.05142452  0.03470184  0.02319251  0.06213799  0.03449838  0.03407752\n",
      "  0.07091708  0.04040349  0.03657689  0.06708391  0.03366203  0.04184139\n",
      "  0.05844312  0.05760442  0.03947592]\n"
     ]
    },
    {
     "data": {
      "text/plain": [
       "0.32517482517482521"
      ]
     },
     "execution_count": 541,
     "metadata": {},
     "output_type": "execute_result"
    }
   ],
   "source": [
    "evaluate_random_forest_model(X_train,X_test,y_train,y_test)\n",
    "# print(a,np.sum(a))\n",
    "# (np.sum(np.diagonal(a))+np.sum(np.diagonal(a,offset=-1))+np.sum(np.diagonal(a,offset=-2))+np.sum(np.diagonal(a,offset=2))+np.sum(np.diagonal(a,offset=1)))/np.sum(a)\n",
    "# (np.sum(np.diagonal(a))+np.sum(np.diagonal(a,offset=-1))+np.sum(np.diagonal(a,offset=1)))/np.sum(a)"
   ]
  },
  {
   "cell_type": "code",
   "execution_count": 542,
   "metadata": {
    "collapsed": false,
    "scrolled": true
   },
   "outputs": [
    {
     "name": "stdout",
     "output_type": "stream",
     "text": [
      "[ 0.04827148  0.05772638  0.07023303  0.07605791  0.0234149   0.01648286\n",
      "  0.06970053  0.02918996  0.0233579   0.06728007  0.0230754   0.02099016\n",
      "  0.07000793  0.03265857  0.03990636  0.08604671  0.03075907  0.04428389\n",
      "  0.07333865  0.05410068  0.04311756]\n"
     ]
    },
    {
     "data": {
      "text/plain": [
       "0.023415977961432466"
      ]
     },
     "execution_count": 542,
     "metadata": {},
     "output_type": "execute_result"
    }
   ],
   "source": [
    "evaluate_random_forest_model(X_train,X_train,y_train,y_train)"
   ]
  },
  {
   "cell_type": "markdown",
   "metadata": {},
   "source": [
    "### Parameter variation to estimate overfitting"
   ]
  },
  {
   "cell_type": "code",
   "execution_count": 543,
   "metadata": {
    "collapsed": false
   },
   "outputs": [],
   "source": [
    "plt.rcParams['figure.figsize'] = (10.0, 8.0)\n"
   ]
  },
  {
   "cell_type": "code",
   "execution_count": 544,
   "metadata": {
    "collapsed": false,
    "scrolled": true
   },
   "outputs": [
    {
     "name": "stdout",
     "output_type": "stream",
     "text": [
      "[ 0.   0.   0.   0.1  0.   0.   0.1  0.1  0.   0.   0.   0.   0.1  0.1  0.1\n",
      "  0.1  0.   0.   0.2  0.1  0. ]\n",
      "[ 0.   0.   0.1  0.   0.   0.   0.3  0.   0.   0.2  0.   0.   0.   0.   0.\n",
      "  0.1  0.1  0.   0.2  0.   0. ]\n",
      "[ 0.01352599  0.08580764  0.0232732   0.          0.02725696  0.\n",
      "  0.05355644  0.07944865  0.          0.09129121  0.          0.          0.1759808\n",
      "  0.06828018  0.          0.18572778  0.05220223  0.04139151  0.06549371\n",
      "  0.03676369  0.        ]\n",
      "[ 0.          0.02956481  0.01478339  0.          0.          0.02364297\n",
      "  0.07092475  0.          0.          0.18033903  0.02219244  0.03536229\n",
      "  0.10379429  0.06888649  0.20368368  0.          0.          0.08129815\n",
      "  0.07143541  0.04837581  0.04571647]\n",
      "[ 0.01494178  0.05279183  0.01834412  0.04333589  0.02309466  0.03000382\n",
      "  0.04773668  0.01191804  0.03176853  0.0420065   0.01980726  0.02275007\n",
      "  0.12084151  0.02385442  0.0365755   0.23312978  0.04036589  0.07034553\n",
      "  0.03339611  0.01891738  0.06407468]\n",
      "[ 0.03669633  0.05253115  0.02841422  0.00536368  0.05233976  0.02812404\n",
      "  0.06419305  0.04571475  0.          0.11915938  0.01140936  0.03863765\n",
      "  0.14935157  0.03732413  0.00668451  0.03891209  0.02483846  0.09172551\n",
      "  0.0590338   0.04967253  0.05987403]\n",
      "[ 0.0174176   0.02732858  0.04447037  0.04182417  0.05673262  0.03470932\n",
      "  0.06284928  0.01749112  0.01816096  0.06929107  0.03069607  0.00788965\n",
      "  0.05747317  0.04459255  0.03539443  0.12960287  0.04795605  0.05025944\n",
      "  0.05700347  0.06645754  0.08239967]\n",
      "[ 0.02747885  0.01885397  0.02824501  0.07663097  0.01956804  0.\n",
      "  0.06873476  0.02009884  0.01828478  0.02524191  0.013438    0.00966572\n",
      "  0.13583152  0.04096759  0.08122455  0.17450806  0.03373217  0.04876645\n",
      "  0.07031899  0.0273238   0.06108601]\n",
      "[ 0.01416188  0.04094698  0.04773652  0.06305794  0.02030014  0.01892553\n",
      "  0.06968629  0.04571338  0.03187542  0.06057283  0.02780445  0.03691782\n",
      "  0.07393161  0.07118561  0.04700323  0.06050965  0.04824902  0.05830452\n",
      "  0.0577214   0.0266571   0.07873869]\n",
      "[ 0.01729657  0.05070073  0.07280317  0.04809198  0.02760558  0.03078374\n",
      "  0.03881267  0.02559114  0.03602033  0.04345157  0.04213625  0.01343252\n",
      "  0.13199596  0.03187503  0.04769075  0.07036291  0.0349464   0.06250661\n",
      "  0.03347686  0.069051    0.07136822]\n",
      "[ 0.05217331  0.04437375  0.02971363  0.07779126  0.02520931  0.02586857\n",
      "  0.04707026  0.0144443   0.02703184  0.07814715  0.03356596  0.02461174\n",
      "  0.04684251  0.02953033  0.0551621   0.10624055  0.0593118   0.04119225\n",
      "  0.06227534  0.07560354  0.04384052]\n",
      "[ 0.04029589  0.04190092  0.08185124  0.05268602  0.04185089  0.00953403\n",
      "  0.11014745  0.0168372   0.01502693  0.04078176  0.0356489   0.02035207\n",
      "  0.07283681  0.03627719  0.05735008  0.06890015  0.048588    0.03350878\n",
      "  0.06929974  0.06813907  0.03818687]\n",
      "[ 0.03858222  0.06391762  0.05618437  0.109715    0.02040466  0.0138086\n",
      "  0.10173623  0.0260916   0.02017187  0.05405322  0.02215642  0.03219523\n",
      "  0.04959757  0.03218552  0.04360912  0.08686361  0.02062379  0.04923544\n",
      "  0.06292974  0.06768486  0.02825332]\n",
      "[ 0.05133399  0.04115429  0.05433828  0.06059644  0.02692115  0.03849818\n",
      "  0.05953733  0.03389728  0.0087003   0.07372413  0.02596542  0.02813603\n",
      "  0.07477956  0.02701157  0.05361765  0.07749687  0.02443053  0.03497251\n",
      "  0.08087148  0.05160991  0.07240712]\n",
      "[ 0.05084778  0.07301899  0.05860526  0.06364826  0.02661048  0.01796231\n",
      "  0.06347876  0.01241889  0.01361979  0.05128044  0.01434855  0.0397329\n",
      "  0.05367506  0.05177918  0.06909664  0.06261627  0.05062843  0.05002446\n",
      "  0.07014993  0.04469239  0.06176526]\n",
      "[ 0.0466659   0.05875579  0.05635368  0.1178351   0.03096782  0.01243577\n",
      "  0.1017423   0.02007629  0.02148448  0.0500236   0.02322726  0.02179494\n",
      "  0.05261007  0.03861466  0.06183292  0.07069639  0.04767345  0.02845063\n",
      "  0.07829725  0.03001261  0.03044908]\n",
      "[ 0.04670624  0.05593254  0.06661909  0.05859266  0.02936085  0.01682233\n",
      "  0.080355    0.02827726  0.03067512  0.05775011  0.02572523  0.02485939\n",
      "  0.06749235  0.03338778  0.04553255  0.09279118  0.03637686  0.04525784\n",
      "  0.06154871  0.04737966  0.04855724]\n",
      "[ 0.05794659  0.04114742  0.05057304  0.08744781  0.03902835  0.0354702\n",
      "  0.08393595  0.0242337   0.02124325  0.055694    0.03977794  0.02380685\n",
      "  0.06987205  0.05477083  0.05244327  0.07764568  0.02601608  0.05466223\n",
      "  0.05900744  0.0229545   0.02232281]\n",
      "[ 0.03732167  0.06558748  0.05844189  0.05698067  0.03483613  0.0277541\n",
      "  0.06019647  0.03250508  0.02085791  0.07330842  0.02309429  0.01877364\n",
      "  0.09625194  0.05006648  0.03675315  0.06802189  0.04056008  0.05006511\n",
      "  0.06240306  0.04503906  0.04118144]\n",
      "[ 0.05830861  0.07749566  0.07184674  0.0579149   0.03092769  0.0219809\n",
      "  0.0631535   0.02831595  0.0277335   0.04084213  0.02166594  0.02259489\n",
      "  0.04870443  0.04313659  0.05911113  0.07241022  0.04933185  0.04462927\n",
      "  0.07527066  0.03222206  0.05240338]\n",
      "[ 0.04565924  0.0854464   0.07850539  0.04366413  0.02957534  0.02126553\n",
      "  0.05307271  0.02408355  0.02965624  0.06564131  0.03683253  0.03275405\n",
      "  0.06727364  0.04476614  0.04181568  0.06288767  0.04391503  0.04216308\n",
      "  0.04843046  0.03938025  0.06321161]\n",
      "[ 0.0488193   0.0682846   0.07363981  0.06895504  0.02452334  0.0378857\n",
      "  0.05643748  0.0259256   0.03347612  0.06279775  0.02913519  0.03008406\n",
      "  0.06424229  0.03973233  0.03873165  0.06576994  0.03691471  0.02976012\n",
      "  0.08033933  0.03801771  0.04652793]\n",
      "[ 0.05035826  0.0559372   0.0601899   0.06192146  0.03677861  0.03253905\n",
      "  0.04866009  0.03828606  0.02509888  0.06260222  0.02943608  0.03321193\n",
      "  0.0694397   0.04802491  0.05101604  0.04876897  0.04597939  0.04136067\n",
      "  0.07411872  0.04371395  0.0425579 ]\n",
      "[ 0.05385764  0.06097084  0.06926151  0.06143133  0.028019    0.01921755\n",
      "  0.0616185   0.02613205  0.02487214  0.06050672  0.02571283  0.02876029\n",
      "  0.07229187  0.05080613  0.05043846  0.07575107  0.04023807  0.04345407\n",
      "  0.06359712  0.03152248  0.05154034]\n",
      "[ 0.03575079  0.04623348  0.0557195   0.07123337  0.02430381  0.02211124\n",
      "  0.08599422  0.02936978  0.01692993  0.0656377   0.02577152  0.03304736\n",
      "  0.07906262  0.03937366  0.03828537  0.0648638   0.04314656  0.06087562\n",
      "  0.0619636   0.04192442  0.05840163]\n",
      "[ 0.05279384  0.05673674  0.06075201  0.08086938  0.03085524  0.02520409\n",
      "  0.07014762  0.0286728   0.02124123  0.05037532  0.02329543  0.02661887\n",
      "  0.07887932  0.02740103  0.0412401   0.08548112  0.02974907  0.04007977\n",
      "  0.06735759  0.04768433  0.05456512]\n",
      "[ 0.05291562  0.04767297  0.05277604  0.08354787  0.02817145  0.03266478\n",
      "  0.07348441  0.03037198  0.02895119  0.06597695  0.02778733  0.03019453\n",
      "  0.0795101   0.03466706  0.03790553  0.05360857  0.04986434  0.05102881\n",
      "  0.04888029  0.04258117  0.04743899]\n",
      "[ 0.0521038   0.05902928  0.08419369  0.07347743  0.0219029   0.02192775\n",
      "  0.07282775  0.0261083   0.02470346  0.05964048  0.0277685   0.02583597\n",
      "  0.07477605  0.04992959  0.04780675  0.05387795  0.04626797  0.03142785\n",
      "  0.06149728  0.04214047  0.04275678]\n",
      "[ 0.04492375  0.05705332  0.06412334  0.07127702  0.02976865  0.02400482\n",
      "  0.0636655   0.03430855  0.02948719  0.06397686  0.02487827  0.02432811\n",
      "  0.08713339  0.03828542  0.04729569  0.06707696  0.03703171  0.0469008\n",
      "  0.04780069  0.03802651  0.05865344]\n",
      "[ 0.06314325  0.05308069  0.07797495  0.04776357  0.02900995  0.01870691\n",
      "  0.06189151  0.02961902  0.0265146   0.07572355  0.02332649  0.02640761\n",
      "  0.08316399  0.04450251  0.0457415   0.068476    0.04223781  0.03133348\n",
      "  0.06165305  0.03765259  0.05207698]\n",
      "[ 0.06500191  0.05176682  0.06327036  0.07882615  0.0210617   0.01597756\n",
      "  0.06956859  0.02261371  0.02771622  0.05300411  0.02281664  0.01985894\n",
      "  0.07303315  0.05198811  0.04307534  0.07477682  0.03707593  0.04894844\n",
      "  0.05756706  0.06003409  0.04201835]\n",
      "[ 0.06331816  0.05740324  0.05126229  0.06113837  0.02261288  0.02906208\n",
      "  0.06048681  0.02427828  0.02575721  0.06623915  0.02399703  0.04104562\n",
      "  0.07324763  0.05380656  0.04405195  0.06013428  0.04184888  0.03865255\n",
      "  0.07779189  0.04093634  0.04292882]\n",
      "[ 0.0538214   0.06226887  0.07138767  0.07692663  0.03051814  0.02351278\n",
      "  0.06370036  0.02662945  0.02575864  0.06438209  0.02425237  0.0149601\n",
      "  0.07108045  0.04648837  0.03472576  0.06215628  0.03886835  0.0434391\n",
      "  0.08325552  0.03977166  0.042096  ]\n",
      "[ 0.05557621  0.06002926  0.06736613  0.0723734   0.01800617  0.02330613\n",
      "  0.07337629  0.02692763  0.02151092  0.06122631  0.02819347  0.02896133\n",
      "  0.07580354  0.04235329  0.03856889  0.06438386  0.04691313  0.04430149\n",
      "  0.06393235  0.03628012  0.05061006]\n",
      "[ 0.05051616  0.06713357  0.06160855  0.07357443  0.0229954   0.02317334\n",
      "  0.06665534  0.03486113  0.0155652   0.07209445  0.04150252  0.02406206\n",
      "  0.07041072  0.04132242  0.03904127  0.07067236  0.03758098  0.04309744\n",
      "  0.05553245  0.05612309  0.03247711]\n",
      "[ 0.04339316  0.06453059  0.06420315  0.06837559  0.02723034  0.02856847\n",
      "  0.08463696  0.02067619  0.02174145  0.05992904  0.02415005  0.02348583\n",
      "  0.08042888  0.03556982  0.06174094  0.07634749  0.04499127  0.03406412\n",
      "  0.06145522  0.04240921  0.03207223]\n",
      "[ 0.04688562  0.05593826  0.06020786  0.05880137  0.0179422   0.02929624\n",
      "  0.05239934  0.03125753  0.02698591  0.07838555  0.034908    0.02356236\n",
      "  0.05747832  0.04152777  0.04573762  0.06555284  0.05345474  0.04876504\n",
      "  0.05808685  0.05558508  0.05724148]\n",
      "[ 0.04462579  0.06137116  0.07396739  0.06051246  0.03271431  0.02537569\n",
      "  0.06562778  0.03045784  0.02183035  0.05865569  0.02793126  0.01928224\n",
      "  0.0779296   0.05315462  0.05718888  0.07271561  0.03245033  0.03451868\n",
      "  0.05918852  0.0413128   0.04918899]\n"
     ]
    }
   ],
   "source": [
    "error_train=[]\n",
    "error_test=[]\n",
    "for i in range(1,20):\n",
    "    error_test.append(evaluate_random_forest_model(X_train,X_test,y_train,y_test,max_depth=i))\n",
    "    error_train.append(evaluate_random_forest_model(X_train,X_train,y_train,y_train,max_depth=i))\n"
   ]
  },
  {
   "cell_type": "markdown",
   "metadata": {},
   "source": [
    "max_depth"
   ]
  },
  {
   "cell_type": "code",
   "execution_count": 545,
   "metadata": {
    "collapsed": false,
    "scrolled": false
   },
   "outputs": [
    {
     "data": {
      "text/plain": [
       "<matplotlib.text.Text at 0x7f518f011860>"
      ]
     },
     "execution_count": 545,
     "metadata": {},
     "output_type": "execute_result"
    },
    {
     "data": {
      "image/png": "[encoded data removed]",
      "text/plain": [
       "<matplotlib.figure.Figure at 0x7f518c9ffb00>"
      ]
     },
     "metadata": {},
     "output_type": "display_data"
    }
   ],
   "source": [
    "plt.plot(range(1,20),error_test)\n",
    "plt.plot(range(1,20),error_train)\n",
    "plt.legend(['test_error','train_error'])\n",
    "plt.title('Error with different max_depth')\n",
    "plt.xlabel('max_depth')\n",
    "plt.ylabel('mean square error')"
   ]
  },
  {
   "cell_type": "markdown",
   "metadata": {},
   "source": [
    "n_estimators"
   ]
  },
  {
   "cell_type": "code",
   "execution_count": 546,
   "metadata": {
    "collapsed": false
   },
   "outputs": [
    {
     "name": "stdout",
     "output_type": "stream",
     "text": [
      "[ 0.06304576  0.09940352  0.07512759  0.00913601  0.02477786  0.02452457\n",
      "  0.08830098  0.01281851  0.05023427  0.04462501  0.02533233  0.01882975\n",
      "  0.09793108  0.01751167  0.0287728   0.06282042  0.06001879  0.09438854\n",
      "  0.03521115  0.04350424  0.02368516]\n",
      "[ 0.07458428  0.03683052  0.08813451  0.04013293  0.02987638  0.03082535\n",
      "  0.1007749   0.01490661  0.01375138  0.06521775  0.00592855  0.02158445\n",
      "  0.07211768  0.04541247  0.04155213  0.09288669  0.0280712   0.07264567\n",
      "  0.04149585  0.05724357  0.02602714]\n",
      "[ 0.06629949  0.06918792  0.1014688   0.03515156  0.00808713  0.03063948\n",
      "  0.10231014  0.03536111  0.02168953  0.05209009  0.00701353  0.01875922\n",
      "  0.06126573  0.05023939  0.05769731  0.05431621  0.04874197  0.05716718\n",
      "  0.06024313  0.04069801  0.02157308]\n",
      "[ 0.05462697  0.06483118  0.06099255  0.04322266  0.02600195  0.03843409\n",
      "  0.07339185  0.02381149  0.026993    0.04862131  0.04158776  0.01979752\n",
      "  0.07855407  0.02214087  0.03472442  0.08990032  0.04604495  0.05909599\n",
      "  0.05485183  0.03791749  0.05445771]\n",
      "[ 0.05448526  0.08592222  0.07295539  0.06549876  0.02485118  0.02064032\n",
      "  0.07116351  0.01772595  0.04050748  0.05656801  0.03131958  0.02466354\n",
      "  0.08897797  0.03413618  0.02102696  0.05112235  0.04229338  0.05772552\n",
      "  0.06518606  0.03779738  0.03543301]\n",
      "[ 0.06384492  0.05341765  0.07289291  0.05595558  0.02307633  0.02634386\n",
      "  0.08359399  0.01843239  0.03251118  0.08929838  0.02907813  0.02800346\n",
      "  0.08868277  0.04771166  0.03992584  0.04290239  0.02544244  0.03548234\n",
      "  0.06352161  0.0415421   0.03834008]\n",
      "[ 0.06504011  0.04613466  0.09041577  0.06297674  0.02259423  0.02625234\n",
      "  0.07616195  0.02823523  0.02133253  0.05482012  0.02509412  0.0364657\n",
      "  0.05687407  0.03564537  0.02831993  0.06942828  0.06241154  0.04924811\n",
      "  0.05723249  0.04682145  0.03849527]\n",
      "[ 0.05880888  0.07138611  0.09471267  0.04883608  0.02262624  0.02654034\n",
      "  0.07058927  0.02747241  0.01546579  0.06360459  0.0385936   0.02658318\n",
      "  0.04985691  0.04812352  0.03374384  0.05082181  0.04844012  0.05108954\n",
      "  0.0602738   0.04713523  0.04529607]\n",
      "[ 0.03286608  0.05377288  0.06089073  0.06311375  0.03475325  0.02888066\n",
      "  0.06388651  0.02326005  0.01996537  0.0458523   0.02082946  0.0276055\n",
      "  0.07993805  0.03267048  0.06908336  0.06918138  0.03951133  0.05061729\n",
      "  0.07340818  0.04957723  0.06033614]\n",
      "[ 0.03828121  0.06005577  0.07006055  0.07256216  0.04134121  0.02425694\n",
      "  0.08531944  0.02105282  0.01979986  0.06156618  0.03086155  0.02710779\n",
      "  0.05125752  0.04477093  0.04774324  0.06809888  0.0452075   0.05942369\n",
      "  0.0487666   0.04480721  0.03765896]\n",
      "[ 0.0584677   0.06965207  0.06002374  0.0683753   0.03031565  0.02531318\n",
      "  0.06787619  0.03051421  0.02724985  0.06249766  0.01473195  0.02971753\n",
      "  0.08182925  0.03142613  0.02887762  0.08733608  0.03365412  0.04533972\n",
      "  0.04957773  0.0544962   0.04272811]\n",
      "[ 0.05953463  0.06039701  0.0730251   0.05280138  0.02166286  0.02066485\n",
      "  0.05945765  0.02723054  0.03429295  0.06912673  0.03725859  0.01902103\n",
      "  0.07003808  0.04594204  0.03236849  0.09009015  0.03870709  0.03055792\n",
      "  0.0641195   0.04604146  0.04766195]\n",
      "[ 0.0561703   0.04684335  0.06207021  0.08783346  0.02331347  0.0228232\n",
      "  0.0508001   0.02214275  0.01869558  0.06717514  0.03006621  0.02469751\n",
      "  0.07839308  0.04196809  0.03852296  0.07387005  0.04388051  0.04281264\n",
      "  0.06494465  0.05446023  0.04851651]\n",
      "[ 0.05229526  0.06488775  0.06664966  0.06345867  0.02459786  0.02508614\n",
      "  0.07265915  0.02386055  0.02235243  0.06158232  0.02486517  0.02266476\n",
      "  0.06412495  0.03810465  0.03365056  0.06840018  0.04472215  0.04553106\n",
      "  0.07805336  0.05261624  0.04983716]\n",
      "[ 0.05269209  0.05238318  0.0555236   0.06709564  0.03990317  0.02095877\n",
      "  0.07742012  0.02739413  0.0235336   0.07431119  0.02864637  0.02003585\n",
      "  0.07448361  0.03869799  0.05606674  0.07181397  0.04744287  0.03669626\n",
      "  0.06157215  0.03668035  0.03664833]\n",
      "[ 0.06617082  0.06565295  0.07920735  0.06845716  0.02048399  0.01707133\n",
      "  0.05125567  0.03221684  0.0333435   0.04231807  0.02580581  0.02439775\n",
      "  0.06838974  0.04746469  0.03464754  0.06710063  0.04966237  0.01821783\n",
      "  0.07787265  0.05760346  0.05265983]\n",
      "[ 0.03486571  0.0660063   0.07004705  0.0423559   0.025206    0.0301346\n",
      "  0.05311964  0.03608148  0.02911544  0.06766893  0.0270424   0.02945554\n",
      "  0.07363687  0.05578595  0.0559195   0.06437874  0.04392119  0.03466231\n",
      "  0.07884407  0.04243267  0.0393197 ]\n",
      "[ 0.06228917  0.0580599   0.07996823  0.07917877  0.02866131  0.0176833\n",
      "  0.05533772  0.01819307  0.01790192  0.05642076  0.03053777  0.02917002\n",
      "  0.08164895  0.04513328  0.04694477  0.06663219  0.03799669  0.03560442\n",
      "  0.06736218  0.04809342  0.03718216]\n",
      "[ 0.0460656   0.0630234   0.05556196  0.07243854  0.03394718  0.02218842\n",
      "  0.08373051  0.03022658  0.02148586  0.06054131  0.0335531   0.03236562\n",
      "  0.06628252  0.04537975  0.03964142  0.05970161  0.0445639   0.03495402\n",
      "  0.07076512  0.04539805  0.03818552]\n",
      "[ 0.07361037  0.05228142  0.07061062  0.07671678  0.02104022  0.0244464\n",
      "  0.05766857  0.0271356   0.02433015  0.06451873  0.03606068  0.02424152\n",
      "  0.0669392   0.04104098  0.03801393  0.07136497  0.0361929   0.03391216\n",
      "  0.07163311  0.04071096  0.04753074]\n",
      "[ 0.05419345  0.05256446  0.0731351   0.05531685  0.01972166  0.02269065\n",
      "  0.07579907  0.02317039  0.02002664  0.06200188  0.03014591  0.02317237\n",
      "  0.07338101  0.03830019  0.03920463  0.0760074   0.03792814  0.0367844\n",
      "  0.07908649  0.0493348   0.05803451]\n",
      "[ 0.05334301  0.05615274  0.06577466  0.07584948  0.02255999  0.03606464\n",
      "  0.07625784  0.02598722  0.0276827   0.0662091   0.02042963  0.03134793\n",
      "  0.06482519  0.04474548  0.03411637  0.07344946  0.03496409  0.03518627\n",
      "  0.05704733  0.05220769  0.04579919]\n",
      "[ 0.05274525  0.05758387  0.05928273  0.07395089  0.03003235  0.026684\n",
      "  0.0541717   0.03991446  0.01847425  0.06000247  0.01876025  0.03237765\n",
      "  0.08062566  0.0357006   0.04885955  0.07298132  0.03835767  0.04557218\n",
      "  0.06217494  0.05442487  0.03732333]\n",
      "[ 0.0487973   0.07534428  0.0611003   0.08077508  0.02778143  0.02455306\n",
      "  0.06698109  0.01365081  0.01907521  0.06925135  0.0305618   0.02945411\n",
      "  0.0625938   0.03663991  0.03895616  0.0770929   0.04127011  0.04221228\n",
      "  0.06746749  0.04269745  0.04374406]\n",
      "[ 0.04689202  0.05259268  0.06439584  0.0670414   0.02750718  0.02652427\n",
      "  0.06269643  0.0265121   0.01966554  0.0636941   0.02681013  0.03146382\n",
      "  0.05152346  0.04442315  0.0448465   0.07896471  0.04431633  0.05006745\n",
      "  0.0706411   0.04166506  0.05775675]\n",
      "[ 0.05378749  0.06615477  0.06162624  0.06268637  0.01938581  0.03170617\n",
      "  0.07761035  0.02824864  0.0208455   0.06228309  0.02317433  0.02662568\n",
      "  0.08921976  0.03493388  0.03713934  0.0613018   0.04138292  0.03752245\n",
      "  0.06526492  0.04798148  0.05111901]\n",
      "[ 0.05894789  0.06276691  0.06840575  0.07738607  0.02492     0.0254886\n",
      "  0.07258828  0.02782368  0.02323374  0.05542592  0.02077537  0.02838182\n",
      "  0.07674096  0.04336246  0.04166267  0.06878096  0.03811503  0.03631765\n",
      "  0.04863085  0.04975314  0.05049225]\n",
      "[ 0.05083158  0.06202702  0.05367257  0.06129806  0.02309444  0.02990044\n",
      "  0.0712969   0.02685873  0.02412979  0.06007525  0.03629008  0.02667261\n",
      "  0.07841953  0.04997021  0.03983168  0.07076055  0.0359238   0.04246295\n",
      "  0.07354347  0.0436092   0.03933114]\n",
      "[ 0.05227948  0.06112674  0.07982894  0.06035388  0.02095585  0.02464763\n",
      "  0.06651769  0.02696106  0.02486813  0.0721172   0.02940383  0.0243268\n",
      "  0.07499185  0.04360762  0.03535492  0.06408552  0.04014886  0.04249882\n",
      "  0.05840437  0.0507099   0.04681092]\n",
      "[ 0.04105151  0.0645      0.06501398  0.0674917   0.02362074  0.02958844\n",
      "  0.0639594   0.02566606  0.02776686  0.0608056   0.0346094   0.03141092\n",
      "  0.08368498  0.03841486  0.04220804  0.07157276  0.02807801  0.04884052\n",
      "  0.0646835   0.03930995  0.04772278]\n",
      "[ 0.0448247   0.05702292  0.06632234  0.06737217  0.02922963  0.02681501\n",
      "  0.06302502  0.02575388  0.01599331  0.05795324  0.04264799  0.0234701\n",
      "  0.07258331  0.0438477   0.05101016  0.06809207  0.03870826  0.04237592\n",
      "  0.06830757  0.04422271  0.05042199]\n",
      "[ 0.05481612  0.06933236  0.07587903  0.06575591  0.01996239  0.0337896\n",
      "  0.0680036   0.01525821  0.01678951  0.06394671  0.02926024  0.0228752\n",
      "  0.06478842  0.0389122   0.05174258  0.0707934   0.03758995  0.04465187\n",
      "  0.06133509  0.04165721  0.05286038]\n",
      "[ 0.04572268  0.06900731  0.07344099  0.07470869  0.02142087  0.02702427\n",
      "  0.07500293  0.02432314  0.02930163  0.05762028  0.02628935  0.02597152\n",
      "  0.06398671  0.04268443  0.03908183  0.0579119   0.03818326  0.04306357\n",
      "  0.06826898  0.05116724  0.04581844]\n",
      "[ 0.0525443   0.06880244  0.06684541  0.06604637  0.02570695  0.02312125\n",
      "  0.0595544   0.02590995  0.02736772  0.05314179  0.03388606  0.02795438\n",
      "  0.06504642  0.04309326  0.0446945   0.07609745  0.04344923  0.04133348\n",
      "  0.06943861  0.03344738  0.05251864]\n",
      "[ 0.05264565  0.06950866  0.06174931  0.06531047  0.027565    0.02033006\n",
      "  0.08275178  0.02710786  0.02816373  0.06421797  0.02347441  0.03402943\n",
      "  0.07215806  0.04070894  0.03864378  0.06192062  0.02880658  0.03832223\n",
      "  0.06331646  0.0555769   0.04369211]\n",
      "[ 0.05917886  0.07422449  0.06601999  0.06947948  0.02522472  0.02637771\n",
      "  0.06626496  0.02533726  0.02553881  0.06179745  0.02678078  0.02753236\n",
      "  0.07862114  0.04231143  0.03984655  0.07076739  0.03784997  0.04684666\n",
      "  0.05562708  0.03440414  0.03996875]\n",
      "[ 0.04920923  0.05987891  0.0616188   0.08187428  0.03303615  0.01960808\n",
      "  0.06066251  0.02922133  0.02415903  0.06295956  0.01977469  0.02379465\n",
      "  0.07036335  0.04550261  0.04997416  0.07691593  0.03604857  0.03603425\n",
      "  0.06750063  0.04724506  0.04461824]\n",
      "[ 0.05474393  0.06748825  0.06385895  0.06686055  0.0300337   0.0175876\n",
      "  0.07707617  0.0208614   0.0249837   0.06483558  0.02695652  0.03085596\n",
      "  0.06420663  0.03844388  0.04140692  0.06331655  0.0409174   0.03413015\n",
      "  0.07882606  0.04987127  0.04273885]\n",
      "[ 0.05278116  0.06240971  0.06611639  0.0608657   0.03511347  0.02687544\n",
      "  0.07234037  0.03116591  0.02174932  0.05380625  0.02341802  0.02654406\n",
      "  0.06615418  0.03748269  0.05498349  0.06706178  0.04628657  0.04134725\n",
      "  0.05821048  0.04674411  0.04854365]\n",
      "[ 0.04818328  0.06161932  0.05646997  0.06142402  0.0245459   0.02425729\n",
      "  0.07835651  0.02541933  0.0200615   0.06071709  0.0277237   0.02408572\n",
      "  0.07014593  0.04515365  0.04941235  0.06991105  0.0458903   0.04128327\n",
      "  0.06811595  0.04794613  0.04927774]\n",
      "[ 0.05333461  0.05747502  0.06326189  0.06379732  0.02422192  0.03010335\n",
      "  0.06364677  0.02971495  0.02345721  0.06623221  0.02826106  0.02134815\n",
      "  0.07283844  0.03816812  0.04854523  0.07271487  0.03948713  0.0469897\n",
      "  0.0690207   0.04414588  0.04323546]\n",
      "[ 0.05259461  0.0550011   0.06156774  0.06977591  0.02682987  0.02159423\n",
      "  0.07661043  0.02037755  0.02070747  0.06680121  0.02672625  0.03516629\n",
      "  0.07165548  0.03705727  0.03926486  0.07113183  0.05212288  0.04365998\n",
      "  0.06573525  0.04023384  0.04538598]\n",
      "[ 0.05729378  0.0531276   0.06063474  0.08105426  0.03169885  0.02324357\n",
      "  0.06858425  0.02972461  0.0279175   0.05572127  0.02778487  0.02918096\n",
      "  0.06516963  0.04609023  0.04379261  0.07799873  0.03529473  0.03729578\n",
      "  0.0638139   0.04384916  0.04072896]\n",
      "[ 0.04945387  0.07090313  0.06886686  0.06584294  0.02465572  0.02937512\n",
      "  0.05626986  0.02982648  0.02494485  0.062356    0.02535793  0.03162643\n",
      "  0.0679603   0.04200995  0.04270335  0.07477974  0.04164095  0.03606735\n",
      "  0.06441693  0.04545552  0.04548673]\n",
      "[ 0.05386991  0.05980157  0.07344352  0.06758849  0.0300586   0.01932919\n",
      "  0.06840882  0.0213788   0.02858473  0.07458015  0.02999014  0.02877843\n",
      "  0.06251584  0.03745225  0.04279975  0.06529226  0.04229229  0.04692152\n",
      "  0.06740294  0.03622022  0.04329058]\n",
      "[ 0.04879074  0.06040112  0.05725328  0.06973933  0.02737953  0.02762664\n",
      "  0.06566682  0.03031194  0.02160003  0.07379789  0.02612854  0.03112806\n",
      "  0.07402309  0.04266367  0.04196682  0.06222473  0.03827126  0.04388359\n",
      "  0.05804383  0.04825595  0.05084314]\n",
      "[ 0.05481982  0.06615084  0.06287128  0.07296732  0.02501465  0.01964317\n",
      "  0.05964428  0.02746109  0.02503266  0.06781982  0.02657251  0.02934801\n",
      "  0.07619529  0.03694968  0.04971267  0.06525183  0.03524915  0.04292401\n",
      "  0.06344203  0.04917137  0.04375851]\n",
      "[ 0.0501921   0.06224496  0.06771107  0.06986729  0.02785537  0.03033798\n",
      "  0.06675495  0.02165947  0.02928672  0.06623771  0.0275078   0.0299539\n",
      "  0.07474521  0.03756591  0.0404405   0.06384756  0.03564036  0.03107908\n",
      "  0.06596092  0.04853882  0.05257233]\n",
      "[ 0.04800065  0.06209289  0.05658174  0.07475889  0.02235084  0.02027021\n",
      "  0.07032168  0.02919692  0.02849019  0.06218816  0.0257213   0.02884665\n",
      "  0.07725411  0.04385993  0.04854079  0.06335123  0.03995437  0.03806177\n",
      "  0.07184898  0.04054024  0.04776845]\n",
      "[ 0.05433673  0.06201786  0.06115348  0.08131771  0.02119209  0.02807728\n",
      "  0.07030056  0.02288192  0.026393    0.06696111  0.02882137  0.02458673\n",
      "  0.07526377  0.04380153  0.04396797  0.06378277  0.04169488  0.03674098\n",
      "  0.05981298  0.04163216  0.04526313]\n",
      "[ 0.04948002  0.05897152  0.07128448  0.06227542  0.02472681  0.02525515\n",
      "  0.06792621  0.027591    0.02397412  0.06791585  0.02440192  0.02709961\n",
      "  0.07616284  0.0330772   0.04878431  0.07369672  0.04187636  0.03463609\n",
      "  0.0711861   0.04575682  0.04392144]\n",
      "[ 0.04691025  0.05802204  0.06349154  0.07038983  0.02235148  0.02646582\n",
      "  0.07462131  0.02855636  0.03085359  0.06493988  0.02506868  0.02625803\n",
      "  0.0780327   0.04212991  0.0497314   0.06517601  0.03135979  0.04377854\n",
      "  0.07056164  0.03690541  0.04439579]\n",
      "[ 0.05558561  0.06345966  0.06767326  0.0677992   0.02670634  0.02413488\n",
      "  0.06244019  0.03492573  0.02485928  0.06661542  0.02640136  0.02389796\n",
      "  0.07400507  0.0454203   0.04350342  0.06258027  0.03546274  0.03812924\n",
      "  0.07121276  0.03780173  0.04738558]\n",
      "[ 0.05683996  0.06582608  0.06926384  0.06022441  0.0262472   0.0295842\n",
      "  0.06987554  0.02477819  0.02551308  0.05866004  0.02546759  0.0251606\n",
      "  0.06999013  0.0381089   0.05020458  0.06396003  0.04422585  0.03887444\n",
      "  0.06319861  0.04655661  0.04744014]\n",
      "[ 0.04613511  0.06775744  0.06743959  0.06935913  0.02603463  0.02536208\n",
      "  0.06980311  0.0246803   0.02547053  0.0674771   0.02400323  0.02958021\n",
      "  0.06903231  0.03492577  0.0385285   0.07890604  0.03669569  0.04046577\n",
      "  0.06289975  0.04805412  0.04738959]\n",
      "[ 0.05188882  0.06060271  0.06144481  0.06418189  0.0249148   0.0249107\n",
      "  0.08095778  0.02579611  0.02476888  0.06219382  0.02763675  0.02909529\n",
      "  0.06842971  0.03816275  0.0385684   0.06905908  0.03619777  0.03813916\n",
      "  0.07490955  0.04767125  0.05046998]\n",
      "[ 0.05456943  0.05995941  0.06646227  0.06507351  0.02529085  0.02835893\n",
      "  0.0619544   0.02169737  0.02124822  0.06950598  0.0259571   0.03104801\n",
      "  0.07320447  0.04271176  0.03784332  0.07108715  0.04319533  0.04431355\n",
      "  0.06747559  0.03955267  0.04949068]\n",
      "[ 0.05391465  0.05478037  0.06409828  0.06943458  0.02865019  0.02182183\n",
      "  0.06255395  0.02937796  0.02145779  0.06734061  0.02329846  0.02607196\n",
      "  0.06602107  0.03494218  0.04304609  0.07312205  0.03870903  0.04528112\n",
      "  0.07801559  0.0479147   0.05014754]\n",
      "[ 0.04596334  0.06300982  0.07389431  0.06123757  0.02565119  0.02279906\n",
      "  0.07385042  0.02975262  0.02620781  0.06900926  0.02639742  0.02475026\n",
      "  0.05821057  0.04062914  0.03841527  0.08194323  0.04468845  0.04013146\n",
      "  0.0622332   0.04726329  0.04396232]\n",
      "[ 0.04377183  0.06345947  0.07347971  0.06707511  0.02379131  0.02235586\n",
      "  0.06690008  0.02607242  0.02322729  0.06398857  0.0226098   0.02673465\n",
      "  0.07552783  0.03281698  0.04041644  0.07500358  0.04159281  0.04109231\n",
      "  0.07054497  0.05565178  0.04388721]\n",
      "[ 0.05140123  0.05520098  0.06558212  0.06959785  0.03008362  0.02628791\n",
      "  0.06620987  0.02553046  0.02357035  0.06786779  0.02911029  0.02676585\n",
      "  0.06954067  0.03605488  0.04143666  0.07075114  0.0394296   0.04400789\n",
      "  0.0734015   0.04161522  0.04655412]\n",
      "[ 0.0548295   0.05789915  0.0693857   0.07090892  0.02399313  0.02808932\n",
      "  0.06504343  0.02679837  0.02647464  0.05755211  0.02613733  0.02464392\n",
      "  0.06251711  0.04324738  0.04334824  0.0700952   0.0455932   0.04082263\n",
      "  0.06887741  0.04753629  0.04620703]\n",
      "[ 0.04614097  0.06138723  0.06975611  0.06441995  0.02454711  0.03200994\n",
      "  0.07322469  0.02229226  0.02258694  0.0584018   0.02634791  0.02888671\n",
      "  0.07276599  0.03888289  0.0495576   0.06533104  0.037504    0.04092134\n",
      "  0.06531482  0.04940924  0.05031146]\n",
      "[ 0.04940406  0.06373083  0.06771575  0.06341559  0.0196993   0.02570801\n",
      "  0.072002    0.03007499  0.02474574  0.06294334  0.03155977  0.02259835\n",
      "  0.07063382  0.03712872  0.05062957  0.06547903  0.04099847  0.03858691\n",
      "  0.07298499  0.0433138   0.04664696]\n",
      "[ 0.05046388  0.06473751  0.06621545  0.07160945  0.02526046  0.01979652\n",
      "  0.06919416  0.02653543  0.0230155   0.06984377  0.02473077  0.02344113\n",
      "  0.07558925  0.03617857  0.04612408  0.06459786  0.0339649   0.04255182\n",
      "  0.07173846  0.04562655  0.04878447]\n",
      "[ 0.05188493  0.0583749   0.06205112  0.06239052  0.02437078  0.02097373\n",
      "  0.07126648  0.02978837  0.02730322  0.06306893  0.03351816  0.02593037\n",
      "  0.0792382   0.0322601   0.04613793  0.0650784   0.04825594  0.03711868\n",
      "  0.06713405  0.04316438  0.05069081]\n",
      "[ 0.05646936  0.058825    0.06793433  0.06441115  0.02792776  0.02258218\n",
      "  0.06458389  0.02855077  0.02440656  0.06182045  0.02629539  0.02510027\n",
      "  0.08146942  0.03959075  0.04310582  0.06964495  0.04154793  0.03959226\n",
      "  0.06340603  0.05071637  0.04201937]\n",
      "[ 0.04774558  0.0613158   0.06998534  0.06199857  0.02750486  0.03175041\n",
      "  0.06958148  0.0324687   0.02026536  0.06321473  0.02593922  0.02617953\n",
      "  0.07595139  0.0360189   0.04487345  0.06942578  0.04107611  0.04157124\n",
      "  0.0627159   0.04700859  0.04340905]\n",
      "[ 0.04835796  0.05926365  0.06996713  0.06957361  0.02557351  0.02480119\n",
      "  0.07234462  0.0250165   0.02548042  0.06444221  0.02978746  0.02235927\n",
      "  0.06982181  0.03899807  0.04425282  0.07622514  0.03587839  0.03928676\n",
      "  0.06515731  0.0438119   0.04960025]\n",
      "[ 0.04769631  0.0588748   0.06776824  0.0654321   0.02722201  0.0224407\n",
      "  0.06123841  0.0292665   0.02212458  0.06787546  0.03599471  0.02092158\n",
      "  0.07384059  0.0406456   0.04689159  0.06391634  0.03853149  0.0431312\n",
      "  0.0697608   0.05002453  0.04640247]\n",
      "[ 0.04778977  0.05549374  0.0652339   0.0678277   0.03072669  0.0260903\n",
      "  0.06319002  0.02279926  0.02939832  0.06605022  0.02683339  0.0303824\n",
      "  0.06901027  0.04658268  0.03877685  0.07222463  0.03648363  0.04601768\n",
      "  0.06593459  0.04403684  0.0491171 ]\n",
      "[ 0.0558578   0.0596377   0.06807196  0.05991986  0.02866829  0.0226233\n",
      "  0.06804148  0.02905727  0.02468298  0.06889219  0.02787626  0.02606965\n",
      "  0.07297866  0.03686872  0.04693655  0.06989054  0.03587875  0.04391015\n",
      "  0.06309993  0.04667362  0.04436434]\n",
      "[ 0.05019431  0.06832008  0.06056879  0.07099216  0.02704215  0.02530538\n",
      "  0.0704135   0.02047623  0.02266224  0.06207892  0.03039444  0.02166445\n",
      "  0.07451952  0.03619713  0.04192817  0.06722389  0.03835371  0.04414646\n",
      "  0.07302759  0.04891611  0.04557476]\n",
      "[ 0.05105127  0.06002543  0.07043489  0.06334489  0.02472285  0.02298528\n",
      "  0.06845118  0.02671895  0.02343333  0.06023927  0.02964377  0.0223945\n",
      "  0.07505927  0.04023844  0.04034567  0.06338655  0.04398622  0.05587559\n",
      "  0.06375195  0.04715384  0.04675685]\n",
      "[ 0.05530089  0.0600009   0.06372181  0.06641874  0.02380745  0.02423612\n",
      "  0.0652241   0.02598021  0.0268231   0.06287238  0.02775798  0.02634762\n",
      "  0.07227792  0.03808245  0.04700769  0.06664345  0.04077197  0.03907954\n",
      "  0.07239351  0.04581154  0.04944061]\n",
      "[ 0.0592364   0.05953541  0.05911245  0.06969253  0.0250832   0.02181002\n",
      "  0.05551019  0.02594632  0.02465505  0.06942574  0.02765038  0.02481848\n",
      "  0.07510736  0.03593883  0.04777515  0.06883018  0.04397364  0.04449552\n",
      "  0.06573722  0.05042666  0.04523928]\n",
      "[ 0.05818994  0.06121034  0.0726904   0.06078551  0.02628352  0.02397891\n",
      "  0.06547114  0.02588432  0.02080261  0.06708785  0.02582912  0.02569729\n",
      "  0.0699233   0.04007842  0.04519622  0.06741775  0.04142814  0.04171162\n",
      "  0.07383578  0.0420441   0.04445373]\n",
      "[ 0.05057729  0.07023513  0.06880236  0.06696629  0.02965944  0.02032494\n",
      "  0.06543965  0.02829438  0.01965494  0.06653334  0.02472489  0.02387096\n",
      "  0.06102734  0.0382006   0.03723597  0.06657796  0.04728573  0.05172758\n",
      "  0.06450442  0.05051669  0.04784009]\n"
     ]
    }
   ],
   "source": [
    "error_train=[]\n",
    "error_test=[]\n",
    "for i in range(1,40):\n",
    "    error_test.append(evaluate_random_forest_model(X_train,X_test,y_train,y_test,n_estimators=i))\n",
    "    error_train.append(evaluate_random_forest_model(X_train,X_train,y_train,y_train,n_estimators=i))\n"
   ]
  },
  {
   "cell_type": "code",
   "execution_count": 547,
   "metadata": {
    "collapsed": false
   },
   "outputs": [
    {
     "data": {
      "text/plain": [
       "<matplotlib.text.Text at 0x7f518db685c0>"
      ]
     },
     "execution_count": 547,
     "metadata": {},
     "output_type": "execute_result"
    },
    {
     "data": {
      "image/png": "[encoded data removed]",
      "text/plain": [
       "<matplotlib.figure.Figure at 0x7f518c9c19b0>"
      ]
     },
     "metadata": {},
     "output_type": "display_data"
    }
   ],
   "source": [
    "plt.plot(range(1,40),error_test)\n",
    "plt.plot(range(1,40),error_train)\n",
    "plt.legend(['test_error','train_error'])\n",
    "plt.title('Error with different n_estimators')\n",
    "plt.xlabel('n_estimators')\n",
    "plt.ylabel('mean square error')"
   ]
  },
  {
   "cell_type": "markdown",
   "metadata": {},
   "source": [
    "criterion"
   ]
  },
  {
   "cell_type": "code",
   "execution_count": 434,
   "metadata": {
    "collapsed": true
   },
   "outputs": [],
   "source": [
    "error_train=[]\n",
    "error_test=[]\n",
    "\n",
    "error_test.append(evaluate_random_forest_model(X_train,X_test,y_train,y_test,criterion='gini'))\n",
    "error_train.append(evaluate_random_forest_model(X_train,X_train,y_train,y_train,criterion='gini'))\n",
    "\n",
    "error_test.append(evaluate_random_forest_model(X_train,X_test,y_train,y_test,criterion='entropy'))\n",
    "error_train.append(evaluate_random_forest_model(X_train,X_train,y_train,y_train,criterion='entropy'))"
   ]
  },
  {
   "cell_type": "code",
   "execution_count": 435,
   "metadata": {
    "collapsed": false
   },
   "outputs": [
    {
     "data": {
      "text/plain": [
       "[0.026595744680851019, 0.014627659574468099]"
      ]
     },
     "execution_count": 435,
     "metadata": {},
     "output_type": "execute_result"
    }
   ],
   "source": [
    "error_train"
   ]
  },
  {
   "cell_type": "code",
   "execution_count": 436,
   "metadata": {
    "collapsed": false
   },
   "outputs": [
    {
     "data": {
      "text/plain": [
       "[0.33533653846153844, 0.29927884615384615]"
      ]
     },
     "execution_count": 436,
     "metadata": {},
     "output_type": "execute_result"
    }
   ],
   "source": [
    "error_test"
   ]
  },
  {
   "cell_type": "markdown",
   "metadata": {},
   "source": [
    "### Cross validation"
   ]
  },
  {
   "cell_type": "markdown",
   "metadata": {},
   "source": [
    "With cross validation we expect more precise results.\n",
    "We chosed n_folds=30."
   ]
  },
  {
   "cell_type": "code",
   "execution_count": 548,
   "metadata": {
    "collapsed": false
   },
   "outputs": [],
   "source": [
    "kf = KFold(train.shape[0], n_folds=10, shuffle=True)"
   ]
  },
  {
   "cell_type": "code",
   "execution_count": 549,
   "metadata": {
    "collapsed": false
   },
   "outputs": [],
   "source": [
    "def cross_val(database,n_estimators=10,criterion='gini',\n",
    "                                max_depth=None,min_samples_split=2, min_samples_leaf=1, \n",
    "              min_weight_fraction_leaf=0.0, max_features='auto', max_leaf_nodes=None, \n",
    "              bootstrap=True, oob_score=False, n_jobs=1, random_state=None, \n",
    "              verbose=0, warm_start=False, class_weight=None):\n",
    "    \n",
    "    error_train=[]\n",
    "    error_test=[]\n",
    "    for iteration, data in enumerate(kf, start=1):\n",
    "        print('Iteration:',iteration)\n",
    "#         X_train=database.iloc[data[0]]\n",
    "#         X_test=database.iloc[data[1]]\n",
    "#         y_train=output.iloc[data[0]]\n",
    "#         y_test=output.iloc[data[1]]\n",
    "\n",
    "        X_train,X_test,y_train,y_test=process_database(database,train_indexes=data[0],test=True,binary_y=True)\n",
    "        X_train=X_train[features_to_keep]\n",
    "        X_test=X_test[features_to_keep]\n",
    "        error_test.append(evaluate_random_forest_model(X_train,X_test,y_train,y_test,\n",
    "                                                       n_estimators=n_estimators,criterion=criterion,\n",
    "                                                       max_depth=max_depth,min_samples_split=min_samples_split, \n",
    "                                                       min_samples_leaf=min_samples_leaf, \n",
    "                                                       min_weight_fraction_leaf=min_weight_fraction_leaf, \n",
    "                                                       max_features=max_features, max_leaf_nodes=max_leaf_nodes, \n",
    "                                                       bootstrap=bootstrap, \n",
    "                                                       oob_score=oob_score, n_jobs=n_jobs, random_state=random_state, \n",
    "                                                       verbose=verbose, warm_start=warm_start, \n",
    "                                                       class_weight=class_weight))\n",
    "        error_train.append(evaluate_random_forest_model(X_train,X_train,y_train,y_train,\n",
    "                                                        n_estimators=n_estimators,criterion=criterion,\n",
    "                                                       max_depth=max_depth,min_samples_split=min_samples_split, \n",
    "                                                       min_samples_leaf=min_samples_leaf, \n",
    "                                                       min_weight_fraction_leaf=min_weight_fraction_leaf, \n",
    "                                                       max_features=max_features, max_leaf_nodes=max_leaf_nodes, \n",
    "                                                       bootstrap=bootstrap, \n",
    "                                                       oob_score=oob_score, n_jobs=n_jobs, random_state=random_state, \n",
    "                                                       verbose=verbose, warm_start=warm_start, \n",
    "                                                       class_weight=class_weight))\n",
    "    return np.mean(error_train),np.mean(error_test)\n"
   ]
  },
  {
   "cell_type": "markdown",
   "metadata": {},
   "source": [
    "### Best parameters so far"
   ]
  },
  {
   "cell_type": "code",
   "execution_count": 550,
   "metadata": {
    "collapsed": false
   },
   "outputs": [
    {
     "data": {
      "text/plain": [
       "0.29020979020979021"
      ]
     },
     "execution_count": 550,
     "metadata": {},
     "output_type": "execute_result"
    }
   ],
   "source": [
    "sum(y_test==1)/len(y_test)"
   ]
  },
  {
   "cell_type": "code",
   "execution_count": 552,
   "metadata": {
    "collapsed": false,
    "scrolled": true
   },
   "outputs": [
    {
     "name": "stdout",
     "output_type": "stream",
     "text": [
      "Iteration: 1\n",
      "[ 0.0254286   0.06430857  0.04760413  0.05801264  0.02816215  0.01946616\n",
      "  0.06692622  0.05941889  0.010854    0.06535579  0.02468492  0.0142643\n",
      "  0.08271743  0.04608992  0.0426281   0.06315469  0.06046249  0.05346569\n",
      "  0.08126903  0.05118614  0.03454015]\n",
      "[ 0.03512661  0.07706298  0.00905797  0.06550944  0.03850656  0.01743397\n",
      "  0.06462906  0.04018856  0.03218907  0.09248281  0.03843055  0.01416198\n",
      "  0.06496017  0.07474443  0.05066232  0.05165563  0.0421226   0.03016119\n",
      "  0.06317903  0.06758442  0.03015066]\n",
      "Iteration: 2\n",
      "[ 0.04978386  0.1022067   0.04951883  0.02446437  0.04049438  0.02103382\n",
      "  0.0573471   0.02279886  0.00672745  0.04881092  0.06774762  0.02711115\n",
      "  0.07509952  0.05947229  0.0208915   0.09098481  0.05092837  0.02594702\n",
      "  0.06113801  0.04960783  0.0478856 ]\n",
      "[ 0.04974962  0.10635073  0.02656651  0.05460053  0.04168992  0.02822726\n",
      "  0.0444681   0.01297544  0.03360649  0.05031154  0.0326395   0.02431241\n",
      "  0.04709976  0.05255955  0.03729993  0.08026836  0.02323498  0.08524127\n",
      "  0.07522535  0.06310416  0.03046861]\n",
      "Iteration: 3\n",
      "[ 0.02432819  0.08521415  0.04310811  0.09045292  0.03830805  0.05087748\n",
      "  0.05894316  0.01623997  0.00489202  0.05987534  0.04246295  0.00174828\n",
      "  0.05811465  0.06616965  0.04380294  0.06742292  0.01456663  0.05887194\n",
      "  0.07419593  0.04867006  0.05173466]\n",
      "[ 0.03726623  0.06528884  0.04626098  0.08709022  0.03858474  0.01501848\n",
      "  0.04175821  0.01031205  0.03239888  0.07928599  0.06493256  0.01377798\n",
      "  0.05271665  0.07315643  0.0474303   0.05631234  0.05593025  0.04262898\n",
      "  0.04903865  0.05536113  0.0354501 ]\n",
      "Iteration: 4\n",
      "[ 0.03978694  0.06642389  0.04341426  0.03633678  0.04033372  0.02492385\n",
      "  0.07524031  0.015971    0.05573828  0.07182719  0.02367779  0.04555497\n",
      "  0.03323833  0.11757865  0.0292451   0.07744067  0.01465535  0.0478453\n",
      "  0.05682013  0.06530557  0.01864191]\n",
      "[ 0.0254999   0.04505854  0.01745024  0.0848956   0.04246971  0.01665948\n",
      "  0.0418768   0.06934352  0.03062769  0.06198113  0.02326401  0.02150235\n",
      "  0.08445874  0.05190571  0.07769187  0.05977952  0.0456947   0.04608431\n",
      "  0.03918722  0.08213569  0.03243327]\n",
      "Iteration: 5\n",
      "[ 0.04215484  0.08195728  0.04077695  0.07524557  0.0586729   0.04422897\n",
      "  0.01623305  0.0256978   0.02256778  0.06615077  0.06075692  0.04394798\n",
      "  0.07159923  0.08156663  0.02243326  0.01448005  0.04664561  0.04108927\n",
      "  0.05180053  0.04289502  0.04909959]\n",
      "[ 0.03984366  0.0565548   0.04758554  0.12175373  0.06657195  0.\n",
      "  0.04898215  0.03583095  0.01410534  0.06707592  0.02299113  0.02460602\n",
      "  0.03020074  0.03831879  0.07072875  0.05316009  0.05903566  0.05472588\n",
      "  0.05423053  0.03799352  0.05570484]\n",
      "Iteration: 6\n",
      "[ 0.01936788  0.07428611  0.06908354  0.04145235  0.03705249  0.01869112\n",
      "  0.07816755  0.05394508  0.01483477  0.09974682  0.02033314  0.02507409\n",
      "  0.10236287  0.03453268  0.03742545  0.04785193  0.06074246  0.03741825\n",
      "  0.02194648  0.04336102  0.06232391]\n",
      "[ 0.07474407  0.05991605  0.02799135  0.08371831  0.06280561  0.06006577\n",
      "  0.02806286  0.00704081  0.03804515  0.07412693  0.02050369  0.00605373\n",
      "  0.09436006  0.04928086  0.01894562  0.05945422  0.04936686  0.0285837\n",
      "  0.07756067  0.04885971  0.03051397]\n",
      "Iteration: 7\n",
      "[ 0.06497315  0.08336122  0.03606265  0.06216331  0.01836965  0.02959423\n",
      "  0.09411986  0.03799633  0.01245227  0.03959741  0.02781801  0.04854123\n",
      "  0.07163755  0.05783939  0.03051797  0.07726383  0.04029886  0.03447315\n",
      "  0.04129248  0.02788522  0.06374224]\n",
      "[ 0.05151397  0.05836149  0.05813493  0.07645185  0.0191098   0.03017337\n",
      "  0.08089084  0.02390229  0.00795721  0.06821906  0.05414405  0.02919428\n",
      "  0.0487402   0.06846119  0.03662456  0.04974633  0.04792984  0.04118355\n",
      "  0.05915363  0.04912697  0.04098058]\n",
      "Iteration: 8\n",
      "[ 0.04084409  0.11186079  0.03509517  0.07103209  0.05263202  0.02659799\n",
      "  0.0631213   0.03081986  0.04343144  0.0307511   0.02059945  0.02086918\n",
      "  0.05591491  0.08943367  0.04412266  0.04605417  0.02412032  0.01592368\n",
      "  0.05306562  0.07227308  0.05143742]\n",
      "[ 0.02791913  0.06824143  0.02987038  0.03969409  0.02624544  0.02182835\n",
      "  0.06020216  0.02895429  0.02274368  0.10702497  0.04360572  0.03822464\n",
      "  0.05577319  0.11087682  0.06331838  0.04900936  0.01650251  0.0222302\n",
      "  0.06174778  0.05848373  0.04750375]\n",
      "Iteration: 9\n",
      "[ 0.02254378  0.07180278  0.05987547  0.06579858  0.0272053   0.02405429\n",
      "  0.09792273  0.04948627  0.03687033  0.07690657  0.03611351  0.02730186\n",
      "  0.05499685  0.04096898  0.01887658  0.03300994  0.06480681  0.04571971\n",
      "  0.08185854  0.02859163  0.03528948]\n",
      "[ 0.03283281  0.08035214  0.03252328  0.05035054  0.00283462  0.04904931\n",
      "  0.07945651  0.0470342   0.02814829  0.07035149  0.02921436  0.02832805\n",
      "  0.05921374  0.04930275  0.05957759  0.05541579  0.03750539  0.03262271\n",
      "  0.06955842  0.06761993  0.03870809]\n",
      "Iteration: 10\n",
      "[ 0.04030441  0.08710125  0.0391655   0.04677687  0.03126582  0.0179975\n",
      "  0.06470803  0.02317177  0.03254026  0.04945049  0.06080045  0.02488946\n",
      "  0.07474287  0.05608745  0.01763341  0.07009776  0.05413541  0.04545462\n",
      "  0.07790164  0.04144649  0.04432856]\n",
      "[ 0.0448061   0.03826563  0.01650509  0.05147947  0.00351421  0.04048005\n",
      "  0.08537017  0.04054118  0.04400337  0.08275468  0.02848229  0.02136622\n",
      "  0.08633407  0.08198559  0.03185265  0.06631973  0.06527828  0.02268936\n",
      "  0.09342996  0.03764185  0.01690003]\n"
     ]
    },
    {
     "data": {
      "text/plain": [
       "(0.28288888888888886, 0.27646198830409352)"
      ]
     },
     "execution_count": 552,
     "metadata": {},
     "output_type": "execute_result"
    }
   ],
   "source": [
    "cross_val(train_after_prep_2,min_samples_leaf=20)"
   ]
  },
  {
   "cell_type": "markdown",
   "metadata": {},
   "source": [
    "### Training parameters"
   ]
  },
  {
   "cell_type": "markdown",
   "metadata": {},
   "source": [
    "max_leaf_nodes"
   ]
  },
  {
   "cell_type": "code",
   "execution_count": 86,
   "metadata": {
    "collapsed": false,
    "scrolled": true
   },
   "outputs": [
    {
     "name": "stdout",
     "output_type": "stream",
     "text": [
      "10\n",
      "20\n",
      "30\n",
      "40\n"
     ]
    }
   ],
   "source": [
    "error_train=[]\n",
    "error_test=[]\n",
    "# for i in np.linspace(0,0.5,40):\n",
    "for i in range(2,41):\n",
    "    error_train_,error_test_=cross_val(train,y_ref,max_depth=i,min_samples_leaf=20)\n",
    "    error_train.append(error_train_)\n",
    "    error_test.append(error_test_)\n",
    "    if i%10==0:\n",
    "        print(i)\n"
   ]
  },
  {
   "cell_type": "code",
   "execution_count": 87,
   "metadata": {
    "collapsed": false
   },
   "outputs": [
    {
     "data": {
      "text/plain": [
       "<matplotlib.text.Text at 0x7f76d4903128>"
      ]
     },
     "execution_count": 87,
     "metadata": {},
     "output_type": "execute_result"
    },
    {
     "data": {
      "image/png": "[encoded data removed]",
      "text/plain": [
       "<matplotlib.figure.Figure at 0x7f76d473f278>"
      ]
     },
     "metadata": {},
     "output_type": "display_data"
    }
   ],
   "source": [
    "plt.plot(range(1,40),error_test)\n",
    "plt.plot(range(1,40),error_train)\n",
    "plt.legend(['test_error','train_error'])\n",
    "plt.title('Error with different max_depth')\n",
    "plt.xlabel('max_depth')\n",
    "plt.ylabel('mean square error')"
   ]
  },
  {
   "cell_type": "markdown",
   "metadata": {},
   "source": [
    "n_estimators"
   ]
  },
  {
   "cell_type": "code",
   "execution_count": null,
   "metadata": {
    "collapsed": false,
    "scrolled": false
   },
   "outputs": [],
   "source": [
    "error_train=[]\n",
    "error_test=[]\n",
    "for i in range(1,40):\n",
    "    error_train_,error_test_=cross_val(train,y_ref,n_estimators=i)\n",
    "    error_train.append(error_train_)\n",
    "    error_test.append(error_test_)\n",
    "    if i%10==0:\n",
    "        print(i)\n"
   ]
  },
  {
   "cell_type": "code",
   "execution_count": null,
   "metadata": {
    "collapsed": false
   },
   "outputs": [],
   "source": [
    "plt.plot(range(1,40),error_test)\n",
    "plt.plot(range(1,40),error_train)\n",
    "plt.legend(['test_error','train_error'])\n",
    "plt.title('Error with different n_estimators')\n",
    "plt.xlabel('n_estimators')\n",
    "plt.ylabel('mean square error')"
   ]
  },
  {
   "cell_type": "markdown",
   "metadata": {},
   "source": [
    "criterion"
   ]
  },
  {
   "cell_type": "code",
   "execution_count": null,
   "metadata": {
    "collapsed": false
   },
   "outputs": [],
   "source": [
    "error_train=[]\n",
    "error_test=[]\n",
    "\n",
    "error_train_,error_test_=cross_val(train_trivial,y_trivial,criterion='gini')\n",
    "\n",
    "error_train.append(error_train_)\n",
    "error_test.append(error_test_)\n",
    "\n",
    "error_train_,error_test_=cross_val(train_trivial,y_trivial,criterion='entropy')\n",
    "\n",
    "error_train.append(error_train_)\n",
    "error_test.append(error_test_)"
   ]
  },
  {
   "cell_type": "code",
   "execution_count": null,
   "metadata": {
    "collapsed": false
   },
   "outputs": [],
   "source": [
    "error_train"
   ]
  },
  {
   "cell_type": "code",
   "execution_count": null,
   "metadata": {
    "collapsed": false
   },
   "outputs": [],
   "source": [
    "error_test"
   ]
  },
  {
   "cell_type": "code",
   "execution_count": null,
   "metadata": {
    "collapsed": true
   },
   "outputs": [],
   "source": []
  }
 ],
 "metadata": {
  "anaconda-cloud": {},
  "kernelspec": {
   "display_name": "Python [Root]",
   "language": "python",
   "name": "Python [Root]"
  },
  "language_info": {
   "codemirror_mode": {
    "name": "ipython",
    "version": 3
   },
   "file_extension": ".py",
   "mimetype": "text/x-python",
   "name": "python",
   "nbconvert_exporter": "python",
   "pygments_lexer": "ipython3",
   "version": "3.5.2"
  }
 },
 "nbformat": 4,
 "nbformat_minor": 0
}
