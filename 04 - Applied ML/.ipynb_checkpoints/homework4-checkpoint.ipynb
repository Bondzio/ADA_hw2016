{
 "cells": [
  {
   "cell_type": "markdown",
   "metadata": {},
   "source": [
    "## Dataset importation\n",
    "At first, we import the dataset in csv format and perform an essential exploration of its features."
   ]
  },
  {
   "cell_type": "code",
   "execution_count": 1,
   "metadata": {
    "collapsed": true
   },
   "outputs": [],
   "source": [
    "#import libraries\n",
    "import pandas as pd\n",
    "import seaborn as sns\n",
    "import matplotlib.pyplot as plt\n",
    "import numpy as np"
   ]
  },
  {
   "cell_type": "code",
   "execution_count": 2,
   "metadata": {
    "collapsed": false,
    "scrolled": true
   },
   "outputs": [
    {
     "name": "stdout",
     "output_type": "stream",
     "text": [
      "Index(['playerShort', 'player', 'club', 'leagueCountry', 'birthday', 'height',\n",
      "       'weight', 'position', 'games', 'victories', 'ties', 'defeats', 'goals',\n",
      "       'yellowCards', 'yellowReds', 'redCards', 'photoID', 'rater1', 'rater2',\n",
      "       'refNum', 'refCountry', 'Alpha_3', 'meanIAT', 'nIAT', 'seIAT',\n",
      "       'meanExp', 'nExp', 'seExp'],\n",
      "      dtype='object')\n"
     ]
    },
    {
     "data": {
      "text/html": [
       "<div>\n",
       "<table border=\"1\" class=\"dataframe\">\n",
       "  <thead>\n",
       "    <tr style=\"text-align: right;\">\n",
       "      <th></th>\n",
       "      <th>playerShort</th>\n",
       "      <th>player</th>\n",
       "      <th>club</th>\n",
       "      <th>leagueCountry</th>\n",
       "      <th>birthday</th>\n",
       "      <th>height</th>\n",
       "      <th>weight</th>\n",
       "      <th>position</th>\n",
       "      <th>games</th>\n",
       "      <th>victories</th>\n",
       "      <th>...</th>\n",
       "      <th>rater2</th>\n",
       "      <th>refNum</th>\n",
       "      <th>refCountry</th>\n",
       "      <th>Alpha_3</th>\n",
       "      <th>meanIAT</th>\n",
       "      <th>nIAT</th>\n",
       "      <th>seIAT</th>\n",
       "      <th>meanExp</th>\n",
       "      <th>nExp</th>\n",
       "      <th>seExp</th>\n",
       "    </tr>\n",
       "  </thead>\n",
       "  <tbody>\n",
       "    <tr>\n",
       "      <th>0</th>\n",
       "      <td>lucas-wilchez</td>\n",
       "      <td>Lucas Wilchez</td>\n",
       "      <td>Real Zaragoza</td>\n",
       "      <td>Spain</td>\n",
       "      <td>31.08.1983</td>\n",
       "      <td>177.0</td>\n",
       "      <td>72.0</td>\n",
       "      <td>Attacking Midfielder</td>\n",
       "      <td>1</td>\n",
       "      <td>0</td>\n",
       "      <td>...</td>\n",
       "      <td>0.50</td>\n",
       "      <td>1</td>\n",
       "      <td>1</td>\n",
       "      <td>GRC</td>\n",
       "      <td>0.326391</td>\n",
       "      <td>712.0</td>\n",
       "      <td>0.000564</td>\n",
       "      <td>0.396000</td>\n",
       "      <td>750.0</td>\n",
       "      <td>0.002696</td>\n",
       "    </tr>\n",
       "    <tr>\n",
       "      <th>1</th>\n",
       "      <td>john-utaka</td>\n",
       "      <td>John Utaka</td>\n",
       "      <td>Montpellier HSC</td>\n",
       "      <td>France</td>\n",
       "      <td>08.01.1982</td>\n",
       "      <td>179.0</td>\n",
       "      <td>82.0</td>\n",
       "      <td>Right Winger</td>\n",
       "      <td>1</td>\n",
       "      <td>0</td>\n",
       "      <td>...</td>\n",
       "      <td>0.75</td>\n",
       "      <td>2</td>\n",
       "      <td>2</td>\n",
       "      <td>ZMB</td>\n",
       "      <td>0.203375</td>\n",
       "      <td>40.0</td>\n",
       "      <td>0.010875</td>\n",
       "      <td>-0.204082</td>\n",
       "      <td>49.0</td>\n",
       "      <td>0.061504</td>\n",
       "    </tr>\n",
       "    <tr>\n",
       "      <th>2</th>\n",
       "      <td>abdon-prats</td>\n",
       "      <td>Abdón Prats</td>\n",
       "      <td>RCD Mallorca</td>\n",
       "      <td>Spain</td>\n",
       "      <td>17.12.1992</td>\n",
       "      <td>181.0</td>\n",
       "      <td>79.0</td>\n",
       "      <td>NaN</td>\n",
       "      <td>1</td>\n",
       "      <td>0</td>\n",
       "      <td>...</td>\n",
       "      <td>NaN</td>\n",
       "      <td>3</td>\n",
       "      <td>3</td>\n",
       "      <td>ESP</td>\n",
       "      <td>0.369894</td>\n",
       "      <td>1785.0</td>\n",
       "      <td>0.000229</td>\n",
       "      <td>0.588297</td>\n",
       "      <td>1897.0</td>\n",
       "      <td>0.001002</td>\n",
       "    </tr>\n",
       "    <tr>\n",
       "      <th>3</th>\n",
       "      <td>pablo-mari</td>\n",
       "      <td>Pablo Marí</td>\n",
       "      <td>RCD Mallorca</td>\n",
       "      <td>Spain</td>\n",
       "      <td>31.08.1993</td>\n",
       "      <td>191.0</td>\n",
       "      <td>87.0</td>\n",
       "      <td>Center Back</td>\n",
       "      <td>1</td>\n",
       "      <td>1</td>\n",
       "      <td>...</td>\n",
       "      <td>NaN</td>\n",
       "      <td>3</td>\n",
       "      <td>3</td>\n",
       "      <td>ESP</td>\n",
       "      <td>0.369894</td>\n",
       "      <td>1785.0</td>\n",
       "      <td>0.000229</td>\n",
       "      <td>0.588297</td>\n",
       "      <td>1897.0</td>\n",
       "      <td>0.001002</td>\n",
       "    </tr>\n",
       "    <tr>\n",
       "      <th>4</th>\n",
       "      <td>ruben-pena</td>\n",
       "      <td>Rubén Peña</td>\n",
       "      <td>Real Valladolid</td>\n",
       "      <td>Spain</td>\n",
       "      <td>18.07.1991</td>\n",
       "      <td>172.0</td>\n",
       "      <td>70.0</td>\n",
       "      <td>Right Midfielder</td>\n",
       "      <td>1</td>\n",
       "      <td>1</td>\n",
       "      <td>...</td>\n",
       "      <td>NaN</td>\n",
       "      <td>3</td>\n",
       "      <td>3</td>\n",
       "      <td>ESP</td>\n",
       "      <td>0.369894</td>\n",
       "      <td>1785.0</td>\n",
       "      <td>0.000229</td>\n",
       "      <td>0.588297</td>\n",
       "      <td>1897.0</td>\n",
       "      <td>0.001002</td>\n",
       "    </tr>\n",
       "  </tbody>\n",
       "</table>\n",
       "<p>5 rows × 28 columns</p>\n",
       "</div>"
      ],
      "text/plain": [
       "     playerShort         player             club leagueCountry    birthday  \\\n",
       "0  lucas-wilchez  Lucas Wilchez    Real Zaragoza         Spain  31.08.1983   \n",
       "1     john-utaka     John Utaka  Montpellier HSC        France  08.01.1982   \n",
       "2    abdon-prats    Abdón Prats     RCD Mallorca         Spain  17.12.1992   \n",
       "3     pablo-mari     Pablo Marí     RCD Mallorca         Spain  31.08.1993   \n",
       "4     ruben-pena     Rubén Peña  Real Valladolid         Spain  18.07.1991   \n",
       "\n",
       "   height  weight              position  games  victories    ...     rater2  \\\n",
       "0   177.0    72.0  Attacking Midfielder      1          0    ...       0.50   \n",
       "1   179.0    82.0          Right Winger      1          0    ...       0.75   \n",
       "2   181.0    79.0                   NaN      1          0    ...        NaN   \n",
       "3   191.0    87.0           Center Back      1          1    ...        NaN   \n",
       "4   172.0    70.0      Right Midfielder      1          1    ...        NaN   \n",
       "\n",
       "   refNum  refCountry  Alpha_3   meanIAT    nIAT     seIAT   meanExp    nExp  \\\n",
       "0       1           1      GRC  0.326391   712.0  0.000564  0.396000   750.0   \n",
       "1       2           2      ZMB  0.203375    40.0  0.010875 -0.204082    49.0   \n",
       "2       3           3      ESP  0.369894  1785.0  0.000229  0.588297  1897.0   \n",
       "3       3           3      ESP  0.369894  1785.0  0.000229  0.588297  1897.0   \n",
       "4       3           3      ESP  0.369894  1785.0  0.000229  0.588297  1897.0   \n",
       "\n",
       "      seExp  \n",
       "0  0.002696  \n",
       "1  0.061504  \n",
       "2  0.001002  \n",
       "3  0.001002  \n",
       "4  0.001002  \n",
       "\n",
       "[5 rows x 28 columns]"
      ]
     },
     "execution_count": 2,
     "metadata": {},
     "output_type": "execute_result"
    }
   ],
   "source": [
    "#load data\n",
    "data = pd.read_csv('CrowdstormingDataJuly1st.csv')\n",
    "print(data.columns)\n",
    "data.head()"
   ]
  },
  {
   "cell_type": "markdown",
   "metadata": {},
   "source": [
    "## Pre-processing of the data"
   ]
  },
  {
   "cell_type": "markdown",
   "metadata": {},
   "source": [
    "Since some labels are missing, we will only consider the players with both ratings, for the training dataset. We will also see that there are no players with a single rating missing."
   ]
  },
  {
   "cell_type": "code",
   "execution_count": 3,
   "metadata": {
    "collapsed": true
   },
   "outputs": [],
   "source": [
    "missing_rater_data=data[data.rater2.isnull() & data.rater1.isnull()]\n",
    "rater_data=data[data.rater2.notnull() & data.rater1.notnull()]"
   ]
  },
  {
   "cell_type": "code",
   "execution_count": 4,
   "metadata": {
    "collapsed": false
   },
   "outputs": [
    {
     "name": "stdout",
     "output_type": "stream",
     "text": [
      "There are 0 player(s) with a single rating missing.\n",
      "Out of 146028 data entries, we will only consider 124621 of them, i.e. 85.34048264716355% of the entries, because of 21407 entries for which the skin color has not been rated.\n"
     ]
    }
   ],
   "source": [
    "data_one_rater2 = data[data.rater2.isnull() & ~data.rater1.isnull()]\n",
    "data_one_rater1 = data[data.rater1.isnull() & ~data.rater2.isnull()]\n",
    "print('There are '+str(len(data_one_rater2)+len(data_one_rater1))+\n",
    "      ' player(s) with a single rating missing.')\n",
    "print('Out of '+str(data.shape[0])+' data entries, we will only consider '+\n",
    "      str(rater_data.shape[0])+' of them, i.e. '+str(rater_data.shape[0]*\n",
    "                                                        100/data.shape[0])\n",
    "      +'% of the entries, because of '+str(missing_rater_data.shape[0])+\n",
    "      ' entries for which the skin color has not been rated.')"
   ]
  },
  {
   "cell_type": "markdown",
   "metadata": {},
   "source": [
    "## Data analysis\n",
    "### Preprocessing\n",
    "In this preprocessing step, we will:\n",
    "- Delete the column photoID\n",
    "- Delete all the rows corresponding to a referee with less than 22 entry (indeed, this is impossible to have a referee with less than 22 entries, that corresponds to the number of players in two teams, that is the minimum number of players necessary for one game). This is done in function preprocess_1\n",
    "- Remove the less significant referee entry, that is the entries with an nIAT and an nExp too low). This is done in function preprocess_2"
   ]
  },
  {
   "cell_type": "code",
   "execution_count": 5,
   "metadata": {
    "collapsed": true
   },
   "outputs": [],
   "source": [
    "def preprocess_1(database,remove_bad_referee=True,nIAT_threshold=50,nExp_threshold=50):\n",
    "    train=database.copy()\n",
    "    del train['photoID']\n",
    "    \n",
    "    train_group=train.groupby(train.refNum)\n",
    "    \n",
    "    if remove_bad_referee:\n",
    "        for i,group in train_group:\n",
    "            if group.shape[0]<22:\n",
    "                train=train.drop(train_group.get_group(i).index)\n",
    "            if i%500==0:\n",
    "                print(i)\n",
    "    \n",
    "   \n",
    "    return train"
   ]
  },
  {
   "cell_type": "code",
   "execution_count": 6,
   "metadata": {
    "collapsed": false
   },
   "outputs": [
    {
     "name": "stdout",
     "output_type": "stream",
     "text": [
      "500\n",
      "1000\n",
      "1500\n",
      "2000\n",
      "2500\n",
      "3000\n"
     ]
    }
   ],
   "source": [
    "train_after_prep_1=preprocess_1(rater_data,remove_bad_referee=True)"
   ]
  },
  {
   "cell_type": "code",
   "execution_count": 7,
   "metadata": {
    "collapsed": true
   },
   "outputs": [],
   "source": [
    "def preprocess_2(database,nIAT_threshold=50,nExp_threshold=50):\n",
    "    train=database.copy()\n",
    "    train_group=database.groupby(train.refNum)\n",
    "\n",
    "    for i,group in train_group:\n",
    "        if group.nIAT.iloc[0]<nIAT_threshold or group.nExp.iloc[0]<nExp_threshold:\n",
    "            train=train.drop(train_group.get_group(i).index)\n",
    "        if i%200==0:\n",
    "            print(i)\n",
    "    return train"
   ]
  },
  {
   "cell_type": "code",
   "execution_count": 8,
   "metadata": {
    "collapsed": false
   },
   "outputs": [
    {
     "name": "stdout",
     "output_type": "stream",
     "text": [
      "1600\n",
      "2400\n",
      "3000\n"
     ]
    }
   ],
   "source": [
    "train_after_prep_2=preprocess_2(train_after_prep_1)"
   ]
  },
  {
   "cell_type": "code",
   "execution_count": 9,
   "metadata": {
    "collapsed": false
   },
   "outputs": [
    {
     "name": "stdout",
     "output_type": "stream",
     "text": [
      "After the 2 preprocessing steps, 111533 of the entries remain, that is 89.49775719982989% of them.\n"
     ]
    }
   ],
   "source": [
    "print('After the 2 preprocessing steps, '+str(train_after_prep_2.shape[0])\n",
    "      +' of the entries remain, that is '+str(train_after_prep_2.shape[0]*100\n",
    "                                              /rater_data.shape[0])+'% of them.')"
   ]
  },
  {
   "cell_type": "markdown",
   "metadata": {},
   "source": [
    "We normalize the number of victories, ties, defeats, goals, yellowCards, redCards and yellowReds by the number of games done with each referee, for the data to be comparable. To do so, we just quickly check that no dyad (player,referee) has a total number of games played together of 0. And then we delete the 'games' column that is not important anymore. "
   ]
  },
  {
   "cell_type": "code",
   "execution_count": 10,
   "metadata": {
    "collapsed": false
   },
   "outputs": [
    {
     "name": "stdout",
     "output_type": "stream",
     "text": [
      "0 dyad (player,referee) have a null total number of games played together.\n"
     ]
    }
   ],
   "source": [
    "entries = ['victories','ties','defeats','goals','yellowCards','yellowReds','redCards']\n",
    "data_clean = pd.DataFrame()\n",
    "print(train_after_prep_2[train_after_prep_2['games']==0].shape[0], \n",
    "      'dyad (player,referee) have a null total number of games played together.')"
   ]
  },
  {
   "cell_type": "code",
   "execution_count": 11,
   "metadata": {
    "collapsed": false
   },
   "outputs": [
    {
     "data": {
      "text/html": [
       "<div>\n",
       "<table border=\"1\" class=\"dataframe\">\n",
       "  <thead>\n",
       "    <tr style=\"text-align: right;\">\n",
       "      <th></th>\n",
       "      <th>victories</th>\n",
       "      <th>ties</th>\n",
       "      <th>defeats</th>\n",
       "      <th>goals</th>\n",
       "      <th>yellowCards</th>\n",
       "      <th>yellowReds</th>\n",
       "      <th>redCards</th>\n",
       "      <th>games</th>\n",
       "    </tr>\n",
       "  </thead>\n",
       "  <tbody>\n",
       "    <tr>\n",
       "      <th>5</th>\n",
       "      <td>0.0</td>\n",
       "      <td>0.0</td>\n",
       "      <td>1.0</td>\n",
       "      <td>0.0</td>\n",
       "      <td>0.0</td>\n",
       "      <td>0.0</td>\n",
       "      <td>0.0</td>\n",
       "      <td>1</td>\n",
       "    </tr>\n",
       "    <tr>\n",
       "      <th>6</th>\n",
       "      <td>1.0</td>\n",
       "      <td>0.0</td>\n",
       "      <td>0.0</td>\n",
       "      <td>0.0</td>\n",
       "      <td>0.0</td>\n",
       "      <td>0.0</td>\n",
       "      <td>0.0</td>\n",
       "      <td>1</td>\n",
       "    </tr>\n",
       "    <tr>\n",
       "      <th>7</th>\n",
       "      <td>0.0</td>\n",
       "      <td>0.0</td>\n",
       "      <td>1.0</td>\n",
       "      <td>0.0</td>\n",
       "      <td>0.0</td>\n",
       "      <td>0.0</td>\n",
       "      <td>0.0</td>\n",
       "      <td>1</td>\n",
       "    </tr>\n",
       "    <tr>\n",
       "      <th>8</th>\n",
       "      <td>0.0</td>\n",
       "      <td>1.0</td>\n",
       "      <td>0.0</td>\n",
       "      <td>0.0</td>\n",
       "      <td>0.0</td>\n",
       "      <td>0.0</td>\n",
       "      <td>0.0</td>\n",
       "      <td>1</td>\n",
       "    </tr>\n",
       "    <tr>\n",
       "      <th>9</th>\n",
       "      <td>1.0</td>\n",
       "      <td>0.0</td>\n",
       "      <td>0.0</td>\n",
       "      <td>0.0</td>\n",
       "      <td>0.0</td>\n",
       "      <td>0.0</td>\n",
       "      <td>0.0</td>\n",
       "      <td>1</td>\n",
       "    </tr>\n",
       "    <tr>\n",
       "      <th>10</th>\n",
       "      <td>1.0</td>\n",
       "      <td>0.0</td>\n",
       "      <td>0.0</td>\n",
       "      <td>0.0</td>\n",
       "      <td>0.5</td>\n",
       "      <td>0.0</td>\n",
       "      <td>0.0</td>\n",
       "      <td>2</td>\n",
       "    </tr>\n",
       "    <tr>\n",
       "      <th>11</th>\n",
       "      <td>1.0</td>\n",
       "      <td>0.0</td>\n",
       "      <td>0.0</td>\n",
       "      <td>0.0</td>\n",
       "      <td>0.0</td>\n",
       "      <td>0.0</td>\n",
       "      <td>0.0</td>\n",
       "      <td>1</td>\n",
       "    </tr>\n",
       "    <tr>\n",
       "      <th>12</th>\n",
       "      <td>1.0</td>\n",
       "      <td>0.0</td>\n",
       "      <td>0.0</td>\n",
       "      <td>0.0</td>\n",
       "      <td>0.0</td>\n",
       "      <td>0.0</td>\n",
       "      <td>0.0</td>\n",
       "      <td>1</td>\n",
       "    </tr>\n",
       "    <tr>\n",
       "      <th>13</th>\n",
       "      <td>0.0</td>\n",
       "      <td>0.0</td>\n",
       "      <td>1.0</td>\n",
       "      <td>0.0</td>\n",
       "      <td>0.0</td>\n",
       "      <td>0.0</td>\n",
       "      <td>0.0</td>\n",
       "      <td>1</td>\n",
       "    </tr>\n",
       "    <tr>\n",
       "      <th>14</th>\n",
       "      <td>0.0</td>\n",
       "      <td>0.0</td>\n",
       "      <td>1.0</td>\n",
       "      <td>0.0</td>\n",
       "      <td>0.0</td>\n",
       "      <td>0.0</td>\n",
       "      <td>0.0</td>\n",
       "      <td>1</td>\n",
       "    </tr>\n",
       "  </tbody>\n",
       "</table>\n",
       "</div>"
      ],
      "text/plain": [
       "    victories  ties  defeats  goals  yellowCards  yellowReds  redCards  games\n",
       "5         0.0   0.0      1.0    0.0          0.0         0.0       0.0      1\n",
       "6         1.0   0.0      0.0    0.0          0.0         0.0       0.0      1\n",
       "7         0.0   0.0      1.0    0.0          0.0         0.0       0.0      1\n",
       "8         0.0   1.0      0.0    0.0          0.0         0.0       0.0      1\n",
       "9         1.0   0.0      0.0    0.0          0.0         0.0       0.0      1\n",
       "10        1.0   0.0      0.0    0.0          0.5         0.0       0.0      2\n",
       "11        1.0   0.0      0.0    0.0          0.0         0.0       0.0      1\n",
       "12        1.0   0.0      0.0    0.0          0.0         0.0       0.0      1\n",
       "13        0.0   0.0      1.0    0.0          0.0         0.0       0.0      1\n",
       "14        0.0   0.0      1.0    0.0          0.0         0.0       0.0      1"
      ]
     },
     "execution_count": 11,
     "metadata": {},
     "output_type": "execute_result"
    }
   ],
   "source": [
    "for ent in entries:\n",
    "    train_after_prep_2[ent] = train_after_prep_2[ent]/train_after_prep_2.games\n",
    "entries.append('games')\n",
    "train_after_prep_2[entries].head(10)"
   ]
  },
  {
   "cell_type": "code",
   "execution_count": 12,
   "metadata": {
    "collapsed": false
   },
   "outputs": [],
   "source": [
    "del train_after_prep_2['games']\n",
    "del train_after_prep_2['player']"
   ]
  },
  {
   "cell_type": "markdown",
   "metadata": {},
   "source": [
    "We have also deleted the 'player' column since it is in bijection with the playerShort name. We will now remove the nan values by filling NaN with median of the columns or with 'nan' if it is a categorical variable. "
   ]
  },
  {
   "cell_type": "code",
   "execution_count": 13,
   "metadata": {
    "collapsed": true
   },
   "outputs": [],
   "source": [
    "train = train_after_prep_2\n",
    "train.position=train.position.fillna('nan')"
   ]
  },
  {
   "cell_type": "code",
   "execution_count": 14,
   "metadata": {
    "collapsed": true
   },
   "outputs": [],
   "source": [
    "train.leagueCountry=train.leagueCountry.fillna('nan')"
   ]
  },
  {
   "cell_type": "code",
   "execution_count": 15,
   "metadata": {
    "collapsed": true
   },
   "outputs": [],
   "source": [
    "train=train.fillna(train.median())"
   ]
  },
  {
   "cell_type": "markdown",
   "metadata": {},
   "source": [
    "In this way, we should not have any nan value anymore now, so that if we are carefull enough, we should have to deal with NaNs anymore in the following."
   ]
  },
  {
   "cell_type": "code",
   "execution_count": 16,
   "metadata": {
    "collapsed": false
   },
   "outputs": [
    {
     "name": "stdout",
     "output_type": "stream",
     "text": [
      "0\n",
      "0\n"
     ]
    }
   ],
   "source": [
    "print(len(train[train.meanExp.isnull()]))\n",
    "print(len(train[train.meanIAT.isnull()]))"
   ]
  },
  {
   "cell_type": "code",
   "execution_count": 17,
   "metadata": {
    "collapsed": false
   },
   "outputs": [
    {
     "name": "stdout",
     "output_type": "stream",
     "text": [
      "There are 0 NaN value(s) left in our dataframe.\n"
     ]
    }
   ],
   "source": [
    "summ = 0\n",
    "for col in train.columns:\n",
    "    summ = summ+train[train[col].isnull()].shape[0]\n",
    "print('There are',summ, 'NaN value(s) left in our dataframe.')"
   ]
  },
  {
   "cell_type": "markdown",
   "metadata": {},
   "source": [
    "We keep only the year of birth (not the date), and we transorm it into an int."
   ]
  },
  {
   "cell_type": "code",
   "execution_count": 18,
   "metadata": {
    "collapsed": false
   },
   "outputs": [],
   "source": [
    "train.birthday=train.birthday.apply(lambda x: int(x.split('.')[2]))"
   ]
  },
  {
   "cell_type": "markdown",
   "metadata": {},
   "source": [
    "Now, we notice that the IAT and the Exp are here to identify how much can a referee be racist. In order to only keep information about the player itself, or the relation between the player and the referee, we choose to ponderate the yellowCards, redCards and yellowReds by the IAT and the Exp. This is indeed in the way to prepare the group_by player."
   ]
  },
  {
   "cell_type": "code",
   "execution_count": 19,
   "metadata": {
    "collapsed": false
   },
   "outputs": [],
   "source": [
    "train['IAT_yellow']=train.yellowCards*train.meanIAT\n",
    "train['IAT_red']=train.redCards*train.meanIAT\n",
    "train['Exp_yellow']=train.yellowCards*train.meanExp\n",
    "train['Exp_red']=train.redCards*train.meanExp\n",
    "train['ITA_yellowred']=train.yellowReds*train.meanIAT\n",
    "train['Exp_yellowred']=train.yellowReds*train.meanExp"
   ]
  },
  {
   "cell_type": "markdown",
   "metadata": {},
   "source": [
    "Now, we delete the unwanted and unnecessary columns, i.e. the ones that give information only on the referee."
   ]
  },
  {
   "cell_type": "code",
   "execution_count": 20,
   "metadata": {
    "collapsed": false
   },
   "outputs": [],
   "source": [
    "train = train.drop(['meanIAT','nIAT','seIAT','meanExp','nExp','seExp','refCountry',\n",
    "                    'refNum','Alpha_3'], axis=1)"
   ]
  },
  {
   "cell_type": "code",
   "execution_count": 21,
   "metadata": {
    "collapsed": false,
    "scrolled": true
   },
   "outputs": [
    {
     "data": {
      "text/html": [
       "<div>\n",
       "<table border=\"1\" class=\"dataframe\">\n",
       "  <thead>\n",
       "    <tr style=\"text-align: right;\">\n",
       "      <th></th>\n",
       "      <th>playerShort</th>\n",
       "      <th>club</th>\n",
       "      <th>leagueCountry</th>\n",
       "      <th>birthday</th>\n",
       "      <th>height</th>\n",
       "      <th>weight</th>\n",
       "      <th>position</th>\n",
       "      <th>victories</th>\n",
       "      <th>ties</th>\n",
       "      <th>defeats</th>\n",
       "      <th>...</th>\n",
       "      <th>yellowReds</th>\n",
       "      <th>redCards</th>\n",
       "      <th>rater1</th>\n",
       "      <th>rater2</th>\n",
       "      <th>IAT_yellow</th>\n",
       "      <th>IAT_red</th>\n",
       "      <th>Exp_yellow</th>\n",
       "      <th>Exp_red</th>\n",
       "      <th>ITA_yellowred</th>\n",
       "      <th>Exp_yellowred</th>\n",
       "    </tr>\n",
       "  </thead>\n",
       "  <tbody>\n",
       "    <tr>\n",
       "      <th>5</th>\n",
       "      <td>aaron-hughes</td>\n",
       "      <td>Fulham FC</td>\n",
       "      <td>England</td>\n",
       "      <td>1979</td>\n",
       "      <td>182.0</td>\n",
       "      <td>71.0</td>\n",
       "      <td>Center Back</td>\n",
       "      <td>0.0</td>\n",
       "      <td>0.0</td>\n",
       "      <td>1.0</td>\n",
       "      <td>...</td>\n",
       "      <td>0.0</td>\n",
       "      <td>0.0</td>\n",
       "      <td>0.25</td>\n",
       "      <td>0.00</td>\n",
       "      <td>0.0</td>\n",
       "      <td>0.0</td>\n",
       "      <td>0.0</td>\n",
       "      <td>0.0</td>\n",
       "      <td>0.0</td>\n",
       "      <td>0.0</td>\n",
       "    </tr>\n",
       "    <tr>\n",
       "      <th>6</th>\n",
       "      <td>aleksandar-kolarov</td>\n",
       "      <td>Manchester City</td>\n",
       "      <td>England</td>\n",
       "      <td>1985</td>\n",
       "      <td>187.0</td>\n",
       "      <td>80.0</td>\n",
       "      <td>Left Fullback</td>\n",
       "      <td>1.0</td>\n",
       "      <td>0.0</td>\n",
       "      <td>0.0</td>\n",
       "      <td>...</td>\n",
       "      <td>0.0</td>\n",
       "      <td>0.0</td>\n",
       "      <td>0.00</td>\n",
       "      <td>0.25</td>\n",
       "      <td>0.0</td>\n",
       "      <td>0.0</td>\n",
       "      <td>0.0</td>\n",
       "      <td>0.0</td>\n",
       "      <td>0.0</td>\n",
       "      <td>0.0</td>\n",
       "    </tr>\n",
       "    <tr>\n",
       "      <th>7</th>\n",
       "      <td>alexander-tettey</td>\n",
       "      <td>Norwich City</td>\n",
       "      <td>England</td>\n",
       "      <td>1986</td>\n",
       "      <td>180.0</td>\n",
       "      <td>68.0</td>\n",
       "      <td>Defensive Midfielder</td>\n",
       "      <td>0.0</td>\n",
       "      <td>0.0</td>\n",
       "      <td>1.0</td>\n",
       "      <td>...</td>\n",
       "      <td>0.0</td>\n",
       "      <td>0.0</td>\n",
       "      <td>1.00</td>\n",
       "      <td>1.00</td>\n",
       "      <td>0.0</td>\n",
       "      <td>0.0</td>\n",
       "      <td>0.0</td>\n",
       "      <td>0.0</td>\n",
       "      <td>0.0</td>\n",
       "      <td>0.0</td>\n",
       "    </tr>\n",
       "    <tr>\n",
       "      <th>8</th>\n",
       "      <td>anders-lindegaard</td>\n",
       "      <td>Manchester United</td>\n",
       "      <td>England</td>\n",
       "      <td>1984</td>\n",
       "      <td>193.0</td>\n",
       "      <td>80.0</td>\n",
       "      <td>Goalkeeper</td>\n",
       "      <td>0.0</td>\n",
       "      <td>1.0</td>\n",
       "      <td>0.0</td>\n",
       "      <td>...</td>\n",
       "      <td>0.0</td>\n",
       "      <td>0.0</td>\n",
       "      <td>0.25</td>\n",
       "      <td>0.25</td>\n",
       "      <td>0.0</td>\n",
       "      <td>0.0</td>\n",
       "      <td>0.0</td>\n",
       "      <td>0.0</td>\n",
       "      <td>0.0</td>\n",
       "      <td>0.0</td>\n",
       "    </tr>\n",
       "    <tr>\n",
       "      <th>9</th>\n",
       "      <td>andreas-beck</td>\n",
       "      <td>1899 Hoffenheim</td>\n",
       "      <td>Germany</td>\n",
       "      <td>1987</td>\n",
       "      <td>180.0</td>\n",
       "      <td>70.0</td>\n",
       "      <td>Right Fullback</td>\n",
       "      <td>1.0</td>\n",
       "      <td>0.0</td>\n",
       "      <td>0.0</td>\n",
       "      <td>...</td>\n",
       "      <td>0.0</td>\n",
       "      <td>0.0</td>\n",
       "      <td>0.00</td>\n",
       "      <td>0.00</td>\n",
       "      <td>0.0</td>\n",
       "      <td>0.0</td>\n",
       "      <td>0.0</td>\n",
       "      <td>0.0</td>\n",
       "      <td>0.0</td>\n",
       "      <td>0.0</td>\n",
       "    </tr>\n",
       "  </tbody>\n",
       "</table>\n",
       "<p>5 rows × 22 columns</p>\n",
       "</div>"
      ],
      "text/plain": [
       "          playerShort               club leagueCountry  birthday  height  \\\n",
       "5        aaron-hughes          Fulham FC       England      1979   182.0   \n",
       "6  aleksandar-kolarov    Manchester City       England      1985   187.0   \n",
       "7    alexander-tettey       Norwich City       England      1986   180.0   \n",
       "8   anders-lindegaard  Manchester United       England      1984   193.0   \n",
       "9        andreas-beck    1899 Hoffenheim       Germany      1987   180.0   \n",
       "\n",
       "   weight              position  victories  ties  defeats      ...        \\\n",
       "5    71.0           Center Back        0.0   0.0      1.0      ...         \n",
       "6    80.0         Left Fullback        1.0   0.0      0.0      ...         \n",
       "7    68.0  Defensive Midfielder        0.0   0.0      1.0      ...         \n",
       "8    80.0            Goalkeeper        0.0   1.0      0.0      ...         \n",
       "9    70.0        Right Fullback        1.0   0.0      0.0      ...         \n",
       "\n",
       "   yellowReds  redCards  rater1  rater2  IAT_yellow  IAT_red  Exp_yellow  \\\n",
       "5         0.0       0.0    0.25    0.00         0.0      0.0         0.0   \n",
       "6         0.0       0.0    0.00    0.25         0.0      0.0         0.0   \n",
       "7         0.0       0.0    1.00    1.00         0.0      0.0         0.0   \n",
       "8         0.0       0.0    0.25    0.25         0.0      0.0         0.0   \n",
       "9         0.0       0.0    0.00    0.00         0.0      0.0         0.0   \n",
       "\n",
       "   Exp_red  ITA_yellowred  Exp_yellowred  \n",
       "5      0.0            0.0            0.0  \n",
       "6      0.0            0.0            0.0  \n",
       "7      0.0            0.0            0.0  \n",
       "8      0.0            0.0            0.0  \n",
       "9      0.0            0.0            0.0  \n",
       "\n",
       "[5 rows x 22 columns]"
      ]
     },
     "execution_count": 21,
     "metadata": {},
     "output_type": "execute_result"
    }
   ],
   "source": [
    "train.head(5)"
   ]
  },
  {
   "cell_type": "code",
   "execution_count": 22,
   "metadata": {
    "collapsed": false
   },
   "outputs": [
    {
     "name": "stdout",
     "output_type": "stream",
     "text": [
      "There are  0 player(s) playing in two different positions.\n",
      "There are  0 player(s) playing in two different clubs.\n"
     ]
    }
   ],
   "source": [
    "short_data = train_after_prep_2[['playerShort','position']]\n",
    "print('There are ', len(short_data[short_data.columns[short_data.iloc[0] \n",
    "                                                      == short_data.iloc[1]]].columns),\n",
    "      'player(s) playing in two different positions.')\n",
    "short_data = train_after_prep_2[['playerShort','club']]\n",
    "print('There are ', len(short_data[short_data.columns[short_data.iloc[0] \n",
    "                                                      == short_data.iloc[1]]].columns),\n",
    "      'player(s) playing in two different clubs.')"
   ]
  },
  {
   "cell_type": "markdown",
   "metadata": {},
   "source": [
    "This last information is some good news! It means that when we will group the data by players, we will not have to take too much care of the 'position' field nor the 'club' field since the function mapping the player to its position is well defined."
   ]
  },
  {
   "cell_type": "markdown",
   "metadata": {},
   "source": [
    "Some more operations in the data are done in the following:\n",
    "\n",
    "- Add dummy variables for the categorical variables so that each cell has equal importance and there is no ordering issue between the categories.\n",
    "- Keep one entry for each player (group_by player)\n",
    "- Extract the mean of the rater1 and rater2 to get a new field skinColor and delete rater1 and rater2 columns"
   ]
  },
  {
   "cell_type": "code",
   "execution_count": 23,
   "metadata": {
    "collapsed": false
   },
   "outputs": [
    {
     "data": {
      "text/plain": [
       "Index(['playerShort', 'club', 'leagueCountry', 'birthday', 'height', 'weight',\n",
       "       'position', 'victories', 'ties', 'defeats', 'goals', 'yellowCards',\n",
       "       'yellowReds', 'redCards', 'rater1', 'rater2', 'IAT_yellow', 'IAT_red',\n",
       "       'Exp_yellow', 'Exp_red', 'ITA_yellowred', 'Exp_yellowred'],\n",
       "      dtype='object')"
      ]
     },
     "execution_count": 23,
     "metadata": {},
     "output_type": "execute_result"
    }
   ],
   "source": [
    "train.columns"
   ]
  },
  {
   "cell_type": "code",
   "execution_count": 24,
   "metadata": {
    "collapsed": false
   },
   "outputs": [],
   "source": [
    "dumm=pd.get_dummies(train[['position','leagueCountry','club']])"
   ]
  },
  {
   "cell_type": "code",
   "execution_count": 25,
   "metadata": {
    "collapsed": true
   },
   "outputs": [],
   "source": [
    "train=pd.concat([train,dumm],axis=1)"
   ]
  },
  {
   "cell_type": "code",
   "execution_count": 26,
   "metadata": {
    "collapsed": false
   },
   "outputs": [],
   "source": [
    "del train['leagueCountry']\n",
    "del train['position']\n",
    "del train['position_nan']"
   ]
  },
  {
   "cell_type": "code",
   "execution_count": 27,
   "metadata": {
    "collapsed": false
   },
   "outputs": [
    {
     "data": {
      "text/plain": [
       "Index(['playerShort', 'club', 'birthday', 'height', 'weight', 'victories',\n",
       "       'ties', 'defeats', 'goals', 'yellowCards',\n",
       "       ...\n",
       "       'club_Valencia CF', 'club_Valenciennes FC', 'club_VfB Stuttgart',\n",
       "       'club_VfL Wolfsburg', 'club_Werder Bremen', 'club_West Bromwich Albion',\n",
       "       'club_West Ham United', 'club_Wigan Athletic',\n",
       "       'club_Wolverhampton Wanderers', 'club_Évian Thonon Gaillard'],\n",
       "      dtype='object', length=132)"
      ]
     },
     "execution_count": 27,
     "metadata": {},
     "output_type": "execute_result"
    }
   ],
   "source": [
    "train.columns"
   ]
  },
  {
   "cell_type": "code",
   "execution_count": 28,
   "metadata": {
    "collapsed": false
   },
   "outputs": [],
   "source": [
    "train=train.groupby('playerShort').mean()"
   ]
  },
  {
   "cell_type": "code",
   "execution_count": 29,
   "metadata": {
    "collapsed": false
   },
   "outputs": [
    {
     "data": {
      "text/html": [
       "<div>\n",
       "<table border=\"1\" class=\"dataframe\">\n",
       "  <thead>\n",
       "    <tr style=\"text-align: right;\">\n",
       "      <th></th>\n",
       "      <th>birthday</th>\n",
       "      <th>height</th>\n",
       "      <th>weight</th>\n",
       "      <th>victories</th>\n",
       "      <th>ties</th>\n",
       "      <th>defeats</th>\n",
       "      <th>goals</th>\n",
       "      <th>yellowCards</th>\n",
       "      <th>yellowReds</th>\n",
       "      <th>redCards</th>\n",
       "      <th>...</th>\n",
       "      <th>club_Valencia CF</th>\n",
       "      <th>club_Valenciennes FC</th>\n",
       "      <th>club_VfB Stuttgart</th>\n",
       "      <th>club_VfL Wolfsburg</th>\n",
       "      <th>club_Werder Bremen</th>\n",
       "      <th>club_West Bromwich Albion</th>\n",
       "      <th>club_West Ham United</th>\n",
       "      <th>club_Wigan Athletic</th>\n",
       "      <th>club_Wolverhampton Wanderers</th>\n",
       "      <th>club_Évian Thonon Gaillard</th>\n",
       "    </tr>\n",
       "    <tr>\n",
       "      <th>playerShort</th>\n",
       "      <th></th>\n",
       "      <th></th>\n",
       "      <th></th>\n",
       "      <th></th>\n",
       "      <th></th>\n",
       "      <th></th>\n",
       "      <th></th>\n",
       "      <th></th>\n",
       "      <th></th>\n",
       "      <th></th>\n",
       "      <th></th>\n",
       "      <th></th>\n",
       "      <th></th>\n",
       "      <th></th>\n",
       "      <th></th>\n",
       "      <th></th>\n",
       "      <th></th>\n",
       "      <th></th>\n",
       "      <th></th>\n",
       "      <th></th>\n",
       "      <th></th>\n",
       "    </tr>\n",
       "  </thead>\n",
       "  <tbody>\n",
       "    <tr>\n",
       "      <th>aaron-hughes</th>\n",
       "      <td>1979</td>\n",
       "      <td>182.0</td>\n",
       "      <td>71.0</td>\n",
       "      <td>0.430823</td>\n",
       "      <td>0.251705</td>\n",
       "      <td>0.317472</td>\n",
       "      <td>0.012870</td>\n",
       "      <td>0.036590</td>\n",
       "      <td>0.000000</td>\n",
       "      <td>0.000000</td>\n",
       "      <td>...</td>\n",
       "      <td>0.0</td>\n",
       "      <td>0.0</td>\n",
       "      <td>0.0</td>\n",
       "      <td>0.0</td>\n",
       "      <td>0.0</td>\n",
       "      <td>0.0</td>\n",
       "      <td>0.0</td>\n",
       "      <td>0.0</td>\n",
       "      <td>0.0</td>\n",
       "      <td>0.0</td>\n",
       "    </tr>\n",
       "    <tr>\n",
       "      <th>aaron-hunt</th>\n",
       "      <td>1986</td>\n",
       "      <td>183.0</td>\n",
       "      <td>73.0</td>\n",
       "      <td>0.470884</td>\n",
       "      <td>0.207979</td>\n",
       "      <td>0.321136</td>\n",
       "      <td>0.132798</td>\n",
       "      <td>0.093665</td>\n",
       "      <td>0.000000</td>\n",
       "      <td>0.000818</td>\n",
       "      <td>...</td>\n",
       "      <td>0.0</td>\n",
       "      <td>0.0</td>\n",
       "      <td>0.0</td>\n",
       "      <td>0.0</td>\n",
       "      <td>1.0</td>\n",
       "      <td>0.0</td>\n",
       "      <td>0.0</td>\n",
       "      <td>0.0</td>\n",
       "      <td>0.0</td>\n",
       "      <td>0.0</td>\n",
       "    </tr>\n",
       "    <tr>\n",
       "      <th>aaron-lennon</th>\n",
       "      <td>1987</td>\n",
       "      <td>165.0</td>\n",
       "      <td>63.0</td>\n",
       "      <td>0.524169</td>\n",
       "      <td>0.231699</td>\n",
       "      <td>0.244132</td>\n",
       "      <td>0.048311</td>\n",
       "      <td>0.018085</td>\n",
       "      <td>0.000000</td>\n",
       "      <td>0.000000</td>\n",
       "      <td>...</td>\n",
       "      <td>0.0</td>\n",
       "      <td>0.0</td>\n",
       "      <td>0.0</td>\n",
       "      <td>0.0</td>\n",
       "      <td>0.0</td>\n",
       "      <td>0.0</td>\n",
       "      <td>0.0</td>\n",
       "      <td>0.0</td>\n",
       "      <td>0.0</td>\n",
       "      <td>0.0</td>\n",
       "    </tr>\n",
       "    <tr>\n",
       "      <th>aaron-ramsey</th>\n",
       "      <td>1990</td>\n",
       "      <td>178.0</td>\n",
       "      <td>76.0</td>\n",
       "      <td>0.554130</td>\n",
       "      <td>0.163463</td>\n",
       "      <td>0.282407</td>\n",
       "      <td>0.200943</td>\n",
       "      <td>0.128526</td>\n",
       "      <td>0.000000</td>\n",
       "      <td>0.010417</td>\n",
       "      <td>...</td>\n",
       "      <td>0.0</td>\n",
       "      <td>0.0</td>\n",
       "      <td>0.0</td>\n",
       "      <td>0.0</td>\n",
       "      <td>0.0</td>\n",
       "      <td>0.0</td>\n",
       "      <td>0.0</td>\n",
       "      <td>0.0</td>\n",
       "      <td>0.0</td>\n",
       "      <td>0.0</td>\n",
       "    </tr>\n",
       "    <tr>\n",
       "      <th>abdelhamid-el-kaoutari</th>\n",
       "      <td>1990</td>\n",
       "      <td>180.0</td>\n",
       "      <td>73.0</td>\n",
       "      <td>0.313798</td>\n",
       "      <td>0.293912</td>\n",
       "      <td>0.392290</td>\n",
       "      <td>0.004082</td>\n",
       "      <td>0.065748</td>\n",
       "      <td>0.043129</td>\n",
       "      <td>0.011429</td>\n",
       "      <td>...</td>\n",
       "      <td>0.0</td>\n",
       "      <td>0.0</td>\n",
       "      <td>0.0</td>\n",
       "      <td>0.0</td>\n",
       "      <td>0.0</td>\n",
       "      <td>0.0</td>\n",
       "      <td>0.0</td>\n",
       "      <td>0.0</td>\n",
       "      <td>0.0</td>\n",
       "      <td>0.0</td>\n",
       "    </tr>\n",
       "  </tbody>\n",
       "</table>\n",
       "<p>5 rows × 130 columns</p>\n",
       "</div>"
      ],
      "text/plain": [
       "                        birthday  height  weight  victories      ties  \\\n",
       "playerShort                                                             \n",
       "aaron-hughes                1979   182.0    71.0   0.430823  0.251705   \n",
       "aaron-hunt                  1986   183.0    73.0   0.470884  0.207979   \n",
       "aaron-lennon                1987   165.0    63.0   0.524169  0.231699   \n",
       "aaron-ramsey                1990   178.0    76.0   0.554130  0.163463   \n",
       "abdelhamid-el-kaoutari      1990   180.0    73.0   0.313798  0.293912   \n",
       "\n",
       "                         defeats     goals  yellowCards  yellowReds  redCards  \\\n",
       "playerShort                                                                     \n",
       "aaron-hughes            0.317472  0.012870     0.036590    0.000000  0.000000   \n",
       "aaron-hunt              0.321136  0.132798     0.093665    0.000000  0.000818   \n",
       "aaron-lennon            0.244132  0.048311     0.018085    0.000000  0.000000   \n",
       "aaron-ramsey            0.282407  0.200943     0.128526    0.000000  0.010417   \n",
       "abdelhamid-el-kaoutari  0.392290  0.004082     0.065748    0.043129  0.011429   \n",
       "\n",
       "                                   ...              club_Valencia CF  \\\n",
       "playerShort                        ...                                 \n",
       "aaron-hughes                       ...                           0.0   \n",
       "aaron-hunt                         ...                           0.0   \n",
       "aaron-lennon                       ...                           0.0   \n",
       "aaron-ramsey                       ...                           0.0   \n",
       "abdelhamid-el-kaoutari             ...                           0.0   \n",
       "\n",
       "                        club_Valenciennes FC  club_VfB Stuttgart  \\\n",
       "playerShort                                                        \n",
       "aaron-hughes                             0.0                 0.0   \n",
       "aaron-hunt                               0.0                 0.0   \n",
       "aaron-lennon                             0.0                 0.0   \n",
       "aaron-ramsey                             0.0                 0.0   \n",
       "abdelhamid-el-kaoutari                   0.0                 0.0   \n",
       "\n",
       "                        club_VfL Wolfsburg  club_Werder Bremen  \\\n",
       "playerShort                                                      \n",
       "aaron-hughes                           0.0                 0.0   \n",
       "aaron-hunt                             0.0                 1.0   \n",
       "aaron-lennon                           0.0                 0.0   \n",
       "aaron-ramsey                           0.0                 0.0   \n",
       "abdelhamid-el-kaoutari                 0.0                 0.0   \n",
       "\n",
       "                        club_West Bromwich Albion  club_West Ham United  \\\n",
       "playerShort                                                               \n",
       "aaron-hughes                                  0.0                   0.0   \n",
       "aaron-hunt                                    0.0                   0.0   \n",
       "aaron-lennon                                  0.0                   0.0   \n",
       "aaron-ramsey                                  0.0                   0.0   \n",
       "abdelhamid-el-kaoutari                        0.0                   0.0   \n",
       "\n",
       "                        club_Wigan Athletic  club_Wolverhampton Wanderers  \\\n",
       "playerShort                                                                 \n",
       "aaron-hughes                            0.0                           0.0   \n",
       "aaron-hunt                              0.0                           0.0   \n",
       "aaron-lennon                            0.0                           0.0   \n",
       "aaron-ramsey                            0.0                           0.0   \n",
       "abdelhamid-el-kaoutari                  0.0                           0.0   \n",
       "\n",
       "                        club_Évian Thonon Gaillard  \n",
       "playerShort                                         \n",
       "aaron-hughes                                   0.0  \n",
       "aaron-hunt                                     0.0  \n",
       "aaron-lennon                                   0.0  \n",
       "aaron-ramsey                                   0.0  \n",
       "abdelhamid-el-kaoutari                         0.0  \n",
       "\n",
       "[5 rows x 130 columns]"
      ]
     },
     "execution_count": 29,
     "metadata": {},
     "output_type": "execute_result"
    }
   ],
   "source": [
    "train.head()"
   ]
  },
  {
   "cell_type": "code",
   "execution_count": 39,
   "metadata": {
    "collapsed": false
   },
   "outputs": [],
   "source": [
    "for col in train.columns:\n",
    "    train[col] = (train[col]-train[col].min())/train[col].max()"
   ]
  },
  {
   "cell_type": "code",
   "execution_count": 42,
   "metadata": {
    "collapsed": false
   },
   "outputs": [],
   "source": [
    "train['skinColor']=(train['rater1']+train['rater2'])/2\n",
    "del train['rater1']\n",
    "del train['rater2']"
   ]
  },
  {
   "cell_type": "code",
   "execution_count": 44,
   "metadata": {
    "collapsed": false
   },
   "outputs": [
    {
     "data": {
      "text/html": [
       "<div>\n",
       "<table border=\"1\" class=\"dataframe\">\n",
       "  <thead>\n",
       "    <tr style=\"text-align: right;\">\n",
       "      <th></th>\n",
       "      <th>birthday</th>\n",
       "      <th>height</th>\n",
       "      <th>weight</th>\n",
       "      <th>victories</th>\n",
       "      <th>ties</th>\n",
       "      <th>defeats</th>\n",
       "      <th>goals</th>\n",
       "      <th>yellowCards</th>\n",
       "      <th>yellowReds</th>\n",
       "      <th>redCards</th>\n",
       "      <th>...</th>\n",
       "      <th>club_Valenciennes FC</th>\n",
       "      <th>club_VfB Stuttgart</th>\n",
       "      <th>club_VfL Wolfsburg</th>\n",
       "      <th>club_Werder Bremen</th>\n",
       "      <th>club_West Bromwich Albion</th>\n",
       "      <th>club_West Ham United</th>\n",
       "      <th>club_Wigan Athletic</th>\n",
       "      <th>club_Wolverhampton Wanderers</th>\n",
       "      <th>club_Évian Thonon Gaillard</th>\n",
       "      <th>skinColor</th>\n",
       "    </tr>\n",
       "    <tr>\n",
       "      <th>playerShort</th>\n",
       "      <th></th>\n",
       "      <th></th>\n",
       "      <th></th>\n",
       "      <th></th>\n",
       "      <th></th>\n",
       "      <th></th>\n",
       "      <th></th>\n",
       "      <th></th>\n",
       "      <th></th>\n",
       "      <th></th>\n",
       "      <th></th>\n",
       "      <th></th>\n",
       "      <th></th>\n",
       "      <th></th>\n",
       "      <th></th>\n",
       "      <th></th>\n",
       "      <th></th>\n",
       "      <th></th>\n",
       "      <th></th>\n",
       "      <th></th>\n",
       "      <th></th>\n",
       "    </tr>\n",
       "  </thead>\n",
       "  <tbody>\n",
       "    <tr>\n",
       "      <th>aaron-hughes</th>\n",
       "      <td>0.004008</td>\n",
       "      <td>0.103448</td>\n",
       "      <td>0.17</td>\n",
       "      <td>0.430823</td>\n",
       "      <td>0.251705</td>\n",
       "      <td>0.317472</td>\n",
       "      <td>0.017891</td>\n",
       "      <td>0.036590</td>\n",
       "      <td>0.000000</td>\n",
       "      <td>0.000000</td>\n",
       "      <td>...</td>\n",
       "      <td>0.0</td>\n",
       "      <td>0.0</td>\n",
       "      <td>0.0</td>\n",
       "      <td>0.0</td>\n",
       "      <td>0.0</td>\n",
       "      <td>0.0</td>\n",
       "      <td>0.0</td>\n",
       "      <td>0.0</td>\n",
       "      <td>0.0</td>\n",
       "      <td>0.125</td>\n",
       "    </tr>\n",
       "    <tr>\n",
       "      <th>aaron-hunt</th>\n",
       "      <td>0.007515</td>\n",
       "      <td>0.108374</td>\n",
       "      <td>0.19</td>\n",
       "      <td>0.470884</td>\n",
       "      <td>0.207979</td>\n",
       "      <td>0.321136</td>\n",
       "      <td>0.184604</td>\n",
       "      <td>0.093665</td>\n",
       "      <td>0.000000</td>\n",
       "      <td>0.004910</td>\n",
       "      <td>...</td>\n",
       "      <td>0.0</td>\n",
       "      <td>0.0</td>\n",
       "      <td>0.0</td>\n",
       "      <td>1.0</td>\n",
       "      <td>0.0</td>\n",
       "      <td>0.0</td>\n",
       "      <td>0.0</td>\n",
       "      <td>0.0</td>\n",
       "      <td>0.0</td>\n",
       "      <td>0.125</td>\n",
       "    </tr>\n",
       "    <tr>\n",
       "      <th>aaron-lennon</th>\n",
       "      <td>0.008016</td>\n",
       "      <td>0.019704</td>\n",
       "      <td>0.09</td>\n",
       "      <td>0.524169</td>\n",
       "      <td>0.231699</td>\n",
       "      <td>0.244132</td>\n",
       "      <td>0.067158</td>\n",
       "      <td>0.018085</td>\n",
       "      <td>0.000000</td>\n",
       "      <td>0.000000</td>\n",
       "      <td>...</td>\n",
       "      <td>0.0</td>\n",
       "      <td>0.0</td>\n",
       "      <td>0.0</td>\n",
       "      <td>0.0</td>\n",
       "      <td>0.0</td>\n",
       "      <td>0.0</td>\n",
       "      <td>0.0</td>\n",
       "      <td>0.0</td>\n",
       "      <td>0.0</td>\n",
       "      <td>0.250</td>\n",
       "    </tr>\n",
       "    <tr>\n",
       "      <th>aaron-ramsey</th>\n",
       "      <td>0.009519</td>\n",
       "      <td>0.083744</td>\n",
       "      <td>0.22</td>\n",
       "      <td>0.554130</td>\n",
       "      <td>0.163463</td>\n",
       "      <td>0.282407</td>\n",
       "      <td>0.279333</td>\n",
       "      <td>0.128526</td>\n",
       "      <td>0.000000</td>\n",
       "      <td>0.062500</td>\n",
       "      <td>...</td>\n",
       "      <td>0.0</td>\n",
       "      <td>0.0</td>\n",
       "      <td>0.0</td>\n",
       "      <td>0.0</td>\n",
       "      <td>0.0</td>\n",
       "      <td>0.0</td>\n",
       "      <td>0.0</td>\n",
       "      <td>0.0</td>\n",
       "      <td>0.0</td>\n",
       "      <td>0.000</td>\n",
       "    </tr>\n",
       "    <tr>\n",
       "      <th>abdelhamid-el-kaoutari</th>\n",
       "      <td>0.009519</td>\n",
       "      <td>0.093596</td>\n",
       "      <td>0.19</td>\n",
       "      <td>0.313798</td>\n",
       "      <td>0.293912</td>\n",
       "      <td>0.392290</td>\n",
       "      <td>0.005674</td>\n",
       "      <td>0.065748</td>\n",
       "      <td>0.646939</td>\n",
       "      <td>0.068571</td>\n",
       "      <td>...</td>\n",
       "      <td>0.0</td>\n",
       "      <td>0.0</td>\n",
       "      <td>0.0</td>\n",
       "      <td>0.0</td>\n",
       "      <td>0.0</td>\n",
       "      <td>0.0</td>\n",
       "      <td>0.0</td>\n",
       "      <td>0.0</td>\n",
       "      <td>0.0</td>\n",
       "      <td>0.250</td>\n",
       "    </tr>\n",
       "  </tbody>\n",
       "</table>\n",
       "<p>5 rows × 129 columns</p>\n",
       "</div>"
      ],
      "text/plain": [
       "                        birthday    height  weight  victories      ties  \\\n",
       "playerShort                                                               \n",
       "aaron-hughes            0.004008  0.103448    0.17   0.430823  0.251705   \n",
       "aaron-hunt              0.007515  0.108374    0.19   0.470884  0.207979   \n",
       "aaron-lennon            0.008016  0.019704    0.09   0.524169  0.231699   \n",
       "aaron-ramsey            0.009519  0.083744    0.22   0.554130  0.163463   \n",
       "abdelhamid-el-kaoutari  0.009519  0.093596    0.19   0.313798  0.293912   \n",
       "\n",
       "                         defeats     goals  yellowCards  yellowReds  redCards  \\\n",
       "playerShort                                                                     \n",
       "aaron-hughes            0.317472  0.017891     0.036590    0.000000  0.000000   \n",
       "aaron-hunt              0.321136  0.184604     0.093665    0.000000  0.004910   \n",
       "aaron-lennon            0.244132  0.067158     0.018085    0.000000  0.000000   \n",
       "aaron-ramsey            0.282407  0.279333     0.128526    0.000000  0.062500   \n",
       "abdelhamid-el-kaoutari  0.392290  0.005674     0.065748    0.646939  0.068571   \n",
       "\n",
       "                          ...      club_Valenciennes FC  club_VfB Stuttgart  \\\n",
       "playerShort               ...                                                 \n",
       "aaron-hughes              ...                       0.0                 0.0   \n",
       "aaron-hunt                ...                       0.0                 0.0   \n",
       "aaron-lennon              ...                       0.0                 0.0   \n",
       "aaron-ramsey              ...                       0.0                 0.0   \n",
       "abdelhamid-el-kaoutari    ...                       0.0                 0.0   \n",
       "\n",
       "                        club_VfL Wolfsburg  club_Werder Bremen  \\\n",
       "playerShort                                                      \n",
       "aaron-hughes                           0.0                 0.0   \n",
       "aaron-hunt                             0.0                 1.0   \n",
       "aaron-lennon                           0.0                 0.0   \n",
       "aaron-ramsey                           0.0                 0.0   \n",
       "abdelhamid-el-kaoutari                 0.0                 0.0   \n",
       "\n",
       "                        club_West Bromwich Albion  club_West Ham United  \\\n",
       "playerShort                                                               \n",
       "aaron-hughes                                  0.0                   0.0   \n",
       "aaron-hunt                                    0.0                   0.0   \n",
       "aaron-lennon                                  0.0                   0.0   \n",
       "aaron-ramsey                                  0.0                   0.0   \n",
       "abdelhamid-el-kaoutari                        0.0                   0.0   \n",
       "\n",
       "                        club_Wigan Athletic  club_Wolverhampton Wanderers  \\\n",
       "playerShort                                                                 \n",
       "aaron-hughes                            0.0                           0.0   \n",
       "aaron-hunt                              0.0                           0.0   \n",
       "aaron-lennon                            0.0                           0.0   \n",
       "aaron-ramsey                            0.0                           0.0   \n",
       "abdelhamid-el-kaoutari                  0.0                           0.0   \n",
       "\n",
       "                        club_Évian Thonon Gaillard  skinColor  \n",
       "playerShort                                                    \n",
       "aaron-hughes                                   0.0      0.125  \n",
       "aaron-hunt                                     0.0      0.125  \n",
       "aaron-lennon                                   0.0      0.250  \n",
       "aaron-ramsey                                   0.0      0.000  \n",
       "abdelhamid-el-kaoutari                         0.0      0.250  \n",
       "\n",
       "[5 rows x 129 columns]"
      ]
     },
     "execution_count": 44,
     "metadata": {},
     "output_type": "execute_result"
    }
   ],
   "source": [
    "train.head()"
   ]
  },
  {
   "cell_type": "markdown",
   "metadata": {},
   "source": [
    "## Question 2: clustering\n",
    "Choices to be done:\n",
    "* Choice of the algorithm: KMeans (with this one, we can choose the final number of clusters we want) or DBSCAN (we have to impose a metric, but it is not suited for our goal since we cannot impose the number of clusters we want to find).\n",
    "* Choice of 'init' paratmeter of KMeans\n",
    "* Choice of the features to iterately remove, and in which order (in particular, with or without the rater's means)\n",
    "* Sample size of the silhouette score\n",
    "\n",
    "TODO: \n",
    "* Cross-validation (K-fold)\n",
    "* Last test set"
   ]
  },
  {
   "cell_type": "code",
   "execution_count": 45,
   "metadata": {
    "collapsed": false
   },
   "outputs": [],
   "source": [
    "from sklearn.cross_validation import train_test_split\n",
    "from sklearn import metrics\n",
    "from sklearn.cluster import KMeans\n",
    "from sklearn.cluster import DBSCAN\n",
    "from time import time"
   ]
  },
  {
   "cell_type": "code",
   "execution_count": null,
   "metadata": {
    "collapsed": false
   },
   "outputs": [],
   "source": [
    "train.columns"
   ]
  },
  {
   "cell_type": "code",
   "execution_count": 47,
   "metadata": {
    "collapsed": false
   },
   "outputs": [],
   "source": [
    "labels = 1*(train.skinColor>0.5)"
   ]
  },
  {
   "cell_type": "code",
   "execution_count": 48,
   "metadata": {
    "collapsed": true
   },
   "outputs": [],
   "source": [
    "def estimate_data(estimator, metric, name, data):\n",
    "    t0 = time()\n",
    "    estimator.fit(data)\n",
    "    silh_score = metrics.silhouette_score(data, estimator.labels_, metric=metric)\n",
    "    print('% 9s   %.2fs    %.3f'\n",
    "         % (name, (time() - t0), silh_score))\n",
    "    return silh_score"
   ]
  },
  {
   "cell_type": "code",
   "execution_count": 49,
   "metadata": {
    "collapsed": false
   },
   "outputs": [
    {
     "name": "stdout",
     "output_type": "stream",
     "text": [
      "k-means++ euclidean      0.56s    0.109\n",
      "k-means rand euclidean   0.50s    0.109\n"
     ]
    },
    {
     "data": {
      "text/plain": [
       "0.10883511729879253"
      ]
     },
     "execution_count": 49,
     "metadata": {},
     "output_type": "execute_result"
    }
   ],
   "source": [
    "metric_silhouette = 'euclidean'\n",
    "kmpp = KMeans(init='k-means++', n_clusters=2)\n",
    "km_rand = KMeans(init='random', n_clusters=2)\n",
    "\n",
    "estimate_data(kmpp,metric_silhouette,'k-means++ euclidean   ',train)\n",
    "estimate_data(km_rand,metric_silhouette,'k-means rand euclidean',train)"
   ]
  },
  {
   "cell_type": "markdown",
   "metadata": {},
   "source": [
    "We first collect the column labels and then class them by increasing order of importance, in order to be able to take them out of the analysis one by one."
   ]
  },
  {
   "cell_type": "code",
   "execution_count": 50,
   "metadata": {
    "collapsed": false
   },
   "outputs": [
    {
     "data": {
      "text/plain": [
       "Index(['birthday', 'height', 'weight', 'victories', 'ties', 'defeats', 'goals',\n",
       "       'yellowCards', 'yellowReds', 'redCards',\n",
       "       ...\n",
       "       'club_Valenciennes FC', 'club_VfB Stuttgart', 'club_VfL Wolfsburg',\n",
       "       'club_Werder Bremen', 'club_West Bromwich Albion',\n",
       "       'club_West Ham United', 'club_Wigan Athletic',\n",
       "       'club_Wolverhampton Wanderers', 'club_Évian Thonon Gaillard',\n",
       "       'skinColor'],\n",
       "      dtype='object', length=129)"
      ]
     },
     "execution_count": 50,
     "metadata": {},
     "output_type": "execute_result"
    }
   ],
   "source": [
    "col_idx = train.columns\n",
    "col_idx"
   ]
  },
  {
   "cell_type": "code",
   "execution_count": 51,
   "metadata": {
    "collapsed": true
   },
   "outputs": [],
   "source": [
    "cols = ['birthday', 'height', 'weight', \n",
    "        'leagueCountry_Germany', 'leagueCountry_Spain',\n",
    "        'leagueCountry_England', 'leagueCountry_France',\n",
    "        'IAT_yellow', 'IAT_red', 'Exp_yellow', 'Exp_red', 'skinColor']"
   ]
  },
  {
   "cell_type": "code",
   "execution_count": 52,
   "metadata": {
    "collapsed": false
   },
   "outputs": [
    {
     "name": "stdout",
     "output_type": "stream",
     "text": [
      "k-means++ euclidean     0.52s    0.109\n",
      "k-means++ euclidean     0.46s    0.109\n",
      "k-means++ euclidean     0.47s    0.109\n",
      "k-means++ euclidean     0.46s    0.109\n",
      "k-means++ euclidean     0.45s    0.110\n",
      "k-means++ euclidean     0.44s    0.110\n",
      "k-means++ euclidean     0.57s    0.110\n",
      "k-means++ euclidean     0.44s    0.111\n",
      "k-means++ euclidean     0.46s    0.111\n",
      "k-means++ euclidean     0.49s    0.112\n",
      "k-means++ euclidean     0.44s    0.112\n",
      "k-means++ euclidean     0.44s    0.113\n",
      "k-means++ euclidean     0.44s    0.113\n",
      "k-means++ euclidean     0.44s    0.113\n",
      "k-means++ euclidean     0.47s    0.113\n",
      "k-means++ euclidean     0.45s    0.114\n",
      "k-means++ euclidean     0.45s    0.115\n",
      "k-means++ euclidean     0.44s    0.118\n",
      "k-means++ euclidean     0.43s    0.125\n",
      "k-means++ euclidean     0.46s    0.131\n",
      "k-means++ euclidean     0.55s    0.133\n",
      "k-means++ euclidean     0.49s    0.140\n",
      "k-means++ euclidean     0.43s    0.146\n",
      "k-means++ euclidean     0.44s    0.151\n",
      "k-means++ euclidean     0.45s    0.155\n",
      "k-means++ euclidean     0.45s    0.158\n",
      "k-means++ euclidean     0.50s    0.163\n",
      "k-means++ euclidean     0.43s    0.166\n",
      "k-means++ euclidean     0.44s    0.170\n",
      "k-means++ euclidean     0.42s    0.172\n",
      "k-means++ euclidean     0.43s    0.182\n",
      "k-means++ euclidean     0.46s    0.190\n",
      "k-means++ euclidean     0.51s    0.081\n",
      "k-means++ euclidean     0.44s    0.083\n",
      "k-means++ euclidean     0.47s    0.086\n",
      "k-means++ euclidean     0.43s    0.088\n",
      "k-means++ euclidean     0.43s    0.087\n",
      "k-means++ euclidean     0.44s    0.088\n",
      "k-means++ euclidean     0.43s    0.089\n",
      "k-means++ euclidean     0.43s    0.090\n",
      "k-means++ euclidean     0.57s    0.090\n",
      "k-means++ euclidean     0.52s    0.091\n",
      "k-means++ euclidean     0.43s    0.095\n",
      "k-means++ euclidean     0.44s    0.099\n",
      "k-means++ euclidean     0.44s    0.103\n",
      "k-means++ euclidean     0.44s    0.106\n",
      "k-means++ euclidean     0.44s    0.105\n",
      "k-means++ euclidean     0.44s    0.106\n",
      "k-means++ euclidean     0.43s    0.110\n",
      "k-means++ euclidean     0.48s    0.117\n",
      "k-means++ euclidean     0.49s    0.117\n",
      "k-means++ euclidean     0.49s    0.120\n",
      "k-means++ euclidean     0.49s    0.120\n",
      "k-means++ euclidean     0.44s    0.124\n",
      "k-means++ euclidean     0.55s    0.126\n",
      "k-means++ euclidean     0.49s    0.126\n",
      "k-means++ euclidean     0.45s    0.132\n",
      "k-means++ euclidean     0.43s    0.133\n",
      "k-means++ euclidean     0.52s    0.139\n",
      "k-means++ euclidean     0.43s    0.144\n",
      "k-means++ euclidean     0.42s    0.147\n",
      "k-means++ euclidean     0.48s    0.153\n",
      "k-means++ euclidean     0.50s    0.159\n",
      "k-means++ euclidean     0.43s    0.160\n",
      "k-means++ euclidean     0.44s    0.167\n",
      "k-means++ euclidean     0.44s    0.167\n",
      "k-means++ euclidean     0.42s    0.175\n",
      "k-means++ euclidean     0.42s    0.181\n",
      "k-means++ euclidean     0.42s    0.189\n",
      "k-means++ euclidean     0.42s    0.188\n",
      "k-means++ euclidean     0.42s    0.193\n",
      "k-means++ euclidean     0.42s    0.203\n",
      "k-means++ euclidean     0.42s    0.212\n",
      "k-means++ euclidean     0.42s    0.212\n",
      "k-means++ euclidean     0.42s    0.212\n",
      "k-means++ euclidean     0.41s    0.216\n",
      "k-means++ euclidean     0.45s    0.276\n",
      "k-means++ euclidean     0.47s    0.220\n",
      "k-means++ euclidean     0.42s    0.232\n",
      "k-means++ euclidean     0.46s    0.232\n",
      "k-means++ euclidean     0.54s    0.233\n",
      "k-means++ euclidean     0.53s    0.239\n",
      "k-means++ euclidean     0.43s    0.248\n",
      "k-means++ euclidean     0.43s    0.248\n",
      "k-means++ euclidean     0.41s    0.256\n",
      "k-means++ euclidean     0.46s    0.262\n",
      "k-means++ euclidean     0.45s    0.349\n",
      "k-means++ euclidean     0.43s    0.275\n",
      "k-means++ euclidean     0.52s    0.275\n",
      "k-means++ euclidean     0.44s    0.278\n",
      "k-means++ euclidean     0.42s    0.284\n",
      "k-means++ euclidean     0.45s    0.290\n",
      "k-means++ euclidean     0.44s    0.301\n",
      "k-means++ euclidean     0.42s    0.308\n",
      "k-means++ euclidean     0.41s    0.318\n",
      "k-means++ euclidean     0.41s    0.329\n",
      "k-means++ euclidean     0.42s    0.335\n",
      "k-means++ euclidean     0.41s    0.344\n",
      "k-means++ euclidean     0.42s    0.345\n",
      "k-means++ euclidean     0.42s    0.359\n",
      "k-means++ euclidean     0.41s    0.360\n",
      "k-means++ euclidean     0.42s    0.374\n",
      "k-means++ euclidean     0.41s    0.386\n",
      "k-means++ euclidean     0.42s    0.403\n",
      "k-means++ euclidean     0.41s    0.407\n",
      "k-means++ euclidean     0.41s    0.425\n",
      "k-means++ euclidean     0.41s    0.425\n",
      "k-means++ euclidean     0.40s    0.443\n",
      "k-means++ euclidean     0.41s    0.446\n",
      "k-means++ euclidean     0.41s    0.466\n",
      "k-means++ euclidean     0.41s    0.471\n",
      "k-means++ euclidean     0.48s    0.474\n",
      "k-means++ euclidean     0.45s    0.482\n",
      "k-means++ euclidean     0.41s    0.497\n",
      "k-means++ euclidean     0.40s    0.508\n",
      "k-means++ euclidean     0.40s    0.524\n",
      "k-means++ euclidean     0.40s    0.526\n",
      "k-means++ euclidean     0.40s    0.529\n",
      "k-means++ euclidean     0.42s    0.529\n",
      "k-means++ euclidean     0.42s    0.552\n",
      "k-means++ euclidean     0.42s    0.564\n",
      "k-means++ euclidean     0.41s    0.589\n",
      "k-means++ euclidean     0.41s    0.624\n",
      "k-means++ euclidean     0.40s    0.656\n",
      "k-means++ euclidean     0.42s    0.674\n",
      "k-means++ euclidean     0.40s    0.692\n",
      "k-means++ euclidean     0.41s    0.707\n",
      "k-means++ euclidean     0.49s    0.707\n",
      "k-means++ euclidean     0.56s    0.718\n"
     ]
    }
   ],
   "source": [
    "scores = []\n",
    "for i in range(0,len(col_idx)):\n",
    "    scores.append(\n",
    "        estimate_data(kmpp,metric_silhouette,'k-means++ euclidean  ',train[col_idx[i:]]))"
   ]
  },
  {
   "cell_type": "code",
   "execution_count": 53,
   "metadata": {
    "collapsed": false
   },
   "outputs": [],
   "source": [
    "import matplotlib.pyplot as plt\n",
    "%matplotlib inline"
   ]
  },
  {
   "cell_type": "code",
   "execution_count": 54,
   "metadata": {
    "collapsed": false
   },
   "outputs": [
    {
     "data": {
      "text/plain": [
       "<matplotlib.text.Text at 0x7f1595409e48>"
      ]
     },
     "execution_count": 54,
     "metadata": {},
     "output_type": "execute_result"
    },
    {
     "data": {
      "image/png": "[encoded data removed]",
      "text/plain": [
       "<matplotlib.figure.Figure at 0x7f15953d98d0>"
      ]
     },
     "metadata": {},
     "output_type": "display_data"
    }
   ],
   "source": [
    "plt.plot(range(0,len(col_idx)), scores)\n",
    "plt.xlabel('Tial #')\n",
    "plt.ylabel('Testing Accuracy')"
   ]
  },
  {
   "cell_type": "code",
   "execution_count": null,
   "metadata": {
    "collapsed": true
   },
   "outputs": [],
   "source": []
  }
 ],
 "metadata": {
  "anaconda-cloud": {},
  "kernelspec": {
   "display_name": "Python [Root]",
   "language": "python",
   "name": "Python [Root]"
  },
  "language_info": {
   "codemirror_mode": {
    "name": "ipython",
    "version": 3
   },
   "file_extension": ".py",
   "mimetype": "text/x-python",
   "name": "python",
   "nbconvert_exporter": "python",
   "pygments_lexer": "ipython3",
   "version": "3.5.2"
  }
 },
 "nbformat": 4,
 "nbformat_minor": 0
}
