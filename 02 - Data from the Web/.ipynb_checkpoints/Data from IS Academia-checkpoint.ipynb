{
 "cells": [
  {
   "cell_type": "code",
   "execution_count": 1,
   "metadata": {
    "collapsed": true
   },
   "outputs": [],
   "source": [
    "# import the needed modules\n",
    "from bs4 import BeautifulSoup as bs\n",
    "import pandas as pd\n",
    "import requests as req\n",
    "import numpy as np"
   ]
  },
  {
   "cell_type": "code",
   "execution_count": 9,
   "metadata": {
    "collapsed": false
   },
   "outputs": [],
   "source": [
    "#request with Requests library, using Postman interceptor - empty IS-Academia form\n",
    "base_url = 'http://isa.epfl.ch/imoniteur_ISAP/!GEDPUBLICREPORTS.filter?ww_i_reportModel=133685247'\n",
    "r = req.get(base_url)"
   ]
  },
  {
   "cell_type": "code",
   "execution_count": 3,
   "metadata": {
    "collapsed": true
   },
   "outputs": [],
   "source": [
    "# define BeautifulSoup object to parse the html doc\n",
    "soup = bs(r.text,'lxml')"
   ]
  },
  {
   "cell_type": "markdown",
   "metadata": {},
   "source": [
    "# Parsing the HMTL form"
   ]
  },
  {
   "cell_type": "markdown",
   "metadata": {},
   "source": [
    "In the following the parameters section, academic year, academic cycle and season are parsed, so that each variable is linked to its corresponding numeric code through a dictionary. Thereafter, the parameters names are obtained as the IS_Academia form accepts them."
   ]
  },
  {
   "cell_type": "code",
   "execution_count": 4,
   "metadata": {
    "collapsed": false
   },
   "outputs": [
    {
     "data": {
      "text/plain": [
       "{'Informatique': '249847'}"
      ]
     },
     "execution_count": 4,
     "metadata": {},
     "output_type": "execute_result"
    }
   ],
   "source": [
    "# parse the section Informatique\n",
    "section = {'Informatique' : soup.find('option',string='Informatique')['value']}\n",
    "section"
   ]
  },
  {
   "cell_type": "code",
   "execution_count": 5,
   "metadata": {
    "collapsed": false
   },
   "outputs": [
    {
     "data": {
      "text/plain": [
       "{'2007-2008': '978181',\n",
       " '2008-2009': '978187',\n",
       " '2009-2010': '978195',\n",
       " '2010-2011': '39486325',\n",
       " '2011-2012': '123455150',\n",
       " '2012-2013': '123456101',\n",
       " '2013-2014': '213637754',\n",
       " '2014-2015': '213637922',\n",
       " '2015-2016': '213638028',\n",
       " '2016-2017': '355925344'}"
      ]
     },
     "execution_count": 5,
     "metadata": {},
     "output_type": "execute_result"
    }
   ],
   "source": [
    "# parse the academic year - loop over the years and find the code corresponding to the year string\n",
    "academic_year = {}\n",
    "for year in range(2007,2017):\n",
    "    period = str(year)+'-'+str(year+1)\n",
    "    academic_year[period] = soup.find('option', string = period)['value']\n",
    "academic_year"
   ]
  },
  {
   "cell_type": "code",
   "execution_count": 6,
   "metadata": {
    "collapsed": false
   },
   "outputs": [
    {
     "data": {
      "text/plain": [
       "{'Bachelor semestre 1': '249108',\n",
       " 'Bachelor semestre 2': '249114',\n",
       " 'Bachelor semestre 3': '942155',\n",
       " 'Bachelor semestre 4': '942163',\n",
       " 'Bachelor semestre 5': '942120',\n",
       " 'Bachelor semestre 6': '942175',\n",
       " 'Master semestre 1': '2230106',\n",
       " 'Master semestre 2': '942192',\n",
       " 'Master semestre 3': '2230128',\n",
       " 'Master semestre 4': '2230140'}"
      ]
     },
     "execution_count": 6,
     "metadata": {},
     "output_type": "execute_result"
    }
   ],
   "source": [
    "# parse the academic cycle - define the sought cycles and look for the corresponding codes, as above\n",
    "bachelor = []\n",
    "master = []\n",
    "for j in range(1,7):\n",
    "    bachelor.append('Bachelor semestre '+str(j))\n",
    "for j in range(1,5):\n",
    "    master.append('Master semestre '+str(j))\n",
    "bachelor_master = bachelor+master\n",
    "\n",
    "academic_cycle = {}\n",
    "for cycle in bachelor_master:\n",
    "    academic_cycle[cycle] = soup.find('option', string = cycle)['value']\n",
    "academic_cycle"
   ]
  },
  {
   "cell_type": "code",
   "execution_count": 7,
   "metadata": {
    "collapsed": false
   },
   "outputs": [
    {
     "data": {
      "text/plain": [
       "{\"Semestre d'automne\": '2936286', 'Semestre de printemps': '2936295'}"
      ]
     },
     "execution_count": 7,
     "metadata": {},
     "output_type": "execute_result"
    }
   ],
   "source": [
    "# parse the academic season - same procedure as above\n",
    "season = {}\n",
    "season[\"Semestre d'automne\"]=soup.find('option', string = \"Semestre d'automne\")['value']\n",
    "season['Semestre de printemps']=soup.find('option', string = 'Semestre de printemps')['value']\n",
    "season"
   ]
  },
  {
   "cell_type": "code",
   "execution_count": 8,
   "metadata": {
    "collapsed": false
   },
   "outputs": [
    {
     "data": {
      "text/plain": [
       "['ww_x_UNITE_ACAD',\n",
       " 'ww_x_PERIODE_ACAD',\n",
       " 'ww_x_PERIODE_PEDAGO',\n",
       " 'ww_x_HIVERETE']"
      ]
     },
     "execution_count": 8,
     "metadata": {},
     "output_type": "execute_result"
    }
   ],
   "source": [
    "# get the variables' names to fill in the IS-Academia form\n",
    "variables = []\n",
    "args = soup.find_all('select')\n",
    "for var in args:\n",
    "    variables.append(var['name'])\n",
    "variables"
   ]
  },
  {
   "cell_type": "markdown",
   "metadata": {},
   "source": [
    "# Extraction of the tables"
   ]
  },
  {
   "cell_type": "markdown",
   "metadata": {},
   "source": [
    "Let us now proceed to the extraction of the html tables from IS-Academia. The previous dictionaries are used to pass the correct parameters to send the request. The crucial information to be retrieved is the parameter 'ww_x_GPS', which identifies the table to be downloaded."
   ]
  },
  {
   "cell_type": "code",
   "execution_count": 106,
   "metadata": {
    "collapsed": false
   },
   "outputs": [],
   "source": [
    "# define a general dictionary to perform the search\n",
    "research_keys = {}\n",
    "research_keys[variables[0]] = section['Informatique']\n",
    "research_keys[variables[1]] = academic_year['2013-2014']\n",
    "research_keys[variables[2]] = academic_cycle['Bachelor semestre 3']\n",
    "research_keys['ww_b_list'] = 1 # variable to get the tables through the GPS parameter\n",
    "r0 = req.get(base_url, params = research_keys)\n",
    "s0 = bs(r0.text,'lxml')"
   ]
  },
  {
   "cell_type": "code",
   "execution_count": 114,
   "metadata": {
    "collapsed": false
   },
   "outputs": [],
   "source": [
    "# function to detect the GPS code of the table\n",
    "# strong assumption of the string's structure!\n",
    "def captureGPS(string):\n",
    "    letter = 0\n",
    "    while(string[letter]!='='):\n",
    "        letter=letter+1 #advance up to the =\n",
    "    letter = letter+1 # reach the first number of the GPS code\n",
    "    GPS = string[letter]\n",
    "    letter = letter+1\n",
    "    while (string[letter]!=\"'\"):\n",
    "        GPS = GPS+string[letter]\n",
    "        letter = letter+1\n",
    "    return GPS"
   ]
  }
 ],
 "metadata": {
  "anaconda-cloud": {},
  "kernelspec": {
   "display_name": "Python [Root]",
   "language": "python",
   "name": "Python [Root]"
  },
  "language_info": {
   "codemirror_mode": {
    "name": "ipython",
    "version": 3
   },
   "file_extension": ".py",
   "mimetype": "text/x-python",
   "name": "python",
   "nbconvert_exporter": "python",
   "pygments_lexer": "ipython3",
   "version": "3.5.2"
  }
 },
 "nbformat": 4,
 "nbformat_minor": 0
}
