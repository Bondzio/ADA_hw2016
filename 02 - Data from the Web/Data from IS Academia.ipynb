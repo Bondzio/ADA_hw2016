{
 "cells": [
  {
   "cell_type": "code",
   "execution_count": 169,
   "metadata": {
    "collapsed": true
   },
   "outputs": [],
   "source": [
    "# import the needed modules\n",
    "from bs4 import BeautifulSoup as bs\n",
    "import pandas as pd\n",
    "import requests as req\n",
    "import numpy as np"
   ]
  },
  {
   "cell_type": "code",
   "execution_count": 170,
   "metadata": {
    "collapsed": false
   },
   "outputs": [],
   "source": [
    "#request with Requests library, using Postman interceptor - empty IS-Academia form\n",
    "r = req.get('http://isa.epfl.ch/imoniteur_ISAP/!GEDPUBLICREPORTS.filter?ww_i_reportModel=133685247')"
   ]
  },
  {
   "cell_type": "code",
   "execution_count": 171,
   "metadata": {
    "collapsed": true
   },
   "outputs": [],
   "source": [
    "# define BeautifulSoup object to parse the html doc\n",
    "soup = bs(r.text,'lxml')"
   ]
  },
  {
   "cell_type": "markdown",
   "metadata": {},
   "source": [
    "# Parsing the HMTL form"
   ]
  },
  {
   "cell_type": "markdown",
   "metadata": {},
   "source": [
    "In the following the parameters section, academic year, academic cycle and season are parsed, so that each variable is linked to its corresponding numeric code through a dictionary. Thereafter, the parameters names are obtained as the IS_Academia form accepts them."
   ]
  },
  {
   "cell_type": "code",
   "execution_count": 184,
   "metadata": {
    "collapsed": false
   },
   "outputs": [
    {
     "data": {
      "text/plain": [
       "{'Informatique': '249847'}"
      ]
     },
     "execution_count": 184,
     "metadata": {},
     "output_type": "execute_result"
    }
   ],
   "source": [
    "# parse the section Informatique\n",
    "section = {'Informatique' : soup.find('option',string='Informatique')['value']}\n",
    "section"
   ]
  },
  {
   "cell_type": "code",
   "execution_count": 185,
   "metadata": {
    "collapsed": false
   },
   "outputs": [
    {
     "data": {
      "text/plain": [
       "{'2007-2008': '978181',\n",
       " '2008-2009': '978187',\n",
       " '2009-2010': '978195',\n",
       " '2010-2011': '39486325',\n",
       " '2011-2012': '123455150',\n",
       " '2012-2013': '123456101',\n",
       " '2013-2014': '213637754',\n",
       " '2014-2015': '213637922',\n",
       " '2015-2016': '213638028',\n",
       " '2016-2017': '355925344'}"
      ]
     },
     "execution_count": 185,
     "metadata": {},
     "output_type": "execute_result"
    }
   ],
   "source": [
    "# parse the academic year - loop over the years and find the code corresponding to the year string\n",
    "academic_year = {}\n",
    "for year in range(2007,2017):\n",
    "    period = str(year)+'-'+str(year+1)\n",
    "    academic_year[period] = soup.find('option', string = period)['value']\n",
    "academic_year"
   ]
  },
  {
   "cell_type": "code",
   "execution_count": 186,
   "metadata": {
    "collapsed": false
   },
   "outputs": [
    {
     "data": {
      "text/plain": [
       "{'Bachelor semestre 1': '249108',\n",
       " 'Bachelor semestre 2': '249114',\n",
       " 'Bachelor semestre 3': '942155',\n",
       " 'Bachelor semestre 4': '942163',\n",
       " 'Bachelor semestre 5': '942120',\n",
       " 'Bachelor semestre 6': '942175',\n",
       " 'Master semestre 1': '2230106',\n",
       " 'Master semestre 2': '942192',\n",
       " 'Master semestre 3': '2230128',\n",
       " 'Master semestre 4': '2230140'}"
      ]
     },
     "execution_count": 186,
     "metadata": {},
     "output_type": "execute_result"
    }
   ],
   "source": [
    "# parse the academic cycle - define the sought cycles and look for the corresponding codes, as above\n",
    "bachelor = []\n",
    "master = []\n",
    "for j in range(1,7):\n",
    "    bachelor.append('Bachelor semestre '+str(j))\n",
    "for j in range(1,5):\n",
    "    master.append('Master semestre '+str(j))\n",
    "bachelor_master = bachelor+master\n",
    "\n",
    "academic_cycle = {}\n",
    "for cycle in bachelor_master:\n",
    "    academic_cycle[cycle] = soup.find('option', string = cycle)['value']\n",
    "academic_cycle"
   ]
  },
  {
   "cell_type": "code",
   "execution_count": 187,
   "metadata": {
    "collapsed": false
   },
   "outputs": [
    {
     "data": {
      "text/plain": [
       "{\"Semestre d'automne\": '2936286', 'Semestre de printemps': '2936295'}"
      ]
     },
     "execution_count": 187,
     "metadata": {},
     "output_type": "execute_result"
    }
   ],
   "source": [
    "# parse the academic season - same procedure as above\n",
    "season = {}\n",
    "season[\"Semestre d'automne\"]=soup.find('option', string = \"Semestre d'automne\")['value']\n",
    "season['Semestre de printemps']=soup.find('option', string = 'Semestre de printemps')['value']\n",
    "season"
   ]
  },
  {
   "cell_type": "code",
   "execution_count": 188,
   "metadata": {
    "collapsed": false
   },
   "outputs": [
    {
     "data": {
      "text/plain": [
       "['ww_x_UNITE_ACAD',\n",
       " 'ww_x_PERIODE_ACAD',\n",
       " 'ww_x_PERIODE_PEDAGO',\n",
       " 'ww_x_HIVERETE']"
      ]
     },
     "execution_count": 188,
     "metadata": {},
     "output_type": "execute_result"
    }
   ],
   "source": [
    "# get the variables' names to fill in the IS-Academia form\n",
    "variables = []\n",
    "args = soup.find_all('select')\n",
    "for var in args:\n",
    "    variables.append(var['name'])\n",
    "variables"
   ]
  }
 ],
 "metadata": {
  "anaconda-cloud": {},
  "kernelspec": {
   "display_name": "Python [Root]",
   "language": "python",
   "name": "Python [Root]"
  },
  "language_info": {
   "codemirror_mode": {
    "name": "ipython",
    "version": 3
   },
   "file_extension": ".py",
   "mimetype": "text/x-python",
   "name": "python",
   "nbconvert_exporter": "python",
   "pygments_lexer": "ipython3",
   "version": "3.5.2"
  }
 },
 "nbformat": 4,
 "nbformat_minor": 0
}
