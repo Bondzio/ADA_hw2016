{
 "cells": [
  {
   "cell_type": "markdown",
   "metadata": {},
   "source": [
    "# Homework 2"
   ]
  },
  {
   "cell_type": "code",
   "execution_count": 1,
   "metadata": {
    "collapsed": false
   },
   "outputs": [],
   "source": [
    "import numpy as np\n",
    "import pandas as pd\n",
    "import html5lib\n",
    "\n",
    "import requests\n",
    "from bs4 import BeautifulSoup"
   ]
  },
  {
   "cell_type": "markdown",
   "metadata": {},
   "source": [
    "## Paramethers for requests:\n",
    "    1- ww_x_UNITE_ACAD - Section (Informatique?)  =  249847\n",
    "    2- ww_x_PERIODE_ACAD - Semester wanted        =  978181\n",
    "    3- ww_i_reportModel - General parameter =  133685247"
   ]
  },
  {
   "cell_type": "code",
   "execution_count": 2,
   "metadata": {
    "collapsed": true
   },
   "outputs": [],
   "source": [
    "unite_academique=249847\n",
    "periode_academique=[978181, 978187,978195,39486325,123455150,213637754,213637922,213638028,355925344]\n",
    "report_model=133685247\n",
    "\n"
   ]
  },
  {
   "cell_type": "code",
   "execution_count": 3,
   "metadata": {
    "collapsed": false
   },
   "outputs": [],
   "source": [
    "parameters={'ww_i_reportModel':'133685247','ww_i_reportModelXsl':'133685270','ww_x_UNITE_ACAD':'249847'}"
   ]
  },
  {
   "cell_type": "code",
   "execution_count": 4,
   "metadata": {
    "collapsed": true
   },
   "outputs": [],
   "source": [
    "base_all_gps='http://isa.epfl.ch/imoniteur_ISAP/!GEDPUBLICREPORTS.filter?ww_b_list=1&ww_i_reportmodel=133685247&ww_c_langue=&ww_i_reportModelXsl=133685270&zz_x_UNITE_ACAD=Informatique'"
   ]
  },
  {
   "cell_type": "code",
   "execution_count": 5,
   "metadata": {
    "collapsed": false,
    "scrolled": true
   },
   "outputs": [],
   "source": [
    "informatique = {'ww_x_UNITE_ACAD': '249847'}\n",
    "r = requests.get(base_all_gps,params=informatique)"
   ]
  },
  {
   "cell_type": "code",
   "execution_count": 6,
   "metadata": {
    "collapsed": false,
    "scrolled": true
   },
   "outputs": [
    {
     "data": {
      "text/plain": [
       "'<html><head><META http-equiv=\"Content-Type\" content=\"text/html; charset=iso-8859-1\"><div></div><title></title><script type=\"text/javascript\" src=\"GEDPUBLICREPORTS.txt?ww_x_path=Gestac.Base.Palette_js&amp;ww_c_langue=fr\"></script><link rel=\"stylesheet\" type=\"text/css\" href=\"GEDPUBLICREPORTS.css?ww_x_path=Gestac.Moniteur.Style\"><link rel=\"stylesheet\" type=\"text/css\" href=\"GEDPUBLICREPORTS.css?ww_x_path=Gestac.Moniteur.StyleNavigator\"></head><body bgcolor=\"#ffffff\" marginheight=\"0\" marginwidth=\"5\" link=\"#666666\" vlink=\"#666666\" alink=\"#666666\"><div class=\"filtres\"><form method=\"GET\" name=\"f\" action=\"!GEDPUBLICREPORTS.filter\"><input type=\"hidden\" name=\"ww_b_list\" value=\"1\"><input type=\"hidden\" name=\"ww_i_reportmodel\" value=\"133685247\"><input type=\"hidden\" name=\"ww_c_langue\" value=\"\"><h1 id=\"titre\">Liste des étudiants inscrits par semestre</h1><table border=\"0\" id=\"format\"><tr><th>Format:</th></tr><tr><td><input type=\"radio\" name=\"ww_i_reportModelXsl\" value=\"133685270\" checked>html</td></tr><tr><td><input type=\"radio\" name=\"ww_i_reportModelXsl\" value=\"133685271\">xls</td></tr></table><h1></h1><table border=\"0\" id=\"filtre\"><tr><th>Unité académique</th><td><input type=\"hidden\" name=\"zz_x_UNITE_ACAD\" value=\"\"><select name=\"ww_x_UNITE_ACAD\" onchange=\"document.f.zz_x_UNITE_ACAD.value=document.f.ww_x_UNITE_ACAD.options[document.f.ww_x_UNITE_ACAD.selectedIndex].text\"><option value=\"null\"></option><option value=\"942293\">Architecture</option><option value=\"246696\">Chimie et génie chimique</option><option value=\"943282\">Cours de mathématiques spéciales</option><option value=\"637841336\">EME (EPFL Middle East)</option><option value=\"942623\">Génie civil</option><option value=\"944263\">Génie mécanique</option><option value=\"943936\">Génie électrique et électronique </option><option value=\"2054839157\">Humanités digitales</option><option value=\"249847\" selected>Informatique</option><option value=\"120623110\">Ingénierie financière</option><option value=\"946882\">Management de la technologie</option><option value=\"944590\">Mathématiques</option><option value=\"945244\">Microtechnique</option><option value=\"945571\">Physique</option><option value=\"944917\">Science et génie des matériaux</option><option value=\"942953\">Sciences et ingénierie de l\\'environnement</option><option value=\"945901\">Sciences et technologies du vivant</option><option value=\"1574548993\">Section FCUE</option><option value=\"946228\">Systèmes de communication</option></select></td></tr><tr><th>Période académique</th><td><input type=\"hidden\" name=\"zz_x_PERIODE_ACAD\" value=\"\"><select name=\"ww_x_PERIODE_ACAD\" onchange=\"document.f.zz_x_PERIODE_ACAD.value=document.f.ww_x_PERIODE_ACAD.options[document.f.ww_x_PERIODE_ACAD.selectedIndex].text\"><option value=\"null\"></option><option value=\"355925344\">2016-2017</option><option value=\"213638028\">2015-2016</option><option value=\"213637922\">2014-2015</option><option value=\"213637754\">2013-2014</option><option value=\"123456101\">2012-2013</option><option value=\"123455150\">2011-2012</option><option value=\"39486325\">2010-2011</option><option value=\"978195\">2009-2010</option><option value=\"978187\">2008-2009</option><option value=\"978181\">2007-2008</option></select></td></tr><tr><th>Période pédagogique</th><td><input type=\"hidden\" name=\"zz_x_PERIODE_PEDAGO\" value=\"\"><select name=\"ww_x_PERIODE_PEDAGO\" onchange=\"document.f.zz_x_PERIODE_PEDAGO.value=document.f.ww_x_PERIODE_PEDAGO.options[document.f.ww_x_PERIODE_PEDAGO.selectedIndex].text\"><option value=\"null\"></option><option value=\"249108\">Bachelor semestre 1</option><option value=\"249114\">Bachelor semestre 2</option><option value=\"942155\">Bachelor semestre 3</option><option value=\"942163\">Bachelor semestre 4</option><option value=\"942120\">Bachelor semestre 5</option><option value=\"2226768\">Bachelor semestre 5b</option><option value=\"942175\">Bachelor semestre 6</option><option value=\"2226785\">Bachelor semestre 6b</option><option value=\"2230106\">Master semestre 1</option><option value=\"942192\">Master semestre 2</option><option value=\"2230128\">Master semestre 3</option><option value=\"2230140\">Master semestre 4</option><option value=\"2335667\">Mineur semestre 1</option><option value=\"2335676\">Mineur semestre 2</option><option value=\"2063602308\">Mise à niveau</option><option value=\"249127\">Projet Master automne</option><option value=\"3781783\">Projet Master printemps</option><option value=\"953159\">Semestre automne</option><option value=\"2754553\">Semestre printemps</option><option value=\"953137\">Stage automne 3ème année</option><option value=\"2226616\">Stage automne 4ème année</option><option value=\"983606\">Stage printemps 3ème année</option><option value=\"2226626\">Stage printemps 4ème année</option><option value=\"2227132\">Stage printemps master</option></select></td></tr><tr><th>Type de semestre</th><td><input type=\"hidden\" name=\"zz_x_HIVERETE\" value=\"\"><select name=\"ww_x_HIVERETE\" onchange=\"document.f.zz_x_HIVERETE.value=document.f.ww_x_HIVERETE.options[document.f.ww_x_HIVERETE.selectedIndex].text\"><option value=\"null\"></option><option value=\"2936286\">Semestre d\\'automne</option><option value=\"2936295\">Semestre de printemps</option></select></td></tr></table><input type=\"submit\" name=\"dummy\" value=\"ok\"></form><script type=\"text/javascript\">\\n   function loadReport(x) {\\n    var querysup=\\'\\';\\n    writeRunning(top.principal);\\n    for (i=0; document.f.elements.length > i; i++){\\n     if (document.f.elements[i].checked){\\n      querysup=querysup+\\'&\\'+document.f.elements[i].name+\\'=\\'+document.f.elements[i].value;\\n     }\\n     if (document.f.elements[i].type==\\'select-one\\') {\\n      querysup=querysup+\\'&\\'+document.f.elements[i].name+\\'=\\'+document.f.elements[i].options[document.f.elements[i].selectedIndex].value;\\n     }\\n     if (document.f.elements[i].type==\\'text\\'){\\n      querysup=querysup+\\'&\\'+document.f.elements[i].name+\\'=\\'+document.f.elements[i].value;\\n     }\\n    }\\n    parent.principal.location = \"!GEDPUBLICREPORTS.bhtml?\"+x+\"&ww_i_reportModel=133685247\"+querysup;\\n    if (navigator.userAgent.toUpperCase().indexOf(\\'SAFARI\\') != -1) {\\n     document.location.reload();\\n    }\\n   }\\n  </script><h1></h1><table border=\"0\"><tr><td><a class=\"ww_x_GPS\" href=\"javascript:void(0)\" onclick=\"loadReport(\\'ww_x_GPS=-1\\');return false;\">Tous</a></td></tr><tr><td><a class=\"ww_x_GPS\" href=\"javascript:void(0)\" onclick=\"loadReport(\\'ww_x_GPS=24065660\\');return false;\">Echange IN, 2005-2006, Semestre automne</a></td></tr><tr><td><a class=\"ww_x_GPS\" href=\"javascript:void(0)\" onclick=\"loadReport(\\'ww_x_GPS=24065672\\');return false;\">Echange IN, 2005-2006, Semestre printemps</a></td></tr><tr><td><a class=\"ww_x_GPS\" href=\"javascript:void(0)\" onclick=\"loadReport(\\'ww_x_GPS=39467937\\');return false;\">Echange IN, 2006-2007, Semestre automne</a></td></tr><tr><td><a class=\"ww_x_GPS\" href=\"javascript:void(0)\" onclick=\"loadReport(\\'ww_x_GPS=39467957\\');return false;\">Echange IN, 2006-2007, Semestre printemps</a></td></tr><tr><td><a class=\"ww_x_GPS\" href=\"javascript:void(0)\" onclick=\"loadReport(\\'ww_x_GPS=71454914\\');return false;\">Echange IN, 2007-2008, Semestre automne</a></td></tr><tr><td><a class=\"ww_x_GPS\" href=\"javascript:void(0)\" onclick=\"loadReport(\\'ww_x_GPS=71454935\\');return false;\">Echange IN, 2007-2008, Semestre printemps</a></td></tr><tr><td><a class=\"ww_x_GPS\" href=\"javascript:void(0)\" onclick=\"loadReport(\\'ww_x_GPS=117663512\\');return false;\">Echange IN, 2008-2009, Semestre automne</a></td></tr><tr><td><a class=\"ww_x_GPS\" href=\"javascript:void(0)\" onclick=\"loadReport(\\'ww_x_GPS=117663545\\');return false;\">Echange IN, 2008-2009, Semestre printemps</a></td></tr><tr><td><a class=\"ww_x_GPS\" href=\"javascript:void(0)\" onclick=\"loadReport(\\'ww_x_GPS=230302571\\');return false;\">Echange IN, 2009-2010, Semestre automne</a></td></tr><tr><td><a class=\"ww_x_GPS\" href=\"javascript:void(0)\" onclick=\"loadReport(\\'ww_x_GPS=230302592\\');return false;\">Echange IN, 2009-2010, Semestre printemps</a></td></tr><tr><td><a class=\"ww_x_GPS\" href=\"javascript:void(0)\" onclick=\"loadReport(\\'ww_x_GPS=357706512\\');return false;\">Echange IN, 2010-2011, Semestre automne</a></td></tr><tr><td><a class=\"ww_x_GPS\" href=\"javascript:void(0)\" onclick=\"loadReport(\\'ww_x_GPS=357706534\\');return false;\">Echange IN, 2010-2011, Semestre printemps</a></td></tr><tr><td><a class=\"ww_x_GPS\" href=\"javascript:void(0)\" onclick=\"loadReport(\\'ww_x_GPS=736316291\\');return false;\">Echange IN, 2011-2012, Semestre automne</a></td></tr><tr><td><a class=\"ww_x_GPS\" href=\"javascript:void(0)\" onclick=\"loadReport(\\'ww_x_GPS=736316313\\');return false;\">Echange IN, 2011-2012, Semestre printemps</a></td></tr><tr><td><a class=\"ww_x_GPS\" href=\"javascript:void(0)\" onclick=\"loadReport(\\'ww_x_GPS=1378335442\\');return false;\">Echange IN, 2012-2013, Semestre automne</a></td></tr><tr><td><a class=\"ww_x_GPS\" href=\"javascript:void(0)\" onclick=\"loadReport(\\'ww_x_GPS=1378335469\\');return false;\">Echange IN, 2012-2013, Semestre printemps</a></td></tr><tr><td><a class=\"ww_x_GPS\" href=\"javascript:void(0)\" onclick=\"loadReport(\\'ww_x_GPS=1650772948\\');return false;\">Echange IN, 2013-2014, Semestre automne</a></td></tr><tr><td><a class=\"ww_x_GPS\" href=\"javascript:void(0)\" onclick=\"loadReport(\\'ww_x_GPS=1650772975\\');return false;\">Echange IN, 2013-2014, Semestre printemps</a></td></tr><tr><td><a class=\"ww_x_GPS\" href=\"javascript:void(0)\" onclick=\"loadReport(\\'ww_x_GPS=1745516952\\');return false;\">Echange IN, 2014-2015, Semestre automne</a></td></tr><tr><td><a class=\"ww_x_GPS\" href=\"javascript:void(0)\" onclick=\"loadReport(\\'ww_x_GPS=1745516979\\');return false;\">Echange IN, 2014-2015, Semestre printemps</a></td></tr><tr><td><a class=\"ww_x_GPS\" href=\"javascript:void(0)\" onclick=\"loadReport(\\'ww_x_GPS=1897038293\\');return false;\">Echange IN, 2015-2016, Semestre automne</a></td></tr><tr><td><a class=\"ww_x_GPS\" href=\"javascript:void(0)\" onclick=\"loadReport(\\'ww_x_GPS=1897038436\\');return false;\">Echange IN, 2015-2016, Semestre printemps</a></td></tr><tr><td><a class=\"ww_x_GPS\" href=\"javascript:void(0)\" onclick=\"loadReport(\\'ww_x_GPS=2029692536\\');return false;\">Echange IN, 2016-2017, Semestre automne</a></td></tr><tr><td><a class=\"ww_x_GPS\" href=\"javascript:void(0)\" onclick=\"loadReport(\\'ww_x_GPS=2029692599\\');return false;\">Echange IN, 2016-2017, Semestre printemps</a></td></tr><tr><td><a class=\"ww_x_GPS\" href=\"javascript:void(0)\" onclick=\"loadReport(\\'ww_x_GPS=6508091\\');return false;\">Informatique de base (IB), 1988-1989, Semestre 6</a></td></tr><tr><td><a class=\"ww_x_GPS\" href=\"javascript:void(0)\" onclick=\"loadReport(\\'ww_x_GPS=6527687\\');return false;\">Informatique de base (IB), 1989-1990, Semestre 6</a></td></tr><tr><td><a class=\"ww_x_GPS\" href=\"javascript:void(0)\" onclick=\"loadReport(\\'ww_x_GPS=6516101\\');return false;\">Informatique de base (IB), 1989-1990, Semestre 7</a></td></tr><tr><td><a class=\"ww_x_GPS\" href=\"javascript:void(0)\" onclick=\"loadReport(\\'ww_x_GPS=6522201\\');return false;\">Informatique de base (IB), 1989-1990, Semestre 8</a></td></tr><tr><td><a class=\"ww_x_GPS\" href=\"javascript:void(0)\" onclick=\"loadReport(\\'ww_x_GPS=6527968\\');return false;\">Informatique de base (IB), 1990-1991, Semestre 6</a></td></tr><tr><td><a class=\"ww_x_GPS\" href=\"javascript:void(0)\" onclick=\"loadReport(\\'ww_x_GPS=6527698\\');return false;\">Informatique de base (IB), 1990-1991, Semestre 7</a></td></tr><tr><td><a class=\"ww_x_GPS\" href=\"javascript:void(0)\" onclick=\"loadReport(\\'ww_x_GPS=6527709\\');return false;\">Informatique de base (IB), 1990-1991, Semestre 8</a></td></tr><tr><td><a class=\"ww_x_GPS\" href=\"javascript:void(0)\" onclick=\"loadReport(\\'ww_x_GPS=6522215\\');return false;\">Informatique de base (IB), 1990-1991, Semestre 9</a></td></tr><tr><td><a class=\"ww_x_GPS\" href=\"javascript:void(0)\" onclick=\"loadReport(\\'ww_x_GPS=6528249\\');return false;\">Informatique de base (IB), 1991-1992, Semestre 6</a></td></tr><tr><td><a class=\"ww_x_GPS\" href=\"javascript:void(0)\" onclick=\"loadReport(\\'ww_x_GPS=6527979\\');return false;\">Informatique de base (IB), 1991-1992, Semestre 7</a></td></tr><tr><td><a class=\"ww_x_GPS\" href=\"javascript:void(0)\" onclick=\"loadReport(\\'ww_x_GPS=6527990\\');return false;\">Informatique de base (IB), 1991-1992, Semestre 8</a></td></tr><tr><td><a class=\"ww_x_GPS\" href=\"javascript:void(0)\" onclick=\"loadReport(\\'ww_x_GPS=6527720\\');return false;\">Informatique de base (IB), 1991-1992, Semestre 9</a></td></tr><tr><td><a class=\"ww_x_GPS\" href=\"javascript:void(0)\" onclick=\"loadReport(\\'ww_x_GPS=6528530\\');return false;\">Informatique de base (IB), 1992-1993, Semestre 6</a></td></tr><tr><td><a class=\"ww_x_GPS\" href=\"javascript:void(0)\" onclick=\"loadReport(\\'ww_x_GPS=6528260\\');return false;\">Informatique de base (IB), 1992-1993, Semestre 7</a></td></tr><tr><td><a class=\"ww_x_GPS\" href=\"javascript:void(0)\" onclick=\"loadReport(\\'ww_x_GPS=6528271\\');return false;\">Informatique de base (IB), 1992-1993, Semestre 8</a></td></tr><tr><td><a class=\"ww_x_GPS\" href=\"javascript:void(0)\" onclick=\"loadReport(\\'ww_x_GPS=6528001\\');return false;\">Informatique de base (IB), 1992-1993, Semestre 9</a></td></tr><tr><td><a class=\"ww_x_GPS\" href=\"javascript:void(0)\" onclick=\"loadReport(\\'ww_x_GPS=6528811\\');return false;\">Informatique de base (IB), 1993-1994, Semestre 6</a></td></tr><tr><td><a class=\"ww_x_GPS\" href=\"javascript:void(0)\" onclick=\"loadReport(\\'ww_x_GPS=6528541\\');return false;\">Informatique de base (IB), 1993-1994, Semestre 7</a></td></tr><tr><td><a class=\"ww_x_GPS\" href=\"javascript:void(0)\" onclick=\"loadReport(\\'ww_x_GPS=6528552\\');return false;\">Informatique de base (IB), 1993-1994, Semestre 8</a></td></tr><tr><td><a class=\"ww_x_GPS\" href=\"javascript:void(0)\" onclick=\"loadReport(\\'ww_x_GPS=6528282\\');return false;\">Informatique de base (IB), 1993-1994, Semestre 9</a></td></tr><tr><td><a class=\"ww_x_GPS\" href=\"javascript:void(0)\" onclick=\"loadReport(\\'ww_x_GPS=6529098\\');return false;\">Informatique de base (IB), 1994-1995, Semestre 6</a></td></tr><tr><td><a class=\"ww_x_GPS\" href=\"javascript:void(0)\" onclick=\"loadReport(\\'ww_x_GPS=6528822\\');return false;\">Informatique de base (IB), 1994-1995, Semestre 7</a></td></tr><tr><td><a class=\"ww_x_GPS\" href=\"javascript:void(0)\" onclick=\"loadReport(\\'ww_x_GPS=6528833\\');return false;\">Informatique de base (IB), 1994-1995, Semestre 8</a></td></tr><tr><td><a class=\"ww_x_GPS\" href=\"javascript:void(0)\" onclick=\"loadReport(\\'ww_x_GPS=6528563\\');return false;\">Informatique de base (IB), 1994-1995, Semestre 9</a></td></tr><tr><td><a class=\"ww_x_GPS\" href=\"javascript:void(0)\" onclick=\"loadReport(\\'ww_x_GPS=6529379\\');return false;\">Informatique de base (IB), 1995-1996, Semestre 6</a></td></tr><tr><td><a class=\"ww_x_GPS\" href=\"javascript:void(0)\" onclick=\"loadReport(\\'ww_x_GPS=6529109\\');return false;\">Informatique de base (IB), 1995-1996, Semestre 7</a></td></tr><tr><td><a class=\"ww_x_GPS\" href=\"javascript:void(0)\" onclick=\"loadReport(\\'ww_x_GPS=6529120\\');return false;\">Informatique de base (IB), 1995-1996, Semestre 8</a></td></tr><tr><td><a class=\"ww_x_GPS\" href=\"javascript:void(0)\" onclick=\"loadReport(\\'ww_x_GPS=6528844\\');return false;\">Informatique de base (IB), 1995-1996, Semestre 9</a></td></tr><tr><td><a class=\"ww_x_GPS\" href=\"javascript:void(0)\" onclick=\"loadReport(\\'ww_x_GPS=6529666\\');return false;\">Informatique de base (IB), 1996-1997, Semestre 6</a></td></tr><tr><td><a class=\"ww_x_GPS\" href=\"javascript:void(0)\" onclick=\"loadReport(\\'ww_x_GPS=6529390\\');return false;\">Informatique de base (IB), 1996-1997, Semestre 7</a></td></tr><tr><td><a class=\"ww_x_GPS\" href=\"javascript:void(0)\" onclick=\"loadReport(\\'ww_x_GPS=6529401\\');return false;\">Informatique de base (IB), 1996-1997, Semestre 8</a></td></tr><tr><td><a class=\"ww_x_GPS\" href=\"javascript:void(0)\" onclick=\"loadReport(\\'ww_x_GPS=6529131\\');return false;\">Informatique de base (IB), 1996-1997, Semestre 9</a></td></tr><tr><td><a class=\"ww_x_GPS\" href=\"javascript:void(0)\" onclick=\"loadReport(\\'ww_x_GPS=6529949\\');return false;\">Informatique de base (IB), 1997-1998, Semestre 6</a></td></tr><tr><td><a class=\"ww_x_GPS\" href=\"javascript:void(0)\" onclick=\"loadReport(\\'ww_x_GPS=6529677\\');return false;\">Informatique de base (IB), 1997-1998, Semestre 7</a></td></tr><tr><td><a class=\"ww_x_GPS\" href=\"javascript:void(0)\" onclick=\"loadReport(\\'ww_x_GPS=6529688\\');return false;\">Informatique de base (IB), 1997-1998, Semestre 8</a></td></tr><tr><td><a class=\"ww_x_GPS\" href=\"javascript:void(0)\" onclick=\"loadReport(\\'ww_x_GPS=6529412\\');return false;\">Informatique de base (IB), 1997-1998, Semestre 9</a></td></tr><tr><td><a class=\"ww_x_GPS\" href=\"javascript:void(0)\" onclick=\"loadReport(\\'ww_x_GPS=6530517\\');return false;\">Informatique de base (IB), 1998-1999, Semestre 6</a></td></tr><tr><td><a class=\"ww_x_GPS\" href=\"javascript:void(0)\" onclick=\"loadReport(\\'ww_x_GPS=6529960\\');return false;\">Informatique de base (IB), 1998-1999, Semestre 7</a></td></tr><tr><td><a class=\"ww_x_GPS\" href=\"javascript:void(0)\" onclick=\"loadReport(\\'ww_x_GPS=6529971\\');return false;\">Informatique de base (IB), 1998-1999, Semestre 8</a></td></tr><tr><td><a class=\"ww_x_GPS\" href=\"javascript:void(0)\" onclick=\"loadReport(\\'ww_x_GPS=6529699\\');return false;\">Informatique de base (IB), 1998-1999, Semestre 9</a></td></tr><tr><td><a class=\"ww_x_GPS\" href=\"javascript:void(0)\" onclick=\"loadReport(\\'ww_x_GPS=6530798\\');return false;\">Informatique de base (IB), 1999-2000, Semestre 6</a></td></tr><tr><td><a class=\"ww_x_GPS\" href=\"javascript:void(0)\" onclick=\"loadReport(\\'ww_x_GPS=6530528\\');return false;\">Informatique de base (IB), 1999-2000, Semestre 7</a></td></tr><tr><td><a class=\"ww_x_GPS\" href=\"javascript:void(0)\" onclick=\"loadReport(\\'ww_x_GPS=6530539\\');return false;\">Informatique de base (IB), 1999-2000, Semestre 8</a></td></tr><tr><td><a class=\"ww_x_GPS\" href=\"javascript:void(0)\" onclick=\"loadReport(\\'ww_x_GPS=6529982\\');return false;\">Informatique de base (IB), 1999-2000, Semestre 9</a></td></tr><tr><td><a class=\"ww_x_GPS\" href=\"javascript:void(0)\" onclick=\"loadReport(\\'ww_x_GPS=6531079\\');return false;\">Informatique de base (IB), 2000-2001, Semestre 6</a></td></tr><tr><td><a class=\"ww_x_GPS\" href=\"javascript:void(0)\" onclick=\"loadReport(\\'ww_x_GPS=6530809\\');return false;\">Informatique de base (IB), 2000-2001, Semestre 7</a></td></tr><tr><td><a class=\"ww_x_GPS\" href=\"javascript:void(0)\" onclick=\"loadReport(\\'ww_x_GPS=6530820\\');return false;\">Informatique de base (IB), 2000-2001, Semestre 8</a></td></tr><tr><td><a class=\"ww_x_GPS\" href=\"javascript:void(0)\" onclick=\"loadReport(\\'ww_x_GPS=6530550\\');return false;\">Informatique de base (IB), 2000-2001, Semestre 9</a></td></tr><tr><td><a class=\"ww_x_GPS\" href=\"javascript:void(0)\" onclick=\"loadReport(\\'ww_x_GPS=6531360\\');return false;\">Informatique de base (IB), 2001-2002, Semestre 6</a></td></tr><tr><td><a class=\"ww_x_GPS\" href=\"javascript:void(0)\" onclick=\"loadReport(\\'ww_x_GPS=6531090\\');return false;\">Informatique de base (IB), 2001-2002, Semestre 7</a></td></tr><tr><td><a class=\"ww_x_GPS\" href=\"javascript:void(0)\" onclick=\"loadReport(\\'ww_x_GPS=6531101\\');return false;\">Informatique de base (IB), 2001-2002, Semestre 8</a></td></tr><tr><td><a class=\"ww_x_GPS\" href=\"javascript:void(0)\" onclick=\"loadReport(\\'ww_x_GPS=6530831\\');return false;\">Informatique de base (IB), 2001-2002, Semestre 9</a></td></tr><tr><td><a class=\"ww_x_GPS\" href=\"javascript:void(0)\" onclick=\"loadReport(\\'ww_x_GPS=6531371\\');return false;\">Informatique de base (IB), 2002-2003, Semestre 7</a></td></tr><tr><td><a class=\"ww_x_GPS\" href=\"javascript:void(0)\" onclick=\"loadReport(\\'ww_x_GPS=6531382\\');return false;\">Informatique de base (IB), 2002-2003, Semestre 8</a></td></tr><tr><td><a class=\"ww_x_GPS\" href=\"javascript:void(0)\" onclick=\"loadReport(\\'ww_x_GPS=6531112\\');return false;\">Informatique de base (IB), 2002-2003, Semestre 9</a></td></tr><tr><td><a class=\"ww_x_GPS\" href=\"javascript:void(0)\" onclick=\"loadReport(\\'ww_x_GPS=6531393\\');return false;\">Informatique de base (IB), 2003-2004, Semestre 9</a></td></tr><tr><td><a class=\"ww_x_GPS\" href=\"javascript:void(0)\" onclick=\"loadReport(\\'ww_x_GPS=6508017\\');return false;\">Informatique technique (IT), 1988-1989, Semestre 6</a></td></tr><tr><td><a class=\"ww_x_GPS\" href=\"javascript:void(0)\" onclick=\"loadReport(\\'ww_x_GPS=6527643\\');return false;\">Informatique technique (IT), 1989-1990, Semestre 6</a></td></tr><tr><td><a class=\"ww_x_GPS\" href=\"javascript:void(0)\" onclick=\"loadReport(\\'ww_x_GPS=6510084\\');return false;\">Informatique technique (IT), 1989-1990, Semestre 7</a></td></tr><tr><td><a class=\"ww_x_GPS\" href=\"javascript:void(0)\" onclick=\"loadReport(\\'ww_x_GPS=6511658\\');return false;\">Informatique technique (IT), 1989-1990, Semestre 8</a></td></tr><tr><td><a class=\"ww_x_GPS\" href=\"javascript:void(0)\" onclick=\"loadReport(\\'ww_x_GPS=6527924\\');return false;\">Informatique technique (IT), 1990-1991, Semestre 6</a></td></tr><tr><td><a class=\"ww_x_GPS\" href=\"javascript:void(0)\" onclick=\"loadReport(\\'ww_x_GPS=6527654\\');return false;\">Informatique technique (IT), 1990-1991, Semestre 7</a></td></tr><tr><td><a class=\"ww_x_GPS\" href=\"javascript:void(0)\" onclick=\"loadReport(\\'ww_x_GPS=6527665\\');return false;\">Informatique technique (IT), 1990-1991, Semestre 8</a></td></tr><tr><td><a class=\"ww_x_GPS\" href=\"javascript:void(0)\" onclick=\"loadReport(\\'ww_x_GPS=6513534\\');return false;\">Informatique technique (IT), 1990-1991, Semestre 9</a></td></tr><tr><td><a class=\"ww_x_GPS\" href=\"javascript:void(0)\" onclick=\"loadReport(\\'ww_x_GPS=6528205\\');return false;\">Informatique technique (IT), 1991-1992, Semestre 6</a></td></tr><tr><td><a class=\"ww_x_GPS\" href=\"javascript:void(0)\" onclick=\"loadReport(\\'ww_x_GPS=6527935\\');return false;\">Informatique technique (IT), 1991-1992, Semestre 7</a></td></tr><tr><td><a class=\"ww_x_GPS\" href=\"javascript:void(0)\" onclick=\"loadReport(\\'ww_x_GPS=6527946\\');return false;\">Informatique technique (IT), 1991-1992, Semestre 8</a></td></tr><tr><td><a class=\"ww_x_GPS\" href=\"javascript:void(0)\" onclick=\"loadReport(\\'ww_x_GPS=6527676\\');return false;\">Informatique technique (IT), 1991-1992, Semestre 9</a></td></tr><tr><td><a class=\"ww_x_GPS\" href=\"javascript:void(0)\" onclick=\"loadReport(\\'ww_x_GPS=6528486\\');return false;\">Informatique technique (IT), 1992-1993, Semestre 6</a></td></tr><tr><td><a class=\"ww_x_GPS\" href=\"javascript:void(0)\" onclick=\"loadReport(\\'ww_x_GPS=6528216\\');return false;\">Informatique technique (IT), 1992-1993, Semestre 7</a></td></tr><tr><td><a class=\"ww_x_GPS\" href=\"javascript:void(0)\" onclick=\"loadReport(\\'ww_x_GPS=6528227\\');return false;\">Informatique technique (IT), 1992-1993, Semestre 8</a></td></tr><tr><td><a class=\"ww_x_GPS\" href=\"javascript:void(0)\" onclick=\"loadReport(\\'ww_x_GPS=6527957\\');return false;\">Informatique technique (IT), 1992-1993, Semestre 9</a></td></tr><tr><td><a class=\"ww_x_GPS\" href=\"javascript:void(0)\" onclick=\"loadReport(\\'ww_x_GPS=6528767\\');return false;\">Informatique technique (IT), 1993-1994, Semestre 6</a></td></tr><tr><td><a class=\"ww_x_GPS\" href=\"javascript:void(0)\" onclick=\"loadReport(\\'ww_x_GPS=6528497\\');return false;\">Informatique technique (IT), 1993-1994, Semestre 7</a></td></tr><tr><td><a class=\"ww_x_GPS\" href=\"javascript:void(0)\" onclick=\"loadReport(\\'ww_x_GPS=6528508\\');return false;\">Informatique technique (IT), 1993-1994, Semestre 8</a></td></tr><tr><td><a class=\"ww_x_GPS\" href=\"javascript:void(0)\" onclick=\"loadReport(\\'ww_x_GPS=6528238\\');return false;\">Informatique technique (IT), 1993-1994, Semestre 9</a></td></tr><tr><td><a class=\"ww_x_GPS\" href=\"javascript:void(0)\" onclick=\"loadReport(\\'ww_x_GPS=6529054\\');return false;\">Informatique technique (IT), 1994-1995, Semestre 6</a></td></tr><tr><td><a class=\"ww_x_GPS\" href=\"javascript:void(0)\" onclick=\"loadReport(\\'ww_x_GPS=6528778\\');return false;\">Informatique technique (IT), 1994-1995, Semestre 7</a></td></tr><tr><td><a class=\"ww_x_GPS\" href=\"javascript:void(0)\" onclick=\"loadReport(\\'ww_x_GPS=6528789\\');return false;\">Informatique technique (IT), 1994-1995, Semestre 8</a></td></tr><tr><td><a class=\"ww_x_GPS\" href=\"javascript:void(0)\" onclick=\"loadReport(\\'ww_x_GPS=6528519\\');return false;\">Informatique technique (IT), 1994-1995, Semestre 9</a></td></tr><tr><td><a class=\"ww_x_GPS\" href=\"javascript:void(0)\" onclick=\"loadReport(\\'ww_x_GPS=6529335\\');return false;\">Informatique technique (IT), 1995-1996, Semestre 6</a></td></tr><tr><td><a class=\"ww_x_GPS\" href=\"javascript:void(0)\" onclick=\"loadReport(\\'ww_x_GPS=6529065\\');return false;\">Informatique technique (IT), 1995-1996, Semestre 7</a></td></tr><tr><td><a class=\"ww_x_GPS\" href=\"javascript:void(0)\" onclick=\"loadReport(\\'ww_x_GPS=6529076\\');return false;\">Informatique technique (IT), 1995-1996, Semestre 8</a></td></tr><tr><td><a class=\"ww_x_GPS\" href=\"javascript:void(0)\" onclick=\"loadReport(\\'ww_x_GPS=6528800\\');return false;\">Informatique technique (IT), 1995-1996, Semestre 9</a></td></tr><tr><td><a class=\"ww_x_GPS\" href=\"javascript:void(0)\" onclick=\"loadReport(\\'ww_x_GPS=6529622\\');return false;\">Informatique technique (IT), 1996-1997, Semestre 6</a></td></tr><tr><td><a class=\"ww_x_GPS\" href=\"javascript:void(0)\" onclick=\"loadReport(\\'ww_x_GPS=6529346\\');return false;\">Informatique technique (IT), 1996-1997, Semestre 7</a></td></tr><tr><td><a class=\"ww_x_GPS\" href=\"javascript:void(0)\" onclick=\"loadReport(\\'ww_x_GPS=6529357\\');return false;\">Informatique technique (IT), 1996-1997, Semestre 8</a></td></tr><tr><td><a class=\"ww_x_GPS\" href=\"javascript:void(0)\" onclick=\"loadReport(\\'ww_x_GPS=6529087\\');return false;\">Informatique technique (IT), 1996-1997, Semestre 9</a></td></tr><tr><td><a class=\"ww_x_GPS\" href=\"javascript:void(0)\" onclick=\"loadReport(\\'ww_x_GPS=6529905\\');return false;\">Informatique technique (IT), 1997-1998, Semestre 6</a></td></tr><tr><td><a class=\"ww_x_GPS\" href=\"javascript:void(0)\" onclick=\"loadReport(\\'ww_x_GPS=6529633\\');return false;\">Informatique technique (IT), 1997-1998, Semestre 7</a></td></tr><tr><td><a class=\"ww_x_GPS\" href=\"javascript:void(0)\" onclick=\"loadReport(\\'ww_x_GPS=6529644\\');return false;\">Informatique technique (IT), 1997-1998, Semestre 8</a></td></tr><tr><td><a class=\"ww_x_GPS\" href=\"javascript:void(0)\" onclick=\"loadReport(\\'ww_x_GPS=6529368\\');return false;\">Informatique technique (IT), 1997-1998, Semestre 9</a></td></tr><tr><td><a class=\"ww_x_GPS\" href=\"javascript:void(0)\" onclick=\"loadReport(\\'ww_x_GPS=6530473\\');return false;\">Informatique technique (IT), 1998-1999, Semestre 6</a></td></tr><tr><td><a class=\"ww_x_GPS\" href=\"javascript:void(0)\" onclick=\"loadReport(\\'ww_x_GPS=6529916\\');return false;\">Informatique technique (IT), 1998-1999, Semestre 7</a></td></tr><tr><td><a class=\"ww_x_GPS\" href=\"javascript:void(0)\" onclick=\"loadReport(\\'ww_x_GPS=6529927\\');return false;\">Informatique technique (IT), 1998-1999, Semestre 8</a></td></tr><tr><td><a class=\"ww_x_GPS\" href=\"javascript:void(0)\" onclick=\"loadReport(\\'ww_x_GPS=6529655\\');return false;\">Informatique technique (IT), 1998-1999, Semestre 9</a></td></tr><tr><td><a class=\"ww_x_GPS\" href=\"javascript:void(0)\" onclick=\"loadReport(\\'ww_x_GPS=6530754\\');return false;\">Informatique technique (IT), 1999-2000, Semestre 6</a></td></tr><tr><td><a class=\"ww_x_GPS\" href=\"javascript:void(0)\" onclick=\"loadReport(\\'ww_x_GPS=6530484\\');return false;\">Informatique technique (IT), 1999-2000, Semestre 7</a></td></tr><tr><td><a class=\"ww_x_GPS\" href=\"javascript:void(0)\" onclick=\"loadReport(\\'ww_x_GPS=6530495\\');return false;\">Informatique technique (IT), 1999-2000, Semestre 8</a></td></tr><tr><td><a class=\"ww_x_GPS\" href=\"javascript:void(0)\" onclick=\"loadReport(\\'ww_x_GPS=6529938\\');return false;\">Informatique technique (IT), 1999-2000, Semestre 9</a></td></tr><tr><td><a class=\"ww_x_GPS\" href=\"javascript:void(0)\" onclick=\"loadReport(\\'ww_x_GPS=6531035\\');return false;\">Informatique technique (IT), 2000-2001, Semestre 6</a></td></tr><tr><td><a class=\"ww_x_GPS\" href=\"javascript:void(0)\" onclick=\"loadReport(\\'ww_x_GPS=6530765\\');return false;\">Informatique technique (IT), 2000-2001, Semestre 7</a></td></tr><tr><td><a class=\"ww_x_GPS\" href=\"javascript:void(0)\" onclick=\"loadReport(\\'ww_x_GPS=6530776\\');return false;\">Informatique technique (IT), 2000-2001, Semestre 8</a></td></tr><tr><td><a class=\"ww_x_GPS\" href=\"javascript:void(0)\" onclick=\"loadReport(\\'ww_x_GPS=6530506\\');return false;\">Informatique technique (IT), 2000-2001, Semestre 9</a></td></tr><tr><td><a class=\"ww_x_GPS\" href=\"javascript:void(0)\" onclick=\"loadReport(\\'ww_x_GPS=6531316\\');return false;\">Informatique technique (IT), 2001-2002, Semestre 6</a></td></tr><tr><td><a class=\"ww_x_GPS\" href=\"javascript:void(0)\" onclick=\"loadReport(\\'ww_x_GPS=6531046\\');return false;\">Informatique technique (IT), 2001-2002, Semestre 7</a></td></tr><tr><td><a class=\"ww_x_GPS\" href=\"javascript:void(0)\" onclick=\"loadReport(\\'ww_x_GPS=6531057\\');return false;\">Informatique technique (IT), 2001-2002, Semestre 8</a></td></tr><tr><td><a class=\"ww_x_GPS\" href=\"javascript:void(0)\" onclick=\"loadReport(\\'ww_x_GPS=6530787\\');return false;\">Informatique technique (IT), 2001-2002, Semestre 9</a></td></tr><tr><td><a class=\"ww_x_GPS\" href=\"javascript:void(0)\" onclick=\"loadReport(\\'ww_x_GPS=6531327\\');return false;\">Informatique technique (IT), 2002-2003, Semestre 7</a></td></tr><tr><td><a class=\"ww_x_GPS\" href=\"javascript:void(0)\" onclick=\"loadReport(\\'ww_x_GPS=6531338\\');return false;\">Informatique technique (IT), 2002-2003, Semestre 8</a></td></tr><tr><td><a class=\"ww_x_GPS\" href=\"javascript:void(0)\" onclick=\"loadReport(\\'ww_x_GPS=6531068\\');return false;\">Informatique technique (IT), 2002-2003, Semestre 9</a></td></tr><tr><td><a class=\"ww_x_GPS\" href=\"javascript:void(0)\" onclick=\"loadReport(\\'ww_x_GPS=6531349\\');return false;\">Informatique technique (IT), 2003-2004, Semestre 9</a></td></tr><tr><td><a class=\"ww_x_GPS\" href=\"javascript:void(0)\" onclick=\"loadReport(\\'ww_x_GPS=6399552\\');return false;\">Informatique, 1985-1986, Semestre -1</a></td></tr><tr><td><a class=\"ww_x_GPS\" href=\"javascript:void(0)\" onclick=\"loadReport(\\'ww_x_GPS=6399557\\');return false;\">Informatique, 1985-1986, Semestre 0</a></td></tr><tr><td><a class=\"ww_x_GPS\" href=\"javascript:void(0)\" onclick=\"loadReport(\\'ww_x_GPS=6527478\\');return false;\">Informatique, 1986-1987, Semestre -1</a></td></tr><tr><td><a class=\"ww_x_GPS\" href=\"javascript:void(0)\" onclick=\"loadReport(\\'ww_x_GPS=6527489\\');return false;\">Informatique, 1986-1987, Semestre 0</a></td></tr><tr><td><a class=\"ww_x_GPS\" href=\"javascript:void(0)\" onclick=\"loadReport(\\'ww_x_GPS=6399562\\');return false;\">Informatique, 1986-1987, Semestre 1</a></td></tr><tr><td><a class=\"ww_x_GPS\" href=\"javascript:void(0)\" onclick=\"loadReport(\\'ww_x_GPS=6399567\\');return false;\">Informatique, 1986-1987, Semestre 2</a></td></tr><tr><td><a class=\"ww_x_GPS\" href=\"javascript:void(0)\" onclick=\"loadReport(\\'ww_x_GPS=6527759\\');return false;\">Informatique, 1987-1988, Semestre -1</a></td></tr><tr><td><a class=\"ww_x_GPS\" href=\"javascript:void(0)\" onclick=\"loadReport(\\'ww_x_GPS=6527770\\');return false;\">Informatique, 1987-1988, Semestre 0</a></td></tr><tr><td><a class=\"ww_x_GPS\" href=\"javascript:void(0)\" onclick=\"loadReport(\\'ww_x_GPS=6527500\\');return false;\">Informatique, 1987-1988, Semestre 1</a></td></tr><tr><td><a class=\"ww_x_GPS\" href=\"javascript:void(0)\" onclick=\"loadReport(\\'ww_x_GPS=6527511\\');return false;\">Informatique, 1987-1988, Semestre 2</a></td></tr><tr><td><a class=\"ww_x_GPS\" href=\"javascript:void(0)\" onclick=\"loadReport(\\'ww_x_GPS=6399572\\');return false;\">Informatique, 1987-1988, Semestre 3</a></td></tr><tr><td><a class=\"ww_x_GPS\" href=\"javascript:void(0)\" onclick=\"loadReport(\\'ww_x_GPS=6399577\\');return false;\">Informatique, 1987-1988, Semestre 4</a></td></tr><tr><td><a class=\"ww_x_GPS\" href=\"javascript:void(0)\" onclick=\"loadReport(\\'ww_x_GPS=6528040\\');return false;\">Informatique, 1988-1989, Semestre -1</a></td></tr><tr><td><a class=\"ww_x_GPS\" href=\"javascript:void(0)\" onclick=\"loadReport(\\'ww_x_GPS=6528051\\');return false;\">Informatique, 1988-1989, Semestre 0</a></td></tr><tr><td><a class=\"ww_x_GPS\" href=\"javascript:void(0)\" onclick=\"loadReport(\\'ww_x_GPS=6527781\\');return false;\">Informatique, 1988-1989, Semestre 1</a></td></tr><tr><td><a class=\"ww_x_GPS\" href=\"javascript:void(0)\" onclick=\"loadReport(\\'ww_x_GPS=6527792\\');return false;\">Informatique, 1988-1989, Semestre 2</a></td></tr><tr><td><a class=\"ww_x_GPS\" href=\"javascript:void(0)\" onclick=\"loadReport(\\'ww_x_GPS=6527522\\');return false;\">Informatique, 1988-1989, Semestre 3</a></td></tr><tr><td><a class=\"ww_x_GPS\" href=\"javascript:void(0)\" onclick=\"loadReport(\\'ww_x_GPS=6527533\\');return false;\">Informatique, 1988-1989, Semestre 4</a></td></tr><tr><td><a class=\"ww_x_GPS\" href=\"javascript:void(0)\" onclick=\"loadReport(\\'ww_x_GPS=6399582\\');return false;\">Informatique, 1988-1989, Semestre 5</a></td></tr><tr><td><a class=\"ww_x_GPS\" href=\"javascript:void(0)\" onclick=\"loadReport(\\'ww_x_GPS=6399587\\');return false;\">Informatique, 1988-1989, Semestre 6</a></td></tr><tr><td><a class=\"ww_x_GPS\" href=\"javascript:void(0)\" onclick=\"loadReport(\\'ww_x_GPS=6528321\\');return false;\">Informatique, 1989-1990, Semestre -1</a></td></tr><tr><td><a class=\"ww_x_GPS\" href=\"javascript:void(0)\" onclick=\"loadReport(\\'ww_x_GPS=6528332\\');return false;\">Informatique, 1989-1990, Semestre 0</a></td></tr><tr><td><a class=\"ww_x_GPS\" href=\"javascript:void(0)\" onclick=\"loadReport(\\'ww_x_GPS=6528062\\');return false;\">Informatique, 1989-1990, Semestre 1</a></td></tr><tr><td><a class=\"ww_x_GPS\" href=\"javascript:void(0)\" onclick=\"loadReport(\\'ww_x_GPS=6528073\\');return false;\">Informatique, 1989-1990, Semestre 2</a></td></tr><tr><td><a class=\"ww_x_GPS\" href=\"javascript:void(0)\" onclick=\"loadReport(\\'ww_x_GPS=6527803\\');return false;\">Informatique, 1989-1990, Semestre 3</a></td></tr><tr><td><a class=\"ww_x_GPS\" href=\"javascript:void(0)\" onclick=\"loadReport(\\'ww_x_GPS=6527814\\');return false;\">Informatique, 1989-1990, Semestre 4</a></td></tr><tr><td><a class=\"ww_x_GPS\" href=\"javascript:void(0)\" onclick=\"loadReport(\\'ww_x_GPS=6527544\\');return false;\">Informatique, 1989-1990, Semestre 5</a></td></tr><tr><td><a class=\"ww_x_GPS\" href=\"javascript:void(0)\" onclick=\"loadReport(\\'ww_x_GPS=6527555\\');return false;\">Informatique, 1989-1990, Semestre 6</a></td></tr><tr><td><a class=\"ww_x_GPS\" href=\"javascript:void(0)\" onclick=\"loadReport(\\'ww_x_GPS=6399592\\');return false;\">Informatique, 1989-1990, Semestre 7</a></td></tr><tr><td><a class=\"ww_x_GPS\" href=\"javascript:void(0)\" onclick=\"loadReport(\\'ww_x_GPS=6399597\\');return false;\">Informatique, 1989-1990, Semestre 8</a></td></tr><tr><td><a class=\"ww_x_GPS\" href=\"javascript:void(0)\" onclick=\"loadReport(\\'ww_x_GPS=6528602\\');return false;\">Informatique, 1990-1991, Semestre -1</a></td></tr><tr><td><a class=\"ww_x_GPS\" href=\"javascript:void(0)\" onclick=\"loadReport(\\'ww_x_GPS=6528613\\');return false;\">Informatique, 1990-1991, Semestre 0</a></td></tr><tr><td><a class=\"ww_x_GPS\" href=\"javascript:void(0)\" onclick=\"loadReport(\\'ww_x_GPS=6528343\\');return false;\">Informatique, 1990-1991, Semestre 1</a></td></tr><tr><td><a class=\"ww_x_GPS\" href=\"javascript:void(0)\" onclick=\"loadReport(\\'ww_x_GPS=6528354\\');return false;\">Informatique, 1990-1991, Semestre 2</a></td></tr><tr><td><a class=\"ww_x_GPS\" href=\"javascript:void(0)\" onclick=\"loadReport(\\'ww_x_GPS=6528084\\');return false;\">Informatique, 1990-1991, Semestre 3</a></td></tr><tr><td><a class=\"ww_x_GPS\" href=\"javascript:void(0)\" onclick=\"loadReport(\\'ww_x_GPS=6528095\\');return false;\">Informatique, 1990-1991, Semestre 4</a></td></tr><tr><td><a class=\"ww_x_GPS\" href=\"javascript:void(0)\" onclick=\"loadReport(\\'ww_x_GPS=6527825\\');return false;\">Informatique, 1990-1991, Semestre 5</a></td></tr><tr><td><a class=\"ww_x_GPS\" href=\"javascript:void(0)\" onclick=\"loadReport(\\'ww_x_GPS=6527836\\');return false;\">Informatique, 1990-1991, Semestre 6</a></td></tr><tr><td><a class=\"ww_x_GPS\" href=\"javascript:void(0)\" onclick=\"loadReport(\\'ww_x_GPS=6527566\\');return false;\">Informatique, 1990-1991, Semestre 7</a></td></tr><tr><td><a class=\"ww_x_GPS\" href=\"javascript:void(0)\" onclick=\"loadReport(\\'ww_x_GPS=6527577\\');return false;\">Informatique, 1990-1991, Semestre 8</a></td></tr><tr><td><a class=\"ww_x_GPS\" href=\"javascript:void(0)\" onclick=\"loadReport(\\'ww_x_GPS=6399602\\');return false;\">Informatique, 1990-1991, Semestre 9</a></td></tr><tr><td><a class=\"ww_x_GPS\" href=\"javascript:void(0)\" onclick=\"loadReport(\\'ww_x_GPS=6528889\\');return false;\">Informatique, 1991-1992, Semestre -1</a></td></tr><tr><td><a class=\"ww_x_GPS\" href=\"javascript:void(0)\" onclick=\"loadReport(\\'ww_x_GPS=6528900\\');return false;\">Informatique, 1991-1992, Semestre 0</a></td></tr><tr><td><a class=\"ww_x_GPS\" href=\"javascript:void(0)\" onclick=\"loadReport(\\'ww_x_GPS=6528624\\');return false;\">Informatique, 1991-1992, Semestre 1</a></td></tr><tr><td><a class=\"ww_x_GPS\" href=\"javascript:void(0)\" onclick=\"loadReport(\\'ww_x_GPS=6528635\\');return false;\">Informatique, 1991-1992, Semestre 2</a></td></tr><tr><td><a class=\"ww_x_GPS\" href=\"javascript:void(0)\" onclick=\"loadReport(\\'ww_x_GPS=6528365\\');return false;\">Informatique, 1991-1992, Semestre 3</a></td></tr><tr><td><a class=\"ww_x_GPS\" href=\"javascript:void(0)\" onclick=\"loadReport(\\'ww_x_GPS=6528376\\');return false;\">Informatique, 1991-1992, Semestre 4</a></td></tr><tr><td><a class=\"ww_x_GPS\" href=\"javascript:void(0)\" onclick=\"loadReport(\\'ww_x_GPS=6528106\\');return false;\">Informatique, 1991-1992, Semestre 5</a></td></tr><tr><td><a class=\"ww_x_GPS\" href=\"javascript:void(0)\" onclick=\"loadReport(\\'ww_x_GPS=6528117\\');return false;\">Informatique, 1991-1992, Semestre 6</a></td></tr><tr><td><a class=\"ww_x_GPS\" href=\"javascript:void(0)\" onclick=\"loadReport(\\'ww_x_GPS=6527847\\');return false;\">Informatique, 1991-1992, Semestre 7</a></td></tr><tr><td><a class=\"ww_x_GPS\" href=\"javascript:void(0)\" onclick=\"loadReport(\\'ww_x_GPS=6527858\\');return false;\">Informatique, 1991-1992, Semestre 8</a></td></tr><tr><td><a class=\"ww_x_GPS\" href=\"javascript:void(0)\" onclick=\"loadReport(\\'ww_x_GPS=6527588\\');return false;\">Informatique, 1991-1992, Semestre 9</a></td></tr><tr><td><a class=\"ww_x_GPS\" href=\"javascript:void(0)\" onclick=\"loadReport(\\'ww_x_GPS=6529170\\');return false;\">Informatique, 1992-1993, Semestre -1</a></td></tr><tr><td><a class=\"ww_x_GPS\" href=\"javascript:void(0)\" onclick=\"loadReport(\\'ww_x_GPS=6529181\\');return false;\">Informatique, 1992-1993, Semestre 0</a></td></tr><tr><td><a class=\"ww_x_GPS\" href=\"javascript:void(0)\" onclick=\"loadReport(\\'ww_x_GPS=6528911\\');return false;\">Informatique, 1992-1993, Semestre 1</a></td></tr><tr><td><a class=\"ww_x_GPS\" href=\"javascript:void(0)\" onclick=\"loadReport(\\'ww_x_GPS=6528922\\');return false;\">Informatique, 1992-1993, Semestre 2</a></td></tr><tr><td><a class=\"ww_x_GPS\" href=\"javascript:void(0)\" onclick=\"loadReport(\\'ww_x_GPS=6528646\\');return false;\">Informatique, 1992-1993, Semestre 3</a></td></tr><tr><td><a class=\"ww_x_GPS\" href=\"javascript:void(0)\" onclick=\"loadReport(\\'ww_x_GPS=6528657\\');return false;\">Informatique, 1992-1993, Semestre 4</a></td></tr><tr><td><a class=\"ww_x_GPS\" href=\"javascript:void(0)\" onclick=\"loadReport(\\'ww_x_GPS=6528387\\');return false;\">Informatique, 1992-1993, Semestre 5</a></td></tr><tr><td><a class=\"ww_x_GPS\" href=\"javascript:void(0)\" onclick=\"loadReport(\\'ww_x_GPS=6528398\\');return false;\">Informatique, 1992-1993, Semestre 6</a></td></tr><tr><td><a class=\"ww_x_GPS\" href=\"javascript:void(0)\" onclick=\"loadReport(\\'ww_x_GPS=6528128\\');return false;\">Informatique, 1992-1993, Semestre 7</a></td></tr><tr><td><a class=\"ww_x_GPS\" href=\"javascript:void(0)\" onclick=\"loadReport(\\'ww_x_GPS=6528139\\');return false;\">Informatique, 1992-1993, Semestre 8</a></td></tr><tr><td><a class=\"ww_x_GPS\" href=\"javascript:void(0)\" onclick=\"loadReport(\\'ww_x_GPS=6527869\\');return false;\">Informatique, 1992-1993, Semestre 9</a></td></tr><tr><td><a class=\"ww_x_GPS\" href=\"javascript:void(0)\" onclick=\"loadReport(\\'ww_x_GPS=6529457\\');return false;\">Informatique, 1993-1994, Semestre -1</a></td></tr><tr><td><a class=\"ww_x_GPS\" href=\"javascript:void(0)\" onclick=\"loadReport(\\'ww_x_GPS=6529468\\');return false;\">Informatique, 1993-1994, Semestre 0</a></td></tr><tr><td><a class=\"ww_x_GPS\" href=\"javascript:void(0)\" onclick=\"loadReport(\\'ww_x_GPS=6529192\\');return false;\">Informatique, 1993-1994, Semestre 1</a></td></tr><tr><td><a class=\"ww_x_GPS\" href=\"javascript:void(0)\" onclick=\"loadReport(\\'ww_x_GPS=6529203\\');return false;\">Informatique, 1993-1994, Semestre 2</a></td></tr><tr><td><a class=\"ww_x_GPS\" href=\"javascript:void(0)\" onclick=\"loadReport(\\'ww_x_GPS=6528933\\');return false;\">Informatique, 1993-1994, Semestre 3</a></td></tr><tr><td><a class=\"ww_x_GPS\" href=\"javascript:void(0)\" onclick=\"loadReport(\\'ww_x_GPS=6528944\\');return false;\">Informatique, 1993-1994, Semestre 4</a></td></tr><tr><td><a class=\"ww_x_GPS\" href=\"javascript:void(0)\" onclick=\"loadReport(\\'ww_x_GPS=6528668\\');return false;\">Informatique, 1993-1994, Semestre 5</a></td></tr><tr><td><a class=\"ww_x_GPS\" href=\"javascript:void(0)\" onclick=\"loadReport(\\'ww_x_GPS=6528679\\');return false;\">Informatique, 1993-1994, Semestre 6</a></td></tr><tr><td><a class=\"ww_x_GPS\" href=\"javascript:void(0)\" onclick=\"loadReport(\\'ww_x_GPS=6528409\\');return false;\">Informatique, 1993-1994, Semestre 7</a></td></tr><tr><td><a class=\"ww_x_GPS\" href=\"javascript:void(0)\" onclick=\"loadReport(\\'ww_x_GPS=6528420\\');return false;\">Informatique, 1993-1994, Semestre 8</a></td></tr><tr><td><a class=\"ww_x_GPS\" href=\"javascript:void(0)\" onclick=\"loadReport(\\'ww_x_GPS=6528150\\');return false;\">Informatique, 1993-1994, Semestre 9</a></td></tr><tr><td><a class=\"ww_x_GPS\" href=\"javascript:void(0)\" onclick=\"loadReport(\\'ww_x_GPS=6529740\\');return false;\">Informatique, 1994-1995, Semestre -1</a></td></tr><tr><td><a class=\"ww_x_GPS\" href=\"javascript:void(0)\" onclick=\"loadReport(\\'ww_x_GPS=6529751\\');return false;\">Informatique, 1994-1995, Semestre 0</a></td></tr><tr><td><a class=\"ww_x_GPS\" href=\"javascript:void(0)\" onclick=\"loadReport(\\'ww_x_GPS=6529479\\');return false;\">Informatique, 1994-1995, Semestre 1</a></td></tr><tr><td><a class=\"ww_x_GPS\" href=\"javascript:void(0)\" onclick=\"loadReport(\\'ww_x_GPS=6529490\\');return false;\">Informatique, 1994-1995, Semestre 2</a></td></tr><tr><td><a class=\"ww_x_GPS\" href=\"javascript:void(0)\" onclick=\"loadReport(\\'ww_x_GPS=6529214\\');return false;\">Informatique, 1994-1995, Semestre 3</a></td></tr><tr><td><a class=\"ww_x_GPS\" href=\"javascript:void(0)\" onclick=\"loadReport(\\'ww_x_GPS=6529225\\');return false;\">Informatique, 1994-1995, Semestre 4</a></td></tr><tr><td><a class=\"ww_x_GPS\" href=\"javascript:void(0)\" onclick=\"loadReport(\\'ww_x_GPS=6528955\\');return false;\">Informatique, 1994-1995, Semestre 5</a></td></tr><tr><td><a class=\"ww_x_GPS\" href=\"javascript:void(0)\" onclick=\"loadReport(\\'ww_x_GPS=6528966\\');return false;\">Informatique, 1994-1995, Semestre 6</a></td></tr><tr><td><a class=\"ww_x_GPS\" href=\"javascript:void(0)\" onclick=\"loadReport(\\'ww_x_GPS=6528690\\');return false;\">Informatique, 1994-1995, Semestre 7</a></td></tr><tr><td><a class=\"ww_x_GPS\" href=\"javascript:void(0)\" onclick=\"loadReport(\\'ww_x_GPS=6528701\\');return false;\">Informatique, 1994-1995, Semestre 8</a></td></tr><tr><td><a class=\"ww_x_GPS\" href=\"javascript:void(0)\" onclick=\"loadReport(\\'ww_x_GPS=6528431\\');return false;\">Informatique, 1994-1995, Semestre 9</a></td></tr><tr><td><a class=\"ww_x_GPS\" href=\"javascript:void(0)\" onclick=\"loadReport(\\'ww_x_GPS=6530308\\');return false;\">Informatique, 1995-1996, Semestre -1</a></td></tr><tr><td><a class=\"ww_x_GPS\" href=\"javascript:void(0)\" onclick=\"loadReport(\\'ww_x_GPS=6530319\\');return false;\">Informatique, 1995-1996, Semestre 0</a></td></tr><tr><td><a class=\"ww_x_GPS\" href=\"javascript:void(0)\" onclick=\"loadReport(\\'ww_x_GPS=6529762\\');return false;\">Informatique, 1995-1996, Semestre 1</a></td></tr><tr><td><a class=\"ww_x_GPS\" href=\"javascript:void(0)\" onclick=\"loadReport(\\'ww_x_GPS=6529773\\');return false;\">Informatique, 1995-1996, Semestre 2</a></td></tr><tr><td><a class=\"ww_x_GPS\" href=\"javascript:void(0)\" onclick=\"loadReport(\\'ww_x_GPS=6529501\\');return false;\">Informatique, 1995-1996, Semestre 3</a></td></tr><tr><td><a class=\"ww_x_GPS\" href=\"javascript:void(0)\" onclick=\"loadReport(\\'ww_x_GPS=6529512\\');return false;\">Informatique, 1995-1996, Semestre 4</a></td></tr><tr><td><a class=\"ww_x_GPS\" href=\"javascript:void(0)\" onclick=\"loadReport(\\'ww_x_GPS=6529236\\');return false;\">Informatique, 1995-1996, Semestre 5</a></td></tr><tr><td><a class=\"ww_x_GPS\" href=\"javascript:void(0)\" onclick=\"loadReport(\\'ww_x_GPS=6529247\\');return false;\">Informatique, 1995-1996, Semestre 6</a></td></tr><tr><td><a class=\"ww_x_GPS\" href=\"javascript:void(0)\" onclick=\"loadReport(\\'ww_x_GPS=6528977\\');return false;\">Informatique, 1995-1996, Semestre 7</a></td></tr><tr><td><a class=\"ww_x_GPS\" href=\"javascript:void(0)\" onclick=\"loadReport(\\'ww_x_GPS=6528988\\');return false;\">Informatique, 1995-1996, Semestre 8</a></td></tr><tr><td><a class=\"ww_x_GPS\" href=\"javascript:void(0)\" onclick=\"loadReport(\\'ww_x_GPS=6528712\\');return false;\">Informatique, 1995-1996, Semestre 9</a></td></tr><tr><td><a class=\"ww_x_GPS\" href=\"javascript:void(0)\" onclick=\"loadReport(\\'ww_x_GPS=6530589\\');return false;\">Informatique, 1996-1997, Semestre -1</a></td></tr><tr><td><a class=\"ww_x_GPS\" href=\"javascript:void(0)\" onclick=\"loadReport(\\'ww_x_GPS=6530600\\');return false;\">Informatique, 1996-1997, Semestre 0</a></td></tr><tr><td><a class=\"ww_x_GPS\" href=\"javascript:void(0)\" onclick=\"loadReport(\\'ww_x_GPS=6530330\\');return false;\">Informatique, 1996-1997, Semestre 1</a></td></tr><tr><td><a class=\"ww_x_GPS\" href=\"javascript:void(0)\" onclick=\"loadReport(\\'ww_x_GPS=6530341\\');return false;\">Informatique, 1996-1997, Semestre 2</a></td></tr><tr><td><a class=\"ww_x_GPS\" href=\"javascript:void(0)\" onclick=\"loadReport(\\'ww_x_GPS=6529784\\');return false;\">Informatique, 1996-1997, Semestre 3</a></td></tr><tr><td><a class=\"ww_x_GPS\" href=\"javascript:void(0)\" onclick=\"loadReport(\\'ww_x_GPS=6529795\\');return false;\">Informatique, 1996-1997, Semestre 4</a></td></tr><tr><td><a class=\"ww_x_GPS\" href=\"javascript:void(0)\" onclick=\"loadReport(\\'ww_x_GPS=6529523\\');return false;\">Informatique, 1996-1997, Semestre 5</a></td></tr><tr><td><a class=\"ww_x_GPS\" href=\"javascript:void(0)\" onclick=\"loadReport(\\'ww_x_GPS=6529534\\');return false;\">Informatique, 1996-1997, Semestre 6</a></td></tr><tr><td><a class=\"ww_x_GPS\" href=\"javascript:void(0)\" onclick=\"loadReport(\\'ww_x_GPS=6529258\\');return false;\">Informatique, 1996-1997, Semestre 7</a></td></tr><tr><td><a class=\"ww_x_GPS\" href=\"javascript:void(0)\" onclick=\"loadReport(\\'ww_x_GPS=6529269\\');return false;\">Informatique, 1996-1997, Semestre 8</a></td></tr><tr><td><a class=\"ww_x_GPS\" href=\"javascript:void(0)\" onclick=\"loadReport(\\'ww_x_GPS=6528999\\');return false;\">Informatique, 1996-1997, Semestre 9</a></td></tr><tr><td><a class=\"ww_x_GPS\" href=\"javascript:void(0)\" onclick=\"loadReport(\\'ww_x_GPS=6530870\\');return false;\">Informatique, 1997-1998, Semestre -1</a></td></tr><tr><td><a class=\"ww_x_GPS\" href=\"javascript:void(0)\" onclick=\"loadReport(\\'ww_x_GPS=6530881\\');return false;\">Informatique, 1997-1998, Semestre 0</a></td></tr><tr><td><a class=\"ww_x_GPS\" href=\"javascript:void(0)\" onclick=\"loadReport(\\'ww_x_GPS=6530611\\');return false;\">Informatique, 1997-1998, Semestre 1</a></td></tr><tr><td><a class=\"ww_x_GPS\" href=\"javascript:void(0)\" onclick=\"loadReport(\\'ww_x_GPS=6530622\\');return false;\">Informatique, 1997-1998, Semestre 2</a></td></tr><tr><td><a class=\"ww_x_GPS\" href=\"javascript:void(0)\" onclick=\"loadReport(\\'ww_x_GPS=6530352\\');return false;\">Informatique, 1997-1998, Semestre 3</a></td></tr><tr><td><a class=\"ww_x_GPS\" href=\"javascript:void(0)\" onclick=\"loadReport(\\'ww_x_GPS=6530363\\');return false;\">Informatique, 1997-1998, Semestre 4</a></td></tr><tr><td><a class=\"ww_x_GPS\" href=\"javascript:void(0)\" onclick=\"loadReport(\\'ww_x_GPS=6529806\\');return false;\">Informatique, 1997-1998, Semestre 5</a></td></tr><tr><td><a class=\"ww_x_GPS\" href=\"javascript:void(0)\" onclick=\"loadReport(\\'ww_x_GPS=6529817\\');return false;\">Informatique, 1997-1998, Semestre 6</a></td></tr><tr><td><a class=\"ww_x_GPS\" href=\"javascript:void(0)\" onclick=\"loadReport(\\'ww_x_GPS=6529545\\');return false;\">Informatique, 1997-1998, Semestre 7</a></td></tr><tr><td><a class=\"ww_x_GPS\" href=\"javascript:void(0)\" onclick=\"loadReport(\\'ww_x_GPS=6529556\\');return false;\">Informatique, 1997-1998, Semestre 8</a></td></tr><tr><td><a class=\"ww_x_GPS\" href=\"javascript:void(0)\" onclick=\"loadReport(\\'ww_x_GPS=6529280\\');return false;\">Informatique, 1997-1998, Semestre 9</a></td></tr><tr><td><a class=\"ww_x_GPS\" href=\"javascript:void(0)\" onclick=\"loadReport(\\'ww_x_GPS=6531151\\');return false;\">Informatique, 1998-1999, Semestre -1</a></td></tr><tr><td><a class=\"ww_x_GPS\" href=\"javascript:void(0)\" onclick=\"loadReport(\\'ww_x_GPS=6531162\\');return false;\">Informatique, 1998-1999, Semestre 0</a></td></tr><tr><td><a class=\"ww_x_GPS\" href=\"javascript:void(0)\" onclick=\"loadReport(\\'ww_x_GPS=6530892\\');return false;\">Informatique, 1998-1999, Semestre 1</a></td></tr><tr><td><a class=\"ww_x_GPS\" href=\"javascript:void(0)\" onclick=\"loadReport(\\'ww_x_GPS=6530903\\');return false;\">Informatique, 1998-1999, Semestre 2</a></td></tr><tr><td><a class=\"ww_x_GPS\" href=\"javascript:void(0)\" onclick=\"loadReport(\\'ww_x_GPS=6530633\\');return false;\">Informatique, 1998-1999, Semestre 3</a></td></tr><tr><td><a class=\"ww_x_GPS\" href=\"javascript:void(0)\" onclick=\"loadReport(\\'ww_x_GPS=6530644\\');return false;\">Informatique, 1998-1999, Semestre 4</a></td></tr><tr><td><a class=\"ww_x_GPS\" href=\"javascript:void(0)\" onclick=\"loadReport(\\'ww_x_GPS=6530374\\');return false;\">Informatique, 1998-1999, Semestre 5</a></td></tr><tr><td><a class=\"ww_x_GPS\" href=\"javascript:void(0)\" onclick=\"loadReport(\\'ww_x_GPS=6530385\\');return false;\">Informatique, 1998-1999, Semestre 6</a></td></tr><tr><td><a class=\"ww_x_GPS\" href=\"javascript:void(0)\" onclick=\"loadReport(\\'ww_x_GPS=6529828\\');return false;\">Informatique, 1998-1999, Semestre 7</a></td></tr><tr><td><a class=\"ww_x_GPS\" href=\"javascript:void(0)\" onclick=\"loadReport(\\'ww_x_GPS=6529839\\');return false;\">Informatique, 1998-1999, Semestre 8</a></td></tr><tr><td><a class=\"ww_x_GPS\" href=\"javascript:void(0)\" onclick=\"loadReport(\\'ww_x_GPS=6529567\\');return false;\">Informatique, 1998-1999, Semestre 9</a></td></tr><tr><td><a class=\"ww_x_GPS\" href=\"javascript:void(0)\" onclick=\"loadReport(\\'ww_x_GPS=6405006\\');return false;\">Informatique, 1999-2000, Semestre -1</a></td></tr><tr><td><a class=\"ww_x_GPS\" href=\"javascript:void(0)\" onclick=\"loadReport(\\'ww_x_GPS=6405017\\');return false;\">Informatique, 1999-2000, Semestre 0</a></td></tr><tr><td><a class=\"ww_x_GPS\" href=\"javascript:void(0)\" onclick=\"loadReport(\\'ww_x_GPS=6531173\\');return false;\">Informatique, 1999-2000, Semestre 1</a></td></tr><tr><td><a class=\"ww_x_GPS\" href=\"javascript:void(0)\" onclick=\"loadReport(\\'ww_x_GPS=6531184\\');return false;\">Informatique, 1999-2000, Semestre 2</a></td></tr><tr><td><a class=\"ww_x_GPS\" href=\"javascript:void(0)\" onclick=\"loadReport(\\'ww_x_GPS=6530914\\');return false;\">Informatique, 1999-2000, Semestre 3</a></td></tr><tr><td><a class=\"ww_x_GPS\" href=\"javascript:void(0)\" onclick=\"loadReport(\\'ww_x_GPS=6530925\\');return false;\">Informatique, 1999-2000, Semestre 4</a></td></tr><tr><td><a class=\"ww_x_GPS\" href=\"javascript:void(0)\" onclick=\"loadReport(\\'ww_x_GPS=6530655\\');return false;\">Informatique, 1999-2000, Semestre 5</a></td></tr><tr><td><a class=\"ww_x_GPS\" href=\"javascript:void(0)\" onclick=\"loadReport(\\'ww_x_GPS=6530666\\');return false;\">Informatique, 1999-2000, Semestre 6</a></td></tr><tr><td><a class=\"ww_x_GPS\" href=\"javascript:void(0)\" onclick=\"loadReport(\\'ww_x_GPS=6530396\\');return false;\">Informatique, 1999-2000, Semestre 7</a></td></tr><tr><td><a class=\"ww_x_GPS\" href=\"javascript:void(0)\" onclick=\"loadReport(\\'ww_x_GPS=6530407\\');return false;\">Informatique, 1999-2000, Semestre 8</a></td></tr><tr><td><a class=\"ww_x_GPS\" href=\"javascript:void(0)\" onclick=\"loadReport(\\'ww_x_GPS=6529850\\');return false;\">Informatique, 1999-2000, Semestre 9</a></td></tr><tr><td><a class=\"ww_x_GPS\" href=\"javascript:void(0)\" onclick=\"loadReport(\\'ww_x_GPS=6405838\\');return false;\">Informatique, 2000-2001, Semestre -1</a></td></tr><tr><td><a class=\"ww_x_GPS\" href=\"javascript:void(0)\" onclick=\"loadReport(\\'ww_x_GPS=6405849\\');return false;\">Informatique, 2000-2001, Semestre 0</a></td></tr><tr><td><a class=\"ww_x_GPS\" href=\"javascript:void(0)\" onclick=\"loadReport(\\'ww_x_GPS=6405028\\');return false;\">Informatique, 2000-2001, Semestre 1</a></td></tr><tr><td><a class=\"ww_x_GPS\" href=\"javascript:void(0)\" onclick=\"loadReport(\\'ww_x_GPS=6405039\\');return false;\">Informatique, 2000-2001, Semestre 2</a></td></tr><tr><td><a class=\"ww_x_GPS\" href=\"javascript:void(0)\" onclick=\"loadReport(\\'ww_x_GPS=6531195\\');return false;\">Informatique, 2000-2001, Semestre 3</a></td></tr><tr><td><a class=\"ww_x_GPS\" href=\"javascript:void(0)\" onclick=\"loadReport(\\'ww_x_GPS=6531206\\');return false;\">Informatique, 2000-2001, Semestre 4</a></td></tr><tr><td><a class=\"ww_x_GPS\" href=\"javascript:void(0)\" onclick=\"loadReport(\\'ww_x_GPS=6530936\\');return false;\">Informatique, 2000-2001, Semestre 5</a></td></tr><tr><td><a class=\"ww_x_GPS\" href=\"javascript:void(0)\" onclick=\"loadReport(\\'ww_x_GPS=6530947\\');return false;\">Informatique, 2000-2001, Semestre 6</a></td></tr><tr><td><a class=\"ww_x_GPS\" href=\"javascript:void(0)\" onclick=\"loadReport(\\'ww_x_GPS=6530677\\');return false;\">Informatique, 2000-2001, Semestre 7</a></td></tr><tr><td><a class=\"ww_x_GPS\" href=\"javascript:void(0)\" onclick=\"loadReport(\\'ww_x_GPS=6530688\\');return false;\">Informatique, 2000-2001, Semestre 8</a></td></tr><tr><td><a class=\"ww_x_GPS\" href=\"javascript:void(0)\" onclick=\"loadReport(\\'ww_x_GPS=6530418\\');return false;\">Informatique, 2000-2001, Semestre 9</a></td></tr><tr><td><a class=\"ww_x_GPS\" href=\"javascript:void(0)\" onclick=\"loadReport(\\'ww_x_GPS=6406637\\');return false;\">Informatique, 2001-2002, Semestre -1</a></td></tr><tr><td><a class=\"ww_x_GPS\" href=\"javascript:void(0)\" onclick=\"loadReport(\\'ww_x_GPS=6406648\\');return false;\">Informatique, 2001-2002, Semestre 0</a></td></tr><tr><td><a class=\"ww_x_GPS\" href=\"javascript:void(0)\" onclick=\"loadReport(\\'ww_x_GPS=6405860\\');return false;\">Informatique, 2001-2002, Semestre 1</a></td></tr><tr><td><a class=\"ww_x_GPS\" href=\"javascript:void(0)\" onclick=\"loadReport(\\'ww_x_GPS=6405871\\');return false;\">Informatique, 2001-2002, Semestre 2</a></td></tr><tr><td><a class=\"ww_x_GPS\" href=\"javascript:void(0)\" onclick=\"loadReport(\\'ww_x_GPS=6405050\\');return false;\">Informatique, 2001-2002, Semestre 3</a></td></tr><tr><td><a class=\"ww_x_GPS\" href=\"javascript:void(0)\" onclick=\"loadReport(\\'ww_x_GPS=6405061\\');return false;\">Informatique, 2001-2002, Semestre 4</a></td></tr><tr><td><a class=\"ww_x_GPS\" href=\"javascript:void(0)\" onclick=\"loadReport(\\'ww_x_GPS=6531217\\');return false;\">Informatique, 2001-2002, Semestre 5</a></td></tr><tr><td><a class=\"ww_x_GPS\" href=\"javascript:void(0)\" onclick=\"loadReport(\\'ww_x_GPS=6531228\\');return false;\">Informatique, 2001-2002, Semestre 6</a></td></tr><tr><td><a class=\"ww_x_GPS\" href=\"javascript:void(0)\" onclick=\"loadReport(\\'ww_x_GPS=6530958\\');return false;\">Informatique, 2001-2002, Semestre 7</a></td></tr><tr><td><a class=\"ww_x_GPS\" href=\"javascript:void(0)\" onclick=\"loadReport(\\'ww_x_GPS=6530969\\');return false;\">Informatique, 2001-2002, Semestre 8</a></td></tr><tr><td><a class=\"ww_x_GPS\" href=\"javascript:void(0)\" onclick=\"loadReport(\\'ww_x_GPS=6530699\\');return false;\">Informatique, 2001-2002, Semestre 9</a></td></tr><tr><td><a class=\"ww_x_GPS\" href=\"javascript:void(0)\" onclick=\"loadReport(\\'ww_x_GPS=6407228\\');return false;\">Informatique, 2002-2003, Semestre -1</a></td></tr><tr><td><a class=\"ww_x_GPS\" href=\"javascript:void(0)\" onclick=\"loadReport(\\'ww_x_GPS=6407239\\');return false;\">Informatique, 2002-2003, Semestre 0</a></td></tr><tr><td><a class=\"ww_x_GPS\" href=\"javascript:void(0)\" onclick=\"loadReport(\\'ww_x_GPS=6406659\\');return false;\">Informatique, 2002-2003, Semestre 1</a></td></tr><tr><td><a class=\"ww_x_GPS\" href=\"javascript:void(0)\" onclick=\"loadReport(\\'ww_x_GPS=6406670\\');return false;\">Informatique, 2002-2003, Semestre 2</a></td></tr><tr><td><a class=\"ww_x_GPS\" href=\"javascript:void(0)\" onclick=\"loadReport(\\'ww_x_GPS=6405882\\');return false;\">Informatique, 2002-2003, Semestre 3</a></td></tr><tr><td><a class=\"ww_x_GPS\" href=\"javascript:void(0)\" onclick=\"loadReport(\\'ww_x_GPS=6405893\\');return false;\">Informatique, 2002-2003, Semestre 4</a></td></tr><tr><td><a class=\"ww_x_GPS\" href=\"javascript:void(0)\" onclick=\"loadReport(\\'ww_x_GPS=2224960\\');return false;\">Informatique, 2002-2003, Semestre 5</a></td></tr><tr><td><a class=\"ww_x_GPS\" href=\"javascript:void(0)\" onclick=\"loadReport(\\'ww_x_GPS=2224973\\');return false;\">Informatique, 2002-2003, Semestre 6</a></td></tr><tr><td><a class=\"ww_x_GPS\" href=\"javascript:void(0)\" onclick=\"loadReport(\\'ww_x_GPS=6531239\\');return false;\">Informatique, 2002-2003, Semestre 7</a></td></tr><tr><td><a class=\"ww_x_GPS\" href=\"javascript:void(0)\" onclick=\"loadReport(\\'ww_x_GPS=6531250\\');return false;\">Informatique, 2002-2003, Semestre 8</a></td></tr><tr><td><a class=\"ww_x_GPS\" href=\"javascript:void(0)\" onclick=\"loadReport(\\'ww_x_GPS=6530980\\');return false;\">Informatique, 2002-2003, Semestre 9</a></td></tr><tr><td><a class=\"ww_x_GPS\" href=\"javascript:void(0)\" onclick=\"loadReport(\\'ww_x_GPS=6547488\\');return false;\">Informatique, 2003-2004, Semestre -1</a></td></tr><tr><td><a class=\"ww_x_GPS\" href=\"javascript:void(0)\" onclick=\"loadReport(\\'ww_x_GPS=6547499\\');return false;\">Informatique, 2003-2004, Semestre 0</a></td></tr><tr><td><a class=\"ww_x_GPS\" href=\"javascript:void(0)\" onclick=\"loadReport(\\'ww_x_GPS=2225172\\');return false;\">Informatique, 2003-2004, Semestre 1</a></td></tr><tr><td><a class=\"ww_x_GPS\" href=\"javascript:void(0)\" onclick=\"loadReport(\\'ww_x_GPS=2225185\\');return false;\">Informatique, 2003-2004, Semestre 2</a></td></tr><tr><td><a class=\"ww_x_GPS\" href=\"javascript:void(0)\" onclick=\"loadReport(\\'ww_x_GPS=2225111\\');return false;\">Informatique, 2003-2004, Semestre 3</a></td></tr><tr><td><a class=\"ww_x_GPS\" href=\"javascript:void(0)\" onclick=\"loadReport(\\'ww_x_GPS=2225124\\');return false;\">Informatique, 2003-2004, Semestre 4</a></td></tr><tr><td><a class=\"ww_x_GPS\" href=\"javascript:void(0)\" onclick=\"loadReport(\\'ww_x_GPS=2225036\\');return false;\">Informatique, 2003-2004, Semestre 5</a></td></tr><tr><td><a class=\"ww_x_GPS\" href=\"javascript:void(0)\" onclick=\"loadReport(\\'ww_x_GPS=2225051\\');return false;\">Informatique, 2003-2004, Semestre 6</a></td></tr><tr><td><a class=\"ww_x_GPS\" href=\"javascript:void(0)\" onclick=\"loadReport(\\'ww_x_GPS=2224986\\');return false;\">Informatique, 2003-2004, Semestre 7</a></td></tr><tr><td><a class=\"ww_x_GPS\" href=\"javascript:void(0)\" onclick=\"loadReport(\\'ww_x_GPS=2224999\\');return false;\">Informatique, 2003-2004, Semestre 8</a></td></tr><tr><td><a class=\"ww_x_GPS\" href=\"javascript:void(0)\" onclick=\"loadReport(\\'ww_x_GPS=6531261\\');return false;\">Informatique, 2003-2004, Semestre 9</a></td></tr><tr><td><a class=\"ww_x_GPS\" href=\"javascript:void(0)\" onclick=\"loadReport(\\'ww_x_GPS=2225262\\');return false;\">Informatique, 2004-2005, Bachelor semestre 1</a></td></tr><tr><td><a class=\"ww_x_GPS\" href=\"javascript:void(0)\" onclick=\"loadReport(\\'ww_x_GPS=2225272\\');return false;\">Informatique, 2004-2005, Bachelor semestre 2</a></td></tr><tr><td><a class=\"ww_x_GPS\" href=\"javascript:void(0)\" onclick=\"loadReport(\\'ww_x_GPS=2225198\\');return false;\">Informatique, 2004-2005, Bachelor semestre 3</a></td></tr><tr><td><a class=\"ww_x_GPS\" href=\"javascript:void(0)\" onclick=\"loadReport(\\'ww_x_GPS=2225211\\');return false;\">Informatique, 2004-2005, Bachelor semestre 4</a></td></tr><tr><td><a class=\"ww_x_GPS\" href=\"javascript:void(0)\" onclick=\"loadReport(\\'ww_x_GPS=2225137\\');return false;\">Informatique, 2004-2005, Bachelor semestre 5</a></td></tr><tr><td><a class=\"ww_x_GPS\" href=\"javascript:void(0)\" onclick=\"loadReport(\\'ww_x_GPS=2225150\\');return false;\">Informatique, 2004-2005, Bachelor semestre 6</a></td></tr><tr><td><a class=\"ww_x_GPS\" href=\"javascript:void(0)\" onclick=\"loadReport(\\'ww_x_GPS=2225064\\');return false;\">Informatique, 2004-2005, Master semestre 1</a></td></tr><tr><td><a class=\"ww_x_GPS\" href=\"javascript:void(0)\" onclick=\"loadReport(\\'ww_x_GPS=2225077\\');return false;\">Informatique, 2004-2005, Master semestre 2</a></td></tr><tr><td><a class=\"ww_x_GPS\" href=\"javascript:void(0)\" onclick=\"loadReport(\\'ww_x_GPS=2225012\\');return false;\">Informatique, 2004-2005, Projet Master automne</a></td></tr><tr><td><a class=\"ww_x_GPS\" href=\"javascript:void(0)\" onclick=\"loadReport(\\'ww_x_GPS=4703743\\');return false;\">Informatique, 2004-2005, Projet Master printemps</a></td></tr><tr><td><a class=\"ww_x_GPS\" href=\"javascript:void(0)\" onclick=\"loadReport(\\'ww_x_GPS=15165772\\');return false;\">Informatique, 2004-2005, Stage printemps master</a></td></tr><tr><td><a class=\"ww_x_GPS\" href=\"javascript:void(0)\" onclick=\"loadReport(\\'ww_x_GPS=19565639\\');return false;\">Informatique, 2005-2006, Admission automne</a></td></tr><tr><td><a class=\"ww_x_GPS\" href=\"javascript:void(0)\" onclick=\"loadReport(\\'ww_x_GPS=31160788\\');return false;\">Informatique, 2005-2006, Admission printemps</a></td></tr><tr><td><a class=\"ww_x_GPS\" href=\"javascript:void(0)\" onclick=\"loadReport(\\'ww_x_GPS=19561917\\');return false;\">Informatique, 2005-2006, Bachelor semestre 1</a></td></tr><tr><td><a class=\"ww_x_GPS\" href=\"javascript:void(0)\" onclick=\"loadReport(\\'ww_x_GPS=19561931\\');return false;\">Informatique, 2005-2006, Bachelor semestre 2</a></td></tr><tr><td><a class=\"ww_x_GPS\" href=\"javascript:void(0)\" onclick=\"loadReport(\\'ww_x_GPS=2225282\\');return false;\">Informatique, 2005-2006, Bachelor semestre 3</a></td></tr><tr><td><a class=\"ww_x_GPS\" href=\"javascript:void(0)\" onclick=\"loadReport(\\'ww_x_GPS=2225296\\');return false;\">Informatique, 2005-2006, Bachelor semestre 4</a></td></tr><tr><td><a class=\"ww_x_GPS\" href=\"javascript:void(0)\" onclick=\"loadReport(\\'ww_x_GPS=2225224\\');return false;\">Informatique, 2005-2006, Bachelor semestre 5</a></td></tr><tr><td><a class=\"ww_x_GPS\" href=\"javascript:void(0)\" onclick=\"loadReport(\\'ww_x_GPS=2225237\\');return false;\">Informatique, 2005-2006, Bachelor semestre 6</a></td></tr><tr><td><a class=\"ww_x_GPS\" href=\"javascript:void(0)\" onclick=\"loadReport(\\'ww_x_GPS=38314014\\');return false;\">Informatique, 2005-2006, Evaluation automne</a></td></tr><tr><td><a class=\"ww_x_GPS\" href=\"javascript:void(0)\" onclick=\"loadReport(\\'ww_x_GPS=38314031\\');return false;\">Informatique, 2005-2006, Evaluation printemps</a></td></tr><tr><td><a class=\"ww_x_GPS\" href=\"javascript:void(0)\" onclick=\"loadReport(\\'ww_x_GPS=15166220\\');return false;\">Informatique, 2005-2006, Master semestre 1</a></td></tr><tr><td><a class=\"ww_x_GPS\" href=\"javascript:void(0)\" onclick=\"loadReport(\\'ww_x_GPS=15166235\\');return false;\">Informatique, 2005-2006, Master semestre 2</a></td></tr><tr><td><a class=\"ww_x_GPS\" href=\"javascript:void(0)\" onclick=\"loadReport(\\'ww_x_GPS=24494400\\');return false;\">Informatique, 2005-2006, Master semestre 3</a></td></tr><tr><td><a class=\"ww_x_GPS\" href=\"javascript:void(0)\" onclick=\"loadReport(\\'ww_x_GPS=40013352\\');return false;\">Informatique, 2005-2006, Master semestre 4</a></td></tr><tr><td><a class=\"ww_x_GPS\" href=\"javascript:void(0)\" onclick=\"loadReport(\\'ww_x_GPS=24456068\\');return false;\">Informatique, 2005-2006, Projet Master automne</a></td></tr><tr><td><a class=\"ww_x_GPS\" href=\"javascript:void(0)\" onclick=\"loadReport(\\'ww_x_GPS=24494429\\');return false;\">Informatique, 2005-2006, Projet Master printemps</a></td></tr><tr><td><a class=\"ww_x_GPS\" href=\"javascript:void(0)\" onclick=\"loadReport(\\'ww_x_GPS=15166250\\');return false;\">Informatique, 2005-2006, Stage printemps master</a></td></tr><tr><td><a class=\"ww_x_GPS\" href=\"javascript:void(0)\" onclick=\"loadReport(\\'ww_x_GPS=39494249\\');return false;\">Informatique, 2006-2007, Admission automne</a></td></tr><tr><td><a class=\"ww_x_GPS\" href=\"javascript:void(0)\" onclick=\"loadReport(\\'ww_x_GPS=39494263\\');return false;\">Informatique, 2006-2007, Admission printemps</a></td></tr><tr><td><a class=\"ww_x_GPS\" href=\"javascript:void(0)\" onclick=\"loadReport(\\'ww_x_GPS=39494727\\');return false;\">Informatique, 2006-2007, Bachelor semestre 1</a></td></tr><tr><td><a class=\"ww_x_GPS\" href=\"javascript:void(0)\" onclick=\"loadReport(\\'ww_x_GPS=39494749\\');return false;\">Informatique, 2006-2007, Bachelor semestre 2</a></td></tr><tr><td><a class=\"ww_x_GPS\" href=\"javascript:void(0)\" onclick=\"loadReport(\\'ww_x_GPS=19561944\\');return false;\">Informatique, 2006-2007, Bachelor semestre 3</a></td></tr><tr><td><a class=\"ww_x_GPS\" href=\"javascript:void(0)\" onclick=\"loadReport(\\'ww_x_GPS=19561962\\');return false;\">Informatique, 2006-2007, Bachelor semestre 4</a></td></tr><tr><td><a class=\"ww_x_GPS\" href=\"javascript:void(0)\" onclick=\"loadReport(\\'ww_x_GPS=2225310\\');return false;\">Informatique, 2006-2007, Bachelor semestre 5</a></td></tr><tr><td><a class=\"ww_x_GPS\" href=\"javascript:void(0)\" onclick=\"loadReport(\\'ww_x_GPS=2225324\\');return false;\">Informatique, 2006-2007, Bachelor semestre 6</a></td></tr><tr><td><a class=\"ww_x_GPS\" href=\"javascript:void(0)\" onclick=\"loadReport(\\'ww_x_GPS=39495338\\');return false;\">Informatique, 2006-2007, Master semestre 1</a></td></tr><tr><td><a class=\"ww_x_GPS\" href=\"javascript:void(0)\" onclick=\"loadReport(\\'ww_x_GPS=39495361\\');return false;\">Informatique, 2006-2007, Master semestre 2</a></td></tr><tr><td><a class=\"ww_x_GPS\" href=\"javascript:void(0)\" onclick=\"loadReport(\\'ww_x_GPS=24494457\\');return false;\">Informatique, 2006-2007, Master semestre 3</a></td></tr><tr><td><a class=\"ww_x_GPS\" href=\"javascript:void(0)\" onclick=\"loadReport(\\'ww_x_GPS=24494351\\');return false;\">Informatique, 2006-2007, Projet Master automne</a></td></tr><tr><td><a class=\"ww_x_GPS\" href=\"javascript:void(0)\" onclick=\"loadReport(\\'ww_x_GPS=24494480\\');return false;\">Informatique, 2006-2007, Projet Master printemps</a></td></tr><tr><td><a class=\"ww_x_GPS\" href=\"javascript:void(0)\" onclick=\"loadReport(\\'ww_x_GPS=39495404\\');return false;\">Informatique, 2006-2007, Stage printemps master</a></td></tr><tr><td><a class=\"ww_x_GPS\" href=\"javascript:void(0)\" onclick=\"loadReport(\\'ww_x_GPS=71454860\\');return false;\">Informatique, 2007-2008, Admission automne</a></td></tr><tr><td><a class=\"ww_x_GPS\" href=\"javascript:void(0)\" onclick=\"loadReport(\\'ww_x_GPS=71454877\\');return false;\">Informatique, 2007-2008, Admission printemps</a></td></tr><tr><td><a class=\"ww_x_GPS\" href=\"javascript:void(0)\" onclick=\"loadReport(\\'ww_x_GPS=71297531\\');return false;\">Informatique, 2007-2008, Bachelor semestre 1</a></td></tr><tr><td><a class=\"ww_x_GPS\" href=\"javascript:void(0)\" onclick=\"loadReport(\\'ww_x_GPS=71297550\\');return false;\">Informatique, 2007-2008, Bachelor semestre 2</a></td></tr><tr><td><a class=\"ww_x_GPS\" href=\"javascript:void(0)\" onclick=\"loadReport(\\'ww_x_GPS=39494788\\');return false;\">Informatique, 2007-2008, Bachelor semestre 3</a></td></tr><tr><td><a class=\"ww_x_GPS\" href=\"javascript:void(0)\" onclick=\"loadReport(\\'ww_x_GPS=39494823\\');return false;\">Informatique, 2007-2008, Bachelor semestre 4</a></td></tr><tr><td><a class=\"ww_x_GPS\" href=\"javascript:void(0)\" onclick=\"loadReport(\\'ww_x_GPS=19561980\\');return false;\">Informatique, 2007-2008, Bachelor semestre 5</a></td></tr><tr><td><a class=\"ww_x_GPS\" href=\"javascript:void(0)\" onclick=\"loadReport(\\'ww_x_GPS=19561998\\');return false;\">Informatique, 2007-2008, Bachelor semestre 6</a></td></tr><tr><td><a class=\"ww_x_GPS\" href=\"javascript:void(0)\" onclick=\"loadReport(\\'ww_x_GPS=71450699\\');return false;\">Informatique, 2007-2008, Master semestre 1</a></td></tr><tr><td><a class=\"ww_x_GPS\" href=\"javascript:void(0)\" onclick=\"loadReport(\\'ww_x_GPS=71450725\\');return false;\">Informatique, 2007-2008, Master semestre 2</a></td></tr><tr><td><a class=\"ww_x_GPS\" href=\"javascript:void(0)\" onclick=\"loadReport(\\'ww_x_GPS=39495424\\');return false;\">Informatique, 2007-2008, Master semestre 3</a></td></tr><tr><td><a class=\"ww_x_GPS\" href=\"javascript:void(0)\" onclick=\"loadReport(\\'ww_x_GPS=39495382\\');return false;\">Informatique, 2007-2008, Projet Master automne</a></td></tr><tr><td><a class=\"ww_x_GPS\" href=\"javascript:void(0)\" onclick=\"loadReport(\\'ww_x_GPS=39495444\\');return false;\">Informatique, 2007-2008, Projet Master printemps</a></td></tr><tr><td><a class=\"ww_x_GPS\" href=\"javascript:void(0)\" onclick=\"loadReport(\\'ww_x_GPS=109688019\\');return false;\">Informatique, 2008-2009, Admission automne</a></td></tr><tr><td><a class=\"ww_x_GPS\" href=\"javascript:void(0)\" onclick=\"loadReport(\\'ww_x_GPS=109688039\\');return false;\">Informatique, 2008-2009, Admission printemps</a></td></tr><tr><td><a class=\"ww_x_GPS\" href=\"javascript:void(0)\" onclick=\"loadReport(\\'ww_x_GPS=109576936\\');return false;\">Informatique, 2008-2009, Bachelor semestre 1</a></td></tr><tr><td><a class=\"ww_x_GPS\" href=\"javascript:void(0)\" onclick=\"loadReport(\\'ww_x_GPS=109576955\\');return false;\">Informatique, 2008-2009, Bachelor semestre 2</a></td></tr><tr><td><a class=\"ww_x_GPS\" href=\"javascript:void(0)\" onclick=\"loadReport(\\'ww_x_GPS=71297569\\');return false;\">Informatique, 2008-2009, Bachelor semestre 3</a></td></tr><tr><td><a class=\"ww_x_GPS\" href=\"javascript:void(0)\" onclick=\"loadReport(\\'ww_x_GPS=71297587\\');return false;\">Informatique, 2008-2009, Bachelor semestre 4</a></td></tr><tr><td><a class=\"ww_x_GPS\" href=\"javascript:void(0)\" onclick=\"loadReport(\\'ww_x_GPS=39494874\\');return false;\">Informatique, 2008-2009, Bachelor semestre 5</a></td></tr><tr><td><a class=\"ww_x_GPS\" href=\"javascript:void(0)\" onclick=\"loadReport(\\'ww_x_GPS=39494897\\');return false;\">Informatique, 2008-2009, Bachelor semestre 6</a></td></tr><tr><td><a class=\"ww_x_GPS\" href=\"javascript:void(0)\" onclick=\"loadReport(\\'ww_x_GPS=109592281\\');return false;\">Informatique, 2008-2009, Master semestre 1</a></td></tr><tr><td><a class=\"ww_x_GPS\" href=\"javascript:void(0)\" onclick=\"loadReport(\\'ww_x_GPS=109592309\\');return false;\">Informatique, 2008-2009, Master semestre 2</a></td></tr><tr><td><a class=\"ww_x_GPS\" href=\"javascript:void(0)\" onclick=\"loadReport(\\'ww_x_GPS=82157231\\');return false;\">Informatique, 2008-2009, Master semestre 3</a></td></tr><tr><td><a class=\"ww_x_GPS\" href=\"javascript:void(0)\" onclick=\"loadReport(\\'ww_x_GPS=71450749\\');return false;\">Informatique, 2008-2009, Projet Master automne</a></td></tr><tr><td><a class=\"ww_x_GPS\" href=\"javascript:void(0)\" onclick=\"loadReport(\\'ww_x_GPS=82157266\\');return false;\">Informatique, 2008-2009, Projet Master printemps</a></td></tr><tr><td><a class=\"ww_x_GPS\" href=\"javascript:void(0)\" onclick=\"loadReport(\\'ww_x_GPS=225815324\\');return false;\">Informatique, 2009-2010, Admission automne</a></td></tr><tr><td><a class=\"ww_x_GPS\" href=\"javascript:void(0)\" onclick=\"loadReport(\\'ww_x_GPS=225815341\\');return false;\">Informatique, 2009-2010, Admission printemps</a></td></tr><tr><td><a class=\"ww_x_GPS\" href=\"javascript:void(0)\" onclick=\"loadReport(\\'ww_x_GPS=213617925\\');return false;\">Informatique, 2009-2010, Bachelor semestre 1</a></td></tr><tr><td><a class=\"ww_x_GPS\" href=\"javascript:void(0)\" onclick=\"loadReport(\\'ww_x_GPS=213617944\\');return false;\">Informatique, 2009-2010, Bachelor semestre 2</a></td></tr><tr><td><a class=\"ww_x_GPS\" href=\"javascript:void(0)\" onclick=\"loadReport(\\'ww_x_GPS=109576974\\');return false;\">Informatique, 2009-2010, Bachelor semestre 3</a></td></tr><tr><td><a class=\"ww_x_GPS\" href=\"javascript:void(0)\" onclick=\"loadReport(\\'ww_x_GPS=109576992\\');return false;\">Informatique, 2009-2010, Bachelor semestre 4</a></td></tr><tr><td><a class=\"ww_x_GPS\" href=\"javascript:void(0)\" onclick=\"loadReport(\\'ww_x_GPS=71297605\\');return false;\">Informatique, 2009-2010, Bachelor semestre 5</a></td></tr><tr><td><a class=\"ww_x_GPS\" href=\"javascript:void(0)\" onclick=\"loadReport(\\'ww_x_GPS=71297626\\');return false;\">Informatique, 2009-2010, Bachelor semestre 6</a></td></tr><tr><td><a class=\"ww_x_GPS\" href=\"javascript:void(0)\" onclick=\"loadReport(\\'ww_x_GPS=213629838\\');return false;\">Informatique, 2009-2010, Master semestre 1</a></td></tr><tr><td><a class=\"ww_x_GPS\" href=\"javascript:void(0)\" onclick=\"loadReport(\\'ww_x_GPS=213629869\\');return false;\">Informatique, 2009-2010, Master semestre 2</a></td></tr><tr><td><a class=\"ww_x_GPS\" href=\"javascript:void(0)\" onclick=\"loadReport(\\'ww_x_GPS=109592375\\');return false;\">Informatique, 2009-2010, Master semestre 3</a></td></tr><tr><td><a class=\"ww_x_GPS\" href=\"javascript:void(0)\" onclick=\"loadReport(\\'ww_x_GPS=109592334\\');return false;\">Informatique, 2009-2010, Projet Master automne</a></td></tr><tr><td><a class=\"ww_x_GPS\" href=\"javascript:void(0)\" onclick=\"loadReport(\\'ww_x_GPS=109592400\\');return false;\">Informatique, 2009-2010, Projet Master printemps</a></td></tr><tr><td><a class=\"ww_x_GPS\" href=\"javascript:void(0)\" onclick=\"loadReport(\\'ww_x_GPS=357704346\\');return false;\">Informatique, 2010-2011, Admission automne</a></td></tr><tr><td><a class=\"ww_x_GPS\" href=\"javascript:void(0)\" onclick=\"loadReport(\\'ww_x_GPS=357704367\\');return false;\">Informatique, 2010-2011, Admission printemps</a></td></tr><tr><td><a class=\"ww_x_GPS\" href=\"javascript:void(0)\" onclick=\"loadReport(\\'ww_x_GPS=357704486\\');return false;\">Informatique, 2010-2011, Bachelor semestre 1</a></td></tr><tr><td><a class=\"ww_x_GPS\" href=\"javascript:void(0)\" onclick=\"loadReport(\\'ww_x_GPS=357704513\\');return false;\">Informatique, 2010-2011, Bachelor semestre 2</a></td></tr><tr><td><a class=\"ww_x_GPS\" href=\"javascript:void(0)\" onclick=\"loadReport(\\'ww_x_GPS=213617963\\');return false;\">Informatique, 2010-2011, Bachelor semestre 3</a></td></tr><tr><td><a class=\"ww_x_GPS\" href=\"javascript:void(0)\" onclick=\"loadReport(\\'ww_x_GPS=213617981\\');return false;\">Informatique, 2010-2011, Bachelor semestre 4</a></td></tr><tr><td><a class=\"ww_x_GPS\" href=\"javascript:void(0)\" onclick=\"loadReport(\\'ww_x_GPS=109577010\\');return false;\">Informatique, 2010-2011, Bachelor semestre 5</a></td></tr><tr><td><a class=\"ww_x_GPS\" href=\"javascript:void(0)\" onclick=\"loadReport(\\'ww_x_GPS=109577031\\');return false;\">Informatique, 2010-2011, Bachelor semestre 6</a></td></tr><tr><td><a class=\"ww_x_GPS\" href=\"javascript:void(0)\" onclick=\"loadReport(\\'ww_x_GPS=357707009\\');return false;\">Informatique, 2010-2011, Master semestre 1</a></td></tr><tr><td><a class=\"ww_x_GPS\" href=\"javascript:void(0)\" onclick=\"loadReport(\\'ww_x_GPS=357707041\\');return false;\">Informatique, 2010-2011, Master semestre 2</a></td></tr><tr><td><a class=\"ww_x_GPS\" href=\"javascript:void(0)\" onclick=\"loadReport(\\'ww_x_GPS=213629934\\');return false;\">Informatique, 2010-2011, Master semestre 3</a></td></tr><tr><td><a class=\"ww_x_GPS\" href=\"javascript:void(0)\" onclick=\"loadReport(\\'ww_x_GPS=213629894\\');return false;\">Informatique, 2010-2011, Projet Master automne</a></td></tr><tr><td><a class=\"ww_x_GPS\" href=\"javascript:void(0)\" onclick=\"loadReport(\\'ww_x_GPS=213629966\\');return false;\">Informatique, 2010-2011, Projet Master printemps</a></td></tr><tr><td><a class=\"ww_x_GPS\" href=\"javascript:void(0)\" onclick=\"loadReport(\\'ww_x_GPS=736318997\\');return false;\">Informatique, 2011-2012, Admission automne</a></td></tr><tr><td><a class=\"ww_x_GPS\" href=\"javascript:void(0)\" onclick=\"loadReport(\\'ww_x_GPS=736319018\\');return false;\">Informatique, 2011-2012, Admission printemps</a></td></tr><tr><td><a class=\"ww_x_GPS\" href=\"javascript:void(0)\" onclick=\"loadReport(\\'ww_x_GPS=736308968\\');return false;\">Informatique, 2011-2012, Bachelor semestre 1</a></td></tr><tr><td><a class=\"ww_x_GPS\" href=\"javascript:void(0)\" onclick=\"loadReport(\\'ww_x_GPS=736308992\\');return false;\">Informatique, 2011-2012, Bachelor semestre 2</a></td></tr><tr><td><a class=\"ww_x_GPS\" href=\"javascript:void(0)\" onclick=\"loadReport(\\'ww_x_GPS=357704537\\');return false;\">Informatique, 2011-2012, Bachelor semestre 3</a></td></tr><tr><td><a class=\"ww_x_GPS\" href=\"javascript:void(0)\" onclick=\"loadReport(\\'ww_x_GPS=357704559\\');return false;\">Informatique, 2011-2012, Bachelor semestre 4</a></td></tr><tr><td><a class=\"ww_x_GPS\" href=\"javascript:void(0)\" onclick=\"loadReport(\\'ww_x_GPS=213617999\\');return false;\">Informatique, 2011-2012, Bachelor semestre 5</a></td></tr><tr><td><a class=\"ww_x_GPS\" href=\"javascript:void(0)\" onclick=\"loadReport(\\'ww_x_GPS=213618020\\');return false;\">Informatique, 2011-2012, Bachelor semestre 6</a></td></tr><tr><td><a class=\"ww_x_GPS\" href=\"javascript:void(0)\" onclick=\"loadReport(\\'ww_x_GPS=736292150\\');return false;\">Informatique, 2011-2012, Master semestre 1</a></td></tr><tr><td><a class=\"ww_x_GPS\" href=\"javascript:void(0)\" onclick=\"loadReport(\\'ww_x_GPS=736292183\\');return false;\">Informatique, 2011-2012, Master semestre 2</a></td></tr><tr><td><a class=\"ww_x_GPS\" href=\"javascript:void(0)\" onclick=\"loadReport(\\'ww_x_GPS=357707104\\');return false;\">Informatique, 2011-2012, Master semestre 3</a></td></tr><tr><td><a class=\"ww_x_GPS\" href=\"javascript:void(0)\" onclick=\"loadReport(\\'ww_x_GPS=357707070\\');return false;\">Informatique, 2011-2012, Projet Master automne</a></td></tr><tr><td><a class=\"ww_x_GPS\" href=\"javascript:void(0)\" onclick=\"loadReport(\\'ww_x_GPS=357707133\\');return false;\">Informatique, 2011-2012, Projet Master printemps</a></td></tr><tr><td><a class=\"ww_x_GPS\" href=\"javascript:void(0)\" onclick=\"loadReport(\\'ww_x_GPS=1550546008\\');return false;\">Informatique, 2012-2013, Admission automne</a></td></tr><tr><td><a class=\"ww_x_GPS\" href=\"javascript:void(0)\" onclick=\"loadReport(\\'ww_x_GPS=1550546034\\');return false;\">Informatique, 2012-2013, Admission printemps</a></td></tr><tr><td><a class=\"ww_x_GPS\" href=\"javascript:void(0)\" onclick=\"loadReport(\\'ww_x_GPS=1378362092\\');return false;\">Informatique, 2012-2013, Bachelor semestre 1</a></td></tr><tr><td><a class=\"ww_x_GPS\" href=\"javascript:void(0)\" onclick=\"loadReport(\\'ww_x_GPS=1378362120\\');return false;\">Informatique, 2012-2013, Bachelor semestre 2</a></td></tr><tr><td><a class=\"ww_x_GPS\" href=\"javascript:void(0)\" onclick=\"loadReport(\\'ww_x_GPS=736309015\\');return false;\">Informatique, 2012-2013, Bachelor semestre 3</a></td></tr><tr><td><a class=\"ww_x_GPS\" href=\"javascript:void(0)\" onclick=\"loadReport(\\'ww_x_GPS=736309037\\');return false;\">Informatique, 2012-2013, Bachelor semestre 4</a></td></tr><tr><td><a class=\"ww_x_GPS\" href=\"javascript:void(0)\" onclick=\"loadReport(\\'ww_x_GPS=357704581\\');return false;\">Informatique, 2012-2013, Bachelor semestre 5</a></td></tr><tr><td><a class=\"ww_x_GPS\" href=\"javascript:void(0)\" onclick=\"loadReport(\\'ww_x_GPS=357704613\\');return false;\">Informatique, 2012-2013, Bachelor semestre 6</a></td></tr><tr><td><a class=\"ww_x_GPS\" href=\"javascript:void(0)\" onclick=\"loadReport(\\'ww_x_GPS=1378438423\\');return false;\">Informatique, 2012-2013, Master semestre 1</a></td></tr><tr><td><a class=\"ww_x_GPS\" href=\"javascript:void(0)\" onclick=\"loadReport(\\'ww_x_GPS=1378438462\\');return false;\">Informatique, 2012-2013, Master semestre 2</a></td></tr><tr><td><a class=\"ww_x_GPS\" href=\"javascript:void(0)\" onclick=\"loadReport(\\'ww_x_GPS=736292248\\');return false;\">Informatique, 2012-2013, Master semestre 3</a></td></tr><tr><td><a class=\"ww_x_GPS\" href=\"javascript:void(0)\" onclick=\"loadReport(\\'ww_x_GPS=736292213\\');return false;\">Informatique, 2012-2013, Projet Master automne</a></td></tr><tr><td><a class=\"ww_x_GPS\" href=\"javascript:void(0)\" onclick=\"loadReport(\\'ww_x_GPS=736292278\\');return false;\">Informatique, 2012-2013, Projet Master printemps</a></td></tr><tr><td><a class=\"ww_x_GPS\" href=\"javascript:void(0)\" onclick=\"loadReport(\\'ww_x_GPS=1650771205\\');return false;\">Informatique, 2013-2014, Admission automne</a></td></tr><tr><td><a class=\"ww_x_GPS\" href=\"javascript:void(0)\" onclick=\"loadReport(\\'ww_x_GPS=1650771231\\');return false;\">Informatique, 2013-2014, Admission printemps</a></td></tr><tr><td><a class=\"ww_x_GPS\" href=\"javascript:void(0)\" onclick=\"loadReport(\\'ww_x_GPS=1650771864\\');return false;\">Informatique, 2013-2014, Bachelor semestre 1</a></td></tr><tr><td><a class=\"ww_x_GPS\" href=\"javascript:void(0)\" onclick=\"loadReport(\\'ww_x_GPS=1650771892\\');return false;\">Informatique, 2013-2014, Bachelor semestre 2</a></td></tr><tr><td><a class=\"ww_x_GPS\" href=\"javascript:void(0)\" onclick=\"loadReport(\\'ww_x_GPS=1378362148\\');return false;\">Informatique, 2013-2014, Bachelor semestre 3</a></td></tr><tr><td><a class=\"ww_x_GPS\" href=\"javascript:void(0)\" onclick=\"loadReport(\\'ww_x_GPS=1378362175\\');return false;\">Informatique, 2013-2014, Bachelor semestre 4</a></td></tr><tr><td><a class=\"ww_x_GPS\" href=\"javascript:void(0)\" onclick=\"loadReport(\\'ww_x_GPS=736309059\\');return false;\">Informatique, 2013-2014, Bachelor semestre 5</a></td></tr><tr><td><a class=\"ww_x_GPS\" href=\"javascript:void(0)\" onclick=\"loadReport(\\'ww_x_GPS=736309090\\');return false;\">Informatique, 2013-2014, Bachelor semestre 6</a></td></tr><tr><td><a class=\"ww_x_GPS\" href=\"javascript:void(0)\" onclick=\"loadReport(\\'ww_x_GPS=1650773259\\');return false;\">Informatique, 2013-2014, Master semestre 1</a></td></tr><tr><td><a class=\"ww_x_GPS\" href=\"javascript:void(0)\" onclick=\"loadReport(\\'ww_x_GPS=1650773297\\');return false;\">Informatique, 2013-2014, Master semestre 2</a></td></tr><tr><td><a class=\"ww_x_GPS\" href=\"javascript:void(0)\" onclick=\"loadReport(\\'ww_x_GPS=1378438538\\');return false;\">Informatique, 2013-2014, Master semestre 3</a></td></tr><tr><td><a class=\"ww_x_GPS\" href=\"javascript:void(0)\" onclick=\"loadReport(\\'ww_x_GPS=1378438499\\');return false;\">Informatique, 2013-2014, Projet Master automne</a></td></tr><tr><td><a class=\"ww_x_GPS\" href=\"javascript:void(0)\" onclick=\"loadReport(\\'ww_x_GPS=1378438573\\');return false;\">Informatique, 2013-2014, Projet Master printemps</a></td></tr><tr><td><a class=\"ww_x_GPS\" href=\"javascript:void(0)\" onclick=\"loadReport(\\'ww_x_GPS=1795027156\\');return false;\">Informatique, 2014-2015, Admission automne</a></td></tr><tr><td><a class=\"ww_x_GPS\" href=\"javascript:void(0)\" onclick=\"loadReport(\\'ww_x_GPS=1795027184\\');return false;\">Informatique, 2014-2015, Admission printemps</a></td></tr><tr><td><a class=\"ww_x_GPS\" href=\"javascript:void(0)\" onclick=\"loadReport(\\'ww_x_GPS=1744377893\\');return false;\">Informatique, 2014-2015, Bachelor semestre 1</a></td></tr><tr><td><a class=\"ww_x_GPS\" href=\"javascript:void(0)\" onclick=\"loadReport(\\'ww_x_GPS=1744377921\\');return false;\">Informatique, 2014-2015, Bachelor semestre 2</a></td></tr><tr><td><a class=\"ww_x_GPS\" href=\"javascript:void(0)\" onclick=\"loadReport(\\'ww_x_GPS=1650771920\\');return false;\">Informatique, 2014-2015, Bachelor semestre 3</a></td></tr><tr><td><a class=\"ww_x_GPS\" href=\"javascript:void(0)\" onclick=\"loadReport(\\'ww_x_GPS=1650771947\\');return false;\">Informatique, 2014-2015, Bachelor semestre 4</a></td></tr><tr><td><a class=\"ww_x_GPS\" href=\"javascript:void(0)\" onclick=\"loadReport(\\'ww_x_GPS=1378362202\\');return false;\">Informatique, 2014-2015, Bachelor semestre 5</a></td></tr><tr><td><a class=\"ww_x_GPS\" href=\"javascript:void(0)\" onclick=\"loadReport(\\'ww_x_GPS=1378362238\\');return false;\">Informatique, 2014-2015, Bachelor semestre 6</a></td></tr><tr><td><a class=\"ww_x_GPS\" href=\"javascript:void(0)\" onclick=\"loadReport(\\'ww_x_GPS=1745490358\\');return false;\">Informatique, 2014-2015, Master semestre 1</a></td></tr><tr><td><a class=\"ww_x_GPS\" href=\"javascript:void(0)\" onclick=\"loadReport(\\'ww_x_GPS=1745490396\\');return false;\">Informatique, 2014-2015, Master semestre 2</a></td></tr><tr><td><a class=\"ww_x_GPS\" href=\"javascript:void(0)\" onclick=\"loadReport(\\'ww_x_GPS=1650773371\\');return false;\">Informatique, 2014-2015, Master semestre 3</a></td></tr><tr><td><a class=\"ww_x_GPS\" href=\"javascript:void(0)\" onclick=\"loadReport(\\'ww_x_GPS=1650773332\\');return false;\">Informatique, 2014-2015, Projet Master automne</a></td></tr><tr><td><a class=\"ww_x_GPS\" href=\"javascript:void(0)\" onclick=\"loadReport(\\'ww_x_GPS=1650773405\\');return false;\">Informatique, 2014-2015, Projet Master printemps</a></td></tr><tr><td><a class=\"ww_x_GPS\" href=\"javascript:void(0)\" onclick=\"loadReport(\\'ww_x_GPS=1898604188\\');return false;\">Informatique, 2015-2016, Admission automne</a></td></tr><tr><td><a class=\"ww_x_GPS\" href=\"javascript:void(0)\" onclick=\"loadReport(\\'ww_x_GPS=1898604240\\');return false;\">Informatique, 2015-2016, Admission printemps</a></td></tr><tr><td><a class=\"ww_x_GPS\" href=\"javascript:void(0)\" onclick=\"loadReport(\\'ww_x_GPS=1897032870\\');return false;\">Informatique, 2015-2016, Bachelor semestre 1</a></td></tr><tr><td><a class=\"ww_x_GPS\" href=\"javascript:void(0)\" onclick=\"loadReport(\\'ww_x_GPS=1897032920\\');return false;\">Informatique, 2015-2016, Bachelor semestre 2</a></td></tr><tr><td><a class=\"ww_x_GPS\" href=\"javascript:void(0)\" onclick=\"loadReport(\\'ww_x_GPS=1744377949\\');return false;\">Informatique, 2015-2016, Bachelor semestre 3</a></td></tr><tr><td><a class=\"ww_x_GPS\" href=\"javascript:void(0)\" onclick=\"loadReport(\\'ww_x_GPS=1744377976\\');return false;\">Informatique, 2015-2016, Bachelor semestre 4</a></td></tr><tr><td><a class=\"ww_x_GPS\" href=\"javascript:void(0)\" onclick=\"loadReport(\\'ww_x_GPS=1650771974\\');return false;\">Informatique, 2015-2016, Bachelor semestre 5</a></td></tr><tr><td><a class=\"ww_x_GPS\" href=\"javascript:void(0)\" onclick=\"loadReport(\\'ww_x_GPS=1650772010\\');return false;\">Informatique, 2015-2016, Bachelor semestre 6</a></td></tr><tr><td><a class=\"ww_x_GPS\" href=\"javascript:void(0)\" onclick=\"loadReport(\\'ww_x_GPS=1897033225\\');return false;\">Informatique, 2015-2016, Master semestre 1</a></td></tr><tr><td><a class=\"ww_x_GPS\" href=\"javascript:void(0)\" onclick=\"loadReport(\\'ww_x_GPS=1897033287\\');return false;\">Informatique, 2015-2016, Master semestre 2</a></td></tr><tr><td><a class=\"ww_x_GPS\" href=\"javascript:void(0)\" onclick=\"loadReport(\\'ww_x_GPS=1745490470\\');return false;\">Informatique, 2015-2016, Master semestre 3</a></td></tr><tr><td><a class=\"ww_x_GPS\" href=\"javascript:void(0)\" onclick=\"loadReport(\\'ww_x_GPS=1745490431\\');return false;\">Informatique, 2015-2016, Projet Master automne</a></td></tr><tr><td><a class=\"ww_x_GPS\" href=\"javascript:void(0)\" onclick=\"loadReport(\\'ww_x_GPS=1745490504\\');return false;\">Informatique, 2015-2016, Projet Master printemps</a></td></tr><tr><td><a class=\"ww_x_GPS\" href=\"javascript:void(0)\" onclick=\"loadReport(\\'ww_x_GPS=2021044410\\');return false;\">Informatique, 2016-2017, Admission automne</a></td></tr><tr><td><a class=\"ww_x_GPS\" href=\"javascript:void(0)\" onclick=\"loadReport(\\'ww_x_GPS=2021044464\\');return false;\">Informatique, 2016-2017, Admission printemps</a></td></tr><tr><td><a class=\"ww_x_GPS\" href=\"javascript:void(0)\" onclick=\"loadReport(\\'ww_x_GPS=2021043255\\');return false;\">Informatique, 2016-2017, Bachelor semestre 1</a></td></tr><tr><td><a class=\"ww_x_GPS\" href=\"javascript:void(0)\" onclick=\"loadReport(\\'ww_x_GPS=2021043310\\');return false;\">Informatique, 2016-2017, Bachelor semestre 2</a></td></tr><tr><td><a class=\"ww_x_GPS\" href=\"javascript:void(0)\" onclick=\"loadReport(\\'ww_x_GPS=1897032970\\');return false;\">Informatique, 2016-2017, Bachelor semestre 3</a></td></tr><tr><td><a class=\"ww_x_GPS\" href=\"javascript:void(0)\" onclick=\"loadReport(\\'ww_x_GPS=1897033019\\');return false;\">Informatique, 2016-2017, Bachelor semestre 4</a></td></tr><tr><td><a class=\"ww_x_GPS\" href=\"javascript:void(0)\" onclick=\"loadReport(\\'ww_x_GPS=1744378003\\');return false;\">Informatique, 2016-2017, Bachelor semestre 5</a></td></tr><tr><td><a class=\"ww_x_GPS\" href=\"javascript:void(0)\" onclick=\"loadReport(\\'ww_x_GPS=1744378039\\');return false;\">Informatique, 2016-2017, Bachelor semestre 6</a></td></tr><tr><td><a class=\"ww_x_GPS\" href=\"javascript:void(0)\" onclick=\"loadReport(\\'ww_x_GPS=2021044028\\');return false;\">Informatique, 2016-2017, Master semestre 1</a></td></tr><tr><td><a class=\"ww_x_GPS\" href=\"javascript:void(0)\" onclick=\"loadReport(\\'ww_x_GPS=2021044095\\');return false;\">Informatique, 2016-2017, Master semestre 2</a></td></tr><tr><td><a class=\"ww_x_GPS\" href=\"javascript:void(0)\" onclick=\"loadReport(\\'ww_x_GPS=1897033409\\');return false;\">Informatique, 2016-2017, Master semestre 3</a></td></tr><tr><td><a class=\"ww_x_GPS\" href=\"javascript:void(0)\" onclick=\"loadReport(\\'ww_x_GPS=2063780127\\');return false;\">Informatique, 2016-2017, Mise à niveau</a></td></tr><tr><td><a class=\"ww_x_GPS\" href=\"javascript:void(0)\" onclick=\"loadReport(\\'ww_x_GPS=1897033346\\');return false;\">Informatique, 2016-2017, Projet Master automne</a></td></tr><tr><td><a class=\"ww_x_GPS\" href=\"javascript:void(0)\" onclick=\"loadReport(\\'ww_x_GPS=1897033467\\');return false;\">Informatique, 2016-2017, Projet Master printemps</a></td></tr><tr><td><a class=\"ww_x_GPS\" href=\"javascript:void(0)\" onclick=\"loadReport(\\'ww_x_GPS=2021043365\\');return false;\">Informatique, 2017-2018, Bachelor semestre 3</a></td></tr><tr><td><a class=\"ww_x_GPS\" href=\"javascript:void(0)\" onclick=\"loadReport(\\'ww_x_GPS=2021043419\\');return false;\">Informatique, 2017-2018, Bachelor semestre 4</a></td></tr><tr><td><a class=\"ww_x_GPS\" href=\"javascript:void(0)\" onclick=\"loadReport(\\'ww_x_GPS=1897033068\\');return false;\">Informatique, 2017-2018, Bachelor semestre 5</a></td></tr><tr><td><a class=\"ww_x_GPS\" href=\"javascript:void(0)\" onclick=\"loadReport(\\'ww_x_GPS=1897033126\\');return false;\">Informatique, 2017-2018, Bachelor semestre 6</a></td></tr><tr><td><a class=\"ww_x_GPS\" href=\"javascript:void(0)\" onclick=\"loadReport(\\'ww_x_GPS=2021044227\\');return false;\">Informatique, 2017-2018, Master semestre 3</a></td></tr><tr><td><a class=\"ww_x_GPS\" href=\"javascript:void(0)\" onclick=\"loadReport(\\'ww_x_GPS=2021044159\\');return false;\">Informatique, 2017-2018, Projet Master automne</a></td></tr><tr><td><a class=\"ww_x_GPS\" href=\"javascript:void(0)\" onclick=\"loadReport(\\'ww_x_GPS=2021044290\\');return false;\">Informatique, 2017-2018, Projet Master printemps</a></td></tr><tr><td><a class=\"ww_x_GPS\" href=\"javascript:void(0)\" onclick=\"loadReport(\\'ww_x_GPS=2021043473\\');return false;\">Informatique, 2018-2019, Bachelor semestre 5</a></td></tr><tr><td><a class=\"ww_x_GPS\" href=\"javascript:void(0)\" onclick=\"loadReport(\\'ww_x_GPS=2021043537\\');return false;\">Informatique, 2018-2019, Bachelor semestre 6</a></td></tr><tr><td><a class=\"ww_x_GPS\" href=\"javascript:void(0)\" onclick=\"loadReport(\\'ww_x_GPS=6507843\\');return false;\">Logiciel d\\'application (LA), 1988-1989, Semestre 6</a></td></tr><tr><td><a class=\"ww_x_GPS\" href=\"javascript:void(0)\" onclick=\"loadReport(\\'ww_x_GPS=6527599\\');return false;\">Logiciel d\\'application (LA), 1989-1990, Semestre 6</a></td></tr><tr><td><a class=\"ww_x_GPS\" href=\"javascript:void(0)\" onclick=\"loadReport(\\'ww_x_GPS=6508105\\');return false;\">Logiciel d\\'application (LA), 1989-1990, Semestre 7</a></td></tr><tr><td><a class=\"ww_x_GPS\" href=\"javascript:void(0)\" onclick=\"loadReport(\\'ww_x_GPS=6508116\\');return false;\">Logiciel d\\'application (LA), 1989-1990, Semestre 8</a></td></tr><tr><td><a class=\"ww_x_GPS\" href=\"javascript:void(0)\" onclick=\"loadReport(\\'ww_x_GPS=6527880\\');return false;\">Logiciel d\\'application (LA), 1990-1991, Semestre 6</a></td></tr><tr><td><a class=\"ww_x_GPS\" href=\"javascript:void(0)\" onclick=\"loadReport(\\'ww_x_GPS=6527610\\');return false;\">Logiciel d\\'application (LA), 1990-1991, Semestre 7</a></td></tr><tr><td><a class=\"ww_x_GPS\" href=\"javascript:void(0)\" onclick=\"loadReport(\\'ww_x_GPS=6527621\\');return false;\">Logiciel d\\'application (LA), 1990-1991, Semestre 8</a></td></tr><tr><td><a class=\"ww_x_GPS\" href=\"javascript:void(0)\" onclick=\"loadReport(\\'ww_x_GPS=6508131\\');return false;\">Logiciel d\\'application (LA), 1990-1991, Semestre 9</a></td></tr><tr><td><a class=\"ww_x_GPS\" href=\"javascript:void(0)\" onclick=\"loadReport(\\'ww_x_GPS=6528161\\');return false;\">Logiciel d\\'application (LA), 1991-1992, Semestre 6</a></td></tr><tr><td><a class=\"ww_x_GPS\" href=\"javascript:void(0)\" onclick=\"loadReport(\\'ww_x_GPS=6527891\\');return false;\">Logiciel d\\'application (LA), 1991-1992, Semestre 7</a></td></tr><tr><td><a class=\"ww_x_GPS\" href=\"javascript:void(0)\" onclick=\"loadReport(\\'ww_x_GPS=6527902\\');return false;\">Logiciel d\\'application (LA), 1991-1992, Semestre 8</a></td></tr><tr><td><a class=\"ww_x_GPS\" href=\"javascript:void(0)\" onclick=\"loadReport(\\'ww_x_GPS=6527632\\');return false;\">Logiciel d\\'application (LA), 1991-1992, Semestre 9</a></td></tr><tr><td><a class=\"ww_x_GPS\" href=\"javascript:void(0)\" onclick=\"loadReport(\\'ww_x_GPS=6528442\\');return false;\">Logiciel d\\'application (LA), 1992-1993, Semestre 6</a></td></tr><tr><td><a class=\"ww_x_GPS\" href=\"javascript:void(0)\" onclick=\"loadReport(\\'ww_x_GPS=6528172\\');return false;\">Logiciel d\\'application (LA), 1992-1993, Semestre 7</a></td></tr><tr><td><a class=\"ww_x_GPS\" href=\"javascript:void(0)\" onclick=\"loadReport(\\'ww_x_GPS=6528183\\');return false;\">Logiciel d\\'application (LA), 1992-1993, Semestre 8</a></td></tr><tr><td><a class=\"ww_x_GPS\" href=\"javascript:void(0)\" onclick=\"loadReport(\\'ww_x_GPS=6527913\\');return false;\">Logiciel d\\'application (LA), 1992-1993, Semestre 9</a></td></tr><tr><td><a class=\"ww_x_GPS\" href=\"javascript:void(0)\" onclick=\"loadReport(\\'ww_x_GPS=6528723\\');return false;\">Logiciel d\\'application (LA), 1993-1994, Semestre 6</a></td></tr><tr><td><a class=\"ww_x_GPS\" href=\"javascript:void(0)\" onclick=\"loadReport(\\'ww_x_GPS=6528453\\');return false;\">Logiciel d\\'application (LA), 1993-1994, Semestre 7</a></td></tr><tr><td><a class=\"ww_x_GPS\" href=\"javascript:void(0)\" onclick=\"loadReport(\\'ww_x_GPS=6528464\\');return false;\">Logiciel d\\'application (LA), 1993-1994, Semestre 8</a></td></tr><tr><td><a class=\"ww_x_GPS\" href=\"javascript:void(0)\" onclick=\"loadReport(\\'ww_x_GPS=6528194\\');return false;\">Logiciel d\\'application (LA), 1993-1994, Semestre 9</a></td></tr><tr><td><a class=\"ww_x_GPS\" href=\"javascript:void(0)\" onclick=\"loadReport(\\'ww_x_GPS=6529010\\');return false;\">Logiciel d\\'application (LA), 1994-1995, Semestre 6</a></td></tr><tr><td><a class=\"ww_x_GPS\" href=\"javascript:void(0)\" onclick=\"loadReport(\\'ww_x_GPS=6528734\\');return false;\">Logiciel d\\'application (LA), 1994-1995, Semestre 7</a></td></tr><tr><td><a class=\"ww_x_GPS\" href=\"javascript:void(0)\" onclick=\"loadReport(\\'ww_x_GPS=6528745\\');return false;\">Logiciel d\\'application (LA), 1994-1995, Semestre 8</a></td></tr><tr><td><a class=\"ww_x_GPS\" href=\"javascript:void(0)\" onclick=\"loadReport(\\'ww_x_GPS=6528475\\');return false;\">Logiciel d\\'application (LA), 1994-1995, Semestre 9</a></td></tr><tr><td><a class=\"ww_x_GPS\" href=\"javascript:void(0)\" onclick=\"loadReport(\\'ww_x_GPS=6529291\\');return false;\">Logiciel d\\'application (LA), 1995-1996, Semestre 6</a></td></tr><tr><td><a class=\"ww_x_GPS\" href=\"javascript:void(0)\" onclick=\"loadReport(\\'ww_x_GPS=6529021\\');return false;\">Logiciel d\\'application (LA), 1995-1996, Semestre 7</a></td></tr><tr><td><a class=\"ww_x_GPS\" href=\"javascript:void(0)\" onclick=\"loadReport(\\'ww_x_GPS=6529032\\');return false;\">Logiciel d\\'application (LA), 1995-1996, Semestre 8</a></td></tr><tr><td><a class=\"ww_x_GPS\" href=\"javascript:void(0)\" onclick=\"loadReport(\\'ww_x_GPS=6528756\\');return false;\">Logiciel d\\'application (LA), 1995-1996, Semestre 9</a></td></tr><tr><td><a class=\"ww_x_GPS\" href=\"javascript:void(0)\" onclick=\"loadReport(\\'ww_x_GPS=6529578\\');return false;\">Logiciel d\\'application (LA), 1996-1997, Semestre 6</a></td></tr><tr><td><a class=\"ww_x_GPS\" href=\"javascript:void(0)\" onclick=\"loadReport(\\'ww_x_GPS=6529302\\');return false;\">Logiciel d\\'application (LA), 1996-1997, Semestre 7</a></td></tr><tr><td><a class=\"ww_x_GPS\" href=\"javascript:void(0)\" onclick=\"loadReport(\\'ww_x_GPS=6529313\\');return false;\">Logiciel d\\'application (LA), 1996-1997, Semestre 8</a></td></tr><tr><td><a class=\"ww_x_GPS\" href=\"javascript:void(0)\" onclick=\"loadReport(\\'ww_x_GPS=6529043\\');return false;\">Logiciel d\\'application (LA), 1996-1997, Semestre 9</a></td></tr><tr><td><a class=\"ww_x_GPS\" href=\"javascript:void(0)\" onclick=\"loadReport(\\'ww_x_GPS=6529861\\');return false;\">Logiciel d\\'application (LA), 1997-1998, Semestre 6</a></td></tr><tr><td><a class=\"ww_x_GPS\" href=\"javascript:void(0)\" onclick=\"loadReport(\\'ww_x_GPS=6529589\\');return false;\">Logiciel d\\'application (LA), 1997-1998, Semestre 7</a></td></tr><tr><td><a class=\"ww_x_GPS\" href=\"javascript:void(0)\" onclick=\"loadReport(\\'ww_x_GPS=6529600\\');return false;\">Logiciel d\\'application (LA), 1997-1998, Semestre 8</a></td></tr><tr><td><a class=\"ww_x_GPS\" href=\"javascript:void(0)\" onclick=\"loadReport(\\'ww_x_GPS=6529324\\');return false;\">Logiciel d\\'application (LA), 1997-1998, Semestre 9</a></td></tr><tr><td><a class=\"ww_x_GPS\" href=\"javascript:void(0)\" onclick=\"loadReport(\\'ww_x_GPS=6530429\\');return false;\">Logiciel d\\'application (LA), 1998-1999, Semestre 6</a></td></tr><tr><td><a class=\"ww_x_GPS\" href=\"javascript:void(0)\" onclick=\"loadReport(\\'ww_x_GPS=6529872\\');return false;\">Logiciel d\\'application (LA), 1998-1999, Semestre 7</a></td></tr><tr><td><a class=\"ww_x_GPS\" href=\"javascript:void(0)\" onclick=\"loadReport(\\'ww_x_GPS=6529883\\');return false;\">Logiciel d\\'application (LA), 1998-1999, Semestre 8</a></td></tr><tr><td><a class=\"ww_x_GPS\" href=\"javascript:void(0)\" onclick=\"loadReport(\\'ww_x_GPS=6529611\\');return false;\">Logiciel d\\'application (LA), 1998-1999, Semestre 9</a></td></tr><tr><td><a class=\"ww_x_GPS\" href=\"javascript:void(0)\" onclick=\"loadReport(\\'ww_x_GPS=6530710\\');return false;\">Logiciel d\\'application (LA), 1999-2000, Semestre 6</a></td></tr><tr><td><a class=\"ww_x_GPS\" href=\"javascript:void(0)\" onclick=\"loadReport(\\'ww_x_GPS=6530440\\');return false;\">Logiciel d\\'application (LA), 1999-2000, Semestre 7</a></td></tr><tr><td><a class=\"ww_x_GPS\" href=\"javascript:void(0)\" onclick=\"loadReport(\\'ww_x_GPS=6530451\\');return false;\">Logiciel d\\'application (LA), 1999-2000, Semestre 8</a></td></tr><tr><td><a class=\"ww_x_GPS\" href=\"javascript:void(0)\" onclick=\"loadReport(\\'ww_x_GPS=6529894\\');return false;\">Logiciel d\\'application (LA), 1999-2000, Semestre 9</a></td></tr><tr><td><a class=\"ww_x_GPS\" href=\"javascript:void(0)\" onclick=\"loadReport(\\'ww_x_GPS=6530991\\');return false;\">Logiciel d\\'application (LA), 2000-2001, Semestre 6</a></td></tr><tr><td><a class=\"ww_x_GPS\" href=\"javascript:void(0)\" onclick=\"loadReport(\\'ww_x_GPS=6530721\\');return false;\">Logiciel d\\'application (LA), 2000-2001, Semestre 7</a></td></tr><tr><td><a class=\"ww_x_GPS\" href=\"javascript:void(0)\" onclick=\"loadReport(\\'ww_x_GPS=6530732\\');return false;\">Logiciel d\\'application (LA), 2000-2001, Semestre 8</a></td></tr><tr><td><a class=\"ww_x_GPS\" href=\"javascript:void(0)\" onclick=\"loadReport(\\'ww_x_GPS=6530462\\');return false;\">Logiciel d\\'application (LA), 2000-2001, Semestre 9</a></td></tr><tr><td><a class=\"ww_x_GPS\" href=\"javascript:void(0)\" onclick=\"loadReport(\\'ww_x_GPS=6531272\\');return false;\">Logiciel d\\'application (LA), 2001-2002, Semestre 6</a></td></tr><tr><td><a class=\"ww_x_GPS\" href=\"javascript:void(0)\" onclick=\"loadReport(\\'ww_x_GPS=6531002\\');return false;\">Logiciel d\\'application (LA), 2001-2002, Semestre 7</a></td></tr><tr><td><a class=\"ww_x_GPS\" href=\"javascript:void(0)\" onclick=\"loadReport(\\'ww_x_GPS=6531013\\');return false;\">Logiciel d\\'application (LA), 2001-2002, Semestre 8</a></td></tr><tr><td><a class=\"ww_x_GPS\" href=\"javascript:void(0)\" onclick=\"loadReport(\\'ww_x_GPS=6530743\\');return false;\">Logiciel d\\'application (LA), 2001-2002, Semestre 9</a></td></tr><tr><td><a class=\"ww_x_GPS\" href=\"javascript:void(0)\" onclick=\"loadReport(\\'ww_x_GPS=6531283\\');return false;\">Logiciel d\\'application (LA), 2002-2003, Semestre 7</a></td></tr><tr><td><a class=\"ww_x_GPS\" href=\"javascript:void(0)\" onclick=\"loadReport(\\'ww_x_GPS=6531294\\');return false;\">Logiciel d\\'application (LA), 2002-2003, Semestre 8</a></td></tr><tr><td><a class=\"ww_x_GPS\" href=\"javascript:void(0)\" onclick=\"loadReport(\\'ww_x_GPS=6531024\\');return false;\">Logiciel d\\'application (LA), 2002-2003, Semestre 9</a></td></tr><tr><td><a class=\"ww_x_GPS\" href=\"javascript:void(0)\" onclick=\"loadReport(\\'ww_x_GPS=6531305\\');return false;\">Logiciel d\\'application (LA), 2003-2004, Semestre 9</a></td></tr><tr><td><a class=\"ww_x_GPS\" href=\"javascript:void(0)\" onclick=\"loadReport(\\'ww_x_GPS=6399607\\');return false;\">Passerelle HES - IN, 1987-1988, Semestre 3</a></td></tr><tr><td><a class=\"ww_x_GPS\" href=\"javascript:void(0)\" onclick=\"loadReport(\\'ww_x_GPS=6399612\\');return false;\">Passerelle HES - IN, 1987-1988, Semestre 4</a></td></tr><tr><td><a class=\"ww_x_GPS\" href=\"javascript:void(0)\" onclick=\"loadReport(\\'ww_x_GPS=6527731\\');return false;\">Passerelle HES - IN, 1988-1989, Semestre 3</a></td></tr><tr><td><a class=\"ww_x_GPS\" href=\"javascript:void(0)\" onclick=\"loadReport(\\'ww_x_GPS=6527742\\');return false;\">Passerelle HES - IN, 1988-1989, Semestre 4</a></td></tr><tr><td><a class=\"ww_x_GPS\" href=\"javascript:void(0)\" onclick=\"loadReport(\\'ww_x_GPS=6528012\\');return false;\">Passerelle HES - IN, 1989-1990, Semestre 3</a></td></tr><tr><td><a class=\"ww_x_GPS\" href=\"javascript:void(0)\" onclick=\"loadReport(\\'ww_x_GPS=6528023\\');return false;\">Passerelle HES - IN, 1989-1990, Semestre 4</a></td></tr><tr><td><a class=\"ww_x_GPS\" href=\"javascript:void(0)\" onclick=\"loadReport(\\'ww_x_GPS=6528293\\');return false;\">Passerelle HES - IN, 1990-1991, Semestre 3</a></td></tr><tr><td><a class=\"ww_x_GPS\" href=\"javascript:void(0)\" onclick=\"loadReport(\\'ww_x_GPS=6528304\\');return false;\">Passerelle HES - IN, 1990-1991, Semestre 4</a></td></tr><tr><td><a class=\"ww_x_GPS\" href=\"javascript:void(0)\" onclick=\"loadReport(\\'ww_x_GPS=6528574\\');return false;\">Passerelle HES - IN, 1991-1992, Semestre 3</a></td></tr><tr><td><a class=\"ww_x_GPS\" href=\"javascript:void(0)\" onclick=\"loadReport(\\'ww_x_GPS=6528585\\');return false;\">Passerelle HES - IN, 1991-1992, Semestre 4</a></td></tr><tr><td><a class=\"ww_x_GPS\" href=\"javascript:void(0)\" onclick=\"loadReport(\\'ww_x_GPS=6528855\\');return false;\">Passerelle HES - IN, 1992-1993, Semestre 3</a></td></tr><tr><td><a class=\"ww_x_GPS\" href=\"javascript:void(0)\" onclick=\"loadReport(\\'ww_x_GPS=6528866\\');return false;\">Passerelle HES - IN, 1992-1993, Semestre 4</a></td></tr><tr><td><a class=\"ww_x_GPS\" href=\"javascript:void(0)\" onclick=\"loadReport(\\'ww_x_GPS=6529142\\');return false;\">Passerelle HES - IN, 1993-1994, Semestre 3</a></td></tr><tr><td><a class=\"ww_x_GPS\" href=\"javascript:void(0)\" onclick=\"loadReport(\\'ww_x_GPS=6529153\\');return false;\">Passerelle HES - IN, 1993-1994, Semestre 4</a></td></tr><tr><td><a class=\"ww_x_GPS\" href=\"javascript:void(0)\" onclick=\"loadReport(\\'ww_x_GPS=6529423\\');return false;\">Passerelle HES - IN, 1994-1995, Semestre 3</a></td></tr><tr><td><a class=\"ww_x_GPS\" href=\"javascript:void(0)\" onclick=\"loadReport(\\'ww_x_GPS=6529434\\');return false;\">Passerelle HES - IN, 1994-1995, Semestre 4</a></td></tr><tr><td><a class=\"ww_x_GPS\" href=\"javascript:void(0)\" onclick=\"loadReport(\\'ww_x_GPS=6529710\\');return false;\">Passerelle HES - IN, 1995-1996, Semestre 3</a></td></tr><tr><td><a class=\"ww_x_GPS\" href=\"javascript:void(0)\" onclick=\"loadReport(\\'ww_x_GPS=6529721\\');return false;\">Passerelle HES - IN, 1995-1996, Semestre 4</a></td></tr><tr><td><a class=\"ww_x_GPS\" href=\"javascript:void(0)\" onclick=\"loadReport(\\'ww_x_GPS=6529993\\');return false;\">Passerelle HES - IN, 1996-1997, Semestre 3</a></td></tr><tr><td><a class=\"ww_x_GPS\" href=\"javascript:void(0)\" onclick=\"loadReport(\\'ww_x_GPS=6530004\\');return false;\">Passerelle HES - IN, 1996-1997, Semestre 4</a></td></tr><tr><td><a class=\"ww_x_GPS\" href=\"javascript:void(0)\" onclick=\"loadReport(\\'ww_x_GPS=6530561\\');return false;\">Passerelle HES - IN, 1997-1998, Semestre 3</a></td></tr><tr><td><a class=\"ww_x_GPS\" href=\"javascript:void(0)\" onclick=\"loadReport(\\'ww_x_GPS=6530572\\');return false;\">Passerelle HES - IN, 1997-1998, Semestre 4</a></td></tr><tr><td><a class=\"ww_x_GPS\" href=\"javascript:void(0)\" onclick=\"loadReport(\\'ww_x_GPS=6530842\\');return false;\">Passerelle HES - IN, 1998-1999, Semestre 3</a></td></tr><tr><td><a class=\"ww_x_GPS\" href=\"javascript:void(0)\" onclick=\"loadReport(\\'ww_x_GPS=6530853\\');return false;\">Passerelle HES - IN, 1998-1999, Semestre 4</a></td></tr><tr><td><a class=\"ww_x_GPS\" href=\"javascript:void(0)\" onclick=\"loadReport(\\'ww_x_GPS=6531123\\');return false;\">Passerelle HES - IN, 1999-2000, Semestre 3</a></td></tr><tr><td><a class=\"ww_x_GPS\" href=\"javascript:void(0)\" onclick=\"loadReport(\\'ww_x_GPS=6531134\\');return false;\">Passerelle HES - IN, 1999-2000, Semestre 4</a></td></tr><tr><td><a class=\"ww_x_GPS\" href=\"javascript:void(0)\" onclick=\"loadReport(\\'ww_x_GPS=6531404\\');return false;\">Passerelle HES - IN, 2000-2001, Semestre 3</a></td></tr><tr><td><a class=\"ww_x_GPS\" href=\"javascript:void(0)\" onclick=\"loadReport(\\'ww_x_GPS=6531415\\');return false;\">Passerelle HES - IN, 2000-2001, Semestre 4</a></td></tr><tr><td><a class=\"ww_x_GPS\" href=\"javascript:void(0)\" onclick=\"loadReport(\\'ww_x_GPS=6405072\\');return false;\">Passerelle HES - IN, 2001-2002, Semestre 3</a></td></tr><tr><td><a class=\"ww_x_GPS\" href=\"javascript:void(0)\" onclick=\"loadReport(\\'ww_x_GPS=6405083\\');return false;\">Passerelle HES - IN, 2001-2002, Semestre 4</a></td></tr><tr><td><a class=\"ww_x_GPS\" href=\"javascript:void(0)\" onclick=\"loadReport(\\'ww_x_GPS=6405904\\');return false;\">Passerelle HES - IN, 2002-2003, Semestre 3</a></td></tr><tr><td><a class=\"ww_x_GPS\" href=\"javascript:void(0)\" onclick=\"loadReport(\\'ww_x_GPS=6405915\\');return false;\">Passerelle HES - IN, 2002-2003, Semestre 4</a></td></tr><tr><td><a class=\"ww_x_GPS\" href=\"javascript:void(0)\" onclick=\"loadReport(\\'ww_x_GPS=6406681\\');return false;\">Passerelle HES - IN, 2003-2004, Semestre 3</a></td></tr><tr><td><a class=\"ww_x_GPS\" href=\"javascript:void(0)\" onclick=\"loadReport(\\'ww_x_GPS=6406692\\');return false;\">Passerelle HES - IN, 2003-2004, Semestre 4</a></td></tr><tr><td><a class=\"ww_x_GPS\" href=\"javascript:void(0)\" onclick=\"loadReport(\\'ww_x_GPS=2754901\\');return false;\">Passerelle HES - IN, 2004-2005, Bachelor semestre 3</a></td></tr><tr><td><a class=\"ww_x_GPS\" href=\"javascript:void(0)\" onclick=\"loadReport(\\'ww_x_GPS=2754912\\');return false;\">Passerelle HES - IN, 2004-2005, Bachelor semestre 4</a></td></tr><tr><td><a class=\"ww_x_GPS\" href=\"javascript:void(0)\" onclick=\"loadReport(\\'ww_x_GPS=19575034\\');return false;\">Passerelle HES - IN, 2005-2006, Bachelor semestre 3</a></td></tr><tr><td><a class=\"ww_x_GPS\" href=\"javascript:void(0)\" onclick=\"loadReport(\\'ww_x_GPS=19575046\\');return false;\">Passerelle HES - IN, 2005-2006, Bachelor semestre 4</a></td></tr><tr><td><a class=\"ww_x_GPS\" href=\"javascript:void(0)\" onclick=\"loadReport(\\'ww_x_GPS=39486609\\');return false;\">Passerelle HES - IN, 2006-2007, Bachelor semestre 3</a></td></tr><tr><td><a class=\"ww_x_GPS\" href=\"javascript:void(0)\" onclick=\"loadReport(\\'ww_x_GPS=39486626\\');return false;\">Passerelle HES - IN, 2006-2007, Bachelor semestre 4</a></td></tr><tr><td><a class=\"ww_x_GPS\" href=\"javascript:void(0)\" onclick=\"loadReport(\\'ww_x_GPS=71301631\\');return false;\">Passerelle HES - IN, 2007-2008, Bachelor semestre 3</a></td></tr><tr><td><a class=\"ww_x_GPS\" href=\"javascript:void(0)\" onclick=\"loadReport(\\'ww_x_GPS=71301647\\');return false;\">Passerelle HES - IN, 2007-2008, Bachelor semestre 4</a></td></tr><tr><td><a class=\"ww_x_GPS\" href=\"javascript:void(0)\" onclick=\"loadReport(\\'ww_x_GPS=109688322\\');return false;\">Passerelle HES - IN, 2008-2009, Bachelor semestre 3</a></td></tr><tr><td><a class=\"ww_x_GPS\" href=\"javascript:void(0)\" onclick=\"loadReport(\\'ww_x_GPS=109688338\\');return false;\">Passerelle HES - IN, 2008-2009, Bachelor semestre 4</a></td></tr><tr><td><a class=\"ww_x_GPS\" href=\"javascript:void(0)\" onclick=\"loadReport(\\'ww_x_GPS=235274476\\');return false;\">Passerelle HES - IN, 2009-2010, Semestre automne</a></td></tr><tr><td><a class=\"ww_x_GPS\" href=\"javascript:void(0)\" onclick=\"loadReport(\\'ww_x_GPS=235274493\\');return false;\">Passerelle HES - IN, 2009-2010, Semestre printemps</a></td></tr><tr><td><a class=\"ww_x_GPS\" href=\"javascript:void(0)\" onclick=\"loadReport(\\'ww_x_GPS=357706735\\');return false;\">Passerelle HES - IN, 2010-2011, Semestre automne</a></td></tr><tr><td><a class=\"ww_x_GPS\" href=\"javascript:void(0)\" onclick=\"loadReport(\\'ww_x_GPS=357706753\\');return false;\">Passerelle HES - IN, 2010-2011, Semestre printemps</a></td></tr><tr><td><a class=\"ww_x_GPS\" href=\"javascript:void(0)\" onclick=\"loadReport(\\'ww_x_GPS=736316401\\');return false;\">Passerelle HES - IN, 2011-2012, Semestre automne</a></td></tr><tr><td><a class=\"ww_x_GPS\" href=\"javascript:void(0)\" onclick=\"loadReport(\\'ww_x_GPS=736316420\\');return false;\">Passerelle HES - IN, 2011-2012, Semestre printemps</a></td></tr><tr><td><a class=\"ww_x_GPS\" href=\"javascript:void(0)\" onclick=\"loadReport(\\'ww_x_GPS=1378335700\\');return false;\">Passerelle HES - IN, 2012-2013, Semestre automne</a></td></tr><tr><td><a class=\"ww_x_GPS\" href=\"javascript:void(0)\" onclick=\"loadReport(\\'ww_x_GPS=1378335724\\');return false;\">Passerelle HES - IN, 2012-2013, Semestre printemps</a></td></tr><tr><td><a class=\"ww_x_GPS\" href=\"javascript:void(0)\" onclick=\"loadReport(\\'ww_x_GPS=1650773048\\');return false;\">Passerelle HES - IN, 2013-2014, Semestre automne</a></td></tr><tr><td><a class=\"ww_x_GPS\" href=\"javascript:void(0)\" onclick=\"loadReport(\\'ww_x_GPS=1650773072\\');return false;\">Passerelle HES - IN, 2013-2014, Semestre printemps</a></td></tr><tr><td><a class=\"ww_x_GPS\" href=\"javascript:void(0)\" onclick=\"loadReport(\\'ww_x_GPS=1745517053\\');return false;\">Passerelle HES - IN, 2014-2015, Semestre automne</a></td></tr><tr><td><a class=\"ww_x_GPS\" href=\"javascript:void(0)\" onclick=\"loadReport(\\'ww_x_GPS=1745517077\\');return false;\">Passerelle HES - IN, 2014-2015, Semestre printemps</a></td></tr><tr><td><a class=\"ww_x_GPS\" href=\"javascript:void(0)\" onclick=\"loadReport(\\'ww_x_GPS=1897036058\\');return false;\">Passerelle HES - IN, 2015-2016, Semestre automne</a></td></tr><tr><td><a class=\"ww_x_GPS\" href=\"javascript:void(0)\" onclick=\"loadReport(\\'ww_x_GPS=1897036111\\');return false;\">Passerelle HES - IN, 2015-2016, Semestre printemps</a></td></tr><tr><td><a class=\"ww_x_GPS\" href=\"javascript:void(0)\" onclick=\"loadReport(\\'ww_x_GPS=2021044525\\');return false;\">Passerelle HES - IN, 2016-2017, Semestre automne</a></td></tr><tr><td><a class=\"ww_x_GPS\" href=\"javascript:void(0)\" onclick=\"loadReport(\\'ww_x_GPS=2021044582\\');return false;\">Passerelle HES - IN, 2016-2017, Semestre printemps</a></td></tr></table></div></body></html>\\n<!-- OpenXml:0.00s  agent ctrl:0.01s  xml:1.56s  xsl clob before parse:0.00s  xsl extr&stylesheet:0.00s  xsl clob before parse:0.00s  xsl after parsing:0.01s  xsl ctrl data:0.00s  transform 2:0.14s  xsl process:0.00s  -->'"
      ]
     },
     "execution_count": 6,
     "metadata": {},
     "output_type": "execute_result"
    }
   ],
   "source": [
    "r.text"
   ]
  },
  {
   "cell_type": "code",
   "execution_count": 7,
   "metadata": {
    "collapsed": true
   },
   "outputs": [],
   "source": [
    "semester_bachelor=['Bachelor semestre 1','Bachelor semestre 2','Bachelor semestre 3','Bachelor semestre 4','Bachelor semestre 5','Bachelor semestre 6']\n",
    "semester_master=['Master semestre 1','Master semestre 2','Master semestre 3','Projet Master automne','Projet Master printemps']\n",
    "years=['2007-2008','2008-2009','2009-2010','2010-2011','2011-2012','2012-2013','2013-2014','2014-2015','2015-2016','2016-2017']"
   ]
  },
  {
   "cell_type": "code",
   "execution_count": 8,
   "metadata": {
    "collapsed": false
   },
   "outputs": [],
   "source": [
    "# Generate dictionary\n",
    "main_dictionary={}\n",
    "for year in years:\n",
    "    main_dictionary[year]=dict()\n",
    "    for item in semester_bachelor:\n",
    "        main_dictionary[year][item]=0\n",
    "    for item in semester_master:\n",
    "        main_dictionary[year][item]=0\n",
    "    "
   ]
  },
  {
   "cell_type": "code",
   "execution_count": 9,
   "metadata": {
    "collapsed": false
   },
   "outputs": [],
   "source": [
    "soup=BeautifulSoup(r.text, \"lxml\")"
   ]
  },
  {
   "cell_type": "code",
   "execution_count": 10,
   "metadata": {
    "collapsed": false
   },
   "outputs": [],
   "source": [
    "# Parse the parameter \"periode_academique\"\n",
    "\n",
    "parse_years=soup.find_all('option')\n",
    "\n",
    "for year in main_dictionary:\n",
    "    for item in parse_years:\n",
    "        if year==item.string:\n",
    "            main_dictionary[year]['periode_academique']=str(item).split(\"\\\"\")[1]"
   ]
  },
  {
   "cell_type": "code",
   "execution_count": 11,
   "metadata": {
    "collapsed": false
   },
   "outputs": [],
   "source": [
    "tag=soup.body\n",
    "\n",
    "gps_list=tag.find_all('a')"
   ]
  },
  {
   "cell_type": "code",
   "execution_count": 12,
   "metadata": {
    "collapsed": false,
    "scrolled": false
   },
   "outputs": [],
   "source": [
    "# Process the GPS list\n",
    "# Remove the ones without \"Informatique\", \"Master\" or \"Bachelor\"\n",
    "# Hard preprocessing to fast eliminate the unwanted strings\n",
    "gps_processed=[]\n",
    "key1='Informatique'\n",
    "key2='Bachelor'\n",
    "key3='Master'\n",
    "for i in gps_list:\n",
    "    if key1 in i.contents[0] and (key2 in i.contents[0] or key3 in i.contents[0]):\n",
    "        gps_processed.append(i)\n"
   ]
  },
  {
   "cell_type": "code",
   "execution_count": 13,
   "metadata": {
    "collapsed": false
   },
   "outputs": [
    {
     "name": "stdout",
     "output_type": "stream",
     "text": [
      "{'2009-2010': {'Bachelor semestre 5': '71297605', 'Projet Master automne': '109592334', 'Bachelor semestre 4': '109576992', 'Bachelor semestre 6': '71297626', 'Bachelor semestre 1': '213617925', 'Bachelor semestre 2': '213617944', 'Projet Master printemps': '109592400', 'Bachelor semestre 3': '109576974', 'Master semestre 2': '213629869', 'Master semestre 1': '213629838', 'periode_academique': '978195', 'Master semestre 3': '109592375'}, '2007-2008': {'Bachelor semestre 5': '19561980', 'Projet Master automne': '39495382', 'Bachelor semestre 4': '39494823', 'Bachelor semestre 6': '19561998', 'Bachelor semestre 1': '71297531', 'Bachelor semestre 2': '71297550', 'Projet Master printemps': '39495444', 'Bachelor semestre 3': '39494788', 'Master semestre 2': '71450725', 'Master semestre 1': '71450699', 'periode_academique': '978181', 'Master semestre 3': '39495424'}, '2014-2015': {'Bachelor semestre 5': '1378362202', 'Projet Master automne': '1650773332', 'Bachelor semestre 4': '1650771947', 'Bachelor semestre 6': '1378362238', 'Bachelor semestre 1': '1744377893', 'Bachelor semestre 2': '1744377921', 'Projet Master printemps': '1650773405', 'Bachelor semestre 3': '1650771920', 'Master semestre 2': '1745490396', 'Master semestre 1': '1745490358', 'periode_academique': '213637922', 'Master semestre 3': '1650773371'}, '2013-2014': {'Bachelor semestre 5': '736309059', 'Projet Master automne': '1378438499', 'Bachelor semestre 4': '1378362175', 'Bachelor semestre 6': '736309090', 'Bachelor semestre 1': '1650771864', 'Bachelor semestre 2': '1650771892', 'Projet Master printemps': '1378438573', 'Bachelor semestre 3': '1378362148', 'Master semestre 2': '1650773297', 'Master semestre 1': '1650773259', 'periode_academique': '213637754', 'Master semestre 3': '1378438538'}, '2016-2017': {'Bachelor semestre 5': '1744378003', 'Projet Master automne': '1897033346', 'Bachelor semestre 4': '1897033019', 'Bachelor semestre 6': '1744378039', 'Bachelor semestre 1': '2021043255', 'Bachelor semestre 2': '2021043310', 'Projet Master printemps': '1897033467', 'Bachelor semestre 3': '1897032970', 'Master semestre 2': '2021044095', 'Master semestre 1': '2021044028', 'periode_academique': '355925344', 'Master semestre 3': '1897033409'}, '2015-2016': {'Bachelor semestre 5': '1650771974', 'Projet Master automne': '1745490431', 'Bachelor semestre 4': '1744377976', 'Bachelor semestre 6': '1650772010', 'Bachelor semestre 1': '1897032870', 'Bachelor semestre 2': '1897032920', 'Projet Master printemps': '1745490504', 'Bachelor semestre 3': '1744377949', 'Master semestre 2': '1897033287', 'Master semestre 1': '1897033225', 'periode_academique': '213638028', 'Master semestre 3': '1745490470'}, '2011-2012': {'Bachelor semestre 5': '213617999', 'Projet Master automne': '357707070', 'Bachelor semestre 4': '357704559', 'Bachelor semestre 6': '213618020', 'Bachelor semestre 1': '736308968', 'Bachelor semestre 2': '736308992', 'Projet Master printemps': '357707133', 'Bachelor semestre 3': '357704537', 'Master semestre 2': '736292183', 'Master semestre 1': '736292150', 'periode_academique': '123455150', 'Master semestre 3': '357707104'}, '2012-2013': {'Bachelor semestre 5': '357704581', 'Projet Master automne': '736292213', 'Bachelor semestre 4': '736309037', 'Bachelor semestre 6': '357704613', 'Bachelor semestre 1': '1378362092', 'Bachelor semestre 2': '1378362120', 'Projet Master printemps': '736292278', 'Bachelor semestre 3': '736309015', 'Master semestre 2': '1378438462', 'Master semestre 1': '1378438423', 'periode_academique': '123456101', 'Master semestre 3': '736292248'}, '2010-2011': {'Bachelor semestre 5': '109577010', 'Projet Master automne': '213629894', 'Bachelor semestre 4': '213617981', 'Bachelor semestre 6': '109577031', 'Bachelor semestre 1': '357704486', 'Bachelor semestre 2': '357704513', 'Projet Master printemps': '213629966', 'Bachelor semestre 3': '213617963', 'Master semestre 2': '357707041', 'Master semestre 1': '357707009', 'periode_academique': '39486325', 'Master semestre 3': '213629934'}, '2008-2009': {'Bachelor semestre 5': '39494874', 'Projet Master automne': '71450749', 'Bachelor semestre 4': '71297587', 'Bachelor semestre 6': '39494897', 'Bachelor semestre 1': '109576936', 'Bachelor semestre 2': '109576955', 'Projet Master printemps': '82157266', 'Bachelor semestre 3': '71297569', 'Master semestre 2': '109592309', 'Master semestre 1': '109592281', 'periode_academique': '978187', 'Master semestre 3': '82157231'}}\n"
     ]
    }
   ],
   "source": [
    "# Keep only the right ones - get the GPS in the main_dictionary\n",
    "for year in main_dictionary:\n",
    "    for semester in main_dictionary[year]:\n",
    "        for item in gps_processed:\n",
    "            if 'Informatique, '+year+', '+semester==item.contents[0]:\n",
    "                gps=str(item).split(\"'\")[1].split(\"=\")[1]\n",
    "                main_dictionary[year][semester]=gps\n",
    "print(main_dictionary)"
   ]
  },
  {
   "cell_type": "markdown",
   "metadata": {},
   "source": [
    "# Get the tables"
   ]
  },
  {
   "cell_type": "code",
   "execution_count": 14,
   "metadata": {
    "collapsed": true
   },
   "outputs": [],
   "source": [
    "base_request='http://isa.epfl.ch/imoniteur_ISAP/!GEDPUBLICREPORTS.html'"
   ]
  },
  {
   "cell_type": "code",
   "execution_count": 15,
   "metadata": {
    "collapsed": false
   },
   "outputs": [],
   "source": [
    "parameters={'ww_i_reportModel':'133685247','ww_i_reportModelXsl':'133685270'\n",
    "            ,'ww_x_UNITE_ACAD':'249847','ww_x_PERIODE_ACAD':0,'ww_x_GPS':0}"
   ]
  },
  {
   "cell_type": "code",
   "execution_count": 16,
   "metadata": {
    "collapsed": false
   },
   "outputs": [
    {
     "name": "stdout",
     "output_type": "stream",
     "text": [
      "Year 2009-2010 parsed\n",
      "Year 2007-2008 parsed\n",
      "Year 2014-2015 parsed\n",
      "Year 2013-2014 parsed\n",
      "Year 2016-2017 parsed\n",
      "Year 2015-2016 parsed\n",
      "Year 2011-2012 parsed\n",
      "Year 2012-2013 parsed\n",
      "Year 2010-2011 parsed\n",
      "Year 2008-2009 parsed\n"
     ]
    }
   ],
   "source": [
    "bachelor_data={x:dict() for x in main_dictionary}\n",
    "master_data={x:dict() for x in main_dictionary}\n",
    "for year in main_dictionary:\n",
    "    parameters['ww_x_PERIODE_ACAD']=main_dictionary[year]['periode_academique']\n",
    "    for semester in main_dictionary[year]:\n",
    "        if semester=='periode_academique':\n",
    "            continue\n",
    "        parameters['ww_x_GPS']=main_dictionary[year][semester]\n",
    "        \n",
    "        # Post the request\n",
    "        req = requests.get(base_request,params=parameters)\n",
    "        \n",
    "        # Get the html file with BeautifulSoap (maybe not needed)\n",
    "        #html_table=BeautifulSoup(req.text, \"lxml\")\n",
    "        \n",
    "        # Import and process the dataframe with pandas\n",
    "        try:\n",
    "            df=pd.read_html(str(req.text),skiprows=1,header=0)[0]\n",
    "            df.columns=['Sex','Name','OrienB','OrienM','Specialization','Unuseful1','Mineur','State','Exchange','ExchangeSchool','Sciper','Unuseful2']\n",
    "            del df['OrienB'],df['OrienM'],df['Unuseful1'],df['State'],df['Exchange'],df['ExchangeSchool'],df['Unuseful2']\n",
    "            df['Year']=year\n",
    "        except:\n",
    "            df=pd.DataFrame({'Sex':[],'Name':[],'Specialization':[],'Mineur':[],'Sciper':[],'Year':[]})\n",
    "        \n",
    "        # Type semester can be 'Bachelor' or 'Master'. \n",
    "        type_semester=semester.split(' ')[0]\n",
    "        if type_semester=='Projet':\n",
    "            type_semester='Master'\n",
    "            \n",
    "        # Semester number is the number of the semester. It is 4 for master projects.\n",
    "        semester_number=-1\n",
    "        if semester!='Projet Master automne' and semester!='Projet Master printemps':\n",
    "            semester_number=int(semester.split(' ')[2])\n",
    "        else:\n",
    "            semester_number=4\n",
    "        df['Semester']=semester_number\n",
    "        df=df.set_index(['Sciper','Year','Semester'])\n",
    "\n",
    "        if type_semester==\"Bachelor\":\n",
    "            bachelor_data[year][semester_number]=df\n",
    "        elif type_semester==\"Master\":\n",
    "            master_data[year][semester_number]=df\n",
    "        else:\n",
    "            print(type_semester)\n",
    "            raise(\"Error parsing file: type semester not acceptable\")\n",
    "    print(\"Year \"+year+\" parsed\")"
   ]
  },
  {
   "cell_type": "code",
   "execution_count": 17,
   "metadata": {
    "collapsed": false
   },
   "outputs": [],
   "source": [
    "# Check of correct parsing of all the semesters\n",
    "bachelor_data_semesters=0\n",
    "master_data_semesters=0\n",
    "for year in master_data:\n",
    "    master_data_semesters+=len(master_data[year])\n",
    "for year in bachelor_data:\n",
    "    bachelor_data_semesters+=len(bachelor_data[year])\n",
    "if (bachelor_data_semesters+master_data_semesters!=100):\n",
    "    raise(\"Some semester has not been correctly parsed\")"
   ]
  },
  {
   "cell_type": "markdown",
   "metadata": {},
   "source": [
    "# Bachelor analysis"
   ]
  },
  {
   "cell_type": "code",
   "execution_count": 18,
   "metadata": {
    "collapsed": false,
    "scrolled": false
   },
   "outputs": [],
   "source": [
    "bachelor_tables=[]\n",
    "for year in bachelor_data:\n",
    "    for semester in bachelor_data[year]:\n",
    "        bachelor_tables.append(bachelor_data[year][semester])\n",
    "total_bachelor=pd.concat(bachelor_tables,axis=0,join='outer')\n",
    "total_bachelor=total_bachelor.reset_index()\n",
    "groups_bachelor=total_bachelor.groupby('Sciper')"
   ]
  },
  {
   "cell_type": "code",
   "execution_count": 19,
   "metadata": {
    "collapsed": false,
    "scrolled": false
   },
   "outputs": [
    {
     "data": {
      "text/html": [
       "<div>\n",
       "<table border=\"1\" class=\"dataframe\">\n",
       "  <thead>\n",
       "    <tr style=\"text-align: right;\">\n",
       "      <th></th>\n",
       "      <th>Name</th>\n",
       "      <th>Semesters</th>\n",
       "      <th>Sex</th>\n",
       "    </tr>\n",
       "    <tr>\n",
       "      <th>Sciper</th>\n",
       "      <th></th>\n",
       "      <th></th>\n",
       "      <th></th>\n",
       "    </tr>\n",
       "  </thead>\n",
       "  <tbody>\n",
       "    <tr>\n",
       "      <th>147008.0</th>\n",
       "      <td>Good Xavier</td>\n",
       "      <td>6.0</td>\n",
       "      <td>M</td>\n",
       "    </tr>\n",
       "    <tr>\n",
       "      <th>169569.0</th>\n",
       "      <td>Arévalo Christian</td>\n",
       "      <td>6.0</td>\n",
       "      <td>M</td>\n",
       "    </tr>\n",
       "    <tr>\n",
       "      <th>169731.0</th>\n",
       "      <td>Knecht Mathieu</td>\n",
       "      <td>8.0</td>\n",
       "      <td>M</td>\n",
       "    </tr>\n",
       "    <tr>\n",
       "      <th>169795.0</th>\n",
       "      <td>Scheiben Pascal</td>\n",
       "      <td>9.0</td>\n",
       "      <td>M</td>\n",
       "    </tr>\n",
       "    <tr>\n",
       "      <th>171195.0</th>\n",
       "      <td>Richter Arnaud</td>\n",
       "      <td>6.0</td>\n",
       "      <td>M</td>\n",
       "    </tr>\n",
       "  </tbody>\n",
       "</table>\n",
       "</div>"
      ],
      "text/plain": [
       "                       Name  Semesters Sex\n",
       "Sciper                                    \n",
       "147008.0        Good Xavier        6.0   M\n",
       "169569.0  Arévalo Christian        6.0   M\n",
       "169731.0     Knecht Mathieu        8.0   M\n",
       "169795.0    Scheiben Pascal        9.0   M\n",
       "171195.0     Richter Arnaud        6.0   M"
      ]
     },
     "execution_count": 19,
     "metadata": {},
     "output_type": "execute_result"
    }
   ],
   "source": [
    "final_df_bachelor=pd.DataFrame({'Sciper':[],'Name':[],'Sex':[],'Semesters':[]})\n",
    "\n",
    "for student,group in groups_bachelor:\n",
    "    first_year=group['Semester'].isin([1]).sum()\n",
    "    last_year=group['Semester'].isin([6]).sum()\n",
    "    \n",
    "    if first_year and last_year:\n",
    "        number_of_years=group.shape[0]\n",
    "        name=group['Name'].iloc[0]\n",
    "        sex=group['Sex'].iloc[0]\n",
    "        if sex==\"Monsieur\":\n",
    "            sex='M'\n",
    "        elif sex==\"Madame\":\n",
    "            sex='F'\n",
    "        else:\n",
    "            raise(\"Not existing sex\")\n",
    "        ser=pd.DataFrame({'Sciper':[student],'Name':[name],'Sex':[sex],'Semesters':[number_of_years]})\n",
    "        final_df_bachelor=final_df_bachelor.append(ser)\n",
    "    \n",
    "final_df_bachelor=final_df_bachelor.set_index('Sciper')\n",
    "final_df_bachelor.head()"
   ]
  },
  {
   "cell_type": "code",
   "execution_count": 20,
   "metadata": {
    "collapsed": false
   },
   "outputs": [
    {
     "data": {
      "text/html": [
       "<div>\n",
       "<table border=\"1\" class=\"dataframe\">\n",
       "  <thead>\n",
       "    <tr style=\"text-align: right;\">\n",
       "      <th></th>\n",
       "      <th></th>\n",
       "      <th>Semesters</th>\n",
       "    </tr>\n",
       "    <tr>\n",
       "      <th>Sex</th>\n",
       "      <th></th>\n",
       "      <th></th>\n",
       "    </tr>\n",
       "  </thead>\n",
       "  <tbody>\n",
       "    <tr>\n",
       "      <th rowspan=\"8\" valign=\"top\">F</th>\n",
       "      <th>count</th>\n",
       "      <td>29.000000</td>\n",
       "    </tr>\n",
       "    <tr>\n",
       "      <th>mean</th>\n",
       "      <td>6.793103</td>\n",
       "    </tr>\n",
       "    <tr>\n",
       "      <th>std</th>\n",
       "      <td>1.346406</td>\n",
       "    </tr>\n",
       "    <tr>\n",
       "      <th>min</th>\n",
       "      <td>6.000000</td>\n",
       "    </tr>\n",
       "    <tr>\n",
       "      <th>25%</th>\n",
       "      <td>6.000000</td>\n",
       "    </tr>\n",
       "    <tr>\n",
       "      <th>50%</th>\n",
       "      <td>6.000000</td>\n",
       "    </tr>\n",
       "    <tr>\n",
       "      <th>75%</th>\n",
       "      <td>8.000000</td>\n",
       "    </tr>\n",
       "    <tr>\n",
       "      <th>max</th>\n",
       "      <td>11.000000</td>\n",
       "    </tr>\n",
       "    <tr>\n",
       "      <th rowspan=\"8\" valign=\"top\">M</th>\n",
       "      <th>count</th>\n",
       "      <td>368.000000</td>\n",
       "    </tr>\n",
       "    <tr>\n",
       "      <th>mean</th>\n",
       "      <td>7.105978</td>\n",
       "    </tr>\n",
       "    <tr>\n",
       "      <th>std</th>\n",
       "      <td>1.536891</td>\n",
       "    </tr>\n",
       "    <tr>\n",
       "      <th>min</th>\n",
       "      <td>4.000000</td>\n",
       "    </tr>\n",
       "    <tr>\n",
       "      <th>25%</th>\n",
       "      <td>6.000000</td>\n",
       "    </tr>\n",
       "    <tr>\n",
       "      <th>50%</th>\n",
       "      <td>6.000000</td>\n",
       "    </tr>\n",
       "    <tr>\n",
       "      <th>75%</th>\n",
       "      <td>8.000000</td>\n",
       "    </tr>\n",
       "    <tr>\n",
       "      <th>max</th>\n",
       "      <td>12.000000</td>\n",
       "    </tr>\n",
       "  </tbody>\n",
       "</table>\n",
       "</div>"
      ],
      "text/plain": [
       "            Semesters\n",
       "Sex                  \n",
       "F   count   29.000000\n",
       "    mean     6.793103\n",
       "    std      1.346406\n",
       "    min      6.000000\n",
       "    25%      6.000000\n",
       "    50%      6.000000\n",
       "    75%      8.000000\n",
       "    max     11.000000\n",
       "M   count  368.000000\n",
       "    mean     7.105978\n",
       "    std      1.536891\n",
       "    min      4.000000\n",
       "    25%      6.000000\n",
       "    50%      6.000000\n",
       "    75%      8.000000\n",
       "    max     12.000000"
      ]
     },
     "execution_count": 20,
     "metadata": {},
     "output_type": "execute_result"
    }
   ],
   "source": [
    "final_df_bachelor[['Sex','Semesters']].groupby('Sex').describe()"
   ]
  },
  {
   "cell_type": "markdown",
   "metadata": {},
   "source": [
    "# Master analysis - TODO"
   ]
  },
  {
   "cell_type": "code",
   "execution_count": 21,
   "metadata": {
    "collapsed": false,
    "scrolled": true
   },
   "outputs": [],
   "source": [
    "master_tables=[]\n",
    "for year in master_data:\n",
    "    for semester in master_data[year]:\n",
    "        master_tables.append(master_data[year][semester])\n",
    "total_master=pd.concat(master_tables,axis=0,join='outer')\n",
    "total_master=total_master.reset_index()\n",
    "groups_master=total_master.groupby('Sciper')"
   ]
  },
  {
   "cell_type": "code",
   "execution_count": 39,
   "metadata": {
    "collapsed": false,
    "scrolled": true
   },
   "outputs": [
    {
     "data": {
      "text/html": [
       "<div>\n",
       "<table border=\"1\" class=\"dataframe\">\n",
       "  <thead>\n",
       "    <tr style=\"text-align: right;\">\n",
       "      <th></th>\n",
       "      <th>Name</th>\n",
       "      <th>Semesters</th>\n",
       "      <th>Sex</th>\n",
       "      <th>Specialization</th>\n",
       "      <th>Year</th>\n",
       "    </tr>\n",
       "    <tr>\n",
       "      <th>Sciper</th>\n",
       "      <th></th>\n",
       "      <th></th>\n",
       "      <th></th>\n",
       "      <th></th>\n",
       "      <th></th>\n",
       "    </tr>\n",
       "  </thead>\n",
       "  <tbody>\n",
       "    <tr>\n",
       "      <th>146330.0</th>\n",
       "      <td>Cardinaux Damien</td>\n",
       "      <td>3.0</td>\n",
       "      <td>M</td>\n",
       "      <td></td>\n",
       "      <td>2008-2009</td>\n",
       "    </tr>\n",
       "    <tr>\n",
       "      <th>146742.0</th>\n",
       "      <td>Marx Clément</td>\n",
       "      <td>6.0</td>\n",
       "      <td>M</td>\n",
       "      <td>Signals, Images and Interfaces</td>\n",
       "      <td>2012-2013</td>\n",
       "    </tr>\n",
       "    <tr>\n",
       "      <th>146929.0</th>\n",
       "      <td>Junod Antoine</td>\n",
       "      <td>2.0</td>\n",
       "      <td>M</td>\n",
       "      <td></td>\n",
       "      <td>2007-2008</td>\n",
       "    </tr>\n",
       "    <tr>\n",
       "      <th>147008.0</th>\n",
       "      <td>Good Xavier</td>\n",
       "      <td>4.0</td>\n",
       "      <td>M</td>\n",
       "      <td>Signals, Images and Interfaces</td>\n",
       "      <td>2012-2013</td>\n",
       "    </tr>\n",
       "    <tr>\n",
       "      <th>152232.0</th>\n",
       "      <td>Anagnostaras David</td>\n",
       "      <td>3.0</td>\n",
       "      <td>M</td>\n",
       "      <td></td>\n",
       "      <td>2008-2009</td>\n",
       "    </tr>\n",
       "  </tbody>\n",
       "</table>\n",
       "</div>"
      ],
      "text/plain": [
       "                        Name  Semesters Sex                  Specialization  \\\n",
       "Sciper                                                                        \n",
       "146330.0    Cardinaux Damien        3.0   M                                   \n",
       "146742.0        Marx Clément        6.0   M  Signals, Images and Interfaces   \n",
       "146929.0       Junod Antoine        2.0   M                                   \n",
       "147008.0         Good Xavier        4.0   M  Signals, Images and Interfaces   \n",
       "152232.0  Anagnostaras David        3.0   M                                   \n",
       "\n",
       "               Year  \n",
       "Sciper               \n",
       "146330.0  2008-2009  \n",
       "146742.0  2012-2013  \n",
       "146929.0  2007-2008  \n",
       "147008.0  2012-2013  \n",
       "152232.0  2008-2009  "
      ]
     },
     "execution_count": 39,
     "metadata": {},
     "output_type": "execute_result"
    }
   ],
   "source": [
    "final_df_master=pd.DataFrame({'Sciper':[],'Name':[],'Sex':[],'Semesters':[],'Specialization':[]})\n",
    "\n",
    "for student,group in groups_master:\n",
    "    # Store the check variables\n",
    "    first_semester=group['Semester'].isin([1]).sum()\n",
    "    second_semester=group['Semester'].isin([2]).sum()\n",
    "    third_semester=group['Semester'].isin([3]).sum()\n",
    "    master_project_done=group['Semester'].isin([4]).sum()\n",
    "    mineur=group['Mineur'].fillna('').sum()!=''\n",
    "    specialization=group.Specialization.fillna(method='backfill').fillna(method='pad').fillna('').iloc[0]    \n",
    "    year=group['Year'].max()\n",
    "\n",
    "    # Store only the students with:\n",
    "    #   - first_semester and master_project_done\n",
    "    #   - first_semester and third_semester \n",
    "    #   - first_semester and second_semester and not mineur\n",
    "    check1=first_semester and master_project_done\n",
    "    check2=first_semester and third_semester\n",
    "    check3=first_semester and second_semester and not mineur\n",
    "    \n",
    "    \n",
    "    \n",
    "    if check1 or check2 or check3:\n",
    "        number_of_years=group.shape[0]\n",
    "        name=group['Name'].iloc[0]\n",
    "        sex=group['Sex'].iloc[0]\n",
    "        if sex==\"Monsieur\":\n",
    "            sex='M'\n",
    "        elif sex==\"Madame\":\n",
    "            sex='F'\n",
    "        else:\n",
    "            raise(\"Not existing sex\")\n",
    "        ser=pd.DataFrame({'Sciper':[student],'Name':[name],'Sex':[sex],'Semesters':[number_of_years],\n",
    "                         'Specialization':[specialization],'Year':[year]})\n",
    "        final_df_master=final_df_master.append(ser)\n",
    "    \n",
    "final_df_master=final_df_master.set_index('Sciper')\n",
    "final_df_master.head()"
   ]
  },
  {
   "cell_type": "code",
   "execution_count": 23,
   "metadata": {
    "collapsed": false,
    "scrolled": false
   },
   "outputs": [
    {
     "data": {
      "text/html": [
       "<div>\n",
       "<table border=\"1\" class=\"dataframe\">\n",
       "  <thead>\n",
       "    <tr style=\"text-align: right;\">\n",
       "      <th></th>\n",
       "      <th></th>\n",
       "      <th>Semesters</th>\n",
       "    </tr>\n",
       "    <tr>\n",
       "      <th>Sex</th>\n",
       "      <th></th>\n",
       "      <th></th>\n",
       "    </tr>\n",
       "  </thead>\n",
       "  <tbody>\n",
       "    <tr>\n",
       "      <th rowspan=\"8\" valign=\"top\">F</th>\n",
       "      <th>count</th>\n",
       "      <td>101.000000</td>\n",
       "    </tr>\n",
       "    <tr>\n",
       "      <th>mean</th>\n",
       "      <td>3.297030</td>\n",
       "    </tr>\n",
       "    <tr>\n",
       "      <th>std</th>\n",
       "      <td>1.015328</td>\n",
       "    </tr>\n",
       "    <tr>\n",
       "      <th>min</th>\n",
       "      <td>2.000000</td>\n",
       "    </tr>\n",
       "    <tr>\n",
       "      <th>25%</th>\n",
       "      <td>3.000000</td>\n",
       "    </tr>\n",
       "    <tr>\n",
       "      <th>50%</th>\n",
       "      <td>3.000000</td>\n",
       "    </tr>\n",
       "    <tr>\n",
       "      <th>75%</th>\n",
       "      <td>4.000000</td>\n",
       "    </tr>\n",
       "    <tr>\n",
       "      <th>max</th>\n",
       "      <td>7.000000</td>\n",
       "    </tr>\n",
       "    <tr>\n",
       "      <th rowspan=\"8\" valign=\"top\">M</th>\n",
       "      <th>count</th>\n",
       "      <td>661.000000</td>\n",
       "    </tr>\n",
       "    <tr>\n",
       "      <th>mean</th>\n",
       "      <td>3.284418</td>\n",
       "    </tr>\n",
       "    <tr>\n",
       "      <th>std</th>\n",
       "      <td>0.972757</td>\n",
       "    </tr>\n",
       "    <tr>\n",
       "      <th>min</th>\n",
       "      <td>2.000000</td>\n",
       "    </tr>\n",
       "    <tr>\n",
       "      <th>25%</th>\n",
       "      <td>3.000000</td>\n",
       "    </tr>\n",
       "    <tr>\n",
       "      <th>50%</th>\n",
       "      <td>3.000000</td>\n",
       "    </tr>\n",
       "    <tr>\n",
       "      <th>75%</th>\n",
       "      <td>4.000000</td>\n",
       "    </tr>\n",
       "    <tr>\n",
       "      <th>max</th>\n",
       "      <td>8.000000</td>\n",
       "    </tr>\n",
       "  </tbody>\n",
       "</table>\n",
       "</div>"
      ],
      "text/plain": [
       "            Semesters\n",
       "Sex                  \n",
       "F   count  101.000000\n",
       "    mean     3.297030\n",
       "    std      1.015328\n",
       "    min      2.000000\n",
       "    25%      3.000000\n",
       "    50%      3.000000\n",
       "    75%      4.000000\n",
       "    max      7.000000\n",
       "M   count  661.000000\n",
       "    mean     3.284418\n",
       "    std      0.972757\n",
       "    min      2.000000\n",
       "    25%      3.000000\n",
       "    50%      3.000000\n",
       "    75%      4.000000\n",
       "    max      8.000000"
      ]
     },
     "execution_count": 23,
     "metadata": {},
     "output_type": "execute_result"
    }
   ],
   "source": [
    "final_df_master[['Sex','Semesters']].groupby('Sex').describe()"
   ]
  },
  {
   "cell_type": "code",
   "execution_count": 26,
   "metadata": {
    "collapsed": false
   },
   "outputs": [
    {
     "data": {
      "text/html": [
       "<div>\n",
       "<table border=\"1\" class=\"dataframe\">\n",
       "  <thead>\n",
       "    <tr style=\"text-align: right;\">\n",
       "      <th></th>\n",
       "      <th>Semesters</th>\n",
       "    </tr>\n",
       "    <tr>\n",
       "      <th>Specialization</th>\n",
       "      <th></th>\n",
       "    </tr>\n",
       "  </thead>\n",
       "  <tbody>\n",
       "    <tr>\n",
       "      <th></th>\n",
       "      <td>519</td>\n",
       "    </tr>\n",
       "    <tr>\n",
       "      <th>Biocomputing</th>\n",
       "      <td>4</td>\n",
       "    </tr>\n",
       "    <tr>\n",
       "      <th>Computer Engineering - SP</th>\n",
       "      <td>20</td>\n",
       "    </tr>\n",
       "    <tr>\n",
       "      <th>Computer Science Theory</th>\n",
       "      <td>1</td>\n",
       "    </tr>\n",
       "    <tr>\n",
       "      <th>Data Analytics</th>\n",
       "      <td>6</td>\n",
       "    </tr>\n",
       "    <tr>\n",
       "      <th>Foundations of Software</th>\n",
       "      <td>62</td>\n",
       "    </tr>\n",
       "    <tr>\n",
       "      <th>Information Security - SP</th>\n",
       "      <td>7</td>\n",
       "    </tr>\n",
       "    <tr>\n",
       "      <th>Internet Information Systems</th>\n",
       "      <td>1</td>\n",
       "    </tr>\n",
       "    <tr>\n",
       "      <th>Internet computing</th>\n",
       "      <td>91</td>\n",
       "    </tr>\n",
       "    <tr>\n",
       "      <th>Service science</th>\n",
       "      <td>4</td>\n",
       "    </tr>\n",
       "    <tr>\n",
       "      <th>Signals, Images and Interfaces</th>\n",
       "      <td>31</td>\n",
       "    </tr>\n",
       "    <tr>\n",
       "      <th>Software Systems</th>\n",
       "      <td>16</td>\n",
       "    </tr>\n",
       "  </tbody>\n",
       "</table>\n",
       "</div>"
      ],
      "text/plain": [
       "                                Semesters\n",
       "Specialization                           \n",
       "                                      519\n",
       "Biocomputing                            4\n",
       "Computer Engineering - SP              20\n",
       "Computer Science Theory                 1\n",
       "Data Analytics                          6\n",
       "Foundations of Software                62\n",
       "Information Security - SP               7\n",
       "Internet Information Systems            1\n",
       "Internet computing                     91\n",
       "Service science                         4\n",
       "Signals, Images and Interfaces         31\n",
       "Software Systems                       16"
      ]
     },
     "execution_count": 26,
     "metadata": {},
     "output_type": "execute_result"
    }
   ],
   "source": [
    "specialization_analysis=final_df_master[['Semesters','Specialization']].groupby('Specialization')\n",
    "specialization_analysis.count()"
   ]
  },
  {
   "cell_type": "code",
   "execution_count": 61,
   "metadata": {
    "collapsed": false,
    "scrolled": true
   },
   "outputs": [
    {
     "data": {
      "text/html": [
       "<div>\n",
       "<table border=\"1\" class=\"dataframe\">\n",
       "  <thead>\n",
       "    <tr style=\"text-align: right;\">\n",
       "      <th></th>\n",
       "      <th>Semesters</th>\n",
       "      <th>t-test</th>\n",
       "      <th>prova</th>\n",
       "    </tr>\n",
       "    <tr>\n",
       "      <th>Specialization</th>\n",
       "      <th></th>\n",
       "      <th></th>\n",
       "      <th></th>\n",
       "    </tr>\n",
       "  </thead>\n",
       "  <tbody>\n",
       "    <tr>\n",
       "      <th></th>\n",
       "      <td>3.055877</td>\n",
       "      <td>0.000000</td>\n",
       "      <td>1.000000e+00</td>\n",
       "    </tr>\n",
       "    <tr>\n",
       "      <th>Biocomputing</th>\n",
       "      <td>4.250000</td>\n",
       "      <td>2.117015</td>\n",
       "      <td>3.473189e-02</td>\n",
       "    </tr>\n",
       "    <tr>\n",
       "      <th>Computer Engineering - SP</th>\n",
       "      <td>3.600000</td>\n",
       "      <td>18.148938</td>\n",
       "      <td>9.296216e-58</td>\n",
       "    </tr>\n",
       "    <tr>\n",
       "      <th>Computer Science Theory</th>\n",
       "      <td>3.000000</td>\n",
       "      <td>NaN</td>\n",
       "      <td>NaN</td>\n",
       "    </tr>\n",
       "    <tr>\n",
       "      <th>Data Analytics</th>\n",
       "      <td>2.833333</td>\n",
       "      <td>-7.585569</td>\n",
       "      <td>1.524427e-13</td>\n",
       "    </tr>\n",
       "    <tr>\n",
       "      <th>Foundations of Software</th>\n",
       "      <td>3.919355</td>\n",
       "      <td>57.803129</td>\n",
       "      <td>1.223613e-242</td>\n",
       "    </tr>\n",
       "    <tr>\n",
       "      <th>Information Security - SP</th>\n",
       "      <td>3.285714</td>\n",
       "      <td>6.460912</td>\n",
       "      <td>2.381030e-10</td>\n",
       "    </tr>\n",
       "    <tr>\n",
       "      <th>Internet Information Systems</th>\n",
       "      <td>3.000000</td>\n",
       "      <td>NaN</td>\n",
       "      <td>NaN</td>\n",
       "    </tr>\n",
       "    <tr>\n",
       "      <th>Internet computing</th>\n",
       "      <td>3.824176</td>\n",
       "      <td>64.232246</td>\n",
       "      <td>3.827807e-273</td>\n",
       "    </tr>\n",
       "    <tr>\n",
       "      <th>Service science</th>\n",
       "      <td>3.250000</td>\n",
       "      <td>3.030338</td>\n",
       "      <td>2.564155e-03</td>\n",
       "    </tr>\n",
       "    <tr>\n",
       "      <th>Signals, Images and Interfaces</th>\n",
       "      <td>4.032258</td>\n",
       "      <td>19.561916</td>\n",
       "      <td>5.014701e-65</td>\n",
       "    </tr>\n",
       "    <tr>\n",
       "      <th>Software Systems</th>\n",
       "      <td>3.375000</td>\n",
       "      <td>18.569932</td>\n",
       "      <td>9.824697e-60</td>\n",
       "    </tr>\n",
       "  </tbody>\n",
       "</table>\n",
       "</div>"
      ],
      "text/plain": [
       "                                Semesters     t-test          prova\n",
       "Specialization                                                     \n",
       "                                 3.055877   0.000000   1.000000e+00\n",
       "Biocomputing                     4.250000   2.117015   3.473189e-02\n",
       "Computer Engineering - SP        3.600000  18.148938   9.296216e-58\n",
       "Computer Science Theory          3.000000        NaN            NaN\n",
       "Data Analytics                   2.833333  -7.585569   1.524427e-13\n",
       "Foundations of Software          3.919355  57.803129  1.223613e-242\n",
       "Information Security - SP        3.285714   6.460912   2.381030e-10\n",
       "Internet Information Systems     3.000000        NaN            NaN\n",
       "Internet computing               3.824176  64.232246  3.827807e-273\n",
       "Service science                  3.250000   3.030338   2.564155e-03\n",
       "Signals, Images and Interfaces   4.032258  19.561916   5.014701e-65\n",
       "Software Systems                 3.375000  18.569932   9.824697e-60"
      ]
     },
     "execution_count": 61,
     "metadata": {},
     "output_type": "execute_result"
    }
   ],
   "source": [
    "from scipy.stats import t\n",
    "\n",
    "specialization_mean=specialization_analysis.mean()\n",
    "specialization_std=specialization_analysis.std()\n",
    "specialization_count=specialization_analysis.count()\n",
    "output=specialization_analysis.mean()\n",
    "base_mean=specialization_mean.iloc[0]\n",
    "base_std=specialization_std.iloc[0]\n",
    "base_count=specialization_count.iloc[0]\n",
    "nu=specialization_count+base_count-2\n",
    "#print(nu.shape,specialization_mean.shape,t.cdf(specialization_mean,nu))\n",
    "output['t-test']=(specialization_mean-base_mean)/(specialization_std*specialization_std/specialization_count+base_std*base_std/base_count)\n",
    "output['prova']=prova=t.sf(abs(output['t-test'].reshape([output['t-test'].shape[0],1])),nu)*2#stats.t.sf(output['t-test'],nu)*2\n",
    "output\n"
   ]
  },
  {
   "cell_type": "code",
   "execution_count": null,
   "metadata": {
    "collapsed": true
   },
   "outputs": [],
   "source": []
  }
 ],
 "metadata": {
  "anaconda-cloud": {},
  "kernelspec": {
   "display_name": "Python [Root]",
   "language": "python",
   "name": "Python [Root]"
  },
  "language_info": {
   "codemirror_mode": {
    "name": "ipython",
    "version": 3
   },
   "file_extension": ".py",
   "mimetype": "text/x-python",
   "name": "python",
   "nbconvert_exporter": "python",
   "pygments_lexer": "ipython3",
   "version": "3.5.2"
  }
 },
 "nbformat": 4,
 "nbformat_minor": 0
}
