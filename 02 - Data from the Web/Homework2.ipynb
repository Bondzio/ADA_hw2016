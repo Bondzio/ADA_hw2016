{
 "cells": [
  {
   "cell_type": "markdown",
   "metadata": {},
   "source": [
    "# Homework 2"
   ]
  },
  {
   "cell_type": "markdown",
   "metadata": {},
   "source": [
    "We first load the libraries needed."
   ]
  },
  {
   "cell_type": "code",
   "execution_count": 1,
   "metadata": {
    "collapsed": false
   },
   "outputs": [],
   "source": [
    "%matplotlib inline\n",
    "import numpy as np\n",
    "import pandas as pd\n",
    "import matplotlib.pyplot as plt\n",
    "\n",
    "import requests\n",
    "from bs4 import BeautifulSoup\n",
    "\n",
    "from scipy.stats import t"
   ]
  },
  {
   "cell_type": "markdown",
   "metadata": {},
   "source": [
    "## 1. Get the information needed to extract data"
   ]
  },
  {
   "cell_type": "markdown",
   "metadata": {},
   "source": [
    "We then send a request on the page base_all_gps and use BeautifulSoup to analyze the html page in order to find all the informations we need to solve the exercise."
   ]
  },
  {
   "cell_type": "code",
   "execution_count": 2,
   "metadata": {
    "collapsed": true
   },
   "outputs": [],
   "source": [
    "base_all_gps='http://isa.epfl.ch/imoniteur_ISAP/!GEDPUBLICREPORTS.filter?ww_b_list=1&ww_i_reportmodel=133685247&ww_c_langue=&ww_i_reportModelXsl=133685270&zz_x_UNITE_ACAD=Informatique&ww_x_UNITE_ACAD=249847'\n",
    "r = requests.get(base_all_gps)"
   ]
  },
  {
   "cell_type": "code",
   "execution_count": 30,
   "metadata": {
    "collapsed": false,
    "scrolled": true
   },
   "outputs": [],
   "source": [
    "#r.text"
   ]
  },
  {
   "cell_type": "markdown",
   "metadata": {},
   "source": [
    "The three following lists consider the items we want to consider for our study."
   ]
  },
  {
   "cell_type": "code",
   "execution_count": 3,
   "metadata": {
    "collapsed": true
   },
   "outputs": [],
   "source": [
    "semester_bachelor=['Bachelor semestre 1','Bachelor semestre 2','Bachelor semestre 3','Bachelor semestre 4','Bachelor semestre 5','Bachelor semestre 6']\n",
    "semester_master=['Master semestre 1','Master semestre 2','Master semestre 3','Projet Master automne','Projet Master printemps']\n",
    "years=['2007-2008','2008-2009','2009-2010','2010-2011','2011-2012','2012-2013','2013-2014','2014-2015','2015-2016','2016-2017']"
   ]
  },
  {
   "cell_type": "markdown",
   "metadata": {},
   "source": [
    "We generate a dictionary that will help us to load the dataframe to analyse the data."
   ]
  },
  {
   "cell_type": "code",
   "execution_count": 4,
   "metadata": {
    "collapsed": false
   },
   "outputs": [],
   "source": [
    "# Generate dictionary\n",
    "main_dictionary={}\n",
    "for year in years:\n",
    "    main_dictionary[year]=dict()\n",
    "    for item in semester_bachelor:\n",
    "        main_dictionary[year][item]=0\n",
    "    for item in semester_master:\n",
    "        main_dictionary[year][item]=0\n",
    "    "
   ]
  },
  {
   "cell_type": "markdown",
   "metadata": {},
   "source": [
    "We use beautiful soup to read the html file."
   ]
  },
  {
   "cell_type": "code",
   "execution_count": 5,
   "metadata": {
    "collapsed": false
   },
   "outputs": [],
   "source": [
    "soup=BeautifulSoup(r.text, \"lxml\")"
   ]
  },
  {
   "cell_type": "markdown",
   "metadata": {},
   "source": [
    "Now we want to find the ids corresponding to the periode_academique of every year. "
   ]
  },
  {
   "cell_type": "code",
   "execution_count": 6,
   "metadata": {
    "collapsed": false,
    "scrolled": true
   },
   "outputs": [],
   "source": [
    "# Parse the parameter \"periode_academique\"\n",
    "parse_years=soup.find_all('option')\n",
    "\n",
    "for year in main_dictionary:\n",
    "    for item in parse_years:\n",
    "        if year==item.string:\n",
    "            main_dictionary[year]['periode_academique']=item.get('value')"
   ]
  },
  {
   "cell_type": "markdown",
   "metadata": {},
   "source": [
    "Now we want to find all the GPS ids. We only want the GPS of the elements whose values are either \"Informatique\", \"Master\" or \"Bachelor\". In the html file, we have seen that the informations we want are in the blocks called \"a\". "
   ]
  },
  {
   "cell_type": "code",
   "execution_count": 7,
   "metadata": {
    "collapsed": false
   },
   "outputs": [],
   "source": [
    "tag=soup.body\n",
    "gps_list=tag.find_all('a')"
   ]
  },
  {
   "cell_type": "code",
   "execution_count": 8,
   "metadata": {
    "collapsed": false,
    "scrolled": true
   },
   "outputs": [],
   "source": [
    "# Hard preprocessing to fast eliminate the unwanted strings\n",
    "gps_processed=[]\n",
    "key1='Informatique'\n",
    "key2='Bachelor'\n",
    "key3='Master'\n",
    "for i in gps_list:\n",
    "    if key1 in i.contents[0] and (key2 in i.contents[0] or key3 in i.contents[0]):\n",
    "        gps_processed.append(i)"
   ]
  },
  {
   "cell_type": "code",
   "execution_count": 9,
   "metadata": {
    "collapsed": false,
    "scrolled": true
   },
   "outputs": [
    {
     "name": "stdout",
     "output_type": "stream",
     "text": [
      "{'2016-2017': {'Projet Master printemps': '1897033467', 'Projet Master automne': '1897033346', 'Bachelor semestre 6': '1744378039', 'Bachelor semestre 4': '1897033019', 'Bachelor semestre 3': '1897032970', 'Master semestre 2': '2021044095', 'Master semestre 3': '1897033409', 'periode_academique': '355925344', 'Master semestre 1': '2021044028', 'Bachelor semestre 2': '2021043310', 'Bachelor semestre 5': '1744378003', 'Bachelor semestre 1': '2021043255'}, '2010-2011': {'Projet Master printemps': '213629966', 'Projet Master automne': '213629894', 'Bachelor semestre 6': '109577031', 'Bachelor semestre 4': '213617981', 'Bachelor semestre 3': '213617963', 'Master semestre 2': '357707041', 'Master semestre 3': '213629934', 'periode_academique': '39486325', 'Master semestre 1': '357707009', 'Bachelor semestre 2': '357704513', 'Bachelor semestre 5': '109577010', 'Bachelor semestre 1': '357704486'}, '2009-2010': {'Projet Master printemps': '109592400', 'Projet Master automne': '109592334', 'Bachelor semestre 6': '71297626', 'Bachelor semestre 4': '109576992', 'Bachelor semestre 3': '109576974', 'Master semestre 2': '213629869', 'Master semestre 3': '109592375', 'periode_academique': '978195', 'Master semestre 1': '213629838', 'Bachelor semestre 2': '213617944', 'Bachelor semestre 5': '71297605', 'Bachelor semestre 1': '213617925'}, '2008-2009': {'Projet Master printemps': '82157266', 'Projet Master automne': '71450749', 'Bachelor semestre 6': '39494897', 'Bachelor semestre 4': '71297587', 'Bachelor semestre 3': '71297569', 'Master semestre 2': '109592309', 'Master semestre 3': '82157231', 'periode_academique': '978187', 'Master semestre 1': '109592281', 'Bachelor semestre 2': '109576955', 'Bachelor semestre 5': '39494874', 'Bachelor semestre 1': '109576936'}, '2011-2012': {'Projet Master printemps': '357707133', 'Projet Master automne': '357707070', 'Bachelor semestre 6': '213618020', 'Bachelor semestre 4': '357704559', 'Bachelor semestre 3': '357704537', 'Master semestre 2': '736292183', 'Master semestre 3': '357707104', 'periode_academique': '123455150', 'Master semestre 1': '736292150', 'Bachelor semestre 2': '736308992', 'Bachelor semestre 5': '213617999', 'Bachelor semestre 1': '736308968'}, '2012-2013': {'Projet Master printemps': '736292278', 'Projet Master automne': '736292213', 'Bachelor semestre 6': '357704613', 'Bachelor semestre 4': '736309037', 'Bachelor semestre 3': '736309015', 'Master semestre 2': '1378438462', 'Master semestre 3': '736292248', 'periode_academique': '123456101', 'Master semestre 1': '1378438423', 'Bachelor semestre 2': '1378362120', 'Bachelor semestre 5': '357704581', 'Bachelor semestre 1': '1378362092'}, '2013-2014': {'Projet Master printemps': '1378438573', 'Projet Master automne': '1378438499', 'Bachelor semestre 6': '736309090', 'Bachelor semestre 4': '1378362175', 'Bachelor semestre 3': '1378362148', 'Master semestre 2': '1650773297', 'Master semestre 3': '1378438538', 'periode_academique': '213637754', 'Master semestre 1': '1650773259', 'Bachelor semestre 2': '1650771892', 'Bachelor semestre 5': '736309059', 'Bachelor semestre 1': '1650771864'}, '2015-2016': {'Projet Master printemps': '1745490504', 'Projet Master automne': '1745490431', 'Bachelor semestre 6': '1650772010', 'Bachelor semestre 4': '1744377976', 'Bachelor semestre 3': '1744377949', 'Master semestre 2': '1897033287', 'Master semestre 3': '1745490470', 'periode_academique': '213638028', 'Master semestre 1': '1897033225', 'Bachelor semestre 2': '1897032920', 'Bachelor semestre 5': '1650771974', 'Bachelor semestre 1': '1897032870'}, '2007-2008': {'Projet Master printemps': '39495444', 'Projet Master automne': '39495382', 'Bachelor semestre 6': '19561998', 'Bachelor semestre 4': '39494823', 'Bachelor semestre 3': '39494788', 'Master semestre 2': '71450725', 'Master semestre 3': '39495424', 'periode_academique': '978181', 'Master semestre 1': '71450699', 'Bachelor semestre 2': '71297550', 'Bachelor semestre 5': '19561980', 'Bachelor semestre 1': '71297531'}, '2014-2015': {'Projet Master printemps': '1650773405', 'Projet Master automne': '1650773332', 'Bachelor semestre 6': '1378362238', 'Bachelor semestre 4': '1650771947', 'Bachelor semestre 3': '1650771920', 'Master semestre 2': '1745490396', 'Master semestre 3': '1650773371', 'periode_academique': '213637922', 'Master semestre 1': '1745490358', 'Bachelor semestre 2': '1744377921', 'Bachelor semestre 5': '1378362202', 'Bachelor semestre 1': '1744377893'}}\n"
     ]
    }
   ],
   "source": [
    "# Keep only the right entries, and add the GPS ids in the main_dictionary\n",
    "for year in main_dictionary:\n",
    "    for semester in main_dictionary[year]:\n",
    "        for item in gps_processed:\n",
    "            if 'Informatique, '+year+', '+semester==item.contents[0]:\n",
    "                # We determine which value corresponds to the GPS from the string item.\n",
    "                gps=str(item).split(\"'\")[1].split(\"=\")[1]\n",
    "                main_dictionary[year][semester]=gps\n",
    "print(main_dictionary)"
   ]
  },
  {
   "cell_type": "markdown",
   "metadata": {},
   "source": [
    "# 2. Get the tables\n",
    "From a base request, we consider the parameters for each page we want to load, both from the url considered before (base_all_gps) and from the dictionary we have just built. Then we load the page, and take the data from it. "
   ]
  },
  {
   "cell_type": "code",
   "execution_count": 10,
   "metadata": {
    "collapsed": true
   },
   "outputs": [],
   "source": [
    "base_request='http://isa.epfl.ch/imoniteur_ISAP/!GEDPUBLICREPORTS.html'"
   ]
  },
  {
   "cell_type": "markdown",
   "metadata": {},
   "source": [
    "We first set www_x_PERIODE_ACAD and ww_x_GPS to 0 since those fields will change depending on the page we are considering. "
   ]
  },
  {
   "cell_type": "code",
   "execution_count": 11,
   "metadata": {
    "collapsed": false
   },
   "outputs": [],
   "source": [
    "parameters={'ww_i_reportModel':'133685247','ww_i_reportModelXsl':'133685270',\n",
    "            'ww_x_UNITE_ACAD':'249847','ww_x_PERIODE_ACAD':0,'ww_x_GPS':0}"
   ]
  },
  {
   "cell_type": "markdown",
   "metadata": {},
   "source": [
    "Two dictionaries of dictionaries of dataframes are created (indexed by the year and the academic period), one for the bachelor data, and one for the master data, each of which contains the data of a given semester."
   ]
  },
  {
   "cell_type": "code",
   "execution_count": 12,
   "metadata": {
    "collapsed": false
   },
   "outputs": [
    {
     "name": "stdout",
     "output_type": "stream",
     "text": [
      "Year 2016-2017 parsed\n",
      "Year 2010-2011 parsed\n",
      "Year 2009-2010 parsed\n",
      "Year 2008-2009 parsed\n",
      "Year 2011-2012 parsed\n",
      "Year 2012-2013 parsed\n",
      "Year 2013-2014 parsed\n",
      "Year 2015-2016 parsed\n",
      "Year 2007-2008 parsed\n",
      "Year 2014-2015 parsed\n"
     ]
    }
   ],
   "source": [
    "bachelor_data={x:dict() for x in main_dictionary}\n",
    "master_data={x:dict() for x in main_dictionary}\n",
    "for year in main_dictionary:\n",
    "    # Set the right academic period\n",
    "    parameters['ww_x_PERIODE_ACAD']=main_dictionary[year]['periode_academique']\n",
    "    for semester in main_dictionary[year]:\n",
    "        if semester=='periode_academique':\n",
    "            continue\n",
    "        # Set the right GPS\n",
    "        parameters['ww_x_GPS']=main_dictionary[year][semester]\n",
    "        \n",
    "        # Post the request\n",
    "        req = requests.get(base_request,params=parameters)\n",
    "        \n",
    "        # Import and process the dataframe with pandas\n",
    "        try:\n",
    "            df=pd.read_html(str(req.text),skiprows=1,header=0)[0]\n",
    "            # Name columns\n",
    "            df.columns=['Sex','Name','OrienB','OrienM','Specialization','Unuseful1','Mineur','State','Exchange','ExchangeSchool','Sciper','Unuseful2']\n",
    "            # Delete useless columns\n",
    "            del df['OrienB'],df['OrienM'],df['Unuseful1'],df['State'],df['Exchange'],df['ExchangeSchool'],df['Unuseful2']\n",
    "            # Add the column year\n",
    "            df['Year']=year\n",
    "        except:\n",
    "            # If something went wrong.\n",
    "            df=pd.DataFrame({'Sex':[],'Name':[],'Specialization':[],'Mineur':[],'Sciper':[],'Year':[]})\n",
    "        \n",
    "        # Type semester can be 'Bachelor' or 'Master'. \n",
    "        type_semester=semester.split(' ')[0]\n",
    "        if type_semester=='Projet':\n",
    "            type_semester='Master'\n",
    "            \n",
    "        # Semester number is the number of the current semester. It is 4 for master projects.\n",
    "        semester_number=-1\n",
    "        if semester!='Projet Master automne' and semester!='Projet Master printemps':\n",
    "            semester_number=int(semester.split(' ')[2])\n",
    "        else:\n",
    "            semester_number=4\n",
    "        df['Semester']=semester_number\n",
    "        df=df.set_index(['Sciper','Year','Semester'])\n",
    "\n",
    "        # Set the data in the right dictionnary.\n",
    "        if type_semester==\"Bachelor\":\n",
    "            bachelor_data[year][semester_number]=df\n",
    "        elif type_semester==\"Master\":\n",
    "            master_data[year][semester_number]=df\n",
    "        else:\n",
    "            print(type_semester)\n",
    "            raise(\"Error parsing file: type semester not acceptable\")\n",
    "    print(\"Year \"+year+\" parsed\")"
   ]
  },
  {
   "cell_type": "code",
   "execution_count": 13,
   "metadata": {
    "collapsed": false
   },
   "outputs": [],
   "source": [
    "# Check the correct parsing of all the semesters\n",
    "bachelor_data_semesters=0\n",
    "master_data_semesters=0\n",
    "for year in master_data:\n",
    "    master_data_semesters+=len(master_data[year])\n",
    "for year in bachelor_data:\n",
    "    bachelor_data_semesters+=len(bachelor_data[year])\n",
    "if (bachelor_data_semesters+master_data_semesters!=100):\n",
    "    raise(\"Some semester has not been correctly parsed\")"
   ]
  },
  {
   "cell_type": "markdown",
   "metadata": {},
   "source": [
    "# Bachelor analysis\n",
    "We here analyse the bachelor data. From the dictionary of dictionaries bachelor_data, we concatenate all the informations to form a unique dataframe. We then group it by Sciper to have all the information for each individual student without repetitions."
   ]
  },
  {
   "cell_type": "code",
   "execution_count": 14,
   "metadata": {
    "collapsed": false,
    "scrolled": false
   },
   "outputs": [],
   "source": [
    "bachelor_tables=[]\n",
    "for year in bachelor_data:\n",
    "    for semester in bachelor_data[year]:\n",
    "        bachelor_tables.append(bachelor_data[year][semester])\n",
    "total_bachelor=pd.concat(bachelor_tables,axis=0,join='outer')\n",
    "total_bachelor=total_bachelor.reset_index()\n",
    "groups_bachelor=total_bachelor.groupby('Sciper')"
   ]
  },
  {
   "cell_type": "code",
   "execution_count": 15,
   "metadata": {
    "collapsed": false,
    "scrolled": true
   },
   "outputs": [
    {
     "data": {
      "text/html": [
       "<div>\n",
       "<table border=\"1\" class=\"dataframe\">\n",
       "  <thead>\n",
       "    <tr style=\"text-align: right;\">\n",
       "      <th></th>\n",
       "      <th>Name</th>\n",
       "      <th>Semesters</th>\n",
       "      <th>Sex</th>\n",
       "      <th>Year</th>\n",
       "    </tr>\n",
       "    <tr>\n",
       "      <th>Sciper</th>\n",
       "      <th></th>\n",
       "      <th></th>\n",
       "      <th></th>\n",
       "      <th></th>\n",
       "    </tr>\n",
       "  </thead>\n",
       "  <tbody>\n",
       "    <tr>\n",
       "      <th>147008.0</th>\n",
       "      <td>Good Xavier</td>\n",
       "      <td>6.0</td>\n",
       "      <td>M</td>\n",
       "      <td>2008.0</td>\n",
       "    </tr>\n",
       "    <tr>\n",
       "      <th>169569.0</th>\n",
       "      <td>Arévalo Christian</td>\n",
       "      <td>6.0</td>\n",
       "      <td>M</td>\n",
       "      <td>2007.0</td>\n",
       "    </tr>\n",
       "    <tr>\n",
       "      <th>169731.0</th>\n",
       "      <td>Knecht Mathieu</td>\n",
       "      <td>8.0</td>\n",
       "      <td>M</td>\n",
       "      <td>2007.0</td>\n",
       "    </tr>\n",
       "    <tr>\n",
       "      <th>169795.0</th>\n",
       "      <td>Scheiben Pascal</td>\n",
       "      <td>9.0</td>\n",
       "      <td>M</td>\n",
       "      <td>2007.0</td>\n",
       "    </tr>\n",
       "    <tr>\n",
       "      <th>171195.0</th>\n",
       "      <td>Richter Arnaud</td>\n",
       "      <td>6.0</td>\n",
       "      <td>M</td>\n",
       "      <td>2007.0</td>\n",
       "    </tr>\n",
       "  </tbody>\n",
       "</table>\n",
       "</div>"
      ],
      "text/plain": [
       "                       Name  Semesters Sex    Year\n",
       "Sciper                                            \n",
       "147008.0        Good Xavier        6.0   M  2008.0\n",
       "169569.0  Arévalo Christian        6.0   M  2007.0\n",
       "169731.0     Knecht Mathieu        8.0   M  2007.0\n",
       "169795.0    Scheiben Pascal        9.0   M  2007.0\n",
       "171195.0     Richter Arnaud        6.0   M  2007.0"
      ]
     },
     "execution_count": 15,
     "metadata": {},
     "output_type": "execute_result"
    }
   ],
   "source": [
    "final_df_bachelor=pd.DataFrame({'Sciper':[],'Name':[],'Sex':[],'Semesters':[]})\n",
    "\n",
    "for student,group in groups_bachelor:\n",
    "    first_year=group['Semester'].isin([1]).sum() #It is the number of times a student has\n",
    "    #done bachelor 1\n",
    "    last_year=group['Semester'].isin([6]).sum() #It is the number of times a student has\n",
    "    #done bachelor 6\n",
    "    year=int(group['Year'].min()[:4]) # We only consider the first four characters of the\n",
    "    #year, so that we have just one year and not  (ex: 2010 instead of 2010-2011), and we \n",
    "    #take the minimum to know in which year each student began its bachelor studies at EPFL.\n",
    "    \n",
    "    if first_year and last_year:\n",
    "        number_of_years=group.shape[0] # This corresponds to the number of times a certain\n",
    "        #sciper appears, that it the number of semester a student has done. \n",
    "        name=group['Name'].iloc[0]\n",
    "        sex=group['Sex'].iloc[0]\n",
    "        if sex==\"Monsieur\":\n",
    "            sex='M'\n",
    "        elif sex==\"Madame\":\n",
    "            sex='F'\n",
    "        else:\n",
    "            raise(\"Not existing sex\")\n",
    "        # We create a unique dataframe where each student appear only once, containing \n",
    "        # only the informations that interest us.\n",
    "        ser=pd.DataFrame({'Sciper':[student],'Name':[name],'Sex':[sex],'Semesters':[number_of_years],'Year':[year]})\n",
    "        final_df_bachelor=final_df_bachelor.append(ser)\n",
    "    \n",
    "final_df_bachelor=final_df_bachelor.set_index('Sciper')\n",
    "final_df_bachelor.head()"
   ]
  },
  {
   "cell_type": "markdown",
   "metadata": {},
   "source": [
    "Now, our aim is to know if there is a statistically significant difference between males and females about the time they take to finish their bachelor studies. To do so, we first group our data by Sex."
   ]
  },
  {
   "cell_type": "code",
   "execution_count": 16,
   "metadata": {
    "collapsed": false
   },
   "outputs": [
    {
     "data": {
      "text/html": [
       "<div>\n",
       "<table border=\"1\" class=\"dataframe\">\n",
       "  <thead>\n",
       "    <tr style=\"text-align: right;\">\n",
       "      <th></th>\n",
       "      <th>Semesters</th>\n",
       "    </tr>\n",
       "    <tr>\n",
       "      <th>Sex</th>\n",
       "      <th></th>\n",
       "    </tr>\n",
       "  </thead>\n",
       "  <tbody>\n",
       "    <tr>\n",
       "      <th>F</th>\n",
       "      <td>6.793103</td>\n",
       "    </tr>\n",
       "    <tr>\n",
       "      <th>M</th>\n",
       "      <td>7.105978</td>\n",
       "    </tr>\n",
       "  </tbody>\n",
       "</table>\n",
       "</div>"
      ],
      "text/plain": [
       "     Semesters\n",
       "Sex           \n",
       "F     6.793103\n",
       "M     7.105978"
      ]
     },
     "execution_count": 16,
     "metadata": {},
     "output_type": "execute_result"
    }
   ],
   "source": [
    "final_df_bachelor_bysex = final_df_bachelor[['Sex','Semesters']].groupby(['Sex'])\n",
    "final_df_bachelor_meansex = final_df_bachelor_bysex.mean()\n",
    "final_df_bachelor_meansex"
   ]
  },
  {
   "cell_type": "markdown",
   "metadata": {},
   "source": [
    "Then we have a general overlook at the data distribution per gender. In the following the boxplots for males and females are reported."
   ]
  },
  {
   "cell_type": "code",
   "execution_count": 17,
   "metadata": {
    "collapsed": false
   },
   "outputs": [
    {
     "data": {
      "text/plain": [
       "OrderedDict([('F', <matplotlib.axes._subplots.AxesSubplot at 0xabe2358>),\n",
       "             ('M', <matplotlib.axes._subplots.AxesSubplot at 0xadf1e10>)])"
      ]
     },
     "execution_count": 17,
     "metadata": {},
     "output_type": "execute_result"
    },
    {
     "data": {
      "image/png": "[encoded data removed]",
      "text/plain": [
       "<matplotlib.figure.Figure at 0xaf99da0>"
      ]
     },
     "metadata": {},
     "output_type": "display_data"
    }
   ],
   "source": [
    "# have a look at the tabular data\n",
    "#final_df_bachelor_bysex.describe()\n",
    "final_df_bachelor_bysex.boxplot(column = 'Semesters',return_type='axes')"
   ]
  },
  {
   "cell_type": "markdown",
   "metadata": {},
   "source": [
    "We notice that both genders seem to follow the same distribution, which is highly concentrated at the expected value 6 (that is, 3 regular years to complete the bachelor) and then shows a heavy tail towards greater values. In order to perform a statistical test for the means of the two populations, we treat these data as normally distributed."
   ]
  },
  {
   "cell_type": "markdown",
   "metadata": {},
   "source": [
    "We perform now a two sample t-test to find if there is any statistically significant difference between the time women and men take to complete the bachelor."
   ]
  },
  {
   "cell_type": "code",
   "execution_count": 18,
   "metadata": {
    "collapsed": false
   },
   "outputs": [
    {
     "data": {
      "text/html": [
       "<div>\n",
       "<table border=\"1\" class=\"dataframe\">\n",
       "  <thead>\n",
       "    <tr style=\"text-align: right;\">\n",
       "      <th></th>\n",
       "      <th>t-test</th>\n",
       "      <th>p-value</th>\n",
       "    </tr>\n",
       "  </thead>\n",
       "  <tbody>\n",
       "    <tr>\n",
       "      <th>Semesters</th>\n",
       "      <td>4.539076</td>\n",
       "      <td>0.000008</td>\n",
       "    </tr>\n",
       "  </tbody>\n",
       "</table>\n",
       "</div>"
      ],
      "text/plain": [
       "             t-test   p-value\n",
       "Semesters  4.539076  0.000008"
      ]
     },
     "execution_count": 18,
     "metadata": {},
     "output_type": "execute_result"
    }
   ],
   "source": [
    "#Male data\n",
    "male_mean=final_df_bachelor_bysex.mean().iloc[1]\n",
    "male_std=final_df_bachelor_bysex.std().iloc[1]\n",
    "male_count=final_df_bachelor_bysex.count().iloc[1]\n",
    "#Female data\n",
    "female_mean=final_df_bachelor_bysex.mean().iloc[0]\n",
    "female_std=final_df_bachelor_bysex.std().iloc[0]\n",
    "female_count=final_df_bachelor_bysex.count().iloc[0]\n",
    "#Output dataframe\n",
    "output=pd.DataFrame()\n",
    "\n",
    "#Computation of the t-test and the p-value\n",
    "nu=male_count+female_count-2\n",
    "output['t-test']=(male_mean-female_mean)/(male_std*male_std/male_count+female_std*female_std/female_count)\n",
    "output['p-value']=t.sf(abs(output['t-test'].reshape([output['t-test'].shape[0],1])),nu)*2\n",
    "output"
   ]
  },
  {
   "cell_type": "markdown",
   "metadata": {},
   "source": [
    "**Conclusion:** There is a statistically significant difference between male and female about the time it takes them to complete their bachelor, since 0.000008 << 0.05."
   ]
  },
  {
   "cell_type": "markdown",
   "metadata": {},
   "source": [
    "We group now the dataframe describing bachelor data into sex and year the student has begun its studies. This will allow us to plot the evolution of the number of semesters taken to finish one's bachelor, over time."
   ]
  },
  {
   "cell_type": "code",
   "execution_count": 18,
   "metadata": {
    "collapsed": false,
    "scrolled": true
   },
   "outputs": [
    {
     "data": {
      "text/html": [
       "<div>\n",
       "<table border=\"1\" class=\"dataframe\">\n",
       "  <thead>\n",
       "    <tr style=\"text-align: right;\">\n",
       "      <th></th>\n",
       "      <th></th>\n",
       "      <th></th>\n",
       "      <th>Semesters</th>\n",
       "    </tr>\n",
       "    <tr>\n",
       "      <th>Year</th>\n",
       "      <th>Sex</th>\n",
       "      <th></th>\n",
       "      <th></th>\n",
       "    </tr>\n",
       "  </thead>\n",
       "  <tbody>\n",
       "    <tr>\n",
       "      <th rowspan=\"16\" valign=\"top\">2007.0</th>\n",
       "      <th rowspan=\"8\" valign=\"top\">F</th>\n",
       "      <th>count</th>\n",
       "      <td>2.000000</td>\n",
       "    </tr>\n",
       "    <tr>\n",
       "      <th>mean</th>\n",
       "      <td>6.000000</td>\n",
       "    </tr>\n",
       "    <tr>\n",
       "      <th>std</th>\n",
       "      <td>0.000000</td>\n",
       "    </tr>\n",
       "    <tr>\n",
       "      <th>min</th>\n",
       "      <td>6.000000</td>\n",
       "    </tr>\n",
       "    <tr>\n",
       "      <th>25%</th>\n",
       "      <td>6.000000</td>\n",
       "    </tr>\n",
       "    <tr>\n",
       "      <th>50%</th>\n",
       "      <td>6.000000</td>\n",
       "    </tr>\n",
       "    <tr>\n",
       "      <th>75%</th>\n",
       "      <td>6.000000</td>\n",
       "    </tr>\n",
       "    <tr>\n",
       "      <th>max</th>\n",
       "      <td>6.000000</td>\n",
       "    </tr>\n",
       "    <tr>\n",
       "      <th rowspan=\"8\" valign=\"top\">M</th>\n",
       "      <th>count</th>\n",
       "      <td>39.000000</td>\n",
       "    </tr>\n",
       "    <tr>\n",
       "      <th>mean</th>\n",
       "      <td>6.974359</td>\n",
       "    </tr>\n",
       "    <tr>\n",
       "      <th>std</th>\n",
       "      <td>1.366655</td>\n",
       "    </tr>\n",
       "    <tr>\n",
       "      <th>min</th>\n",
       "      <td>6.000000</td>\n",
       "    </tr>\n",
       "    <tr>\n",
       "      <th>25%</th>\n",
       "      <td>6.000000</td>\n",
       "    </tr>\n",
       "    <tr>\n",
       "      <th>50%</th>\n",
       "      <td>6.000000</td>\n",
       "    </tr>\n",
       "    <tr>\n",
       "      <th>75%</th>\n",
       "      <td>8.000000</td>\n",
       "    </tr>\n",
       "    <tr>\n",
       "      <th>max</th>\n",
       "      <td>12.000000</td>\n",
       "    </tr>\n",
       "    <tr>\n",
       "      <th rowspan=\"14\" valign=\"top\">2008.0</th>\n",
       "      <th rowspan=\"8\" valign=\"top\">F</th>\n",
       "      <th>count</th>\n",
       "      <td>5.000000</td>\n",
       "    </tr>\n",
       "    <tr>\n",
       "      <th>mean</th>\n",
       "      <td>6.600000</td>\n",
       "    </tr>\n",
       "    <tr>\n",
       "      <th>std</th>\n",
       "      <td>1.341641</td>\n",
       "    </tr>\n",
       "    <tr>\n",
       "      <th>min</th>\n",
       "      <td>6.000000</td>\n",
       "    </tr>\n",
       "    <tr>\n",
       "      <th>25%</th>\n",
       "      <td>6.000000</td>\n",
       "    </tr>\n",
       "    <tr>\n",
       "      <th>50%</th>\n",
       "      <td>6.000000</td>\n",
       "    </tr>\n",
       "    <tr>\n",
       "      <th>75%</th>\n",
       "      <td>6.000000</td>\n",
       "    </tr>\n",
       "    <tr>\n",
       "      <th>max</th>\n",
       "      <td>9.000000</td>\n",
       "    </tr>\n",
       "    <tr>\n",
       "      <th rowspan=\"6\" valign=\"top\">M</th>\n",
       "      <th>count</th>\n",
       "      <td>38.000000</td>\n",
       "    </tr>\n",
       "    <tr>\n",
       "      <th>mean</th>\n",
       "      <td>7.210526</td>\n",
       "    </tr>\n",
       "    <tr>\n",
       "      <th>std</th>\n",
       "      <td>1.679091</td>\n",
       "    </tr>\n",
       "    <tr>\n",
       "      <th>min</th>\n",
       "      <td>6.000000</td>\n",
       "    </tr>\n",
       "    <tr>\n",
       "      <th>25%</th>\n",
       "      <td>6.000000</td>\n",
       "    </tr>\n",
       "    <tr>\n",
       "      <th>50%</th>\n",
       "      <td>6.000000</td>\n",
       "    </tr>\n",
       "    <tr>\n",
       "      <th>...</th>\n",
       "      <th>...</th>\n",
       "      <th>...</th>\n",
       "      <td>...</td>\n",
       "    </tr>\n",
       "    <tr>\n",
       "      <th rowspan=\"14\" valign=\"top\">2013.0</th>\n",
       "      <th rowspan=\"6\" valign=\"top\">F</th>\n",
       "      <th>std</th>\n",
       "      <td>0.816497</td>\n",
       "    </tr>\n",
       "    <tr>\n",
       "      <th>min</th>\n",
       "      <td>6.000000</td>\n",
       "    </tr>\n",
       "    <tr>\n",
       "      <th>25%</th>\n",
       "      <td>6.000000</td>\n",
       "    </tr>\n",
       "    <tr>\n",
       "      <th>50%</th>\n",
       "      <td>6.000000</td>\n",
       "    </tr>\n",
       "    <tr>\n",
       "      <th>75%</th>\n",
       "      <td>6.000000</td>\n",
       "    </tr>\n",
       "    <tr>\n",
       "      <th>max</th>\n",
       "      <td>8.000000</td>\n",
       "    </tr>\n",
       "    <tr>\n",
       "      <th rowspan=\"8\" valign=\"top\">M</th>\n",
       "      <th>count</th>\n",
       "      <td>41.000000</td>\n",
       "    </tr>\n",
       "    <tr>\n",
       "      <th>mean</th>\n",
       "      <td>6.219512</td>\n",
       "    </tr>\n",
       "    <tr>\n",
       "      <th>std</th>\n",
       "      <td>0.419058</td>\n",
       "    </tr>\n",
       "    <tr>\n",
       "      <th>min</th>\n",
       "      <td>6.000000</td>\n",
       "    </tr>\n",
       "    <tr>\n",
       "      <th>25%</th>\n",
       "      <td>6.000000</td>\n",
       "    </tr>\n",
       "    <tr>\n",
       "      <th>50%</th>\n",
       "      <td>6.000000</td>\n",
       "    </tr>\n",
       "    <tr>\n",
       "      <th>75%</th>\n",
       "      <td>6.000000</td>\n",
       "    </tr>\n",
       "    <tr>\n",
       "      <th>max</th>\n",
       "      <td>7.000000</td>\n",
       "    </tr>\n",
       "    <tr>\n",
       "      <th rowspan=\"16\" valign=\"top\">2014.0</th>\n",
       "      <th rowspan=\"8\" valign=\"top\">F</th>\n",
       "      <th>count</th>\n",
       "      <td>1.000000</td>\n",
       "    </tr>\n",
       "    <tr>\n",
       "      <th>mean</th>\n",
       "      <td>6.000000</td>\n",
       "    </tr>\n",
       "    <tr>\n",
       "      <th>std</th>\n",
       "      <td>NaN</td>\n",
       "    </tr>\n",
       "    <tr>\n",
       "      <th>min</th>\n",
       "      <td>6.000000</td>\n",
       "    </tr>\n",
       "    <tr>\n",
       "      <th>25%</th>\n",
       "      <td>6.000000</td>\n",
       "    </tr>\n",
       "    <tr>\n",
       "      <th>50%</th>\n",
       "      <td>6.000000</td>\n",
       "    </tr>\n",
       "    <tr>\n",
       "      <th>75%</th>\n",
       "      <td>6.000000</td>\n",
       "    </tr>\n",
       "    <tr>\n",
       "      <th>max</th>\n",
       "      <td>6.000000</td>\n",
       "    </tr>\n",
       "    <tr>\n",
       "      <th rowspan=\"8\" valign=\"top\">M</th>\n",
       "      <th>count</th>\n",
       "      <td>20.000000</td>\n",
       "    </tr>\n",
       "    <tr>\n",
       "      <th>mean</th>\n",
       "      <td>6.000000</td>\n",
       "    </tr>\n",
       "    <tr>\n",
       "      <th>std</th>\n",
       "      <td>0.000000</td>\n",
       "    </tr>\n",
       "    <tr>\n",
       "      <th>min</th>\n",
       "      <td>6.000000</td>\n",
       "    </tr>\n",
       "    <tr>\n",
       "      <th>25%</th>\n",
       "      <td>6.000000</td>\n",
       "    </tr>\n",
       "    <tr>\n",
       "      <th>50%</th>\n",
       "      <td>6.000000</td>\n",
       "    </tr>\n",
       "    <tr>\n",
       "      <th>75%</th>\n",
       "      <td>6.000000</td>\n",
       "    </tr>\n",
       "    <tr>\n",
       "      <th>max</th>\n",
       "      <td>6.000000</td>\n",
       "    </tr>\n",
       "  </tbody>\n",
       "</table>\n",
       "<p>128 rows × 1 columns</p>\n",
       "</div>"
      ],
      "text/plain": [
       "                  Semesters\n",
       "Year   Sex                 \n",
       "2007.0 F   count   2.000000\n",
       "           mean    6.000000\n",
       "           std     0.000000\n",
       "           min     6.000000\n",
       "           25%     6.000000\n",
       "           50%     6.000000\n",
       "           75%     6.000000\n",
       "           max     6.000000\n",
       "       M   count  39.000000\n",
       "           mean    6.974359\n",
       "           std     1.366655\n",
       "           min     6.000000\n",
       "           25%     6.000000\n",
       "           50%     6.000000\n",
       "           75%     8.000000\n",
       "           max    12.000000\n",
       "2008.0 F   count   5.000000\n",
       "           mean    6.600000\n",
       "           std     1.341641\n",
       "           min     6.000000\n",
       "           25%     6.000000\n",
       "           50%     6.000000\n",
       "           75%     6.000000\n",
       "           max     9.000000\n",
       "       M   count  38.000000\n",
       "           mean    7.210526\n",
       "           std     1.679091\n",
       "           min     6.000000\n",
       "           25%     6.000000\n",
       "           50%     6.000000\n",
       "...                     ...\n",
       "2013.0 F   std     0.816497\n",
       "           min     6.000000\n",
       "           25%     6.000000\n",
       "           50%     6.000000\n",
       "           75%     6.000000\n",
       "           max     8.000000\n",
       "       M   count  41.000000\n",
       "           mean    6.219512\n",
       "           std     0.419058\n",
       "           min     6.000000\n",
       "           25%     6.000000\n",
       "           50%     6.000000\n",
       "           75%     6.000000\n",
       "           max     7.000000\n",
       "2014.0 F   count   1.000000\n",
       "           mean    6.000000\n",
       "           std          NaN\n",
       "           min     6.000000\n",
       "           25%     6.000000\n",
       "           50%     6.000000\n",
       "           75%     6.000000\n",
       "           max     6.000000\n",
       "       M   count  20.000000\n",
       "           mean    6.000000\n",
       "           std     0.000000\n",
       "           min     6.000000\n",
       "           25%     6.000000\n",
       "           50%     6.000000\n",
       "           75%     6.000000\n",
       "           max     6.000000\n",
       "\n",
       "[128 rows x 1 columns]"
      ]
     },
     "execution_count": 18,
     "metadata": {},
     "output_type": "execute_result"
    }
   ],
   "source": [
    "final_df_bachelor_grouped = final_df_bachelor[['Year','Sex','Semesters']].groupby(['Year','Sex'])\n",
    "final_df_bachelor_grouped.describe()"
   ]
  },
  {
   "cell_type": "code",
   "execution_count": 30,
   "metadata": {
    "collapsed": false
   },
   "outputs": [
    {
     "data": {
      "text/html": [
       "<div>\n",
       "<table border=\"1\" class=\"dataframe\">\n",
       "  <thead>\n",
       "    <tr style=\"text-align: right;\">\n",
       "      <th></th>\n",
       "      <th></th>\n",
       "      <th>Semesters</th>\n",
       "    </tr>\n",
       "    <tr>\n",
       "      <th>Year</th>\n",
       "      <th>Sex</th>\n",
       "      <th></th>\n",
       "    </tr>\n",
       "  </thead>\n",
       "  <tbody>\n",
       "    <tr>\n",
       "      <th rowspan=\"2\" valign=\"top\">2007.0</th>\n",
       "      <th>F</th>\n",
       "      <td>6.000000</td>\n",
       "    </tr>\n",
       "    <tr>\n",
       "      <th>M</th>\n",
       "      <td>6.974359</td>\n",
       "    </tr>\n",
       "    <tr>\n",
       "      <th rowspan=\"2\" valign=\"top\">2008.0</th>\n",
       "      <th>F</th>\n",
       "      <td>6.600000</td>\n",
       "    </tr>\n",
       "    <tr>\n",
       "      <th>M</th>\n",
       "      <td>7.210526</td>\n",
       "    </tr>\n",
       "    <tr>\n",
       "      <th rowspan=\"2\" valign=\"top\">2009.0</th>\n",
       "      <th>F</th>\n",
       "      <td>7.000000</td>\n",
       "    </tr>\n",
       "    <tr>\n",
       "      <th>M</th>\n",
       "      <td>7.813953</td>\n",
       "    </tr>\n",
       "    <tr>\n",
       "      <th rowspan=\"2\" valign=\"top\">2010.0</th>\n",
       "      <th>F</th>\n",
       "      <td>6.000000</td>\n",
       "    </tr>\n",
       "    <tr>\n",
       "      <th>M</th>\n",
       "      <td>7.290909</td>\n",
       "    </tr>\n",
       "    <tr>\n",
       "      <th rowspan=\"2\" valign=\"top\">2011.0</th>\n",
       "      <th>F</th>\n",
       "      <td>7.250000</td>\n",
       "    </tr>\n",
       "    <tr>\n",
       "      <th>M</th>\n",
       "      <td>7.553571</td>\n",
       "    </tr>\n",
       "    <tr>\n",
       "      <th rowspan=\"2\" valign=\"top\">2012.0</th>\n",
       "      <th>F</th>\n",
       "      <td>8.000000</td>\n",
       "    </tr>\n",
       "    <tr>\n",
       "      <th>M</th>\n",
       "      <td>7.026316</td>\n",
       "    </tr>\n",
       "    <tr>\n",
       "      <th rowspan=\"2\" valign=\"top\">2013.0</th>\n",
       "      <th>F</th>\n",
       "      <td>6.333333</td>\n",
       "    </tr>\n",
       "    <tr>\n",
       "      <th>M</th>\n",
       "      <td>6.219512</td>\n",
       "    </tr>\n",
       "    <tr>\n",
       "      <th rowspan=\"2\" valign=\"top\">2014.0</th>\n",
       "      <th>F</th>\n",
       "      <td>6.000000</td>\n",
       "    </tr>\n",
       "    <tr>\n",
       "      <th>M</th>\n",
       "      <td>6.000000</td>\n",
       "    </tr>\n",
       "  </tbody>\n",
       "</table>\n",
       "</div>"
      ],
      "text/plain": [
       "            Semesters\n",
       "Year   Sex           \n",
       "2007.0 F     6.000000\n",
       "       M     6.974359\n",
       "2008.0 F     6.600000\n",
       "       M     7.210526\n",
       "2009.0 F     7.000000\n",
       "       M     7.813953\n",
       "2010.0 F     6.000000\n",
       "       M     7.290909\n",
       "2011.0 F     7.250000\n",
       "       M     7.553571\n",
       "2012.0 F     8.000000\n",
       "       M     7.026316\n",
       "2013.0 F     6.333333\n",
       "       M     6.219512\n",
       "2014.0 F     6.000000\n",
       "       M     6.000000"
      ]
     },
     "execution_count": 30,
     "metadata": {},
     "output_type": "execute_result"
    }
   ],
   "source": [
    "df_bachelor_mean = final_df_bachelor_grouped.mean()\n",
    "df_bachelor_mean"
   ]
  },
  {
   "cell_type": "markdown",
   "metadata": {},
   "source": [
    "## Scatterplot, bonus question\n",
    "We plot the number of semesters each students has done to complete the bachelor, depending on its sex and on the year he/she has begun its studies. Note that this result is biased since we consider very few years. Indeed, since we do not look at any year after 2016, then for sure we suppose that the students present in bachelor 6 in 2016 will finish in 2016 and will not continue with a bachelor 5 afterwards, as it would be possible. As a consequence, the later they have began their studies, the less time we \"let them\" to compute their bachelor. And consequently, the results are biased towards a lower mean time of studies when approaching 2016. "
   ]
  },
  {
   "cell_type": "code",
   "execution_count": 31,
   "metadata": {
    "collapsed": false
   },
   "outputs": [
    {
     "data": {
      "text/html": [
       "<div>\n",
       "<table border=\"1\" class=\"dataframe\">\n",
       "  <thead>\n",
       "    <tr style=\"text-align: right;\">\n",
       "      <th></th>\n",
       "      <th></th>\n",
       "      <th>Semesters</th>\n",
       "    </tr>\n",
       "    <tr>\n",
       "      <th>Year</th>\n",
       "      <th>Sex</th>\n",
       "      <th></th>\n",
       "    </tr>\n",
       "  </thead>\n",
       "  <tbody>\n",
       "    <tr>\n",
       "      <th rowspan=\"2\" valign=\"top\">2007.0</th>\n",
       "      <th>F</th>\n",
       "      <td>6.000000</td>\n",
       "    </tr>\n",
       "    <tr>\n",
       "      <th>M</th>\n",
       "      <td>6.974359</td>\n",
       "    </tr>\n",
       "    <tr>\n",
       "      <th rowspan=\"2\" valign=\"top\">2008.0</th>\n",
       "      <th>F</th>\n",
       "      <td>6.600000</td>\n",
       "    </tr>\n",
       "    <tr>\n",
       "      <th>M</th>\n",
       "      <td>7.210526</td>\n",
       "    </tr>\n",
       "    <tr>\n",
       "      <th rowspan=\"2\" valign=\"top\">2009.0</th>\n",
       "      <th>F</th>\n",
       "      <td>7.000000</td>\n",
       "    </tr>\n",
       "    <tr>\n",
       "      <th>M</th>\n",
       "      <td>7.813953</td>\n",
       "    </tr>\n",
       "    <tr>\n",
       "      <th rowspan=\"2\" valign=\"top\">2010.0</th>\n",
       "      <th>F</th>\n",
       "      <td>6.000000</td>\n",
       "    </tr>\n",
       "    <tr>\n",
       "      <th>M</th>\n",
       "      <td>7.290909</td>\n",
       "    </tr>\n",
       "    <tr>\n",
       "      <th rowspan=\"2\" valign=\"top\">2011.0</th>\n",
       "      <th>F</th>\n",
       "      <td>7.250000</td>\n",
       "    </tr>\n",
       "    <tr>\n",
       "      <th>M</th>\n",
       "      <td>7.553571</td>\n",
       "    </tr>\n",
       "    <tr>\n",
       "      <th rowspan=\"2\" valign=\"top\">2012.0</th>\n",
       "      <th>F</th>\n",
       "      <td>8.000000</td>\n",
       "    </tr>\n",
       "    <tr>\n",
       "      <th>M</th>\n",
       "      <td>7.026316</td>\n",
       "    </tr>\n",
       "    <tr>\n",
       "      <th rowspan=\"2\" valign=\"top\">2013.0</th>\n",
       "      <th>F</th>\n",
       "      <td>6.333333</td>\n",
       "    </tr>\n",
       "    <tr>\n",
       "      <th>M</th>\n",
       "      <td>6.219512</td>\n",
       "    </tr>\n",
       "    <tr>\n",
       "      <th rowspan=\"2\" valign=\"top\">2014.0</th>\n",
       "      <th>F</th>\n",
       "      <td>6.000000</td>\n",
       "    </tr>\n",
       "    <tr>\n",
       "      <th>M</th>\n",
       "      <td>6.000000</td>\n",
       "    </tr>\n",
       "  </tbody>\n",
       "</table>\n",
       "</div>"
      ],
      "text/plain": [
       "            Semesters\n",
       "Year   Sex           \n",
       "2007.0 F     6.000000\n",
       "       M     6.974359\n",
       "2008.0 F     6.600000\n",
       "       M     7.210526\n",
       "2009.0 F     7.000000\n",
       "       M     7.813953\n",
       "2010.0 F     6.000000\n",
       "       M     7.290909\n",
       "2011.0 F     7.250000\n",
       "       M     7.553571\n",
       "2012.0 F     8.000000\n",
       "       M     7.026316\n",
       "2013.0 F     6.333333\n",
       "       M     6.219512\n",
       "2014.0 F     6.000000\n",
       "       M     6.000000"
      ]
     },
     "execution_count": 31,
     "metadata": {},
     "output_type": "execute_result"
    }
   ],
   "source": [
    "df_bachelor_mean"
   ]
  },
  {
   "cell_type": "code",
   "execution_count": 32,
   "metadata": {
    "collapsed": false
   },
   "outputs": [
    {
     "data": {
      "text/plain": [
       "<matplotlib.axes._subplots.AxesSubplot at 0xb3e4c88>"
      ]
     },
     "execution_count": 32,
     "metadata": {},
     "output_type": "execute_result"
    },
    {
     "data": {
      "image/png": "[encoded data removed]",
      "text/plain": [
       "<matplotlib.figure.Figure at 0xb3e47f0>"
      ]
     },
     "metadata": {},
     "output_type": "display_data"
    }
   ],
   "source": [
    "#print(ax)\n",
    "df_bachelor_mean.reset_index(level=0, inplace=True)\n",
    "ax = df_bachelor_mean.loc['F'].plot(x='Year', y='Semesters', color='Blue', label='F', kind='scatter')\n",
    "df_bachelor_mean.loc['M'].plot.scatter(x='Year', y='Semesters', color='Yellow', label='M', ax=ax)"
   ]
  },
  {
   "cell_type": "markdown",
   "metadata": {},
   "source": [
    "**Conclusion:** From this scatterplot, it seems that males generally take more time than females to finish their bachelor. This is in accordance with what we got with the t-test."
   ]
  },
  {
   "cell_type": "markdown",
   "metadata": {},
   "source": [
    "# Master analysis\n",
    "We now analyse Master data in the same way as for bachelor. From the dictionary of dictionaries master_data, we concatenate all the informations to form a unique dataframe. We then group it by Sciper to have all the information for each individual student without repetitions."
   ]
  },
  {
   "cell_type": "code",
   "execution_count": 19,
   "metadata": {
    "collapsed": false,
    "scrolled": true
   },
   "outputs": [],
   "source": [
    "master_tables=[]\n",
    "for year in master_data:\n",
    "    for semester in master_data[year]:\n",
    "        master_tables.append(master_data[year][semester])\n",
    "total_master=pd.concat(master_tables,axis=0,join='outer')\n",
    "total_master=total_master.reset_index()\n",
    "groups_master=total_master.groupby('Sciper')"
   ]
  },
  {
   "cell_type": "code",
   "execution_count": 20,
   "metadata": {
    "collapsed": false,
    "scrolled": true
   },
   "outputs": [
    {
     "data": {
      "text/html": [
       "<div>\n",
       "<table border=\"1\" class=\"dataframe\">\n",
       "  <thead>\n",
       "    <tr style=\"text-align: right;\">\n",
       "      <th></th>\n",
       "      <th>Name</th>\n",
       "      <th>Semesters</th>\n",
       "      <th>Sex</th>\n",
       "      <th>Specialization</th>\n",
       "      <th>Year</th>\n",
       "    </tr>\n",
       "    <tr>\n",
       "      <th>Sciper</th>\n",
       "      <th></th>\n",
       "      <th></th>\n",
       "      <th></th>\n",
       "      <th></th>\n",
       "      <th></th>\n",
       "    </tr>\n",
       "  </thead>\n",
       "  <tbody>\n",
       "    <tr>\n",
       "      <th>146330.0</th>\n",
       "      <td>Cardinaux Damien</td>\n",
       "      <td>3.0</td>\n",
       "      <td>M</td>\n",
       "      <td></td>\n",
       "      <td>2007.0</td>\n",
       "    </tr>\n",
       "    <tr>\n",
       "      <th>146742.0</th>\n",
       "      <td>Marx Clément</td>\n",
       "      <td>6.0</td>\n",
       "      <td>M</td>\n",
       "      <td>Signals, Images and Interfaces</td>\n",
       "      <td>2008.0</td>\n",
       "    </tr>\n",
       "    <tr>\n",
       "      <th>146929.0</th>\n",
       "      <td>Junod Antoine</td>\n",
       "      <td>2.0</td>\n",
       "      <td>M</td>\n",
       "      <td></td>\n",
       "      <td>2007.0</td>\n",
       "    </tr>\n",
       "    <tr>\n",
       "      <th>147008.0</th>\n",
       "      <td>Good Xavier</td>\n",
       "      <td>4.0</td>\n",
       "      <td>M</td>\n",
       "      <td>Signals, Images and Interfaces</td>\n",
       "      <td>2011.0</td>\n",
       "    </tr>\n",
       "    <tr>\n",
       "      <th>152232.0</th>\n",
       "      <td>Anagnostaras David</td>\n",
       "      <td>3.0</td>\n",
       "      <td>M</td>\n",
       "      <td></td>\n",
       "      <td>2007.0</td>\n",
       "    </tr>\n",
       "  </tbody>\n",
       "</table>\n",
       "</div>"
      ],
      "text/plain": [
       "                        Name  Semesters Sex                  Specialization  \\\n",
       "Sciper                                                                        \n",
       "146330.0    Cardinaux Damien        3.0   M                                   \n",
       "146742.0        Marx Clément        6.0   M  Signals, Images and Interfaces   \n",
       "146929.0       Junod Antoine        2.0   M                                   \n",
       "147008.0         Good Xavier        4.0   M  Signals, Images and Interfaces   \n",
       "152232.0  Anagnostaras David        3.0   M                                   \n",
       "\n",
       "            Year  \n",
       "Sciper            \n",
       "146330.0  2007.0  \n",
       "146742.0  2008.0  \n",
       "146929.0  2007.0  \n",
       "147008.0  2011.0  \n",
       "152232.0  2007.0  "
      ]
     },
     "execution_count": 20,
     "metadata": {},
     "output_type": "execute_result"
    }
   ],
   "source": [
    "final_df_master=pd.DataFrame({'Sciper':[],'Name':[],'Sex':[],'Semesters':[],'Specialization':[]})\n",
    "\n",
    "for student,group in groups_master:\n",
    "    # Store the check variables, i.e. find how many times a student has done the 1st-... \n",
    "    # semesters, master project or mineur. Nan are always replaced to consider them\n",
    "    # carefully depending on what they mean (ex: Nan in Mineur means the student has not\n",
    "    # done any minor). \n",
    "    first_semester=group['Semester'].isin([1]).sum()\n",
    "    second_semester=group['Semester'].isin([2]).sum()\n",
    "    third_semester=group['Semester'].isin([3]).sum()\n",
    "    master_project_done=group['Semester'].isin([4]).sum()\n",
    "    mineur=group['Mineur'].fillna('').sum()!=''\n",
    "    specialization=group.Specialization.fillna(method='backfill').fillna(method='pad').fillna('').iloc[0]    \n",
    "    year=int(group['Year'].min()[:4])\n",
    "\n",
    "    # Store only the students with:\n",
    "    #   - first_semester and master_project_done\n",
    "    #   - first_semester and third_semester \n",
    "    #   - first_semester and second_semester and not mineur\n",
    "    check1=first_semester and master_project_done\n",
    "    check2=first_semester and third_semester\n",
    "    check3=first_semester and second_semester and not mineur\n",
    "    \n",
    "    if check1 or check2 or check3:\n",
    "        number_of_years=group.shape[0] # This corresponds to the number of times a certain\n",
    "        #sciper appears, that it the number of semester a student has done. \n",
    "        name=group['Name'].iloc[0]\n",
    "        sex=group['Sex'].iloc[0]\n",
    "        if sex==\"Monsieur\":\n",
    "            sex='M'\n",
    "        elif sex==\"Madame\":\n",
    "            sex='F'\n",
    "        else:\n",
    "            raise(\"Not existing sex\")\n",
    "        # We create a unique dataframe where each student appear only once, containing \n",
    "        # only the informations that interest us.\n",
    "        ser=pd.DataFrame({'Sciper':[student],'Name':[name],'Sex':[sex],'Semesters':[number_of_years],\n",
    "                         'Specialization':[specialization],'Year':[year]})\n",
    "        final_df_master=final_df_master.append(ser)\n",
    "    \n",
    "final_df_master=final_df_master.set_index('Sciper')\n",
    "final_df_master.head()"
   ]
  },
  {
   "cell_type": "code",
   "execution_count": 21,
   "metadata": {
    "collapsed": false
   },
   "outputs": [
    {
     "name": "stdout",
     "output_type": "stream",
     "text": [
      "The mean average stay in master at EPFL is of 3.3503937007874014 semesters.\n"
     ]
    }
   ],
   "source": [
    "avg_stay = final_df_master['Semesters'].mean()\n",
    "print('The mean average stay in master at EPFL is of '+str(avg_stay)+' semesters.')"
   ]
  },
  {
   "cell_type": "markdown",
   "metadata": {},
   "source": [
    "We group now the dataframe describing master data into sex and year the student has begun its studies. This will allow us to plot the evolution of the number of semesters taken to finish one's master, over time."
   ]
  },
  {
   "cell_type": "code",
   "execution_count": 22,
   "metadata": {
    "collapsed": false
   },
   "outputs": [
    {
     "data": {
      "text/html": [
       "<div>\n",
       "<table border=\"1\" class=\"dataframe\">\n",
       "  <thead>\n",
       "    <tr style=\"text-align: right;\">\n",
       "      <th></th>\n",
       "      <th></th>\n",
       "      <th>Semesters</th>\n",
       "    </tr>\n",
       "    <tr>\n",
       "      <th>Year</th>\n",
       "      <th>Sex</th>\n",
       "      <th></th>\n",
       "    </tr>\n",
       "  </thead>\n",
       "  <tbody>\n",
       "    <tr>\n",
       "      <th rowspan=\"2\" valign=\"top\">2007.0</th>\n",
       "      <th>F</th>\n",
       "      <td>2.600000</td>\n",
       "    </tr>\n",
       "    <tr>\n",
       "      <th>M</th>\n",
       "      <td>3.112903</td>\n",
       "    </tr>\n",
       "    <tr>\n",
       "      <th rowspan=\"2\" valign=\"top\">2008.0</th>\n",
       "      <th>F</th>\n",
       "      <td>3.333333</td>\n",
       "    </tr>\n",
       "    <tr>\n",
       "      <th>M</th>\n",
       "      <td>2.866667</td>\n",
       "    </tr>\n",
       "    <tr>\n",
       "      <th rowspan=\"2\" valign=\"top\">2009.0</th>\n",
       "      <th>F</th>\n",
       "      <td>3.333333</td>\n",
       "    </tr>\n",
       "    <tr>\n",
       "      <th>M</th>\n",
       "      <td>3.255319</td>\n",
       "    </tr>\n",
       "    <tr>\n",
       "      <th rowspan=\"2\" valign=\"top\">2010.0</th>\n",
       "      <th>F</th>\n",
       "      <td>3.615385</td>\n",
       "    </tr>\n",
       "    <tr>\n",
       "      <th>M</th>\n",
       "      <td>3.333333</td>\n",
       "    </tr>\n",
       "    <tr>\n",
       "      <th rowspan=\"2\" valign=\"top\">2011.0</th>\n",
       "      <th>F</th>\n",
       "      <td>3.312500</td>\n",
       "    </tr>\n",
       "    <tr>\n",
       "      <th>M</th>\n",
       "      <td>3.368421</td>\n",
       "    </tr>\n",
       "    <tr>\n",
       "      <th rowspan=\"2\" valign=\"top\">2012.0</th>\n",
       "      <th>F</th>\n",
       "      <td>3.583333</td>\n",
       "    </tr>\n",
       "    <tr>\n",
       "      <th>M</th>\n",
       "      <td>3.478873</td>\n",
       "    </tr>\n",
       "    <tr>\n",
       "      <th rowspan=\"2\" valign=\"top\">2013.0</th>\n",
       "      <th>F</th>\n",
       "      <td>3.357143</td>\n",
       "    </tr>\n",
       "    <tr>\n",
       "      <th>M</th>\n",
       "      <td>3.530120</td>\n",
       "    </tr>\n",
       "    <tr>\n",
       "      <th rowspan=\"2\" valign=\"top\">2014.0</th>\n",
       "      <th>F</th>\n",
       "      <td>4.076923</td>\n",
       "    </tr>\n",
       "    <tr>\n",
       "      <th>M</th>\n",
       "      <td>4.033333</td>\n",
       "    </tr>\n",
       "    <tr>\n",
       "      <th rowspan=\"2\" valign=\"top\">2015.0</th>\n",
       "      <th>F</th>\n",
       "      <td>3.000000</td>\n",
       "    </tr>\n",
       "    <tr>\n",
       "      <th>M</th>\n",
       "      <td>2.917431</td>\n",
       "    </tr>\n",
       "  </tbody>\n",
       "</table>\n",
       "</div>"
      ],
      "text/plain": [
       "            Semesters\n",
       "Year   Sex           \n",
       "2007.0 F     2.600000\n",
       "       M     3.112903\n",
       "2008.0 F     3.333333\n",
       "       M     2.866667\n",
       "2009.0 F     3.333333\n",
       "       M     3.255319\n",
       "2010.0 F     3.615385\n",
       "       M     3.333333\n",
       "2011.0 F     3.312500\n",
       "       M     3.368421\n",
       "2012.0 F     3.583333\n",
       "       M     3.478873\n",
       "2013.0 F     3.357143\n",
       "       M     3.530120\n",
       "2014.0 F     4.076923\n",
       "       M     4.033333\n",
       "2015.0 F     3.000000\n",
       "       M     2.917431"
      ]
     },
     "execution_count": 22,
     "metadata": {},
     "output_type": "execute_result"
    }
   ],
   "source": [
    "final_df_master_grouped = final_df_master[['Year','Sex','Semesters']].groupby(['Year','Sex'])\n",
    "df_master_mean=final_df_master_grouped.mean()\n",
    "df_master_mean"
   ]
  },
  {
   "cell_type": "markdown",
   "metadata": {},
   "source": [
    "As before, we investigate the qualitative behaviour of the data. We report the boxplots and the plots over time of the means per sex."
   ]
  },
  {
   "cell_type": "code",
   "execution_count": 90,
   "metadata": {
    "collapsed": false
   },
   "outputs": [
    {
     "data": {
      "text/plain": [
       "<matplotlib.axes._subplots.AxesSubplot at 0x143e9160>"
      ]
     },
     "execution_count": 90,
     "metadata": {},
     "output_type": "execute_result"
    },
    {
     "data": {
      "image/png": "[encoded data removed]",
      "text/plain": [
       "<matplotlib.figure.Figure at 0x14753518>"
      ]
     },
     "metadata": {},
     "output_type": "display_data"
    },
    {
     "data": {
      "image/png": "[encoded data removed]",
      "text/plain": [
       "<matplotlib.figure.Figure at 0x14400240>"
      ]
     },
     "metadata": {},
     "output_type": "display_data"
    }
   ],
   "source": [
    "# define a reduced dataframe for simplicity\n",
    "df = final_df_master[['Name','Semesters','Sex','Year']]\n",
    "# semesters by sex\n",
    "df.hist(column='Semesters',by='Sex')\n",
    "\n",
    "# semesters over years for female (red) and male (blue) students\n",
    "df2 = df.groupby(['Sex','Year']).mean()\n",
    "ax = df2.loc['F'].plot(y='Semesters',use_index=True,color='red')\n",
    "df2.loc['M'].plot(y='Semesters',use_index=True,color='blue',ax=ax)"
   ]
  },
  {
   "cell_type": "markdown",
   "metadata": {},
   "source": [
    "From a qualitative point of view, the distributions for female and male students seem to share the same statistical distribution."
   ]
  },
  {
   "cell_type": "markdown",
   "metadata": {},
   "source": [
    "## Scatterplot, bonus question\n",
    "We plot the number of semesters each students has done to complete the master, depending on its sex and on the year he/she has begun its studies. For more remarks, see the details of the Scatterplot for the bachelor studies, which has been done in the same way."
   ]
  },
  {
   "cell_type": "code",
   "execution_count": 31,
   "metadata": {
    "collapsed": false
   },
   "outputs": [
    {
     "data": {
      "text/plain": [
       "<matplotlib.axes._subplots.AxesSubplot at 0x7f5efb1d2a20>"
      ]
     },
     "execution_count": 31,
     "metadata": {},
     "output_type": "execute_result"
    },
    {
     "data": {
      "image/png": "[encoded data removed]",
      "text/plain": [
       "<matplotlib.figure.Figure at 0x7f5efd766748>"
      ]
     },
     "metadata": {},
     "output_type": "display_data"
    }
   ],
   "source": [
    "df_master_mean.reset_index(level=0, inplace=True)\n",
    "ax = df_master_mean.loc['F'].plot(x='Year', y='Semesters', color='Blue', label='F', kind='scatter')\n",
    "df_master_mean.loc['M'].plot.scatter(x='Year', y='Semesters', color='Yellow', label='M', ax=ax)"
   ]
  },
  {
   "cell_type": "markdown",
   "metadata": {},
   "source": [
    "**Conclusion:** It does not seem to be a real difference between male and females regarding the time they take to finish their Master. This could be confirmed with a t-test as performed for the bachelor analysis (it would be exaclty the same code)."
   ]
  },
  {
   "cell_type": "markdown",
   "metadata": {},
   "source": [
    "And then we group the students by specialization to know how many of them have done which specialization."
   ]
  },
  {
   "cell_type": "code",
   "execution_count": 32,
   "metadata": {
    "collapsed": false
   },
   "outputs": [
    {
     "data": {
      "text/html": [
       "<div>\n",
       "<table border=\"1\" class=\"dataframe\">\n",
       "  <thead>\n",
       "    <tr style=\"text-align: right;\">\n",
       "      <th></th>\n",
       "      <th>Semesters</th>\n",
       "    </tr>\n",
       "    <tr>\n",
       "      <th>Specialization</th>\n",
       "      <th></th>\n",
       "    </tr>\n",
       "  </thead>\n",
       "  <tbody>\n",
       "    <tr>\n",
       "      <th></th>\n",
       "      <td>519</td>\n",
       "    </tr>\n",
       "    <tr>\n",
       "      <th>Biocomputing</th>\n",
       "      <td>4</td>\n",
       "    </tr>\n",
       "    <tr>\n",
       "      <th>Computer Engineering - SP</th>\n",
       "      <td>20</td>\n",
       "    </tr>\n",
       "    <tr>\n",
       "      <th>Computer Science Theory</th>\n",
       "      <td>1</td>\n",
       "    </tr>\n",
       "    <tr>\n",
       "      <th>Data Analytics</th>\n",
       "      <td>6</td>\n",
       "    </tr>\n",
       "    <tr>\n",
       "      <th>Foundations of Software</th>\n",
       "      <td>62</td>\n",
       "    </tr>\n",
       "    <tr>\n",
       "      <th>Information Security - SP</th>\n",
       "      <td>7</td>\n",
       "    </tr>\n",
       "    <tr>\n",
       "      <th>Internet Information Systems</th>\n",
       "      <td>1</td>\n",
       "    </tr>\n",
       "    <tr>\n",
       "      <th>Internet computing</th>\n",
       "      <td>91</td>\n",
       "    </tr>\n",
       "    <tr>\n",
       "      <th>Service science</th>\n",
       "      <td>5</td>\n",
       "    </tr>\n",
       "    <tr>\n",
       "      <th>Signals, Images and Interfaces</th>\n",
       "      <td>30</td>\n",
       "    </tr>\n",
       "    <tr>\n",
       "      <th>Software Systems</th>\n",
       "      <td>16</td>\n",
       "    </tr>\n",
       "  </tbody>\n",
       "</table>\n",
       "</div>"
      ],
      "text/plain": [
       "                                Semesters\n",
       "Specialization                           \n",
       "                                      519\n",
       "Biocomputing                            4\n",
       "Computer Engineering - SP              20\n",
       "Computer Science Theory                 1\n",
       "Data Analytics                          6\n",
       "Foundations of Software                62\n",
       "Information Security - SP               7\n",
       "Internet Information Systems            1\n",
       "Internet computing                     91\n",
       "Service science                         5\n",
       "Signals, Images and Interfaces         30\n",
       "Software Systems                       16"
      ]
     },
     "execution_count": 32,
     "metadata": {},
     "output_type": "execute_result"
    }
   ],
   "source": [
    "specialization_analysis=final_df_master[['Semesters','Specialization']].groupby('Specialization')\n",
    "specialization_analysis.count() #It shows the number of students having done this specialization."
   ]
  },
  {
   "cell_type": "code",
   "execution_count": 33,
   "metadata": {
    "collapsed": false
   },
   "outputs": [
    {
     "data": {
      "text/html": [
       "<div>\n",
       "<table border=\"1\" class=\"dataframe\">\n",
       "  <thead>\n",
       "    <tr style=\"text-align: right;\">\n",
       "      <th></th>\n",
       "      <th>Semesters</th>\n",
       "    </tr>\n",
       "    <tr>\n",
       "      <th>Specialization</th>\n",
       "      <th></th>\n",
       "    </tr>\n",
       "  </thead>\n",
       "  <tbody>\n",
       "    <tr>\n",
       "      <th></th>\n",
       "      <td>3.136802</td>\n",
       "    </tr>\n",
       "    <tr>\n",
       "      <th>Biocomputing</th>\n",
       "      <td>4.000000</td>\n",
       "    </tr>\n",
       "    <tr>\n",
       "      <th>Computer Engineering - SP</th>\n",
       "      <td>3.700000</td>\n",
       "    </tr>\n",
       "    <tr>\n",
       "      <th>Computer Science Theory</th>\n",
       "      <td>3.000000</td>\n",
       "    </tr>\n",
       "    <tr>\n",
       "      <th>Data Analytics</th>\n",
       "      <td>2.833333</td>\n",
       "    </tr>\n",
       "    <tr>\n",
       "      <th>Foundations of Software</th>\n",
       "      <td>3.935484</td>\n",
       "    </tr>\n",
       "    <tr>\n",
       "      <th>Information Security - SP</th>\n",
       "      <td>3.571429</td>\n",
       "    </tr>\n",
       "    <tr>\n",
       "      <th>Internet Information Systems</th>\n",
       "      <td>3.000000</td>\n",
       "    </tr>\n",
       "    <tr>\n",
       "      <th>Internet computing</th>\n",
       "      <td>3.824176</td>\n",
       "    </tr>\n",
       "    <tr>\n",
       "      <th>Service science</th>\n",
       "      <td>3.800000</td>\n",
       "    </tr>\n",
       "    <tr>\n",
       "      <th>Signals, Images and Interfaces</th>\n",
       "      <td>4.000000</td>\n",
       "    </tr>\n",
       "    <tr>\n",
       "      <th>Software Systems</th>\n",
       "      <td>3.500000</td>\n",
       "    </tr>\n",
       "  </tbody>\n",
       "</table>\n",
       "</div>"
      ],
      "text/plain": [
       "                                Semesters\n",
       "Specialization                           \n",
       "                                 3.136802\n",
       "Biocomputing                     4.000000\n",
       "Computer Engineering - SP        3.700000\n",
       "Computer Science Theory          3.000000\n",
       "Data Analytics                   2.833333\n",
       "Foundations of Software          3.935484\n",
       "Information Security - SP        3.571429\n",
       "Internet Information Systems     3.000000\n",
       "Internet computing               3.824176\n",
       "Service science                  3.800000\n",
       "Signals, Images and Interfaces   4.000000\n",
       "Software Systems                 3.500000"
      ]
     },
     "execution_count": 33,
     "metadata": {},
     "output_type": "execute_result"
    }
   ],
   "source": [
    "specialization_analysis.mean()"
   ]
  },
  {
   "cell_type": "markdown",
   "metadata": {},
   "source": [
    "We now perform a two sample t-test to find if there is any specialization for which the difference of study time (in number of semesters) is in average statistically significant. This means that we want to know if students significantly take more (or less) time to complete one of the specializations. We note that there is only one student that has chosen \"Computer Science Theory\" and \"Internet Information Systems\" as specialization. For those two, we can then not compute the t-test, and thus not the p-value."
   ]
  },
  {
   "cell_type": "code",
   "execution_count": 34,
   "metadata": {
    "collapsed": false,
    "scrolled": true
   },
   "outputs": [
    {
     "data": {
      "text/html": [
       "<div>\n",
       "<table border=\"1\" class=\"dataframe\">\n",
       "  <thead>\n",
       "    <tr style=\"text-align: right;\">\n",
       "      <th></th>\n",
       "      <th>Semesters</th>\n",
       "      <th>t-test</th>\n",
       "      <th>p-value</th>\n",
       "    </tr>\n",
       "    <tr>\n",
       "      <th>Specialization</th>\n",
       "      <th></th>\n",
       "      <th></th>\n",
       "      <th></th>\n",
       "    </tr>\n",
       "  </thead>\n",
       "  <tbody>\n",
       "    <tr>\n",
       "      <th></th>\n",
       "      <td>3.136802</td>\n",
       "      <td>0.000000</td>\n",
       "      <td>1.000000e+00</td>\n",
       "    </tr>\n",
       "    <tr>\n",
       "      <th>Biocomputing</th>\n",
       "      <td>4.000000</td>\n",
       "      <td>2.577078</td>\n",
       "      <td>1.023787e-02</td>\n",
       "    </tr>\n",
       "    <tr>\n",
       "      <th>Computer Engineering - SP</th>\n",
       "      <td>3.700000</td>\n",
       "      <td>14.445601</td>\n",
       "      <td>3.386185e-40</td>\n",
       "    </tr>\n",
       "    <tr>\n",
       "      <th>Computer Science Theory</th>\n",
       "      <td>3.000000</td>\n",
       "      <td>NaN</td>\n",
       "      <td>NaN</td>\n",
       "    </tr>\n",
       "    <tr>\n",
       "      <th>Data Analytics</th>\n",
       "      <td>2.833333</td>\n",
       "      <td>-10.323138</td>\n",
       "      <td>7.293080e-23</td>\n",
       "    </tr>\n",
       "    <tr>\n",
       "      <th>Foundations of Software</th>\n",
       "      <td>3.935484</td>\n",
       "      <td>42.031559</td>\n",
       "      <td>4.851378e-178</td>\n",
       "    </tr>\n",
       "    <tr>\n",
       "      <th>Information Security - SP</th>\n",
       "      <td>3.571429</td>\n",
       "      <td>3.156939</td>\n",
       "      <td>1.686109e-03</td>\n",
       "    </tr>\n",
       "    <tr>\n",
       "      <th>Internet Information Systems</th>\n",
       "      <td>3.000000</td>\n",
       "      <td>NaN</td>\n",
       "      <td>NaN</td>\n",
       "    </tr>\n",
       "    <tr>\n",
       "      <th>Internet computing</th>\n",
       "      <td>3.824176</td>\n",
       "      <td>53.898859</td>\n",
       "      <td>9.293679e-234</td>\n",
       "    </tr>\n",
       "    <tr>\n",
       "      <th>Service science</th>\n",
       "      <td>3.800000</td>\n",
       "      <td>2.744810</td>\n",
       "      <td>6.263196e-03</td>\n",
       "    </tr>\n",
       "    <tr>\n",
       "      <th>Signals, Images and Interfaces</th>\n",
       "      <td>4.000000</td>\n",
       "      <td>15.840631</td>\n",
       "      <td>8.611297e-47</td>\n",
       "    </tr>\n",
       "    <tr>\n",
       "      <th>Software Systems</th>\n",
       "      <td>3.500000</td>\n",
       "      <td>10.391215</td>\n",
       "      <td>3.719062e-23</td>\n",
       "    </tr>\n",
       "  </tbody>\n",
       "</table>\n",
       "</div>"
      ],
      "text/plain": [
       "                                Semesters     t-test        p-value\n",
       "Specialization                                                     \n",
       "                                 3.136802   0.000000   1.000000e+00\n",
       "Biocomputing                     4.000000   2.577078   1.023787e-02\n",
       "Computer Engineering - SP        3.700000  14.445601   3.386185e-40\n",
       "Computer Science Theory          3.000000        NaN            NaN\n",
       "Data Analytics                   2.833333 -10.323138   7.293080e-23\n",
       "Foundations of Software          3.935484  42.031559  4.851378e-178\n",
       "Information Security - SP        3.571429   3.156939   1.686109e-03\n",
       "Internet Information Systems     3.000000        NaN            NaN\n",
       "Internet computing               3.824176  53.898859  9.293679e-234\n",
       "Service science                  3.800000   2.744810   6.263196e-03\n",
       "Signals, Images and Interfaces   4.000000  15.840631   8.611297e-47\n",
       "Software Systems                 3.500000  10.391215   3.719062e-23"
      ]
     },
     "execution_count": 34,
     "metadata": {},
     "output_type": "execute_result"
    }
   ],
   "source": [
    "specialization_mean=specialization_analysis.mean()\n",
    "specialization_std=specialization_analysis.std()\n",
    "specialization_count=specialization_analysis.count()\n",
    "output=specialization_analysis.mean()\n",
    "base_mean=specialization_mean.iloc[0]\n",
    "base_std=specialization_std.iloc[0]\n",
    "base_count=specialization_count.iloc[0]\n",
    "\n",
    "nu=specialization_count+base_count-2\n",
    "output['t-test']=(specialization_mean-base_mean)/(specialization_std*specialization_std/specialization_count+base_std*base_std/base_count)\n",
    "output['p-value']=t.sf(abs(output['t-test'].reshape([output['t-test'].shape[0],1])),nu)*2\n",
    "output"
   ]
  },
  {
   "cell_type": "markdown",
   "metadata": {
    "collapsed": true
   },
   "source": [
    "**Conclusion:** Every p-value is below 0.05, which means that there is a statistically significant difference between the mean number of semester done by the students and the number of semesters performed by the students having chosen different specialization."
   ]
  },
  {
   "cell_type": "code",
   "execution_count": null,
   "metadata": {
    "collapsed": true
   },
   "outputs": [],
   "source": []
  }
 ],
 "metadata": {
  "anaconda-cloud": {},
  "kernelspec": {
   "display_name": "Python [Root]",
   "language": "python",
   "name": "Python [Root]"
  },
  "language_info": {
   "codemirror_mode": {
    "name": "ipython",
    "version": 3
   },
   "file_extension": ".py",
   "mimetype": "text/x-python",
   "name": "python",
   "nbconvert_exporter": "python",
   "pygments_lexer": "ipython3",
   "version": "3.5.2"
  }
 },
 "nbformat": 4,
 "nbformat_minor": 0
}
