{
 "cells": [
  {
   "cell_type": "markdown",
   "metadata": {},
   "source": [
    "# Interactive visualization homework overview\n",
    "In this homework, we want to make an interactive visualization of the grants received from the SNSF in each canton. The data is the P3 data given on the [SNSF website](http://p3.snf.ch/), called P3_GrantExport.csv\n",
    "To do so, \n",
    "* we first load the data with pandas;\n",
    "* we only keep the columns of interest (University name and amount of money received for each project);\n",
    "* and we only keep the rows of interest (corresponding to Swiss universities, that is any non-nan \"University\" entry is valid). \n",
    "* Then, we have to map the universities to their corresponding cantons using [Geonames Full Text Search API in JSON](http://www.geonames.org/export/web-services.html) together with some manual tuning. \n",
    "* We finally visualize the results thanks to folium on the map of Switzerland, using a cloropleth map."
   ]
  },
  {
   "cell_type": "markdown",
   "metadata": {},
   "source": [
    "## Import librarires and load data"
   ]
  },
  {
   "cell_type": "code",
   "execution_count": 1,
   "metadata": {
    "collapsed": false
   },
   "outputs": [],
   "source": [
    "import pandas as pd\n",
    "import folium\n",
    "import requests\n",
    "import math"
   ]
  },
  {
   "cell_type": "markdown",
   "metadata": {},
   "source": [
    "Read the csv file with the separator ; and create a dataframe from it."
   ]
  },
  {
   "cell_type": "code",
   "execution_count": 2,
   "metadata": {
    "collapsed": false
   },
   "outputs": [],
   "source": [
    "data = pd.read_csv('P3_GrantExport.csv',sep=';')\n",
    "data = data.rename(columns={'\\ufeff\"Project Number\"':'Project','Approved Amount':'Amount'})\n",
    "data = data.set_index('Project')"
   ]
  },
  {
   "cell_type": "markdown",
   "metadata": {},
   "source": [
    "We check if the project number is actually a unique identifier, as declared in the SNSF P3 website."
   ]
  },
  {
   "cell_type": "code",
   "execution_count": 3,
   "metadata": {
    "collapsed": false
   },
   "outputs": [
    {
     "data": {
      "text/plain": [
       "True"
      ]
     },
     "execution_count": 3,
     "metadata": {},
     "output_type": "execute_result"
    }
   ],
   "source": [
    "data.index.is_unique"
   ]
  },
  {
   "cell_type": "markdown",
   "metadata": {},
   "source": [
    "Since it is unique, we set it as the index of the dataframe. We explore now the dataframe parameters, in order to understand which of them are interesting for our purposes:"
   ]
  },
  {
   "cell_type": "code",
   "execution_count": 4,
   "metadata": {
    "collapsed": false
   },
   "outputs": [
    {
     "data": {
      "text/plain": [
       "Index(['Project Title', 'Project Title English', 'Responsible Applicant',\n",
       "       'Funding Instrument', 'Funding Instrument Hierarchy', 'Institution',\n",
       "       'University', 'Discipline Number', 'Discipline Name',\n",
       "       'Discipline Name Hierarchy', 'Start Date', 'End Date', 'Amount',\n",
       "       'Keywords'],\n",
       "      dtype='object')"
      ]
     },
     "execution_count": 4,
     "metadata": {},
     "output_type": "execute_result"
    }
   ],
   "source": [
    "data.columns"
   ]
  },
  {
   "cell_type": "markdown",
   "metadata": {},
   "source": [
    "## Choose data of interest\n",
    "A complete description of the parameters can be found at http://p3.snf.ch/Pages/DataAndDocumentation.aspx. The attributes which are interesting for us are:\n",
    "\n",
    "* 'Institution': place where the project is carried out\n",
    "* 'University': academic insitution where the project is carried out\n",
    "* 'Approved Amount': grant for the project (CHF)\n",
    "\n",
    "We keep in also the 'Start Date' and the 'End date' parameters for eventual further investigations which take time into account.\n",
    "Let us filter the dataset now."
   ]
  },
  {
   "cell_type": "code",
   "execution_count": 5,
   "metadata": {
    "collapsed": false
   },
   "outputs": [
    {
     "data": {
      "text/html": [
       "<div>\n",
       "<table border=\"1\" class=\"dataframe\">\n",
       "  <thead>\n",
       "    <tr style=\"text-align: right;\">\n",
       "      <th></th>\n",
       "      <th>Institution</th>\n",
       "      <th>University</th>\n",
       "      <th>Amount</th>\n",
       "      <th>Start Date</th>\n",
       "      <th>End Date</th>\n",
       "    </tr>\n",
       "    <tr>\n",
       "      <th>Project</th>\n",
       "      <th></th>\n",
       "      <th></th>\n",
       "      <th></th>\n",
       "      <th></th>\n",
       "      <th></th>\n",
       "    </tr>\n",
       "  </thead>\n",
       "  <tbody>\n",
       "    <tr>\n",
       "      <th>1</th>\n",
       "      <td>NaN</td>\n",
       "      <td>Nicht zuteilbar - NA</td>\n",
       "      <td>11619.00</td>\n",
       "      <td>01.10.1975</td>\n",
       "      <td>30.09.1976</td>\n",
       "    </tr>\n",
       "    <tr>\n",
       "      <th>4</th>\n",
       "      <td>Faculté de Psychologie et des Sciences de l'Ed...</td>\n",
       "      <td>Université de Genève - GE</td>\n",
       "      <td>41022.00</td>\n",
       "      <td>01.10.1975</td>\n",
       "      <td>30.09.1976</td>\n",
       "    </tr>\n",
       "    <tr>\n",
       "      <th>5</th>\n",
       "      <td>Kommission für das Corpus philosophorum medii ...</td>\n",
       "      <td>NPO (Biblioth., Museen, Verwalt.) - NPO</td>\n",
       "      <td>79732.00</td>\n",
       "      <td>01.03.1976</td>\n",
       "      <td>28.02.1985</td>\n",
       "    </tr>\n",
       "    <tr>\n",
       "      <th>6</th>\n",
       "      <td>Abt. Handschriften und Alte Drucke Bibliothek ...</td>\n",
       "      <td>Universität Basel - BS</td>\n",
       "      <td>52627.00</td>\n",
       "      <td>01.10.1975</td>\n",
       "      <td>30.09.1976</td>\n",
       "    </tr>\n",
       "    <tr>\n",
       "      <th>7</th>\n",
       "      <td>Schweiz. Thesauruskommission</td>\n",
       "      <td>NPO (Biblioth., Museen, Verwalt.) - NPO</td>\n",
       "      <td>120042.00</td>\n",
       "      <td>01.01.1976</td>\n",
       "      <td>30.04.1978</td>\n",
       "    </tr>\n",
       "  </tbody>\n",
       "</table>\n",
       "</div>"
      ],
      "text/plain": [
       "                                               Institution  \\\n",
       "Project                                                      \n",
       "1                                                      NaN   \n",
       "4        Faculté de Psychologie et des Sciences de l'Ed...   \n",
       "5        Kommission für das Corpus philosophorum medii ...   \n",
       "6        Abt. Handschriften und Alte Drucke Bibliothek ...   \n",
       "7                             Schweiz. Thesauruskommission   \n",
       "\n",
       "                                      University     Amount  Start Date  \\\n",
       "Project                                                                   \n",
       "1                           Nicht zuteilbar - NA   11619.00  01.10.1975   \n",
       "4                      Université de Genève - GE   41022.00  01.10.1975   \n",
       "5        NPO (Biblioth., Museen, Verwalt.) - NPO   79732.00  01.03.1976   \n",
       "6                         Universität Basel - BS   52627.00  01.10.1975   \n",
       "7        NPO (Biblioth., Museen, Verwalt.) - NPO  120042.00  01.01.1976   \n",
       "\n",
       "           End Date  \n",
       "Project              \n",
       "1        30.09.1976  \n",
       "4        30.09.1976  \n",
       "5        28.02.1985  \n",
       "6        30.09.1976  \n",
       "7        30.04.1978  "
      ]
     },
     "execution_count": 5,
     "metadata": {},
     "output_type": "execute_result"
    }
   ],
   "source": [
    "data = data[['Institution','University','Amount','Start Date','End Date']]\n",
    "data.head()"
   ]
  },
  {
   "cell_type": "markdown",
   "metadata": {},
   "source": [
    "# Preliminar data exploration\n",
    "In this section we will explore the essential features of the dataset to learn better how it looks like.\n",
    "We know a priori the structure of the dataset, and in particular, we have seen that some University fields are filled with NaN, while other columns contain some specific string, such as \"Nicht zuteilbar - NA\", that is, 'not allocable'. Moreover, when the grant amount is not given, one can find the specification \"data not included in P3\". These data arise actually from projects developed at foreign Universities, as said in the documentation of P3. Consequently, they are not interesting for our study. It is thus reasonable to drop them out of the dataset.\n",
    "\n",
    "Let us study first the 'University' field."
   ]
  },
  {
   "cell_type": "code",
   "execution_count": 7,
   "metadata": {
    "collapsed": false
   },
   "outputs": [
    {
     "name": "stdout",
     "output_type": "stream",
     "text": [
      "0.243492941894 is the ratio of nan values out of 63969 projects.\n"
     ]
    }
   ],
   "source": [
    "nan_string1 = 'Nicht zuteilbar - NA'\n",
    "nans1 = (data['University'] == nan_string1).value_counts()\n",
    "nans2 = data['University'].isnull().value_counts()\n",
    "print(str((nans1[True] + nans2[True])/nans2.sum())+' is the ratio of nan values out of '+str(nans2.sum())+' projects.')"
   ]
  },
  {
   "cell_type": "markdown",
   "metadata": {},
   "source": [
    "There are roughly **24%** of NaN values in the field 'University', that is, around a fourth of the projects are developed in non Swiss Universities.\n",
    "\n",
    "Now, let us study the 'Amount' field. We convert the grant amounts from string to floating point numbers, in order to treat them quantitatively."
   ]
  },
  {
   "cell_type": "code",
   "execution_count": 8,
   "metadata": {
    "collapsed": false
   },
   "outputs": [],
   "source": [
    "# Remove missing data\n",
    "nan_string = 'data not included in P3'\n",
    "# Amount NaN\n",
    "nans_string = data.Amount.isin([nan_string]).value_counts()[True]\n",
    "data=data[~data.Amount.isin([nan_string])]"
   ]
  },
  {
   "cell_type": "code",
   "execution_count": 9,
   "metadata": {
    "collapsed": false
   },
   "outputs": [],
   "source": [
    "data.Amount = pd.to_numeric(data.Amount)"
   ]
  },
  {
   "cell_type": "code",
   "execution_count": null,
   "metadata": {
    "collapsed": true
   },
   "outputs": [],
   "source": []
  },
  {
   "cell_type": "code",
   "execution_count": null,
   "metadata": {
    "collapsed": true
   },
   "outputs": [],
   "source": []
  },
  {
   "cell_type": "code",
   "execution_count": null,
   "metadata": {
    "collapsed": true
   },
   "outputs": [],
   "source": []
  },
  {
   "cell_type": "code",
   "execution_count": null,
   "metadata": {
    "collapsed": true
   },
   "outputs": [],
   "source": []
  },
  {
   "cell_type": "code",
   "execution_count": null,
   "metadata": {
    "collapsed": true
   },
   "outputs": [],
   "source": []
  },
  {
   "cell_type": "code",
   "execution_count": null,
   "metadata": {
    "collapsed": true
   },
   "outputs": [],
   "source": []
  },
  {
   "cell_type": "code",
   "execution_count": null,
   "metadata": {
    "collapsed": true
   },
   "outputs": [],
   "source": []
  },
  {
   "cell_type": "markdown",
   "metadata": {},
   "source": [
    "Choose rows and replace 'Nicht zuteilbar - NA' and 'data not included in P3' by nan."
   ]
  },
  {
   "cell_type": "code",
   "execution_count": null,
   "metadata": {
    "collapsed": false
   },
   "outputs": [],
   "source": [
    "grants_uni_df = grants_df[['Institution', 'University','Approved Amount']].replace('Nicht zuteilbar - NA', np.nan)\n",
    "grants_uni_df = grants_uni_df[['Institution', 'University','Approved Amount']].replace('data not included in P3', np.nan)\n",
    "grants_uni_df.head()"
   ]
  },
  {
   "cell_type": "markdown",
   "metadata": {},
   "source": [
    "Check how many null-entries there are."
   ]
  },
  {
   "cell_type": "code",
   "execution_count": null,
   "metadata": {
    "collapsed": false
   },
   "outputs": [],
   "source": [
    "null_uni = grants_uni_df[grants_uni_df['University'].isnull()].shape[0]\n",
    "null_inst = grants_uni_df[grants_uni_df['Institution'].isnull()].shape[0]\n",
    "null_amount = grants_uni_df[grants_uni_df['Approved Amount'].isnull()].shape[0]\n",
    "print(null_inst)\n",
    "print(null_uni)\n",
    "print(null_amount)"
   ]
  },
  {
   "cell_type": "markdown",
   "metadata": {},
   "source": [
    "Drop null entries."
   ]
  },
  {
   "cell_type": "code",
   "execution_count": null,
   "metadata": {
    "collapsed": false
   },
   "outputs": [],
   "source": [
    "grants_uni_CH_df = grants_uni_df.dropna()\n",
    "grants_uni_CH_df.head()"
   ]
  },
  {
   "cell_type": "code",
   "execution_count": null,
   "metadata": {
    "collapsed": false
   },
   "outputs": [],
   "source": [
    "grants_uni_CH_df.describe()"
   ]
  },
  {
   "cell_type": "code",
   "execution_count": null,
   "metadata": {
    "collapsed": false
   },
   "outputs": [],
   "source": [
    "grants_uni_CH_df = grants_uni_CH_df.rename(columns={'Approved Amount':'Amount'})\n",
    "grants_uni_CH_df.Amount = pd.to_numeric(grants_uni_CH_df.Amount)\n",
    "grants_uni_CH_df.Amount.describe()"
   ]
  },
  {
   "cell_type": "markdown",
   "metadata": {},
   "source": [
    "## Mapping from University to Canton"
   ]
  },
  {
   "cell_type": "code",
   "execution_count": null,
   "metadata": {
    "collapsed": false
   },
   "outputs": [],
   "source": [
    "username = 'ochanon'\n",
    "url='http://api.geonames.org/postalCodeSearchJSON?'\n",
    "parameters={'username':username,'placename':'CH','maxRows':1,'operator':'OR'}\n",
    "r=requests.get(url,params=parameters)\n",
    "df=grants_uni_CH_df"
   ]
  },
  {
   "cell_type": "code",
   "execution_count": null,
   "metadata": {
    "collapsed": false
   },
   "outputs": [],
   "source": [
    "df_final=pd.DataFrame({'Canton':[]})\n",
    "not_found_list=[]\n",
    "for block in df[['Institution','University']].itertuples(index=False):\n",
    "    nan1=str(block[0])\n",
    "    nan2=str(block[1])\n",
    "    \n",
    "    # By default take only the university.\n",
    "    # The first time a value is added it is checked for differences if adding also the institution.\n",
    "    if nan1=='nan':\n",
    "        if nan2=='nan':\n",
    "            raise('Bad preprocessing - double nan')\n",
    "        query_string=block[1]\n",
    "    elif nan2=='nan':\n",
    "        query_string=block[0]\n",
    "    else:\n",
    "        query_string=block[0]+\", \"+block[1]\n",
    "    \n",
    "    \n",
    "    # List of checks if already present in the dictionary:\n",
    "    # 1- institution + university \n",
    "    # 2- university \n",
    "    # 3- query to geonames\n",
    "    try:\n",
    "        canton=correspondencies_dictionary[query_string]\n",
    "        df2=pd.DataFrame({'Canton':[canton]})\n",
    "        df_final=df_final.append(df2)\n",
    "    except:\n",
    "        try:\n",
    "            query_string_university=str(block[1])\n",
    "            canton=correspondencies_dictionary[query_string_university]\n",
    "            df2=pd.DataFrame({'Canton':[canton]})\n",
    "            df_final=df_final.append(df2)\n",
    "        except:\n",
    "            try:\n",
    "                params['placename']=query_string\n",
    "                r=requests.get(url,params=params)\n",
    "                df1=pd.read_json(r.text,orient='records')\n",
    "                canton=df1.postalCodes[0]\n",
    "\n",
    "                if nan2!='nan':\n",
    "                    query_string_short=block[1]\n",
    "                    r=requests.get(url,params=params)\n",
    "                    df1=pd.read_json(r.text,orient='records')\n",
    "                    canton2=df1.postalCodes[0]\n",
    "                    if canton2==canton:\n",
    "                        query_string=query_string_short\n",
    "                    else:\n",
    "                        print(canton2,canton)\n",
    "\n",
    "                if canton['countryCode']!='CH':\n",
    "    #                 if nan2!='nan':\n",
    "    #                     print(2140358234)\n",
    "    #                 print(query_string)\n",
    "    #                 print(canton['countryCode'])\n",
    "                    continue\n",
    "                df2=pd.DataFrame(canton,columns=['adminCode1'],index=['adminCode1'])\n",
    "                df2=df2.rename(columns={'adminCode1':'Canton'})\n",
    "                df_final=df_final.append(df2)\n",
    "                correspondencies_dictionary[query_string]=df2.Canton[0]\n",
    "            except:\n",
    "                print(query_string)\n",
    "                not_found_list.append(query_string)"
   ]
  },
  {
   "cell_type": "markdown",
   "metadata": {},
   "source": [
    "## Interactive visualization using Folium"
   ]
  },
  {
   "cell_type": "code",
   "execution_count": null,
   "metadata": {
    "collapsed": true
   },
   "outputs": [],
   "source": [
    "map = folium.Map(location=[46.8, 8], zoom_start=8)\n",
    "map.choropleth(geo_path=geo, data=None,\n",
    "             columns=['Canton', 'Amount'],\n",
    "             key_on='feature.id',\n",
    "             fill_color='YlGn', fill_opacity=0.7, line_opacity=0.2,\n",
    "             legend_name='Amount of grants (CHF)')"
   ]
  },
  {
   "cell_type": "code",
   "execution_count": null,
   "metadata": {
    "collapsed": false
   },
   "outputs": [],
   "source": [
    "map"
   ]
  },
  {
   "cell_type": "markdown",
   "metadata": {},
   "source": []
  },
  {
   "cell_type": "code",
   "execution_count": null,
   "metadata": {
    "collapsed": true
   },
   "outputs": [],
   "source": []
  }
 ],
 "metadata": {
  "anaconda-cloud": {},
  "kernelspec": {
   "display_name": "Python [Root]",
   "language": "python",
   "name": "Python [Root]"
  },
  "language_info": {
   "codemirror_mode": {
    "name": "ipython",
    "version": 3
   },
   "file_extension": ".py",
   "mimetype": "text/x-python",
   "name": "python",
   "nbconvert_exporter": "python",
   "pygments_lexer": "ipython3",
   "version": "3.5.2"
  }
 },
 "nbformat": 4,
 "nbformat_minor": 0
}
