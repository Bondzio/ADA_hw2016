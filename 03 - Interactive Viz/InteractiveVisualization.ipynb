{
 "cells": [
  {
   "cell_type": "markdown",
   "metadata": {},
   "source": [
    "# Interactive Viz - load dataset"
   ]
  },
  {
   "cell_type": "markdown",
   "metadata": {},
   "source": [
    "After the usually library imports, we load the P3 dataset. We remark that, because of problems in reading the csv file, we have converted the original .csv dataset as an excel spreadsheet."
   ]
  },
  {
   "cell_type": "code",
   "execution_count": 1,
   "metadata": {
    "collapsed": true
   },
   "outputs": [],
   "source": [
    "import pandas as pd\n",
    "import numpy as np\n",
    "import seaborn as sbr\n",
    "import matplotlib as plt\n",
    "%matplotlib inline"
   ]
  },
  {
   "cell_type": "code",
   "execution_count": 11,
   "metadata": {
    "collapsed": false
   },
   "outputs": [
    {
     "data": {
      "text/html": [
       "<div>\n",
       "<table border=\"1\" class=\"dataframe\">\n",
       "  <thead>\n",
       "    <tr style=\"text-align: right;\">\n",
       "      <th></th>\n",
       "      <th>Project Title</th>\n",
       "      <th>Project Title English</th>\n",
       "      <th>Responsible Applicant</th>\n",
       "      <th>Funding Instrument</th>\n",
       "      <th>Funding Instrument Hierarchy</th>\n",
       "      <th>Institution</th>\n",
       "      <th>University</th>\n",
       "      <th>Discipline Number</th>\n",
       "      <th>Discipline Name</th>\n",
       "      <th>Discipline Name Hierarchy</th>\n",
       "      <th>Start Date</th>\n",
       "      <th>End Date</th>\n",
       "      <th>Approved Amount</th>\n",
       "      <th>Keywords</th>\n",
       "    </tr>\n",
       "    <tr>\n",
       "      <th>Project Number</th>\n",
       "      <th></th>\n",
       "      <th></th>\n",
       "      <th></th>\n",
       "      <th></th>\n",
       "      <th></th>\n",
       "      <th></th>\n",
       "      <th></th>\n",
       "      <th></th>\n",
       "      <th></th>\n",
       "      <th></th>\n",
       "      <th></th>\n",
       "      <th></th>\n",
       "      <th></th>\n",
       "      <th></th>\n",
       "    </tr>\n",
       "  </thead>\n",
       "  <tbody>\n",
       "    <tr>\n",
       "      <th>1</th>\n",
       "      <td>Schlussband (Bd. VI) der Jacob Burckhardt-Biog...</td>\n",
       "      <td>NaN</td>\n",
       "      <td>Kaegi Werner</td>\n",
       "      <td>Project funding (Div. I-III)</td>\n",
       "      <td>Project funding</td>\n",
       "      <td>NaN</td>\n",
       "      <td>Nicht zuteilbar - NA</td>\n",
       "      <td>10302</td>\n",
       "      <td>Swiss history</td>\n",
       "      <td>Human and Social Sciences;Theology &amp; religious...</td>\n",
       "      <td>01.10.1975</td>\n",
       "      <td>30.09.1976</td>\n",
       "      <td>11619.00</td>\n",
       "      <td>NaN</td>\n",
       "    </tr>\n",
       "    <tr>\n",
       "      <th>4</th>\n",
       "      <td>Batterie de tests à l'usage des enseignants po...</td>\n",
       "      <td>NaN</td>\n",
       "      <td>Massarenti Léonard</td>\n",
       "      <td>Project funding (Div. I-III)</td>\n",
       "      <td>Project funding</td>\n",
       "      <td>Faculté de Psychologie et des Sciences de l'Ed...</td>\n",
       "      <td>Université de Genève - GE</td>\n",
       "      <td>10104</td>\n",
       "      <td>Educational science and Pedagogy</td>\n",
       "      <td>Human and Social Sciences;Psychology, educatio...</td>\n",
       "      <td>01.10.1975</td>\n",
       "      <td>30.09.1976</td>\n",
       "      <td>41022.00</td>\n",
       "      <td>NaN</td>\n",
       "    </tr>\n",
       "    <tr>\n",
       "      <th>5</th>\n",
       "      <td>Kritische Erstausgabe der \"Evidentiae contra D...</td>\n",
       "      <td>NaN</td>\n",
       "      <td>Kommission für das Corpus philosophorum medii ...</td>\n",
       "      <td>Project funding (Div. I-III)</td>\n",
       "      <td>Project funding</td>\n",
       "      <td>Kommission für das Corpus philosophorum medii ...</td>\n",
       "      <td>NPO (Biblioth., Museen, Verwalt.) - NPO</td>\n",
       "      <td>10101</td>\n",
       "      <td>Philosophy</td>\n",
       "      <td>Human and Social Sciences;Linguistics and lite...</td>\n",
       "      <td>01.03.1976</td>\n",
       "      <td>28.02.1985</td>\n",
       "      <td>79732.00</td>\n",
       "      <td>NaN</td>\n",
       "    </tr>\n",
       "    <tr>\n",
       "      <th>6</th>\n",
       "      <td>Katalog der datierten Handschriften in der Sch...</td>\n",
       "      <td>NaN</td>\n",
       "      <td>Burckhardt Max</td>\n",
       "      <td>Project funding (Div. I-III)</td>\n",
       "      <td>Project funding</td>\n",
       "      <td>Abt. Handschriften und Alte Drucke Bibliothek ...</td>\n",
       "      <td>Universität Basel - BS</td>\n",
       "      <td>10302</td>\n",
       "      <td>Swiss history</td>\n",
       "      <td>Human and Social Sciences;Theology &amp; religious...</td>\n",
       "      <td>01.10.1975</td>\n",
       "      <td>30.09.1976</td>\n",
       "      <td>52627.00</td>\n",
       "      <td>NaN</td>\n",
       "    </tr>\n",
       "    <tr>\n",
       "      <th>7</th>\n",
       "      <td>Wissenschaftliche Mitarbeit am Thesaurus Lingu...</td>\n",
       "      <td>NaN</td>\n",
       "      <td>Schweiz. Thesauruskommission</td>\n",
       "      <td>Project funding (Div. I-III)</td>\n",
       "      <td>Project funding</td>\n",
       "      <td>Schweiz. Thesauruskommission</td>\n",
       "      <td>NPO (Biblioth., Museen, Verwalt.) - NPO</td>\n",
       "      <td>10303</td>\n",
       "      <td>Ancient history and Classical studies</td>\n",
       "      <td>Human and Social Sciences;Theology &amp; religious...</td>\n",
       "      <td>01.01.1976</td>\n",
       "      <td>30.04.1978</td>\n",
       "      <td>120042.00</td>\n",
       "      <td>NaN</td>\n",
       "    </tr>\n",
       "  </tbody>\n",
       "</table>\n",
       "</div>"
      ],
      "text/plain": [
       "                                                    Project Title  \\\n",
       "Project Number                                                      \n",
       "1               Schlussband (Bd. VI) der Jacob Burckhardt-Biog...   \n",
       "4               Batterie de tests à l'usage des enseignants po...   \n",
       "5               Kritische Erstausgabe der \"Evidentiae contra D...   \n",
       "6               Katalog der datierten Handschriften in der Sch...   \n",
       "7               Wissenschaftliche Mitarbeit am Thesaurus Lingu...   \n",
       "\n",
       "               Project Title English  \\\n",
       "Project Number                         \n",
       "1                                NaN   \n",
       "4                                NaN   \n",
       "5                                NaN   \n",
       "6                                NaN   \n",
       "7                                NaN   \n",
       "\n",
       "                                            Responsible Applicant  \\\n",
       "Project Number                                                      \n",
       "1                                                    Kaegi Werner   \n",
       "4                                              Massarenti Léonard   \n",
       "5               Kommission für das Corpus philosophorum medii ...   \n",
       "6                                                  Burckhardt Max   \n",
       "7                                    Schweiz. Thesauruskommission   \n",
       "\n",
       "                          Funding Instrument Funding Instrument Hierarchy  \\\n",
       "Project Number                                                              \n",
       "1               Project funding (Div. I-III)              Project funding   \n",
       "4               Project funding (Div. I-III)              Project funding   \n",
       "5               Project funding (Div. I-III)              Project funding   \n",
       "6               Project funding (Div. I-III)              Project funding   \n",
       "7               Project funding (Div. I-III)              Project funding   \n",
       "\n",
       "                                                      Institution  \\\n",
       "Project Number                                                      \n",
       "1                                                             NaN   \n",
       "4               Faculté de Psychologie et des Sciences de l'Ed...   \n",
       "5               Kommission für das Corpus philosophorum medii ...   \n",
       "6               Abt. Handschriften und Alte Drucke Bibliothek ...   \n",
       "7                                    Schweiz. Thesauruskommission   \n",
       "\n",
       "                                             University  Discipline Number  \\\n",
       "Project Number                                                               \n",
       "1                                  Nicht zuteilbar - NA              10302   \n",
       "4                             Université de Genève - GE              10104   \n",
       "5               NPO (Biblioth., Museen, Verwalt.) - NPO              10101   \n",
       "6                                Universität Basel - BS              10302   \n",
       "7               NPO (Biblioth., Museen, Verwalt.) - NPO              10303   \n",
       "\n",
       "                                      Discipline Name  \\\n",
       "Project Number                                          \n",
       "1                                       Swiss history   \n",
       "4                    Educational science and Pedagogy   \n",
       "5                                          Philosophy   \n",
       "6                                       Swiss history   \n",
       "7               Ancient history and Classical studies   \n",
       "\n",
       "                                        Discipline Name Hierarchy  Start Date  \\\n",
       "Project Number                                                                  \n",
       "1               Human and Social Sciences;Theology & religious...  01.10.1975   \n",
       "4               Human and Social Sciences;Psychology, educatio...  01.10.1975   \n",
       "5               Human and Social Sciences;Linguistics and lite...  01.03.1976   \n",
       "6               Human and Social Sciences;Theology & religious...  01.10.1975   \n",
       "7               Human and Social Sciences;Theology & religious...  01.01.1976   \n",
       "\n",
       "                  End Date Approved Amount Keywords  \n",
       "Project Number                                       \n",
       "1               30.09.1976        11619.00      NaN  \n",
       "4               30.09.1976        41022.00      NaN  \n",
       "5               28.02.1985        79732.00      NaN  \n",
       "6               30.09.1976        52627.00      NaN  \n",
       "7               30.04.1978       120042.00      NaN  "
      ]
     },
     "execution_count": 11,
     "metadata": {},
     "output_type": "execute_result"
    }
   ],
   "source": [
    "# load excel spreadsheet\n",
    "data = pd.read_excel('P3.xlsx')\n",
    "data = data.set_index('Project Number')\n",
    "data.head(5)"
   ]
  },
  {
   "cell_type": "markdown",
   "metadata": {},
   "source": [
    "We check if the project number is actually a unique identifier, as declared in the SNSF P3 website."
   ]
  },
  {
   "cell_type": "code",
   "execution_count": 12,
   "metadata": {
    "collapsed": false
   },
   "outputs": [
    {
     "data": {
      "text/plain": [
       "True"
      ]
     },
     "execution_count": 12,
     "metadata": {},
     "output_type": "execute_result"
    }
   ],
   "source": [
    "data.index.is_unique"
   ]
  },
  {
   "cell_type": "markdown",
   "metadata": {},
   "source": [
    "Since it is unique, we set it as the index of the dataframe."
   ]
  }
 ],
 "metadata": {
  "anaconda-cloud": {},
  "kernelspec": {
   "display_name": "Python [Root]",
   "language": "python",
   "name": "Python [Root]"
  },
  "language_info": {
   "codemirror_mode": {
    "name": "ipython",
    "version": 3
   },
   "file_extension": ".py",
   "mimetype": "text/x-python",
   "name": "python",
   "nbconvert_exporter": "python",
   "pygments_lexer": "ipython3",
   "version": "3.5.2"
  }
 },
 "nbformat": 4,
 "nbformat_minor": 0
}
