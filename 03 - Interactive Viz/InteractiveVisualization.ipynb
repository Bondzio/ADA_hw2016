{
 "cells": [
  {
   "cell_type": "markdown",
   "metadata": {},
   "source": [
    "# Interactive Viz - load dataset"
   ]
  },
  {
   "cell_type": "markdown",
   "metadata": {},
   "source": [
    "After the usually library imports, we load the P3 dataset. We remark that, because of problems in reading the csv file, we have converted the original .csv dataset as an excel spreadsheet."
   ]
  },
  {
   "cell_type": "code",
   "execution_count": 1,
   "metadata": {
    "collapsed": true
   },
   "outputs": [],
   "source": [
    "import pandas as pd"
   ]
  },
  {
   "cell_type": "code",
   "execution_count": 2,
   "metadata": {
    "collapsed": false
   },
   "outputs": [],
   "source": [
    "# load excel spreadsheet\n",
    "data = pd.read_excel('P3.xlsx')\n",
    "data = data.set_index('Project Number')\n",
    "#data.head(5)"
   ]
  },
  {
   "cell_type": "markdown",
   "metadata": {},
   "source": [
    "We check if the project number is actually a unique identifier, as declared in the SNSF P3 website."
   ]
  },
  {
   "cell_type": "code",
   "execution_count": 3,
   "metadata": {
    "collapsed": false
   },
   "outputs": [
    {
     "data": {
      "text/plain": [
       "True"
      ]
     },
     "execution_count": 3,
     "metadata": {},
     "output_type": "execute_result"
    }
   ],
   "source": [
    "data.index.is_unique"
   ]
  },
  {
   "cell_type": "markdown",
   "metadata": {},
   "source": [
    "Since it is unique, we set it as the index of the dataframe. We explore now the dataframe parameters, in order to understand which of them are interesting for our purposes:"
   ]
  },
  {
   "cell_type": "code",
   "execution_count": 4,
   "metadata": {
    "collapsed": false
   },
   "outputs": [
    {
     "data": {
      "text/plain": [
       "Index(['Project Title', 'Project Title English', 'Responsible Applicant',\n",
       "       'Funding Instrument', 'Funding Instrument Hierarchy', 'Institution',\n",
       "       'University', 'Discipline Number', 'Discipline Name',\n",
       "       'Discipline Name Hierarchy', 'Start Date', 'End Date',\n",
       "       'Approved Amount', 'Keywords'],\n",
       "      dtype='object')"
      ]
     },
     "execution_count": 4,
     "metadata": {},
     "output_type": "execute_result"
    }
   ],
   "source": [
    "data.columns"
   ]
  },
  {
   "cell_type": "markdown",
   "metadata": {},
   "source": [
    "A complete description of the parameters can be found at http://p3.snf.ch/Pages/DataAndDocumentation.aspx. The attributes which are interesting for us are:\n",
    "+ '**University**': academic insitution where the project is carried out\n",
    "+ '**Approved Amount**': grant for the project (CHF)\n",
    "\n",
    "We will consider later also the '**Start Date**' and the '**End date**' parameters for further investigations which take time into account.\n",
    "\n",
    "Let us filter the dataset, save its reduced version as an .xlsx file."
   ]
  },
  {
   "cell_type": "code",
   "execution_count": 7,
   "metadata": {
    "collapsed": false
   },
   "outputs": [
    {
     "data": {
      "text/html": [
       "<div>\n",
       "<table border=\"1\" class=\"dataframe\">\n",
       "  <thead>\n",
       "    <tr style=\"text-align: right;\">\n",
       "      <th></th>\n",
       "      <th>University</th>\n",
       "      <th>Approved Amount</th>\n",
       "      <th>Start Date</th>\n",
       "      <th>End Date</th>\n",
       "    </tr>\n",
       "    <tr>\n",
       "      <th>Project Number</th>\n",
       "      <th></th>\n",
       "      <th></th>\n",
       "      <th></th>\n",
       "      <th></th>\n",
       "    </tr>\n",
       "  </thead>\n",
       "  <tbody>\n",
       "    <tr>\n",
       "      <th>1</th>\n",
       "      <td>Nicht zuteilbar - NA</td>\n",
       "      <td>11619.00</td>\n",
       "      <td>01.10.1975</td>\n",
       "      <td>30.09.1976</td>\n",
       "    </tr>\n",
       "    <tr>\n",
       "      <th>4</th>\n",
       "      <td>Université de Genève - GE</td>\n",
       "      <td>41022.00</td>\n",
       "      <td>01.10.1975</td>\n",
       "      <td>30.09.1976</td>\n",
       "    </tr>\n",
       "    <tr>\n",
       "      <th>5</th>\n",
       "      <td>NPO (Biblioth., Museen, Verwalt.) - NPO</td>\n",
       "      <td>79732.00</td>\n",
       "      <td>01.03.1976</td>\n",
       "      <td>28.02.1985</td>\n",
       "    </tr>\n",
       "    <tr>\n",
       "      <th>6</th>\n",
       "      <td>Universität Basel - BS</td>\n",
       "      <td>52627.00</td>\n",
       "      <td>01.10.1975</td>\n",
       "      <td>30.09.1976</td>\n",
       "    </tr>\n",
       "    <tr>\n",
       "      <th>7</th>\n",
       "      <td>NPO (Biblioth., Museen, Verwalt.) - NPO</td>\n",
       "      <td>120042.00</td>\n",
       "      <td>01.01.1976</td>\n",
       "      <td>30.04.1978</td>\n",
       "    </tr>\n",
       "  </tbody>\n",
       "</table>\n",
       "</div>"
      ],
      "text/plain": [
       "                                             University Approved Amount  \\\n",
       "Project Number                                                            \n",
       "1                                  Nicht zuteilbar - NA        11619.00   \n",
       "4                             Université de Genève - GE        41022.00   \n",
       "5               NPO (Biblioth., Museen, Verwalt.) - NPO        79732.00   \n",
       "6                                Universität Basel - BS        52627.00   \n",
       "7               NPO (Biblioth., Museen, Verwalt.) - NPO       120042.00   \n",
       "\n",
       "                Start Date    End Date  \n",
       "Project Number                          \n",
       "1               01.10.1975  30.09.1976  \n",
       "4               01.10.1975  30.09.1976  \n",
       "5               01.03.1976  28.02.1985  \n",
       "6               01.10.1975  30.09.1976  \n",
       "7               01.01.1976  30.04.1978  "
      ]
     },
     "execution_count": 7,
     "metadata": {},
     "output_type": "execute_result"
    }
   ],
   "source": [
    "data_red = data[['University','Approved Amount','Start Date','End Date']]\n",
    "data_red.head(5)"
   ]
  },
  {
   "cell_type": "code",
   "execution_count": 8,
   "metadata": {
    "collapsed": true
   },
   "outputs": [],
   "source": [
    "data_red.to_excel('Grants.xlsx',sheet_name='Sheet1')"
   ]
  },
  {
   "cell_type": "markdown",
   "metadata": {},
   "source": [
    "From now on, we will work on the reduced dataset, which is lighter to load and read. You can start directly from the following section."
   ]
  },
  {
   "cell_type": "markdown",
   "metadata": {},
   "source": [
    "# Preliminar data exploration"
   ]
  },
  {
   "cell_type": "markdown",
   "metadata": {},
   "source": [
    "In this section we will explore the essential features of the dataset."
   ]
  },
  {
   "cell_type": "code",
   "execution_count": 1,
   "metadata": {
    "collapsed": true
   },
   "outputs": [],
   "source": [
    "import pandas as pd\n",
    "import numpy as np\n",
    "import seaborn as sbr\n",
    "import matplotlib as plt\n",
    "%matplotlib inline"
   ]
  },
  {
   "cell_type": "code",
   "execution_count": 47,
   "metadata": {
    "collapsed": false
   },
   "outputs": [
    {
     "data": {
      "text/html": [
       "<div>\n",
       "<table border=\"1\" class=\"dataframe\">\n",
       "  <thead>\n",
       "    <tr style=\"text-align: right;\">\n",
       "      <th></th>\n",
       "      <th>University</th>\n",
       "      <th>Approved Amount</th>\n",
       "      <th>Start Date</th>\n",
       "      <th>End Date</th>\n",
       "    </tr>\n",
       "    <tr>\n",
       "      <th>Project Number</th>\n",
       "      <th></th>\n",
       "      <th></th>\n",
       "      <th></th>\n",
       "      <th></th>\n",
       "    </tr>\n",
       "  </thead>\n",
       "  <tbody>\n",
       "    <tr>\n",
       "      <th>1</th>\n",
       "      <td>Nicht zuteilbar - NA</td>\n",
       "      <td>11619.00</td>\n",
       "      <td>01.10.1975</td>\n",
       "      <td>30.09.1976</td>\n",
       "    </tr>\n",
       "    <tr>\n",
       "      <th>4</th>\n",
       "      <td>Université de Genève - GE</td>\n",
       "      <td>41022.00</td>\n",
       "      <td>01.10.1975</td>\n",
       "      <td>30.09.1976</td>\n",
       "    </tr>\n",
       "    <tr>\n",
       "      <th>5</th>\n",
       "      <td>NPO (Biblioth., Museen, Verwalt.) - NPO</td>\n",
       "      <td>79732.00</td>\n",
       "      <td>01.03.1976</td>\n",
       "      <td>28.02.1985</td>\n",
       "    </tr>\n",
       "  </tbody>\n",
       "</table>\n",
       "</div>"
      ],
      "text/plain": [
       "                                             University Approved Amount  \\\n",
       "Project Number                                                            \n",
       "1                                  Nicht zuteilbar - NA        11619.00   \n",
       "4                             Université de Genève - GE        41022.00   \n",
       "5               NPO (Biblioth., Museen, Verwalt.) - NPO        79732.00   \n",
       "\n",
       "                Start Date    End Date  \n",
       "Project Number                          \n",
       "1               01.10.1975  30.09.1976  \n",
       "4               01.10.1975  30.09.1976  \n",
       "5               01.03.1976  28.02.1985  "
      ]
     },
     "execution_count": 47,
     "metadata": {},
     "output_type": "execute_result"
    }
   ],
   "source": [
    "data = pd.read_excel('Grants.xlsx',sheet_name='Sheet1')\n",
    "data = data.set_index('Project Number')\n",
    "data.head(3)"
   ]
  },
  {
   "cell_type": "markdown",
   "metadata": {},
   "source": [
    "We perform now an essential data exploration, looking for eventual NaN values and analyzing the statistical distribution of the '**Approved Amount**' parameter."
   ]
  },
  {
   "cell_type": "code",
   "execution_count": 48,
   "metadata": {
    "collapsed": false
   },
   "outputs": [
    {
     "data": {
      "text/plain": [
       "False    50988\n",
       "True     12981\n",
       "Name: University, dtype: int64"
      ]
     },
     "execution_count": 48,
     "metadata": {},
     "output_type": "execute_result"
    }
   ],
   "source": [
    "data['University'].isnull().value_counts()"
   ]
  },
  {
   "cell_type": "markdown",
   "metadata": {},
   "source": [
    "There are roughly **20%** of NaN values in the field '**University**', which will make problematic the matching with the corresponding Canton. Let us identify part of this non available data:"
   ]
  },
  {
   "cell_type": "code",
   "execution_count": 49,
   "metadata": {
    "collapsed": false
   },
   "outputs": [
    {
     "data": {
      "text/html": [
       "<div>\n",
       "<table border=\"1\" class=\"dataframe\">\n",
       "  <thead>\n",
       "    <tr style=\"text-align: right;\">\n",
       "      <th></th>\n",
       "      <th>University</th>\n",
       "      <th>Approved Amount</th>\n",
       "      <th>Start Date</th>\n",
       "      <th>End Date</th>\n",
       "    </tr>\n",
       "    <tr>\n",
       "      <th>Project Number</th>\n",
       "      <th></th>\n",
       "      <th></th>\n",
       "      <th></th>\n",
       "      <th></th>\n",
       "    </tr>\n",
       "  </thead>\n",
       "  <tbody>\n",
       "    <tr>\n",
       "      <th>20001</th>\n",
       "      <td>NaN</td>\n",
       "      <td>data not included in P3</td>\n",
       "      <td>01.11.1986</td>\n",
       "      <td>31.10.1987</td>\n",
       "    </tr>\n",
       "    <tr>\n",
       "      <th>20002</th>\n",
       "      <td>NaN</td>\n",
       "      <td>data not included in P3</td>\n",
       "      <td>01.01.1987</td>\n",
       "      <td>31.12.1987</td>\n",
       "    </tr>\n",
       "    <tr>\n",
       "      <th>20003</th>\n",
       "      <td>NaN</td>\n",
       "      <td>data not included in P3</td>\n",
       "      <td>01.07.1987</td>\n",
       "      <td>30.06.1988</td>\n",
       "    </tr>\n",
       "    <tr>\n",
       "      <th>20004</th>\n",
       "      <td>NaN</td>\n",
       "      <td>data not included in P3</td>\n",
       "      <td>01.09.1986</td>\n",
       "      <td>31.08.1987</td>\n",
       "    </tr>\n",
       "    <tr>\n",
       "      <th>20005</th>\n",
       "      <td>NaN</td>\n",
       "      <td>data not included in P3</td>\n",
       "      <td>01.09.1986</td>\n",
       "      <td>31.08.1987</td>\n",
       "    </tr>\n",
       "    <tr>\n",
       "      <th>20006</th>\n",
       "      <td>NaN</td>\n",
       "      <td>data not included in P3</td>\n",
       "      <td>01.08.1986</td>\n",
       "      <td>31.07.1987</td>\n",
       "    </tr>\n",
       "    <tr>\n",
       "      <th>20007</th>\n",
       "      <td>NaN</td>\n",
       "      <td>data not included in P3</td>\n",
       "      <td>01.10.1986</td>\n",
       "      <td>30.09.1987</td>\n",
       "    </tr>\n",
       "    <tr>\n",
       "      <th>20008</th>\n",
       "      <td>NaN</td>\n",
       "      <td>data not included in P3</td>\n",
       "      <td>01.07.1986</td>\n",
       "      <td>31.12.1986</td>\n",
       "    </tr>\n",
       "    <tr>\n",
       "      <th>20009</th>\n",
       "      <td>NaN</td>\n",
       "      <td>data not included in P3</td>\n",
       "      <td>01.10.1986</td>\n",
       "      <td>30.09.1987</td>\n",
       "    </tr>\n",
       "    <tr>\n",
       "      <th>20010</th>\n",
       "      <td>NaN</td>\n",
       "      <td>data not included in P3</td>\n",
       "      <td>01.10.1986</td>\n",
       "      <td>30.09.1987</td>\n",
       "    </tr>\n",
       "  </tbody>\n",
       "</table>\n",
       "</div>"
      ],
      "text/plain": [
       "               University          Approved Amount  Start Date    End Date\n",
       "Project Number                                                            \n",
       "20001                 NaN  data not included in P3  01.11.1986  31.10.1987\n",
       "20002                 NaN  data not included in P3  01.01.1987  31.12.1987\n",
       "20003                 NaN  data not included in P3  01.07.1987  30.06.1988\n",
       "20004                 NaN  data not included in P3  01.09.1986  31.08.1987\n",
       "20005                 NaN  data not included in P3  01.09.1986  31.08.1987\n",
       "20006                 NaN  data not included in P3  01.08.1986  31.07.1987\n",
       "20007                 NaN  data not included in P3  01.10.1986  30.09.1987\n",
       "20008                 NaN  data not included in P3  01.07.1986  31.12.1986\n",
       "20009                 NaN  data not included in P3  01.10.1986  30.09.1987\n",
       "20010                 NaN  data not included in P3  01.10.1986  30.09.1987"
      ]
     },
     "execution_count": 49,
     "metadata": {},
     "output_type": "execute_result"
    }
   ],
   "source": [
    "# NaN values in the 'University' field\n",
    "data[data['University'].isnull()].head(10)"
   ]
  },
  {
   "cell_type": "code",
   "execution_count": 50,
   "metadata": {
    "collapsed": false
   },
   "outputs": [
    {
     "data": {
      "text/html": [
       "<div>\n",
       "<table border=\"1\" class=\"dataframe\">\n",
       "  <thead>\n",
       "    <tr style=\"text-align: right;\">\n",
       "      <th></th>\n",
       "      <th>University</th>\n",
       "      <th>Approved Amount</th>\n",
       "      <th>Start Date</th>\n",
       "      <th>End Date</th>\n",
       "    </tr>\n",
       "    <tr>\n",
       "      <th>Project Number</th>\n",
       "      <th></th>\n",
       "      <th></th>\n",
       "      <th></th>\n",
       "      <th></th>\n",
       "    </tr>\n",
       "  </thead>\n",
       "  <tbody>\n",
       "    <tr>\n",
       "      <th>20001</th>\n",
       "      <td>NaN</td>\n",
       "      <td>data not included in P3</td>\n",
       "      <td>01.11.1986</td>\n",
       "      <td>31.10.1987</td>\n",
       "    </tr>\n",
       "    <tr>\n",
       "      <th>20002</th>\n",
       "      <td>NaN</td>\n",
       "      <td>data not included in P3</td>\n",
       "      <td>01.01.1987</td>\n",
       "      <td>31.12.1987</td>\n",
       "    </tr>\n",
       "    <tr>\n",
       "      <th>20003</th>\n",
       "      <td>NaN</td>\n",
       "      <td>data not included in P3</td>\n",
       "      <td>01.07.1987</td>\n",
       "      <td>30.06.1988</td>\n",
       "    </tr>\n",
       "    <tr>\n",
       "      <th>20004</th>\n",
       "      <td>NaN</td>\n",
       "      <td>data not included in P3</td>\n",
       "      <td>01.09.1986</td>\n",
       "      <td>31.08.1987</td>\n",
       "    </tr>\n",
       "    <tr>\n",
       "      <th>20005</th>\n",
       "      <td>NaN</td>\n",
       "      <td>data not included in P3</td>\n",
       "      <td>01.09.1986</td>\n",
       "      <td>31.08.1987</td>\n",
       "    </tr>\n",
       "    <tr>\n",
       "      <th>20006</th>\n",
       "      <td>NaN</td>\n",
       "      <td>data not included in P3</td>\n",
       "      <td>01.08.1986</td>\n",
       "      <td>31.07.1987</td>\n",
       "    </tr>\n",
       "    <tr>\n",
       "      <th>20007</th>\n",
       "      <td>NaN</td>\n",
       "      <td>data not included in P3</td>\n",
       "      <td>01.10.1986</td>\n",
       "      <td>30.09.1987</td>\n",
       "    </tr>\n",
       "    <tr>\n",
       "      <th>20008</th>\n",
       "      <td>NaN</td>\n",
       "      <td>data not included in P3</td>\n",
       "      <td>01.07.1986</td>\n",
       "      <td>31.12.1986</td>\n",
       "    </tr>\n",
       "    <tr>\n",
       "      <th>20009</th>\n",
       "      <td>NaN</td>\n",
       "      <td>data not included in P3</td>\n",
       "      <td>01.10.1986</td>\n",
       "      <td>30.09.1987</td>\n",
       "    </tr>\n",
       "    <tr>\n",
       "      <th>20010</th>\n",
       "      <td>NaN</td>\n",
       "      <td>data not included in P3</td>\n",
       "      <td>01.10.1986</td>\n",
       "      <td>30.09.1987</td>\n",
       "    </tr>\n",
       "  </tbody>\n",
       "</table>\n",
       "</div>"
      ],
      "text/plain": [
       "               University          Approved Amount  Start Date    End Date\n",
       "Project Number                                                            \n",
       "20001                 NaN  data not included in P3  01.11.1986  31.10.1987\n",
       "20002                 NaN  data not included in P3  01.01.1987  31.12.1987\n",
       "20003                 NaN  data not included in P3  01.07.1987  30.06.1988\n",
       "20004                 NaN  data not included in P3  01.09.1986  31.08.1987\n",
       "20005                 NaN  data not included in P3  01.09.1986  31.08.1987\n",
       "20006                 NaN  data not included in P3  01.08.1986  31.07.1987\n",
       "20007                 NaN  data not included in P3  01.10.1986  30.09.1987\n",
       "20008                 NaN  data not included in P3  01.07.1986  31.12.1986\n",
       "20009                 NaN  data not included in P3  01.10.1986  30.09.1987\n",
       "20010                 NaN  data not included in P3  01.10.1986  30.09.1987"
      ]
     },
     "execution_count": 50,
     "metadata": {},
     "output_type": "execute_result"
    }
   ],
   "source": [
    "# NaN values in the 'Approved Amount' field\n",
    "data[data['Approved Amount']=='data not included in P3'].head(10)"
   ]
  },
  {
   "cell_type": "markdown",
   "metadata": {},
   "source": [
    "There are missing data which are not included in the P3 project, as explicitely specified by the dataset. Since we are not able to link them, by the moment we ignore them."
   ]
  }
 ],
 "metadata": {
  "anaconda-cloud": {},
  "kernelspec": {
   "display_name": "Python [Root]",
   "language": "python",
   "name": "Python [Root]"
  },
  "language_info": {
   "codemirror_mode": {
    "name": "ipython",
    "version": 3
   },
   "file_extension": ".py",
   "mimetype": "text/x-python",
   "name": "python",
   "nbconvert_exporter": "python",
   "pygments_lexer": "ipython3",
   "version": "3.5.2"
  }
 },
 "nbformat": 4,
 "nbformat_minor": 0
}
