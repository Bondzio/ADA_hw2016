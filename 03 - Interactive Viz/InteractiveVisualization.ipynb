{
 "cells": [
  {
   "cell_type": "markdown",
   "metadata": {},
   "source": [
    "# Interactive Viz - load dataset"
   ]
  },
  {
   "cell_type": "markdown",
   "metadata": {},
   "source": [
    "After the usually library imports, we load the P3 dataset. We remark that, because of problems in reading the csv file, we have converted the original .csv dataset as an excel spreadsheet."
   ]
  },
  {
   "cell_type": "code",
   "execution_count": 1,
   "metadata": {
    "collapsed": true
   },
   "outputs": [],
   "source": [
    "import pandas as pd"
   ]
  },
  {
   "cell_type": "code",
   "execution_count": 2,
   "metadata": {
    "collapsed": false
   },
   "outputs": [],
   "source": [
    "# load excel spreadsheet\n",
    "data = pd.read_excel('P3.xlsx')\n",
    "data = data.set_index('Project Number')\n",
    "#data.head(5)"
   ]
  },
  {
   "cell_type": "markdown",
   "metadata": {},
   "source": [
    "We check if the project number is actually a unique identifier, as declared in the SNSF P3 website."
   ]
  },
  {
   "cell_type": "code",
   "execution_count": 3,
   "metadata": {
    "collapsed": false
   },
   "outputs": [
    {
     "data": {
      "text/plain": [
       "True"
      ]
     },
     "execution_count": 3,
     "metadata": {},
     "output_type": "execute_result"
    }
   ],
   "source": [
    "data.index.is_unique"
   ]
  },
  {
   "cell_type": "markdown",
   "metadata": {},
   "source": [
    "Since it is unique, we set it as the index of the dataframe. We explore now the dataframe parameters, in order to understand which of them are interesting for our purposes:"
   ]
  },
  {
   "cell_type": "code",
   "execution_count": 4,
   "metadata": {
    "collapsed": false
   },
   "outputs": [
    {
     "data": {
      "text/plain": [
       "Index(['Project Title', 'Project Title English', 'Responsible Applicant',\n",
       "       'Funding Instrument', 'Funding Instrument Hierarchy', 'Institution',\n",
       "       'University', 'Discipline Number', 'Discipline Name',\n",
       "       'Discipline Name Hierarchy', 'Start Date', 'End Date',\n",
       "       'Approved Amount', 'Keywords'],\n",
       "      dtype='object')"
      ]
     },
     "execution_count": 4,
     "metadata": {},
     "output_type": "execute_result"
    }
   ],
   "source": [
    "data.columns"
   ]
  },
  {
   "cell_type": "markdown",
   "metadata": {},
   "source": [
    "A complete description of the parameters can be found at http://p3.snf.ch/Pages/DataAndDocumentation.aspx. The attributes which are interesting for us are:\n",
    "+ '**University**': academic insitution where the project is carried out\n",
    "+ '**Approved Amount**': grant for the project (CHF)\n",
    "\n",
    "We keep in also the '**Start Date**' and the '**End date**' parameters for eventual further investigations which take time into account.\n",
    "\n",
    "Let us filter the dataset, save its reduced version as an .xlsx file."
   ]
  },
  {
   "cell_type": "code",
   "execution_count": 7,
   "metadata": {
    "collapsed": false
   },
   "outputs": [
    {
     "data": {
      "text/html": [
       "<div>\n",
       "<table border=\"1\" class=\"dataframe\">\n",
       "  <thead>\n",
       "    <tr style=\"text-align: right;\">\n",
       "      <th></th>\n",
       "      <th>University</th>\n",
       "      <th>Approved Amount</th>\n",
       "      <th>Start Date</th>\n",
       "      <th>End Date</th>\n",
       "    </tr>\n",
       "    <tr>\n",
       "      <th>Project Number</th>\n",
       "      <th></th>\n",
       "      <th></th>\n",
       "      <th></th>\n",
       "      <th></th>\n",
       "    </tr>\n",
       "  </thead>\n",
       "  <tbody>\n",
       "    <tr>\n",
       "      <th>1</th>\n",
       "      <td>Nicht zuteilbar - NA</td>\n",
       "      <td>11619.00</td>\n",
       "      <td>01.10.1975</td>\n",
       "      <td>30.09.1976</td>\n",
       "    </tr>\n",
       "    <tr>\n",
       "      <th>4</th>\n",
       "      <td>Université de Genève - GE</td>\n",
       "      <td>41022.00</td>\n",
       "      <td>01.10.1975</td>\n",
       "      <td>30.09.1976</td>\n",
       "    </tr>\n",
       "    <tr>\n",
       "      <th>5</th>\n",
       "      <td>NPO (Biblioth., Museen, Verwalt.) - NPO</td>\n",
       "      <td>79732.00</td>\n",
       "      <td>01.03.1976</td>\n",
       "      <td>28.02.1985</td>\n",
       "    </tr>\n",
       "    <tr>\n",
       "      <th>6</th>\n",
       "      <td>Universität Basel - BS</td>\n",
       "      <td>52627.00</td>\n",
       "      <td>01.10.1975</td>\n",
       "      <td>30.09.1976</td>\n",
       "    </tr>\n",
       "    <tr>\n",
       "      <th>7</th>\n",
       "      <td>NPO (Biblioth., Museen, Verwalt.) - NPO</td>\n",
       "      <td>120042.00</td>\n",
       "      <td>01.01.1976</td>\n",
       "      <td>30.04.1978</td>\n",
       "    </tr>\n",
       "  </tbody>\n",
       "</table>\n",
       "</div>"
      ],
      "text/plain": [
       "                                             University Approved Amount  \\\n",
       "Project Number                                                            \n",
       "1                                  Nicht zuteilbar - NA        11619.00   \n",
       "4                             Université de Genève - GE        41022.00   \n",
       "5               NPO (Biblioth., Museen, Verwalt.) - NPO        79732.00   \n",
       "6                                Universität Basel - BS        52627.00   \n",
       "7               NPO (Biblioth., Museen, Verwalt.) - NPO       120042.00   \n",
       "\n",
       "                Start Date    End Date  \n",
       "Project Number                          \n",
       "1               01.10.1975  30.09.1976  \n",
       "4               01.10.1975  30.09.1976  \n",
       "5               01.03.1976  28.02.1985  \n",
       "6               01.10.1975  30.09.1976  \n",
       "7               01.01.1976  30.04.1978  "
      ]
     },
     "execution_count": 7,
     "metadata": {},
     "output_type": "execute_result"
    }
   ],
   "source": [
    "data_red = data[['University','Approved Amount','Start Date','End Date']]\n",
    "data_red.head(5)"
   ]
  },
  {
   "cell_type": "code",
   "execution_count": 8,
   "metadata": {
    "collapsed": true
   },
   "outputs": [],
   "source": [
    "data_red.to_excel('Grants.xlsx',sheet_name='Sheet1')"
   ]
  },
  {
   "cell_type": "markdown",
   "metadata": {},
   "source": [
    "From now on, we will work on the reduced dataset, which is lighter to load and read. You can start directly from the following section."
   ]
  },
  {
   "cell_type": "markdown",
   "metadata": {},
   "source": [
    "# Preliminar data exploration"
   ]
  },
  {
   "cell_type": "markdown",
   "metadata": {},
   "source": [
    "In this section we will explore the essential features of the dataset."
   ]
  },
  {
   "cell_type": "code",
   "execution_count": 146,
   "metadata": {
    "collapsed": true
   },
   "outputs": [],
   "source": [
    "import pandas as pd\n",
    "import numpy as np\n",
    "import seaborn as sbr\n",
    "import matplotlib.pyplot as plt\n",
    "%matplotlib inline"
   ]
  },
  {
   "cell_type": "markdown",
   "metadata": {},
   "source": [
    "We know *a priori* the structure of the dataset, and in particular have experienced that some University fields are filled with NaN, while other rows contain some specification string, such as for instance \"*Nicht zuteilbar - NA*\", that is, 'not allocable'. Moreover, when the grant amount is not given, one can find the specification \"*data not included in P3*\". These  data arise actually from projects developed at foreign Universities, so that they are not interesting. It is then reasonable to drop them out of the dataset."
   ]
  },
  {
   "cell_type": "code",
   "execution_count": 110,
   "metadata": {
    "collapsed": false
   },
   "outputs": [
    {
     "data": {
      "text/html": [
       "<div>\n",
       "<table border=\"1\" class=\"dataframe\">\n",
       "  <thead>\n",
       "    <tr style=\"text-align: right;\">\n",
       "      <th></th>\n",
       "      <th>University</th>\n",
       "      <th>Approved Amount</th>\n",
       "      <th>Start Date</th>\n",
       "      <th>End Date</th>\n",
       "    </tr>\n",
       "    <tr>\n",
       "      <th>Project Number</th>\n",
       "      <th></th>\n",
       "      <th></th>\n",
       "      <th></th>\n",
       "      <th></th>\n",
       "    </tr>\n",
       "  </thead>\n",
       "  <tbody>\n",
       "    <tr>\n",
       "      <th>1</th>\n",
       "      <td>NaN</td>\n",
       "      <td>11619.0</td>\n",
       "      <td>01.10.1975</td>\n",
       "      <td>30.09.1976</td>\n",
       "    </tr>\n",
       "    <tr>\n",
       "      <th>4</th>\n",
       "      <td>Université de Genève - GE</td>\n",
       "      <td>41022.0</td>\n",
       "      <td>01.10.1975</td>\n",
       "      <td>30.09.1976</td>\n",
       "    </tr>\n",
       "    <tr>\n",
       "      <th>5</th>\n",
       "      <td>NPO (Biblioth., Museen, Verwalt.) - NPO</td>\n",
       "      <td>79732.0</td>\n",
       "      <td>01.03.1976</td>\n",
       "      <td>28.02.1985</td>\n",
       "    </tr>\n",
       "  </tbody>\n",
       "</table>\n",
       "</div>"
      ],
      "text/plain": [
       "                                             University  Approved Amount  \\\n",
       "Project Number                                                             \n",
       "1                                                   NaN          11619.0   \n",
       "4                             Université de Genève - GE          41022.0   \n",
       "5               NPO (Biblioth., Museen, Verwalt.) - NPO          79732.0   \n",
       "\n",
       "                Start Date    End Date  \n",
       "Project Number                          \n",
       "1               01.10.1975  30.09.1976  \n",
       "4               01.10.1975  30.09.1976  \n",
       "5               01.03.1976  28.02.1985  "
      ]
     },
     "execution_count": 110,
     "metadata": {},
     "output_type": "execute_result"
    }
   ],
   "source": [
    "data = pd.read_excel('Grants.xlsx',sheet_name='Sheet1',na_values=['Nicht zuteilbar - NA','data not included in P3','NaN'])\n",
    "data = data.set_index('Project Number')\n",
    "data.head(3)"
   ]
  },
  {
   "cell_type": "markdown",
   "metadata": {},
   "source": [
    "We convert the grant amounts from string to floating point numbers, in order to treat them quantitatively."
   ]
  },
  {
   "cell_type": "code",
   "execution_count": 111,
   "metadata": {
    "collapsed": false
   },
   "outputs": [],
   "source": [
    "data['Approved Amount']=data['Approved Amount'].astype(float)"
   ]
  },
  {
   "cell_type": "code",
   "execution_count": 116,
   "metadata": {
    "collapsed": false
   },
   "outputs": [
    {
     "name": "stdout",
     "output_type": "stream",
     "text": [
      "0.243492941894 Nans ratio out of 63969 projects\n"
     ]
    }
   ],
   "source": [
    "# University\n",
    "nans = data['University'].isnull().value_counts()\n",
    "print(str(nans[True]/nans.sum())+' Nans ratio out of '+str(nans.sum())+' projects')"
   ]
  },
  {
   "cell_type": "markdown",
   "metadata": {},
   "source": [
    "There are roughly **24%** of NaN values in the field '**University**', that is, almost 1/4 of the projects are developed in non Swiss Universities."
   ]
  },
  {
   "cell_type": "code",
   "execution_count": 115,
   "metadata": {
    "collapsed": false
   },
   "outputs": [
    {
     "name": "stdout",
     "output_type": "stream",
     "text": [
      "0.170551360815 Nans ratio out of 63969 projects\n"
     ]
    }
   ],
   "source": [
    "# Grants\n",
    "nans = data['Approved Amount'].isnull().value_counts()\n",
    "print(str(nans[True]/nans.sum())+' Nans ratio out of '+str(nans.sum())+' projects')"
   ]
  },
  {
   "cell_type": "markdown",
   "metadata": {},
   "source": [
    "The percentage of invalid grants data is about **17%**."
   ]
  },
  {
   "cell_type": "markdown",
   "metadata": {},
   "source": [
    "We will now convert the date fields from strings into datetime format, in order to better process them and link the grants to their temporal evolution."
   ]
  },
  {
   "cell_type": "code",
   "execution_count": 156,
   "metadata": {
    "collapsed": false
   },
   "outputs": [],
   "source": [
    "from datetime import datetime\n",
    "data['Start Date'] = pd.to_datetime(data['Start Date'], format=\"'%d.%m.%y'\",errors='ignore')\n",
    "data['End Date'] = pd.to_datetime(data['End Date'], format=\"'%d.%m.%y'\",errors='ignore')"
   ]
  },
  {
   "cell_type": "code",
   "execution_count": 157,
   "metadata": {
    "collapsed": false
   },
   "outputs": [
    {
     "data": {
      "text/plain": [
       "False    63968\n",
       "True         1\n",
       "Name: Start Date, dtype: int64"
      ]
     },
     "execution_count": 157,
     "metadata": {},
     "output_type": "execute_result"
    }
   ],
   "source": [
    "data['Start Date'].isnull().value_counts()"
   ]
  },
  {
   "cell_type": "markdown",
   "metadata": {},
   "source": [
    "Notice that there is one NaN value in the data field (Project Number: 35737). We do not want to wipe it out, since there are informations concerning both the grant and the University.\n",
    "\n",
    "Now we drop the NaNs out of the dataset and visualize the resulting distribution of grants in time:"
   ]
  },
  {
   "cell_type": "code",
   "execution_count": 164,
   "metadata": {
    "collapsed": true
   },
   "outputs": [],
   "source": [
    "data_red = data.dropna(subset=['University','Approved Amount'])"
   ]
  },
  {
   "cell_type": "code",
   "execution_count": 169,
   "metadata": {
    "collapsed": false
   },
   "outputs": [
    {
     "name": "stdout",
     "output_type": "stream",
     "text": [
      "Percentage of removed data: 0.24521252481670808\n"
     ]
    }
   ],
   "source": [
    "print('Percentage of removed data: ' + str(1-len(data_red)/len(data)) )"
   ]
  },
  {
   "cell_type": "code",
   "execution_count": 194,
   "metadata": {
    "collapsed": false
   },
   "outputs": [
    {
     "data": {
      "text/plain": [
       "<matplotlib.axes._subplots.AxesSubplot at 0xd6afd30>"
      ]
     },
     "execution_count": 194,
     "metadata": {},
     "output_type": "execute_result"
    },
    {
     "data": {
      "image/png": "[encoded data removed]",
      "text/plain": [
       "<matplotlib.figure.Figure at 0x16286470>"
      ]
     },
     "metadata": {},
     "output_type": "display_data"
    }
   ],
   "source": [
    "# plot the data in logarithmic scale and the statistical distribution\n",
    "data_red.plot(x='Start Date',y='Approved Amount',logy=1)"
   ]
  },
  {
   "cell_type": "code",
   "execution_count": 221,
   "metadata": {
    "collapsed": false
   },
   "outputs": [
    {
     "data": {
      "text/plain": [
       "<matplotlib.axes._subplots.AxesSubplot at 0x1c1dd358>"
      ]
     },
     "execution_count": 221,
     "metadata": {},
     "output_type": "execute_result"
    },
    {
     "data": {
      "image/png": "[encoded data removed]",
      "text/plain": [
       "<matplotlib.figure.Figure at 0x1c20e780>"
      ]
     },
     "metadata": {},
     "output_type": "display_data"
    }
   ],
   "source": [
    "data_red.plot(x='Start Date',y='Approved Amount',kind='hist',logy=True,bins=40)"
   ]
  },
  {
   "cell_type": "markdown",
   "metadata": {},
   "source": [
    "The distribution of the dataset seems not to follow a power law, since the general behaviour is non linear, or it could be only for law values of grants, because of a heavy tail at high values. We save now the reduced dataset for the real purpose of this analysis, which is to build a clorophlet map using this information."
   ]
  },
  {
   "cell_type": "code",
   "execution_count": 223,
   "metadata": {
    "collapsed": true
   },
   "outputs": [],
   "source": [
    "data_red.to_excel('P3.xlsx')"
   ]
  },
  {
   "cell_type": "markdown",
   "metadata": {},
   "source": [
    "# Outliers identification\n",
    "\n",
    "We want now to identify the outlier points in the grants amount distribution."
   ]
  },
  {
   "cell_type": "code",
   "execution_count": 1,
   "metadata": {
    "collapsed": true
   },
   "outputs": [],
   "source": [
    "import pandas as pd\n",
    "import numpy as np\n",
    "import matplotlib as plt\n",
    "%matplotlib inline\n",
    "import seaborn\n",
    "from datetime import datetime"
   ]
  },
  {
   "cell_type": "code",
   "execution_count": 34,
   "metadata": {
    "collapsed": false
   },
   "outputs": [
    {
     "data": {
      "text/html": [
       "<div>\n",
       "<table border=\"1\" class=\"dataframe\">\n",
       "  <thead>\n",
       "    <tr style=\"text-align: right;\">\n",
       "      <th></th>\n",
       "      <th>University</th>\n",
       "      <th>Approved Amount</th>\n",
       "      <th>Start Date</th>\n",
       "      <th>End Date</th>\n",
       "    </tr>\n",
       "    <tr>\n",
       "      <th>Project Number</th>\n",
       "      <th></th>\n",
       "      <th></th>\n",
       "      <th></th>\n",
       "      <th></th>\n",
       "    </tr>\n",
       "  </thead>\n",
       "  <tbody>\n",
       "    <tr>\n",
       "      <th>4</th>\n",
       "      <td>Université de Genève - GE</td>\n",
       "      <td>41022.0</td>\n",
       "      <td>01.10.1975</td>\n",
       "      <td>30.09.1976</td>\n",
       "    </tr>\n",
       "    <tr>\n",
       "      <th>5</th>\n",
       "      <td>NPO (Biblioth., Museen, Verwalt.) - NPO</td>\n",
       "      <td>79732.0</td>\n",
       "      <td>01.03.1976</td>\n",
       "      <td>28.02.1985</td>\n",
       "    </tr>\n",
       "    <tr>\n",
       "      <th>6</th>\n",
       "      <td>Universität Basel - BS</td>\n",
       "      <td>52627.0</td>\n",
       "      <td>01.10.1975</td>\n",
       "      <td>30.09.1976</td>\n",
       "    </tr>\n",
       "  </tbody>\n",
       "</table>\n",
       "</div>"
      ],
      "text/plain": [
       "                                             University  Approved Amount  \\\n",
       "Project Number                                                             \n",
       "4                             Université de Genève - GE          41022.0   \n",
       "5               NPO (Biblioth., Museen, Verwalt.) - NPO          79732.0   \n",
       "6                                Universität Basel - BS          52627.0   \n",
       "\n",
       "                Start Date    End Date  \n",
       "Project Number                          \n",
       "4               01.10.1975  30.09.1976  \n",
       "5               01.03.1976  28.02.1985  \n",
       "6               01.10.1975  30.09.1976  "
      ]
     },
     "execution_count": 34,
     "metadata": {},
     "output_type": "execute_result"
    }
   ],
   "source": [
    "data = pd.read_excel('P3.xlsx')\n",
    "# set the identifier of the project as the index\n",
    "data = data.set_index('Project Number')\n",
    "data.head(3)"
   ]
  },
  {
   "cell_type": "markdown",
   "metadata": {},
   "source": [
    "Our hypothesis concerning the outliers of the distribution is that the more granted the project is, the longer it takes to be carried out. We add a column to the dataset to specify the duration of the project, using the datetime format."
   ]
  },
  {
   "cell_type": "code",
   "execution_count": 35,
   "metadata": {
    "collapsed": false
   },
   "outputs": [
    {
     "data": {
      "text/html": [
       "<div>\n",
       "<table border=\"1\" class=\"dataframe\">\n",
       "  <thead>\n",
       "    <tr style=\"text-align: right;\">\n",
       "      <th></th>\n",
       "      <th>University</th>\n",
       "      <th>Approved Amount</th>\n",
       "      <th>Start Date</th>\n",
       "      <th>End Date</th>\n",
       "      <th>Duration</th>\n",
       "    </tr>\n",
       "    <tr>\n",
       "      <th>Project Number</th>\n",
       "      <th></th>\n",
       "      <th></th>\n",
       "      <th></th>\n",
       "      <th></th>\n",
       "      <th></th>\n",
       "    </tr>\n",
       "  </thead>\n",
       "  <tbody>\n",
       "    <tr>\n",
       "      <th>4</th>\n",
       "      <td>Université de Genève - GE</td>\n",
       "      <td>41022.0</td>\n",
       "      <td>01.10.1975</td>\n",
       "      <td>30.09.1976</td>\n",
       "      <td>629 days</td>\n",
       "    </tr>\n",
       "    <tr>\n",
       "      <th>5</th>\n",
       "      <td>NPO (Biblioth., Museen, Verwalt.) - NPO</td>\n",
       "      <td>79732.0</td>\n",
       "      <td>01.03.1976</td>\n",
       "      <td>28.02.1985</td>\n",
       "      <td>3344 days</td>\n",
       "    </tr>\n",
       "    <tr>\n",
       "      <th>6</th>\n",
       "      <td>Universität Basel - BS</td>\n",
       "      <td>52627.0</td>\n",
       "      <td>01.10.1975</td>\n",
       "      <td>30.09.1976</td>\n",
       "      <td>629 days</td>\n",
       "    </tr>\n",
       "  </tbody>\n",
       "</table>\n",
       "</div>"
      ],
      "text/plain": [
       "                                             University  Approved Amount  \\\n",
       "Project Number                                                             \n",
       "4                             Université de Genève - GE          41022.0   \n",
       "5               NPO (Biblioth., Museen, Verwalt.) - NPO          79732.0   \n",
       "6                                Universität Basel - BS          52627.0   \n",
       "\n",
       "                Start Date    End Date  Duration  \n",
       "Project Number                                    \n",
       "4               01.10.1975  30.09.1976  629 days  \n",
       "5               01.03.1976  28.02.1985 3344 days  \n",
       "6               01.10.1975  30.09.1976  629 days  "
      ]
     },
     "execution_count": 35,
     "metadata": {},
     "output_type": "execute_result"
    }
   ],
   "source": [
    "dates = []\n",
    "for l in data.index:\n",
    "    dates.append( pd.to_datetime(data['End Date'][l])-pd.to_datetime(data['Start Date'][l]) )\n",
    "\n",
    "data['Duration']=dates\n",
    "data.head(3)"
   ]
  },
  {
   "cell_type": "code",
   "execution_count": 36,
   "metadata": {
    "collapsed": false
   },
   "outputs": [
    {
     "data": {
      "text/html": [
       "<div>\n",
       "<table border=\"1\" class=\"dataframe\">\n",
       "  <thead>\n",
       "    <tr style=\"text-align: right;\">\n",
       "      <th></th>\n",
       "      <th>University</th>\n",
       "      <th>Approved Amount</th>\n",
       "      <th>Start Date</th>\n",
       "      <th>End Date</th>\n",
       "      <th>Duration</th>\n",
       "    </tr>\n",
       "    <tr>\n",
       "      <th>Project Number</th>\n",
       "      <th></th>\n",
       "      <th></th>\n",
       "      <th></th>\n",
       "      <th></th>\n",
       "      <th></th>\n",
       "    </tr>\n",
       "  </thead>\n",
       "  <tbody>\n",
       "    <tr>\n",
       "      <th>4</th>\n",
       "      <td>Université de Genève - GE</td>\n",
       "      <td>41022.0</td>\n",
       "      <td>01.10.1975</td>\n",
       "      <td>30.09.1976</td>\n",
       "      <td>629</td>\n",
       "    </tr>\n",
       "    <tr>\n",
       "      <th>5</th>\n",
       "      <td>NPO (Biblioth., Museen, Verwalt.) - NPO</td>\n",
       "      <td>79732.0</td>\n",
       "      <td>01.03.1976</td>\n",
       "      <td>28.02.1985</td>\n",
       "      <td>3344</td>\n",
       "    </tr>\n",
       "    <tr>\n",
       "      <th>6</th>\n",
       "      <td>Universität Basel - BS</td>\n",
       "      <td>52627.0</td>\n",
       "      <td>01.10.1975</td>\n",
       "      <td>30.09.1976</td>\n",
       "      <td>629</td>\n",
       "    </tr>\n",
       "  </tbody>\n",
       "</table>\n",
       "</div>"
      ],
      "text/plain": [
       "                                             University  Approved Amount  \\\n",
       "Project Number                                                             \n",
       "4                             Université de Genève - GE          41022.0   \n",
       "5               NPO (Biblioth., Museen, Verwalt.) - NPO          79732.0   \n",
       "6                                Universität Basel - BS          52627.0   \n",
       "\n",
       "                Start Date    End Date Duration  \n",
       "Project Number                                   \n",
       "4               01.10.1975  30.09.1976      629  \n",
       "5               01.03.1976  28.02.1985     3344  \n",
       "6               01.10.1975  30.09.1976      629  "
      ]
     },
     "execution_count": 36,
     "metadata": {},
     "output_type": "execute_result"
    }
   ],
   "source": [
    "# convert days to int numbers in order to plot them\n",
    "duration = []\n",
    "for l in data.index:\n",
    "    if(pd.isnull(data['Duration'][l])):\n",
    "        duration.append('NaN')\n",
    "    else:\n",
    "        duration.append(data['Duration'][l].days)\n",
    "        \n",
    "data['Duration']=duration\n",
    "data.head(3)"
   ]
  },
  {
   "cell_type": "code",
   "execution_count": 47,
   "metadata": {
    "collapsed": false
   },
   "outputs": [
    {
     "data": {
      "text/plain": [
       "[<matplotlib.lines.Line2D at 0xb5cac88>]"
      ]
     },
     "execution_count": 47,
     "metadata": {},
     "output_type": "execute_result"
    },
    {
     "data": {
      "image/png": "[encoded data removed]",
      "text/plain": [
       "<matplotlib.figure.Figure at 0xafdcef0>"
      ]
     },
     "metadata": {},
     "output_type": "display_data"
    }
   ],
   "source": [
    "# scatter plot in log-log scale\n",
    "plt.pyplot.plot(data['Duration'].astype(float).apply(np.log10),data['Approved Amount'].apply(np.log10),'o')"
   ]
  },
  {
   "cell_type": "markdown",
   "metadata": {},
   "source": [
    "Our hypothesis seems to be confirmed. Grants and duration are positively correlated, so that highly granted projects do not represent \"bad\" outliers, but are linked to longer projects."
   ]
  },
  {
   "cell_type": "markdown",
   "metadata": {},
   "source": [
    "# From University to Canton"
   ]
  },
  {
   "cell_type": "code",
   "execution_count": 1,
   "metadata": {
    "collapsed": false
   },
   "outputs": [
    {
     "data": {
      "text/html": [
       "<div>\n",
       "<table border=\"1\" class=\"dataframe\">\n",
       "  <thead>\n",
       "    <tr style=\"text-align: right;\">\n",
       "      <th></th>\n",
       "      <th>University</th>\n",
       "      <th>Approved Amount</th>\n",
       "      <th>Start Date</th>\n",
       "      <th>End Date</th>\n",
       "    </tr>\n",
       "    <tr>\n",
       "      <th>Project Number</th>\n",
       "      <th></th>\n",
       "      <th></th>\n",
       "      <th></th>\n",
       "      <th></th>\n",
       "    </tr>\n",
       "  </thead>\n",
       "  <tbody>\n",
       "    <tr>\n",
       "      <th>4</th>\n",
       "      <td>Université de Genève - GE</td>\n",
       "      <td>41022.0</td>\n",
       "      <td>01.10.1975</td>\n",
       "      <td>30.09.1976</td>\n",
       "    </tr>\n",
       "    <tr>\n",
       "      <th>5</th>\n",
       "      <td>NPO (Biblioth., Museen, Verwalt.) - NPO</td>\n",
       "      <td>79732.0</td>\n",
       "      <td>01.03.1976</td>\n",
       "      <td>28.02.1985</td>\n",
       "    </tr>\n",
       "    <tr>\n",
       "      <th>6</th>\n",
       "      <td>Universität Basel - BS</td>\n",
       "      <td>52627.0</td>\n",
       "      <td>01.10.1975</td>\n",
       "      <td>30.09.1976</td>\n",
       "    </tr>\n",
       "  </tbody>\n",
       "</table>\n",
       "</div>"
      ],
      "text/plain": [
       "                                             University  Approved Amount  \\\n",
       "Project Number                                                             \n",
       "4                             Université de Genève - GE          41022.0   \n",
       "5               NPO (Biblioth., Museen, Verwalt.) - NPO          79732.0   \n",
       "6                                Universität Basel - BS          52627.0   \n",
       "\n",
       "                Start Date    End Date  \n",
       "Project Number                          \n",
       "4               01.10.1975  30.09.1976  \n",
       "5               01.03.1976  28.02.1985  \n",
       "6               01.10.1975  30.09.1976  "
      ]
     },
     "execution_count": 1,
     "metadata": {},
     "output_type": "execute_result"
    }
   ],
   "source": [
    "import pandas as pd\n",
    "import numpy as np\n",
    "import matplotlib as plt\n",
    "%matplotlib inline\n",
    "import seaborn\n",
    "from datetime import datetime\n",
    "\n",
    "data = pd.read_excel('P3.xlsx')\n",
    "# set the identifier of the project as the index\n",
    "data = data.set_index('Project Number')\n",
    "data.head(3)"
   ]
  },
  {
   "cell_type": "markdown",
   "metadata": {},
   "source": [
    "We select al the universities appearing in the dataset without repetitions:"
   ]
  },
  {
   "cell_type": "code",
   "execution_count": 2,
   "metadata": {
    "collapsed": false
   },
   "outputs": [],
   "source": [
    "universities = data.University.unique()"
   ]
  },
  {
   "cell_type": "markdown",
   "metadata": {},
   "source": [
    "We retrieve now the list of Swiss cantons scraping it from the web at the following address: 'http://swiss-government-politics.all-about-switzerland.info/swiss-federal-states-cantons.html'"
   ]
  },
  {
   "cell_type": "code",
   "execution_count": 3,
   "metadata": {
    "collapsed": false
   },
   "outputs": [],
   "source": [
    "import requests\n",
    "url = 'http://swiss-government-politics.all-about-switzerland.info/swiss-federal-states-cantons.html'\n",
    "r = requests.get(url)\n",
    "cantons = pd.read_html(r.text)\n",
    "cantons = cantons[3]\n",
    "cantons.columns = cantons.loc[0]\n",
    "cantons = cantons.drop(0,axis=0)\n",
    "cantons = cantons[['Name of Canton', 'Abbr','Capital']]\n",
    "cantons = cantons.drop(27,axis=0)\n",
    "cantons.columns = ['Canton','Abbr','Capital']\n",
    "\n",
    "# cleaning names\n",
    "cantons.loc[7]['Canton']='Fribourg'\n",
    "cantons.loc[8]['Canton']='Genève'\n",
    "cantons.loc[10]['Canton']='Graubünden'\n",
    "cantons.loc[12]['Canton']='Luzern'\n",
    "cantons.loc[24]['Canton']='Valais'\n",
    "\n",
    "cantons.loc[5]['Capital']='Basel'\n",
    "cantons.loc[6]['Capital']='Bern'\n",
    "cantons.loc[7]['Capital']='Fribourg'\n",
    "cantons.loc[8]['Capital']='Genève'\n",
    "cantons.loc[12]['Capital']='Luzern'\n",
    "cantons.loc[23]['Capital']='Lausanne'\n",
    "cantons.loc[24]['Capital']='Sion'\n",
    "cantons.loc[26]['Capital']='Zürich'"
   ]
  },
  {
   "cell_type": "code",
   "execution_count": 4,
   "metadata": {
    "collapsed": false
   },
   "outputs": [
    {
     "data": {
      "text/html": [
       "<div>\n",
       "<table border=\"1\" class=\"dataframe\">\n",
       "  <thead>\n",
       "    <tr style=\"text-align: right;\">\n",
       "      <th></th>\n",
       "      <th>Canton</th>\n",
       "      <th>Abbr</th>\n",
       "      <th>Capital</th>\n",
       "    </tr>\n",
       "  </thead>\n",
       "  <tbody>\n",
       "    <tr>\n",
       "      <th>1</th>\n",
       "      <td>Aargau</td>\n",
       "      <td>AG</td>\n",
       "      <td>Aarau</td>\n",
       "    </tr>\n",
       "    <tr>\n",
       "      <th>2</th>\n",
       "      <td>Appenzell Ausserrhoden</td>\n",
       "      <td>AR</td>\n",
       "      <td>Herisau</td>\n",
       "    </tr>\n",
       "    <tr>\n",
       "      <th>3</th>\n",
       "      <td>Appenzell Innerrhoden</td>\n",
       "      <td>AI</td>\n",
       "      <td>Appenzell</td>\n",
       "    </tr>\n",
       "    <tr>\n",
       "      <th>4</th>\n",
       "      <td>Basel-Land</td>\n",
       "      <td>BL</td>\n",
       "      <td>Liestal</td>\n",
       "    </tr>\n",
       "    <tr>\n",
       "      <th>5</th>\n",
       "      <td>Basel-Stadt</td>\n",
       "      <td>BS</td>\n",
       "      <td>Basel</td>\n",
       "    </tr>\n",
       "    <tr>\n",
       "      <th>6</th>\n",
       "      <td>Bern</td>\n",
       "      <td>BE</td>\n",
       "      <td>Bern</td>\n",
       "    </tr>\n",
       "    <tr>\n",
       "      <th>7</th>\n",
       "      <td>Fribourg</td>\n",
       "      <td>FR</td>\n",
       "      <td>Fribourg</td>\n",
       "    </tr>\n",
       "    <tr>\n",
       "      <th>8</th>\n",
       "      <td>Genève</td>\n",
       "      <td>GE</td>\n",
       "      <td>Genève</td>\n",
       "    </tr>\n",
       "    <tr>\n",
       "      <th>9</th>\n",
       "      <td>Glarus</td>\n",
       "      <td>GL</td>\n",
       "      <td>Glarus</td>\n",
       "    </tr>\n",
       "    <tr>\n",
       "      <th>10</th>\n",
       "      <td>Graubünden</td>\n",
       "      <td>GR</td>\n",
       "      <td>Chur</td>\n",
       "    </tr>\n",
       "    <tr>\n",
       "      <th>11</th>\n",
       "      <td>Jura</td>\n",
       "      <td>JU</td>\n",
       "      <td>Delémont</td>\n",
       "    </tr>\n",
       "    <tr>\n",
       "      <th>12</th>\n",
       "      <td>Luzern</td>\n",
       "      <td>LU</td>\n",
       "      <td>Luzern</td>\n",
       "    </tr>\n",
       "    <tr>\n",
       "      <th>13</th>\n",
       "      <td>Neuchâtel</td>\n",
       "      <td>NE</td>\n",
       "      <td>Neuchâtel</td>\n",
       "    </tr>\n",
       "    <tr>\n",
       "      <th>14</th>\n",
       "      <td>Nidwalden</td>\n",
       "      <td>NW</td>\n",
       "      <td>Stans</td>\n",
       "    </tr>\n",
       "    <tr>\n",
       "      <th>15</th>\n",
       "      <td>Obwalden</td>\n",
       "      <td>OW</td>\n",
       "      <td>Sarnen</td>\n",
       "    </tr>\n",
       "    <tr>\n",
       "      <th>16</th>\n",
       "      <td>St.Gallen</td>\n",
       "      <td>SG</td>\n",
       "      <td>St. Gallen</td>\n",
       "    </tr>\n",
       "    <tr>\n",
       "      <th>17</th>\n",
       "      <td>Schaffhausen</td>\n",
       "      <td>SH</td>\n",
       "      <td>Schaffhausen</td>\n",
       "    </tr>\n",
       "    <tr>\n",
       "      <th>18</th>\n",
       "      <td>Schwyz</td>\n",
       "      <td>SZ</td>\n",
       "      <td>Schwyz</td>\n",
       "    </tr>\n",
       "    <tr>\n",
       "      <th>19</th>\n",
       "      <td>Solothurn</td>\n",
       "      <td>SO</td>\n",
       "      <td>Solothurn</td>\n",
       "    </tr>\n",
       "    <tr>\n",
       "      <th>20</th>\n",
       "      <td>Thurgau</td>\n",
       "      <td>TG</td>\n",
       "      <td>Frauenfeld</td>\n",
       "    </tr>\n",
       "    <tr>\n",
       "      <th>21</th>\n",
       "      <td>Ticino</td>\n",
       "      <td>TI</td>\n",
       "      <td>Bellinzona</td>\n",
       "    </tr>\n",
       "    <tr>\n",
       "      <th>22</th>\n",
       "      <td>Uri</td>\n",
       "      <td>UR</td>\n",
       "      <td>Altdorf</td>\n",
       "    </tr>\n",
       "    <tr>\n",
       "      <th>23</th>\n",
       "      <td>Vaud</td>\n",
       "      <td>VD</td>\n",
       "      <td>Lausanne</td>\n",
       "    </tr>\n",
       "    <tr>\n",
       "      <th>24</th>\n",
       "      <td>Valais</td>\n",
       "      <td>VS</td>\n",
       "      <td>Sion</td>\n",
       "    </tr>\n",
       "    <tr>\n",
       "      <th>25</th>\n",
       "      <td>Zug</td>\n",
       "      <td>ZG</td>\n",
       "      <td>Zug</td>\n",
       "    </tr>\n",
       "    <tr>\n",
       "      <th>26</th>\n",
       "      <td>Zürich</td>\n",
       "      <td>ZH</td>\n",
       "      <td>Zürich</td>\n",
       "    </tr>\n",
       "  </tbody>\n",
       "</table>\n",
       "</div>"
      ],
      "text/plain": [
       "                    Canton Abbr       Capital\n",
       "1                   Aargau   AG         Aarau\n",
       "2   Appenzell Ausserrhoden   AR       Herisau\n",
       "3    Appenzell Innerrhoden   AI     Appenzell\n",
       "4               Basel-Land   BL       Liestal\n",
       "5              Basel-Stadt   BS         Basel\n",
       "6                     Bern   BE          Bern\n",
       "7                 Fribourg   FR      Fribourg\n",
       "8                   Genève   GE        Genève\n",
       "9                   Glarus   GL        Glarus\n",
       "10              Graubünden   GR          Chur\n",
       "11                    Jura   JU      Delémont\n",
       "12                  Luzern   LU        Luzern\n",
       "13               Neuchâtel   NE     Neuchâtel\n",
       "14               Nidwalden   NW         Stans\n",
       "15                Obwalden   OW        Sarnen\n",
       "16               St.Gallen   SG    St. Gallen\n",
       "17            Schaffhausen   SH  Schaffhausen\n",
       "18                  Schwyz   SZ        Schwyz\n",
       "19               Solothurn   SO     Solothurn\n",
       "20                 Thurgau   TG    Frauenfeld\n",
       "21                  Ticino   TI    Bellinzona\n",
       "22                     Uri   UR       Altdorf\n",
       "23                    Vaud   VD      Lausanne\n",
       "24                  Valais   VS          Sion\n",
       "25                     Zug   ZG           Zug\n",
       "26                  Zürich   ZH        Zürich"
      ]
     },
     "execution_count": 4,
     "metadata": {},
     "output_type": "execute_result"
    }
   ],
   "source": [
    "cantons"
   ]
  },
  {
   "cell_type": "markdown",
   "metadata": {},
   "source": [
    "Now we must collect the geographical information of each university, mapping it onto its own Canton. If this operation is not possible, as it happens with private or no profit organizations, we will consider the entry as invalid ('NaN'), which will make our future analysis faster. We divide our research in several steps, trying to link by Capital city and then by Canton name, looking for occurrencies in the list of universities. Thereafter, we select the not yet mapped objects and try to assign them manually."
   ]
  },
  {
   "cell_type": "markdown",
   "metadata": {},
   "source": [
    "By Capital:"
   ]
  },
  {
   "cell_type": "code",
   "execution_count": 5,
   "metadata": {
    "collapsed": true
   },
   "outputs": [],
   "source": [
    "# try to link universities to Cantons' capitals\n",
    "mapping = {}\n",
    "mapped = []\n",
    "for city in cantons.Capital:\n",
    "    for uni in universities:\n",
    "        if city in uni:\n",
    "            mapping[uni]=city\n",
    "            mapped.append(uni)\n",
    "            \n",
    "#MAPPING is the main dictionary; it links university string with Canton name abbreviation\n",
    "            \n",
    "MAPPING = {}\n",
    "for k in mapped:\n",
    "    index = cantons[cantons.Capital==mapping[k]].index[0]\n",
    "    MAPPING[k] = cantons.Abbr[index]"
   ]
  },
  {
   "cell_type": "markdown",
   "metadata": {},
   "source": [
    "Other entities:"
   ]
  },
  {
   "cell_type": "code",
   "execution_count": 6,
   "metadata": {
    "collapsed": true
   },
   "outputs": [],
   "source": [
    "# define the public or private entities which cannot be mapped onto any Canton\n",
    "\n",
    "mapped2 = []\n",
    "privat = ['NPO (Biblioth., Museen, Verwalt.) - NPO','Eidg. Forschungsanstalt für Wald,Schnee,Land - WSL',\n",
    "          'Weitere Institute - FINST','Firmen/Privatwirtschaft - FP', 'Weitere Spitäler - ASPIT']\n",
    "for firm in privat:\n",
    "    for uni in universities:\n",
    "        if uni==firm:\n",
    "            mapping[firm]='other'\n",
    "            mapped2.append(firm)\n",
    "for k in mapped2:\n",
    "    MAPPING[k] = 'other'"
   ]
  },
  {
   "cell_type": "code",
   "execution_count": 7,
   "metadata": {
    "collapsed": true
   },
   "outputs": [],
   "source": [
    "# not yet mapped objects: still to be processed\n",
    "remainder = []\n",
    "for uni in universities:\n",
    "    flag = False\n",
    "    for m in mapped+mapped2:\n",
    "        if uni==m:\n",
    "            flag = True\n",
    "    if flag==False:\n",
    "        remainder.append(uni)"
   ]
  },
  {
   "cell_type": "markdown",
   "metadata": {},
   "source": [
    "By Canton name:"
   ]
  },
  {
   "cell_type": "code",
   "execution_count": 8,
   "metadata": {
    "collapsed": true
   },
   "outputs": [],
   "source": [
    "# search by Canton name and link Canton name with its abbreviation\n",
    "mapping2 = {}\n",
    "mapped3 = []\n",
    "for canton in cantons.Canton:\n",
    "    for uni in remainder:\n",
    "        if canton in uni:\n",
    "            mapping2[uni]=canton\n",
    "            mapped3.append(uni)\n",
    "\n",
    "for k in mapped3:\n",
    "    index = cantons[cantons.Canton==mapping2[k]].index[0]\n",
    "    MAPPING[k] = cantons.Abbr[index]"
   ]
  },
  {
   "cell_type": "markdown",
   "metadata": {},
   "source": [
    "Not yet defined entities:"
   ]
  },
  {
   "cell_type": "code",
   "execution_count": 9,
   "metadata": {
    "collapsed": false
   },
   "outputs": [],
   "source": [
    "# not yet mapped objects\n",
    "remainder2 = []\n",
    "for uni in remainder:\n",
    "    flag = False\n",
    "    for m in mapped3:\n",
    "        if uni==m:\n",
    "            flag = True\n",
    "    if flag==False:\n",
    "        remainder2.append(uni)\n",
    "        \n",
    "for k in remainder2:\n",
    "    MAPPING[k] = 'not defined'"
   ]
  },
  {
   "cell_type": "markdown",
   "metadata": {},
   "source": [
    "Proceed by manual mapping for the most recurrent Insitutions:"
   ]
  },
  {
   "cell_type": "code",
   "execution_count": 23,
   "metadata": {
    "collapsed": false
   },
   "outputs": [],
   "source": [
    "MAPPING['Università della Svizzera italiana - USI']='TI'\n",
    "MAPPING['Inst. de Hautes Etudes Internat. et du Dév - IHEID']='GE'\n",
    "MAPPING['Paul Scherrer Institut - PSI']='AG'\n",
    "MAPPING['Schweiz. Institut für Kunstwissenschaft - SIK-ISEA']='ZH'\n",
    "MAPPING['Eidg. Anstalt für Wasserversorgung - EAWAG']='ZH'\n",
    "MAPPING['Physikal.-Meteorolog. Observatorium Davos - PMOD']='GR'\n",
    "MAPPING['Swiss Center for Electronics and Microtech. - CSEM']='NE'"
   ]
  },
  {
   "cell_type": "markdown",
   "metadata": {},
   "source": [
    "Map the universities to their own Cantons through the dictionary MAPPING:"
   ]
  },
  {
   "cell_type": "code",
   "execution_count": 24,
   "metadata": {
    "collapsed": true
   },
   "outputs": [],
   "source": [
    "# apply the dictionary to the column University of the dataframe and define the corresponding Canton\n",
    "sigle = []\n",
    "for uni in data.University:\n",
    "    sigle.append(MAPPING[uni])\n",
    "    \n",
    "data['Canton']=sigle"
   ]
  },
  {
   "cell_type": "code",
   "execution_count": 25,
   "metadata": {
    "collapsed": false
   },
   "outputs": [
    {
     "data": {
      "text/plain": [
       "0.03738375825860034"
      ]
     },
     "execution_count": 25,
     "metadata": {},
     "output_type": "execute_result"
    }
   ],
   "source": [
    "len(data[data.Canton=='not defined'])/len(data)"
   ]
  }
 ],
 "metadata": {
  "anaconda-cloud": {},
  "kernelspec": {
   "display_name": "Python [Root]",
   "language": "python",
   "name": "Python [Root]"
  },
  "language_info": {
   "codemirror_mode": {
    "name": "ipython",
    "version": 3
   },
   "file_extension": ".py",
   "mimetype": "text/x-python",
   "name": "python",
   "nbconvert_exporter": "python",
   "pygments_lexer": "ipython3",
   "version": "3.5.2"
  }
 },
 "nbformat": 4,
 "nbformat_minor": 0
}
