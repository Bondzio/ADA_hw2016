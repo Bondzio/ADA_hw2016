{
 "cells": [
  {
   "cell_type": "markdown",
   "metadata": {},
   "source": [
    "# Interactive visualization homework overview\n",
    "In this homework, we want to make an interactive visualization of the grants received from the SNSF in each canton. The data is the P3 data given on the [SNSF website](http://p3.snf.ch/), called P3_GrantExport.csv\n",
    "To do so, \n",
    "* we first load the data with pandas;\n",
    "* we only keep the columns of interest (University name, Institution name, amount of money received for each project, start and end dates of the project);\n",
    "* and we only keep the rows of interest (corresponding to Swiss universities, that is any non-nan \"University\" entry is valid), being careful with nan values.\n",
    "* Then, we have to map the universities to their corresponding cantons using [Geonames Full Text Search API in JSON](http://www.geonames.org/export/web-services.html) together with some manual tuning. \n",
    "* We finally visualize the results thanks to folium on the map of Switzerland, using a cloropleth map."
   ]
  },
  {
   "cell_type": "markdown",
   "metadata": {},
   "source": [
    "## Import librarires and load data"
   ]
  },
  {
   "cell_type": "code",
   "execution_count": 1,
   "metadata": {
    "collapsed": false
   },
   "outputs": [],
   "source": [
    "import pandas as pd\n",
    "import numpy as np\n",
    "import folium\n",
    "import requests\n",
    "from datetime import datetime\n",
    "import matplotlib.pyplot as plt\n",
    "%matplotlib inline"
   ]
  },
  {
   "cell_type": "markdown",
   "metadata": {},
   "source": [
    "Read the csv file with the separator ; and create a dataframe from it."
   ]
  },
  {
   "cell_type": "code",
   "execution_count": 2,
   "metadata": {
    "collapsed": false
   },
   "outputs": [],
   "source": [
    "data = pd.read_csv('P3_GrantExport.csv',sep=';')\n",
    "data = data.rename(columns={'\\ufeff\"Project Number\"':'Project','Approved Amount':'Amount'})\n",
    "data = data.set_index('Project')"
   ]
  },
  {
   "cell_type": "markdown",
   "metadata": {},
   "source": [
    "We check if the project number is actually a unique identifier, as declared in the SNSF P3 website."
   ]
  },
  {
   "cell_type": "code",
   "execution_count": 3,
   "metadata": {
    "collapsed": false
   },
   "outputs": [
    {
     "data": {
      "text/plain": [
       "True"
      ]
     },
     "execution_count": 3,
     "metadata": {},
     "output_type": "execute_result"
    }
   ],
   "source": [
    "data.index.is_unique"
   ]
  },
  {
   "cell_type": "markdown",
   "metadata": {},
   "source": [
    "Since it is unique, we set it as the index of the dataframe. We explore now the dataframe parameters, in order to understand which of them are interesting for our purposes:"
   ]
  },
  {
   "cell_type": "code",
   "execution_count": 4,
   "metadata": {
    "collapsed": false
   },
   "outputs": [
    {
     "data": {
      "text/plain": [
       "Index(['Project Title', 'Project Title English', 'Responsible Applicant',\n",
       "       'Funding Instrument', 'Funding Instrument Hierarchy', 'Institution',\n",
       "       'University', 'Discipline Number', 'Discipline Name',\n",
       "       'Discipline Name Hierarchy', 'Start Date', 'End Date', 'Amount',\n",
       "       'Keywords'],\n",
       "      dtype='object')"
      ]
     },
     "execution_count": 4,
     "metadata": {},
     "output_type": "execute_result"
    }
   ],
   "source": [
    "data.columns"
   ]
  },
  {
   "cell_type": "markdown",
   "metadata": {},
   "source": [
    "## Choose data of interest\n",
    "A complete description of the parameters can be found at http://p3.snf.ch/Pages/DataAndDocumentation.aspx. The attributes which are interesting for us are:\n",
    "\n",
    "* 'Institution': place where the project is carried out\n",
    "* 'University': academic insitution where the project is carried out\n",
    "* 'Approved Amount': grant for the project (CHF)\n",
    "\n",
    "We keep in also the 'Start Date' and the 'End date' parameters for eventual further investigations which take time into account.\n",
    "Let us filter the dataset now."
   ]
  },
  {
   "cell_type": "code",
   "execution_count": 5,
   "metadata": {
    "collapsed": false
   },
   "outputs": [
    {
     "data": {
      "text/html": [
       "<div>\n",
       "<table border=\"1\" class=\"dataframe\">\n",
       "  <thead>\n",
       "    <tr style=\"text-align: right;\">\n",
       "      <th></th>\n",
       "      <th>Institution</th>\n",
       "      <th>University</th>\n",
       "      <th>Amount</th>\n",
       "      <th>Start Date</th>\n",
       "      <th>End Date</th>\n",
       "    </tr>\n",
       "    <tr>\n",
       "      <th>Project</th>\n",
       "      <th></th>\n",
       "      <th></th>\n",
       "      <th></th>\n",
       "      <th></th>\n",
       "      <th></th>\n",
       "    </tr>\n",
       "  </thead>\n",
       "  <tbody>\n",
       "    <tr>\n",
       "      <th>1</th>\n",
       "      <td>NaN</td>\n",
       "      <td>Nicht zuteilbar - NA</td>\n",
       "      <td>11619.00</td>\n",
       "      <td>01.10.1975</td>\n",
       "      <td>30.09.1976</td>\n",
       "    </tr>\n",
       "    <tr>\n",
       "      <th>4</th>\n",
       "      <td>Faculté de Psychologie et des Sciences de l'Ed...</td>\n",
       "      <td>Université de Genève - GE</td>\n",
       "      <td>41022.00</td>\n",
       "      <td>01.10.1975</td>\n",
       "      <td>30.09.1976</td>\n",
       "    </tr>\n",
       "    <tr>\n",
       "      <th>5</th>\n",
       "      <td>Kommission für das Corpus philosophorum medii ...</td>\n",
       "      <td>NPO (Biblioth., Museen, Verwalt.) - NPO</td>\n",
       "      <td>79732.00</td>\n",
       "      <td>01.03.1976</td>\n",
       "      <td>28.02.1985</td>\n",
       "    </tr>\n",
       "    <tr>\n",
       "      <th>6</th>\n",
       "      <td>Abt. Handschriften und Alte Drucke Bibliothek ...</td>\n",
       "      <td>Universität Basel - BS</td>\n",
       "      <td>52627.00</td>\n",
       "      <td>01.10.1975</td>\n",
       "      <td>30.09.1976</td>\n",
       "    </tr>\n",
       "    <tr>\n",
       "      <th>7</th>\n",
       "      <td>Schweiz. Thesauruskommission</td>\n",
       "      <td>NPO (Biblioth., Museen, Verwalt.) - NPO</td>\n",
       "      <td>120042.00</td>\n",
       "      <td>01.01.1976</td>\n",
       "      <td>30.04.1978</td>\n",
       "    </tr>\n",
       "  </tbody>\n",
       "</table>\n",
       "</div>"
      ],
      "text/plain": [
       "                                               Institution  \\\n",
       "Project                                                      \n",
       "1                                                      NaN   \n",
       "4        Faculté de Psychologie et des Sciences de l'Ed...   \n",
       "5        Kommission für das Corpus philosophorum medii ...   \n",
       "6        Abt. Handschriften und Alte Drucke Bibliothek ...   \n",
       "7                             Schweiz. Thesauruskommission   \n",
       "\n",
       "                                      University     Amount  Start Date  \\\n",
       "Project                                                                   \n",
       "1                           Nicht zuteilbar - NA   11619.00  01.10.1975   \n",
       "4                      Université de Genève - GE   41022.00  01.10.1975   \n",
       "5        NPO (Biblioth., Museen, Verwalt.) - NPO   79732.00  01.03.1976   \n",
       "6                         Universität Basel - BS   52627.00  01.10.1975   \n",
       "7        NPO (Biblioth., Museen, Verwalt.) - NPO  120042.00  01.01.1976   \n",
       "\n",
       "           End Date  \n",
       "Project              \n",
       "1        30.09.1976  \n",
       "4        30.09.1976  \n",
       "5        28.02.1985  \n",
       "6        30.09.1976  \n",
       "7        30.04.1978  "
      ]
     },
     "execution_count": 5,
     "metadata": {},
     "output_type": "execute_result"
    }
   ],
   "source": [
    "data = data[['Institution','University','Amount','Start Date','End Date']]\n",
    "data.head()"
   ]
  },
  {
   "cell_type": "markdown",
   "metadata": {},
   "source": [
    "# Preliminar data exploration\n",
    "In this section we will explore the essential features of the dataset to learn better how it looks like.\n",
    "We know a priori the structure of the dataset, and in particular, we have seen that some University fields are filled with NaN, while other columns contain some specific string, such as \"Nicht zuteilbar - NA\", that is, 'not allocable'. Moreover, when the grant amount is not given, one can find the specification \"data not included in P3\". These data arise actually from projects developed at foreign Universities, as said in the documentation of P3. Consequently, they are not interesting for our study. It is thus reasonable to drop them out of the dataset.\n",
    "\n",
    "Let us study first the 'University' field."
   ]
  },
  {
   "cell_type": "code",
   "execution_count": 6,
   "metadata": {
    "collapsed": false
   },
   "outputs": [
    {
     "name": "stdout",
     "output_type": "stream",
     "text": [
      "0.243492941894 is the ratio of NaN values out of 63969 projects.\n"
     ]
    }
   ],
   "source": [
    "# String of missing data\n",
    "nan_string1 = 'Nicht zuteilbar - NA'\n",
    "# Compute the amount of NaN\n",
    "data = data.replace(nan_string1, np.nan)\n",
    "nans_uni = data['University'].isnull().value_counts()\n",
    "\n",
    "print(str(nans_uni[True]/nans_uni.sum())+' is the ratio of NaN values out of '+str(nans_uni.sum())+' projects.')"
   ]
  },
  {
   "cell_type": "markdown",
   "metadata": {},
   "source": [
    "There are roughly **24%** of NaN values in the field 'University', that is, around a fourth of the projects are developed in non Swiss Universities.\n",
    "\n",
    "Now, let us study the 'Amount' field. We convert the grant amounts from string to floating point numbers, in order to treat them quantitatively."
   ]
  },
  {
   "cell_type": "code",
   "execution_count": 7,
   "metadata": {
    "collapsed": false
   },
   "outputs": [
    {
     "name": "stdout",
     "output_type": "stream",
     "text": [
      "0.170551360815 is the ratio of NaN values out of 63969 projects.\n"
     ]
    }
   ],
   "source": [
    "# String of missing data\n",
    "nan_string2 = 'data not included in P3'\n",
    "# Amount of NaN\n",
    "data = data.replace(nan_string2, np.nan)\n",
    "nans_amount = data['Amount'].isnull().value_counts()\n",
    "\n",
    "print(str(nans_amount[True]/nans_amount.sum())+' is the ratio of NaN values out of '+str(nans_amount.sum())+' projects.')"
   ]
  },
  {
   "cell_type": "markdown",
   "metadata": {},
   "source": [
    "The percentage of invalid grants data is about **17%**.\n",
    "\n",
    "We will now convert the date fields from strings into datetime format, in order to better process them and link the grants to their temporal evolution."
   ]
  },
  {
   "cell_type": "code",
   "execution_count": 8,
   "metadata": {
    "collapsed": true
   },
   "outputs": [],
   "source": [
    "data['Start Date'] = pd.to_datetime(data['Start Date'], format=\"'%d.%m.%y'\",errors='ignore')\n",
    "data['End Date'] = pd.to_datetime(data['End Date'], format=\"'%d.%m.%y'\",errors='ignore')"
   ]
  },
  {
   "cell_type": "code",
   "execution_count": 9,
   "metadata": {
    "collapsed": false
   },
   "outputs": [
    {
     "data": {
      "text/html": [
       "<div>\n",
       "<table border=\"1\" class=\"dataframe\">\n",
       "  <thead>\n",
       "    <tr style=\"text-align: right;\">\n",
       "      <th></th>\n",
       "      <th>Institution</th>\n",
       "      <th>University</th>\n",
       "      <th>Amount</th>\n",
       "      <th>Start Date</th>\n",
       "      <th>End Date</th>\n",
       "    </tr>\n",
       "    <tr>\n",
       "      <th>Project</th>\n",
       "      <th></th>\n",
       "      <th></th>\n",
       "      <th></th>\n",
       "      <th></th>\n",
       "      <th></th>\n",
       "    </tr>\n",
       "  </thead>\n",
       "  <tbody>\n",
       "    <tr>\n",
       "      <th>35737</th>\n",
       "      <td>NaN</td>\n",
       "      <td>Universität Zürich - ZH</td>\n",
       "      <td>46230.00</td>\n",
       "      <td>NaN</td>\n",
       "      <td>NaN</td>\n",
       "    </tr>\n",
       "  </tbody>\n",
       "</table>\n",
       "</div>"
      ],
      "text/plain": [
       "        Institution               University    Amount Start Date End Date\n",
       "Project                                                                   \n",
       "35737           NaN  Universität Zürich - ZH  46230.00        NaN      NaN"
      ]
     },
     "execution_count": 9,
     "metadata": {},
     "output_type": "execute_result"
    }
   ],
   "source": [
    "data[data['Start Date'].isnull() | data['End Date'].isnull()]"
   ]
  },
  {
   "cell_type": "markdown",
   "metadata": {},
   "source": [
    "Notice that there is one NaN value in the data 'Start Date' and 'End Date' entry (Project Number: 35737). We do not want to wipe it out, since there are informations concerning both the grant and the University.\n",
    "\n",
    "Now we drop the NaNs out of the dataset and visualize the resulting distribution of grants in time:"
   ]
  },
  {
   "cell_type": "code",
   "execution_count": 10,
   "metadata": {
    "collapsed": false
   },
   "outputs": [],
   "source": [
    "len_data = len(data)\n",
    "data = data[~data.Amount.isnull()]\n",
    "data = data[data.Institution.notnull() | data.University.notnull()]"
   ]
  },
  {
   "cell_type": "code",
   "execution_count": 11,
   "metadata": {
    "collapsed": false
   },
   "outputs": [
    {
     "name": "stdout",
     "output_type": "stream",
     "text": [
      "Percentage of removed data: 0.22113836389501162\n"
     ]
    }
   ],
   "source": [
    "print('Percentage of removed data: ' + str(1-len(data)/len_data) )\n",
    "data['Amount'] = data['Amount'].astype(float)"
   ]
  },
  {
   "cell_type": "markdown",
   "metadata": {},
   "source": [
    "We now plot the data over time, that is the amount of grants in function of the start time of the projects, together with the statistical distribution. "
   ]
  },
  {
   "cell_type": "code",
   "execution_count": 12,
   "metadata": {
    "collapsed": false
   },
   "outputs": [
    {
     "data": {
      "text/plain": [
       "<matplotlib.axes._subplots.AxesSubplot at 0x7fb3bba56d68>"
      ]
     },
     "execution_count": 12,
     "metadata": {},
     "output_type": "execute_result"
    },
    {
     "data": {
      "image/png": "[encoded data removed]",
      "text/plain": [
       "<matplotlib.figure.Figure at 0x7fb3b9cb1860>"
      ]
     },
     "metadata": {},
     "output_type": "display_data"
    }
   ],
   "source": [
    "data[~data['Start Date'].isnull()].plot(x='Start Date',y='Amount')"
   ]
  },
  {
   "cell_type": "code",
   "execution_count": 13,
   "metadata": {
    "collapsed": false
   },
   "outputs": [
    {
     "data": {
      "image/png": "[encoded data removed]",
      "text/plain": [
       "<matplotlib.figure.Figure at 0x7fb3b9763d30>"
      ]
     },
     "metadata": {},
     "output_type": "display_data"
    }
   ],
   "source": [
    "data.plot(x='Start Date',y='Amount',kind='hist',logy=True,bins=40)\n",
    "df = data"
   ]
  },
  {
   "cell_type": "markdown",
   "metadata": {},
   "source": [
    "The distribution of the dataset seems not to follow a power law, since the general behaviour is non linear, or it could be only for law values of grants, because of a heavy tail at high values. \n",
    "\n",
    "# Outliers identification\n",
    "\n",
    "We want now to identify the outlier points in the grants amount distribution. Our hypothesis concerning the outliers of the distribution is that the more granted the project, the longer it takes to be carried out. We add a column to the dataset to specify the duration of the project, using the datetime format."
   ]
  },
  {
   "cell_type": "code",
   "execution_count": 15,
   "metadata": {
    "collapsed": false,
    "scrolled": true
   },
   "outputs": [],
   "source": [
    "dates = []\n",
    "for date in data[['Start Date','End Date']].itertuples(index=False):\n",
    "    dates.append(pd.to_datetime(date[1])-pd.to_datetime(date[0]))"
   ]
  },
  {
   "cell_type": "code",
   "execution_count": 16,
   "metadata": {
    "collapsed": false
   },
   "outputs": [
    {
     "data": {
      "text/html": [
       "<div>\n",
       "<table border=\"1\" class=\"dataframe\">\n",
       "  <thead>\n",
       "    <tr style=\"text-align: right;\">\n",
       "      <th></th>\n",
       "      <th>Institution</th>\n",
       "      <th>University</th>\n",
       "      <th>Amount</th>\n",
       "      <th>Start Date</th>\n",
       "      <th>End Date</th>\n",
       "      <th>Duration</th>\n",
       "    </tr>\n",
       "    <tr>\n",
       "      <th>Project</th>\n",
       "      <th></th>\n",
       "      <th></th>\n",
       "      <th></th>\n",
       "      <th></th>\n",
       "      <th></th>\n",
       "      <th></th>\n",
       "    </tr>\n",
       "  </thead>\n",
       "  <tbody>\n",
       "    <tr>\n",
       "      <th>4</th>\n",
       "      <td>Faculté de Psychologie et des Sciences de l'Ed...</td>\n",
       "      <td>Université de Genève - GE</td>\n",
       "      <td>41022.0</td>\n",
       "      <td>01.10.1975</td>\n",
       "      <td>30.09.1976</td>\n",
       "      <td>629 days</td>\n",
       "    </tr>\n",
       "    <tr>\n",
       "      <th>5</th>\n",
       "      <td>Kommission für das Corpus philosophorum medii ...</td>\n",
       "      <td>NPO (Biblioth., Museen, Verwalt.) - NPO</td>\n",
       "      <td>79732.0</td>\n",
       "      <td>01.03.1976</td>\n",
       "      <td>28.02.1985</td>\n",
       "      <td>3344 days</td>\n",
       "    </tr>\n",
       "    <tr>\n",
       "      <th>6</th>\n",
       "      <td>Abt. Handschriften und Alte Drucke Bibliothek ...</td>\n",
       "      <td>Universität Basel - BS</td>\n",
       "      <td>52627.0</td>\n",
       "      <td>01.10.1975</td>\n",
       "      <td>30.09.1976</td>\n",
       "      <td>629 days</td>\n",
       "    </tr>\n",
       "    <tr>\n",
       "      <th>7</th>\n",
       "      <td>Schweiz. Thesauruskommission</td>\n",
       "      <td>NPO (Biblioth., Museen, Verwalt.) - NPO</td>\n",
       "      <td>120042.0</td>\n",
       "      <td>01.01.1976</td>\n",
       "      <td>30.04.1978</td>\n",
       "      <td>850 days</td>\n",
       "    </tr>\n",
       "    <tr>\n",
       "      <th>8</th>\n",
       "      <td>Séminaire de politique économique, d'économie ...</td>\n",
       "      <td>Université de Fribourg - FR</td>\n",
       "      <td>53009.0</td>\n",
       "      <td>01.01.1976</td>\n",
       "      <td>31.12.1978</td>\n",
       "      <td>1095 days</td>\n",
       "    </tr>\n",
       "  </tbody>\n",
       "</table>\n",
       "</div>"
      ],
      "text/plain": [
       "                                               Institution  \\\n",
       "Project                                                      \n",
       "4        Faculté de Psychologie et des Sciences de l'Ed...   \n",
       "5        Kommission für das Corpus philosophorum medii ...   \n",
       "6        Abt. Handschriften und Alte Drucke Bibliothek ...   \n",
       "7                             Schweiz. Thesauruskommission   \n",
       "8        Séminaire de politique économique, d'économie ...   \n",
       "\n",
       "                                      University    Amount  Start Date  \\\n",
       "Project                                                                  \n",
       "4                      Université de Genève - GE   41022.0  01.10.1975   \n",
       "5        NPO (Biblioth., Museen, Verwalt.) - NPO   79732.0  01.03.1976   \n",
       "6                         Universität Basel - BS   52627.0  01.10.1975   \n",
       "7        NPO (Biblioth., Museen, Verwalt.) - NPO  120042.0  01.01.1976   \n",
       "8                    Université de Fribourg - FR   53009.0  01.01.1976   \n",
       "\n",
       "           End Date  Duration  \n",
       "Project                        \n",
       "4        30.09.1976  629 days  \n",
       "5        28.02.1985 3344 days  \n",
       "6        30.09.1976  629 days  \n",
       "7        30.04.1978  850 days  \n",
       "8        31.12.1978 1095 days  "
      ]
     },
     "execution_count": 16,
     "metadata": {},
     "output_type": "execute_result"
    }
   ],
   "source": [
    "data['Duration'] = dates\n",
    "data.head()"
   ]
  },
  {
   "cell_type": "markdown",
   "metadata": {},
   "source": [
    "We convert days into int in order to be able to draw plots."
   ]
  },
  {
   "cell_type": "code",
   "execution_count": 17,
   "metadata": {
    "collapsed": false
   },
   "outputs": [],
   "source": [
    "duration = []\n",
    "for dur in data.Duration:\n",
    "    if(pd.isnull(dur)):\n",
    "        duration.append('NaN')\n",
    "    else:\n",
    "        duration.append(dur.days)"
   ]
  },
  {
   "cell_type": "code",
   "execution_count": 18,
   "metadata": {
    "collapsed": false
   },
   "outputs": [
    {
     "data": {
      "text/html": [
       "<div>\n",
       "<table border=\"1\" class=\"dataframe\">\n",
       "  <thead>\n",
       "    <tr style=\"text-align: right;\">\n",
       "      <th></th>\n",
       "      <th>Institution</th>\n",
       "      <th>University</th>\n",
       "      <th>Amount</th>\n",
       "      <th>Start Date</th>\n",
       "      <th>End Date</th>\n",
       "      <th>Duration</th>\n",
       "    </tr>\n",
       "    <tr>\n",
       "      <th>Project</th>\n",
       "      <th></th>\n",
       "      <th></th>\n",
       "      <th></th>\n",
       "      <th></th>\n",
       "      <th></th>\n",
       "      <th></th>\n",
       "    </tr>\n",
       "  </thead>\n",
       "  <tbody>\n",
       "    <tr>\n",
       "      <th>4</th>\n",
       "      <td>Faculté de Psychologie et des Sciences de l'Ed...</td>\n",
       "      <td>Université de Genève - GE</td>\n",
       "      <td>41022.0</td>\n",
       "      <td>01.10.1975</td>\n",
       "      <td>30.09.1976</td>\n",
       "      <td>629.0</td>\n",
       "    </tr>\n",
       "    <tr>\n",
       "      <th>5</th>\n",
       "      <td>Kommission für das Corpus philosophorum medii ...</td>\n",
       "      <td>NPO (Biblioth., Museen, Verwalt.) - NPO</td>\n",
       "      <td>79732.0</td>\n",
       "      <td>01.03.1976</td>\n",
       "      <td>28.02.1985</td>\n",
       "      <td>3344.0</td>\n",
       "    </tr>\n",
       "    <tr>\n",
       "      <th>6</th>\n",
       "      <td>Abt. Handschriften und Alte Drucke Bibliothek ...</td>\n",
       "      <td>Universität Basel - BS</td>\n",
       "      <td>52627.0</td>\n",
       "      <td>01.10.1975</td>\n",
       "      <td>30.09.1976</td>\n",
       "      <td>629.0</td>\n",
       "    </tr>\n",
       "    <tr>\n",
       "      <th>7</th>\n",
       "      <td>Schweiz. Thesauruskommission</td>\n",
       "      <td>NPO (Biblioth., Museen, Verwalt.) - NPO</td>\n",
       "      <td>120042.0</td>\n",
       "      <td>01.01.1976</td>\n",
       "      <td>30.04.1978</td>\n",
       "      <td>850.0</td>\n",
       "    </tr>\n",
       "    <tr>\n",
       "      <th>8</th>\n",
       "      <td>Séminaire de politique économique, d'économie ...</td>\n",
       "      <td>Université de Fribourg - FR</td>\n",
       "      <td>53009.0</td>\n",
       "      <td>01.01.1976</td>\n",
       "      <td>31.12.1978</td>\n",
       "      <td>1095.0</td>\n",
       "    </tr>\n",
       "  </tbody>\n",
       "</table>\n",
       "</div>"
      ],
      "text/plain": [
       "                                               Institution  \\\n",
       "Project                                                      \n",
       "4        Faculté de Psychologie et des Sciences de l'Ed...   \n",
       "5        Kommission für das Corpus philosophorum medii ...   \n",
       "6        Abt. Handschriften und Alte Drucke Bibliothek ...   \n",
       "7                             Schweiz. Thesauruskommission   \n",
       "8        Séminaire de politique économique, d'économie ...   \n",
       "\n",
       "                                      University    Amount  Start Date  \\\n",
       "Project                                                                  \n",
       "4                      Université de Genève - GE   41022.0  01.10.1975   \n",
       "5        NPO (Biblioth., Museen, Verwalt.) - NPO   79732.0  01.03.1976   \n",
       "6                         Universität Basel - BS   52627.0  01.10.1975   \n",
       "7        NPO (Biblioth., Museen, Verwalt.) - NPO  120042.0  01.01.1976   \n",
       "8                    Université de Fribourg - FR   53009.0  01.01.1976   \n",
       "\n",
       "           End Date  Duration  \n",
       "Project                        \n",
       "4        30.09.1976     629.0  \n",
       "5        28.02.1985    3344.0  \n",
       "6        30.09.1976     629.0  \n",
       "7        30.04.1978     850.0  \n",
       "8        31.12.1978    1095.0  "
      ]
     },
     "execution_count": 18,
     "metadata": {},
     "output_type": "execute_result"
    }
   ],
   "source": [
    "data['Duration']=duration\n",
    "data.Duration = data.Duration.astype(float)\n",
    "data.head()"
   ]
  },
  {
   "cell_type": "code",
   "execution_count": 19,
   "metadata": {
    "collapsed": false
   },
   "outputs": [
    {
     "data": {
      "text/plain": [
       "<matplotlib.text.Text at 0x7fb3bac274a8>"
      ]
     },
     "execution_count": 19,
     "metadata": {},
     "output_type": "execute_result"
    },
    {
     "data": {
      "image/png": "[encoded data removed]",
      "text/plain": [
       "<matplotlib.figure.Figure at 0x7fb3bb617eb8>"
      ]
     },
     "metadata": {},
     "output_type": "display_data"
    }
   ],
   "source": [
    "# scatter plot in log-log scale\n",
    "plt.loglog(data['Duration'], data['Amount'],'o')\n",
    "plt.xlabel('Duration')\n",
    "plt.ylabel('Amount')"
   ]
  },
  {
   "cell_type": "markdown",
   "metadata": {},
   "source": [
    "Our hypothesis seems to be confirmed. Grants and duration are positively correlated, so that highly granted projects do not represent \"bad\" outliers, but are linked to longer projects."
   ]
  },
  {
   "cell_type": "markdown",
   "metadata": {},
   "source": [
    "# From university to canton"
   ]
  },
  {
   "cell_type": "code",
   "execution_count": 21,
   "metadata": {
    "collapsed": false
   },
   "outputs": [
    {
     "name": "stdout",
     "output_type": "stream",
     "text": [
      "(49823, 3)\n",
      "Institution     object\n",
      "University      object\n",
      "Amount         float64\n",
      "dtype: object\n"
     ]
    }
   ],
   "source": [
    "df = df[['Institution', 'University', 'Amount']]\n",
    "print(df.shape)\n",
    "print(df.dtypes)"
   ]
  },
  {
   "cell_type": "code",
   "execution_count": 22,
   "metadata": {
    "collapsed": false
   },
   "outputs": [
    {
     "data": {
      "text/html": [
       "<div>\n",
       "<table border=\"1\" class=\"dataframe\">\n",
       "  <thead>\n",
       "    <tr style=\"text-align: right;\">\n",
       "      <th></th>\n",
       "      <th>Institution</th>\n",
       "      <th>University</th>\n",
       "      <th>Amount</th>\n",
       "    </tr>\n",
       "    <tr>\n",
       "      <th>Project</th>\n",
       "      <th></th>\n",
       "      <th></th>\n",
       "      <th></th>\n",
       "    </tr>\n",
       "  </thead>\n",
       "  <tbody>\n",
       "    <tr>\n",
       "      <th>4</th>\n",
       "      <td>Faculté de Psychologie et des Sciences de l'Ed...</td>\n",
       "      <td>Université de Genève - GE</td>\n",
       "      <td>41022.0</td>\n",
       "    </tr>\n",
       "    <tr>\n",
       "      <th>5</th>\n",
       "      <td>Kommission für das Corpus philosophorum medii ...</td>\n",
       "      <td>NPO (Biblioth., Museen, Verwalt.) - NPO</td>\n",
       "      <td>79732.0</td>\n",
       "    </tr>\n",
       "    <tr>\n",
       "      <th>6</th>\n",
       "      <td>Abt. Handschriften und Alte Drucke Bibliothek ...</td>\n",
       "      <td>Universität Basel - BS</td>\n",
       "      <td>52627.0</td>\n",
       "    </tr>\n",
       "    <tr>\n",
       "      <th>7</th>\n",
       "      <td>Schweiz. Thesauruskommission</td>\n",
       "      <td>NPO (Biblioth., Museen, Verwalt.) - NPO</td>\n",
       "      <td>120042.0</td>\n",
       "    </tr>\n",
       "    <tr>\n",
       "      <th>8</th>\n",
       "      <td>Séminaire de politique économique, d'économie ...</td>\n",
       "      <td>Université de Fribourg - FR</td>\n",
       "      <td>53009.0</td>\n",
       "    </tr>\n",
       "  </tbody>\n",
       "</table>\n",
       "</div>"
      ],
      "text/plain": [
       "                                               Institution  \\\n",
       "Project                                                      \n",
       "4        Faculté de Psychologie et des Sciences de l'Ed...   \n",
       "5        Kommission für das Corpus philosophorum medii ...   \n",
       "6        Abt. Handschriften und Alte Drucke Bibliothek ...   \n",
       "7                             Schweiz. Thesauruskommission   \n",
       "8        Séminaire de politique économique, d'économie ...   \n",
       "\n",
       "                                      University    Amount  \n",
       "Project                                                     \n",
       "4                      Université de Genève - GE   41022.0  \n",
       "5        NPO (Biblioth., Museen, Verwalt.) - NPO   79732.0  \n",
       "6                         Universität Basel - BS   52627.0  \n",
       "7        NPO (Biblioth., Museen, Verwalt.) - NPO  120042.0  \n",
       "8                    Université de Fribourg - FR   53009.0  "
      ]
     },
     "execution_count": 22,
     "metadata": {},
     "output_type": "execute_result"
    }
   ],
   "source": [
    "df.head()"
   ]
  },
  {
   "cell_type": "code",
   "execution_count": 23,
   "metadata": {
    "collapsed": true
   },
   "outputs": [],
   "source": [
    "df = df.reset_index()"
   ]
  },
  {
   "cell_type": "code",
   "execution_count": 24,
   "metadata": {
    "collapsed": true
   },
   "outputs": [],
   "source": [
    "username = 'deatinor'\n",
    "url = 'http://api.geonames.org/postalCodeSearchJSON?'"
   ]
  },
  {
   "cell_type": "code",
   "execution_count": 25,
   "metadata": {
    "collapsed": true
   },
   "outputs": [],
   "source": [
    "correspondencies_dictionary={'CERN':'GE','Projekte + Ausbildung Soziales Gesundheit Rehabilitation':'ZH',\n",
    "                            'Psychotherapeutische Abteilung Universitäre Psychiatrische Kliniken UPK':'BS',\n",
    "                            'Pädagogische Hochschule Fachhochschule Nordwestschweiz, Pädagogische Hochschule Nordwestschweiz - PHFHNW':'BS',\n",
    "                            'Kalaidos Fachhochschule Departement Gesundheit, Fachhochschule Kalaidos - FHKD':'ZH',\n",
    "                            'Eawag':'ZH',\n",
    "                            'Pädagogische Hochschule FHNW, Pädagogische Hochschule Nordwestschweiz - PHFHNW':'BL',\n",
    "                            'Naturwissenschaftsdidaktik Sekundarstufe Pädagogische Hochschule Fachhochschule Nordwestschweiz, Pädagogische Hochschule Nordwestschweiz - PHFHNW':'BL',\n",
    "                            'Forschungsgruppe Sozioökonomie Forschungsbereich Agrarökonomie Agroscope':'VD',\n",
    "                            'Departement Erziehungswissenschaften Universität Freiburg': 'FR',\n",
    "                            'Eidg. Material und Prüfungsanstalt - EMPA': 'SG',\n",
    "                            'Fachhochschule Nordwestschweiz (ohne PH) - FHNW': 'SO',\n",
    "                            'Haute école de santé ARC Haute Ecole Spécialisée de Suisse occidentale':'JU',\n",
    "                            'HES de Suisse occidentale - HES-SO':'JU',\n",
    "                            'Haute école de santé ARC Haute Ecole Spécialisée de Suisse occidentale':'JU',\n",
    "                            'Haute école pédagogique BE, JU, NE - HEPBEJUNE': 'JU',\n",
    "                            \"IHEID Fondation pour l'institut de hautes études internationales et du développement\": 'GE',\n",
    "                            'Idiap Research Institute - IDIAP': 'VS',\n",
    "                            'Inst. Suisse de Spéléologie et Karstologie - ISSKA': 'JU',\n",
    "                            'Inst. de Hautes Etudes Internat. et du Dév - IHEID': 'GE',\n",
    "                            'Institut de physique de la matière condensée EPFL - SB - ICMP': 'VD', \n",
    "                            'Laboratoire de Neurologie et Imagerie de la Cognition Dépt. de Neurosciences Fondamentales': 'GE',\n",
    "                            'Laboratoire de physique de la matière vivante EPFL - SB - IPSB - LPMV': 'VD',\n",
    "                            'Schweiz. Institut für Kunstwissenschaft - SIK-ISEA': 'ZH',\n",
    "                            'Station fédérale de recherches agronomiques de Changins': 'VD',\n",
    "                            'Università della Svizzera italiana - USI': 'TI',\n",
    "                            }"
   ]
  },
  {
   "cell_type": "code",
   "execution_count": 26,
   "metadata": {
    "collapsed": true
   },
   "outputs": [],
   "source": [
    "reject_list=['Firmen/Privatwirtschaft - FP',\n",
    "            'Institut für Physikalische Chemie Universität Freiburg',\n",
    "            'NPO (Biblioth., Museen, Verwalt.) - NPO',\n",
    "            'Nicht zuteilbar - NA',\n",
    "            \"UMR 6578 CNRS Unité d'anthropologie Faculté de Médecine Université de la Méditerranée\",\n",
    "            'UNI: Centre de Recherche sur les Maladies Au toimmune Groupe Hospitalier Necker Paris F',\n",
    "            'UNI: Heriott-Watt University Department of M athematics Riccarton Edinburgh GB',\n",
    "            'UNI: IMAGE et VILLE Institut de Géographie Strasbourg F',\n",
    "            'UNI: University of East Anglia Climatic Rese arch Unit  Norwich GB',\n",
    "            'Weitere Institute - FINST',\n",
    "            'Weitere Spitäler - ASPIT'\n",
    "            ]"
   ]
  },
  {
   "cell_type": "code",
   "execution_count": 27,
   "metadata": {
    "collapsed": true
   },
   "outputs": [],
   "source": [
    "params={'username':username,'placename':'CH','maxRows':1,'operator':'OR'}\n",
    "r=requests.get(url,params=params)"
   ]
  },
  {
   "cell_type": "code",
   "execution_count": 28,
   "metadata": {
    "collapsed": false
   },
   "outputs": [
    {
     "name": "stdout",
     "output_type": "stream",
     "text": [
      "Regierungsgebäude\n",
      "Regierungsgebäude\n",
      "Rotkreuzspital\n",
      "5000\n",
      "10000\n",
      "Thurgauer Namenbuch\n",
      "Sozialforschung\n",
      "Istituto storico germanico\n",
      "15000\n",
      "Thurgauer Namenbuch\n",
      "Thurgauer Namenbuch\n",
      "Thurgauer Namenbuch\n",
      "Thurgauer Namenbuch\n",
      "Sozialforschung\n",
      "DüCo Sozialforschung\n",
      "20000\n",
      "Thurgauer Namenbuch\n",
      "Thurgauer Namenbuch\n",
      "Thurgauer Namenbuch\n",
      "25000\n",
      "Thurgauer Namenbuch\n",
      "Thurgauer Namenbuch\n",
      "30000\n",
      "Thurgauer Namenbuch\n",
      "Thurgauer Namenbuch\n",
      "Luzerner Namenbuch\n",
      "Thurgauer Namenbuch\n",
      "Luzerner Namenbuch\n",
      "35000\n",
      "Thurgauer Namenbuch\n",
      "40000\n",
      "45000\n"
     ]
    }
   ],
   "source": [
    "i=0\n",
    "df_final=pd.DataFrame({'Name':[],'Canton':[],'Amount':[]})\n",
    "not_found_list=[]\n",
    "for block in df[['Institution','University','Amount']].itertuples(index=False):\n",
    "    nan1=str(block[0])\n",
    "    nan2=str(block[1])\n",
    "    amount=block[2]\n",
    "    \n",
    "    # By default take only the university.\n",
    "    # The first time a value is added it is checked for differences if adding also the institution.\n",
    "    if nan1=='nan':\n",
    "        if nan2=='nan':\n",
    "            raise('Bad preprocessing - double nan')\n",
    "        query_string=block[1]\n",
    "    elif nan2=='nan':\n",
    "        query_string=block[0]\n",
    "    else:\n",
    "        query_string=block[0]+\", \"+block[1]\n",
    "    \n",
    "    \n",
    "    # List of checks if already present in the dictionary:\n",
    "    # 1- institution + university \n",
    "    # 2- university \n",
    "    # 3- query to geonames\n",
    "    try:\n",
    "        if query_string in reject_list:\n",
    "            #print(query_string)\n",
    "            continue\n",
    "        canton=correspondencies_dictionary[query_string]\n",
    "        df2=pd.DataFrame({'Name':[query_string],'Canton':[canton],'Amount':[amount]})\n",
    "        df_final=df_final.append(df2)\n",
    "    except:\n",
    "        try:\n",
    "            query_string_university=str(block[1])\n",
    "            if query_string_university in reject_list:\n",
    "                #print(query_string)\n",
    "                continue\n",
    "            canton=correspondencies_dictionary[query_string_university]\n",
    "            df2=pd.DataFrame({'Name':[query_string_university],'Canton':[canton],'Amount':[amount]})\n",
    "            df_final=df_final.append(df2)\n",
    "        except:\n",
    "            try:\n",
    "                params['placename']=query_string\n",
    "                r=requests.get(url,params=params)\n",
    "                df1=pd.read_json(r.text,orient='records')\n",
    "                canton=df1.postalCodes[0]\n",
    "\n",
    "                if nan2!='nan':\n",
    "                    query_string_short=block[1]\n",
    "                    r=requests.get(url,params=params)\n",
    "                    df1=pd.read_json(r.text,orient='records')\n",
    "                    canton2=df1.postalCodes[0]\n",
    "                    if canton2==canton:\n",
    "                        query_string=query_string_short\n",
    "                    else:\n",
    "                        print(canton2,canton)\n",
    "\n",
    "                if canton['countryCode']!='CH':\n",
    "    #                 if nan2!='nan':\n",
    "    #                     print(2140358234)\n",
    "    #                 print(query_string)\n",
    "    #                 print(canton['countryCode'])\n",
    "                    continue\n",
    "                df2=pd.DataFrame({'Name':[query_string],'Canton':[canton['adminCode1']],'Amount':[amount]})\n",
    "                df2=df2.rename(columns={'adminCode1':'Canton'})\n",
    "                df_final=df_final.append(df2)\n",
    "                correspondencies_dictionary[query_string]=df2.Canton[0]\n",
    "            except:\n",
    "                print(query_string)\n",
    "                not_found_list.append(query_string)\n",
    "    i+=1\n",
    "    \n",
    "    if i%5000==0:\n",
    "        print(i)"
   ]
  },
  {
   "cell_type": "code",
   "execution_count": 29,
   "metadata": {
    "collapsed": false
   },
   "outputs": [
    {
     "data": {
      "text/plain": [
       "(46139, 3)"
      ]
     },
     "execution_count": 29,
     "metadata": {},
     "output_type": "execute_result"
    }
   ],
   "source": [
    "df_final.shape"
   ]
  },
  {
   "cell_type": "code",
   "execution_count": 30,
   "metadata": {
    "collapsed": false
   },
   "outputs": [
    {
     "data": {
      "text/plain": [
       "594"
      ]
     },
     "execution_count": 30,
     "metadata": {},
     "output_type": "execute_result"
    }
   ],
   "source": [
    "len(correspondencies_dictionary)"
   ]
  },
  {
   "cell_type": "code",
   "execution_count": 31,
   "metadata": {
    "collapsed": false
   },
   "outputs": [
    {
     "data": {
      "text/plain": [
       "{'Abt. Industriegüter- & Technologiemarketing Inst. für Marketing und Unternehmensführung Universität Bern': 'BE',\n",
       " 'Abt. Ultrastruktur-Pathologie & Zellbiologie Institut für klinische Pathologie Universität Wien': 'LU',\n",
       " 'Abteilung Biochemie Biozentrum Universität Basel': 'BS',\n",
       " 'Abteilung Gastroenterologie Departement Klinische Forschung Universität Bern': 'BE',\n",
       " 'Abteilung Molekulare Pathobiologie Vetsuisse-Fakultät Universität Bern': 'BE',\n",
       " 'Abteilung Pharmakologie/Neurobiologie Biozentrum der Universität Basel': 'BS',\n",
       " 'Abteilung Populationsgenetik Institut für Ökologie und Evolution Universität Bern': 'BE',\n",
       " 'Abteilung c2d Zentrum für Demokratie Aarau Universität Zürich': 'ZH',\n",
       " 'Abteilung für Sport- und Leistungs- medizin, Medizinische Klinik & Poli klinik, Ruprecht-Karls-Universität': 'LU',\n",
       " 'Anatomisches Institut Universität Zürich': 'ZH',\n",
       " 'Anthropologisches Institut und Museum Universität Zürich-Irchel': 'ZH',\n",
       " 'Architektur und Bauprozess Institut für Technologie in der Architektur ETH Zürich': 'ZH',\n",
       " 'Archivio di Stato del Canton Ticino': 'TI',\n",
       " 'Berner Fachhochschule - BFH': 'BE',\n",
       " 'Biotechnologie Institut Thurgau - BITG': 'TG',\n",
       " 'Biozentrum der Universität Basel Systembiologie': 'BS',\n",
       " 'Botanisches Institut Universität Basel': 'BS',\n",
       " 'CER-ETH Resource Economics ETH Zurich': 'ZH',\n",
       " 'CERN': 'GE',\n",
       " 'Cell migration and neuritogenesis Department Biomedizin Universität Basel': 'BS',\n",
       " 'Center of Economic Research (CER)  ETH Zürich': 'ZH',\n",
       " 'Centre Interfacultaire en Sciences Affectives (CISA) Université de Genève': 'GE',\n",
       " \"Centre Universitaire d'Informatique Université de Genève\": 'GE',\n",
       " 'Centre de Neurosciences Psychiatriques Hôpital de Cery': 'VD',\n",
       " \"Chaire d'Anthropologie Sociale Faculté des sciences économiques et sociales Université de Fribourg\": 'FR',\n",
       " 'Christkatholische und Evangelische Theologische Fakultät Universität Bern': 'BE',\n",
       " 'Cognitive and Decision Sciences Fakultät für Psychologie Universität Basel': 'BS',\n",
       " 'Collegium Helveticum Semper-Sternwarte ETH - Zentrum': 'ZH',\n",
       " 'Departement Architektur ETH Zürich': 'ZH',\n",
       " 'Departement Biomedizin Universität Basel': 'BS',\n",
       " 'Departement Chemie und Angewandte Biowissenschaften ETH  Zürich': 'ZH',\n",
       " 'Departement Erdwissenschaften ETH Zürich': 'ZH',\n",
       " 'Departement Erziehungswissenschaften Universität Freiburg': 'FR',\n",
       " 'Departement Forschung und Entwicklung Pädagogische Hochschule Zürich': 'ZH',\n",
       " 'Departement Geographie, SIE Universität Zürich': 'ZH',\n",
       " 'Departement Geschichte Universität Basel': 'BS',\n",
       " 'Departement Klinische Forschung (DKF) Universität Bern': 'BE',\n",
       " 'Departement Klinische Forschung Inselspital Bern Universität Bern': 'BE',\n",
       " 'Departement Klinische Forschung Universität Bern': 'BE',\n",
       " 'Departement Mathematik ETH Zürich': 'ZH',\n",
       " 'Departement Physik Universität Basel': 'BS',\n",
       " 'Departement Umweltsystemwissenschaften ETH Zürich IBP / D-USYS': 'ZH',\n",
       " 'Departement für Chemie und Biochemie Universität Bern': 'BE',\n",
       " 'Departement für Sport, Bewegung und Gesundhe Universität Basel': 'BS',\n",
       " 'Dept. of Mechanical and Process Engineering ETH-Zentrum': 'ZH',\n",
       " 'Deutsches Seminar Universität Basel': 'BS',\n",
       " 'Deutsches Seminar Universität Zürich': 'ZH',\n",
       " 'Didaktikum Aarau': 'AG',\n",
       " \"Division d'Orthodontie Section de Médecine Dentaire Université de Genève\": 'GE',\n",
       " 'Division de Biochimie Département de Biologie Université de Fribourg': 'FR',\n",
       " 'Division de Physiologie Département de Médecine Université de Fribourg': 'FR',\n",
       " 'Droit international public Faculté de droit et des sciences criminelles Université de Lausanne': 'VD',\n",
       " \"Département d'Ecologie et d'Evolution Faculté de Biologie et de Médecine Université de Lausanne\": 'VD',\n",
       " \"Département d'anglais et de slavistique Université de Fribourg\": 'FR',\n",
       " 'Département de Biologie Faculté des Sciences Université de Fribourg': 'FR',\n",
       " 'Département de Biologie Moléculaire Faculté des Sciences Université de Genève': 'GE',\n",
       " 'Département de Biologie Végétale Faculté des Sciences Université de Genève': 'GE',\n",
       " 'Département de Chimie Organique Université de Genève': 'GE',\n",
       " 'Département de Chimie Physique Faculté des Sciences Université de Genève': 'GE',\n",
       " 'Département de Chimie Université de Fribourg': 'FR',\n",
       " 'Département de Génétique et Evolution Faculté des Sciences Université de Genève': 'GE',\n",
       " 'Département de Géographie et Environnement Faculté des Sciences de la Société Université de Genève': 'GE',\n",
       " 'Département de Linguistique Française Faculté des Lettres Université de Genève': 'GE',\n",
       " 'Département de Microbiologie Fondamentale Faculté de Biologie et de Médecine Université de Lausanne': 'VD',\n",
       " 'Département de Morphologie Faculté de Médecine Université de Genève': 'GE',\n",
       " 'Département de Pathologie et Immunologie Faculté de Médecine / CMU Université de Genève': 'GE',\n",
       " 'Département de Pharmacologie & Toxicologie Faculté de Biologie et de Médecine Université de Lausanne': 'VD',\n",
       " 'Département de Philosophie Faculté des Lettres Université de Fribourg': 'FR',\n",
       " 'Département de Physiologie Faculté de Biologie et de Médecine Université de Lausanne': 'VD',\n",
       " 'Département de Physique Université de Fribourg': 'FR',\n",
       " 'Département de Physique de la Matière Condensée Université de Genève': 'GE',\n",
       " 'Département de droit constitutionnel Faculté de droit Université de Genève': 'GE',\n",
       " 'Département de linguistique générale Faculté des lettres Université de Genève': 'GE',\n",
       " 'Département de management Faculté des hautes études commerciales Université de Lausanne': 'VD',\n",
       " 'Département de physique nucléaire et corpusculaire Université de Genève': 'GE',\n",
       " 'Département des sciences de la Terre Université de Genève': 'GE',\n",
       " 'Dépt Microbiologie et Médecine Moléculaire Faculté de Médecine Université de Genève': 'GE',\n",
       " 'Dépt Physiologie Cellulaire et Métabolisme Faculté de Médecine Université de Genève': 'GE',\n",
       " 'Dépt des Neurosciences Fondamentales Faculté de Médecine Université de Genève': 'GE',\n",
       " 'EPF Lausanne - EPFL': 'VD',\n",
       " 'ETH Zentrum RAC F 18': 'ZH',\n",
       " 'ETH Zürich - ETHZ': 'ZH',\n",
       " 'Eawag': 'ZH',\n",
       " 'Eidg. Anstalt für Wasserversorgung - EAWAG': 'ZH',\n",
       " 'Eidg. Forschungsanstalt für Wald, Schnee und Landschaft WSL': 'ZH',\n",
       " 'Eidg. Forschungsanstalt für Wald,Schnee,Land - WSL': 'ZH',\n",
       " 'Eidg. Material und Prüfungsanstalt - EMPA': 'SG',\n",
       " 'Englisches Seminar Universität Zürich': 'ZH',\n",
       " 'Ente Ospedaliero Cantonale - EOC': 'TI',\n",
       " 'Ethologische Station Hasli Zoologisches Institut Universität Bern': 'BE',\n",
       " 'Europainstitut Universität Basel': 'BS',\n",
       " 'Fachhochschule Nordwestschweiz (ohne PH) - FHNW': 'SO',\n",
       " 'Fachhochschule Ostschweiz - FHO': 'SG',\n",
       " 'Fachrichtung Angewandte Psychologie Psychologisches Institut Universität Zürich': 'ZH',\n",
       " 'Facoltà di Teologia di Lugano - FTL': 'TI',\n",
       " \"Faculté de Psychologie et des Sciences de l'Education Université de Genève\": 'GE',\n",
       " 'Faculté des Lettres Université de Genève': 'GE',\n",
       " 'Faculté des sciences économiques et sociales, Décanat Université de Genève': 'GE',\n",
       " 'Fakultät für Psychologie Universität Basel': 'BS',\n",
       " 'Forschung für Infektions- und Krebskrankh. Abteilung Onkologie Universitäts-Kinderspital Zürich': 'ZH',\n",
       " 'Forschungsanstalt Agroscope Changins- Wädenswil ACW': 'ZH',\n",
       " 'Forschungsanstalten Agroscope - AGS': 'LU',\n",
       " 'Forschungsgruppe Sozioökonomie Forschungsbereich Agrarökonomie Agroscope': 'VD',\n",
       " 'Forschungsstelle für Sicherheitspolitik D-GESS ETH Zürich': 'ZH',\n",
       " \"Forum Suisse pour l'étude des migrations et de la population Université de Neuchâtel\": 'NE',\n",
       " 'Geographisches Institut Universität Bern': 'BE',\n",
       " 'Geologisches Institut ETH Zürich': 'ZH',\n",
       " 'Gerontopsychologie Psychologisches Institut Universität Zürich': 'ZH',\n",
       " 'Groupe Diabétologie expérimentale Dépt. Physiologie Cellulaire et Métabolisme Université de Genève': 'GE',\n",
       " 'Groupe de recherche en économie territoriale Institut de sociologie Université de Neuchâtel': 'NE',\n",
       " 'Gruppe Isotopengeologie Institut für Geologie Universität Bern': 'BE',\n",
       " 'HES de Suisse occidentale - HES-SO': 'JU',\n",
       " 'Haute école de santé ARC Haute Ecole Spécialisée de Suisse occidentale': 'JU',\n",
       " 'Haute école pédagogique BE, JU, NE - HEPBEJUNE': 'JU',\n",
       " 'Haute école pédagogique du canton de Vaud - HEPL': 'VD',\n",
       " 'Haute école pédagogique fribourgeoise - HEPFR': 'FR',\n",
       " 'High Voltage Laboratory ETH Zentrum': 'ZH',\n",
       " 'Hochschule Luzern - HSLU': 'LU',\n",
       " 'Hochschule der Künste Bern Berner Fachhochschule': 'BE',\n",
       " 'Hôpitaux Universitaires de Genève': 'GE',\n",
       " \"IHEID Fondation pour l'institut de hautes études internationales et du développement\": 'GE',\n",
       " 'IPMZ - Institut für Publizistikwissenschaft und Medienforschung Universität Zürich': 'ZH',\n",
       " 'Idiap Research Institute - IDIAP': 'VS',\n",
       " 'Inst. Suisse de Spéléologie et Karstologie - ISSKA': 'JU',\n",
       " \"Inst. de Géomatique & d'Analyse du Risque Fac. des Géosciences & de l'Environnement Université de Lausanne\": 'VD',\n",
       " 'Inst. de Hautes Etudes Internat. et du Dév - IHEID': 'GE',\n",
       " 'Inst. für Hydromechanik und Wasserwirtschaft ETH-Hönggerberg': 'ZH',\n",
       " 'Inst. für Operations Research und mathematische Methoden Zürich CH Universität Zürich': 'ZH',\n",
       " 'Institut F.-A. Forel Université de Genève': 'GE',\n",
       " 'Institut Forschung & Entwicklung Hochschule Luzern - Musik': 'LU',\n",
       " 'Institut Froideville': 'VD',\n",
       " 'Institut Suisse de Recherche Expérimentale sur le Cancer EPFL - SV - ISREC': 'VD',\n",
       " \"Institut d'informatique Université de Neuchâtel\": 'NE',\n",
       " \"Institut d'informatique et Intelligence artificielle Université de Neuchâtel\": 'NE',\n",
       " \"Institut d'études médiévales Université de Fribourg\": 'FR',\n",
       " 'Institut de Géologie Université de Neuchâtel': 'NE',\n",
       " 'Institut de Mathématiques Université de Lausanne': 'VD',\n",
       " 'Institut de Microbiologie Université de Lausanne': 'VD',\n",
       " 'Institut de droit de la santé Faculté de droit Université de Neuchâtel': 'NE',\n",
       " 'Institut de mathématiques Université de Neuchâtel': 'NE',\n",
       " 'Institut de physique appliquée Laboratoire de théorie du solide DP - EPF-Lausanne': 'VD',\n",
       " 'Institut de physique de la matière condensée EPFL - SB - ICMP': 'VD',\n",
       " 'Institut de sociologie et de sciences politiques Université de Neuchâtel': 'NE',\n",
       " \"Institut européen de l'Université de Genève\": 'GE',\n",
       " 'Institut für Agrarwissenschaften ETH Zürich': 'ZH',\n",
       " 'Institut für Anorganische Chemie Universität Basel': 'BS',\n",
       " 'Institut für Anorganische, Ana- lytische und Physikalische Chemie Universität Bern': 'BE',\n",
       " 'Institut für Automatik ETH Zürich': 'ZH',\n",
       " 'Institut für Bildverarbeitung Informationstechnologie und Elektrotechnik ETH Zürich': 'ZH',\n",
       " 'Institut für Biochemie und Molekulare Medizin Universität Bern': 'BE',\n",
       " 'Institut für Biomedizinische Technik Universität Zürich und ETHZ': 'ZH',\n",
       " 'Institut für Chemie- und Bioingenieurwissenschaften ETH Zürich': 'ZH',\n",
       " 'Institut für Chirurgische Forschung und Spitalmanagement Universitätsspital Basel': 'BS',\n",
       " 'Institut für Customer Insight (ICI-HSG) Universität St. Gallen': 'SG',\n",
       " 'Institut für Energietechnik ETH Zürich': 'ZH',\n",
       " 'Institut für Evolutionsbiologie und Umweltwissenschaften Universität Zürich': 'ZH',\n",
       " 'Institut für Führung- und Personalmanagement Universität St. Gallen': 'SG',\n",
       " 'Institut für Geophysik ETH Zürich': 'ZH',\n",
       " 'Institut für Germanistik Philosophisch-historische Fakultät Universität Bern': 'BE',\n",
       " 'Institut für Hirnforschung Universität Zürich': 'ZH',\n",
       " 'Institut für Infektionskrankheiten Universität Bern': 'BE',\n",
       " 'Institut für Informatik Universität Bern': 'BE',\n",
       " 'Institut für Klinische Pharmakologie Universität Bern': 'BE',\n",
       " 'Institut für Kulturforschung Graubünden - IKG': 'GR',\n",
       " 'Institut für Mathematik Universität Zürich': 'ZH',\n",
       " 'Institut für Medienwissenschaften der Universität Basel': 'BS',\n",
       " 'Institut für Molekulare Biologie Universität Zürich': 'ZH',\n",
       " 'Institut für Neuroinformatik Universität Zürich Irchel und ETH Zürich': 'ZH',\n",
       " 'Institut für Neuropathologie Departement für Pathologie Universitätsspital Zürich': 'ZH',\n",
       " 'Institut für Neuropathologie Universitätsspital Zürich': 'ZH',\n",
       " 'Institut für Nichtmetallische anorganische Werkstoffe ETH-Hönggerberg': 'ZH',\n",
       " 'Institut für Nutztierwissenschaften Gruppe Ernährung ETH-Zentrum': 'ZH',\n",
       " 'Institut für Oberflächentechnik ETH Zürich': 'ZH',\n",
       " 'Institut für Operations Research ETH Zürich': 'ZH',\n",
       " 'Institut für Pflanzenbiologie Universität Zürich': 'ZH',\n",
       " 'Institut für Pflanzenbiologie Universität Zürich Limnologische Station': 'ZH',\n",
       " 'Institut für Pharmazeutische Wissenschaften ETH Zürich': 'ZH',\n",
       " 'Institut für Physikalische Chemie Universität Zürich': 'ZH',\n",
       " 'Institut für Polymere ETH Zürich': 'ZH',\n",
       " 'Institut für Populäre Kulturen Universität Zürich': 'ZH',\n",
       " 'Institut für Quantenelektronik ETH Zürich': 'ZH',\n",
       " 'Institut für Robotik und Intelligente Systeme ETH Zürich': 'ZH',\n",
       " 'Institut für Sozial- und Präventivmedizin Universität Bern': 'BE',\n",
       " 'Institut für Sozialanthropologie Universität Bern': 'BE',\n",
       " 'Institut für Systematische Botanik und Botanischer Garten Universität Zürich': 'ZH',\n",
       " 'Institut für Technologiemanagement Universität St. Gallen': 'SG',\n",
       " 'Institut für Theoretische Physik ETH Zürich': 'ZH',\n",
       " 'Institut für Theoretische Physik Universität Bern': 'BE',\n",
       " 'Institut für Verkehrsplanung und Transportsysteme ETH Zürich': 'ZH',\n",
       " 'Institut für Veterinärbiochemie und Molekularbiologie Universität Zürich-Irchel': 'ZH',\n",
       " 'Institut für Veterinärpathologie Vetsuisse-Fakultät Universität Zürich': 'ZH',\n",
       " 'Institut für Wirtschaftsinformatik Universität St. Gallen': 'SG',\n",
       " 'Institut für Wirtschaftspädagogik Universität St. Gallen': 'SG',\n",
       " 'Institut für Zellbiologie Departement Biologie Universität Bern': 'BE',\n",
       " 'Institut für Zellbiologie ETH Zürich': 'ZH',\n",
       " 'Institut für angewandte Physik Universität Bern': 'BE',\n",
       " 'Institut für englische Sprachen und Literaturen Universität Bern': 'BE',\n",
       " 'Institut für mathematische Statistik und Versicherungslehre Universität Bern': 'BE',\n",
       " 'Institut für mathematische Systemtheorie ETH-Zentrum': 'ZH',\n",
       " 'Instituto Ricerche Solari Locarno - IRSOL': 'TI',\n",
       " 'Interkant. Hochschule für Heilpädagogik ZH - HfH': 'ZH',\n",
       " 'KOF - Konjunkturforschungsstelle ETH Zürich': 'ZH',\n",
       " 'Kalaidos Fachhochschule Departement Gesundheit, Fachhochschule Kalaidos - FHKD': 'ZH',\n",
       " 'Kantonsspital St. Gallen - KSPSG': 'SG',\n",
       " 'Kinderspital Zürich Universitäts-Kinderklinik': 'ZH',\n",
       " 'Klima- und Umweltphysik Physikalisches Institut Universität Bern': 'BE',\n",
       " 'Klinik für Gastroenterologie und Hepatologie Departement Innere Medizin Universitätsspital Zürich': 'ZH',\n",
       " 'Klinik für Geburtshilfe Departement Frauenheilkunde Universitätsspital Zürich': 'ZH',\n",
       " 'Klinik für Immunologie Departement Innere Medizin Universitätsspital Zürich': 'ZH',\n",
       " 'Klinik für Kardiologie Bereich Medizin Universitätsspital Basel': 'BS',\n",
       " 'Klinik für Klinische Pharmakologie und Toxikologie Universitätsspital Zürich': 'ZH',\n",
       " 'Klinik für Nuklearmedizin Departement Medizinische Radiologie Universitätsspital Zürich': 'ZH',\n",
       " 'Klinik für Onkologie Bereich Innere Medizin-Onkologie Universitätsspital Zürich': 'ZH',\n",
       " 'Klinik für Orthopädische Chirurgie Inselspital Universität Bern': 'BE',\n",
       " 'Klinische Psychologie und Psychotherapie Psychologisches Institut Universität Zürich': 'ZH',\n",
       " 'Kriminologisches Institut Universität Zürich': 'ZH',\n",
       " 'Lab. for Chem. a. Mineralog. Crystallography University of Bern': 'BE',\n",
       " 'Lab. for Laser Spectroscopy and Environmental Sensing, Inst. of Quantum Electronics, ETH-Hönggerberg': 'ZH',\n",
       " 'Labor für Sensomotorische Systeme ETH Zürich': 'ZH',\n",
       " 'Laboratoire de Biologie Cellulaire Clinique et Policlinique de Dermatologie Hôpital Cantonal Universitaire-HCUCE': 'VD',\n",
       " 'Laboratoire de Biologie de la Reproduction et du Développement c/o M. le Prof. Maurice Auroux': 'VS',\n",
       " 'Laboratoire de Neurologie et Imagerie de la Cognition Dépt. de Neurosciences Fondamentales': 'GE',\n",
       " \"Laboratoire de Systèmes Intégrés Département d'Electricité (DE) EPFL-Ecublens\": 'VD',\n",
       " 'Laboratoire de physique de la matière vivante EPFL - SB - IPSB - LPMV': 'VD',\n",
       " 'Laboratorium für Festkörperphysik ETH Zürich': 'ZH',\n",
       " 'Laboratorium für Kristallographie ETH Zürich': 'ZH',\n",
       " 'Laboratorium für Organische Chemie ETH Zürich': 'ZH',\n",
       " 'Lehrstuhl für Logistikmanagement Universität St. Gallen': 'SG',\n",
       " 'Lehrstuhl für Organisationspsychologie Universität St. Gallen': 'SG',\n",
       " 'Limnologische Station Institut für Pflanzenbiologie Universität Zürich': 'ZH',\n",
       " 'MTEC ETH Zürich': 'ZH',\n",
       " 'Medizinische Universitätsklinik Kantonsspital Bruderholz': 'BL',\n",
       " 'Musikwissenschaftliches Institut Universität Zürich': 'ZH',\n",
       " 'NCCR Nanoscale Science Universität Basel': 'BS',\n",
       " 'NCCR Structural Biology Institut für Biochemie Universität Zürich': 'ZH',\n",
       " 'Naturwissenschaftsdidaktik Sekundarstufe Pädagogische Hochschule Fachhochschule Nordwestschweiz, Pädagogische Hochschule Nordwestschweiz - PHFHNW': 'BL',\n",
       " 'Neurologische Klinik Universitätsspital Zürich': 'ZH',\n",
       " 'Neuropsychologische Abteilung Neurologische Klinik Universitätsspital Zürich': 'ZH',\n",
       " 'Oberflächentechnik ETH Zürich': 'ZH',\n",
       " 'Observatoire Cantonal de Neuchâtel': 'NE',\n",
       " 'Organisch-chemisches Institut Universität Zürich': 'ZH',\n",
       " 'Organische Chemie Departement Chemie Universität Basel': 'BS',\n",
       " 'Paul Scherrer Institut - PSI': 'AG',\n",
       " 'Persönlichkeitspsychologie und Diagnostik Psychologisches Institut Universität Zürich': 'ZH',\n",
       " 'Philosophisches Seminar Universität Basel': 'BS',\n",
       " 'Physikal.-Meteorolog. Observatorium Davos - PMOD': 'GR',\n",
       " 'Physikalische Chemie Departement Chemie Universität Basel': 'BS',\n",
       " 'Physiologisches Institut Universität Zürich': 'ZH',\n",
       " 'Politikwissenschaftliches Seminar der Universität Luzern': 'LU',\n",
       " 'Projekte + Ausbildung Soziales Gesundheit Rehabilitation': 'ZH',\n",
       " 'Psychologisches Institut Universität Zürich Klinische Psychologie': 'ZH',\n",
       " 'Psychopathologie Psychologisches Institut Universität Zürich': 'ZH',\n",
       " 'Psychotherapeutische Abteilung Universitäre Psychiatrische Kliniken UPK': 'BS',\n",
       " 'Pädagogische Hochschule Bern - PHBern': 'BE',\n",
       " 'Pädagogische Hochschule FHNW, Pädagogische Hochschule Nordwestschweiz - PHFHNW': 'BL',\n",
       " 'Pädagogische Hochschule Fachhochschule Nordwestschweiz, Pädagogische Hochschule Nordwestschweiz - PHFHNW': 'BS',\n",
       " 'Pädagogische Hochschule Graubünden - PHGR': 'GR',\n",
       " 'Pädagogische Hochschule Luzern - PHLU': 'LU',\n",
       " 'Pädagogische Hochschule Schaffhausen - PHSH': 'SH',\n",
       " 'Pädagogische Hochschule Schwyz - PHSZ': 'SZ',\n",
       " 'Pädagogische Hochschule St. Gallen - PHSG': 'SG',\n",
       " 'Pädagogische Hochschule Thurgau - PHTG': 'TG',\n",
       " 'Pädagogische Hochschule Wallis - PHVS': 'VS',\n",
       " 'Pädagogische Hochschule Zug - PHZG': 'ZG',\n",
       " 'Pädagogische Hochschule Zürich - PHZFH': 'ZH',\n",
       " 'Pädagogisches Institut Universität Zürich': 'ZH',\n",
       " 'Romanisches Seminar Universität Zürich': 'ZH',\n",
       " 'SSED FPSE Université de Genève': 'GE',\n",
       " 'SUP della Svizzera italiana - SUPSI': 'TI',\n",
       " 'Schweiz. Hochschule für Logopädie Rorschach - SHLR': 'SG',\n",
       " 'Schweiz. Institut für Klein- und Mittelunternehmen (KMU-HSG) Universität St. Gallen': 'SG',\n",
       " 'Schweiz. Institut für Kunstwissenschaft - SIK-ISEA': 'ZH',\n",
       " \"Section d'Histoire Faculté des Lettres Université de Lausanne\": 'VD',\n",
       " 'Section de Philosophie Faculté des Lettres Université de Lausanne': 'VD',\n",
       " 'Section de langues et civilisations slaves Faculté des lettres Université de Lausanne': 'VD',\n",
       " \"Section de philosophie et d'histoire Faculté des lettres Université de Genève\": 'GE',\n",
       " \"Section des Sciences de la Terre et de l'environnement Université de Genève\": 'GE',\n",
       " 'Seminar für Angewandte Mathematik ETH Zürich': 'ZH',\n",
       " \"Service d'Immunologie et d'Allergologie Département de Médecine Interne Hôpitaux Universitaires de Genève\": 'GE',\n",
       " 'Service de Cardiologie Département de Médecine Interne Hôpitaux Universitaires de Genève': 'GE',\n",
       " 'Soziologisches Seminar Universität Luzern': 'LU',\n",
       " 'Staatsunabh. Theologische Hochschule Basel - STHB': 'BS',\n",
       " 'Station fédérale de recherches agronomiques de Changins': 'VD',\n",
       " 'Swiss Institute of Bioinformatics - SIB': 'GE',\n",
       " 'Swiss Tropical and Public Health Institute Medical Services and Diagnostic Universität Basel': 'BS',\n",
       " 'Theologische Fakultät Universität Basel': 'BS',\n",
       " 'Theologische Hochschule Basel': 'BS',\n",
       " 'Transplantationsimmunologie und Nephrologie Universitätsspital Basel': 'BS',\n",
       " 'UNI: AO Research Institute   Davos CH': 'GR',\n",
       " 'UNI: Archivio cantonale   Bellinzona CH': 'TI',\n",
       " 'UNI: BIGA   Bern CH': 'BE',\n",
       " 'UNI: BIGA Zentralstelle für regionale Wirt- schaftsförderung Bern CH': 'BE',\n",
       " 'UNI: Basel Mission Archiv  Basel CH': 'BS',\n",
       " 'UNI: Basel Universität   Basel CH': 'BS',\n",
       " 'UNI: Bibliothèque Bodmer  Cologny CH': 'GE',\n",
       " 'UNI: Bibliothèque publique et universitaire Genève CH': 'GE',\n",
       " 'UNI: Bibliothèque publique et universitaire de Genève  Genève CH': 'GE',\n",
       " 'UNI: Blutspendedienst SRK Zentrallaboratoriu m  Bern CH': 'BE',\n",
       " 'UNI: Bureau Intern. du Travail Département d e la sécurité sociale  Genève CH': 'GE',\n",
       " 'UNI: CERN   Genève CH': 'GE',\n",
       " 'UNI: CERN / Organisation Européenne pour la recherche Nucléaire Genève CH': 'GE',\n",
       " 'UNI: CERN Division ECP Genève CH': 'GE',\n",
       " 'UNI: CERN-TH Division   Genève CH': 'GE',\n",
       " 'UNI: Commissione Svizzera Ricerca del Quater nario  Morbio Inferiore CH': 'TI',\n",
       " 'UNI: Commissione Svizzera per la Ricerca del Quaternario Morbio Inferiore CH': 'TI',\n",
       " 'UNI: Departement of Environmental Microbiolo gy Dübendorf CH': 'ZH',\n",
       " 'UNI: Department of Chemistry and Biochemistr y Bern CH': 'BE',\n",
       " 'UNI: Department of Physiology, University of Basel 4051 Basel CH': 'BS',\n",
       " 'UNI: Dr. P. Manternach   Untersiggenthal CH': 'AG',\n",
       " \"UNI: Dépt de la Protection Sociale Division de la Famille et de l'Enfance Dmitrov RUS\": 'NE',\n",
       " 'UNI: Dübendorf CH': 'ZH',\n",
       " 'UNI: EAWAG  8600 Dübendorf CH': 'ZH',\n",
       " 'UNI: EMPA  Dübendorf CH': 'ZH',\n",
       " 'UNI: EPF Département de Physique  Lausanne C H': 'VD',\n",
       " 'UNI: EPF-L Institut de Physique Appliquée  E cublens CH': 'VD',\n",
       " 'UNI: EPF-L Institut de statique et structure s  Lausanne CH': 'VD',\n",
       " 'UNI: EPF-Lausanne Département de Physique  L ausanne CH': 'VD',\n",
       " 'UNI: EPF-Lausanne Département de chimie  Lau sanne CH': 'VD',\n",
       " 'UNI: EPF-Lausanne Département de physique, o ptoélectroni- que quantique Lausanne CH': 'VD',\n",
       " 'UNI: EPF-Lausanne Département de physique, o troélectroni- que quantique Lausanne CH': 'VD',\n",
       " 'UNI: EPF-Lausanne Départment de Chimie  Laus anne CH': 'VD',\n",
       " 'UNI: EPF-Lausanne IMHEF  Lausanne CH': 'VD',\n",
       " 'UNI: EPF-Lausanne IRRMA  Lausanne CH': 'VD',\n",
       " 'UNI: EPF-Lausanne Institut de Machines Hydra uliques et de Mécanique des Fluides Lausanne CH': 'VD',\n",
       " 'UNI: EPF-Lausanne Institut de microtechnique Lausanne CH': 'VD',\n",
       " 'UNI: EPF-Lausanne Institut de physique appli quée  Lausanne CH': 'VD',\n",
       " 'UNI: EPF-Lausanne Istituto di Fisica Applica ta  Lausanne CH': 'VD',\n",
       " 'UNI: EPF-Lausanne Laboratoire de métallurgie physique  Lausanne CH': 'VD',\n",
       " 'UNI: EPFL   Lausanne CH': 'VD',\n",
       " 'UNI: EPFL  1015 Lausanne CH': 'VD',\n",
       " 'UNI: EPFL  Lausanne CH': 'VD',\n",
       " 'UNI: EPFL Département des Matériaux Laborato ire de Technologie Lausanne CH': 'VD',\n",
       " 'UNI: EPFL Dépt. de Génie Civil  Lausanne CH': 'VD',\n",
       " 'UNI: EPFL Institut de Génie Atomique  Lausan ne CH': 'NE',\n",
       " 'UNI: EPFL Institut de chimie physique  Lausa nne CH': 'VD',\n",
       " 'UNI: EPFL Institut de physique expérimentale Lausanne CH': 'VD',\n",
       " 'UNI: ETH   Zürich CH': 'ZH',\n",
       " 'UNI: ETH  Zürich CH': 'ZH',\n",
       " 'UNI: ETH-Hönggerberg Institut für Biophysik Zürich CH': 'ZH',\n",
       " 'UNI: ETH-Z Mikrobiologisches Institut  Züric h CH': 'VS',\n",
       " 'UNI: ETH-Zentrum Institut für Geschichte  Zü rich CH': 'ZH',\n",
       " 'UNI: ETH-Zürich   Zürich CH': 'ZH',\n",
       " 'UNI: ETH-Zürich Analytische Chemie  Zürich C H': 'ZH',\n",
       " 'UNI: ETH-Zürich Dept. Chemie  Zürich CH': 'ZH',\n",
       " 'UNI: ETH-Zürich IPS-Interdisciplinary Projec t Center for Supercomputing Zürich CH': 'ZH',\n",
       " 'UNI: ETH-Zürich Insitut für Baustatistik und Konstruktion Zürich CH': 'ZH',\n",
       " 'UNI: ETH-Zürich Institut für Angewandte Phys ik  Zürich CH': 'ZH',\n",
       " 'UNI: ETH-Zürich Institut für Baustoffe  Züri ch CH': 'ZH',\n",
       " 'UNI: ETH-Zürich Institut für Biochemie  Züri ch CH': 'ZH',\n",
       " 'UNI: ETH-Zürich Institut für Biotechnologie Zürich CH': 'ZH',\n",
       " 'UNI: ETH-Zürich Institut für Feldtheorie und Höchstfrequenztechnik Zürich CH': 'ZH',\n",
       " 'UNI: ETH-Zürich Institut für Geschichte und Theorie der Architektur Zürich CH': 'ZH',\n",
       " 'UNI: ETH-Zürich Institut für Hydromechanik u nd Wasser- wirtschaft Zürich CH': 'ZH',\n",
       " 'UNI: ETH-Zürich Institut für Lebensmittelwis senschaft  Zürich CH': 'ZH',\n",
       " 'UNI: ETH-Zürich Institut für Nutztierwissens chaften  Zürich CH': 'ZH',\n",
       " 'UNI: ETH-Zürich Institut für Nutztierwissens chaften, Physiologie und Tierhaltung Zürich CH': 'ZH',\n",
       " 'UNI: ETH-Zürich Institut für Orts-, Regional - und Landesplanung Zürich CH': 'ZH',\n",
       " 'UNI: ETH-Zürich Institut für Pflanzenwissens chaften  Zürich CH': 'ZH',\n",
       " 'UNI: ETH-Zürich Institut für Quantenelektron ik  Zürich CH': 'ZH',\n",
       " 'UNI: ETH-Zürich Institut für Signal - und In formations- verbreitung Zürich CH': 'ZH',\n",
       " 'UNI: ETH-Zürich Institut für terrestrische O ekologie  Zürich CH': 'ZH',\n",
       " 'UNI: ETH-Zürich Institute of Mechanics  Züri ch CH': 'ZH',\n",
       " 'UNI: ETH-Zürich Lab. für Organische Chemie E TH-Zentrum Zürich CH': 'ZH',\n",
       " 'UNI: ETH-Zürich Lab. für Organische Chemie Zürich CH': 'ZH',\n",
       " 'UNI: ETH-Zürich Lab. für Physikalische Chemi e  Zürich CH': 'ZH',\n",
       " 'UNI: ETH-Zürich Laboratorium für Organische Chemie ETH-Zentrum Zürich CH': 'ZH',\n",
       " 'UNI: ETH-Zürich Laboratorium für organische Chemie  Zürich CH': 'ZH',\n",
       " 'UNI: ETH-Zürich Mikrobiologisches Institut Zürich CH': 'ZH',\n",
       " 'UNI: ETH-Zürich Organisch-chemisches Laborat orium  Zürich CH': 'ZH',\n",
       " 'UNI: ETH-Zürich Theoretische Physik  Zürich CH': 'ZH',\n",
       " 'UNI: ETHZ   Zürich CH': 'ZH',\n",
       " 'UNI: ETHZ Laboratorium für organische Chemie Zürich CH': 'ZH',\n",
       " 'UNI: Ecole Polytechnique Fédérale Départemen t de Physique  1015 Lausanne CH': 'VD',\n",
       " 'UNI: Ecole Polytechnique Fédérale Lab. de Mé tallurgie physique  Lausanne CH': 'VD',\n",
       " 'UNI: Eidg. Forschungsanstalt Dept Zoologie W ädenswil CH': 'LU',\n",
       " 'UNI: Eidg. Forschungsanstalt für Milchwirtsc haft FAM  Bern CH': 'BE',\n",
       " 'UNI: Eidg. Forschungsanstalt für Obst-, Wein - und Gartenbau  Wädenswil CH': 'ZH',\n",
       " 'UNI: Eidg. Forschungsanstalt für landw. Pfla nzenbau Zürich CH': 'ZH',\n",
       " 'UNI: Eidg. Techn. Hochschule Institut für Ve rfahrens- und Kältetechnik Zürich CH': 'ZH',\n",
       " 'UNI: Eidgenössische Technische Hochschule Ve rkehrsplanung + Transporttechnik Zürich CH': 'ZH',\n",
       " 'UNI: F. Hoffmann-La Roche Ltd. Pharma Resear ch - New Technologies  Basel CH': 'BS',\n",
       " \"UNI: Fondation Hardt pour l'Etude de l'Antiq uité Classique Vandoeuvres CH\": 'GE',\n",
       " \"UNI: Fondation Hardt pour l'étude de l'Antiq uité classique  Vandoeuvres CH\": 'GE',\n",
       " \"UNI: Fondation Hardt pour l'étude de l'Antiq uité classique  Vandoeuvres GB\": 'GE',\n",
       " \"UNI: Fondation Hardt pour l'étude de l'Antiq uité classique Vandoeuvres CH\": 'GE',\n",
       " \"UNI: Fondation Hardt pour l'étude de l'antiq uité classique Vandoeuvres CH\": 'GE',\n",
       " 'UNI: Friedrich Miescher Institut  Basel CH': 'BS',\n",
       " 'UNI: Friedrich Miescher-Institut   Basel CH': 'BS',\n",
       " 'UNI: Friedrich Miescher-Institut  Basel CH': 'BS',\n",
       " 'UNI: Friedrich-Miescher Institut   Basel CH': 'BS',\n",
       " 'UNI: Friedrich-Miescher-Institut   Basel CH': 'BS',\n",
       " 'UNI: Hôpital Cantonal Universitaire de Genèv e Genève CH': 'GE',\n",
       " \"UNI: Hôpital cant. universitaire Centre d'in formatique hospitalière  Genève CH\": 'GE',\n",
       " 'UNI: IBM Research Division   Zürich CH': 'ZH',\n",
       " 'UNI: ISREC Institut Suisse de Recherche Expé rimen- tale sur le Cancer Epalinges CH': 'VD',\n",
       " 'UNI: Iniversität Zürich Psychologisches Inst itut  Zürich CH': 'ZH',\n",
       " 'UNI: Inselspital  Bern CH': 'BE',\n",
       " 'UNI: Inselspital Bern  Bern CH': 'BE',\n",
       " 'UNI: Inselspital Bern Institut für klinische Immunologie  Bern CH': 'BE',\n",
       " 'UNI: Institut Fremdenverkehr + Verkehrswirt- schaft - Hochschule St. Gallen St. Gallen C H': 'SG',\n",
       " 'UNI: Institut suisse de droit comparé Dorign y Lausanne CH': 'VD',\n",
       " 'UNI: Institut suisse de recherches expérimen tales sur le cancer  Epalinges CH': 'VD',\n",
       " 'UNI: Institut suisses de rech. sur le cancer Epalinges CH': 'VD',\n",
       " 'UNI: Kantonsspital Basel Abt. Neurobiologie Basel CH': 'BS',\n",
       " 'UNI: Kantonsspital Basel Departement Innere Medizin  Basel CH': 'BS',\n",
       " 'UNI: Kantonsspital Basel Spitalstrasse 21 Ba sel CH': 'BS',\n",
       " 'UNI: Kunstmuseum Basel Oeffentliche Kunstsam mlung  Basel CH': 'BS',\n",
       " 'UNI: Kunstmuseum Bern   Bern CH': 'BE',\n",
       " 'UNI: Marie Meierhofer-Institut für das Kind Zürich CH': 'ZH',\n",
       " 'UNI: McMaster University Department of Biolo gy  Hamilton CDN': 'GE',\n",
       " 'UNI: Mikrobiologisches Institut ETH-Zentrum Zürich CH': 'ZH',\n",
       " 'UNI: Museo cantonale di Storia   Lugano CH': 'TI',\n",
       " 'UNI: Naturhistorisches Museum   Bern CH': 'BE',\n",
       " 'UNI: Observatoire cantonal de Neuchâtel  Neu châtel CH': 'NE',\n",
       " 'UNI: Ospedale La Carità Ospedale Regionale d i Locarno  Locarno CH': 'TI',\n",
       " 'UNI: Pro Grigioni Italiano  Chur CH': 'GR',\n",
       " 'UNI: Schweiz. Baumuster-Centrale  Zürich CH': 'ZH',\n",
       " 'UNI: Schweiz. Bundesarchiv   Bern CH': 'BE',\n",
       " 'UNI: Schweiz. Fachstelle für Alkoholprobleme Lausanne CH': 'VD',\n",
       " 'UNI: Schweiz. Meteorologische Anstalt Krähbü hlstrasse 58 Zürich CH': 'ZH',\n",
       " 'UNI: Schweiz. Osteuropa-Bibliothek   Bern CH': 'BE',\n",
       " 'UNI: Schweiz. Verband für Berufsberatung Eid mattstrasse 51 Zürich CH': 'ZH',\n",
       " 'UNI: Schweizerdeutsches Wörterbuch Schweizer isches Idiotikon  Zürich CH': 'ZH',\n",
       " 'UNI: Schweizerische Osteuropa-Bibliothek Jub iläumsstrasse 41 Bern CH': 'BE',\n",
       " 'UNI: Schweizerisches Landesmuseum Sektion Ur - und Frühgeschichte  Zürich CH': 'ZH',\n",
       " 'UNI: Stiftung Arbeitszukunft Kontaktstelle A rbeit - Beruf - Ausbil- dung Meilen CH': 'ZH',\n",
       " 'UNI: Stiftung Schweizerische Osteuropa-Bibli othek  Bern CH': 'BE',\n",
       " 'UNI: Univeristät Zürich Organisch-Chemisches Institut  Zürich CH': 'ZH',\n",
       " 'UNI: University Hospital Zürich   Zürich CH': 'ZH',\n",
       " 'UNI: University of Geneva Department of Nucl ear and Particle Physics Geneva CH': 'GE',\n",
       " 'UNI: University of Geneva Dept of Theoretica l Physics  Geneva CH': 'GE',\n",
       " 'UNI: University of Geneva School of Dental M edicine 19, rue Barthelemy-Menn Geneva CH': 'GE',\n",
       " 'UNI: University of Zürich   Zürich CH': 'ZH',\n",
       " 'UNI: Universität Basel Aegyptologisches Semi nar  Basel CH': 'BS',\n",
       " 'UNI: Universität Basel Archäologisches Semin ar  4056 Basel CH': 'BS',\n",
       " 'UNI: Universität Basel Astronomisches Instit ut  Basel CH': 'BS',\n",
       " 'UNI: Universität Basel Biozentrum  Basel CH': 'BS',\n",
       " 'UNI: Universität Basel Biozentrum / Abteilun g Mikrobiologie Klingelbergstrasse 70 4056 B asel CH': 'BS',\n",
       " 'UNI: Universität Basel Deutsches Seminar  Ba sel CH': 'BS',\n",
       " 'UNI: Universität Basel Deutsches Seminar Eng elhof / Nadelberg 4 Basel CH': 'BS',\n",
       " 'UNI: Universität Basel Frey-Grynaeisches Ins titut  Basel CH': 'BS',\n",
       " 'UNI: Universität Basel Geographisches Instit ut  Basel CH': 'BS',\n",
       " 'UNI: Universität Basel Geographisches Instit ut Klingelbergstrasse 16 Basel CH': 'BS',\n",
       " 'UNI: Universität Basel Geologisch-Paläontolo gisches Institut  Basel CH': 'BS',\n",
       " 'UNI: Universität Basel Historisches Institut Basel CH': 'BS',\n",
       " 'UNI: Universität Basel Historisches Seminar Basel CH': 'BS',\n",
       " 'UNI: Universität Basel Institut für Statisti k und Oekonometrie Basel CH': 'BS',\n",
       " 'UNI: Universität Basel Psychiatrische Univer sitätsklinik  Basel CH': 'BS',\n",
       " 'UNI: Universität Basel Seminar für Klassisch e Philologie  Basel CH': 'BS',\n",
       " 'UNI: Universität Basel Zoologisches Institut Basel CH': 'BS',\n",
       " 'UNI: Universität Bern   Bern CH': 'BE',\n",
       " 'UNI: Universität Bern Botanische Institute P flanzenphysiologisches Institut Bern CH': 'BE',\n",
       " 'UNI: Universität Bern Evangelisch-theologisc hes Seminar  Bern CH': 'BE',\n",
       " 'UNI: Universität Bern Geografisches Institut Bern CH': 'BE',\n",
       " 'UNI: Universität Bern Historisches Institut Abteilung für Schweizer Geschichte Bern CH': 'BE',\n",
       " 'UNI: Universität Bern Institut für Allgemein e Mikrobiologie  Bern CH': 'BE',\n",
       " 'UNI: Universität Bern Institut für Pädagogik Bern CH': 'BE',\n",
       " 'UNI: Universität Bern Institut für anorganis che Chemie  Bern CH': 'BE',\n",
       " 'UNI: Universität Bern Institut für anorganis che und physika- lische Chemie Bern CH': 'BE',\n",
       " 'UNI: Universität Bern Institut für organisch e Chemie  Bern CH': 'BE',\n",
       " 'UNI: Universität Bern Laboratorium für chemi sche und minera- logische Kristallographie B ern CH': 'BE',\n",
       " 'UNI: Universität Bern M.E. Müller Institut f ür Biomechanik  Bern CH': 'BE',\n",
       " 'UNI: Universität Bern M.E. Müller-Institut f ür Biomechanik  Bern CH': 'BE',\n",
       " 'UNI: Universität Bern Physiologisches Instit ut  Bern CH': 'BE',\n",
       " 'UNI: Universität Bern Zoologisches Institut Abteilung Neurobiologie Bern CH': 'BE',\n",
       " 'UNI: Universität Freiburg   Freiburg CH': 'FR',\n",
       " 'UNI: Universität Freiburg Heilpädagogisches Institut  Freiburg CH': 'FR',\n",
       " 'UNI: Universität Freiburg Philosophisches Se minar  Freiburg CH': 'FR',\n",
       " 'UNI: Universität Freiburg Physikalisches Ins titut  Freiburg CH': 'FR',\n",
       " 'UNI: Universität Freiburg Physikalisches-che misches Institut  Freiburg CH': 'FR',\n",
       " 'UNI: Universität Freiburg Psychologisches In stitut  Freiburg CH': 'FR',\n",
       " 'UNI: Universität Freiburg Pädagogisches Inst itut  Freiburg CH': 'FR',\n",
       " 'UNI: Universität Fribourg Institut für Physi kalische Chemie  Fribourg CH': 'FR',\n",
       " 'UNI: Universität Fribourg Rechtswissenschaft liche Fakultät  Fribourg CH': 'FR',\n",
       " 'UNI: Universität Lausanne Institut für organ ische Chemie  Lausanne CH': 'VD',\n",
       " 'UNI: Universität St. Gallen Schweizerisches Institut für gewerb- liche Wirtschaft St. Ga llen CH': 'SG',\n",
       " 'UNI: Universität Zürich   Zürich CH': 'ZH',\n",
       " 'UNI: Universität Zürich Anorganisch-chemisch es Institut  Zürich CH': 'ZH',\n",
       " 'UNI: Universität Zürich Anorganisch-chemisch es Institut Winterthurerstrasse 190 Zürich C H': 'ZH',\n",
       " 'UNI: Universität Zürich Anorganisches-chemis ches Institut Winterthurerstrasse 190 Zürich CH': 'ZH',\n",
       " 'UNI: Universität Zürich Departement Patholog ie Institut für Neuropathologie Zürich CH': 'ZH',\n",
       " 'UNI: Universität Zürich Deutsches Seminar  Z ürich CH': 'ZH',\n",
       " 'UNI: Universität Zürich Deutsches Seminar Li nguistische Abteilung Zürich CH': 'ZH',\n",
       " 'UNI: Universität Zürich Institut für Informa tik  Zürich CH': 'ZH',\n",
       " 'UNI: Universität Zürich Institut für Pflanze nbiologie  Zürich CH': 'ZH',\n",
       " 'UNI: Universität Zürich Institut für Pflanze nbiologie Limnologische Station Kilchberg CH': 'ZH',\n",
       " 'UNI: Universität Zürich Institut für empiris che Wirtschafts- forschung Zürich CH': 'ZH',\n",
       " 'UNI: Universität Zürich Institute of Veterin ary Pathology  Zürich CH': 'ZH',\n",
       " 'UNI: Universität Zürich Lab. für organische Chemie  Zürich CH': 'ZH',\n",
       " 'UNI: Universität Zürich Organisch-Chemisches Institut  Zürich CH': 'ZH',\n",
       " 'UNI: Universität Zürich Paläontologisches In stitut  Zürich CH': 'ZH',\n",
       " 'UNI: Universität Zürich Pharmakologisches In stitut  Zürich CH': 'ZH',\n",
       " 'UNI: Universität Zürich Philosophisches Semi nar  Zürich CH': 'ZH',\n",
       " 'UNI: Universität Zürich Physik-Institut  Zür ich CH': 'ZH',\n",
       " 'UNI: Universität Zürich Physikalisches Insti tut  Zürich CH': 'ZH',\n",
       " 'UNI: Universität Zürich Physiologisches Inst itut  Zürich CH': 'ZH',\n",
       " 'UNI: Universität Zürich Slavisches Seminar Zürich CH': 'ZH',\n",
       " 'UNI: Universität Zürich Universitätsspital Zürich CH': 'ZH',\n",
       " 'UNI: Universität Zürich Wirtschaftswissensch aftliches Institut  Zürich CH': 'ZH',\n",
       " 'UNI: Universität Zürich Zahnärztliches Insti tut  Zürich CH': 'ZH',\n",
       " 'UNI: Universität Zürich Zoologisches Institu t  Zürich CH': 'ZH',\n",
       " 'UNI: Universität Zürich-Irchel Dept. of Comp uter Sciences  Zürich CH': 'ZH',\n",
       " 'UNI: Universität Zürich-Irchel Geographische s Institut  Zürich CH': 'ZH',\n",
       " 'UNI: Universität von Freiburg Institut für I nformatik  Freiburg CH': 'FR',\n",
       " 'UNI: Universitätskliniken Kantonsspital Base l Institut für Pathologie Basel CH': 'BS',\n",
       " 'UNI: Universitätsspital Zürich Departement f ür Frauenheilkunde Klinik und Poliklinik für Geburtshilfe Zürich CH': 'ZH',\n",
       " 'UNI: Universitätsspital Zürich Klinik und Po liklinik für Geburtshilfe  Zürich CH': 'ZH',\n",
       " 'UNI: Université   Lausanne CH': 'VD',\n",
       " 'UNI: Université de Fribourg   Fribourg CH': 'FR',\n",
       " 'UNI: Université de Fribourg Institut de chim ie organique  Fribourg CH': 'FR',\n",
       " 'UNI: Université de Genève   Genève CH': 'GE',\n",
       " 'UNI: Université de Genève Centre Médical Uni versitaire (CMU)  Genève CH': 'GE',\n",
       " \"UNI: Université de Genève Centre universitai re d'étude des problèmes de l'énergie Genève CH\": 'GE',\n",
       " 'UNI: Université de Genève Department of Cond ensed Matter Physics  Genève CH': 'GE',\n",
       " 'UNI: Université de Genève Dept. de physique de la matière condensée Genève CH': 'GE',\n",
       " 'UNI: Université de Genève Département de Pat hologie  Genève CH': 'GE',\n",
       " 'UNI: Université de Genève Département de bio chimie médicale  Genève CH': 'GE',\n",
       " 'UNI: Université de Genève Département de chi mie minérale, analy- tique et appliquée Genè ve CH': 'GE',\n",
       " 'UNI: Université de Genève Département de chi mie minérale, analytique et appliquée Genève CH': 'GE',\n",
       " 'UNI: Université de Genève Département de pha rmacologie  Genève CH': 'GE',\n",
       " 'UNI: Université de Genève Dépt de Pathologie CMU Genève CH': 'GE',\n",
       " 'UNI: Université de Genève Dépt de physique n ucléaire et corpusculaire Genève CH': 'GE',\n",
       " 'UNI: Université de Genève Dépt. de chimie mi nérale analytique et appliquée Genève CH': 'GE',\n",
       " 'UNI: Université de Genève Faculté de Droit C ETEL Genève CH': 'GE',\n",
       " 'UNI: Université de Genève Faculté de Droit D épt de Droit pénal Genève CH': 'GE',\n",
       " 'UNI: Université de Genève Faculté de Droit Genève CH': 'GE',\n",
       " 'UNI: Université de Genève Faculté de Médecin e  Genève CH': 'GE',\n",
       " 'UNI: Université de Genève Faculté des Scienc es Section de Mathématiques Genève CH': 'GE',\n",
       " 'UNI: Université de Genève Faculté des scienc es Laboratoire de chimie pharmaceutique Genè ve CH': 'GE',\n",
       " \"UNI: Université de Genève Institut d'Histoir e de la Reformation  Genève CH\": 'GE',\n",
       " 'UNI: Université de Genève Lab. de recherches métaboliques  Genève CH': 'GE',\n",
       " 'UNI: Université de Genève Laboratoire de Bio logie du Vieillissement  CH': 'GE',\n",
       " 'UNI: Université de Genève Laboratoires de Re cherches Métaboliques  Genève CH': 'GE',\n",
       " 'UNI: Université de Genève Section de Pharmac ie  Genève CH': 'GE',\n",
       " 'UNI: Université de Genève Section de Physiqu e  Genève CH': 'GE',\n",
       " 'UNI: Université de Lausanne   Lausanne CH': 'VD',\n",
       " 'UNI: Université de Lausanne CME  Lausanne CH': 'VD',\n",
       " 'UNI: Université de Lausanne Centre Microscop ie Electronique  Lausanne CH': 'VD',\n",
       " 'UNI: Université de Lausanne Centre de Micros copie Electronique  Lausanne CH': 'VD',\n",
       " 'UNI: Université de Lausanne Faculté des Lett res  Lausanne CH': 'VD',\n",
       " 'UNI: Université de Lausanne Faculté des Scie nces Section de Chimie Lausanne CH': 'VD',\n",
       " \"UNI: Université de Lausanne Institut d'arché ologie et d'histoire ancienne Lausanne CH\": 'VD',\n",
       " \"UNI: Université de Lausanne Institut d'étude s politiques et inter- nationales Lausanne C H\": 'VD',\n",
       " 'UNI: Université de Lausanne Institut de Bioc himie  Lausanne CH': 'VD',\n",
       " 'UNI: Université de Lausanne Institut de Chim ie  Lausanne CH': 'VD',\n",
       " 'UNI: Université de Lausanne Institut de Chim ie Faculté de Sciences Lausanne CH': 'VD',\n",
       " 'UNI: Université de Lausanne Institut de Chim ie Organique  Lausanne CH': 'VD',\n",
       " 'UNI: Université de Lausanne Institut de Géol ogie et Paléontologie  Lausanne CH': 'VD',\n",
       " 'UNI: Université de Lausanne Institut de Géol ogie et Pathologie  1015 Lausanne CH': 'VD',\n",
       " 'UNI: Université de Lausanne Institut de Miné ralogie et Pétrographie Lausanne CH': 'VD',\n",
       " 'UNI: Université de Lausanne Institut de Méde cine Légale  Lausanne CH': 'VD',\n",
       " 'UNI: Université de Lausanne Institut de Phar macologie et de Toxicologie Lausanne CH': 'VD',\n",
       " 'UNI: Université de Lausanne Institut de chim ie minérale et analytique Lausanne CH': 'VD',\n",
       " 'UNI: Université de Lausanne Section de Langu es et Cicilisations Orientales Lausanne CH': 'VD',\n",
       " 'UNI: Université de Lausanne Section de chimi e  Lausanne CH': 'VD',\n",
       " 'UNI: Université de Neuchâtel Centre de reche rche sémiologique  Neuchâtel CH': 'NE',\n",
       " 'UNI: Université de Neuchâtel Faculté de Droi t et des Sciences Economiques Neuchâtel CH': 'NE',\n",
       " 'UNI: Université de Neuchâtel Institut de Mic rotechnique  Neuchâtel CH': 'NE',\n",
       " 'UNI: Université de Neuchâtel Institut de Phy sique  Neuchâtel CH': 'NE',\n",
       " 'UNI: Université de Neuchâtel Institut de Psy chologie  2001 Neuchâtel CH': 'NE',\n",
       " 'UNI: Université de Neuchâtel Institut de bot anique  Neuchâtel CH': 'NE',\n",
       " 'UNI: Universiät Bern Institut for Veterinary Bacteriology  Bern CH': 'BE',\n",
       " 'UNI: Verkehrshaus Luzern   Luzern CH': 'LU',\n",
       " \"UNI: Ville de Genève Muséum d'histoire natur elle Département d'entomologie Genève CH\": 'GE',\n",
       " 'UNI: Zentralbibliothek  Zürich CH': 'ZH',\n",
       " 'UNI: Zoological Institute  Neuchâtel CH': 'NE',\n",
       " \"Unite d'oncologie experimentale CHUV - Université de Lausanne\": 'VD',\n",
       " \"Unité d'Ecologie et Evolution Département de Biologie Université de Fribourg\": 'FR',\n",
       " \"Unité d'histoire médiévale Département d'Histoire générale Faculté des Lettres / Université de Genève\": 'GE',\n",
       " 'Unité de Développement en Obstétrique Département Gynécologie et Obstétrique Hôpitaux Universitaires de Genève': 'GE',\n",
       " 'Unité de Musicologie Faculté des Lettres Université de Genève': 'GE',\n",
       " 'Università della Svizzera italiana - USI': 'TI',\n",
       " 'Universitäre Psychiatrische Dienste Bern Universitäts- u. Poliklinik f. Psychiatrie Abteilung für Psychotherapie': 'BE',\n",
       " 'Universität Basel - BS': 'BS',\n",
       " 'Universität Bern - BE': 'BE',\n",
       " 'Universität Bern Dept. Volkswirtschaftslehre Bibliothek': 'BE',\n",
       " 'Universität Luzern - LU': 'LU',\n",
       " 'Universität St. Gallen - SG': 'SG',\n",
       " 'Universität Zürich - ZH': 'ZH',\n",
       " 'Universität Zürich Medizinische Fakultät': 'ZH',\n",
       " 'UniversitätsSpital Zürich Molekulare Innere Medizin Medpol, DIM': 'ZH',\n",
       " 'Universitätsklinik für viszerale Medizin Inselspital Bern': 'BE',\n",
       " 'Université de Fribourg - FR': 'FR',\n",
       " 'Université de Genève': 'GE',\n",
       " 'Université de Genève - GE': 'GE',\n",
       " 'Université de Lausanne - LA': 'VD',\n",
       " 'Université de Neuchâtel - NE': 'NE',\n",
       " 'Urban Mobility Research': 'LU',\n",
       " 'Versuchsstation Eschikon IAS ETH Zürich': 'ZH',\n",
       " 'Zentrum für Business Metrics Universität St. Gallen': 'SG',\n",
       " 'Zentrum für Demokratie Aarau ZDA Universität Zürich': 'ZH',\n",
       " 'Zoologisches Institut Universität Basel': 'BS',\n",
       " 'Zoologisches Institut Universität Zürich-Irchel': 'ZH',\n",
       " 'Zürcher Fachhochschule (ohne PH) - ZFH': 'ZH'}"
      ]
     },
     "execution_count": 31,
     "metadata": {},
     "output_type": "execute_result"
    }
   ],
   "source": [
    "correspondencies_dictionary"
   ]
  },
  {
   "cell_type": "code",
   "execution_count": 33,
   "metadata": {
    "collapsed": false
   },
   "outputs": [
    {
     "data": {
      "text/html": [
       "<div>\n",
       "<table border=\"1\" class=\"dataframe\">\n",
       "  <thead>\n",
       "    <tr style=\"text-align: right;\">\n",
       "      <th></th>\n",
       "      <th>Amount</th>\n",
       "      <th>Canton</th>\n",
       "      <th>Name</th>\n",
       "    </tr>\n",
       "    <tr>\n",
       "      <th>index</th>\n",
       "      <th></th>\n",
       "      <th></th>\n",
       "      <th></th>\n",
       "    </tr>\n",
       "  </thead>\n",
       "  <tbody>\n",
       "    <tr>\n",
       "      <th>0</th>\n",
       "      <td>41022.0</td>\n",
       "      <td>GE</td>\n",
       "      <td>Université de Genève - GE</td>\n",
       "    </tr>\n",
       "    <tr>\n",
       "      <th>1</th>\n",
       "      <td>52627.0</td>\n",
       "      <td>BS</td>\n",
       "      <td>Universität Basel - BS</td>\n",
       "    </tr>\n",
       "    <tr>\n",
       "      <th>2</th>\n",
       "      <td>53009.0</td>\n",
       "      <td>FR</td>\n",
       "      <td>Université de Fribourg - FR</td>\n",
       "    </tr>\n",
       "    <tr>\n",
       "      <th>3</th>\n",
       "      <td>25403.0</td>\n",
       "      <td>FR</td>\n",
       "      <td>Université de Fribourg - FR</td>\n",
       "    </tr>\n",
       "    <tr>\n",
       "      <th>4</th>\n",
       "      <td>47100.0</td>\n",
       "      <td>ZH</td>\n",
       "      <td>Universität Zürich - ZH</td>\n",
       "    </tr>\n",
       "  </tbody>\n",
       "</table>\n",
       "</div>"
      ],
      "text/plain": [
       "        Amount Canton                         Name\n",
       "index                                             \n",
       "0      41022.0     GE    Université de Genève - GE\n",
       "1      52627.0     BS       Universität Basel - BS\n",
       "2      53009.0     FR  Université de Fribourg - FR\n",
       "3      25403.0     FR  Université de Fribourg - FR\n",
       "4      47100.0     ZH      Universität Zürich - ZH"
      ]
     },
     "execution_count": 33,
     "metadata": {},
     "output_type": "execute_result"
    }
   ],
   "source": [
    "df_final['index']=range(df_final.shape[0])\n",
    "df_final=df_final.set_index(['index'])\n",
    "df_final.head()"
   ]
  },
  {
   "cell_type": "markdown",
   "metadata": {},
   "source": [
    "# Folium visualization"
   ]
  },
  {
   "cell_type": "code",
   "execution_count": 34,
   "metadata": {
    "collapsed": true
   },
   "outputs": [],
   "source": [
    "a=df.groupby(df_final.Canton)"
   ]
  },
  {
   "cell_type": "code",
   "execution_count": 35,
   "metadata": {
    "collapsed": true
   },
   "outputs": [],
   "source": [
    "df_group=pd.DataFrame({'Canton':[],'Amount':[]})"
   ]
  },
  {
   "cell_type": "code",
   "execution_count": 36,
   "metadata": {
    "collapsed": false
   },
   "outputs": [
    {
     "data": {
      "text/plain": [
       "['AG',\n",
       " 'BE',\n",
       " 'BL',\n",
       " 'BS',\n",
       " 'FR',\n",
       " 'GE',\n",
       " 'GR',\n",
       " 'JU',\n",
       " 'LU',\n",
       " 'NE',\n",
       " 'SG',\n",
       " 'SH',\n",
       " 'SO',\n",
       " 'SZ',\n",
       " 'TG',\n",
       " 'TI',\n",
       " 'VD',\n",
       " 'VS',\n",
       " 'ZG',\n",
       " 'ZH']"
      ]
     },
     "execution_count": 36,
     "metadata": {},
     "output_type": "execute_result"
    }
   ],
   "source": [
    "list_canton=[]\n",
    "for i,group in a:\n",
    "    list_canton.append(i)\n",
    "    s=group['Amount'].sum()\n",
    "    df_group=df_group.append(pd.DataFrame({'Canton':[i],'Amount':[s]}))\n",
    "list_canton"
   ]
  },
  {
   "cell_type": "code",
   "execution_count": 40,
   "metadata": {
    "collapsed": false
   },
   "outputs": [],
   "source": [
    "canton_list=['ZH','BE','LU','UR','SZ','OW','NW','GL','ZG','FR','SO','BS','BL','SH','AR','AI','SG','GR','AG','TG','TI','VD','VS','NE','GE','JU']"
   ]
  },
  {
   "cell_type": "code",
   "execution_count": 41,
   "metadata": {
    "collapsed": true
   },
   "outputs": [],
   "source": [
    "for i in canton_list:\n",
    "    isin=df_group.Canton.isin([i]).sum()\n",
    "    if not isin:\n",
    "        df_group=df_group.append(pd.DataFrame({'Canton':[i],'Amount':[0]}))"
   ]
  },
  {
   "cell_type": "code",
   "execution_count": 43,
   "metadata": {
    "collapsed": false
   },
   "outputs": [
    {
     "data": {
      "text/html": [
       "<div>\n",
       "<table border=\"1\" class=\"dataframe\">\n",
       "  <thead>\n",
       "    <tr style=\"text-align: right;\">\n",
       "      <th></th>\n",
       "      <th>Amount</th>\n",
       "      <th>Canton</th>\n",
       "    </tr>\n",
       "  </thead>\n",
       "  <tbody>\n",
       "    <tr>\n",
       "      <th>0</th>\n",
       "      <td>1.117257e+08</td>\n",
       "      <td>AG</td>\n",
       "    </tr>\n",
       "    <tr>\n",
       "      <th>0</th>\n",
       "      <td>1.419762e+09</td>\n",
       "      <td>BE</td>\n",
       "    </tr>\n",
       "    <tr>\n",
       "      <th>0</th>\n",
       "      <td>7.437700e+05</td>\n",
       "      <td>BL</td>\n",
       "    </tr>\n",
       "    <tr>\n",
       "      <th>0</th>\n",
       "      <td>1.228967e+09</td>\n",
       "      <td>BS</td>\n",
       "    </tr>\n",
       "    <tr>\n",
       "      <th>0</th>\n",
       "      <td>5.396628e+08</td>\n",
       "      <td>FR</td>\n",
       "    </tr>\n",
       "    <tr>\n",
       "      <th>0</th>\n",
       "      <td>1.635246e+09</td>\n",
       "      <td>GE</td>\n",
       "    </tr>\n",
       "    <tr>\n",
       "      <th>0</th>\n",
       "      <td>1.562881e+07</td>\n",
       "      <td>GR</td>\n",
       "    </tr>\n",
       "    <tr>\n",
       "      <th>0</th>\n",
       "      <td>9.135043e+07</td>\n",
       "      <td>JU</td>\n",
       "    </tr>\n",
       "    <tr>\n",
       "      <th>0</th>\n",
       "      <td>1.064055e+08</td>\n",
       "      <td>LU</td>\n",
       "    </tr>\n",
       "    <tr>\n",
       "      <th>0</th>\n",
       "      <td>4.133214e+08</td>\n",
       "      <td>NE</td>\n",
       "    </tr>\n",
       "    <tr>\n",
       "      <th>0</th>\n",
       "      <td>1.895561e+08</td>\n",
       "      <td>SG</td>\n",
       "    </tr>\n",
       "    <tr>\n",
       "      <th>0</th>\n",
       "      <td>1.231455e+06</td>\n",
       "      <td>SH</td>\n",
       "    </tr>\n",
       "    <tr>\n",
       "      <th>0</th>\n",
       "      <td>5.688957e+07</td>\n",
       "      <td>SO</td>\n",
       "    </tr>\n",
       "    <tr>\n",
       "      <th>0</th>\n",
       "      <td>7.327690e+05</td>\n",
       "      <td>SZ</td>\n",
       "    </tr>\n",
       "    <tr>\n",
       "      <th>0</th>\n",
       "      <td>3.144918e+06</td>\n",
       "      <td>TG</td>\n",
       "    </tr>\n",
       "    <tr>\n",
       "      <th>0</th>\n",
       "      <td>1.349898e+08</td>\n",
       "      <td>TI</td>\n",
       "    </tr>\n",
       "    <tr>\n",
       "      <th>0</th>\n",
       "      <td>2.161601e+09</td>\n",
       "      <td>VD</td>\n",
       "    </tr>\n",
       "    <tr>\n",
       "      <th>0</th>\n",
       "      <td>1.988272e+07</td>\n",
       "      <td>VS</td>\n",
       "    </tr>\n",
       "    <tr>\n",
       "      <th>0</th>\n",
       "      <td>3.275715e+06</td>\n",
       "      <td>ZG</td>\n",
       "    </tr>\n",
       "    <tr>\n",
       "      <th>0</th>\n",
       "      <td>3.475468e+09</td>\n",
       "      <td>ZH</td>\n",
       "    </tr>\n",
       "    <tr>\n",
       "      <th>0</th>\n",
       "      <td>0.000000e+00</td>\n",
       "      <td>UR</td>\n",
       "    </tr>\n",
       "    <tr>\n",
       "      <th>0</th>\n",
       "      <td>0.000000e+00</td>\n",
       "      <td>OW</td>\n",
       "    </tr>\n",
       "    <tr>\n",
       "      <th>0</th>\n",
       "      <td>0.000000e+00</td>\n",
       "      <td>NW</td>\n",
       "    </tr>\n",
       "    <tr>\n",
       "      <th>0</th>\n",
       "      <td>0.000000e+00</td>\n",
       "      <td>GL</td>\n",
       "    </tr>\n",
       "    <tr>\n",
       "      <th>0</th>\n",
       "      <td>0.000000e+00</td>\n",
       "      <td>AR</td>\n",
       "    </tr>\n",
       "    <tr>\n",
       "      <th>0</th>\n",
       "      <td>0.000000e+00</td>\n",
       "      <td>AI</td>\n",
       "    </tr>\n",
       "  </tbody>\n",
       "</table>\n",
       "</div>"
      ],
      "text/plain": [
       "         Amount Canton\n",
       "0  1.117257e+08     AG\n",
       "0  1.419762e+09     BE\n",
       "0  7.437700e+05     BL\n",
       "0  1.228967e+09     BS\n",
       "0  5.396628e+08     FR\n",
       "0  1.635246e+09     GE\n",
       "0  1.562881e+07     GR\n",
       "0  9.135043e+07     JU\n",
       "0  1.064055e+08     LU\n",
       "0  4.133214e+08     NE\n",
       "0  1.895561e+08     SG\n",
       "0  1.231455e+06     SH\n",
       "0  5.688957e+07     SO\n",
       "0  7.327690e+05     SZ\n",
       "0  3.144918e+06     TG\n",
       "0  1.349898e+08     TI\n",
       "0  2.161601e+09     VD\n",
       "0  1.988272e+07     VS\n",
       "0  3.275715e+06     ZG\n",
       "0  3.475468e+09     ZH\n",
       "0  0.000000e+00     UR\n",
       "0  0.000000e+00     OW\n",
       "0  0.000000e+00     NW\n",
       "0  0.000000e+00     GL\n",
       "0  0.000000e+00     AR\n",
       "0  0.000000e+00     AI"
      ]
     },
     "execution_count": 43,
     "metadata": {},
     "output_type": "execute_result"
    }
   ],
   "source": [
    "df_group"
   ]
  },
  {
   "cell_type": "code",
   "execution_count": 45,
   "metadata": {
    "collapsed": true
   },
   "outputs": [],
   "source": [
    "map_osm = folium.Map(location=[47, 7])\n",
    "state_geo = r'ch-cantons.topojson.json'\n",
    "map_osm.choropleth(geo_path=state_geo,key_on='feature.id',topojson='objects.cantons',data=df_group,\n",
    "                   columns=['Canton','Amount'],fill_color='YlGn', fill_opacity=0.7, line_opacity=0.2,\n",
    "                  legend_name='Total grants per canton',\n",
    "                  threshold_scale=[1e05, 1e06, 1e07, 1e08, 1e09,2e09],)\n",
    "map_osm.save('map.html')"
   ]
  },
  {
   "cell_type": "markdown",
   "metadata": {},
   "source": [
    "# Bonus"
   ]
  },
  {
   "cell_type": "code",
   "execution_count": 46,
   "metadata": {
    "collapsed": true
   },
   "outputs": [],
   "source": [
    "french_cantons=['GE','JU','NE','VD']"
   ]
  },
  {
   "cell_type": "code",
   "execution_count": 47,
   "metadata": {
    "collapsed": true
   },
   "outputs": [],
   "source": [
    "italian_cantons=['TI']"
   ]
  },
  {
   "cell_type": "markdown",
   "metadata": {},
   "source": [
    "Bern is mostly german, we considered it as german since most of the projects are in the german-speaking city of Bern\n",
    "The Grisons canton is considered a german-speaking canton.\n",
    "The money given to this canton are not so much compared to the others so the estimate is reasonable."
   ]
  },
  {
   "cell_type": "code",
   "execution_count": 48,
   "metadata": {
    "collapsed": true
   },
   "outputs": [],
   "source": [
    "both_cantons=['FR','VS']"
   ]
  },
  {
   "cell_type": "code",
   "execution_count": 49,
   "metadata": {
    "collapsed": false
   },
   "outputs": [
    {
     "data": {
      "text/html": [
       "<div>\n",
       "<table border=\"1\" class=\"dataframe\">\n",
       "  <thead>\n",
       "    <tr style=\"text-align: right;\">\n",
       "      <th></th>\n",
       "      <th>French</th>\n",
       "      <th>German</th>\n",
       "    </tr>\n",
       "  </thead>\n",
       "  <tbody>\n",
       "    <tr>\n",
       "      <th>0</th>\n",
       "      <td>4.581291e+09</td>\n",
       "      <td>6.893304e+09</td>\n",
       "    </tr>\n",
       "  </tbody>\n",
       "</table>\n",
       "</div>"
      ],
      "text/plain": [
       "         French        German\n",
       "0  4.581291e+09  6.893304e+09"
      ]
     },
     "execution_count": 49,
     "metadata": {},
     "output_type": "execute_result"
    }
   ],
   "source": [
    "french_money=0\n",
    "german_money=0\n",
    "for block in df_group[['Amount','Canton']].itertuples(index=False):\n",
    "    canton=block[1]\n",
    "    money=block[0]\n",
    "    if canton in french_cantons:\n",
    "        french_money+=money\n",
    "    elif canton in both_cantons:\n",
    "        french_money+=money/2\n",
    "        german_money+=money/2\n",
    "    elif canton not in italian_cantons:\n",
    "        german_money+=money\n",
    "\n",
    "rostigraben_df=pd.DataFrame({'French':[french_money],'German':[german_money]})\n",
    "rostigraben_df"
   ]
  },
  {
   "cell_type": "code",
   "execution_count": 51,
   "metadata": {
    "collapsed": false
   },
   "outputs": [
    {
     "name": "stdout",
     "output_type": "stream",
     "text": [
      "The percentage of money given to the French part of Switzerland is 39.9255140529%\n"
     ]
    }
   ],
   "source": [
    "fraction=french_money/(french_money+german_money)\n",
    "print(\"The percentage of money given to the French part of Switzerland is \"+str(fraction*100)+\"%\")"
   ]
  },
  {
   "cell_type": "code",
   "execution_count": null,
   "metadata": {
    "collapsed": true
   },
   "outputs": [],
   "source": []
  }
 ],
 "metadata": {
  "anaconda-cloud": {},
  "kernelspec": {
   "display_name": "Python [Root]",
   "language": "python",
   "name": "Python [Root]"
  },
  "language_info": {
   "codemirror_mode": {
    "name": "ipython",
    "version": 3
   },
   "file_extension": ".py",
   "mimetype": "text/x-python",
   "name": "python",
   "nbconvert_exporter": "python",
   "pygments_lexer": "ipython3",
   "version": "3.5.2"
  }
 },
 "nbformat": 4,
 "nbformat_minor": 0
}
